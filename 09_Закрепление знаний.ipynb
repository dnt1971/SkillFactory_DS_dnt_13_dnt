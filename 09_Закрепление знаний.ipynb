{
 "cells": [
  {
   "cell_type": "code",
   "execution_count": 1,
   "id": "ccc5d1a5",
   "metadata": {},
   "outputs": [
    {
     "name": "stdout",
     "output_type": "stream",
     "text": [
      "pandas 2.3.0, plotly 6.2.0, np 2.2.6\n"
     ]
    }
   ],
   "source": [
    "# Импортируем библиотеки и смотрим версию\n",
    "import pandas as pd\n",
    "import plotly\n",
    "import plotly.express as px\n",
    "import numpy as np\n",
    "print( f\"pandas {pd.__version__}, plotly {plotly.__version__}, np {np.__version__}\" )\n",
    "# pandas 2.3.0, plotly 6.2.0, np 2.2.6"
   ]
  },
  {
   "cell_type": "code",
   "execution_count": 2,
   "id": "ffb67134",
   "metadata": {},
   "outputs": [
    {
     "data": {
      "text/html": [
       "<div>\n",
       "<style scoped>\n",
       "    .dataframe tbody tr th:only-of-type {\n",
       "        vertical-align: middle;\n",
       "    }\n",
       "\n",
       "    .dataframe tbody tr th {\n",
       "        vertical-align: top;\n",
       "    }\n",
       "\n",
       "    .dataframe thead th {\n",
       "        text-align: right;\n",
       "    }\n",
       "</style>\n",
       "<table border=\"1\" class=\"dataframe\">\n",
       "  <thead>\n",
       "    <tr style=\"text-align: right;\">\n",
       "      <th></th>\n",
       "      <th>RowNumber</th>\n",
       "      <th>CustomerId</th>\n",
       "      <th>Surname</th>\n",
       "      <th>CreditScore</th>\n",
       "      <th>Geography</th>\n",
       "      <th>Gender</th>\n",
       "      <th>Age</th>\n",
       "      <th>Tenure</th>\n",
       "      <th>Balance</th>\n",
       "      <th>NumOfProducts</th>\n",
       "      <th>HasCrCard</th>\n",
       "      <th>IsActiveMember</th>\n",
       "      <th>EstimatedSalary</th>\n",
       "      <th>Exited</th>\n",
       "    </tr>\n",
       "  </thead>\n",
       "  <tbody>\n",
       "    <tr>\n",
       "      <th>0</th>\n",
       "      <td>1</td>\n",
       "      <td>15634602</td>\n",
       "      <td>Hargrave</td>\n",
       "      <td>619</td>\n",
       "      <td>France</td>\n",
       "      <td>Female</td>\n",
       "      <td>42</td>\n",
       "      <td>2</td>\n",
       "      <td>0.00</td>\n",
       "      <td>1</td>\n",
       "      <td>1</td>\n",
       "      <td>1</td>\n",
       "      <td>101348.88</td>\n",
       "      <td>1</td>\n",
       "    </tr>\n",
       "    <tr>\n",
       "      <th>1</th>\n",
       "      <td>2</td>\n",
       "      <td>15647311</td>\n",
       "      <td>Hill</td>\n",
       "      <td>608</td>\n",
       "      <td>Spain</td>\n",
       "      <td>Female</td>\n",
       "      <td>41</td>\n",
       "      <td>1</td>\n",
       "      <td>83807.86</td>\n",
       "      <td>1</td>\n",
       "      <td>0</td>\n",
       "      <td>1</td>\n",
       "      <td>112542.58</td>\n",
       "      <td>0</td>\n",
       "    </tr>\n",
       "    <tr>\n",
       "      <th>2</th>\n",
       "      <td>3</td>\n",
       "      <td>15619304</td>\n",
       "      <td>Onio</td>\n",
       "      <td>502</td>\n",
       "      <td>France</td>\n",
       "      <td>Female</td>\n",
       "      <td>42</td>\n",
       "      <td>8</td>\n",
       "      <td>159660.80</td>\n",
       "      <td>3</td>\n",
       "      <td>1</td>\n",
       "      <td>0</td>\n",
       "      <td>113931.57</td>\n",
       "      <td>1</td>\n",
       "    </tr>\n",
       "    <tr>\n",
       "      <th>3</th>\n",
       "      <td>4</td>\n",
       "      <td>15701354</td>\n",
       "      <td>Boni</td>\n",
       "      <td>699</td>\n",
       "      <td>France</td>\n",
       "      <td>Female</td>\n",
       "      <td>39</td>\n",
       "      <td>1</td>\n",
       "      <td>0.00</td>\n",
       "      <td>2</td>\n",
       "      <td>0</td>\n",
       "      <td>0</td>\n",
       "      <td>93826.63</td>\n",
       "      <td>0</td>\n",
       "    </tr>\n",
       "    <tr>\n",
       "      <th>4</th>\n",
       "      <td>5</td>\n",
       "      <td>15737888</td>\n",
       "      <td>Mitchell</td>\n",
       "      <td>850</td>\n",
       "      <td>Spain</td>\n",
       "      <td>Female</td>\n",
       "      <td>43</td>\n",
       "      <td>2</td>\n",
       "      <td>125510.82</td>\n",
       "      <td>1</td>\n",
       "      <td>1</td>\n",
       "      <td>1</td>\n",
       "      <td>79084.10</td>\n",
       "      <td>0</td>\n",
       "    </tr>\n",
       "  </tbody>\n",
       "</table>\n",
       "</div>"
      ],
      "text/plain": [
       "   RowNumber  CustomerId   Surname  CreditScore Geography  Gender  Age  \\\n",
       "0          1    15634602  Hargrave          619    France  Female   42   \n",
       "1          2    15647311      Hill          608     Spain  Female   41   \n",
       "2          3    15619304      Onio          502    France  Female   42   \n",
       "3          4    15701354      Boni          699    France  Female   39   \n",
       "4          5    15737888  Mitchell          850     Spain  Female   43   \n",
       "\n",
       "   Tenure    Balance  NumOfProducts  HasCrCard  IsActiveMember  \\\n",
       "0       2       0.00              1          1               1   \n",
       "1       1   83807.86              1          0               1   \n",
       "2       8  159660.80              3          1               0   \n",
       "3       1       0.00              2          0               0   \n",
       "4       2  125510.82              1          1               1   \n",
       "\n",
       "   EstimatedSalary  Exited  \n",
       "0        101348.88       1  \n",
       "1        112542.58       0  \n",
       "2        113931.57       1  \n",
       "3         93826.63       0  \n",
       "4         79084.10       0  "
      ]
     },
     "execution_count": 2,
     "metadata": {},
     "output_type": "execute_result"
    }
   ],
   "source": [
    "# Читаем перчичный файл\n",
    "churn_data = pd.read_csv('data/churn.csv')\n",
    "churn_data.head()"
   ]
  },
  {
   "cell_type": "code",
   "execution_count": 3,
   "id": "c61276a9",
   "metadata": {},
   "outputs": [
    {
     "name": "stdout",
     "output_type": "stream",
     "text": [
      "<class 'pandas.core.frame.DataFrame'>\n",
      "RangeIndex: 10000 entries, 0 to 9999\n",
      "Data columns (total 13 columns):\n",
      " #   Column           Non-Null Count  Dtype  \n",
      "---  ------           --------------  -----  \n",
      " 0   CustomerId       10000 non-null  int64  \n",
      " 1   Surname          10000 non-null  object \n",
      " 2   CreditScore      10000 non-null  int64  \n",
      " 3   Geography        10000 non-null  object \n",
      " 4   Gender           10000 non-null  object \n",
      " 5   Age              10000 non-null  int64  \n",
      " 6   Tenure           10000 non-null  int64  \n",
      " 7   Balance          10000 non-null  float64\n",
      " 8   NumOfProducts    10000 non-null  int64  \n",
      " 9   HasCrCard        10000 non-null  int64  \n",
      " 10  IsActiveMember   10000 non-null  int64  \n",
      " 11  EstimatedSalary  10000 non-null  float64\n",
      " 12  Exited           10000 non-null  int64  \n",
      "dtypes: float64(2), int64(8), object(3)\n",
      "memory usage: 1015.8+ KB\n"
     ]
    }
   ],
   "source": [
    "# Копируем датафрейм и смотрим структуру\n",
    "churn_df = churn_data.copy()\n",
    "churn_df = churn_df.drop('RowNumber', axis = 1)\n",
    "#churn_df.describe()\n",
    "churn_df.info()\n",
    "#churn_df.head()"
   ]
  },
  {
   "cell_type": "markdown",
   "id": "e9f8021b",
   "metadata": {},
   "source": [
    "9.1. Каково соотношение ушедших и лояльных клиентов? Покажите это на графике и дайте комментарий по соотношению."
   ]
  },
  {
   "cell_type": "code",
   "execution_count": 7,
   "id": "a514380d",
   "metadata": {},
   "outputs": [
    {
     "data": {
      "application/vnd.plotly.v1+json": {
       "config": {
        "plotlyServerURL": "https://plot.ly"
       },
       "data": [
        {
         "domain": {
          "x": [
           0,
           1
          ],
          "y": [
           0,
           1
          ]
         },
         "hole": 0.7,
         "hovertemplate": "label=%{label}<br>value=%{value}<extra></extra>",
         "labels": [
          "Лояльные",
          "Ушедшие"
         ],
         "legendgroup": "",
         "name": "",
         "showlegend": false,
         "textinfo": "percent+label",
         "textposition": "inside",
         "type": "pie",
         "values": {
          "bdata": "UBQ=",
          "dtype": "i1"
         }
        }
       ],
       "layout": {
        "height": 450,
        "legend": {
         "tracegroupgap": 0
        },
        "template": {
         "data": {
          "bar": [
           {
            "error_x": {
             "color": "#2a3f5f"
            },
            "error_y": {
             "color": "#2a3f5f"
            },
            "marker": {
             "line": {
              "color": "#E5ECF6",
              "width": 0.5
             },
             "pattern": {
              "fillmode": "overlay",
              "size": 10,
              "solidity": 0.2
             }
            },
            "type": "bar"
           }
          ],
          "barpolar": [
           {
            "marker": {
             "line": {
              "color": "#E5ECF6",
              "width": 0.5
             },
             "pattern": {
              "fillmode": "overlay",
              "size": 10,
              "solidity": 0.2
             }
            },
            "type": "barpolar"
           }
          ],
          "carpet": [
           {
            "aaxis": {
             "endlinecolor": "#2a3f5f",
             "gridcolor": "white",
             "linecolor": "white",
             "minorgridcolor": "white",
             "startlinecolor": "#2a3f5f"
            },
            "baxis": {
             "endlinecolor": "#2a3f5f",
             "gridcolor": "white",
             "linecolor": "white",
             "minorgridcolor": "white",
             "startlinecolor": "#2a3f5f"
            },
            "type": "carpet"
           }
          ],
          "choropleth": [
           {
            "colorbar": {
             "outlinewidth": 0,
             "ticks": ""
            },
            "type": "choropleth"
           }
          ],
          "contour": [
           {
            "colorbar": {
             "outlinewidth": 0,
             "ticks": ""
            },
            "colorscale": [
             [
              0,
              "#0d0887"
             ],
             [
              0.1111111111111111,
              "#46039f"
             ],
             [
              0.2222222222222222,
              "#7201a8"
             ],
             [
              0.3333333333333333,
              "#9c179e"
             ],
             [
              0.4444444444444444,
              "#bd3786"
             ],
             [
              0.5555555555555556,
              "#d8576b"
             ],
             [
              0.6666666666666666,
              "#ed7953"
             ],
             [
              0.7777777777777778,
              "#fb9f3a"
             ],
             [
              0.8888888888888888,
              "#fdca26"
             ],
             [
              1,
              "#f0f921"
             ]
            ],
            "type": "contour"
           }
          ],
          "contourcarpet": [
           {
            "colorbar": {
             "outlinewidth": 0,
             "ticks": ""
            },
            "type": "contourcarpet"
           }
          ],
          "heatmap": [
           {
            "colorbar": {
             "outlinewidth": 0,
             "ticks": ""
            },
            "colorscale": [
             [
              0,
              "#0d0887"
             ],
             [
              0.1111111111111111,
              "#46039f"
             ],
             [
              0.2222222222222222,
              "#7201a8"
             ],
             [
              0.3333333333333333,
              "#9c179e"
             ],
             [
              0.4444444444444444,
              "#bd3786"
             ],
             [
              0.5555555555555556,
              "#d8576b"
             ],
             [
              0.6666666666666666,
              "#ed7953"
             ],
             [
              0.7777777777777778,
              "#fb9f3a"
             ],
             [
              0.8888888888888888,
              "#fdca26"
             ],
             [
              1,
              "#f0f921"
             ]
            ],
            "type": "heatmap"
           }
          ],
          "histogram": [
           {
            "marker": {
             "pattern": {
              "fillmode": "overlay",
              "size": 10,
              "solidity": 0.2
             }
            },
            "type": "histogram"
           }
          ],
          "histogram2d": [
           {
            "colorbar": {
             "outlinewidth": 0,
             "ticks": ""
            },
            "colorscale": [
             [
              0,
              "#0d0887"
             ],
             [
              0.1111111111111111,
              "#46039f"
             ],
             [
              0.2222222222222222,
              "#7201a8"
             ],
             [
              0.3333333333333333,
              "#9c179e"
             ],
             [
              0.4444444444444444,
              "#bd3786"
             ],
             [
              0.5555555555555556,
              "#d8576b"
             ],
             [
              0.6666666666666666,
              "#ed7953"
             ],
             [
              0.7777777777777778,
              "#fb9f3a"
             ],
             [
              0.8888888888888888,
              "#fdca26"
             ],
             [
              1,
              "#f0f921"
             ]
            ],
            "type": "histogram2d"
           }
          ],
          "histogram2dcontour": [
           {
            "colorbar": {
             "outlinewidth": 0,
             "ticks": ""
            },
            "colorscale": [
             [
              0,
              "#0d0887"
             ],
             [
              0.1111111111111111,
              "#46039f"
             ],
             [
              0.2222222222222222,
              "#7201a8"
             ],
             [
              0.3333333333333333,
              "#9c179e"
             ],
             [
              0.4444444444444444,
              "#bd3786"
             ],
             [
              0.5555555555555556,
              "#d8576b"
             ],
             [
              0.6666666666666666,
              "#ed7953"
             ],
             [
              0.7777777777777778,
              "#fb9f3a"
             ],
             [
              0.8888888888888888,
              "#fdca26"
             ],
             [
              1,
              "#f0f921"
             ]
            ],
            "type": "histogram2dcontour"
           }
          ],
          "mesh3d": [
           {
            "colorbar": {
             "outlinewidth": 0,
             "ticks": ""
            },
            "type": "mesh3d"
           }
          ],
          "parcoords": [
           {
            "line": {
             "colorbar": {
              "outlinewidth": 0,
              "ticks": ""
             }
            },
            "type": "parcoords"
           }
          ],
          "pie": [
           {
            "automargin": true,
            "type": "pie"
           }
          ],
          "scatter": [
           {
            "fillpattern": {
             "fillmode": "overlay",
             "size": 10,
             "solidity": 0.2
            },
            "type": "scatter"
           }
          ],
          "scatter3d": [
           {
            "line": {
             "colorbar": {
              "outlinewidth": 0,
              "ticks": ""
             }
            },
            "marker": {
             "colorbar": {
              "outlinewidth": 0,
              "ticks": ""
             }
            },
            "type": "scatter3d"
           }
          ],
          "scattercarpet": [
           {
            "marker": {
             "colorbar": {
              "outlinewidth": 0,
              "ticks": ""
             }
            },
            "type": "scattercarpet"
           }
          ],
          "scattergeo": [
           {
            "marker": {
             "colorbar": {
              "outlinewidth": 0,
              "ticks": ""
             }
            },
            "type": "scattergeo"
           }
          ],
          "scattergl": [
           {
            "marker": {
             "colorbar": {
              "outlinewidth": 0,
              "ticks": ""
             }
            },
            "type": "scattergl"
           }
          ],
          "scattermap": [
           {
            "marker": {
             "colorbar": {
              "outlinewidth": 0,
              "ticks": ""
             }
            },
            "type": "scattermap"
           }
          ],
          "scattermapbox": [
           {
            "marker": {
             "colorbar": {
              "outlinewidth": 0,
              "ticks": ""
             }
            },
            "type": "scattermapbox"
           }
          ],
          "scatterpolar": [
           {
            "marker": {
             "colorbar": {
              "outlinewidth": 0,
              "ticks": ""
             }
            },
            "type": "scatterpolar"
           }
          ],
          "scatterpolargl": [
           {
            "marker": {
             "colorbar": {
              "outlinewidth": 0,
              "ticks": ""
             }
            },
            "type": "scatterpolargl"
           }
          ],
          "scatterternary": [
           {
            "marker": {
             "colorbar": {
              "outlinewidth": 0,
              "ticks": ""
             }
            },
            "type": "scatterternary"
           }
          ],
          "surface": [
           {
            "colorbar": {
             "outlinewidth": 0,
             "ticks": ""
            },
            "colorscale": [
             [
              0,
              "#0d0887"
             ],
             [
              0.1111111111111111,
              "#46039f"
             ],
             [
              0.2222222222222222,
              "#7201a8"
             ],
             [
              0.3333333333333333,
              "#9c179e"
             ],
             [
              0.4444444444444444,
              "#bd3786"
             ],
             [
              0.5555555555555556,
              "#d8576b"
             ],
             [
              0.6666666666666666,
              "#ed7953"
             ],
             [
              0.7777777777777778,
              "#fb9f3a"
             ],
             [
              0.8888888888888888,
              "#fdca26"
             ],
             [
              1,
              "#f0f921"
             ]
            ],
            "type": "surface"
           }
          ],
          "table": [
           {
            "cells": {
             "fill": {
              "color": "#EBF0F8"
             },
             "line": {
              "color": "white"
             }
            },
            "header": {
             "fill": {
              "color": "#C8D4E3"
             },
             "line": {
              "color": "white"
             }
            },
            "type": "table"
           }
          ]
         },
         "layout": {
          "annotationdefaults": {
           "arrowcolor": "#2a3f5f",
           "arrowhead": 0,
           "arrowwidth": 1
          },
          "autotypenumbers": "strict",
          "coloraxis": {
           "colorbar": {
            "outlinewidth": 0,
            "ticks": ""
           }
          },
          "colorscale": {
           "diverging": [
            [
             0,
             "#8e0152"
            ],
            [
             0.1,
             "#c51b7d"
            ],
            [
             0.2,
             "#de77ae"
            ],
            [
             0.3,
             "#f1b6da"
            ],
            [
             0.4,
             "#fde0ef"
            ],
            [
             0.5,
             "#f7f7f7"
            ],
            [
             0.6,
             "#e6f5d0"
            ],
            [
             0.7,
             "#b8e186"
            ],
            [
             0.8,
             "#7fbc41"
            ],
            [
             0.9,
             "#4d9221"
            ],
            [
             1,
             "#276419"
            ]
           ],
           "sequential": [
            [
             0,
             "#0d0887"
            ],
            [
             0.1111111111111111,
             "#46039f"
            ],
            [
             0.2222222222222222,
             "#7201a8"
            ],
            [
             0.3333333333333333,
             "#9c179e"
            ],
            [
             0.4444444444444444,
             "#bd3786"
            ],
            [
             0.5555555555555556,
             "#d8576b"
            ],
            [
             0.6666666666666666,
             "#ed7953"
            ],
            [
             0.7777777777777778,
             "#fb9f3a"
            ],
            [
             0.8888888888888888,
             "#fdca26"
            ],
            [
             1,
             "#f0f921"
            ]
           ],
           "sequentialminus": [
            [
             0,
             "#0d0887"
            ],
            [
             0.1111111111111111,
             "#46039f"
            ],
            [
             0.2222222222222222,
             "#7201a8"
            ],
            [
             0.3333333333333333,
             "#9c179e"
            ],
            [
             0.4444444444444444,
             "#bd3786"
            ],
            [
             0.5555555555555556,
             "#d8576b"
            ],
            [
             0.6666666666666666,
             "#ed7953"
            ],
            [
             0.7777777777777778,
             "#fb9f3a"
            ],
            [
             0.8888888888888888,
             "#fdca26"
            ],
            [
             1,
             "#f0f921"
            ]
           ]
          },
          "colorway": [
           "#636efa",
           "#EF553B",
           "#00cc96",
           "#ab63fa",
           "#FFA15A",
           "#19d3f3",
           "#FF6692",
           "#B6E880",
           "#FF97FF",
           "#FECB52"
          ],
          "font": {
           "color": "#2a3f5f"
          },
          "geo": {
           "bgcolor": "white",
           "lakecolor": "white",
           "landcolor": "#E5ECF6",
           "showlakes": true,
           "showland": true,
           "subunitcolor": "white"
          },
          "hoverlabel": {
           "align": "left"
          },
          "hovermode": "closest",
          "mapbox": {
           "style": "light"
          },
          "paper_bgcolor": "white",
          "plot_bgcolor": "#E5ECF6",
          "polar": {
           "angularaxis": {
            "gridcolor": "white",
            "linecolor": "white",
            "ticks": ""
           },
           "bgcolor": "#E5ECF6",
           "radialaxis": {
            "gridcolor": "white",
            "linecolor": "white",
            "ticks": ""
           }
          },
          "scene": {
           "xaxis": {
            "backgroundcolor": "#E5ECF6",
            "gridcolor": "white",
            "gridwidth": 2,
            "linecolor": "white",
            "showbackground": true,
            "ticks": "",
            "zerolinecolor": "white"
           },
           "yaxis": {
            "backgroundcolor": "#E5ECF6",
            "gridcolor": "white",
            "gridwidth": 2,
            "linecolor": "white",
            "showbackground": true,
            "ticks": "",
            "zerolinecolor": "white"
           },
           "zaxis": {
            "backgroundcolor": "#E5ECF6",
            "gridcolor": "white",
            "gridwidth": 2,
            "linecolor": "white",
            "showbackground": true,
            "ticks": "",
            "zerolinecolor": "white"
           }
          },
          "shapedefaults": {
           "line": {
            "color": "#2a3f5f"
           }
          },
          "ternary": {
           "aaxis": {
            "gridcolor": "white",
            "linecolor": "white",
            "ticks": ""
           },
           "baxis": {
            "gridcolor": "white",
            "linecolor": "white",
            "ticks": ""
           },
           "bgcolor": "#E5ECF6",
           "caxis": {
            "gridcolor": "white",
            "linecolor": "white",
            "ticks": ""
           }
          },
          "title": {
           "x": 0.05
          },
          "xaxis": {
           "automargin": true,
           "gridcolor": "white",
           "linecolor": "white",
           "ticks": "",
           "title": {
            "standoff": 15
           },
           "zerolinecolor": "white",
           "zerolinewidth": 2
          },
          "yaxis": {
           "automargin": true,
           "gridcolor": "white",
           "linecolor": "white",
           "ticks": "",
           "title": {
            "standoff": 15
           },
           "zerolinecolor": "white",
           "zerolinewidth": 2
          }
         }
        },
        "title": {
         "text": "Соотношение ушедших и лояльных клиентов"
        },
        "width": 450
       }
      }
     },
     "metadata": {},
     "output_type": "display_data"
    }
   ],
   "source": [
    "tmp_df = churn_df[['Exited']].copy()\n",
    "\n",
    "# Вычислим долю ушедших (в %), округлим до целых\n",
    "df = (tmp_df.mean() * 100).round(0).astype( int )\n",
    "\n",
    "# Готовим графику: имеем статистические данные, используем пончиковую круговую диаграмму\n",
    "fig = px.pie( \n",
    "    values = [100 - df.values[0], df.values[0]], # Процентное соотношение\n",
    "    title = 'Соотношение ушедших и лояльных клиентов', # Заголовок отчета\n",
    "    hole = 0.7,  # Настроим так ширину бублика\n",
    "    names = [\"Лояльные\", \"Ушедшие\" ], # Настроим Подписи\n",
    "    width = 450, # Ширина\n",
    "    height = 450 # Высота\n",
    ")\n",
    "fig.update_traces( textposition = 'inside', textinfo = 'percent+label', showlegend = False )\n",
    "fig.show() # Отображаем"
   ]
  },
  {
   "cell_type": "markdown",
   "id": "4748fdbf",
   "metadata": {},
   "source": [
    "Видим, что лояльных клиентов вчетверо больше, чем успешных, банк успешный"
   ]
  },
  {
   "cell_type": "markdown",
   "id": "17f64015",
   "metadata": {},
   "source": [
    "9.2. Постройте график, показывающий распределение баланса пользователей, у которых на счету больше 2 500 долларов. Опишите распределение и сделайте выводы."
   ]
  },
  {
   "cell_type": "code",
   "execution_count": 13,
   "id": "4c144239",
   "metadata": {},
   "outputs": [
    {
     "data": {
      "application/vnd.plotly.v1+json": {
       "config": {
        "plotlyServerURL": "https://plot.ly"
       },
       "data": [
        {
         "alignmentgroup": "True",
         "hovertemplate": "Balance=%{x}<extra></extra>",
         "legendgroup": "",
         "marker": {
          "color": "#636efa"
         },
         "name": "",
         "notched": false,
         "offsetgroup": "",
         "orientation": "h",
         "quartilemethod": "exclusive",
         "showlegend": false,
         "type": "box",
         "x": {
          "bdata": "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",
          "dtype": "f8"
         },
         "x0": " ",
         "xaxis": "x",
         "y0": " ",
         "yaxis": "y"
        }
       ],
       "layout": {
        "bargap": 0.1,
        "boxmode": "group",
        "height": 400,
        "legend": {
         "orientation": "h",
         "title": {
          "font": {
           "family": "Sitka Small"
          }
         },
         "tracegroupgap": 0,
         "x": 0,
         "y": 150
        },
        "template": {
         "data": {
          "bar": [
           {
            "error_x": {
             "color": "#2a3f5f"
            },
            "error_y": {
             "color": "#2a3f5f"
            },
            "marker": {
             "line": {
              "color": "#E5ECF6",
              "width": 0.5
             },
             "pattern": {
              "fillmode": "overlay",
              "size": 10,
              "solidity": 0.2
             }
            },
            "type": "bar"
           }
          ],
          "barpolar": [
           {
            "marker": {
             "line": {
              "color": "#E5ECF6",
              "width": 0.5
             },
             "pattern": {
              "fillmode": "overlay",
              "size": 10,
              "solidity": 0.2
             }
            },
            "type": "barpolar"
           }
          ],
          "carpet": [
           {
            "aaxis": {
             "endlinecolor": "#2a3f5f",
             "gridcolor": "white",
             "linecolor": "white",
             "minorgridcolor": "white",
             "startlinecolor": "#2a3f5f"
            },
            "baxis": {
             "endlinecolor": "#2a3f5f",
             "gridcolor": "white",
             "linecolor": "white",
             "minorgridcolor": "white",
             "startlinecolor": "#2a3f5f"
            },
            "type": "carpet"
           }
          ],
          "choropleth": [
           {
            "colorbar": {
             "outlinewidth": 0,
             "ticks": ""
            },
            "type": "choropleth"
           }
          ],
          "contour": [
           {
            "colorbar": {
             "outlinewidth": 0,
             "ticks": ""
            },
            "colorscale": [
             [
              0,
              "#0d0887"
             ],
             [
              0.1111111111111111,
              "#46039f"
             ],
             [
              0.2222222222222222,
              "#7201a8"
             ],
             [
              0.3333333333333333,
              "#9c179e"
             ],
             [
              0.4444444444444444,
              "#bd3786"
             ],
             [
              0.5555555555555556,
              "#d8576b"
             ],
             [
              0.6666666666666666,
              "#ed7953"
             ],
             [
              0.7777777777777778,
              "#fb9f3a"
             ],
             [
              0.8888888888888888,
              "#fdca26"
             ],
             [
              1,
              "#f0f921"
             ]
            ],
            "type": "contour"
           }
          ],
          "contourcarpet": [
           {
            "colorbar": {
             "outlinewidth": 0,
             "ticks": ""
            },
            "type": "contourcarpet"
           }
          ],
          "heatmap": [
           {
            "colorbar": {
             "outlinewidth": 0,
             "ticks": ""
            },
            "colorscale": [
             [
              0,
              "#0d0887"
             ],
             [
              0.1111111111111111,
              "#46039f"
             ],
             [
              0.2222222222222222,
              "#7201a8"
             ],
             [
              0.3333333333333333,
              "#9c179e"
             ],
             [
              0.4444444444444444,
              "#bd3786"
             ],
             [
              0.5555555555555556,
              "#d8576b"
             ],
             [
              0.6666666666666666,
              "#ed7953"
             ],
             [
              0.7777777777777778,
              "#fb9f3a"
             ],
             [
              0.8888888888888888,
              "#fdca26"
             ],
             [
              1,
              "#f0f921"
             ]
            ],
            "type": "heatmap"
           }
          ],
          "histogram": [
           {
            "marker": {
             "pattern": {
              "fillmode": "overlay",
              "size": 10,
              "solidity": 0.2
             }
            },
            "type": "histogram"
           }
          ],
          "histogram2d": [
           {
            "colorbar": {
             "outlinewidth": 0,
             "ticks": ""
            },
            "colorscale": [
             [
              0,
              "#0d0887"
             ],
             [
              0.1111111111111111,
              "#46039f"
             ],
             [
              0.2222222222222222,
              "#7201a8"
             ],
             [
              0.3333333333333333,
              "#9c179e"
             ],
             [
              0.4444444444444444,
              "#bd3786"
             ],
             [
              0.5555555555555556,
              "#d8576b"
             ],
             [
              0.6666666666666666,
              "#ed7953"
             ],
             [
              0.7777777777777778,
              "#fb9f3a"
             ],
             [
              0.8888888888888888,
              "#fdca26"
             ],
             [
              1,
              "#f0f921"
             ]
            ],
            "type": "histogram2d"
           }
          ],
          "histogram2dcontour": [
           {
            "colorbar": {
             "outlinewidth": 0,
             "ticks": ""
            },
            "colorscale": [
             [
              0,
              "#0d0887"
             ],
             [
              0.1111111111111111,
              "#46039f"
             ],
             [
              0.2222222222222222,
              "#7201a8"
             ],
             [
              0.3333333333333333,
              "#9c179e"
             ],
             [
              0.4444444444444444,
              "#bd3786"
             ],
             [
              0.5555555555555556,
              "#d8576b"
             ],
             [
              0.6666666666666666,
              "#ed7953"
             ],
             [
              0.7777777777777778,
              "#fb9f3a"
             ],
             [
              0.8888888888888888,
              "#fdca26"
             ],
             [
              1,
              "#f0f921"
             ]
            ],
            "type": "histogram2dcontour"
           }
          ],
          "mesh3d": [
           {
            "colorbar": {
             "outlinewidth": 0,
             "ticks": ""
            },
            "type": "mesh3d"
           }
          ],
          "parcoords": [
           {
            "line": {
             "colorbar": {
              "outlinewidth": 0,
              "ticks": ""
             }
            },
            "type": "parcoords"
           }
          ],
          "pie": [
           {
            "automargin": true,
            "type": "pie"
           }
          ],
          "scatter": [
           {
            "fillpattern": {
             "fillmode": "overlay",
             "size": 10,
             "solidity": 0.2
            },
            "type": "scatter"
           }
          ],
          "scatter3d": [
           {
            "line": {
             "colorbar": {
              "outlinewidth": 0,
              "ticks": ""
             }
            },
            "marker": {
             "colorbar": {
              "outlinewidth": 0,
              "ticks": ""
             }
            },
            "type": "scatter3d"
           }
          ],
          "scattercarpet": [
           {
            "marker": {
             "colorbar": {
              "outlinewidth": 0,
              "ticks": ""
             }
            },
            "type": "scattercarpet"
           }
          ],
          "scattergeo": [
           {
            "marker": {
             "colorbar": {
              "outlinewidth": 0,
              "ticks": ""
             }
            },
            "type": "scattergeo"
           }
          ],
          "scattergl": [
           {
            "marker": {
             "colorbar": {
              "outlinewidth": 0,
              "ticks": ""
             }
            },
            "type": "scattergl"
           }
          ],
          "scattermap": [
           {
            "marker": {
             "colorbar": {
              "outlinewidth": 0,
              "ticks": ""
             }
            },
            "type": "scattermap"
           }
          ],
          "scattermapbox": [
           {
            "marker": {
             "colorbar": {
              "outlinewidth": 0,
              "ticks": ""
             }
            },
            "type": "scattermapbox"
           }
          ],
          "scatterpolar": [
           {
            "marker": {
             "colorbar": {
              "outlinewidth": 0,
              "ticks": ""
             }
            },
            "type": "scatterpolar"
           }
          ],
          "scatterpolargl": [
           {
            "marker": {
             "colorbar": {
              "outlinewidth": 0,
              "ticks": ""
             }
            },
            "type": "scatterpolargl"
           }
          ],
          "scatterternary": [
           {
            "marker": {
             "colorbar": {
              "outlinewidth": 0,
              "ticks": ""
             }
            },
            "type": "scatterternary"
           }
          ],
          "surface": [
           {
            "colorbar": {
             "outlinewidth": 0,
             "ticks": ""
            },
            "colorscale": [
             [
              0,
              "#0d0887"
             ],
             [
              0.1111111111111111,
              "#46039f"
             ],
             [
              0.2222222222222222,
              "#7201a8"
             ],
             [
              0.3333333333333333,
              "#9c179e"
             ],
             [
              0.4444444444444444,
              "#bd3786"
             ],
             [
              0.5555555555555556,
              "#d8576b"
             ],
             [
              0.6666666666666666,
              "#ed7953"
             ],
             [
              0.7777777777777778,
              "#fb9f3a"
             ],
             [
              0.8888888888888888,
              "#fdca26"
             ],
             [
              1,
              "#f0f921"
             ]
            ],
            "type": "surface"
           }
          ],
          "table": [
           {
            "cells": {
             "fill": {
              "color": "#EBF0F8"
             },
             "line": {
              "color": "white"
             }
            },
            "header": {
             "fill": {
              "color": "#C8D4E3"
             },
             "line": {
              "color": "white"
             }
            },
            "type": "table"
           }
          ]
         },
         "layout": {
          "annotationdefaults": {
           "arrowcolor": "#2a3f5f",
           "arrowhead": 0,
           "arrowwidth": 1
          },
          "autotypenumbers": "strict",
          "coloraxis": {
           "colorbar": {
            "outlinewidth": 0,
            "ticks": ""
           }
          },
          "colorscale": {
           "diverging": [
            [
             0,
             "#8e0152"
            ],
            [
             0.1,
             "#c51b7d"
            ],
            [
             0.2,
             "#de77ae"
            ],
            [
             0.3,
             "#f1b6da"
            ],
            [
             0.4,
             "#fde0ef"
            ],
            [
             0.5,
             "#f7f7f7"
            ],
            [
             0.6,
             "#e6f5d0"
            ],
            [
             0.7,
             "#b8e186"
            ],
            [
             0.8,
             "#7fbc41"
            ],
            [
             0.9,
             "#4d9221"
            ],
            [
             1,
             "#276419"
            ]
           ],
           "sequential": [
            [
             0,
             "#0d0887"
            ],
            [
             0.1111111111111111,
             "#46039f"
            ],
            [
             0.2222222222222222,
             "#7201a8"
            ],
            [
             0.3333333333333333,
             "#9c179e"
            ],
            [
             0.4444444444444444,
             "#bd3786"
            ],
            [
             0.5555555555555556,
             "#d8576b"
            ],
            [
             0.6666666666666666,
             "#ed7953"
            ],
            [
             0.7777777777777778,
             "#fb9f3a"
            ],
            [
             0.8888888888888888,
             "#fdca26"
            ],
            [
             1,
             "#f0f921"
            ]
           ],
           "sequentialminus": [
            [
             0,
             "#0d0887"
            ],
            [
             0.1111111111111111,
             "#46039f"
            ],
            [
             0.2222222222222222,
             "#7201a8"
            ],
            [
             0.3333333333333333,
             "#9c179e"
            ],
            [
             0.4444444444444444,
             "#bd3786"
            ],
            [
             0.5555555555555556,
             "#d8576b"
            ],
            [
             0.6666666666666666,
             "#ed7953"
            ],
            [
             0.7777777777777778,
             "#fb9f3a"
            ],
            [
             0.8888888888888888,
             "#fdca26"
            ],
            [
             1,
             "#f0f921"
            ]
           ]
          },
          "colorway": [
           "#636efa",
           "#EF553B",
           "#00cc96",
           "#ab63fa",
           "#FFA15A",
           "#19d3f3",
           "#FF6692",
           "#B6E880",
           "#FF97FF",
           "#FECB52"
          ],
          "font": {
           "color": "#2a3f5f"
          },
          "geo": {
           "bgcolor": "white",
           "lakecolor": "white",
           "landcolor": "#E5ECF6",
           "showlakes": true,
           "showland": true,
           "subunitcolor": "white"
          },
          "hoverlabel": {
           "align": "left"
          },
          "hovermode": "closest",
          "mapbox": {
           "style": "light"
          },
          "paper_bgcolor": "white",
          "plot_bgcolor": "#E5ECF6",
          "polar": {
           "angularaxis": {
            "gridcolor": "white",
            "linecolor": "white",
            "ticks": ""
           },
           "bgcolor": "#E5ECF6",
           "radialaxis": {
            "gridcolor": "white",
            "linecolor": "white",
            "ticks": ""
           }
          },
          "scene": {
           "xaxis": {
            "backgroundcolor": "#E5ECF6",
            "gridcolor": "white",
            "gridwidth": 2,
            "linecolor": "white",
            "showbackground": true,
            "ticks": "",
            "zerolinecolor": "white"
           },
           "yaxis": {
            "backgroundcolor": "#E5ECF6",
            "gridcolor": "white",
            "gridwidth": 2,
            "linecolor": "white",
            "showbackground": true,
            "ticks": "",
            "zerolinecolor": "white"
           },
           "zaxis": {
            "backgroundcolor": "#E5ECF6",
            "gridcolor": "white",
            "gridwidth": 2,
            "linecolor": "white",
            "showbackground": true,
            "ticks": "",
            "zerolinecolor": "white"
           }
          },
          "shapedefaults": {
           "line": {
            "color": "#2a3f5f"
           }
          },
          "ternary": {
           "aaxis": {
            "gridcolor": "white",
            "linecolor": "white",
            "ticks": ""
           },
           "baxis": {
            "gridcolor": "white",
            "linecolor": "white",
            "ticks": ""
           },
           "bgcolor": "#E5ECF6",
           "caxis": {
            "gridcolor": "white",
            "linecolor": "white",
            "ticks": ""
           }
          },
          "title": {
           "x": 0.05
          },
          "xaxis": {
           "automargin": true,
           "gridcolor": "white",
           "linecolor": "white",
           "ticks": "",
           "title": {
            "standoff": 15
           },
           "zerolinecolor": "white",
           "zerolinewidth": 2
          },
          "yaxis": {
           "automargin": true,
           "gridcolor": "white",
           "linecolor": "white",
           "ticks": "",
           "title": {
            "standoff": 15
           },
           "zerolinecolor": "white",
           "zerolinewidth": 2
          }
         }
        },
        "title": {
         "text": "Распределение по балансам клиентов с балансом > 2500"
        },
        "width": 600,
        "xaxis": {
         "anchor": "y",
         "domain": [
          0,
          1
         ],
         "title": {
          "text": "Баланс клиента, $"
         }
        },
        "yaxis": {
         "anchor": "x",
         "domain": [
          0,
          1
         ],
         "title": {
          "text": "Вск клиенты"
         }
        }
       }
      }
     },
     "metadata": {},
     "output_type": "display_data"
    }
   ],
   "source": [
    "# Выбираем подмножество данных согласно условиям\n",
    "tmp_df = churn_df[churn_df[\"Balance\"] > 2500][[\"Balance\"]].copy()\n",
    "\n",
    "# Готовим графику: имеем распределение первичных данных, используем коробчатую диаграмму\n",
    "fig = px.box(\n",
    "    data_frame = tmp_df,  \n",
    "    x = \"Balance\", # По оси x отпечатаются балансы \n",
    "    title = 'Распределение по балансам клиентов с балансом > 2500', # Заголовок отчета\n",
    "    width = 600,  # Ширина графика\n",
    "    height = 400, # Высота графика\n",
    ")\n",
    "fig.update_layout(\n",
    "    bargap = 0.1, # Ширина вертикальной разделительной полосы\n",
    "    xaxis_title = \"Баланс клиента, $\", # Подпись оси x\n",
    "    yaxis_title = \"Вск клиенты\", # Подпись оси y\n",
    "    legend = dict( orientation = \"h\", x = 0, y = 150, title_font_family = \"Sitka Small\" ) # Сместим легенду слева вверху\n",
    ")\n",
    "fig.update_traces( quartilemethod = \"exclusive\") # Форма диаграммы\n",
    "fig.show() # Отображаем"
   ]
  },
  {
   "cell_type": "markdown",
   "id": "5bf321ac",
   "metadata": {},
   "source": [
    "Из графика видим, клиенты распределены от 41 до 199 тыс $. Медианный баланс 120 тыс $, максимальное распределение клиентов в отрезке от 100 (25% квантиль) до 140 (75% квантиль) тыс $. Выбросы слева и справа примерно одинаковой ширины\n"
   ]
  },
  {
   "cell_type": "markdown",
   "id": "cc6b8bf4",
   "metadata": {},
   "source": [
    "9.3. Посмотрите на распределение баланса клиента в разрезе признака оттока. Как различаются суммы на накопительном счёте ушедших и лояльных клиентов? Подумайте и напишите, с чем это может быть связано, что может не устраивать ушедших клиентов в банке."
   ]
  },
  {
   "cell_type": "code",
   "execution_count": 14,
   "id": "6283f535",
   "metadata": {},
   "outputs": [
    {
     "data": {
      "application/vnd.plotly.v1+json": {
       "config": {
        "plotlyServerURL": "https://plot.ly"
       },
       "data": [
        {
         "bingroup": "x",
         "histfunc": "sum",
         "hovertemplate": "Статус клиента: =Лояльные<br>Balance=%{x}<br>sum of value=%{y}<extra></extra>",
         "legendgroup": "Лояльные",
         "marker": {
          "color": "#636efa",
          "pattern": {
           "shape": ""
          }
         },
         "name": "Лояльные",
         "nbinsx": 50,
         "orientation": "v",
         "showlegend": true,
         "texttemplate": "%{value}",
         "type": "histogram",
         "x": {
          "bdata": "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",
          "dtype": "f8"
         },
         "xaxis": "x",
         "y": {
          "bdata": "AAAAAABaqEAAAAAAAAD4fwAAAAAAAPh/AAAAAAAA8D8AAAAAAADwPwAAAAAAAPh/AAAAAAAA+H8AAAAAAADwPwAAAAAAAPA/AAAAAAAA+H8AAAAAAAD4fwAAAAAAAPA/AAAAAAAA+H8AAAAAAADwPwAAAAAAAPh/AAAAAAAA8D8AAAAAAADwPwAAAAAAAPA/AAAAAAAA8D8AAAAAAADwPwAAAAAAAPh/AAAAAAAA8D8AAAAAAADwPwAAAAAAAPh/AAAAAAAA8D8AAAAAAADwPwAAAAAAAPA/AAAAAAAA8D8AAAAAAAD4fwAAAAAAAPA/AAAAAAAA8D8AAAAAAADwPwAAAAAAAPA/AAAAAAAA8D8AAAAAAADwPwAAAAAAAPA/AAAAAAAA+H8AAAAAAADwPwAAAAAAAPh/AAAAAAAA+H8AAAAAAADwPwAAAAAAAPA/AAAAAAAA8D8AAAAAAADwPwAAAAAAAPA/AAAAAAAA+H8AAAAAAAD4fwAAAAAAAPA/AAAAAAAA+H8AAAAAAAD4fwAAAAAAAPA/AAAAAAAA8D8AAAAAAAD4fwAAAAAAAPA/AAAAAAAA+H8AAAAAAAD4fwAAAAAAAPA/AAAAAAAA8D8AAAAAAADwPwAAAAAAAPh/AAAAAAAA8D8AAAAAAAD4fwAAAAAAAPh/AAAAAAAA8D8AAAAAAAD4fwAAAAAAAPA/AAAAAAAA8D8AAAAAAADwPwAAAAAAAPA/AAAAAAAA8D8AAAAAAADwPwAAAAAAAPA/AAAAAAAA8D8AAAAAAADwPwAAAAAAAPA/AAAAAAAA+H8AAAAAAADwPwAAAAAAAPA/AAAAAAAA+H8AAAAAAAD4fwAAAAAAAPA/AAAAAAAA8D8AAAAAAADwPwAAAAAAAPh/AAAAAAAA8D8AAAAAAADwPwAAAAAAAPA/AAAAAAAA8D8AAAAAAADwPwAAAAAAAPA/AAAAAAAA+H8AAAAAAADwPwAAAAAAAPA/AAAAAAAA8D8AAAAAAADwPwAAAAAAAPA/AAAAAAAA8D8AAAAAAADwPwAAAAAAAPh/AAAAAAAA8D8AAAAAAAD4fwAAAAAAAPA/AAAAAAAA8D8AAAAAAADwPwAAAAAAAPA/AAAAAAAA8D8AAAAAAAD4fwAAAAAAAPA/AAAAAAAA8D8AAAAAAAD4fwAAAAAAAPA/AAAAAAAA8D8AAAAAAAD4fwAAAAAAAPA/AAAAAAAA+H8AAAAAAADwPwAAAAAAAPh/AAAAAAAA8D8AAAAAAAD4fwAAAAAAAPA/AAAAAAAA8D8AAAAAAADwPwAAAAAAAPh/AAAAAAAA8D8AAAAAAADwPwAAAAAAAPA/AAAAAAAA+H8AAAAAAADwPwAAAAAAAPA/AAAAAAAA8D8AAAAAAAD4fwAAAAAAAPA/AAAAAAAA8D8AAAAAAADwPwAAAAAAAPA/AAAAAAAA8D8AAAAAAADwPwAAAAAAAPA/AAAAAAAA8D8AAAAAAADwPwAAAAAAAPA/AAAAAAAA8D8AAAAAAADwPwAAAAAAAPA/AAAAAAAA8D8AAAAAAADwPwAAAAAAAPA/AAAAAAAA8D8AAAAAAAD4fwAAAAAAAPA/AAAAAAAA8D8AAAAAAAD4fwAAAAAAAPA/AAAAAAAA+H8AAAAAAADwPwAAAAAAAPA/AAAAAAAA8D8AAAAAAADwPwAAAAAAAPA/AAAAAAAA8D8AAAAAAADwPwAAAAAAAPA/AAAAAAAA8D8AAAAAAADwPwAAAAAAAPA/AAAAAAAA8D8AAAAAAADwPwAAAAAAAPA/AAAAAAAA8D8AAAAAAADwPwAAAAAAAPh/AAAAAAAA8D8AAAAAAADwPwAAAAAAAPA/AAAAAAAA8D8AAAAAAAD4fwAAAAAAAPA/AAAAAAAA8D8AAAAAAADwPwAAAAAAAPA/AAAAAAAA8D8AAAAAAADwPwAAAAAAAPA/AAAAAAAA+H8AAAAAAADwPwAAAAAAAPA/AAAAAAAA+H8AAAAAAAD4fwAAAAAAAPA/AAAAAAAA8D8AAAAAAADwPwAAAAAAAPh/AAAAAAAA8D8AAAAAAAD4fwAAAAAAAPA/AAAAAAAA8D8AAAAAAADwPwAAAAAAAPA/AAAAAAAA8D8AAAAAAADwPwAAAAAAAPA/AAAAAAAA8D8AAAAAAAD4fwAAAAAAAPA/AAAAAAAA8D8AAAAAAADwPwAAAAAAAPA/AAAAAAAA+H8AAAAAAADwPwAAAAAAAPh/AAAAAAAA+H8AAAAAAADwPwAAAAAAAPA/AAAAAAAA8D8AAAAAAADwPwAAAAAAAPA/AAAAAAAA8D8AAAAAAADwPwAAAAAAAPA/AAAAAAAA+H8AAAAAAAD4fwAAAAAAAPA/AAAAAAAA8D8AAAAAAAD4fwAAAAAAAPh/AAAAAAAA8D8AAAAAAADwPwAAAAAAAPA/AAAAAAAA8D8AAAAAAADwPwAAAAAAAPA/AAAAAAAA8D8AAAAAAAD4fwAAAAAAAPA/AAAAAAAA+H8AAAAAAADwPwAAAAAAAPh/AAAAAAAA8D8AAAAAAADwPwAAAAAAAPA/AAAAAAAA8D8AAAAAAADwPwAAAAAAAPA/AAAAAAAA8D8AAAAAAAD4fwAAAAAAAPA/AAAAAAAA+H8AAAAAAAD4fwAAAAAAAPA/AAAAAAAA8D8AAAAAAADwPwAAAAAAAPA/AAAAAAAA8D8AAAAAAAD4fwAAAAAAAPA/AAAAAAAA8D8AAAAAAADwPwAAAAAAAPh/AAAAAAAA8D8AAAAAAADwPwAAAAAAAPh/AAAAAAAA+H8AAAAAAADwPwAAAAAAAPA/AAAAAAAA8D8AAAAAAAD4fwAAAAAAAPA/AAAAAAAA8D8AAAAAAAD4fwAAAAAAAPh/AAAAAAAA8D8AAAAAAADwPwAAAAAAAPA/AAAAAAAA8D8AAAAAAADwPwAAAAAAAPA/AAAAAAAA8D8AAAAAAADwPwAAAAAAAPA/AAAAAAAA8D8AAAAAAAD4fwAAAAAAAPA/AAAAAAAA+H8AAAAAAADwPwAAAAAAAPh/AAAAAAAA8D8AAAAAAADwPwAAAAAAAPA/AAAAAAAA8D8AAAAAAADwPwAAAAAAAPh/AAAAAAAA8D8AAAAAAADwPwAAAAAAAPA/AAAAAAAA8D8AAAAAAADwPwAAAAAAAPA/AAAAAAAA+H8AAAAAAADwPwAAAAAAAPA/AAAAAAAA8D8AAAAAAADwPwAAAAAAAPh/AAAAAAAA8D8AAAAAAAD4fwAAAAAAAPA/AAAAAAAA+H8AAAAAAADwPwAAAAAAAPA/AAAAAAAA8D8AAAAAAADwPwAAAAAAAPh/AAAAAAAA8D8AAAAAAADwPwAAAAAAAPA/AAAAAAAA8D8AAAAAAADwPwAAAAAAAPh/AAAAAAAA8D8AAAAAAADwPwAAAAAAAPA/AAAAAAAA8D8AAAAAAADwPwAAAAAAAPA/AAAAAAAA8D8AAAAAAAD4fwAAAAAAAPA/AAAAAAAA8D8AAAAAAAD4fwAAAAAAAPh/AAAAAAAA8D8AAAAAAADwPwAAAAAAAPA/AAAAAAAA8D8AAAAAAADwPwAAAAAAAPA/AAAAAAAA8D8AAAAAAADwPwAAAAAAAPA/AAAAAAAA8D8AAAAAAAD4fwAAAAAAAPA/AAAAAAAA8D8AAAAAAADwPwAAAAAAAPA/AAAAAAAA8D8AAAAAAADwPwAAAAAAAPA/AAAAAAAA8D8AAAAAAADwPwAAAAAAAPA/AAAAAAAA8D8AAAAAAAD4fwAAAAAAAPA/AAAAAAAA8D8AAAAAAADwPwAAAAAAAPA/AAAAAAAA8D8AAAAAAADwPwAAAAAAAPA/AAAAAAAA8D8AAAAAAAD4fwAAAAAAAPA/AAAAAAAA8D8AAAAAAAD4fwAAAAAAAPA/AAAAAAAA8D8AAAAAAADwPwAAAAAAAPA/AAAAAAAA8D8AAAAAAADwPwAAAAAAAPA/AAAAAAAA8D8AAAAAAAD4fwAAAAAAAPA/AAAAAAAA8D8AAAAAAADwPwAAAAAAAPA/AAAAAAAA8D8AAAAAAADwPwAAAAAAAPA/AAAAAAAA8D8AAAAAAADwPwAAAAAAAPA/AAAAAAAA8D8AAAAAAADwPwAAAAAAAPA/AAAAAAAA8D8AAAAAAADwPwAAAAAAAPh/AAAAAAAA8D8AAAAAAAD4fwAAAAAAAPA/AAAAAAAA+H8AAAAAAADwPwAAAAAAAPh/AAAAAAAA8D8AAAAAAADwPwAAAAAAAPh/AAAAAAAA+H8AAAAAAAD4fwAAAAAAAPh/AAAAAAAA8D8AAAAAAADwPwAAAAAAAPA/AAAAAAAA+H8AAAAAAADwPwAAAAAAAPA/AAAAAAAA8D8AAAAAAADwPwAAAAAAAPA/AAAAAAAA8D8AAAAAAADwPwAAAAAAAPA/AAAAAAAA8D8AAAAAAAD4fwAAAAAAAPh/AAAAAAAA8D8AAAAAAADwPwAAAAAAAPA/AAAAAAAA8D8AAAAAAADwPwAAAAAAAPA/AAAAAAAA8D8AAAAAAADwPwAAAAAAAPh/AAAAAAAA+H8AAAAAAAD4fwAAAAAAAPh/AAAAAAAA8D8AAAAAAADwPwAAAAAAAPh/AAAAAAAA8D8AAAAAAADwPwAAAAAAAPA/AAAAAAAA8D8AAAAAAADwPwAAAAAAAPA/AAAAAAAA+H8AAAAAAADwPwAAAAAAAPA/AAAAAAAA+H8AAAAAAADwPwAAAAAAAPA/AAAAAAAA8D8AAAAAAADwPwAAAAAAAPA/AAAAAAAA8D8AAAAAAADwPwAAAAAAAPA/AAAAAAAA8D8AAAAAAADwPwAAAAAAAPh/AAAAAAAA8D8AAAAAAADwPwAAAAAAAPA/AAAAAAAA8D8AAAAAAADwPwAAAAAAAPA/AAAAAAAA+H8AAAAAAADwPwAAAAAAAPh/AAAAAAAA8D8AAAAAAADwPwAAAAAAAPA/AAAAAAAA8D8AAAAAAADwPwAAAAAAAPA/AAAAAAAA8D8AAAAAAADwPwAAAAAAAPA/AAAAAAAA8D8AAAAAAADwPwAAAAAAAPA/AAAAAAAA8D8AAAAAAADwPwAAAAAAAPA/AAAAAAAA+H8AAAAAAADwPwAAAAAAAPh/AAAAAAAA8D8AAAAAAADwPwAAAAAAAPA/AAAAAAAA8D8AAAAAAADwPwAAAAAAAPA/AAAAAAAA8D8AAAAAAADwPwAAAAAAAPh/AAAAAAAA+H8AAAAAAAD4fwAAAAAAAPA/AAAAAAAA8D8AAAAAAADwPwAAAAAAAPh/AAAAAAAA8D8AAAAAAADwPwAAAAAAAPA/AAAAAAAA8D8AAAAAAADwPwAAAAAAAPh/AAAAAAAA8D8AAAAAAADwPwAAAAAAAPA/AAAAAAAA8D8AAAAAAADwPwAAAAAAAPA/AAAAAAAA8D8AAAAAAADwPwAAAAAAAPA/AAAAAAAA8D8AAAAAAADwPwAAAAAAAPA/AAAAAAAA8D8AAAAAAAD4fwAAAAAAAPA/AAAAAAAA8D8AAAAAAAD4fwAAAAAAAPh/AAAAAAAA8D8AAAAAAADwPwAAAAAAAPA/AAAAAAAA8D8AAAAAAADwPwAAAAAAAPh/AAAAAAAA8D8AAAAAAADwPwAAAAAAAPA/AAAAAAAA8D8AAAAAAADwPwAAAAAAAPA/AAAAAAAA8D8AAAAAAADwPwAAAAAAAPA/AAAAAAAA8D8AAAAAAADwPwAAAAAAAPA/AAAAAAAA8D8AAAAAAADwPwAAAAAAAPA/AAAAAAAA+H8AAAAAAADwPwAAAAAAAPA/AAAAAAAA8D8AAAAAAAD4fwAAAAAAAPA/AAAAAAAA+H8AAAAAAADwPwAAAAAAAPA/AAAAAAAA8D8AAAAAAADwPwAAAAAAAPA/AAAAAAAA8D8AAAAAAADwPwAAAAAAAPA/AAAAAAAA8D8AAAAAAADwPwAAAAAAAPA/AAAAAAAA8D8AAAAAAADwPwAAAAAAAPA/AAAAAAAA8D8AAAAAAAD4fwAAAAAAAPA/AAAAAAAA8D8AAAAAAADwPwAAAAAAAPA/AAAAAAAA8D8AAAAAAADwPwAAAAAAAPA/AAAAAAAA8D8AAAAAAADwPwAAAAAAAPA/AAAAAAAA8D8AAAAAAAD4fwAAAAAAAPh/AAAAAAAA8D8AAAAAAADwPwAAAAAAAPA/AAAAAAAA8D8AAAAAAADwPwAAAAAAAPA/AAAAAAAA+H8AAAAAAADwPwAAAAAAAPA/AAAAAAAA8D8AAAAAAADwPwAAAAAAAPA/AAAAAAAA+H8AAAAAAADwPwAAAAAAAPA/AAAAAAAA+H8AAAAAAADwPwAAAAAAAPA/AAAAAAAA8D8AAAAAAAD4fwAAAAAAAPA/AAAAAAAA8D8AAAAAAADwPwAAAAAAAPA/AAAAAAAA8D8AAAAAAADwPwAAAAAAAPh/AAAAAAAA+H8AAAAAAADwPwAAAAAAAPA/AAAAAAAA8D8AAAAAAADwPwAAAAAAAPA/AAAAAAAA8D8AAAAAAAD4fwAAAAAAAPA/AAAAAAAA8D8AAAAAAADwPwAAAAAAAPA/AAAAAAAA8D8AAAAAAADwPwAAAAAAAPA/AAAAAAAA8D8AAAAAAADwPwAAAAAAAPh/AAAAAAAA8D8AAAAAAADwPwAAAAAAAPA/AAAAAAAA8D8AAAAAAADwPwAAAAAAAPh/AAAAAAAA8D8AAAAAAAD4fwAAAAAAAPA/AAAAAAAA8D8AAAAAAADwPwAAAAAAAPh/AAAAAAAA8D8AAAAAAAD4fwAAAAAAAPA/AAAAAAAA8D8AAAAAAADwPwAAAAAAAPA/AAAAAAAA8D8AAAAAAAD4fwAAAAAAAPA/AAAAAAAA8D8AAAAAAAD4fwAAAAAAAPh/AAAAAAAA8D8AAAAAAADwPwAAAAAAAPA/AAAAAAAA8D8AAAAAAADwPwAAAAAAAPA/AAAAAAAA8D8AAAAAAADwPwAAAAAAAPA/AAAAAAAA+H8AAAAAAADwPwAAAAAAAPA/AAAAAAAA8D8AAAAAAADwPwAAAAAAAPA/AAAAAAAA+H8AAAAAAADwPwAAAAAAAPh/AAAAAAAA8D8AAAAAAADwPwAAAAAAAPA/AAAAAAAA+H8AAAAAAADwPwAAAAAAAPA/AAAAAAAA8D8AAAAAAADwPwAAAAAAAPA/AAAAAAAA+H8AAAAAAADwPwAAAAAAAPA/AAAAAAAA8D8AAAAAAAD4fwAAAAAAAPA/AAAAAAAA8D8AAAAAAADwPwAAAAAAAPA/AAAAAAAA8D8AAAAAAADwPwAAAAAAAPA/AAAAAAAA8D8AAAAAAAD4fwAAAAAAAPA/AAAAAAAA8D8AAAAAAADwPwAAAAAAAPA/AAAAAAAA8D8AAAAAAADwPwAAAAAAAPA/AAAAAAAA8D8AAAAAAADwPwAAAAAAAPA/AAAAAAAA+H8AAAAAAADwPwAAAAAAAPh/AAAAAAAA8D8AAAAAAADwPwAAAAAAAPh/AAAAAAAA8D8AAAAAAADwPwAAAAAAAPh/AAAAAAAA8D8AAAAAAADwPwAAAAAAAPA/AAAAAAAA8D8AAAAAAADwPwAAAAAAAPA/AAAAAAAA8D8AAAAAAADwPwAAAAAAAPA/AAAAAAAA8D8AAAAAAADwPwAAAAAAAPA/AAAAAAAA8D8AAAAAAAD4fwAAAAAAAPA/AAAAAAAA8D8AAAAAAADwPwAAAAAAAPh/AAAAAAAA8D8AAAAAAADwPwAAAAAAAPA/AAAAAAAA8D8AAAAAAADwPwAAAAAAAPh/AAAAAAAA8D8AAAAAAAD4fwAAAAAAAPA/AAAAAAAA8D8AAAAAAADwPwAAAAAAAPA/AAAAAAAA8D8AAAAAAADwPwAAAAAAAPA/AAAAAAAA8D8AAAAAAADwPwAAAAAAAPA/AAAAAAAA8D8AAAAAAADwPwAAAAAAAPA/AAAAAAAA8D8AAAAAAADwPwAAAAAAAPA/AAAAAAAA8D8AAAAAAADwPwAAAAAAAPA/AAAAAAAA8D8AAAAAAADwPwAAAAAAAPA/AAAAAAAA8D8AAAAAAADwPwAAAAAAAPA/AAAAAAAA8D8AAAAAAADwPwAAAAAAAPA/AAAAAAAA8D8AAAAAAADwPwAAAAAAAPA/AAAAAAAA8D8AAAAAAADwPwAAAAAAAPA/AAAAAAAA8D8AAAAAAADwPwAAAAAAAPh/AAAAAAAA8D8AAAAAAADwPwAAAAAAAPA/AAAAAAAA8D8AAAAAAADwPwAAAAAAAPA/AAAAAAAA8D8AAAAAAADwPwAAAAAAAPA/AAAAAAAA8D8AAAAAAADwPwAAAAAAAPA/AAAAAAAA8D8AAAAAAADwPwAAAAAAAPA/AAAAAAAA8D8AAAAAAADwPwAAAAAAAPA/AAAAAAAA8D8AAAAAAADwPwAAAAAAAPA/AAAAAAAA8D8AAAAAAADwPwAAAAAAAPA/AAAAAAAA+H8AAAAAAAD4fwAAAAAAAPA/AAAAAAAA+H8AAAAAAADwPwAAAAAAAPA/AAAAAAAA8D8AAAAAAADwPwAAAAAAAPA/AAAAAAAA8D8AAAAAAADwPwAAAAAAAPA/AAAAAAAA8D8AAAAAAAD4fwAAAAAAAPA/AAAAAAAA8D8AAAAAAADwPwAAAAAAAPA/AAAAAAAA8D8AAAAAAADwPwAAAAAAAPA/AAAAAAAA8D8AAAAAAADwPwAAAAAAAPA/AAAAAAAA8D8AAAAAAAD4fwAAAAAAAPA/AAAAAAAA8D8AAAAAAADwPwAAAAAAAPA/AAAAAAAA8D8AAAAAAADwPwAAAAAAAPA/AAAAAAAA8D8AAAAAAAD4fwAAAAAAAPh/AAAAAAAA8D8AAAAAAAD4fwAAAAAAAPA/AAAAAAAA+H8AAAAAAADwPwAAAAAAAPA/AAAAAAAA8D8AAAAAAADwPwAAAAAAAPA/AAAAAAAA+H8AAAAAAADwPwAAAAAAAPA/AAAAAAAA8D8AAAAAAADwPwAAAAAAAPA/AAAAAAAA8D8AAAAAAADwPwAAAAAAAPh/AAAAAAAA8D8AAAAAAADwPwAAAAAAAPh/AAAAAAAA8D8AAAAAAAD4fwAAAAAAAPA/AAAAAAAA8D8AAAAAAADwPwAAAAAAAPA/AAAAAAAA8D8AAAAAAADwPwAAAAAAAPA/AAAAAAAA8D8AAAAAAADwPwAAAAAAAPA/AAAAAAAA8D8AAAAAAADwPwAAAAAAAPA/AAAAAAAA8D8AAAAAAADwPwAAAAAAAPA/AAAAAAAA8D8AAAAAAADwPwAAAAAAAPA/AAAAAAAA8D8AAAAAAAD4fwAAAAAAAPA/AAAAAAAA8D8AAAAAAADwPwAAAAAAAPA/AAAAAAAA8D8AAAAAAADwPwAAAAAAAPh/AAAAAAAA8D8AAAAAAAD4fwAAAAAAAPh/AAAAAAAA+H8AAAAAAADwPwAAAAAAAPA/AAAAAAAA8D8AAAAAAADwPwAAAAAAAPA/AAAAAAAA+H8AAAAAAADwPwAAAAAAAPA/AAAAAAAA8D8AAAAAAAD4fwAAAAAAAPh/AAAAAAAA+H8AAAAAAADwPwAAAAAAAPA/AAAAAAAA+H8AAAAAAAD4fwAAAAAAAPA/AAAAAAAA8D8AAAAAAADwPwAAAAAAAPA/AAAAAAAA8D8AAAAAAADwPwAAAAAAAPA/AAAAAAAA8D8AAAAAAADwPwAAAAAAAPh/AAAAAAAA8D8AAAAAAADwPwAAAAAAAPA/AAAAAAAA8D8AAAAAAADwPwAAAAAAAPA/AAAAAAAA+H8AAAAAAAD4fwAAAAAAAPA/AAAAAAAA8D8AAAAAAAD4fwAAAAAAAPA/AAAAAAAA8D8AAAAAAADwPwAAAAAAAPA/AAAAAAAA8D8AAAAAAADwPwAAAAAAAPA/AAAAAAAA+H8AAAAAAADwPwAAAAAAAPA/AAAAAAAA8D8AAAAAAADwPwAAAAAAAPh/AAAAAAAA8D8AAAAAAAD4fwAAAAAAAPh/AAAAAAAA8D8AAAAAAAD4fwAAAAAAAPA/AAAAAAAA8D8AAAAAAADwPwAAAAAAAPA/AAAAAAAA8D8AAAAAAADwPwAAAAAAAPA/AAAAAAAA8D8AAAAAAADwPwAAAAAAAPh/AAAAAAAA8D8AAAAAAAD4fwAAAAAAAPA/AAAAAAAA+H8AAAAAAADwPwAAAAAAAPh/AAAAAAAA8D8AAAAAAADwPwAAAAAAAPA/AAAAAAAA8D8AAAAAAAD4fwAAAAAAAPA/AAAAAAAA8D8AAAAAAADwPwAAAAAAAPA/AAAAAAAA8D8AAAAAAADwPwAAAAAAAPA/AAAAAAAA8D8AAAAAAADwPwAAAAAAAPA/AAAAAAAA+H8AAAAAAADwPwAAAAAAAPA/AAAAAAAA8D8AAAAAAADwPwAAAAAAAPh/AAAAAAAA8D8AAAAAAAD4fwAAAAAAAPh/AAAAAAAA+H8AAAAAAADwPwAAAAAAAPh/AAAAAAAA8D8AAAAAAADwPwAAAAAAAPA/AAAAAAAA8D8AAAAAAADwPwAAAAAAAPA/AAAAAAAA8D8AAAAAAAD4fwAAAAAAAPA/AAAAAAAA8D8AAAAAAADwPwAAAAAAAPA/AAAAAAAA+H8AAAAAAADwPwAAAAAAAPA/AAAAAAAA8D8AAAAAAADwPwAAAAAAAPA/AAAAAAAA8D8AAAAAAADwPwAAAAAAAPh/AAAAAAAA8D8AAAAAAADwPwAAAAAAAPA/AAAAAAAA8D8AAAAAAADwPwAAAAAAAPA/AAAAAAAA8D8AAAAAAAD4fwAAAAAAAPh/AAAAAAAA8D8AAAAAAADwPwAAAAAAAPA/AAAAAAAA8D8AAAAAAADwPwAAAAAAAPA/AAAAAAAA8D8AAAAAAADwPwAAAAAAAPA/AAAAAAAA8D8AAAAAAADwPwAAAAAAAPA/AAAAAAAA8D8AAAAAAADwPwAAAAAAAPA/AAAAAAAA+H8AAAAAAADwPwAAAAAAAPA/AAAAAAAA8D8AAAAAAADwPwAAAAAAAPA/AAAAAAAA8D8AAAAAAADwPwAAAAAAAPA/AAAAAAAA8D8AAAAAAADwPwAAAAAAAPA/AAAAAAAA8D8AAAAAAAD4fwAAAAAAAPA/AAAAAAAA8D8AAAAAAADwPwAAAAAAAPA/AAAAAAAA8D8AAAAAAAD4fwAAAAAAAPA/AAAAAAAA+H8AAAAAAADwPwAAAAAAAPA/AAAAAAAA8D8AAAAAAADwPwAAAAAAAPA/AAAAAAAA8D8AAAAAAADwPwAAAAAAAPh/AAAAAAAA8D8AAAAAAAD4fwAAAAAAAPA/AAAAAAAA+H8AAAAAAADwPwAAAAAAAPA/AAAAAAAA8D8AAAAAAADwPwAAAAAAAPA/AAAAAAAA+H8AAAAAAAD4fwAAAAAAAPA/AAAAAAAA8D8AAAAAAADwPwAAAAAAAPh/AAAAAAAA8D8AAAAAAADwPwAAAAAAAPA/AAAAAAAA8D8AAAAAAAD4fwAAAAAAAPA/AAAAAAAA+H8AAAAAAADwPwAAAAAAAPA/AAAAAAAA8D8AAAAAAADwPwAAAAAAAPA/AAAAAAAA8D8AAAAAAAD4fwAAAAAAAPA/AAAAAAAA+H8AAAAAAAD4fwAAAAAAAPA/AAAAAAAA8D8AAAAAAADwPwAAAAAAAPA/AAAAAAAA+H8AAAAAAADwPwAAAAAAAPh/AAAAAAAA8D8AAAAAAADwPwAAAAAAAPA/AAAAAAAA8D8AAAAAAADwPwAAAAAAAPA/AAAAAAAA+H8AAAAAAADwPwAAAAAAAPA/AAAAAAAA8D8AAAAAAADwPwAAAAAAAPA/AAAAAAAA8D8AAAAAAADwPwAAAAAAAPA/AAAAAAAA8D8AAAAAAADwPwAAAAAAAPA/AAAAAAAA8D8AAAAAAADwPwAAAAAAAPA/AAAAAAAA8D8AAAAAAADwPwAAAAAAAPA/AAAAAAAA8D8AAAAAAADwPwAAAAAAAPA/AAAAAAAA8D8AAAAAAADwPwAAAAAAAPA/AAAAAAAA8D8AAAAAAADwPwAAAAAAAPA/AAAAAAAA8D8AAAAAAAD4fwAAAAAAAPh/AAAAAAAA+H8AAAAAAADwPwAAAAAAAPA/AAAAAAAA+H8AAAAAAAD4fwAAAAAAAPA/AAAAAAAA8D8AAAAAAAD4fwAAAAAAAPA/AAAAAAAA8D8AAAAAAADwPwAAAAAAAPA/AAAAAAAA8D8AAAAAAADwPwAAAAAAAPh/AAAAAAAA+H8AAAAAAADwPwAAAAAAAPA/AAAAAAAA8D8AAAAAAADwPwAAAAAAAPA/AAAAAAAA8D8AAAAAAADwPwAAAAAAAPA/AAAAAAAA+H8AAAAAAADwPwAAAAAAAPA/AAAAAAAA8D8AAAAAAADwPwAAAAAAAPA/AAAAAAAA8D8AAAAAAAD4fwAAAAAAAPA/AAAAAAAA+H8AAAAAAAD4fwAAAAAAAPh/AAAAAAAA8D8AAAAAAADwPwAAAAAAAPh/AAAAAAAA8D8AAAAAAADwPwAAAAAAAPh/AAAAAAAA8D8AAAAAAADwPwAAAAAAAPA/AAAAAAAA8D8AAAAAAADwPwAAAAAAAPh/AAAAAAAA8D8AAAAAAADwPwAAAAAAAPh/AAAAAAAA8D8AAAAAAADwPwAAAAAAAPh/AAAAAAAA8D8AAAAAAADwPwAAAAAAAPh/AAAAAAAA8D8AAAAAAADwPwAAAAAAAPA/AAAAAAAA8D8AAAAAAADwPwAAAAAAAPA/AAAAAAAA8D8AAAAAAADwPwAAAAAAAPA/AAAAAAAA8D8AAAAAAADwPwAAAAAAAPh/AAAAAAAA+H8AAAAAAADwPwAAAAAAAPh/AAAAAAAA+H8AAAAAAADwPwAAAAAAAPA/AAAAAAAA8D8AAAAAAADwPwAAAAAAAPA/AAAAAAAA8D8AAAAAAADwPwAAAAAAAPA/AAAAAAAA8D8AAAAAAAD4fwAAAAAAAPA/AAAAAAAA8D8AAAAAAADwPwAAAAAAAPA/AAAAAAAA8D8AAAAAAADwPwAAAAAAAPA/AAAAAAAA8D8AAAAAAADwPwAAAAAAAPA/AAAAAAAA+H8AAAAAAADwPwAAAAAAAPA/AAAAAAAA8D8AAAAAAADwPwAAAAAAAPh/AAAAAAAA8D8AAAAAAADwPwAAAAAAAPA/AAAAAAAA8D8AAAAAAADwPwAAAAAAAPh/AAAAAAAA8D8AAAAAAAD4fwAAAAAAAPA/AAAAAAAA8D8AAAAAAAD4fwAAAAAAAPA/AAAAAAAA8D8AAAAAAADwPwAAAAAAAPA/AAAAAAAA+H8AAAAAAADwPwAAAAAAAPA/AAAAAAAA8D8AAAAAAAD4fwAAAAAAAPh/AAAAAAAA8D8AAAAAAADwPwAAAAAAAPh/AAAAAAAA8D8AAAAAAADwPwAAAAAAAPh/AAAAAAAA8D8AAAAAAADwPwAAAAAAAPA/AAAAAAAA8D8AAAAAAADwPwAAAAAAAPh/AAAAAAAA+H8AAAAAAADwPwAAAAAAAPA/AAAAAAAA8D8AAAAAAADwPwAAAAAAAPA/AAAAAAAA8D8AAAAAAADwPwAAAAAAAPA/AAAAAAAA+H8AAAAAAAD4fwAAAAAAAPA/AAAAAAAA8D8AAAAAAADwPwAAAAAAAPh/AAAAAAAA8D8AAAAAAADwPwAAAAAAAPA/AAAAAAAA8D8AAAAAAAD4fwAAAAAAAPA/AAAAAAAA8D8AAAAAAAD4fwAAAAAAAPh/AAAAAAAA8D8AAAAAAADwPwAAAAAAAPA/AAAAAAAA8D8AAAAAAADwPwAAAAAAAPA/AAAAAAAA+H8AAAAAAADwPwAAAAAAAPh/AAAAAAAA8D8AAAAAAADwPwAAAAAAAPh/AAAAAAAA8D8AAAAAAADwPwAAAAAAAPA/AAAAAAAA8D8AAAAAAADwPwAAAAAAAPA/AAAAAAAA8D8AAAAAAADwPwAAAAAAAPA/AAAAAAAA8D8AAAAAAAD4fwAAAAAAAPA/AAAAAAAA8D8AAAAAAADwPwAAAAAAAPA/AAAAAAAA8D8AAAAAAAD4fwAAAAAAAPA/AAAAAAAA8D8AAAAAAADwPwAAAAAAAPA/AAAAAAAA+H8AAAAAAAD4fwAAAAAAAPA/AAAAAAAA8D8AAAAAAADwPwAAAAAAAPA/AAAAAAAA+H8AAAAAAADwPwAAAAAAAPh/AAAAAAAA8D8AAAAAAADwPwAAAAAAAPA/AAAAAAAA8D8AAAAAAADwPwAAAAAAAPA/AAAAAAAA8D8AAAAAAAD4fwAAAAAAAPA/AAAAAAAA8D8AAAAAAADwPwAAAAAAAPA/AAAAAAAA+H8AAAAAAADwPwAAAAAAAPA/AAAAAAAA8D8AAAAAAADwPwAAAAAAAPA/AAAAAAAA8D8AAAAAAADwPwAAAAAAAPA/AAAAAAAA8D8AAAAAAADwPwAAAAAAAPA/AAAAAAAA8D8AAAAAAADwPwAAAAAAAPA/AAAAAAAA8D8AAAAAAADwPwAAAAAAAPA/AAAAAAAA8D8AAAAAAADwPwAAAAAAAPh/AAAAAAAA+H8AAAAAAADwPwAAAAAAAPA/AAAAAAAA+H8AAAAAAADwPwAAAAAAAPA/AAAAAAAA+H8AAAAAAADwPwAAAAAAAPA/AAAAAAAA8D8AAAAAAADwPwAAAAAAAPA/AAAAAAAA+H8AAAAAAADwPwAAAAAAAPh/AAAAAAAA+H8AAAAAAADwPwAAAAAAAPA/AAAAAAAA+H8AAAAAAAD4fwAAAAAAAPA/AAAAAAAA8D8AAAAAAADwPwAAAAAAAPA/AAAAAAAA8D8AAAAAAADwPwAAAAAAAPA/AAAAAAAA8D8AAAAAAADwPwAAAAAAAPA/AAAAAAAA8D8AAAAAAADwPwAAAAAAAPA/AAAAAAAA8D8AAAAAAADwPwAAAAAAAPh/AAAAAAAA8D8AAAAAAADwPwAAAAAAAPA/AAAAAAAA+H8AAAAAAADwPwAAAAAAAPA/AAAAAAAA8D8AAAAAAADwPwAAAAAAAPA/AAAAAAAA8D8AAAAAAADwPwAAAAAAAPA/AAAAAAAA8D8AAAAAAADwPwAAAAAAAPA/AAAAAAAA8D8AAAAAAADwPwAAAAAAAPA/AAAAAAAA+H8AAAAAAADwPwAAAAAAAPA/AAAAAAAA8D8AAAAAAADwPwAAAAAAAPA/AAAAAAAA+H8AAAAAAADwPwAAAAAAAPA/AAAAAAAA+H8AAAAAAADwPwAAAAAAAPh/AAAAAAAA+H8AAAAAAADwPwAAAAAAAPA/AAAAAAAA8D8AAAAAAADwPwAAAAAAAPA/AAAAAAAA8D8AAAAAAADwPwAAAAAAAPA/AAAAAAAA8D8AAAAAAADwPwAAAAAAAPA/AAAAAAAA8D8AAAAAAADwPwAAAAAAAPA/AAAAAAAA+H8AAAAAAADwPwAAAAAAAPA/AAAAAAAA8D8AAAAAAAD4fwAAAAAAAPA/AAAAAAAA8D8AAAAAAADwPwAAAAAAAPh/AAAAAAAA8D8AAAAAAADwPwAAAAAAAPA/AAAAAAAA+H8AAAAAAADwPwAAAAAAAPA/AAAAAAAA8D8AAAAAAADwPwAAAAAAAPA/AAAAAAAA8D8AAAAAAADwPwAAAAAAAPA/AAAAAAAA8D8AAAAAAADwPwAAAAAAAPA/AAAAAAAA+H8AAAAAAADwPwAAAAAAAPA/AAAAAAAA8D8AAAAAAAD4fwAAAAAAAPh/AAAAAAAA8D8AAAAAAADwPwAAAAAAAPA/AAAAAAAA8D8AAAAAAADwPwAAAAAAAPA/AAAAAAAA+H8AAAAAAADwPwAAAAAAAPA/AAAAAAAA8D8AAAAAAADwPwAAAAAAAPA/AAAAAAAA+H8AAAAAAADwPwAAAAAAAPh/AAAAAAAA8D8AAAAAAADwPwAAAAAAAPh/AAAAAAAA8D8AAAAAAADwPwAAAAAAAPA/AAAAAAAA8D8AAAAAAADwPwAAAAAAAPA/AAAAAAAA+H8AAAAAAADwPwAAAAAAAPA/AAAAAAAA+H8AAAAAAADwPwAAAAAAAPh/AAAAAAAA8D8AAAAAAADwPwAAAAAAAPA/AAAAAAAA8D8AAAAAAADwPwAAAAAAAPA/AAAAAAAA8D8AAAAAAADwPwAAAAAAAPA/AAAAAAAA8D8AAAAAAADwPwAAAAAAAPA/AAAAAAAA8D8AAAAAAADwPwAAAAAAAPA/AAAAAAAA+H8AAAAAAADwPwAAAAAAAPA/AAAAAAAA+H8AAAAAAADwPwAAAAAAAPA/AAAAAAAA+H8AAAAAAADwPwAAAAAAAPA/AAAAAAAA+H8AAAAAAADwPwAAAAAAAPA/AAAAAAAA8D8AAAAAAADwPwAAAAAAAPA/AAAAAAAA8D8AAAAAAADwPwAAAAAAAPA/AAAAAAAA+H8AAAAAAADwPwAAAAAAAPA/AAAAAAAA+H8AAAAAAAD4fwAAAAAAAPh/AAAAAAAA8D8AAAAAAADwPwAAAAAAAPh/AAAAAAAA8D8AAAAAAAD4fwAAAAAAAPh/AAAAAAAA8D8AAAAAAAD4fwAAAAAAAPA/AAAAAAAA+H8AAAAAAADwPwAAAAAAAPA/AAAAAAAA8D8AAAAAAADwPwAAAAAAAPA/AAAAAAAA8D8AAAAAAADwPwAAAAAAAPA/AAAAAAAA8D8AAAAAAADwPwAAAAAAAPh/AAAAAAAA8D8AAAAAAAD4fwAAAAAAAPA/AAAAAAAA8D8AAAAAAADwPwAAAAAAAPA/AAAAAAAA8D8AAAAAAAD4fwAAAAAAAPA/AAAAAAAA8D8AAAAAAADwPwAAAAAAAPh/AAAAAAAA8D8AAAAAAADwPwAAAAAAAPA/AAAAAAAA8D8AAAAAAADwPwAAAAAAAPA/AAAAAAAA8D8AAAAAAADwPwAAAAAAAPA/AAAAAAAA8D8AAAAAAADwPwAAAAAAAPh/AAAAAAAA8D8AAAAAAADwPwAAAAAAAPA/AAAAAAAA8D8AAAAAAADwPwAAAAAAAPA/AAAAAAAA+H8AAAAAAADwPwAAAAAAAPh/AAAAAAAA8D8AAAAAAADwPwAAAAAAAPA/AAAAAAAA8D8AAAAAAADwPwAAAAAAAPA/AAAAAAAA8D8AAAAAAAD4fwAAAAAAAPA/AAAAAAAA8D8AAAAAAAD4fwAAAAAAAPA/AAAAAAAA+H8AAAAAAADwPwAAAAAAAPA/AAAAAAAA+H8AAAAAAADwPwAAAAAAAPA/AAAAAAAA+H8AAAAAAADwPwAAAAAAAPA/AAAAAAAA8D8AAAAAAADwPwAAAAAAAPA/AAAAAAAA8D8AAAAAAADwPwAAAAAAAPA/AAAAAAAA+H8AAAAAAADwPwAAAAAAAPA/AAAAAAAA8D8AAAAAAADwPwAAAAAAAPA/AAAAAAAA8D8AAAAAAADwPwAAAAAAAPA/AAAAAAAA+H8AAAAAAAD4fwAAAAAAAPh/AAAAAAAA8D8AAAAAAADwPwAAAAAAAPA/AAAAAAAA8D8AAAAAAADwPwAAAAAAAPA/AAAAAAAA8D8AAAAAAADwPwAAAAAAAPA/AAAAAAAA+H8AAAAAAADwPwAAAAAAAPA/AAAAAAAA+H8AAAAAAADwPwAAAAAAAPA/AAAAAAAA+H8AAAAAAADwPwAAAAAAAPh/AAAAAAAA8D8AAAAAAADwPwAAAAAAAPh/AAAAAAAA8D8AAAAAAADwPwAAAAAAAPA/AAAAAAAA8D8AAAAAAADwPwAAAAAAAPA/AAAAAAAA8D8AAAAAAADwPwAAAAAAAPA/AAAAAAAA8D8AAAAAAAD4fwAAAAAAAPA/AAAAAAAA8D8AAAAAAAD4fwAAAAAAAPA/AAAAAAAA+H8AAAAAAADwPwAAAAAAAPh/AAAAAAAA8D8AAAAAAADwPwAAAAAAAPA/AAAAAAAA8D8AAAAAAADwPwAAAAAAAPA/AAAAAAAA8D8AAAAAAADwPwAAAAAAAPh/AAAAAAAA8D8AAAAAAAD4fwAAAAAAAPA/AAAAAAAA8D8AAAAAAAD4fwAAAAAAAPA/AAAAAAAA8D8AAAAAAAD4fwAAAAAAAPh/AAAAAAAA8D8AAAAAAADwPwAAAAAAAPA/AAAAAAAA+H8AAAAAAADwPwAAAAAAAPA/AAAAAAAA8D8AAAAAAADwPwAAAAAAAPA/AAAAAAAA8D8AAAAAAADwPwAAAAAAAPA/AAAAAAAA8D8AAAAAAADwPwAAAAAAAPA/AAAAAAAA8D8AAAAAAADwPwAAAAAAAPA/AAAAAAAA8D8AAAAAAADwPwAAAAAAAPA/AAAAAAAA8D8AAAAAAADwPwAAAAAAAPA/AAAAAAAA8D8AAAAAAADwPwAAAAAAAPh/AAAAAAAA8D8AAAAAAADwPwAAAAAAAPA/AAAAAAAA+H8AAAAAAADwPwAAAAAAAPA/AAAAAAAA+H8AAAAAAAD4fwAAAAAAAPA/AAAAAAAA+H8AAAAAAADwPwAAAAAAAPA/AAAAAAAA8D8AAAAAAADwPwAAAAAAAPA/AAAAAAAA8D8AAAAAAADwPwAAAAAAAPA/AAAAAAAA8D8AAAAAAAD4fwAAAAAAAPA/AAAAAAAA8D8AAAAAAAD4fwAAAAAAAPA/AAAAAAAA8D8AAAAAAADwPwAAAAAAAPA/AAAAAAAA+H8AAAAAAADwPwAAAAAAAPA/AAAAAAAA8D8AAAAAAAD4fwAAAAAAAPA/AAAAAAAA8D8AAAAAAADwPwAAAAAAAPA/AAAAAAAA8D8AAAAAAADwPwAAAAAAAPA/AAAAAAAA8D8AAAAAAADwPwAAAAAAAPh/AAAAAAAA8D8AAAAAAADwPwAAAAAAAPA/AAAAAAAA8D8AAAAAAADwPwAAAAAAAPA/AAAAAAAA+H8AAAAAAAD4fwAAAAAAAPA/AAAAAAAA8D8AAAAAAADwPwAAAAAAAPA/AAAAAAAA8D8AAAAAAADwPwAAAAAAAPA/AAAAAAAA8D8AAAAAAADwPwAAAAAAAPA/AAAAAAAA+H8AAAAAAADwPwAAAAAAAPA/AAAAAAAA8D8AAAAAAADwPwAAAAAAAPA/AAAAAAAA8D8AAAAAAAD4fwAAAAAAAPA/AAAAAAAA+H8AAAAAAADwPwAAAAAAAPA/AAAAAAAA8D8AAAAAAADwPwAAAAAAAPA/AAAAAAAA8D8AAAAAAAD4fwAAAAAAAPh/AAAAAAAA+H8AAAAAAADwPwAAAAAAAPA/AAAAAAAA+H8AAAAAAADwPwAAAAAAAPA/AAAAAAAA+H8AAAAAAADwPwAAAAAAAPA/AAAAAAAA+H8AAAAAAADwPwAAAAAAAPA/AAAAAAAA+H8AAAAAAADwPwAAAAAAAPh/AAAAAAAA8D8AAAAAAADwPwAAAAAAAPA/AAAAAAAA8D8AAAAAAAD4fwAAAAAAAPA/AAAAAAAA8D8AAAAAAADwPwAAAAAAAPA/AAAAAAAA8D8AAAAAAAD4fwAAAAAAAPA/AAAAAAAA8D8AAAAAAADwPwAAAAAAAPA/AAAAAAAA8D8AAAAAAADwPwAAAAAAAPh/AAAAAAAA8D8AAAAAAADwPwAAAAAAAPA/AAAAAAAA+H8AAAAAAADwPwAAAAAAAPA/AAAAAAAA8D8AAAAAAADwPwAAAAAAAPA/AAAAAAAA8D8AAAAAAADwPwAAAAAAAPA/AAAAAAAA8D8AAAAAAADwPwAAAAAAAPA/AAAAAAAA8D8AAAAAAAD4fwAAAAAAAPh/AAAAAAAA8D8AAAAAAAD4fwAAAAAAAPA/AAAAAAAA8D8AAAAAAADwPwAAAAAAAPA/AAAAAAAA+H8AAAAAAAD4fwAAAAAAAPh/AAAAAAAA8D8AAAAAAAD4fwAAAAAAAPA/AAAAAAAA8D8AAAAAAADwPwAAAAAAAPA/AAAAAAAA8D8AAAAAAADwPwAAAAAAAPA/AAAAAAAA8D8AAAAAAADwPwAAAAAAAPA/AAAAAAAA8D8AAAAAAAD4fwAAAAAAAPh/AAAAAAAA8D8AAAAAAADwPwAAAAAAAPA/AAAAAAAA8D8AAAAAAADwPwAAAAAAAPh/AAAAAAAA8D8AAAAAAADwPwAAAAAAAPA/AAAAAAAA8D8AAAAAAAD4fwAAAAAAAPA/AAAAAAAA8D8AAAAAAADwPwAAAAAAAPh/AAAAAAAA8D8AAAAAAADwPwAAAAAAAPA/AAAAAAAA+H8AAAAAAADwPwAAAAAAAPA/AAAAAAAA8D8AAAAAAADwPwAAAAAAAPh/AAAAAAAA8D8AAAAAAADwPwAAAAAAAPA/AAAAAAAA8D8AAAAAAADwPwAAAAAAAPA/AAAAAAAA8D8AAAAAAADwPwAAAAAAAPA/AAAAAAAA8D8AAAAAAADwPwAAAAAAAPh/AAAAAAAA+H8AAAAAAADwPwAAAAAAAPA/AAAAAAAA8D8AAAAAAADwPwAAAAAAAPA/AAAAAAAA+H8AAAAAAAD4fwAAAAAAAPh/AAAAAAAA+H8AAAAAAAD4fwAAAAAAAPA/AAAAAAAA8D8AAAAAAAD4fwAAAAAAAPA/AAAAAAAA8D8AAAAAAADwPwAAAAAAAPh/AAAAAAAA8D8AAAAAAADwPwAAAAAAAPA/AAAAAAAA+H8AAAAAAAD4fwAAAAAAAPA/AAAAAAAA8D8AAAAAAAD4fwAAAAAAAPA/AAAAAAAA+H8AAAAAAADwPwAAAAAAAPA/AAAAAAAA8D8AAAAAAADwPwAAAAAAAPA/AAAAAAAA+H8AAAAAAADwPwAAAAAAAPh/AAAAAAAA8D8AAAAAAAD4fwAAAAAAAPA/AAAAAAAA8D8AAAAAAADwPwAAAAAAAPh/AAAAAAAA8D8AAAAAAADwPwAAAAAAAPA/AAAAAAAA8D8AAAAAAAD4fwAAAAAAAPA/AAAAAAAA8D8AAAAAAAD4fwAAAAAAAPh/AAAAAAAA8D8AAAAAAAD4fwAAAAAAAPA/AAAAAAAA8D8AAAAAAAD4fwAAAAAAAPA/AAAAAAAA8D8AAAAAAADwPwAAAAAAAPh/AAAAAAAA8D8AAAAAAADwPwAAAAAAAPh/AAAAAAAA+H8AAAAAAADwPwAAAAAAAPh/AAAAAAAA8D8AAAAAAADwPwAAAAAAAPA/AAAAAAAA8D8AAAAAAADwPwAAAAAAAPA/AAAAAAAA8D8AAAAAAADwPwAAAAAAAPA/AAAAAAAA8D8AAAAAAADwPwAAAAAAAPh/AAAAAAAA8D8AAAAAAADwPwAAAAAAAPh/AAAAAAAA8D8AAAAAAADwPwAAAAAAAPA/AAAAAAAA8D8AAAAAAAD4fwAAAAAAAPA/AAAAAAAA8D8AAAAAAAD4fwAAAAAAAPA/AAAAAAAA8D8AAAAAAADwPwAAAAAAAPA/AAAAAAAA8D8AAAAAAADwPwAAAAAAAPA/AAAAAAAA8D8AAAAAAADwPwAAAAAAAPh/AAAAAAAA8D8AAAAAAADwPwAAAAAAAPA/AAAAAAAA+H8AAAAAAAD4fwAAAAAAAPh/AAAAAAAA8D8AAAAAAAD4fwAAAAAAAPh/AAAAAAAA+H8AAAAAAADwPwAAAAAAAPh/AAAAAAAA8D8AAAAAAADwPwAAAAAAAPA/AAAAAAAA8D8AAAAAAADwPwAAAAAAAPA/AAAAAAAA8D8AAAAAAADwPwAAAAAAAPA/AAAAAAAA+H8AAAAAAADwPwAAAAAAAPh/AAAAAAAA8D8AAAAAAADwPwAAAAAAAPh/AAAAAAAA8D8AAAAAAAD4fwAAAAAAAPA/AAAAAAAA8D8AAAAAAAD4fwAAAAAAAPA/AAAAAAAA8D8AAAAAAADwPwAAAAAAAPA/AAAAAAAA8D8AAAAAAAD4fwAAAAAAAPA/AAAAAAAA+H8AAAAAAADwPwAAAAAAAPA/AAAAAAAA8D8AAAAAAAD4fwAAAAAAAPA/AAAAAAAA8D8AAAAAAADwPwAAAAAAAPA/AAAAAAAA8D8AAAAAAAD4fwAAAAAAAPA/AAAAAAAA8D8AAAAAAADwPwAAAAAAAPA/AAAAAAAA8D8AAAAAAADwPwAAAAAAAPh/AAAAAAAA8D8AAAAAAADwPwAAAAAAAPh/AAAAAAAA8D8AAAAAAADwPwAAAAAAAPA/AAAAAAAA+H8AAAAAAADwPwAAAAAAAPA/AAAAAAAA+H8AAAAAAADwPwAAAAAAAPh/AAAAAAAA8D8AAAAAAAD4fwAAAAAAAPA/AAAAAAAA8D8AAAAAAADwPwAAAAAAAPA/AAAAAAAA8D8AAAAAAADwPwAAAAAAAPA/AAAAAAAA8D8AAAAAAADwPwAAAAAAAPA/AAAAAAAA8D8AAAAAAADwPwAAAAAAAPA/AAAAAAAA8D8AAAAAAAD4fwAAAAAAAPh/AAAAAAAA8D8AAAAAAADwPwAAAAAAAPA/AAAAAAAA+H8AAAAAAADwPwAAAAAAAPA/AAAAAAAA8D8AAAAAAADwPwAAAAAAAPh/AAAAAAAA8D8AAAAAAADwPwAAAAAAAPA/AAAAAAAA8D8AAAAAAAD4fwAAAAAAAPh/AAAAAAAA8D8AAAAAAADwPwAAAAAAAPA/AAAAAAAA8D8AAAAAAADwPwAAAAAAAPA/AAAAAAAA8D8AAAAAAAD4fwAAAAAAAPA/AAAAAAAA8D8AAAAAAADwPwAAAAAAAPA/AAAAAAAA8D8AAAAAAADwPwAAAAAAAPh/AAAAAAAA+H8AAAAAAADwPwAAAAAAAPA/AAAAAAAA8D8AAAAAAADwPwAAAAAAAPh/AAAAAAAA8D8AAAAAAADwPwAAAAAAAPA/AAAAAAAA8D8AAAAAAADwPwAAAAAAAPA/AAAAAAAA+H8AAAAAAADwPwAAAAAAAPA/AAAAAAAA+H8AAAAAAADwPwAAAAAAAPA/AAAAAAAA8D8AAAAAAADwPwAAAAAAAPA/AAAAAAAA8D8AAAAAAADwPwAAAAAAAPh/AAAAAAAA+H8AAAAAAADwPwAAAAAAAPA/AAAAAAAA8D8AAAAAAADwPwAAAAAAAPA/AAAAAAAA8D8AAAAAAADwPwAAAAAAAPA/AAAAAAAA8D8AAAAAAADwPwAAAAAAAPA/AAAAAAAA+H8AAAAAAADwPwAAAAAAAPA/AAAAAAAA8D8AAAAAAADwPwAAAAAAAPh/AAAAAAAA8D8AAAAAAADwPwAAAAAAAPA/AAAAAAAA8D8AAAAAAADwPwAAAAAAAPA/AAAAAAAA8D8AAAAAAADwPwAAAAAAAPA/AAAAAAAA8D8AAAAAAADwPwAAAAAAAPh/AAAAAAAA+H8AAAAAAAD4fwAAAAAAAPA/AAAAAAAA8D8AAAAAAADwPwAAAAAAAPA/AAAAAAAA8D8AAAAAAAD4fwAAAAAAAPh/AAAAAAAA+H8AAAAAAADwPwAAAAAAAPh/AAAAAAAA+H8AAAAAAAD4fwAAAAAAAPA/AAAAAAAA8D8AAAAAAAD4fwAAAAAAAPA/AAAAAAAA8D8AAAAAAAD4fwAAAAAAAPh/AAAAAAAA8D8AAAAAAADwPwAAAAAAAPA/AAAAAAAA+H8AAAAAAADwPwAAAAAAAPA/AAAAAAAA8D8AAAAAAAD4fwAAAAAAAPA/AAAAAAAA8D8AAAAAAADwPwAAAAAAAPA/AAAAAAAA8D8AAAAAAAD4fwAAAAAAAPA/AAAAAAAA+H8AAAAAAADwPwAAAAAAAPA/AAAAAAAA8D8AAAAAAADwPwAAAAAAAPA/AAAAAAAA8D8AAAAAAADwPwAAAAAAAPA/AAAAAAAA+H8AAAAAAAD4fwAAAAAAAPA/AAAAAAAA+H8AAAAAAAD4fwAAAAAAAPh/AAAAAAAA8D8AAAAAAAD4fwAAAAAAAPA/AAAAAAAA8D8AAAAAAADwPwAAAAAAAPA/AAAAAAAA8D8AAAAAAADwPwAAAAAAAPA/AAAAAAAA+H8AAAAAAADwPwAAAAAAAPh/AAAAAAAA+H8AAAAAAAD4fwAAAAAAAPh/AAAAAAAA+H8AAAAAAAD4fwAAAAAAAPA/AAAAAAAA+H8AAAAAAADwPwAAAAAAAPh/AAAAAAAA8D8AAAAAAAD4fwAAAAAAAPA/AAAAAAAA8D8AAAAAAADwPwAAAAAAAPh/AAAAAAAA8D8AAAAAAADwPwAAAAAAAPA/AAAAAAAA8D8AAAAAAADwPwAAAAAAAPA/AAAAAAAA8D8AAAAAAAD4fwAAAAAAAPA/AAAAAAAA8D8AAAAAAAD4fwAAAAAAAPh/AAAAAAAA8D8AAAAAAADwPwAAAAAAAPh/AAAAAAAA8D8AAAAAAAD4fwAAAAAAAPh/AAAAAAAA+H8AAAAAAADwPwAAAAAAAPA/AAAAAAAA+H8AAAAAAADwPwAAAAAAAPh/AAAAAAAA8D8AAAAAAADwPwAAAAAAAPh/AAAAAAAA+H8AAAAAAADwPwAAAAAAAPh/AAAAAAAA8D8AAAAAAADwPwAAAAAAAPA/AAAAAAAA8D8AAAAAAAD4fwAAAAAAAPA/AAAAAAAA+H8AAAAAAADwPwAAAAAAAPh/AAAAAAAA+H8AAAAAAADwPwAAAAAAAPA/AAAAAAAA8D8AAAAAAADwPwAAAAAAAPA/AAAAAAAA8D8AAAAAAADwPwAAAAAAAPh/AAAAAAAA8D8AAAAAAADwPwAAAAAAAPA/AAAAAAAA+H8AAAAAAADwPwAAAAAAAPh/AAAAAAAA8D8AAAAAAADwPwAAAAAAAPA/AAAAAAAA+H8AAAAAAADwPwAAAAAAAPA/AAAAAAAA+H8AAAAAAADwPwAAAAAAAPA/AAAAAAAA8D8AAAAAAAD4fwAAAAAAAPA/AAAAAAAA8D8AAAAAAADwPwAAAAAAAPA/AAAAAAAA8D8AAAAAAAD4fwAAAAAAAPA/AAAAAAAA+H8AAAAAAADwPwAAAAAAAPA/AAAAAAAA+H8AAAAAAADwPwAAAAAAAPA/AAAAAAAA8D8AAAAAAADwPwAAAAAAAPA/AAAAAAAA8D8AAAAAAADwPwAAAAAAAPA/AAAAAAAA8D8AAAAAAADwPwAAAAAAAPA/AAAAAAAA8D8AAAAAAAD4fwAAAAAAAPA/AAAAAAAA+H8AAAAAAADwPwAAAAAAAPA/AAAAAAAA+H8AAAAAAADwPwAAAAAAAPA/AAAAAAAA8D8AAAAAAADwPwAAAAAAAPh/AAAAAAAA8D8AAAAAAADwPwAAAAAAAPA/AAAAAAAA8D8AAAAAAADwPwAAAAAAAPh/AAAAAAAA+H8AAAAAAAD4fwAAAAAAAPA/AAAAAAAA8D8AAAAAAADwPwAAAAAAAPh/AAAAAAAA8D8AAAAAAAD4fwAAAAAAAPh/AAAAAAAA+H8AAAAAAADwPwAAAAAAAPA/AAAAAAAA8D8AAAAAAADwPwAAAAAAAPA/AAAAAAAA+H8AAAAAAADwPwAAAAAAAPA/AAAAAAAA8D8AAAAAAADwPwAAAAAAAPh/AAAAAAAA+H8AAAAAAAD4fwAAAAAAAPh/AAAAAAAA8D8AAAAAAADwPwAAAAAAAPA/AAAAAAAA+H8AAAAAAAD4fwAAAAAAAPA/AAAAAAAA+H8AAAAAAADwPwAAAAAAAPA/AAAAAAAA+H8AAAAAAAD4fwAAAAAAAPh/AAAAAAAA+H8AAAAAAADwPwAAAAAAAPh/AAAAAAAA8D8AAAAAAADwPwAAAAAAAPA/AAAAAAAA8D8AAAAAAADwPwAAAAAAAPA/AAAAAAAA8D8AAAAAAADwPwAAAAAAAPA/AAAAAAAA+H8AAAAAAAD4fwAAAAAAAPA/AAAAAAAA8D8AAAAAAADwPwAAAAAAAPh/AAAAAAAA8D8AAAAAAADwPwAAAAAAAPA/AAAAAAAA+H8AAAAAAADwPwAAAAAAAPA/AAAAAAAA+H8AAAAAAADwPwAAAAAAAPA/AAAAAAAA+H8AAAAAAADwPwAAAAAAAPA/AAAAAAAA+H8AAAAAAAD4fwAAAAAAAPA/AAAAAAAA8D8AAAAAAAD4fwAAAAAAAPA/AAAAAAAA8D8AAAAAAAD4fwAAAAAAAPh/AAAAAAAA8D8AAAAAAADwPwAAAAAAAPA/AAAAAAAA+H8AAAAAAADwPwAAAAAAAPA/AAAAAAAA8D8AAAAAAADwPwAAAAAAAPh/AAAAAAAA8D8AAAAAAAD4fwAAAAAAAPA/AAAAAAAA8D8AAAAAAADwPwAAAAAAAPA/AAAAAAAA8D8AAAAAAAD4fwAAAAAAAPA/AAAAAAAA8D8AAAAAAADwPwAAAAAAAPA/AAAAAAAA8D8AAAAAAAD4fwAAAAAAAPA/AAAAAAAA+H8AAAAAAAD4fwAAAAAAAPA/AAAAAAAA8D8AAAAAAADwPwAAAAAAAPA/AAAAAAAA8D8AAAAAAADwPwAAAAAAAPA/AAAAAAAA8D8AAAAAAADwPwAAAAAAAPh/AAAAAAAA+H8AAAAAAAD4fwAAAAAAAPh/AAAAAAAA8D8AAAAAAADwPwAAAAAAAPA/AAAAAAAA+H8AAAAAAADwPwAAAAAAAPA/AAAAAAAA8D8AAAAAAADwPwAAAAAAAPA/AAAAAAAA8D8AAAAAAADwPwAAAAAAAPA/AAAAAAAA8D8AAAAAAADwPwAAAAAAAPA/AAAAAAAA+H8AAAAAAAD4fwAAAAAAAPA/AAAAAAAA+H8AAAAAAADwPwAAAAAAAPA/AAAAAAAA8D8AAAAAAADwPwAAAAAAAPA/AAAAAAAA+H8AAAAAAADwPwAAAAAAAPA/AAAAAAAA8D8AAAAAAADwPwAAAAAAAPA/AAAAAAAA8D8AAAAAAADwPwAAAAAAAPA/AAAAAAAA+H8AAAAAAADwPwAAAAAAAPA/AAAAAAAA8D8AAAAAAADwPwAAAAAAAPA/AAAAAAAA8D8AAAAAAAD4fwAAAAAAAPh/AAAAAAAA8D8AAAAAAADwPwAAAAAAAPA/AAAAAAAA8D8AAAAAAADwPwAAAAAAAPA/AAAAAAAA8D8AAAAAAADwPwAAAAAAAPA/AAAAAAAA8D8AAAAAAADwPwAAAAAAAPh/AAAAAAAA+H8AAAAAAAD4fwAAAAAAAPA/AAAAAAAA8D8AAAAAAAD4fwAAAAAAAPh/AAAAAAAA8D8AAAAAAAD4fwAAAAAAAPh/AAAAAAAA8D8AAAAAAAD4fwAAAAAAAPA/AAAAAAAA8D8AAAAAAADwPwAAAAAAAPA/AAAAAAAA8D8AAAAAAADwPwAAAAAAAPA/AAAAAAAA8D8AAAAAAADwPwAAAAAAAPh/AAAAAAAA8D8AAAAAAAD4fwAAAAAAAPA/AAAAAAAA+H8AAAAAAADwPwAAAAAAAPA/AAAAAAAA8D8AAAAAAADwPwAAAAAAAPA/AAAAAAAA8D8AAAAAAADwPwAAAAAAAPh/AAAAAAAA8D8AAAAAAAD4fwAAAAAAAPA/AAAAAAAA8D8AAAAAAADwPwAAAAAAAPA/AAAAAAAA8D8AAAAAAADwPwAAAAAAAPA/AAAAAAAA8D8AAAAAAADwPwAAAAAAAPA/AAAAAAAA8D8AAAAAAADwPwAAAAAAAPA/AAAAAAAA8D8AAAAAAAD4fwAAAAAAAPh/AAAAAAAA8D8AAAAAAADwPwAAAAAAAPh/AAAAAAAA8D8AAAAAAAD4fwAAAAAAAPA/AAAAAAAA+H8AAAAAAADwPwAAAAAAAPA/AAAAAAAA8D8AAAAAAADwPwAAAAAAAPA/AAAAAAAA8D8AAAAAAADwPwAAAAAAAPA/AAAAAAAA8D8AAAAAAADwPwAAAAAAAPA/AAAAAAAA8D8AAAAAAADwPwAAAAAAAPh/AAAAAAAA8D8AAAAAAADwPwAAAAAAAPA/AAAAAAAA8D8AAAAAAADwPwAAAAAAAPA/AAAAAAAA8D8AAAAAAADwPwAAAAAAAPA/AAAAAAAA8D8AAAAAAADwPwAAAAAAAPA/AAAAAAAA8D8AAAAAAADwPwAAAAAAAPh/AAAAAAAA8D8AAAAAAAD4fwAAAAAAAPA/AAAAAAAA8D8AAAAAAAD4fwAAAAAAAPA/AAAAAAAA8D8AAAAAAADwPwAAAAAAAPA/AAAAAAAA+H8AAAAAAADwPwAAAAAAAPA/AAAAAAAA8D8AAAAAAADwPwAAAAAAAPA/AAAAAAAA8D8AAAAAAADwPwAAAAAAAPA/AAAAAAAA8D8AAAAAAADwPwAAAAAAAPA/AAAAAAAA8D8AAAAAAADwPwAAAAAAAPh/AAAAAAAA8D8AAAAAAAD4fwAAAAAAAPA/AAAAAAAA8D8AAAAAAAD4fwAAAAAAAPA/AAAAAAAA8D8AAAAAAADwPwAAAAAAAPh/AAAAAAAA8D8AAAAAAAD4fwAAAAAAAPA/AAAAAAAA8D8AAAAAAADwPwAAAAAAAPA/AAAAAAAA8D8AAAAAAADwPwAAAAAAAPh/AAAAAAAA8D8AAAAAAAD4fwAAAAAAAPA/AAAAAAAA+H8AAAAAAAD4fwAAAAAAAPh/AAAAAAAA8D8AAAAAAAD4fwAAAAAAAPA/AAAAAAAA+H8AAAAAAADwPwAAAAAAAPA/AAAAAAAA+H8AAAAAAAD4fwAAAAAAAPA/AAAAAAAA8D8AAAAAAAD4fwAAAAAAAPA/AAAAAAAA+H8AAAAAAADwPwAAAAAAAPA/AAAAAAAA8D8AAAAAAADwPwAAAAAAAPA/AAAAAAAA8D8AAAAAAADwPwAAAAAAAPh/AAAAAAAA8D8AAAAAAADwPwAAAAAAAPh/AAAAAAAA8D8AAAAAAADwPwAAAAAAAPh/AAAAAAAA8D8AAAAAAADwPwAAAAAAAPA/AAAAAAAA8D8AAAAAAAD4fwAAAAAAAPh/AAAAAAAA8D8AAAAAAADwPwAAAAAAAPA/AAAAAAAA8D8AAAAAAADwPwAAAAAAAPh/AAAAAAAA8D8AAAAAAADwPwAAAAAAAPA/AAAAAAAA8D8AAAAAAADwPwAAAAAAAPA/AAAAAAAA+H8AAAAAAAD4fwAAAAAAAPA/AAAAAAAA+H8AAAAAAADwPwAAAAAAAPA/AAAAAAAA8D8AAAAAAADwPwAAAAAAAPA/AAAAAAAA8D8AAAAAAADwPwAAAAAAAPh/AAAAAAAA8D8AAAAAAADwPwAAAAAAAPA/AAAAAAAA+H8AAAAAAADwPwAAAAAAAPA/AAAAAAAA8D8AAAAAAADwPwAAAAAAAPA/AAAAAAAA8D8AAAAAAAD4fwAAAAAAAPh/AAAAAAAA8D8AAAAAAADwPwAAAAAAAPA/AAAAAAAA8D8AAAAAAADwPwAAAAAAAPA/AAAAAAAA8D8AAAAAAADwPwAAAAAAAPA/AAAAAAAA8D8AAAAAAADwPwAAAAAAAPh/AAAAAAAA8D8AAAAAAADwPwAAAAAAAPA/AAAAAAAA+H8AAAAAAADwPwAAAAAAAPh/AAAAAAAA8D8AAAAAAADwPwAAAAAAAPA/AAAAAAAA+H8AAAAAAADwPwAAAAAAAPA/AAAAAAAA8D8AAAAAAAD4fwAAAAAAAPA/AAAAAAAA8D8AAAAAAAD4fwAAAAAAAPh/AAAAAAAA8D8AAAAAAAD4fwAAAAAAAPA/AAAAAAAA8D8AAAAAAADwPwAAAAAAAPA/AAAAAAAA+H8AAAAAAAD4fwAAAAAAAPh/AAAAAAAA8D8AAAAAAAD4fwAAAAAAAPA/AAAAAAAA8D8AAAAAAADwPwAAAAAAAPA/AAAAAAAA8D8AAAAAAADwPwAAAAAAAPh/AAAAAAAA+H8AAAAAAADwPwAAAAAAAPA/AAAAAAAA8D8AAAAAAADwPwAAAAAAAPA/AAAAAAAA8D8AAAAAAAD4fwAAAAAAAPh/AAAAAAAA+H8AAAAAAADwPwAAAAAAAPA/AAAAAAAA8D8AAAAAAADwPwAAAAAAAPh/AAAAAAAA8D8AAAAAAADwPwAAAAAAAPA/AAAAAAAA8D8AAAAAAADwPwAAAAAAAPh/AAAAAAAA8D8AAAAAAADwPwAAAAAAAPh/AAAAAAAA8D8AAAAAAADwPwAAAAAAAPA/AAAAAAAA+H8AAAAAAAD4fwAAAAAAAPA/AAAAAAAA8D8AAAAAAADwPwAAAAAAAPh/AAAAAAAA8D8AAAAAAADwPwAAAAAAAPA/AAAAAAAA8D8AAAAAAADwPwAAAAAAAPA/AAAAAAAA8D8AAAAAAADwPwAAAAAAAPh/AAAAAAAA+H8AAAAAAADwPwAAAAAAAPA/AAAAAAAA8D8AAAAAAADwPwAAAAAAAPA/AAAAAAAA8D8AAAAAAADwPwAAAAAAAPh/AAAAAAAA+H8AAAAAAADwPwAAAAAAAPA/AAAAAAAA8D8AAAAAAADwPwAAAAAAAPA/AAAAAAAA8D8AAAAAAADwPwAAAAAAAPA/AAAAAAAA8D8AAAAAAADwPwAAAAAAAPA/AAAAAAAA8D8AAAAAAADwPwAAAAAAAPA/AAAAAAAA8D8AAAAAAADwPwAAAAAAAPA/AAAAAAAA+H8AAAAAAADwPwAAAAAAAPh/AAAAAAAA8D8AAAAAAAD4fwAAAAAAAPA/AAAAAAAA+H8AAAAAAAD4fwAAAAAAAPh/AAAAAAAA8D8AAAAAAADwPwAAAAAAAPA/AAAAAAAA+H8AAAAAAAD4fwAAAAAAAPh/AAAAAAAA8D8AAAAAAADwPwAAAAAAAPA/AAAAAAAA+H8AAAAAAADwPwAAAAAAAPA/AAAAAAAA+H8AAAAAAADwPwAAAAAAAPA/AAAAAAAA8D8AAAAAAADwPwAAAAAAAPA/AAAAAAAA8D8AAAAAAADwPwAAAAAAAPh/AAAAAAAA8D8AAAAAAADwPwAAAAAAAPh/AAAAAAAA8D8AAAAAAADwPwAAAAAAAPA/AAAAAAAA8D8AAAAAAADwPwAAAAAAAPh/AAAAAAAA8D8AAAAAAADwPwAAAAAAAPA/AAAAAAAA8D8AAAAAAAD4fwAAAAAAAPh/AAAAAAAA8D8AAAAAAADwPwAAAAAAAPh/AAAAAAAA8D8AAAAAAADwPwAAAAAAAPA/AAAAAAAA8D8AAAAAAADwPwAAAAAAAPA/AAAAAAAA8D8AAAAAAADwPwAAAAAAAPh/AAAAAAAA8D8AAAAAAADwPwAAAAAAAPA/AAAAAAAA8D8AAAAAAAD4fwAAAAAAAPA/AAAAAAAA+H8AAAAAAADwPwAAAAAAAPh/AAAAAAAA+H8AAAAAAAD4fwAAAAAAAPA/AAAAAAAA8D8AAAAAAAD4fwAAAAAAAPh/AAAAAAAA+H8AAAAAAADwPwAAAAAAAPh/AAAAAAAA8D8AAAAAAADwPwAAAAAAAPA/AAAAAAAA+H8AAAAAAADwPwAAAAAAAPA/AAAAAAAA8D8AAAAAAAD4fwAAAAAAAPh/AAAAAAAA+H8AAAAAAADwPwAAAAAAAPA/AAAAAAAA8D8AAAAAAADwPwAAAAAAAPA/AAAAAAAA+H8AAAAAAADwPwAAAAAAAPA/AAAAAAAA+H8AAAAAAAD4fwAAAAAAAPA/AAAAAAAA8D8AAAAAAAD4fwAAAAAAAPA/AAAAAAAA8D8AAAAAAAD4fwAAAAAAAPA/AAAAAAAA8D8AAAAAAAD4fwAAAAAAAPA/AAAAAAAA8D8AAAAAAAD4fwAAAAAAAPA/AAAAAAAA8D8AAAAAAADwPwAAAAAAAPh/AAAAAAAA+H8AAAAAAADwPwAAAAAAAPh/AAAAAAAA+H8AAAAAAADwPwAAAAAAAPA/AAAAAAAA8D8AAAAAAAD4fwAAAAAAAPA/AAAAAAAA8D8AAAAAAAD4fwAAAAAAAPA/AAAAAAAA8D8AAAAAAAD4fwAAAAAAAPA/AAAAAAAA+H8AAAAAAAD4fwAAAAAAAPA/AAAAAAAA+H8AAAAAAADwPwAAAAAAAPA/AAAAAAAA8D8AAAAAAADwPwAAAAAAAPh/AAAAAAAA8D8AAAAAAAD4fwAAAAAAAPh/AAAAAAAA8D8AAAAAAAD4fwAAAAAAAPh/AAAAAAAA8D8AAAAAAADwPwAAAAAAAPA/AAAAAAAA8D8AAAAAAAD4fwAAAAAAAPA/AAAAAAAA8D8AAAAAAADwPwAAAAAAAPh/AAAAAAAA8D8AAAAAAADwPwAAAAAAAPA/AAAAAAAA8D8AAAAAAADwPwAAAAAAAPA/AAAAAAAA8D8AAAAAAAD4fwAAAAAAAPA/AAAAAAAA8D8AAAAAAADwPwAAAAAAAPA/AAAAAAAA8D8AAAAAAADwPwAAAAAAAPA/AAAAAAAA8D8AAAAAAAD4fwAAAAAAAPA/AAAAAAAA8D8AAAAAAADwPwAAAAAAAPh/AAAAAAAA8D8AAAAAAAD4fwAAAAAAAPA/AAAAAAAA8D8AAAAAAAD4fwAAAAAAAPA/AAAAAAAA8D8AAAAAAADwPwAAAAAAAPh/AAAAAAAA+H8AAAAAAAD4fwAAAAAAAPA/AAAAAAAA8D8AAAAAAADwPwAAAAAAAPA/AAAAAAAA8D8AAAAAAADwPwAAAAAAAPA/AAAAAAAA8D8AAAAAAAD4fwAAAAAAAPh/AAAAAAAA8D8AAAAAAADwPwAAAAAAAPh/AAAAAAAA8D8AAAAAAAD4fwAAAAAAAPA/AAAAAAAA+H8AAAAAAADwPwAAAAAAAPA/AAAAAAAA8D8AAAAAAADwPwAAAAAAAPh/AAAAAAAA8D8AAAAAAAD4fwAAAAAAAPh/AAAAAAAA+H8AAAAAAAD4fwAAAAAAAPA/AAAAAAAA+H8AAAAAAADwPwAAAAAAAPA/AAAAAAAA8D8AAAAAAADwPwAAAAAAAPA/AAAAAAAA+H8AAAAAAADwPwAAAAAAAPh/AAAAAAAA8D8AAAAAAAD4fwAAAAAAAPA/AAAAAAAA+H8AAAAAAADwPwAAAAAAAPh/AAAAAAAA8D8AAAAAAADwPwAAAAAAAPA/AAAAAAAA+H8AAAAAAADwPwAAAAAAAPh/AAAAAAAA8D8AAAAAAAD4fwAAAAAAAPA/AAAAAAAA8D8AAAAAAADwPwAAAAAAAPh/AAAAAAAA8D8AAAAAAADwPwAAAAAAAPA/AAAAAAAA+H8AAAAAAAD4fwAAAAAAAPA/AAAAAAAA8D8AAAAAAADwPwAAAAAAAPA/AAAAAAAA8D8AAAAAAAD4fwAAAAAAAPA/AAAAAAAA8D8AAAAAAAD4fwAAAAAAAPh/AAAAAAAA8D8AAAAAAADwPwAAAAAAAPh/AAAAAAAA8D8AAAAAAAD4fwAAAAAAAPh/AAAAAAAA8D8AAAAAAADwPwAAAAAAAPA/AAAAAAAA8D8AAAAAAADwPwAAAAAAAPA/AAAAAAAA8D8AAAAAAADwPwAAAAAAAPA/AAAAAAAA8D8AAAAAAADwPwAAAAAAAPA/AAAAAAAA8D8AAAAAAAD4fwAAAAAAAPh/AAAAAAAA8D8AAAAAAADwPwAAAAAAAPA/AAAAAAAA+H8AAAAAAADwPwAAAAAAAPA/AAAAAAAA8D8AAAAAAAD4fwAAAAAAAPA/AAAAAAAA8D8AAAAAAADwPwAAAAAAAPA/AAAAAAAA8D8AAAAAAADwPwAAAAAAAPA/AAAAAAAA+H8AAAAAAADwPwAAAAAAAPh/AAAAAAAA+H8AAAAAAADwPwAAAAAAAPA/AAAAAAAA8D8AAAAAAADwPwAAAAAAAPA/AAAAAAAA+H8AAAAAAAD4fwAAAAAAAPA/AAAAAAAA8D8AAAAAAADwPwAAAAAAAPh/AAAAAAAA8D8AAAAAAADwPwAAAAAAAPA/AAAAAAAA8D8AAAAAAAD4fwAAAAAAAPh/AAAAAAAA8D8AAAAAAADwPwAAAAAAAPA/AAAAAAAA+H8AAAAAAADwPwAAAAAAAPA/AAAAAAAA8D8AAAAAAADwPwAAAAAAAPA/AAAAAAAA+H8AAAAAAAD4fwAAAAAAAPh/AAAAAAAA8D8AAAAAAAD4fwAAAAAAAPA/AAAAAAAA8D8AAAAAAADwPwAAAAAAAPA/AAAAAAAA8D8AAAAAAADwPwAAAAAAAPA/AAAAAAAA8D8AAAAAAAD4fwAAAAAAAPA/AAAAAAAA8D8AAAAAAADwPwAAAAAAAPA/AAAAAAAA8D8AAAAAAADwPwAAAAAAAPA/AAAAAAAA+H8AAAAAAADwPwAAAAAAAPh/AAAAAAAA+H8AAAAAAADwPwAAAAAAAPh/AAAAAAAA8D8AAAAAAADwPwAAAAAAAPh/AAAAAAAA8D8AAAAAAAD4fwAAAAAAAPh/AAAAAAAA+H8AAAAAAADwPwAAAAAAAPA/AAAAAAAA8D8AAAAAAAD4fwAAAAAAAPA/AAAAAAAA8D8AAAAAAADwPwAAAAAAAPA/AAAAAAAA8D8AAAAAAAD4fwAAAAAAAPh/AAAAAAAA8D8AAAAAAADwPwAAAAAAAPA/AAAAAAAA+H8AAAAAAADwPwAAAAAAAPA/AAAAAAAA8D8AAAAAAADwPwAAAAAAAPA/AAAAAAAA8D8AAAAAAAD4fwAAAAAAAPA/AAAAAAAA8D8AAAAAAADwPwAAAAAAAPA/AAAAAAAA8D8AAAAAAADwPwAAAAAAAPA/AAAAAAAA+H8AAAAAAADwPwAAAAAAAPh/AAAAAAAA8D8AAAAAAADwPwAAAAAAAPh/AAAAAAAA8D8AAAAAAAD4fwAAAAAAAPA/AAAAAAAA8D8AAAAAAADwPwAAAAAAAPA/AAAAAAAA8D8AAAAAAADwPwAAAAAAAPA/AAAAAAAA+H8AAAAAAADwPwAAAAAAAPh/AAAAAAAA8D8AAAAAAAD4fwAAAAAAAPh/AAAAAAAA8D8AAAAAAAD4fwAAAAAAAPA/AAAAAAAA8D8AAAAAAAD4fwAAAAAAAPA/AAAAAAAA8D8AAAAAAAD4fwAAAAAAAPA/AAAAAAAA8D8AAAAAAADwPwAAAAAAAPA/AAAAAAAA+H8AAAAAAAD4fwAAAAAAAPA/AAAAAAAA8D8AAAAAAAD4fwAAAAAAAPA/AAAAAAAA+H8AAAAAAADwPwAAAAAAAPA/AAAAAAAA+H8AAAAAAADwPwAAAAAAAPA/AAAAAAAA+H8AAAAAAADwPwAAAAAAAPA/AAAAAAAA8D8AAAAAAADwPwAAAAAAAPh/AAAAAAAA8D8AAAAAAADwPwAAAAAAAPA/AAAAAAAA8D8AAAAAAADwPwAAAAAAAPh/AAAAAAAA+H8AAAAAAADwPwAAAAAAAPA/AAAAAAAA8D8AAAAAAADwPwAAAAAAAPh/AAAAAAAA8D8AAAAAAAD4fwAAAAAAAPh/AAAAAAAA8D8AAAAAAADwPwAAAAAAAPA/AAAAAAAA8D8AAAAAAADwPwAAAAAAAPA/AAAAAAAA8D8AAAAAAADwPwAAAAAAAPA/AAAAAAAA8D8AAAAAAADwPwAAAAAAAPA/AAAAAAAA8D8AAAAAAADwPwAAAAAAAPh/AAAAAAAA8D8AAAAAAADwPwAAAAAAAPh/AAAAAAAA8D8AAAAAAADwPwAAAAAAAPA/AAAAAAAA+H8AAAAAAAD4fwAAAAAAAPA/AAAAAAAA+H8AAAAAAADwPwAAAAAAAPA/AAAAAAAA+H8AAAAAAADwPwAAAAAAAPh/AAAAAAAA8D8AAAAAAAD4fwAAAAAAAPh/AAAAAAAA8D8AAAAAAAD4fwAAAAAAAPA/AAAAAAAA8D8AAAAAAADwPwAAAAAAAPh/AAAAAAAA8D8AAAAAAADwPwAAAAAAAPA/AAAAAAAA+H8AAAAAAADwPwAAAAAAAPA/AAAAAAAA8D8AAAAAAADwPwAAAAAAAPA/AAAAAAAA8D8AAAAAAADwPwAAAAAAAPh/AAAAAAAA8D8AAAAAAAD4fwAAAAAAAPh/AAAAAAAA8D8AAAAAAADwPwAAAAAAAPA/AAAAAAAA8D8AAAAAAADwPwAAAAAAAPA/AAAAAAAA8D8AAAAAAADwPwAAAAAAAPA/AAAAAAAA+H8AAAAAAADwPwAAAAAAAPA/AAAAAAAA8D8AAAAAAADwPwAAAAAAAPA/AAAAAAAA8D8AAAAAAAD4fwAAAAAAAPh/AAAAAAAA+H8AAAAAAADwPwAAAAAAAPA/AAAAAAAA8D8AAAAAAADwPwAAAAAAAPh/AAAAAAAA8D8AAAAAAADwPwAAAAAAAPA/AAAAAAAA8D8AAAAAAADwPwAAAAAAAPA/AAAAAAAA8D8AAAAAAADwPwAAAAAAAPh/AAAAAAAA+H8AAAAAAADwPwAAAAAAAPA/AAAAAAAA8D8AAAAAAAD4fwAAAAAAAPA/AAAAAAAA8D8AAAAAAADwPwAAAAAAAPh/AAAAAAAA8D8AAAAAAADwPwAAAAAAAPA/AAAAAAAA8D8AAAAAAADwPwAAAAAAAPA/AAAAAAAA+H8AAAAAAADwPwAAAAAAAPA/AAAAAAAA8D8AAAAAAADwPwAAAAAAAPA/AAAAAAAA8D8AAAAAAADwPwAAAAAAAPh/AAAAAAAA+H8AAAAAAADwPwAAAAAAAPA/AAAAAAAA8D8AAAAAAADwPwAAAAAAAPA/AAAAAAAA+H8AAAAAAADwPwAAAAAAAPA/AAAAAAAA+H8AAAAAAADwPwAAAAAAAPA/AAAAAAAA8D8AAAAAAADwPwAAAAAAAPA/AAAAAAAA8D8AAAAAAADwPwAAAAAAAPA/AAAAAAAA+H8AAAAAAADwPwAAAAAAAPA/AAAAAAAA8D8AAAAAAAD4fwAAAAAAAPh/AAAAAAAA8D8AAAAAAADwPwAAAAAAAPA/AAAAAAAA8D8AAAAAAADwPwAAAAAAAPA/AAAAAAAA8D8AAAAAAADwPwAAAAAAAPA/AAAAAAAA8D8AAAAAAADwPwAAAAAAAPA/AAAAAAAA8D8AAAAAAADwPwAAAAAAAPh/AAAAAAAA8D8AAAAAAADwPwAAAAAAAPA/AAAAAAAA+H8AAAAAAADwPwAAAAAAAPA/AAAAAAAA8D8AAAAAAADwPwAAAAAAAPA/AAAAAAAA+H8AAAAAAAD4fwAAAAAAAPA/AAAAAAAA8D8AAAAAAADwPwAAAAAAAPh/AAAAAAAA+H8AAAAAAADwPwAAAAAAAPA/AAAAAAAA+H8AAAAAAADwPwAAAAAAAPA/AAAAAAAA8D8AAAAAAADwPwAAAAAAAPA/AAAAAAAA+H8AAAAAAADwPwAAAAAAAPh/AAAAAAAA+H8AAAAAAADwPwAAAAAAAPA/AAAAAAAA+H8AAAAAAADwPwAAAAAAAPh/AAAAAAAA8D8AAAAAAADwPwAAAAAAAPA/AAAAAAAA8D8AAAAAAADwPwAAAAAAAPA/AAAAAAAA+H8AAAAAAADwPwAAAAAAAPA/AAAAAAAA8D8AAAAAAADwPwAAAAAAAPA/AAAAAAAA8D8AAAAAAADwPwAAAAAAAPh/AAAAAAAA8D8AAAAAAADwPwAAAAAAAPh/AAAAAAAA8D8AAAAAAADwPwAAAAAAAPA/AAAAAAAA8D8AAAAAAADwPwAAAAAAAPh/AAAAAAAA8D8AAAAAAADwPwAAAAAAAPh/AAAAAAAA8D8AAAAAAAD4fwAAAAAAAPA/AAAAAAAA+H8AAAAAAADwPwAAAAAAAPA/AAAAAAAA+H8AAAAAAADwPwAAAAAAAPA/AAAAAAAA+H8AAAAAAADwPwAAAAAAAPh/AAAAAAAA8D8AAAAAAADwPwAAAAAAAPA/AAAAAAAA+H8AAAAAAADwPwAAAAAAAPA/AAAAAAAA+H8AAAAAAADwPwAAAAAAAPA/AAAAAAAA8D8AAAAAAAD4fwAAAAAAAPA/AAAAAAAA8D8AAAAAAADwPwAAAAAAAPA/AAAAAAAA8D8AAAAAAAD4fwAAAAAAAPA/AAAAAAAA8D8AAAAAAAD4fwAAAAAAAPA/AAAAAAAA8D8AAAAAAAD4fwAAAAAAAPh/AAAAAAAA8D8AAAAAAADwPwAAAAAAAPA/AAAAAAAA8D8AAAAAAAD4fwAAAAAAAPA/AAAAAAAA8D8AAAAAAADwPwAAAAAAAPA/AAAAAAAA8D8AAAAAAAD4fwAAAAAAAPA/AAAAAAAA8D8AAAAAAAD4fwAAAAAAAPh/AAAAAAAA8D8AAAAAAADwPwAAAAAAAPA/AAAAAAAA8D8AAAAAAADwPwAAAAAAAPA/AAAAAAAA+H8AAAAAAADwPwAAAAAAAPA/AAAAAAAA8D8AAAAAAADwPwAAAAAAAPA/AAAAAAAA8D8AAAAAAAD4fwAAAAAAAPA/AAAAAAAA8D8AAAAAAADwPwAAAAAAAPA/AAAAAAAA8D8AAAAAAADwPwAAAAAAAPA/AAAAAAAA+H8AAAAAAADwPwAAAAAAAPA/AAAAAAAA8D8AAAAAAADwPwAAAAAAAPA/AAAAAAAA8D8AAAAAAADwPwAAAAAAAPA/AAAAAAAA+H8AAAAAAADwPwAAAAAAAPA/AAAAAAAA8D8AAAAAAADwPwAAAAAAAPA/AAAAAAAA8D8AAAAAAADwPwAAAAAAAPA/AAAAAAAA8D8AAAAAAADwPwAAAAAAAPh/AAAAAAAA8D8AAAAAAAD4fwAAAAAAAPh/AAAAAAAA8D8AAAAAAAD4fwAAAAAAAPA/AAAAAAAA+H8AAAAAAADwPwAAAAAAAPA/AAAAAAAA+H8AAAAAAAD4fwAAAAAAAPA/AAAAAAAA8D8AAAAAAADwPwAAAAAAAPA/AAAAAAAA8D8AAAAAAADwPwAAAAAAAPA/AAAAAAAA8D8AAAAAAADwPwAAAAAAAPA/AAAAAAAA8D8AAAAAAADwPwAAAAAAAPh/AAAAAAAA8D8AAAAAAAD4fwAAAAAAAPA/AAAAAAAA8D8AAAAAAAD4fwAAAAAAAPA/AAAAAAAA+H8AAAAAAADwPwAAAAAAAPh/AAAAAAAA+H8AAAAAAADwPwAAAAAAAPA/AAAAAAAA8D8AAAAAAADwPwAAAAAAAPh/AAAAAAAA8D8AAAAAAADwPwAAAAAAAPA/AAAAAAAA8D8AAAAAAADwPwAAAAAAAPA/AAAAAAAA8D8AAAAAAAD4fwAAAAAAAPA/AAAAAAAA8D8AAAAAAADwPwAAAAAAAPA/AAAAAAAA8D8AAAAAAADwPwAAAAAAAPA/AAAAAAAA+H8AAAAAAADwPwAAAAAAAPA/AAAAAAAA8D8AAAAAAADwPwAAAAAAAPA/AAAAAAAA8D8AAAAAAADwPwAAAAAAAPA/AAAAAAAA8D8AAAAAAADwPwAAAAAAAPh/AAAAAAAA8D8AAAAAAADwPwAAAAAAAPA/AAAAAAAA+H8AAAAAAADwPwAAAAAAAPA/AAAAAAAA8D8AAAAAAADwPwAAAAAAAPh/AAAAAAAA8D8AAAAAAADwPwAAAAAAAPA/AAAAAAAA8D8AAAAAAADwPwAAAAAAAPA/AAAAAAAA8D8AAAAAAAD4fwAAAAAAAPh/AAAAAAAA8D8AAAAAAADwPwAAAAAAAPA/AAAAAAAA+H8AAAAAAADwPwAAAAAAAPh/AAAAAAAA8D8AAAAAAADwPwAAAAAAAPA/AAAAAAAA8D8AAAAAAADwPwAAAAAAAPA/AAAAAAAA8D8AAAAAAADwPwAAAAAAAPA/AAAAAAAA+H8AAAAAAAD4fwAAAAAAAPA/AAAAAAAA8D8AAAAAAADwPwAAAAAAAPh/AAAAAAAA8D8AAAAAAAD4fwAAAAAAAPA/AAAAAAAA+H8AAAAAAADwPwAAAAAAAPA/AAAAAAAA8D8AAAAAAADwPwAAAAAAAPA/AAAAAAAA8D8AAAAAAADwPwAAAAAAAPh/AAAAAAAA8D8AAAAAAADwPwAAAAAAAPh/AAAAAAAA+H8AAAAAAADwPwAAAAAAAPA/AAAAAAAA8D8AAAAAAADwPwAAAAAAAPh/AAAAAAAA8D8AAAAAAADwPwAAAAAAAPA/AAAAAAAA8D8AAAAAAADwPwAAAAAAAPh/AAAAAAAA+H8AAAAAAADwPwAAAAAAAPA/AAAAAAAA8D8AAAAAAAD4fwAAAAAAAPA/AAAAAAAA8D8AAAAAAADwPwAAAAAAAPh/AAAAAAAA8D8AAAAAAAD4fwAAAAAAAPA/AAAAAAAA8D8AAAAAAAD4fwAAAAAAAPA/AAAAAAAA8D8AAAAAAADwPwAAAAAAAPA/AAAAAAAA8D8AAAAAAADwPwAAAAAAAPA/AAAAAAAA+H8AAAAAAADwPwAAAAAAAPA/AAAAAAAA8D8AAAAAAADwPwAAAAAAAPA/AAAAAAAA8D8AAAAAAAD4fwAAAAAAAPh/AAAAAAAA+H8AAAAAAAD4fwAAAAAAAPA/AAAAAAAA8D8AAAAAAADwPwAAAAAAAPh/AAAAAAAA+H8AAAAAAADwPwAAAAAAAPA/AAAAAAAA+H8AAAAAAADwPwAAAAAAAPA/AAAAAAAA8D8AAAAAAADwPwAAAAAAAPA/AAAAAAAA8D8AAAAAAADwPwAAAAAAAPA/AAAAAAAA+H8AAAAAAAD4fwAAAAAAAPA/AAAAAAAA8D8AAAAAAAD4fwAAAAAAAPh/AAAAAAAA8D8AAAAAAADwPwAAAAAAAPA/AAAAAAAA+H8AAAAAAADwPwAAAAAAAPA/AAAAAAAA8D8AAAAAAADwPwAAAAAAAPA/AAAAAAAA+H8AAAAAAADwPwAAAAAAAPA/AAAAAAAA8D8AAAAAAAD4fwAAAAAAAPh/AAAAAAAA8D8AAAAAAADwPwAAAAAAAPA/AAAAAAAA8D8AAAAAAADwPwAAAAAAAPA/AAAAAAAA8D8AAAAAAAD4fwAAAAAAAPA/AAAAAAAA+H8AAAAAAADwPwAAAAAAAPA/AAAAAAAA8D8AAAAAAADwPwAAAAAAAPA/AAAAAAAA8D8AAAAAAADwPwAAAAAAAPA/AAAAAAAA8D8AAAAAAADwPwAAAAAAAPh/AAAAAAAA8D8AAAAAAADwPwAAAAAAAPA/AAAAAAAA8D8AAAAAAAD4fwAAAAAAAPA/AAAAAAAA+H8AAAAAAADwPwAAAAAAAPA/AAAAAAAA8D8AAAAAAADwPwAAAAAAAPA/AAAAAAAA+H8AAAAAAAD4fwAAAAAAAPh/AAAAAAAA+H8AAAAAAADwPwAAAAAAAPA/AAAAAAAA8D8AAAAAAAD4fwAAAAAAAPh/AAAAAAAA8D8AAAAAAADwPwAAAAAAAPA/AAAAAAAA8D8AAAAAAAD4fwAAAAAAAPA/AAAAAAAA8D8AAAAAAADwPwAAAAAAAPA/AAAAAAAA8D8AAAAAAADwPwAAAAAAAPA/AAAAAAAA8D8AAAAAAADwPwAAAAAAAPA/AAAAAAAA8D8AAAAAAAD4fwAAAAAAAPh/AAAAAAAA8D8AAAAAAAD4fwAAAAAAAPh/AAAAAAAA8D8AAAAAAADwPwAAAAAAAPA/AAAAAAAA8D8AAAAAAADwPwAAAAAAAPA/AAAAAAAA+H8AAAAAAAD4fwAAAAAAAPh/AAAAAAAA8D8AAAAAAADwPwAAAAAAAPA/AAAAAAAA+H8AAAAAAADwPwAAAAAAAPA/AAAAAAAA+H8AAAAAAADwPwAAAAAAAPA/AAAAAAAA+H8AAAAAAADwPwAAAAAAAPh/AAAAAAAA+H8AAAAAAADwPwAAAAAAAPA/AAAAAAAA8D8AAAAAAADwPwAAAAAAAPh/AAAAAAAA8D8AAAAAAADwPwAAAAAAAPA/AAAAAAAA+H8AAAAAAADwPwAAAAAAAPA/AAAAAAAA8D8AAAAAAAD4fwAAAAAAAPA/AAAAAAAA8D8AAAAAAADwPwAAAAAAAPA/AAAAAAAA8D8AAAAAAADwPwAAAAAAAPA/AAAAAAAA8D8AAAAAAADwPwAAAAAAAPA/AAAAAAAA8D8AAAAAAADwPwAAAAAAAPA/AAAAAAAA8D8AAAAAAADwPwAAAAAAAPA/AAAAAAAA8D8AAAAAAAD4fwAAAAAAAPA/AAAAAAAA8D8AAAAAAADwPwAAAAAAAPh/AAAAAAAA8D8AAAAAAADwPwAAAAAAAPA/AAAAAAAA8D8AAAAAAADwPwAAAAAAAPh/AAAAAAAA8D8AAAAAAADwPwAAAAAAAPh/AAAAAAAA+H8AAAAAAADwPwAAAAAAAPA/AAAAAAAA8D8AAAAAAADwPwAAAAAAAPh/AAAAAAAA+H8AAAAAAADwPwAAAAAAAPA/AAAAAAAA8D8AAAAAAADwPwAAAAAAAPh/AAAAAAAA8D8AAAAAAAD4fwAAAAAAAPh/AAAAAAAA+H8AAAAAAADwPwAAAAAAAPA/AAAAAAAA8D8AAAAAAAD4fwAAAAAAAPA/AAAAAAAA8D8AAAAAAADwPwAAAAAAAPA/AAAAAAAA+H8AAAAAAADwPwAAAAAAAPA/AAAAAAAA8D8AAAAAAADwPwAAAAAAAPA/AAAAAAAA8D8AAAAAAADwPwAAAAAAAPh/AAAAAAAA8D8AAAAAAADwPwAAAAAAAPh/AAAAAAAA8D8AAAAAAADwPwAAAAAAAPh/AAAAAAAA8D8AAAAAAAD4fwAAAAAAAPA/AAAAAAAA8D8AAAAAAADwPwAAAAAAAPA/AAAAAAAA8D8AAAAAAADwPwAAAAAAAPA/AAAAAAAA8D8AAAAAAADwPwAAAAAAAPA/AAAAAAAA8D8AAAAAAAD4fwAAAAAAAPh/AAAAAAAA8D8AAAAAAADwPwAAAAAAAPA/AAAAAAAA8D8AAAAAAADwPwAAAAAAAPh/AAAAAAAA+H8AAAAAAADwPwAAAAAAAPA/AAAAAAAA8D8AAAAAAAD4fwAAAAAAAPA/AAAAAAAA8D8AAAAAAAD4fwAAAAAAAPh/AAAAAAAA+H8AAAAAAADwPwAAAAAAAPA/AAAAAAAA8D8AAAAAAADwPwAAAAAAAPA/AAAAAAAA8D8AAAAAAAD4fwAAAAAAAPh/AAAAAAAA8D8AAAAAAAD4fwAAAAAAAPA/AAAAAAAA8D8AAAAAAADwPwAAAAAAAPh/AAAAAAAA8D8AAAAAAADwPwAAAAAAAPA/AAAAAAAA8D8AAAAAAADwPwAAAAAAAPA/AAAAAAAA8D8AAAAAAADwPwAAAAAAAPh/AAAAAAAA8D8AAAAAAAD4fwAAAAAAAPA/AAAAAAAA8D8AAAAAAADwPwAAAAAAAPh/AAAAAAAA+H8AAAAAAADwPwAAAAAAAPA/AAAAAAAA8D8AAAAAAADwPwAAAAAAAPA/AAAAAAAA+H8AAAAAAAD4fwAAAAAAAPA/AAAAAAAA+H8AAAAAAADwPwAAAAAAAPA/AAAAAAAA8D8AAAAAAADwPwAAAAAAAPA/AAAAAAAA8D8AAAAAAADwPwAAAAAAAPh/AAAAAAAA8D8AAAAAAAD4fwAAAAAAAPA/AAAAAAAA8D8AAAAAAADwPwAAAAAAAPA/AAAAAAAA8D8AAAAAAADwPwAAAAAAAPA/AAAAAAAA+H8AAAAAAADwPwAAAAAAAPh/AAAAAAAA+H8AAAAAAADwPwAAAAAAAPA/AAAAAAAA8D8AAAAAAADwPwAAAAAAAPA/AAAAAAAA8D8AAAAAAADwPwAAAAAAAPA/AAAAAAAA8D8AAAAAAADwPwAAAAAAAPA/AAAAAAAA8D8AAAAAAAD4fwAAAAAAAPA/AAAAAAAA8D8AAAAAAADwPwAAAAAAAPA/AAAAAAAA8D8AAAAAAADwPwAAAAAAAPh/AAAAAAAA+H8AAAAAAADwPwAAAAAAAPA/AAAAAAAA8D8AAAAAAADwPwAAAAAAAPA/AAAAAAAA8D8AAAAAAAD4fwAAAAAAAPA/AAAAAAAA8D8AAAAAAADwPwAAAAAAAPh/AAAAAAAA8D8AAAAAAAD4fwAAAAAAAPA/AAAAAAAA8D8AAAAAAADwPwAAAAAAAPA/AAAAAAAA8D8AAAAAAADwPwAAAAAAAPh/AAAAAAAA8D8AAAAAAAD4fwAAAAAAAPh/AAAAAAAA8D8AAAAAAAD4fwAAAAAAAPh/AAAAAAAA8D8AAAAAAADwPwAAAAAAAPA/AAAAAAAA8D8AAAAAAADwPwAAAAAAAPA/AAAAAAAA+H8AAAAAAADwPwAAAAAAAABAAAAAAAAA8D8AAAAAAADwPwAAAAAAAPh/AAAAAAAA8D8AAAAAAADwPwAAAAAAAPA/AAAAAAAA8D8AAAAAAADwPwAAAAAAAPA/AAAAAAAA8D8AAAAAAADwPwAAAAAAAPh/AAAAAAAA8D8AAAAAAADwPwAAAAAAAPA/AAAAAAAA8D8AAAAAAADwPwAAAAAAAPA/AAAAAAAA8D8AAAAAAADwPwAAAAAAAPA/AAAAAAAA8D8AAAAAAAD4fwAAAAAAAPA/AAAAAAAA+H8AAAAAAADwPwAAAAAAAPA/AAAAAAAA8D8AAAAAAAD4fwAAAAAAAPA/AAAAAAAA8D8AAAAAAAD4fwAAAAAAAPA/AAAAAAAA+H8AAAAAAADwPwAAAAAAAPh/AAAAAAAA8D8AAAAAAADwPwAAAAAAAPh/AAAAAAAA8D8AAAAAAADwPwAAAAAAAPh/AAAAAAAA8D8AAAAAAAD4fwAAAAAAAPA/AAAAAAAA+H8AAAAAAADwPwAAAAAAAPA/AAAAAAAA+H8AAAAAAADwPwAAAAAAAPh/AAAAAAAA8D8AAAAAAADwPwAAAAAAAPh/AAAAAAAA8D8AAAAAAADwPwAAAAAAAPh/AAAAAAAA+H8AAAAAAADwPwAAAAAAAPh/AAAAAAAA8D8AAAAAAADwPwAAAAAAAPA/AAAAAAAA8D8AAAAAAADwPwAAAAAAAPA/AAAAAAAA8D8AAAAAAAD4fwAAAAAAAPA/AAAAAAAA8D8AAAAAAADwPwAAAAAAAPA/AAAAAAAA8D8AAAAAAADwPwAAAAAAAPA/AAAAAAAA+H8AAAAAAADwPwAAAAAAAPA/AAAAAAAA8D8AAAAAAAD4fwAAAAAAAPh/AAAAAAAA8D8AAAAAAAD4fwAAAAAAAPA/AAAAAAAA+H8AAAAAAADwPwAAAAAAAPA/AAAAAAAA8D8AAAAAAADwPwAAAAAAAPh/AAAAAAAA+H8AAAAAAADwPwAAAAAAAPA/AAAAAAAA8D8AAAAAAADwPwAAAAAAAPA/AAAAAAAA8D8AAAAAAAD4fwAAAAAAAPh/AAAAAAAA+H8AAAAAAAD4fwAAAAAAAPA/AAAAAAAA8D8AAAAAAADwPwAAAAAAAPA/AAAAAAAA+H8AAAAAAADwPwAAAAAAAPA/AAAAAAAA8D8AAAAAAADwPwAAAAAAAPA/AAAAAAAA+H8AAAAAAADwPwAAAAAAAPh/AAAAAAAA+H8AAAAAAADwPwAAAAAAAPA/AAAAAAAA+H8AAAAAAAD4fwAAAAAAAPh/AAAAAAAA8D8AAAAAAADwPwAAAAAAAPh/AAAAAAAA8D8AAAAAAADwPwAAAAAAAPh/AAAAAAAA8D8AAAAAAADwPwAAAAAAAPA/AAAAAAAA+H8AAAAAAADwPwAAAAAAAPA/AAAAAAAA8D8AAAAAAADwPwAAAAAAAPh/AAAAAAAA8D8AAAAAAADwPwAAAAAAAPA/AAAAAAAA8D8AAAAAAADwPwAAAAAAAPA/AAAAAAAA8D8AAAAAAADwPwAAAAAAAPA/AAAAAAAA8D8AAAAAAADwPwAAAAAAAPA/AAAAAAAA8D8AAAAAAAD4fwAAAAAAAPh/AAAAAAAA8D8AAAAAAADwPwAAAAAAAPh/AAAAAAAA8D8AAAAAAADwPwAAAAAAAPA/AAAAAAAA+H8AAAAAAADwPwAAAAAAAPA/AAAAAAAA8D8AAAAAAADwPwAAAAAAAPh/AAAAAAAA+H8AAAAAAAD4fwAAAAAAAPA/AAAAAAAA8D8AAAAAAAD4fwAAAAAAAPA/AAAAAAAA+H8AAAAAAADwPwAAAAAAAPA/AAAAAAAA+H8AAAAAAAD4fwAAAAAAAPA/AAAAAAAA8D8AAAAAAAD4fwAAAAAAAPA/AAAAAAAA+H8AAAAAAADwPwAAAAAAAPA/AAAAAAAA8D8AAAAAAAD4fwAAAAAAAPA/AAAAAAAA8D8AAAAAAADwPwAAAAAAAPh/AAAAAAAA8D8AAAAAAADwPwAAAAAAAPA/AAAAAAAA8D8AAAAAAAD4fwAAAAAAAPA/AAAAAAAA8D8AAAAAAAD4fwAAAAAAAPA/AAAAAAAA8D8AAAAAAADwPwAAAAAAAPA/AAAAAAAA+H8AAAAAAADwPwAAAAAAAPA/AAAAAAAA8D8AAAAAAADwPwAAAAAAAPh/AAAAAAAA8D8AAAAAAADwPwAAAAAAAPA/AAAAAAAA+H8AAAAAAADwPwAAAAAAAPA/AAAAAAAA8D8AAAAAAADwPwAAAAAAAPA/AAAAAAAA8D8AAAAAAAD4fwAAAAAAAPh/AAAAAAAA8D8AAAAAAADwPwAAAAAAAPA/AAAAAAAA8D8AAAAAAADwPwAAAAAAAPA/AAAAAAAA+H8AAAAAAADwPwAAAAAAAPA/AAAAAAAA8D8AAAAAAADwPwAAAAAAAPh/AAAAAAAA8D8AAAAAAADwPwAAAAAAAPA/AAAAAAAA+H8AAAAAAADwPwAAAAAAAPA/AAAAAAAA8D8AAAAAAADwPwAAAAAAAPh/AAAAAAAA+H8AAAAAAADwPwAAAAAAAPA/AAAAAAAA8D8AAAAAAADwPwAAAAAAAPA/AAAAAAAA8D8AAAAAAADwPwAAAAAAAPA/AAAAAAAA8D8AAAAAAADwPwAAAAAAAPA/AAAAAAAA8D8AAAAAAADwPwAAAAAAAPA/AAAAAAAA8D8AAAAAAADwPwAAAAAAAPA/AAAAAAAA8D8AAAAAAADwPwAAAAAAAPh/AAAAAAAA8D8AAAAAAADwPwAAAAAAAPA/AAAAAAAA+H8AAAAAAAD4fwAAAAAAAPh/AAAAAAAA8D8AAAAAAADwPwAAAAAAAPh/AAAAAAAA+H8AAAAAAADwPwAAAAAAAPA/AAAAAAAA+H8AAAAAAADwPwAAAAAAAPA/AAAAAAAA8D8AAAAAAADwPwAAAAAAAPh/AAAAAAAA8D8AAAAAAADwPwAAAAAAAPA/AAAAAAAA8D8AAAAAAADwPwAAAAAAAPA/AAAAAAAA8D8AAAAAAAD4fwAAAAAAAPA/AAAAAAAA+H8AAAAAAADwPwAAAAAAAPA/AAAAAAAA8D8AAAAAAADwPwAAAAAAAPh/AAAAAAAA8D8AAAAAAADwPwAAAAAAAPA/AAAAAAAA8D8AAAAAAADwPwAAAAAAAPA/AAAAAAAA+H8AAAAAAADwPwAAAAAAAPA/AAAAAAAA8D8AAAAAAAD4fwAAAAAAAPA/AAAAAAAA+H8AAAAAAADwPwAAAAAAAPA/AAAAAAAA8D8AAAAAAADwPwAAAAAAAPh/AAAAAAAA8D8AAAAAAAD4fwAAAAAAAPA/AAAAAAAA+H8AAAAAAADwPwAAAAAAAPA/AAAAAAAA8D8AAAAAAADwPwAAAAAAAPA/AAAAAAAA+H8AAAAAAAD4fwAAAAAAAPA/AAAAAAAA8D8AAAAAAADwPwAAAAAAAPA/AAAAAAAA8D8AAAAAAADwPwAAAAAAAPA/AAAAAAAA+H8AAAAAAADwPwAAAAAAAPA/AAAAAAAA8D8AAAAAAADwPwAAAAAAAPA/AAAAAAAA8D8AAAAAAADwPwAAAAAAAPA/AAAAAAAA8D8AAAAAAADwPwAAAAAAAPA/AAAAAAAA8D8AAAAAAADwPwAAAAAAAPA/AAAAAAAA+H8AAAAAAADwPwAAAAAAAPA/AAAAAAAA8D8AAAAAAADwPwAAAAAAAPA/AAAAAAAA8D8AAAAAAADwPwAAAAAAAPA/AAAAAAAA8D8AAAAAAADwPwAAAAAAAPh/AAAAAAAA8D8AAAAAAAD4fwAAAAAAAPh/AAAAAAAA8D8AAAAAAADwPwAAAAAAAPA/AAAAAAAA8D8AAAAAAAD4fwAAAAAAAPA/AAAAAAAA+H8AAAAAAADwPwAAAAAAAPh/AAAAAAAA+H8AAAAAAADwPwAAAAAAAPA/AAAAAAAA8D8AAAAAAAD4fwAAAAAAAPh/AAAAAAAA8D8AAAAAAADwPwAAAAAAAPA/AAAAAAAA8D8AAAAAAADwPwAAAAAAAPA/AAAAAAAA8D8AAAAAAADwPwAAAAAAAPA/AAAAAAAA8D8AAAAAAADwPwAAAAAAAPA/AAAAAAAA+H8AAAAAAADwPwAAAAAAAPA/AAAAAAAA8D8AAAAAAAD4fwAAAAAAAPh/AAAAAAAA8D8AAAAAAADwPwAAAAAAAPA/AAAAAAAA+H8AAAAAAAD4fwAAAAAAAPA/AAAAAAAA8D8AAAAAAAD4fwAAAAAAAPh/AAAAAAAA8D8AAAAAAAD4fwAAAAAAAPh/AAAAAAAA+H8AAAAAAADwPwAAAAAAAPA/AAAAAAAA8D8AAAAAAADwPwAAAAAAAPh/AAAAAAAA+H8AAAAAAADwPwAAAAAAAPA/AAAAAAAA8D8AAAAAAAD4fwAAAAAAAPA/AAAAAAAA8D8AAAAAAADwPwAAAAAAAPA/AAAAAAAA8D8AAAAAAADwPwAAAAAAAPA/AAAAAAAA8D8AAAAAAADwPwAAAAAAAPA/AAAAAAAA8D8AAAAAAADwPwAAAAAAAPh/AAAAAAAA8D8AAAAAAADwPwAAAAAAAPA/AAAAAAAA8D8AAAAAAADwPwAAAAAAAPh/AAAAAAAA+H8AAAAAAAD4fwAAAAAAAPA/AAAAAAAA8D8AAAAAAADwPwAAAAAAAPA/AAAAAAAA8D8AAAAAAAD4fwAAAAAAAPh/AAAAAAAA+H8AAAAAAADwPwAAAAAAAPA/AAAAAAAA8D8AAAAAAADwPwAAAAAAAPA/AAAAAAAA+H8AAAAAAADwPwAAAAAAAPh/AAAAAAAA8D8AAAAAAADwPwAAAAAAAPA/AAAAAAAA8D8AAAAAAAD4fwAAAAAAAPh/AAAAAAAA8D8AAAAAAADwPwAAAAAAAPA/AAAAAAAA8D8AAAAAAAD4fwAAAAAAAPA/AAAAAAAA8D8AAAAAAADwPwAAAAAAAPA/AAAAAAAA8D8AAAAAAAD4fwAAAAAAAPA/AAAAAAAA8D8AAAAAAADwPwAAAAAAAPA/AAAAAAAA+H8AAAAAAADwPwAAAAAAAPA/AAAAAAAA8D8AAAAAAAD4fwAAAAAAAPA/AAAAAAAA8D8AAAAAAADwPwAAAAAAAPA/AAAAAAAA+H8AAAAAAADwPwAAAAAAAPA/AAAAAAAA8D8AAAAAAADwPwAAAAAAAPA/AAAAAAAA+H8AAAAAAADwPwAAAAAAAPA/AAAAAAAA+H8AAAAAAAD4fwAAAAAAAPA/AAAAAAAA+H8AAAAAAADwPwAAAAAAAPA/AAAAAAAA8D8AAAAAAADwPwAAAAAAAPh/AAAAAAAA+H8AAAAAAADwPwAAAAAAAPh/AAAAAAAA8D8AAAAAAADwPwAAAAAAAPh/AAAAAAAA8D8AAAAAAADwPwAAAAAAAPA/AAAAAAAA8D8AAAAAAADwPwAAAAAAAPA/AAAAAAAA8D8AAAAAAADwPwAAAAAAAPA/AAAAAAAA8D8AAAAAAAD4fwAAAAAAAPA/AAAAAAAA8D8AAAAAAADwPwAAAAAAAPh/AAAAAAAA+H8AAAAAAADwPwAAAAAAAPh/AAAAAAAA8D8AAAAAAADwPwAAAAAAAPA/AAAAAAAA8D8AAAAAAADwPwAAAAAAAPA/AAAAAAAA8D8AAAAAAADwPwAAAAAAAPh/AAAAAAAA8D8AAAAAAAD4fwAAAAAAAPh/AAAAAAAA8D8AAAAAAADwPwAAAAAAAPA/AAAAAAAA8D8AAAAAAADwPwAAAAAAAPA/AAAAAAAA8D8AAAAAAADwPwAAAAAAAPA/AAAAAAAA8D8AAAAAAADwPwAAAAAAAPA/AAAAAAAA8D8AAAAAAADwPwAAAAAAAPh/AAAAAAAA8D8AAAAAAADwPwAAAAAAAPh/AAAAAAAA8D8AAAAAAADwPwAAAAAAAPA/AAAAAAAA8D8AAAAAAADwPwAAAAAAAPA/AAAAAAAA+H8AAAAAAADwPwAAAAAAAPh/AAAAAAAA+H8AAAAAAADwPwAAAAAAAPh/AAAAAAAA8D8AAAAAAADwPwAAAAAAAPA/AAAAAAAA8D8AAAAAAAD4fwAAAAAAAPA/AAAAAAAA8D8AAAAAAADwPwAAAAAAAPh/AAAAAAAA8D8AAAAAAADwPwAAAAAAAPA/AAAAAAAA8D8AAAAAAADwPwAAAAAAAPA/AAAAAAAA8D8AAAAAAADwPwAAAAAAAPh/AAAAAAAA8D8AAAAAAADwPwAAAAAAAPA/AAAAAAAA8D8AAAAAAADwPwAAAAAAAPA/AAAAAAAA8D8AAAAAAADwPwAAAAAAAPA/AAAAAAAA8D8AAAAAAADwPwAAAAAAAPh/AAAAAAAA+H8AAAAAAADwPwAAAAAAAPA/AAAAAAAA8D8AAAAAAAD4fwAAAAAAAPA/AAAAAAAA8D8AAAAAAAD4fwAAAAAAAPA/AAAAAAAA8D8AAAAAAADwPwAAAAAAAPA/AAAAAAAA+H8AAAAAAADwPwAAAAAAAPA/AAAAAAAA8D8AAAAAAADwPwAAAAAAAPA/AAAAAAAA8D8AAAAAAADwPwAAAAAAAPh/AAAAAAAA+H8AAAAAAADwPwAAAAAAAPA/AAAAAAAA+H8AAAAAAADwPwAAAAAAAPA/AAAAAAAA8D8AAAAAAADwPwAAAAAAAPA/AAAAAAAA8D8AAAAAAAD4fwAAAAAAAPA/AAAAAAAA8D8AAAAAAADwPwAAAAAAAPA/AAAAAAAA8D8AAAAAAADwPwAAAAAAAPA/AAAAAAAA+H8AAAAAAADwPwAAAAAAAPA/AAAAAAAA8D8AAAAAAAD4fwAAAAAAAPA/AAAAAAAA8D8AAAAAAAD4fwAAAAAAAPA/AAAAAAAA8D8AAAAAAADwPwAAAAAAAPA/AAAAAAAA8D8AAAAAAAD4fwAAAAAAAPA/AAAAAAAA8D8AAAAAAADwPwAAAAAAAPA/AAAAAAAA8D8AAAAAAADwPwAAAAAAAPA/AAAAAAAA8D8AAAAAAADwPwAAAAAAAPA/AAAAAAAA+H8AAAAAAADwPwAAAAAAAPA/AAAAAAAA8D8AAAAAAADwPwAAAAAAAPh/AAAAAAAA8D8AAAAAAADwPwAAAAAAAPA/AAAAAAAA8D8AAAAAAADwPwAAAAAAAPh/AAAAAAAA8D8AAAAAAADwPwAAAAAAAPh/AAAAAAAA8D8AAAAAAADwPwAAAAAAAPA/AAAAAAAA+H8AAAAAAADwPwAAAAAAAPA/AAAAAAAA+H8AAAAAAADwPwAAAAAAAPh/AAAAAAAA+H8AAAAAAADwPwAAAAAAAPA/AAAAAAAA8D8AAAAAAADwPwAAAAAAAPA/AAAAAAAA8D8AAAAAAADwPwAAAAAAAPA/AAAAAAAA8D8AAAAAAADwPwAAAAAAAPA/AAAAAAAA+H8AAAAAAADwPwAAAAAAAPh/AAAAAAAA8D8AAAAAAADwPwAAAAAAAPA/AAAAAAAA+H8AAAAAAADwPwAAAAAAAPA/AAAAAAAA8D8AAAAAAADwPwAAAAAAAPA/AAAAAAAA8D8AAAAAAADwPwAAAAAAAPA/AAAAAAAA8D8AAAAAAAD4fwAAAAAAAPA/AAAAAAAA8D8AAAAAAADwPwAAAAAAAPh/AAAAAAAA8D8AAAAAAADwPwAAAAAAAPA/AAAAAAAA8D8AAAAAAADwPwAAAAAAAPA/AAAAAAAA8D8AAAAAAAD4fwAAAAAAAPh/AAAAAAAA+H8AAAAAAADwPwAAAAAAAPA/AAAAAAAA8D8AAAAAAADwPwAAAAAAAPA/AAAAAAAA8D8AAAAAAADwPwAAAAAAAPA/AAAAAAAA8D8AAAAAAAD4fwAAAAAAAPh/AAAAAAAA+H8AAAAAAADwPwAAAAAAAPh/AAAAAAAA8D8AAAAAAADwPwAAAAAAAPA/AAAAAAAA8D8AAAAAAADwPwAAAAAAAPA/AAAAAAAA8D8AAAAAAAD4fwAAAAAAAPh/AAAAAAAA8D8AAAAAAADwPwAAAAAAAPh/AAAAAAAA8D8AAAAAAADwPwAAAAAAAPh/AAAAAAAA8D8AAAAAAADwPwAAAAAAAPA/AAAAAAAA8D8AAAAAAADwPwAAAAAAAPA/AAAAAAAA8D8AAAAAAADwPwAAAAAAAPh/AAAAAAAA8D8AAAAAAADwPwAAAAAAAPh/AAAAAAAA8D8AAAAAAADwPwAAAAAAAPA/AAAAAAAA8D8AAAAAAADwPwAAAAAAAPA/AAAAAAAA8D8AAAAAAADwPwAAAAAAAPA/AAAAAAAA8D8AAAAAAADwPwAAAAAAAPA/AAAAAAAA8D8AAAAAAAD4fwAAAAAAAPh/AAAAAAAA8D8AAAAAAADwPwAAAAAAAPh/AAAAAAAA8D8AAAAAAADwPwAAAAAAAPA/AAAAAAAA8D8AAAAAAADwPwAAAAAAAPA/AAAAAAAA+H8AAAAAAADwPwAAAAAAAPA/AAAAAAAA8D8AAAAAAADwPwAAAAAAAPA/AAAAAAAA8D8AAAAAAADwPwAAAAAAAPA/AAAAAAAA8D8AAAAAAAD4fwAAAAAAAPA/AAAAAAAA8D8AAAAAAADwPwAAAAAAAPh/AAAAAAAA+H8AAAAAAADwPwAAAAAAAPA/AAAAAAAA8D8AAAAAAADwPwAAAAAAAPh/AAAAAAAA8D8AAAAAAADwPwAAAAAAAPA/AAAAAAAA8D8AAAAAAADwPwAAAAAAAPA/AAAAAAAA8D8AAAAAAADwPwAAAAAAAPA/AAAAAAAA8D8AAAAAAADwPwAAAAAAAPA/AAAAAAAA8D8AAAAAAADwPwAAAAAAAPA/AAAAAAAA8D8AAAAAAADwPwAAAAAAAPA/AAAAAAAA8D8AAAAAAADwPwAAAAAAAPA/AAAAAAAA8D8AAAAAAADwPwAAAAAAAPh/AAAAAAAA+H8AAAAAAAD4fwAAAAAAAPA/AAAAAAAA8D8AAAAAAADwPwAAAAAAAPA/AAAAAAAA8D8AAAAAAADwPwAAAAAAAPA/AAAAAAAA8D8AAAAAAADwPwAAAAAAAPh/AAAAAAAA8D8AAAAAAADwPwAAAAAAAPA/AAAAAAAA+H8AAAAAAADwPwAAAAAAAPA/AAAAAAAA+H8AAAAAAADwPwAAAAAAAPA/AAAAAAAA8D8AAAAAAADwPwAAAAAAAPA/AAAAAAAA8D8AAAAAAADwPwAAAAAAAPA/AAAAAAAA8D8AAAAAAADwPwAAAAAAAPh/AAAAAAAA8D8AAAAAAAD4fwAAAAAAAPA/AAAAAAAA8D8AAAAAAADwPwAAAAAAAPA/AAAAAAAA8D8AAAAAAADwPwAAAAAAAPA/AAAAAAAA8D8AAAAAAADwPwAAAAAAAPA/AAAAAAAA8D8AAAAAAAD4fwAAAAAAAPA/AAAAAAAA8D8AAAAAAADwPwAAAAAAAPA/AAAAAAAA8D8AAAAAAADwPwAAAAAAAPh/AAAAAAAA8D8AAAAAAADwPwAAAAAAAPA/AAAAAAAA+H8AAAAAAADwPwAAAAAAAPA/AAAAAAAA8D8AAAAAAADwPwAAAAAAAPA/AAAAAAAA8D8AAAAAAADwPwAAAAAAAPA/AAAAAAAA8D8AAAAAAAD4fwAAAAAAAPh/AAAAAAAA8D8AAAAAAAD4fwAAAAAAAPA/AAAAAAAA+H8AAAAAAADwPwAAAAAAAPh/AAAAAAAA8D8AAAAAAADwPwAAAAAAAPh/AAAAAAAA8D8AAAAAAADwPwAAAAAAAPA/AAAAAAAA8D8AAAAAAADwPwAAAAAAAPh/AAAAAAAA8D8AAAAAAAD4fwAAAAAAAPA/AAAAAAAA8D8AAAAAAAD4fwAAAAAAAPA/AAAAAAAA8D8AAAAAAADwPwAAAAAAAPh/AAAAAAAA8D8AAAAAAADwPwAAAAAAAPA/AAAAAAAA8D8AAAAAAAD4fwAAAAAAAPA/AAAAAAAA+H8AAAAAAADwPwAAAAAAAPA/AAAAAAAA8D8AAAAAAADwPwAAAAAAAPh/AAAAAAAA8D8AAAAAAAD4fwAAAAAAAPh/AAAAAAAA8D8AAAAAAADwPwAAAAAAAPA/AAAAAAAA+H8AAAAAAADwPwAAAAAAAPA/AAAAAAAA+H8AAAAAAADwPwAAAAAAAPA/AAAAAAAA8D8AAAAAAADwPwAAAAAAAPA/AAAAAAAA8D8AAAAAAAD4fwAAAAAAAPA/AAAAAAAA+H8AAAAAAAD4fwAAAAAAAPh/AAAAAAAA+H8AAAAAAADwPwAAAAAAAPh/AAAAAAAA+H8AAAAAAAD4fwAAAAAAAPA/AAAAAAAA+H8AAAAAAADwPwAAAAAAAPA/AAAAAAAA8D8AAAAAAADwPwAAAAAAAPA/AAAAAAAA+H8AAAAAAAD4fwAAAAAAAPA/AAAAAAAA8D8AAAAAAADwPwAAAAAAAPA/AAAAAAAA8D8AAAAAAADwPwAAAAAAAPA/AAAAAAAA+H8AAAAAAADwPwAAAAAAAPh/AAAAAAAA8D8AAAAAAADwPwAAAAAAAPh/AAAAAAAA8D8AAAAAAAD4fwAAAAAAAPA/AAAAAAAA8D8AAAAAAADwPwAAAAAAAPA/AAAAAAAA8D8AAAAAAAD4fwAAAAAAAPA/AAAAAAAA+H8AAAAAAADwPwAAAAAAAPA/AAAAAAAA8D8AAAAAAADwPwAAAAAAAPA/AAAAAAAA+H8AAAAAAADwPwAAAAAAAPh/AAAAAAAA+H8AAAAAAADwPwAAAAAAAPh/AAAAAAAA8D8AAAAAAADwPwAAAAAAAPA/AAAAAAAA8D8AAAAAAADwPwAAAAAAAPA/AAAAAAAA+H8AAAAAAADwPwAAAAAAAPh/AAAAAAAA8D8AAAAAAADwPwAAAAAAAPA/AAAAAAAA+H8AAAAAAADwPwAAAAAAAPh/AAAAAAAA8D8AAAAAAAD4fwAAAAAAAPA/AAAAAAAA8D8AAAAAAADwPwAAAAAAAPA/AAAAAAAA8D8AAAAAAADwPwAAAAAAAPA/AAAAAAAA8D8AAAAAAAD4fwAAAAAAAPh/AAAAAAAA+H8AAAAAAADwPwAAAAAAAPh/AAAAAAAA8D8AAAAAAADwPwAAAAAAAPA/AAAAAAAA8D8AAAAAAADwPwAAAAAAAPA/AAAAAAAA8D8AAAAAAADwPwAAAAAAAPA/AAAAAAAA8D8AAAAAAAD4fwAAAAAAAPA/AAAAAAAA8D8AAAAAAAD4fwAAAAAAAPA/AAAAAAAA8D8AAAAAAADwPwAAAAAAAPA/AAAAAAAA8D8AAAAAAADwPwAAAAAAAPA/AAAAAAAA8D8AAAAAAADwPwAAAAAAAPA/AAAAAAAA8D8AAAAAAADwPwAAAAAAAPA/AAAAAAAA8D8AAAAAAADwPwAAAAAAAPA/AAAAAAAA8D8AAAAAAADwPwAAAAAAAPA/AAAAAAAA+H8AAAAAAADwPwAAAAAAAPA/AAAAAAAA8D8AAAAAAAD4fwAAAAAAAPh/AAAAAAAA+H8AAAAAAADwPwAAAAAAAPA/AAAAAAAA8D8AAAAAAADwPwAAAAAAAPA/AAAAAAAA8D8AAAAAAADwPwAAAAAAAPA/AAAAAAAA8D8AAAAAAADwPwAAAAAAAPA/AAAAAAAA8D8AAAAAAADwPwAAAAAAAPA/AAAAAAAA+H8AAAAAAAD4fwAAAAAAAPA/AAAAAAAA8D8AAAAAAADwPwAAAAAAAPA/AAAAAAAA+H8AAAAAAADwPwAAAAAAAPh/AAAAAAAA+H8AAAAAAADwPwAAAAAAAPA/AAAAAAAA8D8AAAAAAADwPwAAAAAAAPA/AAAAAAAA8D8AAAAAAADwPwAAAAAAAPA/AAAAAAAA8D8AAAAAAAD4fwAAAAAAAPA/AAAAAAAA8D8AAAAAAAD4fwAAAAAAAPA/AAAAAAAA+H8AAAAAAADwPwAAAAAAAPA/AAAAAAAA8D8AAAAAAADwPwAAAAAAAPA/AAAAAAAA8D8AAAAAAADwPwAAAAAAAPh/AAAAAAAA8D8AAAAAAADwPwAAAAAAAPh/AAAAAAAA8D8AAAAAAADwPwAAAAAAAPA/AAAAAAAA8D8AAAAAAADwPwAAAAAAAPA/AAAAAAAA8D8AAAAAAADwPwAAAAAAAPA/AAAAAAAA8D8AAAAAAADwPwAAAAAAAPA/AAAAAAAA+H8AAAAAAADwPwAAAAAAAPh/AAAAAAAA8D8AAAAAAADwPwAAAAAAAPA/AAAAAAAA8D8AAAAAAADwPwAAAAAAAPA/AAAAAAAA8D8AAAAAAAD4fwAAAAAAAPA/AAAAAAAA8D8AAAAAAADwPwAAAAAAAPA/AAAAAAAA+H8AAAAAAADwPwAAAAAAAPA/AAAAAAAA+H8AAAAAAADwPwAAAAAAAPA/AAAAAAAA+H8AAAAAAADwPwAAAAAAAPA/AAAAAAAA8D8AAAAAAADwPwAAAAAAAPA/AAAAAAAA8D8AAAAAAADwPwAAAAAAAPA/AAAAAAAA8D8AAAAAAADwPwAAAAAAAPA/AAAAAAAA8D8AAAAAAADwPwAAAAAAAPh/AAAAAAAA8D8AAAAAAADwPwAAAAAAAPh/AAAAAAAA8D8AAAAAAAD4fwAAAAAAAPA/AAAAAAAA8D8AAAAAAADwPwAAAAAAAPh/AAAAAAAA8D8AAAAAAADwPwAAAAAAAPA/AAAAAAAA8D8AAAAAAAD4fwAAAAAAAPA/AAAAAAAA8D8AAAAAAADwPwAAAAAAAPA/AAAAAAAA+H8AAAAAAADwPwAAAAAAAPA/AAAAAAAA+H8AAAAAAADwPwAAAAAAAPh/AAAAAAAA8D8AAAAAAADwPwAAAAAAAPA/AAAAAAAA8D8AAAAAAADwPwAAAAAAAPA/AAAAAAAA8D8AAAAAAADwPwAAAAAAAPA/AAAAAAAA+H8AAAAAAAD4fwAAAAAAAPA/AAAAAAAA+H8AAAAAAADwPwAAAAAAAPh/AAAAAAAA8D8AAAAAAAD4fwAAAAAAAPA/AAAAAAAA+H8AAAAAAADwPwAAAAAAAPA/AAAAAAAA8D8AAAAAAADwPwAAAAAAAPh/AAAAAAAA8D8AAAAAAADwPwAAAAAAAPh/AAAAAAAA8D8AAAAAAADwPwAAAAAAAPh/AAAAAAAA+H8AAAAAAAD4fwAAAAAAAPh/AAAAAAAA8D8AAAAAAADwPwAAAAAAAPh/AAAAAAAA8D8AAAAAAADwPwAAAAAAAPA/AAAAAAAA8D8AAAAAAADwPwAAAAAAAPA/AAAAAAAA8D8AAAAAAAD4fwAAAAAAAPh/AAAAAAAA8D8AAAAAAADwPwAAAAAAAPA/AAAAAAAA8D8AAAAAAADwPwAAAAAAAPA/AAAAAAAA8D8AAAAAAADwPwAAAAAAAPh/AAAAAAAA+H8AAAAAAADwPwAAAAAAAPA/AAAAAAAA+H8AAAAAAADwPwAAAAAAAPA/AAAAAAAA8D8AAAAAAADwPwAAAAAAAPh/AAAAAAAA8D8AAAAAAADwPwAAAAAAAPA/AAAAAAAA+H8AAAAAAADwPwAAAAAAAPA/AAAAAAAA8D8AAAAAAADwPwAAAAAAAPA/AAAAAAAA+H8AAAAAAADwPwAAAAAAAPA/AAAAAAAA8D8AAAAAAADwPwAAAAAAAPA/AAAAAAAA8D8AAAAAAADwPwAAAAAAAPA/AAAAAAAA8D8AAAAAAADwPwAAAAAAAPA/AAAAAAAA8D8AAAAAAADwPwAAAAAAAPA/AAAAAAAA+H8AAAAAAAD4fwAAAAAAAPh/AAAAAAAA8D8AAAAAAADwPwAAAAAAAPA/AAAAAAAA8D8AAAAAAADwPwAAAAAAAPA/AAAAAAAA8D8AAAAAAADwPwAAAAAAAPA/AAAAAAAA8D8AAAAAAAD4fwAAAAAAAPA/AAAAAAAA+H8AAAAAAADwPwAAAAAAAPA/AAAAAAAA+H8AAAAAAAD4fwAAAAAAAPA/AAAAAAAA8D8AAAAAAADwPwAAAAAAAPA/AAAAAAAA8D8AAAAAAADwPwAAAAAAAPA/AAAAAAAA+H8AAAAAAADwPwAAAAAAAPA/AAAAAAAA8D8AAAAAAAD4fwAAAAAAAPA/AAAAAAAA8D8AAAAAAADwPwAAAAAAAPA/AAAAAAAA8D8AAAAAAAD4fwAAAAAAAPA/AAAAAAAA8D8AAAAAAADwPwAAAAAAAPA/AAAAAAAA8D8AAAAAAADwPwAAAAAAAPA/AAAAAAAA8D8AAAAAAADwPwAAAAAAAPh/AAAAAAAA+H8AAAAAAADwPwAAAAAAAPh/AAAAAAAA8D8AAAAAAADwPwAAAAAAAPA/AAAAAAAA8D8AAAAAAADwPwAAAAAAAPA/AAAAAAAA8D8AAAAAAADwPwAAAAAAAPA/AAAAAAAA8D8AAAAAAADwPwAAAAAAAPA/AAAAAAAA+H8AAAAAAADwPwAAAAAAAPA/AAAAAAAA8D8AAAAAAADwPwAAAAAAAPA/AAAAAAAA8D8AAAAAAADwPwAAAAAAAPA/AAAAAAAA+H8AAAAAAADwPwAAAAAAAPA/AAAAAAAA8D8AAAAAAADwPwAAAAAAAPA/AAAAAAAA8D8AAAAAAADwPwAAAAAAAPA/AAAAAAAA8D8AAAAAAAD4fwAAAAAAAPA/AAAAAAAA8D8AAAAAAADwPwAAAAAAAPA/AAAAAAAA+H8AAAAAAAD4fwAAAAAAAPA/AAAAAAAA+H8AAAAAAADwPwAAAAAAAPA/AAAAAAAA8D8AAAAAAADwPwAAAAAAAPA/AAAAAAAA+H8AAAAAAAD4fwAAAAAAAPA/AAAAAAAA+H8AAAAAAADwPwAAAAAAAPh/AAAAAAAA+H8AAAAAAADwPwAAAAAAAPA/AAAAAAAA8D8AAAAAAADwPwAAAAAAAPA/AAAAAAAA+H8AAAAAAADwPwAAAAAAAPA/AAAAAAAA8D8AAAAAAADwPwAAAAAAAPA/AAAAAAAA8D8AAAAAAADwPwAAAAAAAPh/AAAAAAAA8D8AAAAAAADwPwAAAAAAAPA/AAAAAAAA8D8AAAAAAADwPwAAAAAAAPA/AAAAAAAA8D8AAAAAAAD4fwAAAAAAAPA/AAAAAAAA8D8AAAAAAAD4fwAAAAAAAPA/AAAAAAAA8D8AAAAAAADwPwAAAAAAAPA/AAAAAAAA+H8AAAAAAADwPwAAAAAAAPh/AAAAAAAA8D8AAAAAAADwPwAAAAAAAPh/AAAAAAAA8D8AAAAAAAD4fwAAAAAAAPA/AAAAAAAA8D8AAAAAAADwPwAAAAAAAPA/AAAAAAAA+H8AAAAAAADwPwAAAAAAAPh/AAAAAAAA8D8AAAAAAAD4fwAAAAAAAPA/AAAAAAAA8D8AAAAAAADwPwAAAAAAAPh/AAAAAAAA8D8AAAAAAADwPwAAAAAAAPA/AAAAAAAA8D8AAAAAAADwPwAAAAAAAPA/AAAAAAAA8D8AAAAAAAD4fwAAAAAAAPA/AAAAAAAA8D8AAAAAAADwPwAAAAAAAPA/AAAAAAAA8D8AAAAAAADwPwAAAAAAAPA/AAAAAAAA8D8AAAAAAADwPwAAAAAAAPA/AAAAAAAA8D8AAAAAAADwPwAAAAAAAPA/AAAAAAAA8D8AAAAAAADwPwAAAAAAAPA/AAAAAAAA+H8AAAAAAADwPwAAAAAAAPA/AAAAAAAA8D8AAAAAAAD4fwAAAAAAAPA/AAAAAAAA8D8AAAAAAAD4fwAAAAAAAPA/AAAAAAAA8D8AAAAAAADwPwAAAAAAAPA/AAAAAAAA8D8AAAAAAAD4fwAAAAAAAPA/AAAAAAAA8D8AAAAAAAD4fwAAAAAAAPh/AAAAAAAA8D8AAAAAAADwPwAAAAAAAPA/AAAAAAAA8D8AAAAAAADwPwAAAAAAAPA/AAAAAAAA8D8AAAAAAAD4fwAAAAAAAPh/AAAAAAAA8D8AAAAAAADwPwAAAAAAAPA/AAAAAAAA8D8AAAAAAADwPwAAAAAAAPh/AAAAAAAA8D8AAAAAAADwPwAAAAAAAPA/AAAAAAAA+H8AAAAAAAD4fwAAAAAAAPA/AAAAAAAA+H8AAAAAAADwPwAAAAAAAPA/AAAAAAAA8D8AAAAAAADwPwAAAAAAAPA/AAAAAAAA+H8AAAAAAAD4fwAAAAAAAPA/AAAAAAAA+H8AAAAAAADwPwAAAAAAAPh/AAAAAAAA8D8AAAAAAADwPwAAAAAAAPA/AAAAAAAA8D8AAAAAAADwPwAAAAAAAPA/AAAAAAAA8D8AAAAAAADwPwAAAAAAAPA/AAAAAAAA8D8AAAAAAAD4fwAAAAAAAPA/AAAAAAAA8D8AAAAAAADwPwAAAAAAAPA/AAAAAAAA8D8AAAAAAADwPwAAAAAAAPA/AAAAAAAA8D8AAAAAAAD4fwAAAAAAAPA/AAAAAAAA8D8AAAAAAADwPwAAAAAAAPh/AAAAAAAA8D8AAAAAAADwPwAAAAAAAPh/AAAAAAAA+H8AAAAAAADwPwAAAAAAAPA/AAAAAAAA8D8AAAAAAAD4fwAAAAAAAPA/AAAAAAAA8D8AAAAAAADwPwAAAAAAAPA/AAAAAAAA8D8AAAAAAADwPwAAAAAAAPA/AAAAAAAA+H8AAAAAAADwPwAAAAAAAPA/AAAAAAAA8D8AAAAAAADwPwAAAAAAAPA/AAAAAAAA8D8AAAAAAAD4fwAAAAAAAPA/AAAAAAAA8D8AAAAAAADwPwAAAAAAAPA/AAAAAAAA8D8AAAAAAADwPwAAAAAAAPA/AAAAAAAA8D8AAAAAAADwPwAAAAAAAPA/AAAAAAAA8D8AAAAAAADwPwAAAAAAAPA/AAAAAAAA8D8AAAAAAADwPwAAAAAAAPA/AAAAAAAA8D8AAAAAAADwPwAAAAAAAPA/AAAAAAAA8D8AAAAAAADwPwAAAAAAAPh/AAAAAAAA8D8AAAAAAAD4fwAAAAAAAPA/AAAAAAAA8D8AAAAAAADwPwAAAAAAAPA/AAAAAAAA8D8AAAAAAAD4fwAAAAAAAPA/AAAAAAAA+H8AAAAAAADwPwAAAAAAAPA/AAAAAAAA8D8AAAAAAADwPwAAAAAAAPA/AAAAAAAA8D8AAAAAAADwPwAAAAAAAPA/AAAAAAAA+H8AAAAAAADwPwAAAAAAAPh/AAAAAAAA+H8AAAAAAADwPwAAAAAAAPA/AAAAAAAA8D8AAAAAAADwPwAAAAAAAPA/AAAAAAAA+H8AAAAAAADwPwAAAAAAAPA/AAAAAAAA8D8AAAAAAADwPwAAAAAAAPh/AAAAAAAA8D8AAAAAAADwPwAAAAAAAPA/AAAAAAAA8D8AAAAAAADwPwAAAAAAAPh/AAAAAAAA8D8AAAAAAADwPwAAAAAAAPA/AAAAAAAA8D8AAAAAAADwPwAAAAAAAPh/AAAAAAAA8D8AAAAAAADwPwAAAAAAAPA/AAAAAAAA8D8AAAAAAADwPwAAAAAAAPA/AAAAAAAA8D8AAAAAAADwPwAAAAAAAPh/AAAAAAAA8D8AAAAAAAD4fwAAAAAAAPA/AAAAAAAA8D8AAAAAAADwPwAAAAAAAPA/AAAAAAAA8D8AAAAAAADwPwAAAAAAAPA/AAAAAAAA+H8AAAAAAADwPwAAAAAAAPA/AAAAAAAA+H8AAAAAAADwPwAAAAAAAPh/AAAAAAAA8D8AAAAAAADwPwAAAAAAAPA/AAAAAAAA+H8AAAAAAAD4fwAAAAAAAPh/AAAAAAAA8D8AAAAAAADwPwAAAAAAAPA/AAAAAAAA8D8AAAAAAADwPwAAAAAAAPA/AAAAAAAA8D8AAAAAAADwPwAAAAAAAPh/AAAAAAAA+H8AAAAAAAD4fwAAAAAAAPh/AAAAAAAA8D8AAAAAAADwPwAAAAAAAPA/AAAAAAAA+H8AAAAAAAD4fwAAAAAAAPA/AAAAAAAA+H8AAAAAAADwPwAAAAAAAPA/AAAAAAAA+H8AAAAAAADwPwAAAAAAAPA/AAAAAAAA8D8AAAAAAADwPwAAAAAAAPA/AAAAAAAA8D8AAAAAAADwPwAAAAAAAPA/AAAAAAAA8D8AAAAAAADwPwAAAAAAAPA/AAAAAAAA8D8AAAAAAADwPwAAAAAAAPA/AAAAAAAA8D8AAAAAAADwPwAAAAAAAPA/AAAAAAAA8D8AAAAAAADwPwAAAAAAAPA/AAAAAAAA8D8AAAAAAADwPwAAAAAAAPA/AAAAAAAA8D8AAAAAAADwPwAAAAAAAPA/AAAAAAAA8D8AAAAAAADwPwAAAAAAAPA/AAAAAAAA8D8AAAAAAAD4fwAAAAAAAPA/AAAAAAAA8D8AAAAAAADwPwAAAAAAAPA/AAAAAAAA8D8AAAAAAADwPwAAAAAAAPA/AAAAAAAA8D8AAAAAAADwPwAAAAAAAPh/AAAAAAAA8D8AAAAAAADwPwAAAAAAAPA/AAAAAAAA8D8AAAAAAAD4fwAAAAAAAPA/AAAAAAAA+H8AAAAAAADwPwAAAAAAAPA/AAAAAAAA8D8AAAAAAADwPwAAAAAAAPA/AAAAAAAA8D8AAAAAAADwPwAAAAAAAPh/AAAAAAAA8D8AAAAAAADwPwAAAAAAAPA/AAAAAAAA8D8AAAAAAADwPwAAAAAAAPA/AAAAAAAA8D8AAAAAAAD4fwAAAAAAAPA/AAAAAAAA+H8AAAAAAADwPwAAAAAAAPA/AAAAAAAA8D8AAAAAAADwPwAAAAAAAPA/AAAAAAAA+H8AAAAAAAD4fwAAAAAAAPA/AAAAAAAA8D8AAAAAAADwPwAAAAAAAPA/AAAAAAAA8D8AAAAAAADwPwAAAAAAAPh/AAAAAAAA8D8AAAAAAADwPwAAAAAAAPh/AAAAAAAA8D8AAAAAAADwPwAAAAAAAPA/AAAAAAAA8D8AAAAAAAD4fwAAAAAAAPh/AAAAAAAA8D8AAAAAAADwPwAAAAAAAPA/AAAAAAAA8D8AAAAAAADwPwAAAAAAAPh/AAAAAAAA8D8AAAAAAADwPwAAAAAAAPA/AAAAAAAA8D8AAAAAAADwPwAAAAAAAPA/AAAAAAAA8D8AAAAAAAD4fwAAAAAAAPh/AAAAAAAA8D8AAAAAAADwPwAAAAAAAPA/AAAAAAAA+H8AAAAAAAD4fwAAAAAAAPA/AAAAAAAA8D8AAAAAAADwPwAAAAAAAPA/AAAAAAAA8D8AAAAAAADwPwAAAAAAAPA/AAAAAAAA8D8AAAAAAADwPwAAAAAAAPA/AAAAAAAA8D8AAAAAAADwPwAAAAAAAPA/AAAAAAAA8D8AAAAAAADwPwAAAAAAAPA/AAAAAAAA+H8AAAAAAADwPwAAAAAAAPA/AAAAAAAA8D8AAAAAAAD4fwAAAAAAAPA/AAAAAAAA8D8AAAAAAAD4fwAAAAAAAPA/AAAAAAAA+H8AAAAAAADwPwAAAAAAAPA/AAAAAAAA8D8AAAAAAADwPwAAAAAAAPh/AAAAAAAA8D8AAAAAAADwPwAAAAAAAPh/AAAAAAAA8D8AAAAAAADwPwAAAAAAAPA/AAAAAAAA8D8AAAAAAAD4fwAAAAAAAPh/AAAAAAAA8D8AAAAAAADwPwAAAAAAAPA/AAAAAAAA+H8AAAAAAADwPwAAAAAAAPh/AAAAAAAA8D8AAAAAAAD4fwAAAAAAAPA/AAAAAAAA8D8AAAAAAADwPwAAAAAAAPA/AAAAAAAA8D8AAAAAAADwPwAAAAAAAPA/AAAAAAAA8D8AAAAAAADwPwAAAAAAAPA/AAAAAAAA8D8AAAAAAAD4fwAAAAAAAPA/AAAAAAAA+H8AAAAAAADwPwAAAAAAAPA/AAAAAAAA8D8AAAAAAADwPwAAAAAAAPA/AAAAAAAA8D8AAAAAAADwPwAAAAAAAPA/AAAAAAAA8D8AAAAAAADwPwAAAAAAAPA/AAAAAAAA8D8AAAAAAADwPwAAAAAAAPA/AAAAAAAA8D8AAAAAAAD4fwAAAAAAAPA/AAAAAAAA8D8AAAAAAADwPwAAAAAAAPA/AAAAAAAA8D8AAAAAAADwPwAAAAAAAPA/AAAAAAAA8D8AAAAAAAD4fwAAAAAAAPA/AAAAAAAA8D8AAAAAAAD4fwAAAAAAAPA/AAAAAAAA8D8AAAAAAAD4fwAAAAAAAPA/AAAAAAAA8D8AAAAAAAD4fwAAAAAAAPA/AAAAAAAA8D8AAAAAAADwPwAAAAAAAPA/AAAAAAAA8D8AAAAAAADwPwAAAAAAAPA/AAAAAAAA8D8AAAAAAAD4fwAAAAAAAPA/AAAAAAAA8D8AAAAAAADwPwAAAAAAAPA/AAAAAAAA8D8AAAAAAADwPwAAAAAAAPh/AAAAAAAA8D8AAAAAAADwPwAAAAAAAPA/AAAAAAAA8D8AAAAAAADwPwAAAAAAAPA/AAAAAAAA8D8AAAAAAADwPwAAAAAAAPA/AAAAAAAA+H8AAAAAAAD4fwAAAAAAAPA/AAAAAAAA8D8AAAAAAADwPwAAAAAAAPA/AAAAAAAA8D8AAAAAAAD4fwAAAAAAAPA/AAAAAAAA+H8AAAAAAAD4fwAAAAAAAPA/AAAAAAAA8D8AAAAAAADwPwAAAAAAAPA/AAAAAAAA8D8AAAAAAADwPwAAAAAAAPh/AAAAAAAA8D8AAAAAAADwPwAAAAAAAPA/AAAAAAAA8D8AAAAAAAD4fwAAAAAAAPA/AAAAAAAA+H8AAAAAAADwPwAAAAAAAPA/AAAAAAAA+H8AAAAAAADwPwAAAAAAAPA/AAAAAAAA+H8AAAAAAAD4fwAAAAAAAPh/AAAAAAAA8D8AAAAAAADwPwAAAAAAAPh/AAAAAAAA8D8AAAAAAADwPwAAAAAAAPA/AAAAAAAA+H8AAAAAAADwPwAAAAAAAPh/AAAAAAAA8D8AAAAAAADwPwAAAAAAAPA/AAAAAAAA8D8AAAAAAAD4fwAAAAAAAPA/AAAAAAAA+H8AAAAAAADwPwAAAAAAAPA/AAAAAAAA8D8AAAAAAADwPwAAAAAAAPh/AAAAAAAA8D8AAAAAAADwPwAAAAAAAPA/AAAAAAAA8D8AAAAAAAD4fwAAAAAAAPA/AAAAAAAA8D8AAAAAAAD4fwAAAAAAAPA/AAAAAAAA+H8AAAAAAAD4fwAAAAAAAPh/AAAAAAAA8D8AAAAAAAD4fwAAAAAAAPA/AAAAAAAA8D8AAAAAAADwPwAAAAAAAPA/AAAAAAAA8D8AAAAAAADwPwAAAAAAAPA/AAAAAAAA8D8AAAAAAADwPwAAAAAAAPh/AAAAAAAA8D8AAAAAAADwPwAAAAAAAPA/AAAAAAAA8D8AAAAAAADwPwAAAAAAAPA/AAAAAAAA8D8AAAAAAADwPwAAAAAAAPA/AAAAAAAA8D8AAAAAAADwPwAAAAAAAPA/AAAAAAAA+H8AAAAAAADwPwAAAAAAAPh/AAAAAAAA8D8AAAAAAADwPwAAAAAAAPA/AAAAAAAA8D8AAAAAAADwPwAAAAAAAPA/AAAAAAAA8D8AAAAAAADwPwAAAAAAAPh/AAAAAAAA8D8AAAAAAAD4fwAAAAAAAPA/AAAAAAAA+H8AAAAAAAD4fwAAAAAAAPA/AAAAAAAA8D8AAAAAAADwPwAAAAAAAPA/AAAAAAAA8D8AAAAAAADwPwAAAAAAAPA/AAAAAAAA+H8AAAAAAADwPwAAAAAAAPA/AAAAAAAA8D8AAAAAAAD4fwAAAAAAAPA/AAAAAAAA8D8AAAAAAADwPwAAAAAAAPA/AAAAAAAA8D8AAAAAAADwPwAAAAAAAPA/AAAAAAAA8D8AAAAAAADwPwAAAAAAAPh/AAAAAAAA8D8AAAAAAAD4fwAAAAAAAPA/AAAAAAAA+H8AAAAAAAD4fwAAAAAAAPA/AAAAAAAA+H8AAAAAAADwPwAAAAAAAPA/AAAAAAAA8D8AAAAAAAD4fwAAAAAAAPA/AAAAAAAA8D8AAAAAAADwPwAAAAAAAPA/AAAAAAAA8D8AAAAAAADwPwAAAAAAAPA/AAAAAAAA8D8AAAAAAAD4fwAAAAAAAPA/AAAAAAAA8D8AAAAAAADwPwAAAAAAAPA/AAAAAAAA8D8AAAAAAADwPwAAAAAAAPh/AAAAAAAA8D8AAAAAAADwPwAAAAAAAPA/AAAAAAAA8D8AAAAAAADwPwAAAAAAAPh/AAAAAAAA8D8AAAAAAADwPwAAAAAAAPA/AAAAAAAA8D8AAAAAAADwPwAAAAAAAPh/AAAAAAAA8D8AAAAAAADwPwAAAAAAAPA/AAAAAAAA8D8AAAAAAAD4fwAAAAAAAPA/AAAAAAAA8D8AAAAAAAD4fwAAAAAAAPh/AAAAAAAA8D8AAAAAAADwPwAAAAAAAPh/AAAAAAAA8D8AAAAAAADwPwAAAAAAAPA/AAAAAAAA8D8AAAAAAADwPwAAAAAAAPh/AAAAAAAA8D8AAAAAAADwPwAAAAAAAPA/AAAAAAAA+H8AAAAAAADwPwAAAAAAAPA/AAAAAAAA8D8AAAAAAADwPwAAAAAAAPA/AAAAAAAA8D8AAAAAAAD4fwAAAAAAAPA/AAAAAAAA8D8AAAAAAADwPwAAAAAAAPh/AAAAAAAA8D8AAAAAAADwPwAAAAAAAPA/AAAAAAAA8D8AAAAAAADwPwAAAAAAAPA/AAAAAAAA8D8AAAAAAADwPwAAAAAAAPh/AAAAAAAA+H8AAAAAAADwPwAAAAAAAPA/AAAAAAAA8D8AAAAAAADwPwAAAAAAAPA/AAAAAAAA+H8AAAAAAADwPwAAAAAAAPh/AAAAAAAA8D8AAAAAAAD4fwAAAAAAAPA/AAAAAAAA8D8AAAAAAADwPwAAAAAAAPA/AAAAAAAA+H8AAAAAAADwPwAAAAAAAPA/AAAAAAAA8D8AAAAAAADwPwAAAAAAAPA/AAAAAAAA+H8AAAAAAAD4fwAAAAAAAPA/AAAAAAAA8D8AAAAAAADwPwAAAAAAAPA/AAAAAAAA8D8AAAAAAADwPwAAAAAAAPh/AAAAAAAA8D8AAAAAAADwPwAAAAAAAPA/AAAAAAAA8D8AAAAAAADwPwAAAAAAAPh/AAAAAAAA8D8AAAAAAADwPwAAAAAAAPA/AAAAAAAA8D8AAAAAAADwPwAAAAAAAPh/AAAAAAAA8D8AAAAAAADwPwAAAAAAAPA/AAAAAAAA+H8AAAAAAADwPwAAAAAAAPh/AAAAAAAA8D8AAAAAAADwPwAAAAAAAPA/AAAAAAAA+H8AAAAAAADwPwAAAAAAAPA/AAAAAAAA+H8AAAAAAADwPwAAAAAAAPA/AAAAAAAA8D8AAAAAAADwPwAAAAAAAPA/AAAAAAAA+H8AAAAAAAD4fwAAAAAAAPA/AAAAAAAA8D8AAAAAAADwPwAAAAAAAPh/AAAAAAAA+H8AAAAAAADwPwAAAAAAAPh/AAAAAAAA8D8AAAAAAADwPwAAAAAAAPA/AAAAAAAA+H8AAAAAAADwPwAAAAAAAPA/AAAAAAAA+H8AAAAAAADwPwAAAAAAAPh/AAAAAAAA8D8AAAAAAADwPwAAAAAAAPh/AAAAAAAA8D8AAAAAAADwPwAAAAAAAPA/AAAAAAAA8D8AAAAAAADwPwAAAAAAAPA/AAAAAAAA8D8AAAAAAADwPwAAAAAAAPA/AAAAAAAA+H8AAAAAAADwPwAAAAAAAPA/AAAAAAAA+H8AAAAAAAD4fwAAAAAAAPA/AAAAAAAA8D8AAAAAAADwPwAAAAAAAPA/AAAAAAAA8D8AAAAAAADwPwAAAAAAAPh/AAAAAAAA+H8AAAAAAADwPwAAAAAAAPA/AAAAAAAA8D8AAAAAAADwPwAAAAAAAPA/AAAAAAAA8D8AAAAAAADwPwAAAAAAAPA/AAAAAAAA+H8AAAAAAADwPwAAAAAAAPh/AAAAAAAA8D8AAAAAAADwPwAAAAAAAPh/AAAAAAAA+H8AAAAAAAD4fwAAAAAAAPA/AAAAAAAA+H8AAAAAAAD4fwAAAAAAAPA/AAAAAAAA8D8AAAAAAAD4fwAAAAAAAPA/AAAAAAAA8D8AAAAAAAD4fwAAAAAAAPh/AAAAAAAA8D8AAAAAAADwPwAAAAAAAPh/AAAAAAAA+H8AAAAAAAD4fwAAAAAAAPh/AAAAAAAA+H8AAAAAAAD4fwAAAAAAAPA/AAAAAAAA8D8AAAAAAADwPwAAAAAAAPA/AAAAAAAA+H8AAAAAAADwPwAAAAAAAPh/AAAAAAAA8D8AAAAAAAD4fwAAAAAAAPh/AAAAAAAA+H8=",
          "dtype": "f8"
         },
         "yaxis": "y"
        },
        {
         "bingroup": "x",
         "histfunc": "sum",
         "hovertemplate": "Статус клиента: =Ушедшие<br>Balance=%{x}<br>sum of value=%{y}<extra></extra>",
         "legendgroup": "Ушедшие",
         "marker": {
          "color": "#EF553B",
          "pattern": {
           "shape": ""
          }
         },
         "name": "Ушедшие",
         "nbinsx": 50,
         "orientation": "v",
         "showlegend": true,
         "texttemplate": "%{value}",
         "type": "histogram",
         "x": {
          "bdata": "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",
          "dtype": "f8"
         },
         "xaxis": "x",
         "y": {
          "bdata": "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",
          "dtype": "f8"
         },
         "yaxis": "y"
        }
       ],
       "layout": {
        "bargap": 0.1,
        "barmode": "relative",
        "height": 500,
        "legend": {
         "orientation": "h",
         "title": {
          "font": {
           "family": "Sitka Small"
          },
          "text": "Статус клиента: "
         },
         "tracegroupgap": 0,
         "x": 0,
         "y": 150
        },
        "template": {
         "data": {
          "bar": [
           {
            "error_x": {
             "color": "#2a3f5f"
            },
            "error_y": {
             "color": "#2a3f5f"
            },
            "marker": {
             "line": {
              "color": "#E5ECF6",
              "width": 0.5
             },
             "pattern": {
              "fillmode": "overlay",
              "size": 10,
              "solidity": 0.2
             }
            },
            "type": "bar"
           }
          ],
          "barpolar": [
           {
            "marker": {
             "line": {
              "color": "#E5ECF6",
              "width": 0.5
             },
             "pattern": {
              "fillmode": "overlay",
              "size": 10,
              "solidity": 0.2
             }
            },
            "type": "barpolar"
           }
          ],
          "carpet": [
           {
            "aaxis": {
             "endlinecolor": "#2a3f5f",
             "gridcolor": "white",
             "linecolor": "white",
             "minorgridcolor": "white",
             "startlinecolor": "#2a3f5f"
            },
            "baxis": {
             "endlinecolor": "#2a3f5f",
             "gridcolor": "white",
             "linecolor": "white",
             "minorgridcolor": "white",
             "startlinecolor": "#2a3f5f"
            },
            "type": "carpet"
           }
          ],
          "choropleth": [
           {
            "colorbar": {
             "outlinewidth": 0,
             "ticks": ""
            },
            "type": "choropleth"
           }
          ],
          "contour": [
           {
            "colorbar": {
             "outlinewidth": 0,
             "ticks": ""
            },
            "colorscale": [
             [
              0,
              "#0d0887"
             ],
             [
              0.1111111111111111,
              "#46039f"
             ],
             [
              0.2222222222222222,
              "#7201a8"
             ],
             [
              0.3333333333333333,
              "#9c179e"
             ],
             [
              0.4444444444444444,
              "#bd3786"
             ],
             [
              0.5555555555555556,
              "#d8576b"
             ],
             [
              0.6666666666666666,
              "#ed7953"
             ],
             [
              0.7777777777777778,
              "#fb9f3a"
             ],
             [
              0.8888888888888888,
              "#fdca26"
             ],
             [
              1,
              "#f0f921"
             ]
            ],
            "type": "contour"
           }
          ],
          "contourcarpet": [
           {
            "colorbar": {
             "outlinewidth": 0,
             "ticks": ""
            },
            "type": "contourcarpet"
           }
          ],
          "heatmap": [
           {
            "colorbar": {
             "outlinewidth": 0,
             "ticks": ""
            },
            "colorscale": [
             [
              0,
              "#0d0887"
             ],
             [
              0.1111111111111111,
              "#46039f"
             ],
             [
              0.2222222222222222,
              "#7201a8"
             ],
             [
              0.3333333333333333,
              "#9c179e"
             ],
             [
              0.4444444444444444,
              "#bd3786"
             ],
             [
              0.5555555555555556,
              "#d8576b"
             ],
             [
              0.6666666666666666,
              "#ed7953"
             ],
             [
              0.7777777777777778,
              "#fb9f3a"
             ],
             [
              0.8888888888888888,
              "#fdca26"
             ],
             [
              1,
              "#f0f921"
             ]
            ],
            "type": "heatmap"
           }
          ],
          "histogram": [
           {
            "marker": {
             "pattern": {
              "fillmode": "overlay",
              "size": 10,
              "solidity": 0.2
             }
            },
            "type": "histogram"
           }
          ],
          "histogram2d": [
           {
            "colorbar": {
             "outlinewidth": 0,
             "ticks": ""
            },
            "colorscale": [
             [
              0,
              "#0d0887"
             ],
             [
              0.1111111111111111,
              "#46039f"
             ],
             [
              0.2222222222222222,
              "#7201a8"
             ],
             [
              0.3333333333333333,
              "#9c179e"
             ],
             [
              0.4444444444444444,
              "#bd3786"
             ],
             [
              0.5555555555555556,
              "#d8576b"
             ],
             [
              0.6666666666666666,
              "#ed7953"
             ],
             [
              0.7777777777777778,
              "#fb9f3a"
             ],
             [
              0.8888888888888888,
              "#fdca26"
             ],
             [
              1,
              "#f0f921"
             ]
            ],
            "type": "histogram2d"
           }
          ],
          "histogram2dcontour": [
           {
            "colorbar": {
             "outlinewidth": 0,
             "ticks": ""
            },
            "colorscale": [
             [
              0,
              "#0d0887"
             ],
             [
              0.1111111111111111,
              "#46039f"
             ],
             [
              0.2222222222222222,
              "#7201a8"
             ],
             [
              0.3333333333333333,
              "#9c179e"
             ],
             [
              0.4444444444444444,
              "#bd3786"
             ],
             [
              0.5555555555555556,
              "#d8576b"
             ],
             [
              0.6666666666666666,
              "#ed7953"
             ],
             [
              0.7777777777777778,
              "#fb9f3a"
             ],
             [
              0.8888888888888888,
              "#fdca26"
             ],
             [
              1,
              "#f0f921"
             ]
            ],
            "type": "histogram2dcontour"
           }
          ],
          "mesh3d": [
           {
            "colorbar": {
             "outlinewidth": 0,
             "ticks": ""
            },
            "type": "mesh3d"
           }
          ],
          "parcoords": [
           {
            "line": {
             "colorbar": {
              "outlinewidth": 0,
              "ticks": ""
             }
            },
            "type": "parcoords"
           }
          ],
          "pie": [
           {
            "automargin": true,
            "type": "pie"
           }
          ],
          "scatter": [
           {
            "fillpattern": {
             "fillmode": "overlay",
             "size": 10,
             "solidity": 0.2
            },
            "type": "scatter"
           }
          ],
          "scatter3d": [
           {
            "line": {
             "colorbar": {
              "outlinewidth": 0,
              "ticks": ""
             }
            },
            "marker": {
             "colorbar": {
              "outlinewidth": 0,
              "ticks": ""
             }
            },
            "type": "scatter3d"
           }
          ],
          "scattercarpet": [
           {
            "marker": {
             "colorbar": {
              "outlinewidth": 0,
              "ticks": ""
             }
            },
            "type": "scattercarpet"
           }
          ],
          "scattergeo": [
           {
            "marker": {
             "colorbar": {
              "outlinewidth": 0,
              "ticks": ""
             }
            },
            "type": "scattergeo"
           }
          ],
          "scattergl": [
           {
            "marker": {
             "colorbar": {
              "outlinewidth": 0,
              "ticks": ""
             }
            },
            "type": "scattergl"
           }
          ],
          "scattermap": [
           {
            "marker": {
             "colorbar": {
              "outlinewidth": 0,
              "ticks": ""
             }
            },
            "type": "scattermap"
           }
          ],
          "scattermapbox": [
           {
            "marker": {
             "colorbar": {
              "outlinewidth": 0,
              "ticks": ""
             }
            },
            "type": "scattermapbox"
           }
          ],
          "scatterpolar": [
           {
            "marker": {
             "colorbar": {
              "outlinewidth": 0,
              "ticks": ""
             }
            },
            "type": "scatterpolar"
           }
          ],
          "scatterpolargl": [
           {
            "marker": {
             "colorbar": {
              "outlinewidth": 0,
              "ticks": ""
             }
            },
            "type": "scatterpolargl"
           }
          ],
          "scatterternary": [
           {
            "marker": {
             "colorbar": {
              "outlinewidth": 0,
              "ticks": ""
             }
            },
            "type": "scatterternary"
           }
          ],
          "surface": [
           {
            "colorbar": {
             "outlinewidth": 0,
             "ticks": ""
            },
            "colorscale": [
             [
              0,
              "#0d0887"
             ],
             [
              0.1111111111111111,
              "#46039f"
             ],
             [
              0.2222222222222222,
              "#7201a8"
             ],
             [
              0.3333333333333333,
              "#9c179e"
             ],
             [
              0.4444444444444444,
              "#bd3786"
             ],
             [
              0.5555555555555556,
              "#d8576b"
             ],
             [
              0.6666666666666666,
              "#ed7953"
             ],
             [
              0.7777777777777778,
              "#fb9f3a"
             ],
             [
              0.8888888888888888,
              "#fdca26"
             ],
             [
              1,
              "#f0f921"
             ]
            ],
            "type": "surface"
           }
          ],
          "table": [
           {
            "cells": {
             "fill": {
              "color": "#EBF0F8"
             },
             "line": {
              "color": "white"
             }
            },
            "header": {
             "fill": {
              "color": "#C8D4E3"
             },
             "line": {
              "color": "white"
             }
            },
            "type": "table"
           }
          ]
         },
         "layout": {
          "annotationdefaults": {
           "arrowcolor": "#2a3f5f",
           "arrowhead": 0,
           "arrowwidth": 1
          },
          "autotypenumbers": "strict",
          "coloraxis": {
           "colorbar": {
            "outlinewidth": 0,
            "ticks": ""
           }
          },
          "colorscale": {
           "diverging": [
            [
             0,
             "#8e0152"
            ],
            [
             0.1,
             "#c51b7d"
            ],
            [
             0.2,
             "#de77ae"
            ],
            [
             0.3,
             "#f1b6da"
            ],
            [
             0.4,
             "#fde0ef"
            ],
            [
             0.5,
             "#f7f7f7"
            ],
            [
             0.6,
             "#e6f5d0"
            ],
            [
             0.7,
             "#b8e186"
            ],
            [
             0.8,
             "#7fbc41"
            ],
            [
             0.9,
             "#4d9221"
            ],
            [
             1,
             "#276419"
            ]
           ],
           "sequential": [
            [
             0,
             "#0d0887"
            ],
            [
             0.1111111111111111,
             "#46039f"
            ],
            [
             0.2222222222222222,
             "#7201a8"
            ],
            [
             0.3333333333333333,
             "#9c179e"
            ],
            [
             0.4444444444444444,
             "#bd3786"
            ],
            [
             0.5555555555555556,
             "#d8576b"
            ],
            [
             0.6666666666666666,
             "#ed7953"
            ],
            [
             0.7777777777777778,
             "#fb9f3a"
            ],
            [
             0.8888888888888888,
             "#fdca26"
            ],
            [
             1,
             "#f0f921"
            ]
           ],
           "sequentialminus": [
            [
             0,
             "#0d0887"
            ],
            [
             0.1111111111111111,
             "#46039f"
            ],
            [
             0.2222222222222222,
             "#7201a8"
            ],
            [
             0.3333333333333333,
             "#9c179e"
            ],
            [
             0.4444444444444444,
             "#bd3786"
            ],
            [
             0.5555555555555556,
             "#d8576b"
            ],
            [
             0.6666666666666666,
             "#ed7953"
            ],
            [
             0.7777777777777778,
             "#fb9f3a"
            ],
            [
             0.8888888888888888,
             "#fdca26"
            ],
            [
             1,
             "#f0f921"
            ]
           ]
          },
          "colorway": [
           "#636efa",
           "#EF553B",
           "#00cc96",
           "#ab63fa",
           "#FFA15A",
           "#19d3f3",
           "#FF6692",
           "#B6E880",
           "#FF97FF",
           "#FECB52"
          ],
          "font": {
           "color": "#2a3f5f"
          },
          "geo": {
           "bgcolor": "white",
           "lakecolor": "white",
           "landcolor": "#E5ECF6",
           "showlakes": true,
           "showland": true,
           "subunitcolor": "white"
          },
          "hoverlabel": {
           "align": "left"
          },
          "hovermode": "closest",
          "mapbox": {
           "style": "light"
          },
          "paper_bgcolor": "white",
          "plot_bgcolor": "#E5ECF6",
          "polar": {
           "angularaxis": {
            "gridcolor": "white",
            "linecolor": "white",
            "ticks": ""
           },
           "bgcolor": "#E5ECF6",
           "radialaxis": {
            "gridcolor": "white",
            "linecolor": "white",
            "ticks": ""
           }
          },
          "scene": {
           "xaxis": {
            "backgroundcolor": "#E5ECF6",
            "gridcolor": "white",
            "gridwidth": 2,
            "linecolor": "white",
            "showbackground": true,
            "ticks": "",
            "zerolinecolor": "white"
           },
           "yaxis": {
            "backgroundcolor": "#E5ECF6",
            "gridcolor": "white",
            "gridwidth": 2,
            "linecolor": "white",
            "showbackground": true,
            "ticks": "",
            "zerolinecolor": "white"
           },
           "zaxis": {
            "backgroundcolor": "#E5ECF6",
            "gridcolor": "white",
            "gridwidth": 2,
            "linecolor": "white",
            "showbackground": true,
            "ticks": "",
            "zerolinecolor": "white"
           }
          },
          "shapedefaults": {
           "line": {
            "color": "#2a3f5f"
           }
          },
          "ternary": {
           "aaxis": {
            "gridcolor": "white",
            "linecolor": "white",
            "ticks": ""
           },
           "baxis": {
            "gridcolor": "white",
            "linecolor": "white",
            "ticks": ""
           },
           "bgcolor": "#E5ECF6",
           "caxis": {
            "gridcolor": "white",
            "linecolor": "white",
            "ticks": ""
           }
          },
          "title": {
           "x": 0.05
          },
          "xaxis": {
           "automargin": true,
           "gridcolor": "white",
           "linecolor": "white",
           "ticks": "",
           "title": {
            "standoff": 15
           },
           "zerolinecolor": "white",
           "zerolinewidth": 2
          },
          "yaxis": {
           "automargin": true,
           "gridcolor": "white",
           "linecolor": "white",
           "ticks": "",
           "title": {
            "standoff": 15
           },
           "zerolinecolor": "white",
           "zerolinewidth": 2
          }
         }
        },
        "title": {
         "text": "Распределение по балансам"
        },
        "width": 1000,
        "xaxis": {
         "anchor": "y",
         "domain": [
          0,
          1
         ],
         "title": {
          "text": "Баланс клиента, $"
         }
        },
        "yaxis": {
         "anchor": "x",
         "domain": [
          0,
          1
         ],
         "title": {
          "text": "Количество"
         }
        }
       }
      }
     },
     "metadata": {},
     "output_type": "display_data"
    }
   ],
   "source": [
    "# Выбираем нужные признаки\n",
    "tmp_df = churn_df[[\"Balance\", 'Exited','CustomerId']].copy()\n",
    "\n",
    "# Группируем и подписываем данные\n",
    "# Долю оттока к общему количеству выводить не будем, дадим вместо этого общее количество.\n",
    "df = tmp_df.pivot_table(\n",
    "    index = 'Balance',\n",
    "    columns = 'Exited',\n",
    "    values = 'CustomerId',\n",
    "    aggfunc = 'count'\n",
    ")\n",
    "df = df.rename( columns = {1: \"Ушедшие\", 0: \"Лояльные\"})\n",
    "\n",
    "# Готовим графику: имеем распределение первичных данных, используем гистограммы\n",
    "fig = px.histogram(\n",
    "    data_frame = df,\n",
    "    x = df.index,   # По оси x отпечатаются балансы клиентов\n",
    "    y = df.columns, # По оси y отпечатается количество лояльных и ушедших клиентов\n",
    "    nbins = 50, # Число интервалов \n",
    "    text_auto = True, # Отображать надписи на колонках гистограммы\n",
    "    title = 'Распределение по балансам', #заголовок\n",
    "    width = 1000, # Ширина графика\n",
    "    height = 500, # Высота графика\n",
    "    labels = {'Exited': 'Статус клиента: '} # Подпись на легенде\n",
    ")\n",
    "fig.update_layout(\n",
    "    bargap = 0.1, # Ширина вертикальной разделительной вертикальной полосы\n",
    "    xaxis_title = \"Баланс клиента, $\", # Подпись оси x\n",
    "    yaxis_title = \"Количество\", # Подпись оси y\n",
    "    legend = dict( orientation = \"h\", x = 0, y = 150, title_font_family = \"Sitka Small\" ) # Сместим легенду воева вверх\n",
    ")\n",
    "fig.show() # Отображаем"
   ]
  },
  {
   "cell_type": "markdown",
   "id": "d5abf27c",
   "metadata": {},
   "source": [
    "Из графика видим, что \n",
    "1) Максимальное количество клиентов (как лояльных, так и ушедших) находится в диапазоне 90-150 тыс долларов.\n",
    "2) Доля ушедших в диапазоне с балансом 90-150 тыс немного выше, чем вне диапазона\n",
    "3) Пик в начале графика - это новые клиенты, которые решили попрововать открыть счет в банке, положили некую тестовую сумму. Большинство из них осталось и часть ушла.\n",
    "4) По краям графика колебания оконо нулевой отметки. Возможно это разовые операции, клиенты не собирались долгосрочно открывать счет"
   ]
  },
  {
   "cell_type": "markdown",
   "id": "7f41f074",
   "metadata": {},
   "source": [
    "9.4. Посмотрите на распределение возраста в разрезе признака оттока. В какой группе больше потенциальных выбросов? На какую возрастную категорию клиентов стоит обратить внимание банку?"
   ]
  },
  {
   "cell_type": "code",
   "execution_count": 175,
   "id": "9a3529fc",
   "metadata": {},
   "outputs": [
    {
     "data": {
      "application/vnd.plotly.v1+json": {
       "config": {
        "plotlyServerURL": "https://plot.ly"
       },
       "data": [
        {
         "hovertemplate": "Age=%{x}<br>Отток=%{marker.color}<extra></extra>",
         "legendgroup": "",
         "marker": {
          "color": {
           "bdata": "CQQFBg4GCwQHBggIBwgICgcMDA0NERUTGB4cJigsMDM1Nz82PTtHMyswNCgoLSAsFA4gCRYaBQgGAAAAAAAAAAAAMgAAAA==",
           "dtype": "i1"
          },
          "coloraxis": "coloraxis",
          "pattern": {
           "shape": ""
          }
         },
         "name": "",
         "orientation": "v",
         "showlegend": false,
         "text": {
          "bdata": "AAAAAAAAIkAAAAAAAAAQQAAAAAAAABRAAAAAAAAAGEAAAAAAAAAsQAAAAAAAABhAAAAAAAAAJkAAAAAAAAAQQAAAAAAAABxAAAAAAAAAGEAAAAAAAAAgQAAAAAAAACBAAAAAAAAAHEAAAAAAAAAgQAAAAAAAACBAAAAAAAAAJEAAAAAAAAAcQAAAAAAAAChAAAAAAAAAKEAAAAAAAAAqQAAAAAAAACpAAAAAAAAAMUAAAAAAAAA1QAAAAAAAADNAAAAAAAAAOEAAAAAAAAA+QAAAAAAAADxAAAAAAAAAQ0AAAAAAAABEQAAAAAAAAEZAAAAAAAAASEAAAAAAAIBJQAAAAAAAgEpAAAAAAACAS0AAAAAAAIBPQAAAAAAAAEtAAAAAAACATkAAAAAAAIBNQAAAAAAAwFFAAAAAAACASUAAAAAAAIBFQAAAAAAAAEhAAAAAAAAASkAAAAAAAABEQAAAAAAAAERAAAAAAACARkAAAAAAAABAQAAAAAAAAEZAAAAAAAAANEAAAAAAAAAsQAAAAAAAAEBAAAAAAAAAIkAAAAAAAAA2QAAAAAAAADpAAAAAAAAAFEAAAAAAAAAgQAAAAAAAABhAAAAAAAAAAAAAAAAAAAAAAAAAAAAAAAAAAAAAAAAAAAAAAAAAAAAAAAAAAAAAAAAAAAAAAAAAAAAAAAAAAAAAAAAAAAAAAAAAAAAAAAAASUAAAAAAAAAAAAAAAAAAAAAAAAAAAAAAAAA=",
          "dtype": "f8"
         },
         "textposition": "auto",
         "type": "bar",
         "x": {
          "bdata": "EhMUFRYXGBkaGxwdHh8gISIjJCUmJygpKissLS4vMDEyMzQ1Njc4OTo7PD0+P0BBQkNERUZHSElKS0xNTk9QUVJTVFVYXA==",
          "dtype": "i1"
         },
         "xaxis": "x",
         "y": {
          "bdata": "CQQFBg4GCwQHBggIBwgICgcMDA0NERUTGB4cJigsMDM1Nz82PTtHMyswNCgoLSAsFA4gCRYaBQgGAAAAAAAAAAAAMgAAAA==",
          "dtype": "i1"
         },
         "yaxis": "y"
        }
       ],
       "layout": {
        "bargap": 0.1,
        "barmode": "relative",
        "coloraxis": {
         "colorbar": {
          "title": {
           "text": "Отток"
          }
         },
         "colorscale": [
          [
           0,
           "#0d0887"
          ],
          [
           0.1111111111111111,
           "#46039f"
          ],
          [
           0.2222222222222222,
           "#7201a8"
          ],
          [
           0.3333333333333333,
           "#9c179e"
          ],
          [
           0.4444444444444444,
           "#bd3786"
          ],
          [
           0.5555555555555556,
           "#d8576b"
          ],
          [
           0.6666666666666666,
           "#ed7953"
          ],
          [
           0.7777777777777778,
           "#fb9f3a"
          ],
          [
           0.8888888888888888,
           "#fdca26"
          ],
          [
           1,
           "#f0f921"
          ]
         ]
        },
        "height": 500,
        "legend": {
         "tracegroupgap": 0
        },
        "template": {
         "data": {
          "bar": [
           {
            "error_x": {
             "color": "#2a3f5f"
            },
            "error_y": {
             "color": "#2a3f5f"
            },
            "marker": {
             "line": {
              "color": "#E5ECF6",
              "width": 0.5
             },
             "pattern": {
              "fillmode": "overlay",
              "size": 10,
              "solidity": 0.2
             }
            },
            "type": "bar"
           }
          ],
          "barpolar": [
           {
            "marker": {
             "line": {
              "color": "#E5ECF6",
              "width": 0.5
             },
             "pattern": {
              "fillmode": "overlay",
              "size": 10,
              "solidity": 0.2
             }
            },
            "type": "barpolar"
           }
          ],
          "carpet": [
           {
            "aaxis": {
             "endlinecolor": "#2a3f5f",
             "gridcolor": "white",
             "linecolor": "white",
             "minorgridcolor": "white",
             "startlinecolor": "#2a3f5f"
            },
            "baxis": {
             "endlinecolor": "#2a3f5f",
             "gridcolor": "white",
             "linecolor": "white",
             "minorgridcolor": "white",
             "startlinecolor": "#2a3f5f"
            },
            "type": "carpet"
           }
          ],
          "choropleth": [
           {
            "colorbar": {
             "outlinewidth": 0,
             "ticks": ""
            },
            "type": "choropleth"
           }
          ],
          "contour": [
           {
            "colorbar": {
             "outlinewidth": 0,
             "ticks": ""
            },
            "colorscale": [
             [
              0,
              "#0d0887"
             ],
             [
              0.1111111111111111,
              "#46039f"
             ],
             [
              0.2222222222222222,
              "#7201a8"
             ],
             [
              0.3333333333333333,
              "#9c179e"
             ],
             [
              0.4444444444444444,
              "#bd3786"
             ],
             [
              0.5555555555555556,
              "#d8576b"
             ],
             [
              0.6666666666666666,
              "#ed7953"
             ],
             [
              0.7777777777777778,
              "#fb9f3a"
             ],
             [
              0.8888888888888888,
              "#fdca26"
             ],
             [
              1,
              "#f0f921"
             ]
            ],
            "type": "contour"
           }
          ],
          "contourcarpet": [
           {
            "colorbar": {
             "outlinewidth": 0,
             "ticks": ""
            },
            "type": "contourcarpet"
           }
          ],
          "heatmap": [
           {
            "colorbar": {
             "outlinewidth": 0,
             "ticks": ""
            },
            "colorscale": [
             [
              0,
              "#0d0887"
             ],
             [
              0.1111111111111111,
              "#46039f"
             ],
             [
              0.2222222222222222,
              "#7201a8"
             ],
             [
              0.3333333333333333,
              "#9c179e"
             ],
             [
              0.4444444444444444,
              "#bd3786"
             ],
             [
              0.5555555555555556,
              "#d8576b"
             ],
             [
              0.6666666666666666,
              "#ed7953"
             ],
             [
              0.7777777777777778,
              "#fb9f3a"
             ],
             [
              0.8888888888888888,
              "#fdca26"
             ],
             [
              1,
              "#f0f921"
             ]
            ],
            "type": "heatmap"
           }
          ],
          "histogram": [
           {
            "marker": {
             "pattern": {
              "fillmode": "overlay",
              "size": 10,
              "solidity": 0.2
             }
            },
            "type": "histogram"
           }
          ],
          "histogram2d": [
           {
            "colorbar": {
             "outlinewidth": 0,
             "ticks": ""
            },
            "colorscale": [
             [
              0,
              "#0d0887"
             ],
             [
              0.1111111111111111,
              "#46039f"
             ],
             [
              0.2222222222222222,
              "#7201a8"
             ],
             [
              0.3333333333333333,
              "#9c179e"
             ],
             [
              0.4444444444444444,
              "#bd3786"
             ],
             [
              0.5555555555555556,
              "#d8576b"
             ],
             [
              0.6666666666666666,
              "#ed7953"
             ],
             [
              0.7777777777777778,
              "#fb9f3a"
             ],
             [
              0.8888888888888888,
              "#fdca26"
             ],
             [
              1,
              "#f0f921"
             ]
            ],
            "type": "histogram2d"
           }
          ],
          "histogram2dcontour": [
           {
            "colorbar": {
             "outlinewidth": 0,
             "ticks": ""
            },
            "colorscale": [
             [
              0,
              "#0d0887"
             ],
             [
              0.1111111111111111,
              "#46039f"
             ],
             [
              0.2222222222222222,
              "#7201a8"
             ],
             [
              0.3333333333333333,
              "#9c179e"
             ],
             [
              0.4444444444444444,
              "#bd3786"
             ],
             [
              0.5555555555555556,
              "#d8576b"
             ],
             [
              0.6666666666666666,
              "#ed7953"
             ],
             [
              0.7777777777777778,
              "#fb9f3a"
             ],
             [
              0.8888888888888888,
              "#fdca26"
             ],
             [
              1,
              "#f0f921"
             ]
            ],
            "type": "histogram2dcontour"
           }
          ],
          "mesh3d": [
           {
            "colorbar": {
             "outlinewidth": 0,
             "ticks": ""
            },
            "type": "mesh3d"
           }
          ],
          "parcoords": [
           {
            "line": {
             "colorbar": {
              "outlinewidth": 0,
              "ticks": ""
             }
            },
            "type": "parcoords"
           }
          ],
          "pie": [
           {
            "automargin": true,
            "type": "pie"
           }
          ],
          "scatter": [
           {
            "fillpattern": {
             "fillmode": "overlay",
             "size": 10,
             "solidity": 0.2
            },
            "type": "scatter"
           }
          ],
          "scatter3d": [
           {
            "line": {
             "colorbar": {
              "outlinewidth": 0,
              "ticks": ""
             }
            },
            "marker": {
             "colorbar": {
              "outlinewidth": 0,
              "ticks": ""
             }
            },
            "type": "scatter3d"
           }
          ],
          "scattercarpet": [
           {
            "marker": {
             "colorbar": {
              "outlinewidth": 0,
              "ticks": ""
             }
            },
            "type": "scattercarpet"
           }
          ],
          "scattergeo": [
           {
            "marker": {
             "colorbar": {
              "outlinewidth": 0,
              "ticks": ""
             }
            },
            "type": "scattergeo"
           }
          ],
          "scattergl": [
           {
            "marker": {
             "colorbar": {
              "outlinewidth": 0,
              "ticks": ""
             }
            },
            "type": "scattergl"
           }
          ],
          "scattermap": [
           {
            "marker": {
             "colorbar": {
              "outlinewidth": 0,
              "ticks": ""
             }
            },
            "type": "scattermap"
           }
          ],
          "scattermapbox": [
           {
            "marker": {
             "colorbar": {
              "outlinewidth": 0,
              "ticks": ""
             }
            },
            "type": "scattermapbox"
           }
          ],
          "scatterpolar": [
           {
            "marker": {
             "colorbar": {
              "outlinewidth": 0,
              "ticks": ""
             }
            },
            "type": "scatterpolar"
           }
          ],
          "scatterpolargl": [
           {
            "marker": {
             "colorbar": {
              "outlinewidth": 0,
              "ticks": ""
             }
            },
            "type": "scatterpolargl"
           }
          ],
          "scatterternary": [
           {
            "marker": {
             "colorbar": {
              "outlinewidth": 0,
              "ticks": ""
             }
            },
            "type": "scatterternary"
           }
          ],
          "surface": [
           {
            "colorbar": {
             "outlinewidth": 0,
             "ticks": ""
            },
            "colorscale": [
             [
              0,
              "#0d0887"
             ],
             [
              0.1111111111111111,
              "#46039f"
             ],
             [
              0.2222222222222222,
              "#7201a8"
             ],
             [
              0.3333333333333333,
              "#9c179e"
             ],
             [
              0.4444444444444444,
              "#bd3786"
             ],
             [
              0.5555555555555556,
              "#d8576b"
             ],
             [
              0.6666666666666666,
              "#ed7953"
             ],
             [
              0.7777777777777778,
              "#fb9f3a"
             ],
             [
              0.8888888888888888,
              "#fdca26"
             ],
             [
              1,
              "#f0f921"
             ]
            ],
            "type": "surface"
           }
          ],
          "table": [
           {
            "cells": {
             "fill": {
              "color": "#EBF0F8"
             },
             "line": {
              "color": "white"
             }
            },
            "header": {
             "fill": {
              "color": "#C8D4E3"
             },
             "line": {
              "color": "white"
             }
            },
            "type": "table"
           }
          ]
         },
         "layout": {
          "annotationdefaults": {
           "arrowcolor": "#2a3f5f",
           "arrowhead": 0,
           "arrowwidth": 1
          },
          "autotypenumbers": "strict",
          "coloraxis": {
           "colorbar": {
            "outlinewidth": 0,
            "ticks": ""
           }
          },
          "colorscale": {
           "diverging": [
            [
             0,
             "#8e0152"
            ],
            [
             0.1,
             "#c51b7d"
            ],
            [
             0.2,
             "#de77ae"
            ],
            [
             0.3,
             "#f1b6da"
            ],
            [
             0.4,
             "#fde0ef"
            ],
            [
             0.5,
             "#f7f7f7"
            ],
            [
             0.6,
             "#e6f5d0"
            ],
            [
             0.7,
             "#b8e186"
            ],
            [
             0.8,
             "#7fbc41"
            ],
            [
             0.9,
             "#4d9221"
            ],
            [
             1,
             "#276419"
            ]
           ],
           "sequential": [
            [
             0,
             "#0d0887"
            ],
            [
             0.1111111111111111,
             "#46039f"
            ],
            [
             0.2222222222222222,
             "#7201a8"
            ],
            [
             0.3333333333333333,
             "#9c179e"
            ],
            [
             0.4444444444444444,
             "#bd3786"
            ],
            [
             0.5555555555555556,
             "#d8576b"
            ],
            [
             0.6666666666666666,
             "#ed7953"
            ],
            [
             0.7777777777777778,
             "#fb9f3a"
            ],
            [
             0.8888888888888888,
             "#fdca26"
            ],
            [
             1,
             "#f0f921"
            ]
           ],
           "sequentialminus": [
            [
             0,
             "#0d0887"
            ],
            [
             0.1111111111111111,
             "#46039f"
            ],
            [
             0.2222222222222222,
             "#7201a8"
            ],
            [
             0.3333333333333333,
             "#9c179e"
            ],
            [
             0.4444444444444444,
             "#bd3786"
            ],
            [
             0.5555555555555556,
             "#d8576b"
            ],
            [
             0.6666666666666666,
             "#ed7953"
            ],
            [
             0.7777777777777778,
             "#fb9f3a"
            ],
            [
             0.8888888888888888,
             "#fdca26"
            ],
            [
             1,
             "#f0f921"
            ]
           ]
          },
          "colorway": [
           "#636efa",
           "#EF553B",
           "#00cc96",
           "#ab63fa",
           "#FFA15A",
           "#19d3f3",
           "#FF6692",
           "#B6E880",
           "#FF97FF",
           "#FECB52"
          ],
          "font": {
           "color": "#2a3f5f"
          },
          "geo": {
           "bgcolor": "white",
           "lakecolor": "white",
           "landcolor": "#E5ECF6",
           "showlakes": true,
           "showland": true,
           "subunitcolor": "white"
          },
          "hoverlabel": {
           "align": "left"
          },
          "hovermode": "closest",
          "mapbox": {
           "style": "light"
          },
          "paper_bgcolor": "white",
          "plot_bgcolor": "#E5ECF6",
          "polar": {
           "angularaxis": {
            "gridcolor": "white",
            "linecolor": "white",
            "ticks": ""
           },
           "bgcolor": "#E5ECF6",
           "radialaxis": {
            "gridcolor": "white",
            "linecolor": "white",
            "ticks": ""
           }
          },
          "scene": {
           "xaxis": {
            "backgroundcolor": "#E5ECF6",
            "gridcolor": "white",
            "gridwidth": 2,
            "linecolor": "white",
            "showbackground": true,
            "ticks": "",
            "zerolinecolor": "white"
           },
           "yaxis": {
            "backgroundcolor": "#E5ECF6",
            "gridcolor": "white",
            "gridwidth": 2,
            "linecolor": "white",
            "showbackground": true,
            "ticks": "",
            "zerolinecolor": "white"
           },
           "zaxis": {
            "backgroundcolor": "#E5ECF6",
            "gridcolor": "white",
            "gridwidth": 2,
            "linecolor": "white",
            "showbackground": true,
            "ticks": "",
            "zerolinecolor": "white"
           }
          },
          "shapedefaults": {
           "line": {
            "color": "#2a3f5f"
           }
          },
          "ternary": {
           "aaxis": {
            "gridcolor": "white",
            "linecolor": "white",
            "ticks": ""
           },
           "baxis": {
            "gridcolor": "white",
            "linecolor": "white",
            "ticks": ""
           },
           "bgcolor": "#E5ECF6",
           "caxis": {
            "gridcolor": "white",
            "linecolor": "white",
            "ticks": ""
           }
          },
          "title": {
           "x": 0.05
          },
          "xaxis": {
           "automargin": true,
           "gridcolor": "white",
           "linecolor": "white",
           "ticks": "",
           "title": {
            "standoff": 15
           },
           "zerolinecolor": "white",
           "zerolinewidth": 2
          },
          "yaxis": {
           "automargin": true,
           "gridcolor": "white",
           "linecolor": "white",
           "ticks": "",
           "title": {
            "standoff": 15
           },
           "zerolinecolor": "white",
           "zerolinewidth": 2
          }
         }
        },
        "title": {
         "text": "Распределение оттока клиентов по годам"
        },
        "width": 2000,
        "xaxis": {
         "anchor": "y",
         "domain": [
          0,
          1
         ],
         "title": {
          "text": "Возраст, лет"
         }
        },
        "yaxis": {
         "anchor": "x",
         "domain": [
          0,
          1
         ],
         "title": {
          "text": "Доля, %"
         }
        }
       }
      }
     },
     "metadata": {},
     "output_type": "display_data"
    }
   ],
   "source": [
    "# Выбираем нужные признаки\n",
    "tmp_df = churn_df[['Age','Exited','CustomerId']].copy()\n",
    "\n",
    "# Группируем и подписываем данные\n",
    "df = tmp_df.groupby( 'Age', as_index = False )['Exited'].mean().round(2) \n",
    "df[\"Отток\"] = (df[\"Exited\"] * 100).astype( int )\n",
    "\n",
    "# Готовим графику: имеем распределение по группам - годы, используем столбчатую диграмму\n",
    "fig = px.bar(\n",
    "    data_frame = df,\n",
    "    \n",
    "    x = \"Age\",   # По оси x отпечатаются возрасты клинета \n",
    "    y = \"Отток\", #\"Exited\", #\"Отток\", # По оси y отпечатается количество лояльных и ушедших клиентов\n",
    "    #text_auto = True, # Отображать надписи на колонках гистограммы\n",
    "    title = 'Распределение оттока клиентов по годам', #заголовок\n",
    "    width = 2000,    # Ширина графика\n",
    "    height = 500,    # Высота графика\n",
    "    text = \"Отток\",  # Печатаем величину оттока\n",
    "    color = \"Отток\", # Раскрасим по величине оттока\n",
    ")\n",
    "fig.update_layout(\n",
    "    bargap = 0.1, # Ширина вертикальной разделительной вертикальной полосы\n",
    "    xaxis_title = \"Возраст, лет\", # Подпись оси x\n",
    "    yaxis_title = \"Доля, %\", # Подпись оси y\n",
    ")\n",
    "fig.show() # Отображаем"
   ]
  },
  {
   "cell_type": "markdown",
   "id": "99ebf957",
   "metadata": {},
   "source": [
    "Из графика видим, что\n",
    "1) До 35 лет доля отток клиентов минимальный (по отношению к притоку), затем он плавно растет\n",
    "2) К 50 годам сравнивается с притоком и начинает его превосходить. Следует обратить внимание на эту группу\n",
    "3) с 60 годов отток спадает быстрее, чем приток\n",
    "4) В 84 года аномалия на графике: единственный год, в котором наблюдался отток с 74 года"
   ]
  },
  {
   "cell_type": "markdown",
   "id": "b2b2d4b6",
   "metadata": {},
   "source": [
    "9.5. Постройте график, который показывает взаимосвязь кредитного рейтинга клиента и его предполагаемой зарплаты. Добавьте расцветку по признаку оттока клиентов. Какова взаимосвязь между признаками? Если не видите явной взаимосвязи, укажите это."
   ]
  },
  {
   "cell_type": "code",
   "execution_count": null,
   "id": "330f0afa",
   "metadata": {},
   "outputs": [
    {
     "data": {
      "application/vnd.plotly.v1+json": {
       "config": {
        "plotlyServerURL": "https://plot.ly"
       },
       "data": [
        {
         "hovertemplate": "EstimatedSalary=%{x}<br>CreditScore=%{y}<br>Exited=%{marker.color}<extra></extra>",
         "legendgroup": "",
         "marker": {
          "color": {
           "bdata": "AQABAAABAAEAAAAAAAAAAAEAAAAAAAEAAAAAAAAAAQAAAAABAAAAAAABAAEAAAEBAAAAAAABAQAAAAEAAAAAAAAAAAAAAAEAAAAAAAAAAAAAAQAAAAABAAEAAQAAAAAAAAAAAAAAAAABAQAAAAEAAAAAAQAAAAEAAAAAAAABAQEAAAAAAAAAAAAAAQEAAAABAQAAAAAAAAEAAAABAAAAAAAAAAABAAEAAQAAAAEAAAAAAAABAAAAAAEAAAAAAAEAAAAAAAAAAAAAAAEBAAABAAEAAAAAAAABAAABAQAAAAEBAAABAQAAAAAAAAEAAQEAAAAAAQABAAAAAQAAAAAAAAAAAAAAAAAAAAAAAAEAAAEAAAAAAQAAAQAAAQAAAAAAAAAAAAABAAAAAQAAAAAAAAAAAQABAAAAAAAAAAEAAAAAAAEAAAAAAQAAAAAAAQABAAABAQEAAAAAAAAAAAAAAAAAAAAAAQAAAAEAAAAAAAAAAAAAAAAAAAEAAAEAAAAAAAAAAAAAAAABAQAAAAAAAQAAAAAAAAEAAAAAAAABAAABAAAAAQABAAAAAAAAAQEAAAEAAAAAAAAAAAAAAQAAAAEAAAAAAAAAAAABAAAAAAEAAAABAAAAAQAAAAEAAAAAAAAAAAEAAAEAAAAAAAEBAAAAAAEAAAEAAAAAAAAAAAAAAAEAAQABAAEAAAAAAAAAAQAAAAAAAAEAAAEBAAAAAQEAAAAAAAABAAAAAQABAAAAAAABAAABAAAAAAEAAQAAAAAAAAABAAABAQEAAAEBAAAAAAAAAAEAAQAAAQAAAAAAAAAAAAAAAQABAAAAAAAAAAAAAAAAAQEAAAEAAAAAAAEAAAEBAQAAAAAAAAABAAAAAAAAAAAAAAAAAAAAAAAAAAAAAAABAAAAAAAAAAEAAQEAAAAAAAAAAQEAAAAAAAAAAQAAAAAAAAAAAQAAAAAAAQEAAAAAAAAAAQAAAAEBAAAAAAAAAAABAAAAAAAAAAAAAAAAAAAAAAABAQABAAABAAEBAAAAAQABAQAAAAAAAAEAAAAAAAAAAAAAAAAAAAAAAAAAAAEAAAAAAAAAAQAAAAEAAAAAAAEAAAAAAAAAAAAAAAAAAAEAAQAAAQAAAAAAAAABAAAAAAEAAAEBAQAAAAAAAQEAAAEAAAAAAAAAAAEBAAEAAAAAAAAAAAABAQAAAAEAAQAAAAEBAAEAAAAAAAAAAAEAAAAAAQEAAAAAAAAAAAAAAQAAAQAAAAAAAQAAAAEBAAEAAAAAAQAAAAAAAAAAAQEAAAAAAAAAAAAAAAEAAAAAAAABAAAAAQABAAAAAAAAAAAAAAAAAAEAAQAAAQABAAAAAAEAAAEAAQAAAAAAAAAAAAAAAAAAAAAAAAAAAAEAAAABAQABAAAAAAAAAAEAAAAAAQAAAQEAAQEBAAAAAAAAAAAAAAABAAABAQAAAAAAAQAAAQEAAAAAAAAAAAAAAQAAAQEAAQEAAAEAAAAAAQEBAAAAAAEAAAAAAAAAAAAAAQAAAAEAAAAAAAAAAAEAAAAAAQABAQAAAAAAAAAAAAEAAAEAAAABAAAAAQAAAAABAAEAAAEBAAAAAAAAAAEAAAAAAAAAAAEAAQABAQAAAQEAAAAAAAAAAAAAAAABAAAAAAAAAAAAAAAAAQAAAAAAAQAAAQAAAAAAAQAAAAABAAAAAAAAAAEAAAEAAAAAAQAAAAAAAAABAAAAAAAAAAAAAAAAAAEAAQEAAAAAAAEAAQAAAQEAAAAAAQAAAAABAQAAAAAAAQAAAAABAQAAAQAAAAAAAAEBAAEAAAAAAAAAAAAAAQABAAEAAAABAAABAAAAAAEAAAEAAAABAQABAAAAAAEBAQAAAAAAAQEAAAAAAQAAAAAAAAAAAAAAAAABAAABAAAAAAAAAAAAAAEAAQAAAQAAAAEBAAEAAQABAAAAAAEAAAEAAAAAAAEBAAAAAAAAAAABAAAAAAAAAQABAQAAAQEAAAAAAAAAAQAAAQABAAAAAAAAAAAAAAAAAAEBAAAAAAAAAAAAAAAAAAEAAAAAAAAAAAAAAAAAAAEAAAAAAAEAAQAAAAABAAAAAAEAAQEAAQAAAAAAAAAAAAABAAAAAAAAAAAAAAAAAAABAAAAAQAAAAAAAAAAAQEAAAAAAAAAAAEAAAAAAQAAAQEBAAAAAAAAAAAAAAAAAAABAAAAAAEAAQAAAAEAAAAAAAEAAAEAAAABAAAAAQABAAAAAAAAAAABAAAAAQAAAAAAAAAAAAAAAQAAAAAAAAAAAAAAAAAAAAEAAAAAAAAAAAAAAAAAAAAAAAAAAAAAAAABAAAAAQABAQAAAAAAAQABAAABAQAAAAAAAAAAAQAAAAAAAAAAAAAAAQAAAAEBAAAAAAAAAAAAAQEAAAAAAAAAAAEAAAAAAAAAAAAAAAAAAAABAAEAAQABAAAAAQAAAAEBAAAAAAAAAQABAAAAAAAAAQEBAAAAAAABAAAAAAAAAAAAAAAAAAEBAAAAAAAAAAAAAAAAAAAAAAAAAAABAAAAAAAAAAAAAAAAAAEAAAABAQABAAEBAQAAAAABAAABAAAAAAAAAAABAAAAAAEAAAAAAQEAAAABAQEAAAAAAQABAQAAAAAAAAAAAAAAAQAAAAAAAAABAAEBAAAAAAEBAAEAAAAAAAAAAAEAAQABAAAAAAAAAAAAAAAAAAABAAABAAAAAAEAAAAAAQEAAAAAAAAAAAAAAQEAAAEAAAEAAAAAAAABAAAAAAEAAQAAAAEAAQABAAEAAAABAAABAAAAAAEAAAAAAAEAAAAAAAAAAQAAAAEAAAAAAQAAAQABAAAAAQAAAAAAAAABAAABAAAAAQABAAAAAAAAAAEAAQEBAQAAAAAAAAAAAAAAAAABAAAAAAAAAAAAAAAAAQAAAAABAAAAAQEAAAABAQAAAAAAAAAAAAAAAQAAAAABAAAAAAAAAAEAAAAAAAAAAAAAAAABAQEBAAEAAQABAAEAAAAAAAAAAAAAAAAAAAAAAQAAAAEAAQABAAEAAQABAAAAAAAAAAABAAAAAQAAAAEAAQEAAAAAAAAAAAAAAAABAAABAAAAAQAAAAAAAAAAAAAAAAAAAAAAAAEBAAAAAQAAAAEAAQEAAQEBAQAAAQAAAAAAAAEAAAAAAQABAAABAAAAAAAAAAABAAAAAAAAAQAAAAABAAEAAAAAAAAAAAEAAAEAAAAAAAABAAAAAQAAAAAAAAAAAQAAAQEBAAEAAAABAQAAAAAAAAAAAAEAAAAAAQEAAAABAQABAAAAAAAAAQAAAAEBAAABAAAAAAAAAAAAAAAAAAABAAABAAAAAQAAAAAAAAAAAAEAAAAAAAEAAAEAAQAAAAEAAAAAAAEAAAAAAQEAAAEBAQEAAAABAAEBAAAAAQAAAAAAAAEAAAABAAAAAQAAAAAAAQEAAAABAQAAAAAAAAAAAAAAAAABAAAAAAABAAAAAAAAAAAAAAAAAAEAAAEAAQAAAAAAAAAAAQEAAAAAAQAAAAABAAAAAAAAAAEAAAAAAAABAAAAAQEAAQEAAAEAAAEAAQAAAAAAAQAAAAAAAAAAAAAAAAEAAAAAAAEAAAEAAAAAAQAAAAAAAAAAAAAAAAAAAAEBAQAAAAAAAAAAAAABAAAAAAABAAAAAAEAAAAAAQABAAEAAAAAAQAAAAAAAAAAAAAAAQAAAAAAAQABAAAAAQAAAAEBAQABAAAAAAEAAAAAAAAAAQAAAQEAAAAAAAABAAAAAAAAAAAAAAAAAAAAAAAAAAAAAAAAAAAAAAEAAAEAAQAAAAEAAQAAAQAAAAAAAAAAAAAAAQAAAAEAAAAAAAABAQAAAAAAAAAAAAAAAAAAAAAAAQABAAAAAAAAAAAAAAABAAABAQEBAAAAAAAAAAAAAQAAAAEAAQAAAAABAAAAAAABAAAAAAABAAAAAAABAAAAAAEAAAABAQAAAQAAAQAAAAEAAAAAAAAAAAABAQEAAAAAAAAAAAAAAAAAAAAAAQEAAAEAAAAAAAAAAAAAAAAAAAAAAAAAAAABAAABAAAAAAAAAAAAAAEAAAABAAAAAAAAAAAAAAAAAAAAAAAAAQAAAAABAAAAAAAAAAEBAAEAAAAAAQAAAAAAAQAAAAAAAAAAAQABAAEBAAEAAQAAAAABAAAAAAEAAAEAAAEAAAAAAAABAQAAAQAAAAEBAAEAAAABAAAAAQAAAAAAAAEAAAEBAQABAQAAAAEAAAAAAQAAAAEBAAAAAAAAAAEAAAAAAAEAAAAAAQEBAAAAAAABAAAAAAAAAAAAAAABAAAAAAEAAAAAAQAAAAEAAQAAAAABAQAAAAEBAAABAAAAAAABAAEBAAAAAAEAAAABAQEAAAAAAAEAAAAAAQAAAAAAAAAAAQAAAAAAAQAAAQAAAAAAAAAAAAABAAEBAAAAAAAAAAABAAEAAAAAAAAAAAEAAQAAAAAAAAAAAAEAAAAAAAAAAAEAAAAAAAABAAEAAAEBAQAAAQEBAAAAAAAAAAEAAAABAAAAAAAAAAAAAQAAAAAAAAAAAAEAAAAAAAEAAAAAAAAAAAAAAAAAAQAAAAAAAAAAAAABAAABAAAAAQAAAAABAAAAAQEAAAAAAAEAAAAAAAAAAAABAAABAAAAAQAAAAABAAAAAAEAAAAAAAABAAAAAAEAAAAAAAAAAAAAAAAAAAAAAQEAAAAAAAAAAAABAQEBAAAAAAEAAAAAAQAAAAEAAQAAAAEAAQEAAAEBAAEAAQAAAAABAQAAAAAAAAABAAAAAAEAAAAAAAAAAAEAAAAAAAAAAQEAAQAAAAAAAAEAAAAAAQEBAQAAAAAAAAABAAAAAAAAAAAAAAEAAQAAAAAAAQEAAQAAAAAAAAABAAEBAAAAAQAAAAABAAAAAAAAAAAAAAAAAQABAAAAAAAAAAAAAQEAAAAAAAAAAAEAAAAAAAEAAQAAAAEAAAABAAAAAAEAAQEAAAABAQAAAAAAAAAAAQABAQABAAAAAAAAAAAAAAABAAAAAAEAAAAAAAAAAAAAAQAAAAAAAQABAQAAAQEAAAEAAAEAAAABAAAAAAABAAAAAAAAAAAAAAAAAAEAAQAAAAAAAAABAAAAAAAAAAABAAEBAQEAAQAAAAAAAAAAAAAAAAAAAAAAAQAAAAAAAAAAAAAAAAAAAAEAAQAAAAAAAQAAAAAAAAAAAAAAAAEAAAABAAAAAAAAAAEAAAEAAAABAAAAAQAAAAAAAAAAAQAAAAABAAABAAEBAAAAAAAAAAAAAQAAAAAAAQABAAAAAAEAAAAAAQAAAAAAAQAAAAEAAAEBAAAAAAEAAAEAAAAAAAABAAABAAAAAQAAAAAAAAABAQAAAQAAAAEAAAAAAQAAAAAAAAEAAAEBAQAAAAAAAAAAAAAAAAAAAAEAAAAAAAAAAQABAAAAAAAAAAAAAAABAAAAAQABAAAAAAAAAAAAAAEAAAAAAAAAAAAAAQAAAQAAAAAAAAEAAAAAAAAAAAABAAABAAEAAAAAAAABAAAAAAABAAAAAAAAAAABAAEAAAAAAAAAAAAAAAABAAAAAAAAAAABAAAAAAAAAQABAAAAAAAAAAAAAAEBAQEAAAAAAAAAAQAAAQABAAAAAQABAQABAAEBAQAAAAAAAAAAAAAAAAAAAAAAAQEAAAAAAAAAAAAAAAAAAAAAAQAAAAEAAQABAAAAAAABAAAAAAABAAAAAAAAAQAAAAABAAABAAEAAAAAAQEAAQAAAAEAAQEAAAABAAAAAAAAAQAAAAAAAAAAAQAAAQEAAAAAAAEBAAEBAQABAAAAAAAAAAAAAAABAAAAAAABAAAAAQABAAAAAQAAAQAAAAAAAAAAAAEAAAAAAAAAAAEBAAEBAAAAAAABAAEAAAAAAAAAAAAAAAAAAAAAAAEAAAAAAAEAAQAAAAAAAAAAAAEAAAAAAQABAAAAAAAAAAEBAAAAAAABAQEAAAAAAAAAAAAAAAEAAAAAAAAAAAAAAAAAAQAAAAABAAAAAAAAAAABAQAAAAEAAAABAAAAAAAAAAABAAAAAQABAAAAAAAAAAEAAAABAQEAAQAAAAEAAAABAAAAAQAAAAAAAAAAAAAAAAAAAAEAAAAAAAAAAAAAAAABAAABAAEAAAAAAAAAAAEBAQAAAAEAAAAAAAABAAAAAAEAAAAAAQAAAAABAAAAAAABAAABAAAAAAEAAAAAAQEAAAAAAAAAAAAAAAABAAEAAQAAAAAAAQAAAAAAAAAAAQAAAQAAAAAAAAABAAEAAAAAAAAAAAAAAAABAAAAAAAAAQAAAAAAAAAAAAEBAAEAAQAAAAEAAAEAAAEBAAABAAABAAABAAEAAAAAAAAAAAAAAAEAAAAAAAAAAAAAAQABAAABAAAAAAEAAAAAAAAAAAABAAAAAAAAAAAAAAAAAAAAAAAAAAAAAAEAAAAAAQAAAAAAAAEAAAAAAQABAQAAAAAAAAABAAAAAAAAAAAAAAEAAAEAAAAAAQEAAAAAAAAAAAEAAAAAAQAAAAABAAABAAAAAAAAAQABAAAAAAAAAQAAAQEBAAAAAAEAAAEBAAAAAAEAAAAAAAAAAAEAAAEAAQAAAAABAAAAAAAAAAAAAAAAAAAAAAABAAABAAAAAAAAAQAAAAAAAQEAAAAAAAABAAAAAQABAAABAAAAAAEAAQAAAQAAAQEAAQAAAAABAQEAAAABAQAAAQAAAQABAAAAAAAAAAAAAAAAAAAAAAAAAAAAAAABAAAAAAAAAAAAAQAAAAAAAAAAAAAAAAAAAQAAAQABAQAAAAEBAAAAAAABAAAAAQABAAAAAAAAAAABAQAAAAAAAAAAAAEAAQAAAAAAAAEAAAEAAQAAAAEAAAAAAAAAAAAAAAAAAAAAAAAAAAAAAAEAAAAAAAAAAAABAAAAAAEAAAEAAQAAAAAAAAAAAAAAAAAAAQAAAAAAAAAAAAEAAQEAAAAAAQAAAAAAAAAAAAABAQEBAQAAAAAAAAEBAAAAAAABAAAAAAABAQAAAAAAAAABAAAAAAEAAQEAAAAAAAEAAQAAAAABAAAAAAEAAAAAAAEBAAAAAAAAAAABAQAAAQAAAAEAAAAAAAAAAAAAAQEAAAAAAQAAAAABAQEBAAAAAAAAAAEBAAEAAAEAAAEAAAEAAAABAAAAAAEBAQEAAAAAAAAAAAAAAAAAAQEAAQABAAEAAAAAAAEAAAAAAAAAAAAAAAAAAQAAAAAAAAEAAAAAAQAAAAAAAAAAAAAAAAAAAAEAAQAAAAAAAQAAAAEAAAEAAAAAAAAAAAAAAAAAAAABAAAAAAEAAAAAAQAAAQAAAAAAAAEAAAEAAAAAAAAAAAAAAAABAAABAAAAAQAAAAABAAAAAAAAAAAAAAAAAAAAAQAAAAABAAEAAAAAAQAAAAAAAAAAAAABAQABAAAAAAAAAAABAQAAAAABAAAAAAAAAAAAAAAAAQAAAAEAAAEAAAEAAAAAAAABAAAAAAAAAAAAAAEAAAAAAAAAAAAAAAAAAAEAAAAAAAAAAQAAAQABAQAAAAAAAAAAAQAAAQEAAAAAAQABAAEAAAAAAAAAAAAAAAEAAAEAAQEAAAAAAAAAAAAAAAAAAQEAAAEAAAAAAAAAAQAAAAAAAAAAAQAAAAAAAQAAAAEAAQAAAAAAAAAAAQAAAAAAAAABAAAAAAAAAAEAAAAAAAAAAAAAAAAAAAAAAAEAAAEAAAAAAAAAAAEBAAEAAAAAAAAAAQABAAABAAAAAQAAAAAAAAAAAAAAAAEAAQEBAAAAAAABAAEBAAAAAQAAAQAAAAAAAQAAAAAAAQABAAEBAAAAAAAAAAEAAAAAAQABAAAAAAAAAAABAAAAAAEBAAAAAAAAAAAAAAAAAAABAQAAAAEAAAAAAAABAAAAAAAAAQEAAAEBAAAAAQABAAABAAAAAQABAAAAAAAAAQEAAQAAAQAAAAABAAEAAAAAAAAAAAABAAAAAQAAAAAAAAAAAAEAAAEAAAAAAAAAAAAAAQEAAAAAAAAAAAABAAABAAAAAAAAAAEBAAAAAAEBAAAAAAAAAAAAAAAAAAAAAAAAAAAAAAAAAQAAAAEAAQEAAAABAAAAAAAAAAAAAAAAAAABAQABAAEAAQAAAAAAAAAAAAEAAQABAAABAAAAAAEAAAAAAQAAAAAAAAABAAAAAAAAAAABAAAAAAABAQAAAAAAAAAAAAAAAQAAAAAAAAAAAQAAAAAAAQAAAAAAAAEAAAAAAQAAAAAAAAEAAQABAAAAAAAAAAABAAAAAAAAAAEAAAABAAAAAAAAAAAAAAABAAAAAAEAAAAAAQEAAAAAAAAAAAAAAAAAAQAAAAAAAAEAAQEAAAAAAAEAAAAAAQAAAAEBAQEAAQAAAQAAAAABAAAAAAEAAAAAAAEAAAEAAAAAAQAAAAABAAAAAAABAQAAAQAAAAAAAQEAAAAAAAAAAAAAAAAAAAAAAAEAAAEAAAAAAAAAAQAAAAABAAAAAAABAAABAAAAAAAAAQEBAQABAAAAAAABAAEAAAAAAAAAAAAAAQAAAAEBAAABAAAAAAEAAAAAAAAAAAAAAAEAAAABAAAAAAAAAAAAAAEBAAAAAAAAAAABAAAAAAAAAAAAAAAAAAABAAEBAAAAAAEAAAEAAAABAAAAAAAAAAAAAAAAAAAAAQEBAAAAAAAAAAEBAAEAAQEAAAAAAAABAQAAAAABAAAAAAAAAAAAAAAAAAEBAAAAAAAAAAAAAAEAAAEAAAEAAAAAAQEAAQAAAQABAAEAAAABAAAAAAABAAAAAAAAAAAAAAAAAQABAAABAQEAAAAAAAAAAAAAAAAAAAAAAAAAAQAAAAAAAQAAAAAAAQAAAAAAAAAAAAAAAAAAAAAAAAAAAAAAAAEAAAAAAAAAAAAAAQAAAAAAAAAAAAAAAAAAAQAAAAAAAAAAAAAAAAAAAAAAAQEBAAABAAEAAAABAAAAAQAAAAAAAAEAAQEAAQAAAAABAQEAAAAAAAABAAAAAAAAAQEAAAAAAQAAAAAAAAAAAAEAAAAAAAAAAQEAAAABAAABAAAAAAAAAAAAAAEAAAAAAAEAAQABAAAAAAAAAAABAAAAAQEAAAABAAEAAAABAAAAAQAAAAAAAAAAAAAAAAAAAAAAAAAAAQAAAQABAAABAAAAAQAAAAABAAEAAAABAAABAAAAAAAAAAAAAAABAQEAAAEAAQABAAAAAAAAAAAAAAABAQEAAAAAAAAAAAAAAAAAAAEBAAAAAAAAAAAAAAAAAAAAAAAAAQAAAQAAAAAAAAAAAAAAAAEAAAAAAAAAAQAAAAAAAAAAAQAAAQAAAAAAAAEBAAAAAAABAQAAAAEAAAAAAQAAAAAAAAAAAQEAAAABAAABAAAAAQABAAABAAABAAAAAAAAAAAAAAABAAAAAQAAAAABAAAAAAAAAAAAAQAAAAAAAAAAAAAAAQAAAAEAAAABAAABAAEAAQEAAQAAAAABAAAAAAAAAAAAAAAAAQEAAAAAAAAAAAAAAAAAAAEAAAABAAEAAAABAAEAAAAAAAAAAQAAAQAAAQEAAAAAAAEAAAAAAAAAAAAAAAAAAAABAAAAAAAAAAAAAAAAAAAAAAAAAAEAAAAAAAAAAQAAAQEAAAEAAAEAAAABAAAAAQEAAAAAAAAAAAABAQAAAQAAAAABAQAAAAABAAEAAQEAAAAAAAAAAQAAAQAAAAAAAAAAAAAAAQEAAAAAAAAAAAEAAAAAAAAAAAAAAAAAAAAAAQABAAAAAQABAQAAAAABAAEAAAEBAAAAAAAAAAABAQEAAQAAAAAAAAAAAAAAAQAAAAABAAABAAAAAQAAAAAAAAAAAQAAAAAAAAEAAQAAAAAAAAAAAAAAAQEBAQABAAABAAAAAAAAAAAAAAAAAAAAAAAAAAABAQEAAAAAAAABAAEBAAAAAAAAAAABAAABAAAAAAEAAQABAAAAAAAAAQAAAAAAAAAAAAEAAAEAAAAAAAEAAAABAAAAAAEAAAAAAAABAAABAAEAAQEAAAAAAAABAAABAAAAAAEAAAAAAAAAAAAAAQAAAQAAAAAAAAAAAAAAAAEAAAAAAQABAAEAAAAAAAEBAQEAAAEBAAAAAAAAAAABAAAAAAEAAAAAAQAAAAAAAAABAQAAAAEBAAAAAAAAAAAAAAAAAAAAAAAAAAAAAAAAAQAAAAEAAAEAAAAAAAAAAAAAAAAAAAAAAQAAAAABAAABAQAAAAAAAAAAAQAAAAAAAAEAAAEAAAAAAAEBAAAAAAAAAQEAAQAAAQAAAAEAAAAAAAEAAAABAAABAAAAAAABAAAAAAEAAQABAAEAAQAAAQAAAAAAAAABAQAAAAABAAAAAAEBAAAAAQAAAQAAAAABAQAAAAAAAAAAAAEAAAAAAAAAAAAAAAAAAAAAAQEAAAAAAAABAQAAAAEAAAAAAAAAAAEAAAEBAAAAAAABAAEAAAEAAAABAAEAAAAAAAAAAQABAAAAAAAAAAAAAAAAAAAAAQAAAAAAAAEBAQAAAAEAAQAAAAAAAAAAAAEAAAAAAAEAAAAAAAAAAAEAAAAAAAEAAAAAAAAAAAAAAQEAAAAAAAAAAAABAAAAAAEBAQAAAAABAAAAAAAAAAAAAAAAAQAAAQAAAAEAAAAAAQAAAAAAAAAAAAAAAAAAAAAAAAABAAAAAQAAAAABAAAAAQAAAQAAAAAAAAABAAAAAQAAAAABAAABAAAAAAAAAAAAAAEBAAEAAAAAAQABAAABAAEAAAABAAEAAAEAAAAAAAEBAAABAQAAAAAAAAAAAAAAAQAAAAAAAAEAAQEAAAEAAQABAAAAAAAAAAAAAAEBAAEAAAEAAQABAQAAAAAAAAAAAAEAAAAAAAAAAAABAAAAAAABAQAAAAAAAAAAAQAAAAAAAAEBAAAAAAAAAAAAAAAAAQABAAAAAAAAAAAAAAABAAEAAAAAAAAAAAAAAAEAAAEAAAAAAQEAAAABAAAAAAABAAABAAAAAAABAAEAAAAAAAAAAAAAAQAAAAAAAAAAAAAAAQAAAAEAAAAAAAAAAAAAAAAAAAAAAAAAAAAAAAAAAAAAAQEAAQAAAAEBAAAAAAEAAAAAAAAAAAAAAAAAAAAAAAAAAAAAAQABAAAAAAAAAQEAAAEBAQAAAQEAAAAAAQEAAAABAQAAAAEBAAEAAAEAAQABAQAAAAAAAAAAAQABAAEBAAABAQEAAAEBAAAAAAAAAAAAAQAAAAAAAAAAAAEBAQAAAQAAAAABAAEBAAABAAAAAAAAAAAAAQAAAAEBAAAAAAAAAQAAAQABAAAAAAABAAAAAQABAAAAAAAAAQABAAEAAQAAAQABAAAAAAAAAAABAAAAAAABAAAAAAAAAAEAAAAAAQAAAAAAAAABAQAAAQAAAAAAAAABAAAAAAAAAQAAAAEAAAAAAAAAAQEAAQEAAAAAAAAAAAAAAQAAAAAAAAABAAAAAAEAAAAAAQABAAABAAABAAAAAAAAAAAAAAAAAAAAAAAAAAAAAQEAAAAAAAAAAAEBAAAAAAEAAAAAAAABAAAAAAAAAAABAAAAAAEAAAAAAAAAAAEAAQEAAAAAAQEAAAEAAAAAAQAAAAABAAAAAAAAAAAAAAAAAQEAAAAAAAAAAAAAAQAAAAABAAABAAAAAAAAAQEAAAAAAAAAAAABAAAAAQAAAAAAAAEBAAAAAAEBAQAAAAABAAAAAAAAAAAAAAABAAABAQAAAAAAAAAAAAEBAAAAAAABAAAAAAABAQAAAAAAAAEAAAAAAAAAAAABAAAAAAEAAAAAAAABAQAAAAAAAAAAAAAAAQAAAQAAAAAAAAAAAQEAAAAAAAABAAAAAAABAAEAAQAAAAEAAAEAAAEAAAAAAAABAAAAAAAAAQAAAAAAAQAAAAABAAABAAAAAAEAAAAAAAAAAQEAAAEBAAAAAAAAAAAAAAABAAAAAQEBAQAAAAABAAABAAAAAAAAAAAAAAAAAAAAAAAAAAAAAAAAAAAAAQAAAAAAAAAAAAAAAAAAAAABAAEAAAAAAAAAAAAAAAAAAQAAAAAAAQAAAAEAAAEBAAAAAAABAQAAAAAAAAEAAAEBAAAAAQABAAAAAAAAAQAAAAEAAQAAAQAAAAAAAQAAAAEAAAABAAAAAAAAAAAAAAABAAEAAAAAAAAAAAAAAAABAAAAAAABAQEBAQAAAAAAAQAAAQAAAAAAAAAAAAAAAAAAAQAAAQAAAAAAAQAAAAEAAAAAAAABAAAAAAAAAAAAAAAAAAAAAAAAAAAAAQAAAAEAAAABAAABAQAAAQAAAAEBAAABAAEBAAAAAAAAAAAAAAEAAQAAAQAAAAAAAAAAAAAAAAAAAAAAAQAAAAAAAAAAAAEAAAAAAAAAAAAAAQAAAAAAAAAAAAEAAAAAAAAAAAAAAAABAAAAAAAAAAAAAAABAAABAAEBAAAAAQABAAABAAAAAAABAAAAAAEAAAAAAAAAAAAAAAAAAAAAAAABAQABAAAAAAAAAAEAAAEAAAAAAQEAAAAAAAAAAQAAAAAAAAAAAQAAAAAAAAABAAAAAQAAAAAAAQAAAQAAAAAAAAAAAAAAAQAAAAAAAAAAAAAAAQABAAABAAEAAQAAAAEAAAAAAAAAAAAAAAAAAAEAAAAAAAABAAAAAQEAAAABAAAAAAAAAQAAAQABAAAAAAAAAAAAAAAAAAAAAAAAAQAAAAAAAAAAAAAAAQABAAAAAAABAAABAAABAQAAAAAAAAAAAAAAAAABAQEAAQABAAAAAAEBAAAAAAEBAAAAAAEAAAAAAAABAAAAAAAAAAAAAAAAAAAAAQABAAAAAAAAAAAAAAEAAQAAAAAAAAAAAQEAAAAAAAAAAAABAQABAAAAAAAAAAEAAAAAAAEAAAAAAAAAAAAAAAAAAAAAAAAAAAAAAAABAAAAAAAAAAAAAAAAAQAAAQAAAAEAAAAAAAAAAAAAAAAAAAAAAAABAAEBAAAAAAABAAEBAAAAAAAAAQAAAQAAAAAAAQAAAQEAAQAAAAAAAQAAAAAAAAAAAAAAAQABAAAAAAAAAAAAAAEAAAEAAAAAAAABAAAAAAAAAAEBAAAAAAAAAAABAAAAAAAAAAAAAQAAAAAAAQAAAAAAAQEAAQAAAAEAAAAAAAAAAAAAAAAAAQAAAAEAAQEAAAABAAAAAAAAAAAAAAAAAAEAAQAAAQABAAAAAAAAAAAAAAEAAAEAAAAAAAABAAAAAAEAAAAAAAABAAABAAAAAQAAAAAAAAAAAAEAAAAAAAAAAAAAAAABAAAAAAAAAAABAAAAAQABAAAAAAAAAAAAAAAAAQAAAAAAAQEAAAAAAAAAAAEAAAAAAAEBAA==",
           "dtype": "i1"
          },
          "coloraxis": "coloraxis",
          "symbol": "circle"
         },
         "mode": "markers",
         "name": "",
         "showlegend": false,
         "type": "scattergl",
         "x": {
          "bdata": "SOF6FE6++EB7FK5H6Xn7QOxRuB650PtASOF6FCro9kCamZmZwU7zQOF6FK7lRwJBZmZmZmanw0BI4XoULiP9QAAAAADIS/JA4XoUrtuC8UC4HoXrUZPzQI/C9ShgpvJAhetRuD6l2UAfhetRTkwHQWZmZmb6GfBAH4XrUeho70BSuB6Fq+mzQK5H4Xo0I8xArkfheuZeA0Fcj8L1gLjqQMP1KFwx3ARB4XoUrtvpAEGuR+F6GAj9QAAAAADgk8BAexSuRwHnBkE9CtejxGX+QJqZmZnPwQRBMzMzMyvE4kAUrkfhtnX4QIXrUbhmHepApHA9CqslAUF7FK5H3yEDQVyPwvWs/vNAmpmZmVHN4ED2KFyPiFYBQcP1KFy/K9tAH4XrUSzZ+0AzMzMzVwn4QM3MzMyc7eNAH4XrUdC8BUFSuB6FoyDxQDMzMzONIQZBexSuR5389kBI4XoU7rkHQexRuB4TVANBw/UoXFfj/kDD9Shcwzn9QM3MzMxst/xASOF6FOIv9kBcj8L1mLEHQXsUrkdZLQhB7FG4HokZ9UCkcD0KI4/8QFK4HoVHBgRBH4XrUdiJ40BxPQrXJ7D7QOxRuB45RPVAAAAAALhF5kA9CtejcKyZQFyPwvXo1uZA7FG4Htmh9EDsUbge7eH+QKRwPQpx0wVBKVyPwmVE+ECF61G4iqr2QKRwPQqXG9tAj8L1KPj1+kDXo3A9CgIIQZqZmZmNv/tAAAAAAMDG0UCkcD0Kd7XbQHE9Ctc7lOBAmpmZmXGV5UC4HoXrWYfsQDMzMzPTxAFBAAAAAADd1UDsUbgezfwAQexRuB6VFwJBpHA9Cv21B0EpXI/C2f/3QHsUrket7ARBUrgehVGoAEEpXI/C5WjZQB+F61EacANBcT0K16POnUAAAAAAPP/7QJqZmZk1aP9AzczMzOqJAkGF61G4NsT2QBSuR+G6IwNBKVyPwulDBUHhehSu4/UBQexRuB7pwvpAFK5H4RQIBUFSuB6F5/30QK5H4Xrcm/1AAAAAAGiK70CkcD0K4RQIQT0K16PQU/hASOF6FC6GuUDXo3A9wMEDQQrXo3DTZwRBpHA9Cld+5EC4HoXrEY/tQArXo3C9rwVBKVyPwiVC3kBxPQrXQ6PDQD0K16MQDuJAPQrXo2yL8UApXI/CnUf4QI/C9Shcze5APQrXo9CX2kD2KFyP1jD1QK5H4XqUdNZApHA9Ck+7+EBI4XoUkhvyQD0K16NkO/xAMzMzM5MF30DsUbgea2EIQeF6FK4ngP1APQrXo3ie4kAzMzMzL3L4QKRwPQpvOAFBFK5H4YovCEF7FK5H82oGQXE9CteT6/pAZmZmZgbewED2KFyPAt3mQI/C9SiW6wRBzczMzMJqBEH2KFyPIlT+QMP1KFxzD/xAj8L1KBxj4UDhehSu1xLQQHsUrkexX/5Aw/UoXKcP4UDXo3A9QnsEQQrXo3DVvvZAAAAAAJRZ8kDXo3A9asfAQDMzMzM/IwdBuB6F61kGBkE9CtejMpkHQfYoXI+ebANBCtejcF3Q/kAAAAAAsG/qQEjhehScOAFBuB6F68Hr10AK16NwRUXyQClcj8L1dotAAAAAAAzb9UAfhetRJkwCQcP1KFwDEgZBUrgehWMV+ECuR+F6GJ/6QNejcD1KhdFAUrgehUdD9ECamZmZNXr2QPYoXI/6kPlA7FG4HvmC+0Bcj8L1uK30QOxRuB4dYfRAUrgehaMC50DNzMzMHB76QHsUrkfRI+tACtejcBMTAUFxPQrXO9YDQeF6FK6f/AdB4XoUrifi40CamZmZyfHpQOxRuB6PBQRB4XoUrucKA0EzMzMzs2C1QClcj8KxY/tAPQrXo87gAUFmZmZmhqXaQFK4HoWX3/9A7FG4Hr/kBUG4HoXrYSP3QJqZmZnZkL9AAAAAAKAG00BSuB6F83jnQI/C9SgaTgVBXI/C9dgV60DD9Shcb7HAQBSuR+ESZ/dAZmZmZg7MB0EpXI/CDQ4AQUjhehRk8AdBSOF6FKYiAkEpXI/CabP2QKRwPQrXQtFAFK5H4UYT/ECF61G41jr1QM3MzMzcRP9AexSuR+HCgkCF61G4Lv/kQFyPwvX4WwNBSOF6FOZc50AfhetROHzEQDMzMzMzWrdAXI/C9RCk/UAK16NwD9cBQUjhehRuE8xAH4XrUewc90CuR+F6su4FQbgehetFVAhB7FG4HpOMAkEAAAAAjGUBQVyPwvXEUQNBMzMzMy+tBEGPwvUo2L0EQVK4HoVHsfVAuB6F67nY40CamZmZaYHtQI/C9Sg4SANBhetRuHo8AEFcj8L1BI4FQXsUrkcBCeFACtejcG0Q3EDsUbgeKfj3QHE9Ctcjhf5AFK5H4YSBBEEfhetRuP2yQDMzMzOHlPpApHA9CmczCEFxPQrXE1TaQB+F61Eo7/RAAAAAAGTZ8kBcj8L1EM/tQKRwPQrTVvtAMzMzMxNj7kDXo3A9SA4DQaRwPQq7UwJBKVyPwqG99kBI4XoU3lbgQAAAAAC4nwFBhetRuH4/60DD9Shch731QHsUrkfh3wNBMzMzMx2iAEFSuB6FT0n+QM3MzMzsGvJAFK5H4eIB5kC4HoXrwUnuQHE9CteJGwBBAAAAAGBj80CuR+F6tF4IQR+F61FKPANBAAAAAKZoAEFxPQrX3134QBSuR+HK6PdAuB6F68feBEFmZmZm3hrsQClcj8JLkgVBw/UoXGe94ECF61G4aj8IQVyPwvWoJwNBZmZmZiaj6EBmZmZmXBkBQVK4HoVj5e9A4XoUrmdo70AfhetRODbNQMP1KFxzUPtAhetRuI4r0kCPwvUoEBD+QLgeheuBIQJB4XoUricly0AAAAAAtNbzQAAAAADeqANBw/UoXH1jB0FI4XoU5rXnQLgehesdvwZBcT0K1+sw4ECuR+F6uOv2QM3MzMw0E/tA7FG4HoXfxUApXI/CRzEHQVK4HoX9DARBH4XrUT6TAkEK16NwtZPgQBSuR+H+ovBAexSuR3kS50BI4XoUbkfZQM3MzMzOgwdBUrgehSvi4ECF61G4bq4DQT0K16MEnfhAUrgehfMtBkH2KFyPbk7zQPYoXI8iwwBBFK5H4XbLB0HhehSurwrpQNejcD0MXAJBw/UoXL92+0BI4XoUhvvxQNejcD3OCPpAj8L1KGwGA0FI4XoUPNkDQexRuB6dU/lAj8L1KPKmA0FSuB6FazPOQGZmZmYGL8RAexSuR/FGB0EzMzMzhw73QB+F61FomNtAmpmZmZfBBEH2KFyPEhTfQHE9CtfnC/9AH4XrUSDx5UD2KFyP2AUHQVyPwvW6tgFBPQrXoz7uBEEAAAAANFEGQXsUrkfVSvVA16NwPerq60B7FK5HzW39QClcj8KVCtxArkfheiTb9EAAAAAAWIvmQFK4HoULeO9Aj8L1KHzLz0DD9ShcO1IGQaRwPQqXnOhAAAAAAIRH+kAzMzMzpV8AQaRwPQqLQ/lAzczMzJCN+kBmZmZmItoFQdejcD2SOvdApHA9Cvec8UBcj8L1uLbSQArXo3BBqQFB16NwPWCzBUE9Ctej8N21QI/C9SjIhfxASOF6FORRBUFSuB6F62ufQM3MzMzsjstAzczMzOxA5UDhehSuMwX1QFK4HoUxuQNBrkfhekQH40BSuB6FMyb/QOF6FK4Hq91AMzMzM88x9kBI4XoUGOEAQfYoXI/yat9A4XoUrvPL/kAUrkfhTrb/QArXo3ANAflAFK5H4epH0kCkcD0KBz7uQKRwPQpvIfNAj8L1KML4AUF7FK5HnaYDQbgehetTJgBBj8L1KERFBUGuR+F6tCn+QD0K16PAAuBAw/UoXD0pBkFSuB6F6x+iQFK4HoU5IwdBMzMzMzNexUCkcD0KK1oIQQAAAAAK+QZB7FG4HuUQBUHNzMzM3BwHQexRuB4FIepASOF6FI6a4EDsUbgeJbPEQB+F61FMsftAcT0K1/9lBkGF61G4UOgGQexRuB5bDQVBAAAAAACG1EAfhetR0OD9QPYoXI+6R/9AH4XrUagc00DNzMzMtPcGQXE9CtfDGvtAZmZmZvI3/kApXI/CYegBQc3MzMwauwFBpHA9Cvsh9ECF61G4PhzPQPYoXI/KZ+ZAmpmZmc/DBkEzMzMzVeMDQfYoXI9iF8JAZmZmZka89EC4HoXrUXjxQDMzMzPf5fJAw/UoXI8WekCF61G40m7xQLgehevBuQJBzczMzMwwd0BxPQrX34zwQDMzMzM3zwFBSOF6FARxBkGkcD0Kd5X6QI/C9Si6zgJBzczMzN7iBUEpXI/CLc3rQK5H4XrwZvtAcT0K17tq5kAAAAAAmjYFQY/C9SgEsP5AFK5H4Qx7A0FSuB6FlxD6QBSuR+Fio/9AZmZmZmqI80CPwvUoHCUBQQrXo3DL8AZBFK5H4ZpnBEHhehSu5V0HQZqZmZk5PMZAmpmZmSEr90AK16Nw2RH6QI/C9SikeANBpHA9CkPV9kDD9ShcB0j1QLgehetRwL9A7FG4HuWk/kAUrkfhcujnQHE9CtcDBPhAFK5H4UQjAkFxPQrXs9TaQMP1KFwDmvJAUrgehUduAEFxPQrXP7HxQJqZmZnrXghBMzMzM7vf5EBSuB6Fk5sAQaRwPQrH9fFASOF6FKrk9EDXo3A9LrL/QAAAAAAgN/1AexSuR0Gd8EC4HoXrRQgEQSlcj8Llk/NAAAAAAOyJ9EAAAAAAMCLxQJqZmZmB0PxAUrgehUHJAUF7FK5HS1gGQXsUrkethP1AexSuRx2F+EAAAAAAyPAAQXE9Ctdvcf5A16NwPYqS40B7FK5HBRz9QFK4HoUrcuVAuB6F69lh7kAAAAAAIKDrQM3MzMzqDARBFK5H4bryvUCPwvUoeLjwQHE9CtdPUwhBFK5H4XK2BkF7FK5H+eMHQQrXo3CF6uFA7FG4Hoka+kApXI/CtcrnQFK4HoXnYwRBj8L1KJTK8EAUrkfhOnvSQB+F61EcjvFAXI/C9Sio70CPwvUoXpAGQY/C9SjQkgVBmpmZmVkl1ECkcD0K17/bQB+F61H02vJAMzMzM+sV+UCamZmZmeLgQI/C9Sh2aQZBj8L1KPL8AUEzMzMzU3v6QK5H4Xo0IdRASOF6FGYeBkHNzMzMyI8DQa5H4Xr0C/tAPQrXoxqzAUHNzMzMnlYCQVyPwvXIOupAzczMzARf8kCkcD0KtwjMQOxRuB5p2/9Aw/UoXPtx+EDD9ShcIfgHQT0K16Pwf8NAH4XrUewL/UCF61G4ss0HQYXrUbiqdwBBXI/C9cjN8UAzMzMzH6z4QOxRuB61bwFBPQrXozAF/0CF61G4fnH8QHsUrke5kOpACtejcB2p9UDhehSudxnyQFK4HoUjL/tAexSuR7HKB0F7FK5HkbzeQFyPwvWYs9RAzczMzATTBkGkcD0KI538QB+F61HaiwFBcT0K15nAA0H2KFyPrvL3QPYoXI92W/FAhetRuJ6ZyUAK16NwaWLwQB+F61EQivVAcT0K1xtm7kApXI/CrZcAQVyPwvW+tAVBSOF6FHLg/kBcj8L18AQHQTMzMzN3GP1AcT0K1636AEHNzMzMyEz8QAAAAAD0jPdAj8L1KNht+0AfhetRvi0EQT0K16N4RARBexSuR3nB4kCamZmZdf3yQPYoXI/yK91Aj8L1KHQs7UBI4XoU8oLzQK5H4XpYvvJAKVyPwl1g6kDXo3A9mj/xQK5H4Xqs2uxAzczMzBwl/0CF61G4PtXRQMP1KFy/4/FAuB6F6wueAEGF61G4rLQCQbgeheuRFfpAmpmZmWWh+kDXo3A94nD1QOF6FK5P6/5AzczMzMQm50DhehSu/3LkQJqZmZkBgvJAXI/C9eBk50C4HoXrcRDcQGZmZmZmPqBAexSuR6Wt/UB7FK5HedvqQMP1KFxbkwdBj8L1KOJtB0HNzMzM0HUDQdejcD1mXwdBKVyPwjUA40A9CtejcAmGQNejcD3Q5wBBpHA9CqtB9EBSuB6Fi7zyQArXo3DJZPFAMzMzMxPLx0AAAAAA1DwBQfYoXI+YaAdB4XoUrleG4kB7FK5HqUjyQArXo3BRWQRBXI/C9dCa7kB7FK5HwYnwQI/C9Sh+twNB16NwPd6CA0EpXI/CNSfeQM3MzMwMBc1AUrgehV968kDNzMzMuJkBQexRuB5V0u9AhetRuO4l9EDhehSuS6YEQdejcD22rvpAw/UoXM+pt0DXo3A9UtHyQB+F61FQ1epAZmZmZvbsBUHXo3A9gmDhQNejcD3CpvxAKVyPwsWdA0EK16Nwc/oBQVK4HoVLoutAAAAAAABPlEC4HoXrwYHYQJqZmZmz3AFBhetRuAaz4kDNzMzM7AYEQa5H4Xo0UvpAPQrXo6Ad3kBxPQrX4wLCQD0K16NIeeBAZmZmZkIU+0D2KFyPtLUEQWZmZmZWDPFAH4XrUdDR6kBxPQrXhyD3QB+F61GUoPNA4XoUrr8s+0CuR+F6lF7TQHE9CtfTI/NArkfheqQY9UAzMzMzbRYFQYXrUbgeU49A7FG4HuWQykD2KFyPrgLzQEjhehQGZgVBPQrXo3C5/UCPwvUolN/1QOxRuB7vnAdBAAAAABA69UAfhetRtmAGQZqZmZkhX/FAexSuR3mKAkFmZmZmCofyQHE9Ctfr3fVA9ihcj/La2UDNzMzMPNn+QM3MzMz06PZAmpmZmZkSvkDNzMzMzsUBQbgehetR/uVAuB6F65HW7UDD9ShcPxrsQArXo3BNmu5A7FG4HmWsx0BxPQrXO3roQClcj8LN3epA9ihcj67E/EBxPQrXQZwEQaRwPQqHqtdASOF6FBhFB0GkcD0KUx4DQY/C9SjMq+RAhetRuAYM+0AAAAAAmDMFQQrXo3CdadpAKVyPwqUd1ECuR+F69KH5QI/C9Sh8ksFAAAAAAJB070ApXI/CIckBQXE9Ctd79wdBw/UoXI/ezEDhehSus2b6QHE9CtfD1dJAuB6F67GvwkC4HoXrkyMAQaRwPQoHGNVAAAAAAGxfCEFxPQrXV1v+QM3MzMwMy85AhetRuEZt4EBmZmZmirz8QFyPwvVotuxAKVyPwgnKAEEK16NwJQcAQVyPwvXsjPRA16NwPW6lA0G4HoXrl5IBQTMzMzM7fetACtejcF1qwEApXI/CBVHdQArXo3AtY+xAKVyPwhUu50AK16Nw7a7SQAAAAADE3AZBcT0K1/Mw0UCuR+F6wFzwQFK4HoXXCgJBcT0K11NR5EDNzMzM9JvlQNejcD0CJfNAZmZmZjTBAEFxPQrXO3gCQUjhehTaE/VAZmZmZp7s9UCuR+F6pKvcQClcj8IFKwZBw/UoXGtN/kCF61G4bvriQBSuR+GqYN5AKVyPwrWB8EBI4XoU2gDzQClcj8J1vrdAw/UoXEe3BUHhehSuqz7+QNejcD0K5M1A16NwPZqx8kDsUbgeFXX9QHE9CtcjDdBA9ihcjz5J+kBSuB6Ft1f3QD0K16PQVdNAcT0K1+sU/kC4HoXr0YHxQOxRuB5RMgJBw/UoXP/400AAAAAAMAfgQMP1KFxPWLhAcT0K14M6xECkcD0KlQoCQeF6FK7XjvxApHA9Cs+6/0ApXI/CDan2QMP1KFyVAgVBcT0K11NC0EBSuB6FKaQBQc3MzMy0OAZBcT0K16Ok10AzMzMzfwQFQWZmZmZOO+dAw/UoXDNlAkGPwvUomLAFQXsUrkeNIvBAmpmZmV2qBEH2KFyPRpn8QLgehetlafNA9ihcj0rT8kBxPQrXo+fCQIXrUbie9fNApHA9CmMJAEGuR+F6tLfYQAAAAACu8AZB16NwPUYg+EBmZmZm1lTvQOF6FK7hmAVBexSuR3H89UBcj8L15MbxQK5H4XoQiwRBpHA9Cju/A0EpXI/ChbDlQFK4HoVzI+JAH4XrUVCc/kDsUbge70oCQY/C9SjYtANBj8L1KNwg+UAfhetRNE/xQNejcD2C0AFBuB6F62F66kB7FK5HGfLsQAAAAACI/v5AH4XrUXDg/0DhehSu5+TxQArXo3C9wq5ASOF6FC6fokAfhetRuOPLQNejcD2kPwFBAAAAAMwT80CamZmZcav8QClcj8KJlPFA9ihcj/K67UA9CtejZsYHQdejcD0SqPVApHA9Cj994UCamZmZGcjeQFK4HoWhRgNBMzMzM8FbAUEUrkfhOjkGQT0K16OAOwNBhetRuMpd/UDNzMzMvO7XQFK4HoXzFOdAMzMzMxMb5EC4HoXrUX7CQKRwPQqDPv5AhetRuDhlA0FI4XoUxpL8QClcj8L5Zf1AAAAAACBgz0BxPQrX87DpQArXo3Chl/1AzczMzLp3B0HsUbgeecnwQFK4HoUXivJASOF6FJKl9EDNzMzMQkcHQYXrUbjKePBApHA9Cj9/+UCamZmZ0QfnQB+F61G4Rf1AmpmZmdMtBUGPwvUoFMT2QB+F61EscgFBzczMzLxI+0DD9Shc83/6QFK4HoXLAwZBH4XrUUBH+ECuR+F6tL/6QOxRuB6BmfZAUrgehQuL4kBxPQrXOzn5QAAAAAAEPAVBw/UoXD/u4EBI4XoUbormQHE9CtcnLAFBH4XrUdSFAkHhehSu56vMQI/C9SjAbQVBzczMzGQ2BkEUrkfhtrUAQeF6FK6j1v1AAAAAAL4GBkGuR+F6nj4HQRSuR+Gyp+xASOF6FJa79UAK16NwbXDoQJqZmZnL0wFBhetRuPBVB0F7FK5HwUX5QB+F61HIHgRBj8L1KG4QBUGkcD0KD5b0QOF6FK5v8v1AmpmZmVGZ8UBxPQrXQxX7QBSuR+GaiAFBSOF6FK78rEA9CtejGvQFQT0K16OwycRAcT0K1/8CAEHhehSup5zEQFK4HoUD9/9AuB6F618qA0GuR+F6/OgAQbgehevDYwRBexSuR0lV5EAAAAAAgObCQClcj8Ih8gFBuB6F652q80DNzMzMvALeQArXo3AzGwFBmpmZmQFy9kCkcD0KZcIFQT0K16OQQAhBmpmZmbma20CPwvUo0I32QBSuR+FggABBKVyPwqWw2kAK16NwlZf+QJqZmZmDRAJBzczMzOQ97UDXo3A9Kv7lQB+F61FMqvtACtejcO0V40CkcD0Kl6K8QD0K16N0TvdAj8L1KEB9BEEK16NwHfD2QHsUrkedRAVB4XoUrjmHAEFmZmZmmuEHQT0K16NAzvdAj8L1KJ71BkEAAAAABH78QLgehevt1PdAH4XrUSDQBkEpXI/CbQ0AQc3MzMy8u9dArkfheuT6+kB7FK5HhXz6QJqZmZm5DAhBexSuR3EK20BmZmZmxgDCQKRwPQoXbs1A9ihcjwJ1vkC4HoXrUTCxQJqZmZlPOAZBMzMzM7/4/UAfhetRAKHiQOF6FK5/1+5APQrXo6Ts8UBSuB6Fq47RQI/C9SgIHPxAhetRuDxCAkHhehSup77tQD0K16OiZgFBw/UoXLVFA0GkcD0KN/7IQHsUrkdxONJAPQrXo+xtAEGF61G4XjfEQB+F61HUHfBAj8L1KBwTt0D2KFyP3hXyQFyPwvXo3vJAPQrXo+CK6kAK16Nw5w4DQZqZmZlNJvdAAAAAAJrwAkGamZmZ4Wv/QAAAAABgNtZAXI/C9ZSL8UDsUbgebZT0QKRwPQqZNAJBFK5H4YikBkEzMzMzuYgFQaRwPQq7d/ZAexSuR5Fz5UAAAAAA1ET8QK5H4XoUtf5AmpmZmXkH0kBI4XoUFnHzQD0K16NkrP1AMzMzMzMh90A9CtejZMf2QNejcD0OqAdBZmZmZjpF8kDNzMzM/NTrQEjhehSO8utA16NwPbrk80BxPQrXIyDaQOxRuB5F+MFAZmZmZvbr1UDsUbgeFxYHQVyPwvXokM9AKVyPwoW/8EBI4XoUrvt7QArXo3Bdkc5AXI/C9fxCAkGPwvUoAAz2QEjhehTGPfxACtejcJXz4kCF61G4RsTgQHsUrkfhuolASOF6FNKJAEG4HoXrcdDEQJqZmZk1b/xA7FG4HnWj90CamZmZweIEQdejcD2WgPNA9ihcjzZFA0Fcj8L1/Dz/QBSuR+EQUwdBUrgeha00A0GPwvUojEoAQZqZmZlZ7v9ASOF6FF5X/0CamZmZCbcHQVK4HoUrNLZAMzMzMzP+/0ApXI/CFbvUQJqZmZlJHuVAZmZmZmYlsUAzMzMzvxoHQTMzMzPD+PhAUrgehTcjA0FxPQrXlw7xQHE9Ctcz4fRAmpmZmXkC6UBSuB6F6za8QOxRuB7VaNdArkfhemoiAEHXo3A9er77QBSuR+ESa+NAw/UoXM+L+kCkcD0KU6b8QAAAAABIC/NAH4XrUQ6bAkHsUbgeRXLZQArXo3BBhvNAPQrXo1wn+kCuR+F65EfnQClcj8JrawBBrkfheoq1AkEfhetRWPUFQXE9CtcX9ABB4XoUruc/w0B7FK5HbV7wQI/C9SiUiOtAuB6F60X88kCamZmZ5eH/QLgehetDiwJBZmZmZl5xAkEpXI/C9UqIQHE9Ctfj9PBAXI/C9cjlxkAAAAAA1Fr2QLgehesFcPNAXI/C9bz5+ECPwvUoWIX5QPYoXI/sLgFBSOF6FGIq8EDNzMzMQBEBQdejcD1aGwFBZmZmZpL5+EA9CtejLssBQXE9CteDfPRA4XoUrnsm80BSuB6F63i6QClcj8K1V8NA9ihcj55a9kDXo3A9CnavQI/C9Sj4WPxAH4XrUbx2BkHhehSuR2PwQBSuR+HScuhAMzMzMyNE6kCkcD0KrxnmQM3MzMws7uFAmpmZmZ29/0CPwvUopmgFQQAAAAB0Nv9AmpmZmb3fAEEpXI/CJcTnQB+F61HMQPFA16NwPYxaCEEK16NwebMEQQrXo3Dt9OdASOF6FCbt7kBSuB6FY1btQIXrUbjWu+dACtejcGc2BEFcj8L10K4HQZqZmZnx6PBAexSuR62n9UCkcD0K38buQLgeheuZIu1AcT0K1zF9BkFI4XoURkbvQOF6FK7f+/NAexSuR5fgAkHNzMzMfMgBQXsUrkdxD95AH4XrUWjt80DNzMzM0vsHQc3MzMyghAVB9ihcjyIl4UDXo3A9emXvQGZmZmZMFwZB16NwPQbeAEEpXI/C2Sz1QFK4HoXr+rxAH4XrUURPBEGamZmZiTIBQTMzMzMzbLFAuB6F64H4+kCuR+F6xBv1QNejcD0qHdBAXI/C9UDW+0CuR+F6YhIAQXE9CtcznOlArkfhesq1A0H2KFyPsozTQI/C9SjyhQVB7FG4Hh2n6EBmZmZm5qrdQHE9Ctd1sQNB9ihcj4Ik5kAK16Nw3QAGQbgeheuxDeFAcT0K17vl/kBmZmZmivAGQaRwPQo3pgBB16NwPWou80CPwvUoskQEQT0K16MKIwFBmpmZmanc4kAAAAAAsGnYQHsUrkf1cv9AcT0K1yPs0kBxPQrXEyjfQB+F61HeIwVBXI/C9Wj11UBI4XoU5AEIQRSuR+HWqQBBrkfhety24UDsUbges+0DQUjhehRiVPhAexSuR8G700CkcD0K12OwQDMzMzNDbftA9ihcj8LPn0CamZmZPyYAQQrXo3A9pwVBUrgehccK9kBxPQrXq/TtQD0K16OW+wdBuB6F62VG8UBcj8L1SCLLQPYoXI9C6sJAzczMzETM40DD9Shc26wAQXE9CtejQQBBXI/C9ainAkE9CtejHggCQc3MzMwkFOVAcT0K1z+98kA9Ctej4OvxQNejcD3CkgVBH4XrUVQA+EBcj8L1qDu4QI/C9Si6lAVBw/UoXO++6ECkcD0Kp2ECQaRwPQqDj/NA4XoUru+CAkHXo3A9CuTqQHE9CtfPF/xApHA9Cvk+AkEpXI/CVbfmQBSuR+FeMQdB16NwPTKk5kB7FK5HoQDeQJqZmZmpSfFAw/UoXHcK+kDXo3A94HYFQfYoXI/m6PRAUrgehdvG+EDD9ShctWcHQR+F61H83PhAXI/C9egYs0BxPQrXZ5MHQUjhehR2nwdBH4XrUeDx9kDD9ShcRwwIQVyPwvVQFfpArkfhepQd/EBmZmZmIvUHQUjhehRGifdA9ihcj6rX90DD9Shch/rnQHsUrkcd4gdBAAAAACBF+0AK16Nw3/UEQeF6FK4fSvBAmpmZmYFC7ECuR+F6VroFQWZmZmZaqvlA16NwPeoH0UDsUbge4xMFQSlcj8L1iodAZmZmZuYX+ECF61G4fiL6QLgehevNkgJBexSuR0HE4EBcj8L1tjkFQR+F61GycANBrkfhehS/6kC4HoXrF24AQaRwPQqXX+RAw/UoXPv7+kDsUbgeZZLBQNejcD3ENwdBFK5H4VYo/ECPwvUoHIgBQfYoXI9ijOxAH4XrUViwx0D2KFyPClroQB+F61G8DgFBmpmZmXm77UA9Ctej6J/4QD0K16MEtvJAexSuR9nD/kDsUbgePVP1QLgeheul4/JASOF6FE6g7kAK16NwDfUHQc3MzMy88/NACtejcO2Q3kBSuB6F+wDvQOF6FK7HUwRBUrgehRNXAkFSuB6FS7TaQNejcD2GPfVAZmZmZhbu5UAK16NwVfgFQZqZmZn9ygFBSOF6FM6Uy0DhehSugyvwQEjhehTGOgdBUrgehXUXBUFI4XoUgjP4QD0K16MqxQVBuB6F64HxAUFxPQrXl3gCQQrXo3A9r/ZAAAAAAMDL7ECuR+F6GFEFQaRwPQq/bfNA7FG4HmXK6EBmZmZmDL4CQexRuB57OwBBFK5H4Y7N9ED2KFyPNscEQdejcD1ykPhAuB6F68+3BkFcj8L18OnqQMP1KFw/FtxAUrgehWvgBEEpXI/CNZEFQXE9Ctfj/ttA16NwPbATCEEK16Nw1RYBQT0K16MOdAJB16NwPRrW/EAK16NwpdLgQPYoXI8Kre9AXI/C9WhmxUAzMzMzuwLiQDMzMzOrgwRBAAAAANjyAkF7FK5HOcHiQNejcD32YPJAhetRuPRSA0GPwvUo3ILGQD0K16MQMfdAH4XrUcI6BUGamZmZYRbkQGZmZmZ+VOxAexSuRwMJBEGPwvUoxPLmQHsUrkf7owVBrkfheoiD8kBcj8L10NTtQI/C9Shcad1AXI/C9djgBUFmZmZmznHpQAAAAAAMX/JAuB6F6+1/BkHNzMzMyFoDQYXrUbhmXPdAPQrXoyiA8UBSuB6F6/mbQAAAAAA4BQFBPQrXo2jl/EBI4XoUvvD/QEjhehTKJv1AAAAAAHjcA0HhehSuyRMFQYXrUbjwxARB4XoUrpMP8kBxPQrXQ73tQI/C9SiayQdBrkfheqSlB0HNzMzMrJTMQK5H4XqU/N5AH4XrUeiX00DsUbgeDV34QLgehevJYuJAj8L1KAh+B0EpXI/Cwx4GQRSuR+Hs8AJBFK5H4QKq/UDXo3A9IhDuQMP1KFxbGP5AXI/C9QiK3kBcj8L1IK3uQJqZmZnDdwZBw/UoXJfj50CPwvUoOFQHQbgehesBdepA9ihcj6pv70ApXI/CLTvzQD0K16PsgfxAexSuR4kS4EAzMzMzk+PoQAAAAAAozf1AZmZmZs4c8EBI4XoUlm3zQEjhehQS3v9Aw/UoXK0SBUFxPQrXQ7jNQLgeheshGtFASOF6FGAYAEGPwvUozDUGQQAAAACoVfZAMzMzM/fT8kBxPQrXu1f3QIXrUbjGovNAw/UoXBf8A0GamZmZybvaQGZmZmYaCfJAcT0K1xMAAUFI4XoU5BUAQfYoXI9wLAVBw/UoXAt+8ED2KFyPqvngQNejcD2yWf1ASOF6FEYG9kD2KFyPfiMEQQrXo3A9F5RAw/UoXPdt9EDhehSul97gQHsUrkcxIvJAuB6F65FuvEDD9ShcL8gDQaRwPQpFVQhBhetRuHZx7kD2KFyP+mP2QGZmZmaOWPNAmpmZmXm48kBmZmZmfNYDQR+F61E43NRAKVyPwu2a6kCamZmZYVXqQGZmZmbSL/lArkfher7dAUHNzMzMvLTbQDMzMzOTk8NA9ihcjwaNB0FmZmZmtqboQClcj8JzEgBBZmZmZlqVAkHhehSu05/wQFyPwvXUi/NAw/UoXH1CAkHsUbgeRc+9QLgehetZJ+BAuB6F673B/UBSuB6FK5f4QFK4HoWj/uZASOF6FMCuBUHhehSuV+r5QBSuR+G6etBAexSuRxmk6kAAAAAALsACQY/C9SjMrOVAMzMzM1ve7kBcj8L1WFPkQLgehethL9hAMzMzMzOe20CkcD0KM731QOF6FK6H49BA9ihcj+bu/kCuR+F6tKHJQKRwPQotgQRBPQrXo+y6/kBxPQrXR3T2QLgehetN/gJBcT0K18eM8EAzMzMz65LuQB+F61FwOfpASOF6FPJTBEGamZmZsVL9QGZmZmYe+gZBSOF6FIpa9kCamZmZ+VIEQTMzMzNzNwRBcT0K10MW9UDD9ShcD4elQI/C9SioaPRA9ihcj6ZR+UB7FK5HYSS3QArXo3B1a+xAFK5H4Toa6EAUrkfhEvfxQB+F61H0OfdA16NwPVLx4kAUrkfhckgIQVK4HoV7ZOtAexSuR/GR/EAAAAAAYFDuQGZmZmb2TwFB7FG4HlmhBkGPwvUopA7sQLgehevBY/1AMzMzM+c8AEGkcD0K94rKQClcj8JlAPNAj8L1KBCtAEGPwvUoPMLQQNejcD1clgVBexSuR0UT/EAfhetR9gsIQdejcD3QQABBKVyPwh2qBkHD9ShcH3XXQI/C9SiwrAZBKVyPwu+7BUEpXI/Ci2UIQc3MzMx8SeVArkfheqj7/UA9Ctej8OCqQOxRuB6tkuFAAAAAAPDC0EAUrkfhQrvlQDMzMzMTbtFAXI/C9Rib8kCuR+F6JEUBQYXrUbgOUO1AKVyPwuGU+EA9Ctej1Ir3QD0K16Pw2c5AXI/C9TR0/EC4HoXr5VgHQexRuB5zOQVBmpmZmZWh/EBSuB6FV4f2QOF6FK6PmuVA4XoUrlcT80BI4XoUrj75QPYoXI9e0wBBZmZmZoYv1EBI4XoU1unyQI/C9SiMHOxAZmZmZsqG8kDhehSuXfABQbgehesBXvBAzczMzJLHBUF7FK5HwRXeQEjhehTejgFBZmZmZj70/0ApXI/CPbkHQR+F61FYIsNA4XoUrscZ50DhehSu4ToBQQAAAAAkIvtA7FG4HmHg+0AfhetRjCT/QHE9CteDqNFASOF6FFKkAEG4HoXrOangQEjhehTWdutAw/UoXMtdB0EfhetReMXWQGZmZmYaqQFBZmZmZshhBUFmZmZmZijNQFK4HoU5tgNBUrgehe9LAEF7FK5H4SXXQEjhehQWUfxAZmZmZqYb5UAUrkfh7ij3QFK4HoVNYQFBAAAAAJqOAEEzMzMzPyACQTMzMzMbzOxAexSuR+2d8kDD9ShcL0brQOF6FK6zAvNA16NwPYpX1kDNzMzMWPL7QM3MzMwsn/dA7FG4HimO/kDXo3A92rv7QM3MzMwIpP1AFK5H4Taq+kC4HoXryYboQKRwPQq/sQVBFK5H4V4EAEF7FK5HjQ70QHE9CtejCGtAZmZmZmbEmkAK16NwcbYAQUjhehT+xNNAH4XrUbQB9UDsUbgeEeb+QJqZmZnZa+9A4XoUrid0xEDNzMzMWGz3QClcj8Jlkv5APQrXozTeBEFmZmZmZo5tQNejcD1Kx95AzczMzFQrBkGF61G4iB0DQQAAAAAAsLBAMzMzMx/4A0EK16NwHXcFQWZmZmaiSARBrkfhepQs7kDD9Shc3+/UQGZmZmZ2xtJAj8L1KBguAEGamZmZEZzuQArXo3A9QNVACtejcOXaAkEAAAAAAIG/QDMzMzOvKQVBPQrXo0zz8EC4HoXrkerIQJqZmZlRBgZBCtejcLUK5UAAAAAAIL/wQDMzMzNlKwhBAAAAAJAE/kBxPQrXU8HyQEjhehTEQgFBAAAAADh45EAAAAAAgnEFQUjhehTKyfxAj8L1KBbEB0HNzMzMqlgEQT0K16McjANBAAAAAGAu/kDD9Shcv7T7QD0K16MscPNAhetRuA7m10AfhetRDpwFQXE9CtdbO/lApHA9CscO70DsUbgeZU3MQK5H4XqIp/lA16NwPb5i9ECamZmZdYcBQexRuB59n+FAuB6F6/FnyUBcj8L1aNW3QAAAAABAl+dAuB6F678PCEGuR+F6vO36QK5H4XqUaN1A16NwPeok+EApXI/CVVToQGZmZmYGrcNAH4XrUXhI1EAK16NwGfMDQY/C9SgmGQFBpHA9CmNQ9EBSuB6FrzL7QAAAAACYrPZAZmZmZs4j90CamZmZyTfQQArXo3ATxQNB16NwPWrFB0GamZmZJfYDQUjhehSGkOdA4XoUrmcp9UDNzMzMTPGnQOF6FK7PX/tAZmZmZhp+/UDD9ShcJ3zpQFyPwvWIp+tASOF6FM7v8ED2KFyPMAYEQY/C9ShoDP1ArkfhegTU2kCPwvUoRPLhQFK4HoULquZA7FG4HkOpAkFxPQrXWSsEQZqZmZl1ifJA16NwPRIcBUEAAAAAkKHhQOF6FK5XreFA4XoUrnMZAEEUrkfhQlsAQY/C9SgkmfdAhetRuEB+AEEK16NwQQMEQYXrUbh2SupACtejcO3h/UB7FK5HgaTvQIXrUbiu6tJAPQrXowjP/kCPwvUoGIkAQT0K16PwJfdAH4XrUXD+BkGPwvUohMoFQUjhehQm5/dApHA9Ct/J8UAUrkfhVuwHQVK4HoU7/tJA9ihcj+Le30ApXI/CqfYEQaRwPQoHjOZAUrgehZXtBUH2KFyPCmEHQTMzMzPnmfBAmpmZmXnX5UBmZmZmTmf+QFK4HoVDpgNBH4XrUWiz2kCuR+F6VF3qQK5H4XoYX/ZAXI/C9WglB0H2KFyPSqTtQIXrUbh65AJBFK5H4agHCEFxPQrX++UHQeF6FK7HHahAAAAAAKA98UA9CtejQN/qQFyPwvUcgwRBexSuRxVc/0AfhetRilIIQVK4HoUVPwJBexSuR2Xw/kBI4XoUEgMCQZqZmZm9PAJBSOF6FAbW9kDsUbgefcDsQHsUrkf71AJB16NwPW7K/UCuR+F6ZI/oQKRwPQrF7AZBhetRuIDqBEEUrkfhEvvjQClcj8KVOO9A4XoUrvfK3EBxPQrXgdsFQaRwPQqfj/9AH4XrUdAg60BmZmZmdsLWQFyPwvUoutBAZmZmZh458kBI4XoUsNsCQaRwPQpX46hASOF6FPqY9UAUrkfhLgnwQD0K16NQKQFBZmZmZg6f/ECPwvUokFr8QMP1KFzfw/lAXI/C9aDm80CPwvUoMiMEQTMzMzPjE9dArkfhepi9+UBmZmZm8h32QOxRuB5lAv9Aj8L1KJQx9kApXI/C9eXAQArXo3D9Nc5ArkfherSC80AzMzMzH+/wQHsUrkdxOfVArkfhetStvUCamZmZ2Y38QD0K16PmRQNBPQrXo9gJ80DNzMzMGNr+QLgehesrbwdB7FG4HuNyAUEK16NwtdznQOF6FK672vFAKVyPwlVO/UBcj8L1Wq4HQXsUrkft5wVBhetRuD7E80CF61G4fpXOQJqZmZlBovZAFK5H4Yrr2UDhehSuV77vQPYoXI/OGPpApHA9CtWbBkFSuB6F64avQFK4HoVrtAVBUrgehfvN8EC4HoXryQL8QHsUrkfRxtVAmpmZmRkVCEHhehSu7+gFQYXrUbjeSNFAzczMzKzt/EBSuB6FZ0UAQeF6FK5HZ+xAzczMzBQo+kA9CtejerUBQXE9Ctdz3/RAzczMzDSx+EA9CtejkIfEQLgehevj1QBBpHA9CjmbB0HhehSuFywHQcP1KFyLlwFBSOF6FJSFAUHXo3A90vbyQFK4HoUvbQZBuB6F60mB9kCamZmZuQTcQB+F61Ew+PRA4XoUrkeI5EAK16Nw5eP6QB+F61Eu4gVBcT0K1+Mb9kApXI/CM8cDQXsUrkftVvBAzczMzLSV+kBmZmZmPojxQArXo3D5g/ZAZmZmZh4P80DNzMzM/CPtQOxRuB6FwPRAmpmZmQeCA0HNzMzMlH7/QDMzMzNbuftASOF6FHQJAkEpXI/CZTDcQK5H4Xr4mgNBPQrXo/xq+EA9Ctej0JnqQD0K16NqSwFBmpmZmdmG9ECuR+F6UB76QKRwPQr39PFAmpmZmSFI/EAK16NwWSD6QClcj8K1WthArkfheiT16ECuR+F6lITgQClcj8K9dv9ArkfhembEB0GamZmZ82cDQXE9Ctc1MQhB9ihcj+BCAUFI4XoUrk+wQFK4HoXH+f5A16NwPZoL5ECPwvUoANL5QOF6FK5HSNtAuB6F671f80AfhetRRPL4QOF6FK57XvdAH4XrUTDk60AUrkfhcNUDQUjhehTExwdBZmZmZtpI/kCamZmZ2ZDRQKRwPQqrUABBFK5H4UqD2ECuR+F6XEbgQOxRuB6FwqJAH4XrUcjFBUEK16NwT9wDQXsUrkf1rfNA4XoUrqea1kCamZmZWfL1QIXrUbieyqhAXI/C9SwV/kD2KFyPxjXyQHsUrkcxjt5AuB6F6ymY7EAUrkfhIioCQbgeheuh9ehAw/UoXMkVBEHXo3A9OkPuQLgeheuXmgdBexSuR1lN50DXo3A9mhPSQIXrUbg2xO9ArkfhetSk5kAK16Nw9YbkQHE9CteH3gBBzczMzNwz1kC4HoXr9dAGQVK4HoVXYfJAKVyPwkHN/0CkcD0Kd13NQDMzMzPrcgVBw/UoXNus+ECkcD0Koa0CQYXrUbjeCfVApHA9CmUdCEGamZmZWRbiQFK4HoXbj/1AuB6F6w+yB0HhehSuk7n4QAAAAAB8+/xACtejcD00gkDhehSu6XsHQVK4HoXdqQBBXI/C9bjzAEGuR+F6HKftQOF6FK69FwdBXI/C9TgJ+UC4HoXrUezhQAAAAACI2uVAMzMzMzE4AEE9CtejsM/PQIXrUbiWxf1AMzMzMy8DAEHXo3A93qX1QGZmZmYaogNBpHA9Clcu2EDhehSu9+gAQQAAAAAWOANBH4XrUfy0+UCF61G4bt/3QEjhehT+qfBAMzMzM2+P+kAK16Nw0YoBQSlcj8ILMAJBZmZmZtJC90A9Ctej4qsCQbgehevZLPdAFK5H4cJQ9UApXI/CrYD0QClcj8L9VOJAzczMzJSb+UAAAAAASkYCQfYoXI9yD9BA7FG4HiW06kAUrkfhDssHQSlcj8Id3gFBmpmZmd0dA0FI4XoUNkkGQZqZmZlBZO1AXI/C9XDc4UDhehSuh+a2QIXrUbiwdQFB9ihcj4Kd7kAK16NwlSz4QEjhehSY8gZBuB6F6+kj/kAAAAAAwFTFQMP1KFwnR+pAZmZmZhbt80CF61G4VnkHQQAAAABSkAFB7FG4Hk3x6UAfhetRsD8HQQAAAAAgUvtAMzMzM5+h+0AfhetReNDdQB+F61EIXNJAZmZmZvaF5kDhehSuF3TyQEjhehS+ze5AMzMzM/Mq8kAzMzMziRMBQQAAAABAY7xAKVyPwlHOBkH2KFyPKMsDQbgeheuz/QVBuB6F62Fh9EDD9Shc74zZQLgeheuhq+VAAAAAAGilAEFSuB6F4z34QArXo3DDLAVBXI/C9Xwj/0DNzMzM1KXpQM3MzMxc099AAAAAACgH50CPwvUoBC7mQArXo3B9Ur9AAAAAAKDiB0EUrkfheEEAQSlcj8IhLf5AzczMzPa7BkFcj8L1Zl4DQUjhehSuEMJAmpmZmVF2/ED2KFyPAtLlQOxRuB4DJAJBMzMzM/cHB0G4HoXrtSP6QPYoXI/qJ+5A7FG4HkWIB0FI4XoU5tHmQLgehevtpARB9ihcj5a/9UApXI/CvbD5QFyPwvVsT/9AcT0K16sV90AAAAAA8IPgQKRwPQrHy/dAFK5H4UoJBEGamZmZjVoHQdejcD0y3e9Aj8L1KHbBBUHXo3A9qucFQVyPwvWQ++9AhetRuF7l90DsUbgeuZn7QM3MzMwQ3/lAj8L1KEwH/kBmZmZmcp/wQKRwPQqX+dRAcT0K1y1XA0EzMzMze7DyQKRwPQrXB89AFK5H4bp54ECPwvUoLCvUQAAAAADYiPtAMzMzM89L/UBI4XoUbkW7QNejcD3amwZBKVyPwkUm80AAAAAAQPkAQeF6FK5PpABBZmZmZubAzED2KFyPwsyqQOF6FK4RlgNBrkfhehQ1l0DsUbgeBULTQD0K16PgG+RAPQrXo5AEAUFxPQrXW/sDQXsUrke1HPxAKVyPwhFM8kCuR+F6XAQGQXE9Ctet7QdBKVyPwrXB/kAfhetR3DP7QI/C9SioRvxASOF6FAblBUFcj8L18Br0QHE9CtdBhwdBUrgehQew+0CF61G4Fm7+QD0K16PgyupACtejcEEg+EAUrkfhWkDmQJqZmZkDQgZBXI/C9ZgC/UA9CtejzDz5QMP1KFzXO+VA4XoUrt+P40BmZmZm9ovmQOF6FK7rf/1ApHA9ChdPt0Bcj8L1aNH9QI/C9SiEv+5AH4XrUfxWBUGkcD0KSYoHQaRwPQrXQ+BAFK5H4cbK8UDsUbge7dvoQI/C9SgCYgFBhetRuE7R50A9CtejTBYDQY/C9Sh+VQBBUrgehcXdBUHD9ShcK2r2QD0K16NaJAVBpHA9Cvc/BkE9CtejUp8FQXsUrkdZZOhAuB6F60VSAUHD9ShcW3X9QArXo3C1SQJBZmZmZtZm5ECkcD0Kj4vmQEjhehQuIKVA4XoUrodGukA9CtejYNgEQQrXo3DNVeZAhetRuATQA0HsUbgePb/zQArXo3DB7vxAcT0K1xsE8UBI4XoUuGgGQc3MzMycrQNBj8L1KEaMAUFcj8L1ZML9QFyPwvV+8wFB9ihcjwwABUGuR+F68IwBQT0K16M0AwFBCtejcA3380DhehSut1AHQexRuB6FdrFAZmZmZlqVAEGkcD0KpQoFQUjhehQclgBBMzMzM8tH/0CamZmZf2MEQUjhehR4SQJBcT0K11OC6kDD9Shc3//0QFyPwvXggPNAFK5H4ThUAUEfhetRjEfwQGZmZmYCFfhAAAAAAGxuAUHD9Shc7fcDQSlcj8Kp7ANBH4XrUThMyEDNzMzMfMQBQcP1KFyP2+hACtejcE1x3UBmZmZmJjXsQClcj8LrFgNBFK5H4V6+BUGamZmZGfXoQKRwPQq7NgVB7FG4HpFVBUGF61G4+AAFQcP1KFzx9AJBmpmZmQmw40CF61G4omMAQTMzMzOX9AFBKVyPwoMoAEEAAAAALBwEQdejcD1qye5AH4XrUYpiCEF7FK5HoTXrQAAAAABM6gNB4XoUrg9R7ECPwvUoLpIHQa5H4XpkF+xApHA9CqPb8kB7FK5Hsa4CQWZmZmam9e5ASOF6FE4E+kBxPQrXY+HkQIXrUbiKmQRBZmZmZtYG00DhehSus10DQaRwPQpDTvRAPQrXo5zF8kD2KFyPUizpQNejcD0mxvlAj8L1KHBo80B7FK5H+azpQAAAAAAQONpAZmZmZkasw0DXo3A9Bt0GQSlcj8IJZflAexSuR3F4AkHsUbgeXavuQI/C9SjMs+1AH4XrUQB8/EBxPQrXh9/yQB+F61HA0+lAFK5H4XZv/EB7FK5HYbuxQClcj8L9YAFB4XoUrof7+kC4HoXrE/sGQaRwPQpRFghB16NwPRKX80C4HoXrdxgFQeF6FK5XweJArkfherQ10UCF61G4tnLnQHE9Ctfnt/VACtejcHFn/EAUrkfhtEYEQY/C9SgUevlA7FG4HlUu/ECF61G40r0FQfYoXI/CIQBBH4XrUVgE1UDhehSu58naQFK4HoXzk+RAKVyPwpH9+UBcj8L1OlYAQSlcj8KdBwRBhetRuDpvA0G4HoXreaD0QFK4HoVrtaxAcT0K1wOex0DhehSuO+ryQMP1KFx3KeRArkfhehR2dUApXI/CDSnnQBSuR+EyNf9AzczMzCRm4UCF61G4iFIGQa5H4XpWrQRBpHA9Co8yAkFI4XoUWnkGQRSuR+GKN9ZA7FG4HiVXx0D2KFyPgKkCQdejcD2mZAVBH4XrUfpGBUFSuB6F27PzQJqZmZmhOwhBFK5H4WJ0BUF7FK5HgTj0QEjhehTQ9AVBKVyPwt+EA0HXo3A9QugAQYXrUbgqGv9A4XoUri/K7EDhehSuz035QDMzMzP7Nf1ApHA9CnfM20DsUbgemawCQY/C9Sj4TQdB4XoUri9j90DXo3A9dikHQT0K16PwBAdBpHA9CgdyBkH2KFyPWv4HQXE9Ctdzd/tAAAAAAADi5kBmZmZmhhTwQIXrUbj+jv5A7FG4HnurBUH2KFyPqrUEQc3MzMxI5vxA4XoUrkcY0EBSuB6F6egAQQAAAAAAiMxASOF6FMbo80DhehSuh/7wQM3MzMyc0PBAXI/C9ezM80AAAAAA4MnzQB+F61FcGvJApHA9CvNK+ECPwvUovL7DQDMzMzP7vOxAw/UoXCeb9EBxPQrXO0boQNejcD0MTQBBCtejcHls/kCkcD0Kq/L3QEjhehT2zeRAFK5H4ZB9B0HNzMzMzKHtQEjhehTuJuhAcT0K13/h80BxPQrXY1/WQArXo3CF/+9AzczMzO43AUH2KFyPQiGrQK5H4Xo87PhArkfhehQnnECkcD0KF8z0QDMzMzOrRP1A9ihcjzpw9EC4HoXrceDWQK5H4Xrs4PJAPQrXo7APA0FSuB6FH4L6QB+F61EqTgBBKVyPwp3q+EC4HoXr8RHnQFK4HoVn+PtAmpmZmYWEBkE9CtejSnsCQZqZmZnxPPFAw/UoXBX0AUEUrkfhQtP5QDMzMzOHu/pAmpmZmVvQAEGF61G4Tqv5QMP1KFzHp/tAcT0K15kPBUHNzMzM7G7vQI/C9SicxNtA7FG4Hq3r5kA9CtejQKXcQEjhehTkpQdBAAAAAPgS4UAzMzMz+y3rQHE9CtcjOetArkfhehKaBUFSuB6FGygGQdejcD1yRe5ASOF6FNIC+EBI4XoUhiztQEjhehQEgwNBcT0K16MAukBxPQrXsyLiQAAAAADYHOJAPQrXo5h3A0GuR+F6hCvpQI/C9Sj0q+xASOF6FK61vkCkcD0K57/SQB+F61FCygVB7FG4HsESB0HsUbgehQwDQexRuB6N0elA7FG4HkUx00BxPQrX3wUBQT0K16OESP9A16NwPdIS5kA9CtejFjYHQVyPwvVOUwNBMzMzM+OZ90Bcj8L1cFruQPYoXI/GlvVAhetRuI6I4UAfhetRYJoEQUjhehT+WAdBrkfhesBG9EAfhetRoMD+QI/C9SjCGgRB4XoUrh/UBkHhehSujwPrQJqZmZnxw+BAXI/C9Qib0ECF61G4tmb8QD0K16OAb9ZA7FG4HqVH6EBxPQrXS1f1QFyPwvU4htlAw/UoXK/l/kBmZmZmSpkHQR+F61EAM/ZAw/UoXOet8kAAAAAAOFP9QD0K16MEKwhBZmZmZgh0AUEpXI/CqSX0QClcj8JHZAJBpHA9Cpfe+0B7FK5H1fUEQVyPwvX4Ef1AuB6F6/t0AUFmZmZmlpHeQM3MzMw8XvFArkfhelxt6kA9Ctej9E39QI/C9SjIaPlA7FG4Hm13BUFcj8L1nnUFQa5H4Xp0AM5AXI/C9WCQBEEzMzMzzx0GQUjhehR+f+xA4XoUrjfN00C4HoXrqVf2QJqZmZnxufJA16NwPXIS+0D2KFyPMtH6QBSuR+GakMhAzczMzCjlBUGuR+F6iBHwQGZmZmauUP5AXI/C9ThdBUH2KFyPGi/8QK5H4XpwT/9AUrgehddSAUHsUbge6Tb8QFK4HoX9aQVBuB6F6ztKAEHhehSur/L7QOxRuB6VaelACtejcBUCBkGkcD0KER4AQR+F61E4etRAzczMzHhgA0FSuB6FM/EHQUjhehS+2dVAMzMzMyG8A0EK16NwtXDwQKRwPQq3dOtAcT0K1/k1AUGPwvUoZK8FQWZmZmY0YAFB16NwPfrdAkHXo3A90o0FQT0K16PObgdBPQrXo3B2wkCuR+F6SiwEQexRuB4fuQRBFK5H4bicA0HNzMzMQHIHQSlcj8K5xfZAhetRuNpo+0Bcj8L1qBWhQGZmZmZ2COVASOF6FA4oyECF61G4RrXkQK5H4Xr2PgdBXI/C9dLkAEGkcD0Kqw4FQQrXo3DjKAhBj8L1KFx7u0BmZmZm5H0DQXE9Cte/rfNAZmZmZn7mBkFSuB6FLw/3QI/C9ShqkwFBrkfheqTU2UDD9ShcFxQEQVyPwvXMgvRAexSuR4G0+EC4HoXr5WYFQfYoXI9SEwhBrkfhegBL+ED2KFyPSm/0QJqZmZmJkNtAzczMzDQ/4UDD9ShctyHkQHsUrkepR/NApHA9CitX+kDXo3A98msHQcP1KFwP4b5ArkfhejgM8EBxPQrXFckBQQAAAADIb+hA4XoUrsez7UBxPQrXL2QDQQrXo3CxKPtAUrgehTXgBEH2KFyPmtoEQRSuR+HqU+dA4XoUrg0BAUGkcD0K+9IHQVyPwvWmpQNBexSuR7H05UDD9ShcN3XpQBSuR+ECr/pAXI/C9Tif00AAAAAAYCUIQVyPwvXg//xApHA9CmGpAkEfhetROo8AQXsUrkcpYvlAH4XrUVh54UCuR+F6RLvYQClcj8I1S9JA4XoUrqvv/EAAAAAARPf1QDMzMzPR2QZBMzMzMxsS+kDNzMzMomUBQRSuR+Fm5/FAKVyPwqPHBkFcj8L13C3+QOxRuB4Fot5AZmZmZl6Q40BSuB6FCXsFQfYoXI9imcNAUrgehf9zAkFI4XoU3lwHQQrXo3ClA+lAhetRuHZT9UBmZmZmHuvnQAAAAACQTgZBj8L1KPq9AkFmZmZmeon+QEjhehSK0ANBPQrXo3CtqkAAAAAA0iYEQa5H4XqsZulACtejcAMZAkGPwvUoMAH+QBSuR+G6CcVAPQrXo+DT0UDXo3A9dmgGQVyPwvXAYwVBrkfhekwOAkF7FK5HtQsGQXE9CtfDuAZBMzMzMzMfvUApXI/CgarzQLgeheuRHtlAFK5H4abfBEGuR+F61B7UQEjhehQaTgFBSOF6FMba/UDNzMzM3jEHQeF6FK7vQv9Aw/UoXHGPAEH2KFyPgpO9QMP1KFwPC9dAhetRuHaj9kD2KFyPmtDvQD0K16P4Xu1ApHA9CkszAkHhehSu5y/hQD0K16O0mv9AuB6F63O3AUFSuB6FLYYHQZqZmZld+gBBmpmZmdlq9EDsUbgeLWXhQIXrUbheQeFAZmZmZmZ5zkDhehSumUIGQYXrUbj6zvVAzczMzPyKAkEpXI/C9SgnQLgehev57PJApHA9CvtR9kAfhetR/PL5QI/C9ShGwANBCtejcGWs80BxPQrXM5gGQexRuB5XEQVBH4XrUQ7iB0FI4XoUAMwBQUjhehRw6ABBrkfhevidBEGkcD0K9+v3QEjhehT+yvRApHA9CpfI0UCkcD0KF5TKQHE9Ctef9/pAZmZmZtZ/3kB7FK5HdUgBQc3MzMwspcxACtejcAUN60AzMzMzXVIFQT0K16No0gJBUrgehdNaAUFcj8L1MBL3QJqZmZkLOgZBj8L1KCS98EAfhetR4K31QHE9Ctdfx/tAuB6F663A/UD2KFyPtFsCQaRwPQqXpO1A7FG4HqFA80AK16Nw7YrrQFK4HoUvsP5AH4XrUdiw1kAAAAAARH3yQB+F61Gu9AVBrkfhehT85EAfhetRWHvEQMP1KFxXu+tAKVyPwlV/20B7FK5HN5sCQT0K16POYwRBFK5H4SLI/kCPwvUo3icGQVyPwvXgfeRAhetRuOS9BkE9CtejSNr0QFK4HoXLy9ZA9ihcj9IOBkFmZmZmOJwAQZqZmZlpYQVBuB6F6y3wAUEUrkfhirX1QHE9CtdTBeZA9ihcj/Lc00BxPQrXC3/6QKRwPQrDxAFBuB6F6+lVCEEK16NwRQzlQK5H4XoiyQBB16NwPVZz9kApXI/CQXL9QIXrUbiSIPlA7FG4HpXx3kDD9ShcE/kFQZqZmZnZvdtAMzMzM/8A8kBI4XoUyrsGQaRwPQo3/N5ArkfhepSO50CuR+F6JKf7QArXo3ChYPFAUrgehTsV2UBcj8L1SArdQKRwPQoTTQJBXI/C9fAOBkEpXI/CZfPaQB+F61EUM/dA9ihcj9hjBEHD9Shc24L8QHE9CtezrNRA7FG4HmXy3EDsUbgegXL8QM3MzMyMl+VA16NwPWJJBEFI4XoUzjEBQVyPwvUIFOJASOF6FF7e2kBI4XoULlTRQHsUrkehR7FApHA9CmfJ+kBcj8L1tC76QHE9CteDJfxApHA9Cj8i5EDhehSuB9vpQM3MzMy8RvNAZmZmZmZq2UDD9ShcQU4FQSlcj8J7+wFBpHA9CtcI80B7FK5HoQO2QJqZmZnh2fNAMzMzM9cz+0DhehSu6TkHQeF6FK5npfhA4XoUrpuY+0DsUbgeeXX9QHE9CtfB2QZB4XoUrhPi90BSuB6FrbQEQc3MzMwoYgdBuB6F63k3+UB7FK5HlXMEQdejcD2qrO9AXI/C9aAB+UAzMzMzQ1b6QI/C9SjcNeJAcT0K1w/K9UBI4XoUWnT2QM3MzMyMedBApHA9ChO1/UApXI/CTXjgQArXo3AplflACtejcGUk90CuR+F6hA3cQB+F61EUX/BAmpmZmX3d8EC4HoXrJfIFQexRuB6jaAZB9ihcj9pnAUGuR+F6oLUFQRSuR+EQIAhBpHA9CtON/UCPwvUobkMCQVK4HoXr2WFAw/UoXLUVAEFcj8L1+AfqQB+F61EQSfpASOF6FD69+kApXI/CTWD7QGZmZmbWvvtAMzMzM9MUBkFI4XoU4lPxQD0K16NwEOpASOF6FBhaA0FSuB6FH+IFQa5H4Xrgp/RA9ihcjxLT60AzMzMzB4v8QHsUrkd1JflA9ihcjww2AEG4HoXr+dz0QI/C9SgQFvhAUrgehcta+kAK16NwgZbwQGZmZmbgiwdBrkfhenzbBkGF61G4JgL8QOxRuB55RPtAAAAAALJ7BkHXo3A9+sLpQNejcD0y3/5AKVyPwlWIx0B7FK5HxWP3QI/C9Si8KAhBuB6F6x1IBkGuR+F6EoIEQSlcj8KpZfNA9ihcj/qY7UAUrkfhmuHAQJqZmZllBAVBrkfhehBLBUFmZmZmkssHQeF6FK4lyABBmpmZmfkM90C4HoXrjWP9QIXrUbh21fdA4XoUruMr8ECF61G49BMAQbgehevN2/BApHA9Cp+560AzMzMzx8IEQTMzMzNJawdBj8L1KDy09EApXI/CJRjfQEjhehROoMdAFK5H4bqQ5UC4HoXr6VD2QMP1KFwjVfRAexSuR3c5CEFI4XoUroK9QPYoXI8CovNAuB6F6y0WBEHXo3A9qGsFQR+F61F81QBBKVyPwj3m9kBI4XoU0pnwQM3MzMyEKuhAKVyPwiV+4UDhehSuY3rwQIXrUbiyDvJASOF6FDq4AUF7FK5HqTz+QPYoXI+CQ9dAhetRuMZW5kDsUbge6YADQUjhehTqkPRAw/UoXKeo8UBmZmZm9iPaQPYoXI8GHQRB16NwPQpjkUB7FK5HQZEFQa5H4Xr0e+VApHA9ClEuAUHD9Shct6YCQZqZmZkd6PNAzczMzMzbvEA9Ctej8lcGQa5H4XoI8wBBpHA9CuvKBEEfhetRGIDtQDMzMzMDefhAKVyPwvUhpUDNzMzM8MzwQMP1KFznqO9AUrgehXejAUGF61G4MqUGQaRwPQr3XutAKVyPwq/tAkGkcD0Kk0D9QLgehevRwc9AXI/C9XaKBkHhehSux560QOF6FK7LpftAAAAAAABmwUAK16NwVX3vQKRwPQrd6gJB7FG4HlMEA0HsUbgezYP/QBSuR+GoAwdBKVyPwtUxykAfhetRmLrOQClcj8J52vFApHA9CoPU+ED2KFyPIub4QPYoXI+q8PtAKVyPwpWazkDNzMzMcDkDQdejcD2KBgBBMzMzM0kMCEG4HoXrHXf/QAAAAADQxvRAH4XrUfBJAkEpXI/CjWD6QNejcD2ckwBBFK5H4epC2UBcj8L1ONv/QFyPwvW4ZQZBCtejcDXO8kAAAAAA3Pv2QAAAAACA+a9ACtejcJms+kBxPQrXn4r5QPYoXI/IeARBzczMzABS+UC4HoXr164DQXsUrkchybdAXI/C9QqBA0GuR+F6FO++QM3MzMyU+wZB4XoUrgf22kAAAAAAimgGQfYoXI8KxAFBmpmZmW8bBEEUrkfhVqTyQFK4HoXrVf1AH4XrURyJAkEfhetR+EK2QM3MzMwY//1AzczMzM6iAkGPwvUoHnQHQTMzMzNzsO5AKVyPwms0AUEK16Nw9bfrQHE9CteZogVBFK5H4SIO9UD2KFyP8rTgQArXo3DFruVAMzMzM2UqBEHsUbgezd3gQNejcD1qRfJAexSuR5EO4kBI4XoUykP7QFK4HoWrQNlAAAAAACCcBUHXo3A9ikPeQDMzMzOZtgBBcT0K1596+kBxPQrXyxAAQa5H4XrMfwNBH4XrUfRcAUHNzMzMKNr5QHsUrkf3tgdBUrgehTe++UDD9ShcWzoFQQrXo3B1/P1Aw/UoXK++yUBmZmZmZi8BQdejcD0KLvNA4XoUrvmvBkEzMzMzT1H/QMP1KFwrHQFBXI/C9Ziz30AzMzMzb84DQc3MzMysyN1AMzMzM4sK9kAK16NwzdnfQEjhehRy8QdBSOF6FK6Z0ECF61G4nsDuQGZmZmbiqQZBH4XrUTzh8kC4HoXrqcP3QHsUrkclavBA16NwPTqNAUG4HoXr0fXyQHE9Ctc/wvVAzczMzKxJ8UDD9ShcnyPRQHsUrkdR/tRAexSuR9F0/kCF61G4bprhQD0K16MOigFBPQrXozRlAkEzMzMzu88EQcP1KFxH2fdAXI/C9QAi6kBI4XoUTrDNQFyPwvX0CAhBexSuRyFps0DD9ShcT53ZQPYoXI+SXABBCtejcIcsCEEpXI/CrUT9QGZmZmZyPwBBj8L1KFiIBUGkcD0K35QHQR+F61FgiP5APQrXo7x9AUFmZmZmRkz1QNejcD2e5PZAw/UoXFe49UCkcD0KZxLeQB+F61FAMvJAexSuR+Gb+0A9CtejgM/fQK5H4XocxP9AUrgehSeR+UDD9Shcz2/MQGZmZmZmtoJAcT0K1x+q/0Bcj8L1YLvhQBSuR+F6aJFA9ihcj6ZS8UDhehSu7+/xQKRwPQpTW/ZAZmZmZualqEBcj8L1vIf1QI/C9Sh0BP1ArkfheoiU/kApXI/CDQ3jQLgehesjzAFBKVyPwoGbBEEAAAAAoObxQK5H4XrYwPtAMzMzM/tr/kAK16NwPQbGQOxRuB5lrQBBhetRuL438UAAAAAAiGHpQB+F61GQtPtAexSuRznw50C4HoXrj9ABQaRwPQpnkthAZmZmZkx0BUEpXI/CxVHYQM3MzMy6twRB9ihcj2zrBUFxPQrXmyj8QArXo3B9gOdAcT0K1+ehA0HhehSu/7cBQUjhehQu9gdBAAAAAKy7A0HXo3A9uqn0QEjhehT2dwNBFK5H4YrY4kDD9ShcrynbQK5H4XqqcgZBmpmZmR0wAUHXo3A9zOQBQXsUrkfJj+NA9ihcj6IhBkG4HoXrgYr0QIXrUbjSHghBexSuRx3A/kD2KFyPlmzyQPYoXI9IsgVBKVyPwnXou0BI4XoUvv8CQWZmZmbg0wNBexSuR+FUyEBSuB6FiyLNQIXrUbhAPQZBMzMzMwO8/0ApXI/Cx8kHQSlcj8IxsPxAzczMzLw6A0FI4XoUTpz2QArXo3AtRvJAAAAAAFAb/0DNzMzMBP3wQLgehevxRAhBMzMzM5naA0EfhetRyNr7QM3MzMzEz/BAUrgehSuLz0AfhetRsCH8QGZmZmbs0wRBUrgehbMr+UCuR+F6fg4FQdejcD2a7uJAexSuR0ny5UCamZmZvdIBQcP1KFyzxAFBPQrXowKZB0F7FK5HOajjQM3MzMy8yuZACtejcP/IAkF7FK5HRSz5QMP1KFyHo+xAKVyPwoFe9kDhehSuJxzwQKRwPQpTy/tAZmZmZn6B8EBSuB6F/8EBQcP1KFx7Sv5AuB6F6+F68EBSuB6FPzfzQD0K16Ou5QRB9ihcjyo8AkHNzMzM+H74QLgehevRowJBZmZmZh4d5EA9Ctej4i0AQR+F61G4pvdAKVyPwouXAkEfhetRAEHoQNejcD1sWwBBmpmZmdmi6ECkcD0KhwTQQHsUrke9jfBAcT0K1+MMwkDhehSum4/4QGZmZmbiGvhAhetRuPCZA0EzMzMz82fZQB+F61Ek2QZB7FG4HnU660BSuB6Fg4TyQKRwPQovr+NACtejcA1O10DNzMzMnBbpQClcj8L11vZAH4XrUTyuBEHD9ShcTxe7QM3MzMzszdhAH4XrUQQt8EBI4XoUUgH8QClcj8KvVANBhetRuHweBEFSuB6F/SAAQZqZmZlr5gFBXI/C9QAJ9kApXI/CbQHhQIXrUbiejtVAhetRuNLO+kCamZmZ6Yf4QArXo3CFyPdApHA9Cvej10D2KFyPyuDwQLgehetxUMJAZmZmZtYE5UBxPQrXE17UQClcj8JF1QZBXI/C9ZAV6kB7FK5HqRLiQNejcD3q3fVAhetRuM5MAkGPwvUorKTRQClcj8IVSNpAKVyPwj0uBUFSuB6FC+sBQbgehetRaZBACtejcDXf9UAK16NwVSryQMP1KFwvkepAcT0K1yN/rECPwvUo1EYIQXsUrkeRFOpA16NwPZ7JB0GkcD0Kp10CQZqZmZnhOexA7FG4HuVA+kA9CtejyrAHQRSuR+GS0f5A4XoUrpNCBkHsUbgepXD9QM3MzMxMsuhAw/UoXPci9UDXo3A9grkCQQrXo3BZM/xA4XoUrgcQ9EDhehSurxzvQFK4HoXPQghBj8L1KBxXtkCkcD0Kp5bTQHE9Ctd31ARBpHA9Csfj3UCF61G4bibiQPYoXI+qy+RArkfhevRO8EDXo3A9pt74QAAAAACAEOhAmpmZmVnN2kCkcD0Ki0bxQB+F61Fgg/lA4XoUrv8wBEE9CtejzLr7QK5H4XpMc+ZAFK5H4WKOAkGF61G4XuLyQJqZmZlBG+dAzczMzJTu4kCPwvUoXOrXQNejcD0KQcxAcT0K18PU7kApXI/CTXDkQOxRuB49Hf9A4XoUrn+L9ECuR+F6dJzsQFK4HoUDL+JAFK5H4ar1+0AfhetRVLbxQIXrUbhEkgVB4XoUrr+oAkFmZmZmuunxQBSuR+E6K/FAcT0K16PfwkB7FK5HlWUBQaRwPQr/9fxA16NwPQKz8EApXI/CvSX8QLgehet3zARBhetRuCqT+0AfhetRTHzzQLgeheuxZdNA7FG4HpdcA0GkcD0KZVcHQYXrUbhmPe5APQrXo2BX7EB7FK5H0bnVQHsUrkchtt5AFK5H4d7tAUEUrkfhHlf8QKRwPQpf/PFAw/UoXH/w9kDXo3A9MGYDQQAAAACOMQhBcT0K1wO0yUBcj8L16DSyQLgehest/wVBPQrXo+DF7kBxPQrXuwv9QBSuR+Fk4gJBhetRuJLS90AAAAAA0OvnQOF6FK43HwFBrkfhetjI/0CuR+F69NbPQPYoXI8m//5A16NwPfRgA0GamZmZ4V4IQeF6FK6FnAFBH4XrUQQB+EBcj8L1IFDvQIXrUbgoHwZBPQrXowj/A0GuR+F6CO4EQfYoXI+C3M5APQrXo2wi+UDhehSuM1oFQQAAAABClAdBAAAAAADHtkAK16NwqRf0QArXo3Dp5/9Aw/UoXKfS6UBxPQrXn9fwQEjhehTmROFAUrgehY/0B0HXo3A9jNYEQfYoXI/W4P5Aw/UoXBF8A0E9CtejGtoHQc3MzMzuigRBSOF6FCTaAEFcj8L1tGDxQJqZmZmJIOtAj8L1KEz23kAK16NwN7gGQdejcD3i3wdBj8L1KCxs6kAK16NwjSL/QOF6FK73aO1Aw/UoXHMmA0EUrkfhAFAGQQAAAACoqf9AXI/C9UzM+0C4HoXrZYYGQcP1KFyfo+FA7FG4HkGe/UBI4XoU9qgGQbgehevRXfFAFK5H4RpF30DhehSuR94DQa5H4XpUYgVB4XoUrl2eBUG4HoXrZTbwQLgehev5FO1A4XoUrjF0BUFmZmZmOkcFQa5H4Xom9gRB7FG4HpMdB0HNzMzMYA8GQdejcD0ej/xAUrgehYuYBkGkcD0K3xzhQAAAAABgs+FAAAAAAGgw+UAK16NwIfH9QOxRuB6ZA/5AuB6F67EawUA9CtejZLX+QOF6FK575/1AH4XrUZiY00DNzMzMJBbrQEjhehReBuNAmpmZmXkm70AK16Nwo+cDQY/C9Sis9NlA9ihcj8LKs0DD9ShcjSYBQXE9Ctdn1wFBUrgehaFUCEG4HoXrhWD5QBSuR+Eq2QBB4XoUrt/A8EBxPQrXQ33bQEjhehQOgABBw/UoXJ9z/ECkcD0KK9z5QLgehesxifVAH4XrUShF2kDXo3A9CkyrQIXrUbiyoPtAAAAAACDf0kCamZmZdScHQQrXo3DtxNlAzczMzEjy+UCPwvUo7PrlQI/C9Si+LQVBhetRuL6s6UCPwvUoGt0BQSlcj8KPSgZBMzMzMxUoCEF7FK5HoVG4QClcj8KdRP5AMzMzM5vGBEHNzMzM5OD7QK5H4XqkY9pAAAAAACAI7UB7FK5HcyUEQXsUrkcr0gJBcT0K14d5AEEAAAAAyArwQFK4HoXjp/xApHA9CnP48kCkcD0Km68FQWZmZmZOw+1AMzMzM6eLAkGF61G4rrPZQOF6FK4tAwJBhetRuOK9/kBcj8L1mkoHQexRuB7FkcVAzczMzMAT/UDD9ShcGSkBQWZmZmZ+bOJAuB6F61HynECF61G4jgAFQRSuR+G4TgBBCtejcHmHB0GPwvUoIqkHQaRwPQr3O+tAPQrXo4T4+EBI4XoUrvTlQI/C9Sgo1QRB7FG4Hs8QCEEzMzMzP3sHQQrXo3DRPAFBrkfhetCM+EA9CtejWO//QOF6FK7vm/ZAexSuR01D/kAUrkfhZhb5QGZmZmbKKfdAmpmZmb0l90Bcj8L1DJDwQHE9Ctcjpa9AAAAAAEpwAEGkcD0KeSwGQRSuR+FaQOBAAAAAAEBP20CuR+F6eK/wQPYoXI+IMAhBMzMzM9MHCEGuR+F68Gv9QGZmZmaWKd5AexSuR2FvpUBcj8L1FHsEQexRuB6lKQBBw/UoXDmhAUEAAAAApB4GQSlcj8IxTgZBUrgehQuD/UBcj8L1OC/aQEjhehTKSvBAUrgehSOe+EBcj8L1dFL6QHsUrkc57eBAhetRuK70AUEzMzMzywniQHsUrkcxE9BAj8L1KFRF5kAUrkfh0JMGQSlcj8JtVudAMzMzM68FCEEK16NwjSsFQSlcj8Klr+FAmpmZmZFUBUHNzMzMtGPwQNejcD3gOQRBmpmZmR/EB0EAAAAAWJ//QJqZmZl54gFBKVyPwgVF6UBI4XoUVkvhQOF6FK53UexAAAAAAIxn+kBxPQrXB0gEQc3MzMyc1vhAhetRuNZF4EAK16NwQc/zQMP1KFxpHAFBuB6F64tTBEGamZmZCTT5QD0K16MAev1ApHA9CjfszkCamZmZIwsHQfYoXI866ftAH4XrUfAoBkEfhetRCA/5QMP1KFzJWwNBuB6F6xHRBUGkcD0KG8sCQVK4HoXb6+9AZmZmZqIk+UCF61G4Hq4AQUjhehR60PJAexSuR4HQwkBSuB6FCz3lQLgehevRstdA4XoUrkf77ECkcD0Kd5vbQIXrUbjSeQFBMzMzM9O500AK16Nw3bvnQIXrUbhau/VAexSuR0k+7UBI4XoU/gn6QK5H4Xq8GANBj8L1KByc10AzMzMzYz7lQM3MzMwuHQBBw/UoXAun80Bcj8L1OLf1QClcj8LVr8hA9ihcj4IC90B7FK5H4SzHQBSuR+FORAFBrkfheo4+AkEAAAAAZED9QBSuR+E6V9hA16NwPcwGAUHNzMzMlCbkQHE9CtejHZVASOF6FA4BAkEK16NwcST7QNejcD2ybfdAZmZmZh4P5UDhehSuV84AQR+F61E8uQJBj8L1KEyZ90D2KFyPokb8QAAAAABQgeJACtejcDe6AUEUrkfhYiDkQPYoXI867uxAuB6F67mA/EBSuB6Fm2H8QPYoXI866e1AcT0K1zdPAUGamZmZ5Q75QOF6FK5HzclApHA9Ct9b4UBcj8L1UIH5QD0K16O+cgFB16NwPfLcB0EAAAAAQNjuQLgehesBeuxA16NwPZiyBUFcj8L1KCzTQMP1KFwP/tFAuB6F63F00kAfhetRcOX3QI/C9Si82+5Aj8L1KECF8kDD9Shc5zHzQIXrUbiOC9dA9ihcjyJKykBxPQrXk4fTQKRwPQqdlwZBpHA9CjuUAEH2KFyPapvlQGZmZmbspABB4XoUrr+66UCuR+F6cOT2QGZmZmZUJwhBmpmZmc31/kDNzMzM8GjzQK5H4XoIuf9AXI/C9bRfBUEAAAAAuNT/QAAAAABgtAJBmpmZmV0r+0CPwvUoLDLoQJqZmZn97fdA7FG4HhWa9UAfhetR9FPwQHsUrkexONhA16NwPQrQ1EDXo3A9vjkHQXsUrkeVyvFAzczMzJQ07EAK16NwHez6QArXo3CFGetA9ihcj6IY7ECPwvUoBBH2QJqZmZlld/1A4XoUrme7BUEfhetR8hcGQeF6FK55+AJBw/UoXI9x4ECuR+F6JOT1QI/C9ShkJP9AuB6F64nd8kAUrkfhGkn6QGZmZmZmdwZBw/UoXGtX9kBcj8L1OFT1QOxRuB4RsPxACtejcJUMBkHD9Shcb9L2QNejcD0K//tAPQrXo/AlykCPwvUoxCUFQVK4HoVL6dpAhetRuF6wtUC4HoXrPY/1QB+F61HoiuBAXI/C9a4lBkFcj8L19A/5QIXrUbi2kvdA16NwPbAdB0FI4XoUzhfJQD0K16NKggFB9ihcj351BkG4HoXriaUEQc3MzMwu8QNBpHA9CtcS/kBmZmZm5g/QQDMzMzPjOwVBexSuR9V0B0GkcD0KgzIIQXE9CtcraPBAFK5H4V7L8EC4HoXr5w8CQXE9CtdtqQNBKVyPwlkw/0Bcj8L1Um0HQTMzMzP/rQZBH4XrUdCHBkFmZmZm6tj/QM3MzMw4O/RAKVyPwoHnBkF7FK5H+bbrQPYoXI+KsOBAAAAAAIpaA0FxPQrXD0IGQQrXo3D1jPRAMzMzM3Ot1UAUrkfhSCYHQexRuB7b2wJBcT0K10v69UDNzMzMghQIQXE9CtdDL99AH4XrUdgZwUCPwvUohMrpQArXo3AditNArkfheuTl4ECamZmZQ6cFQexRuB41OgRBzczMzIh+BEFcj8L1FEAAQexRuB4xJQFBuB6F61lE7UDsUbgeZXjHQHE9Ctcz1vNAzczMzM5gAEGamZmZiSr3QHsUrkeBcgVBexSuR2mf90DhehSuN0H/QBSuR+F67gFBZmZmZuICAUEfhetRONemQI/C9SgImf1ApHA9CtcKoEApXI/Cde64QKRwPQrxYANBKVyPwsUS8kAAAAAAeIjlQAAAAADA6tBAUrgehR1eBUHNzMzMpt4BQZqZmZmZQ6NAzczMzORW50CF61G41jUEQRSuR+H6zfFApHA9Cs+v4kDsUbge0YP9QOF6FK7J/gZBKVyPwt1L60AK16NwvauxQPYoXI8y8/hAFK5H4WK17UBI4XoUHvPYQB+F61HyaQBB7FG4HvUyAEGkcD0KJ3vyQBSuR+GmyvlAAAAAAJzw+EAfhetRrFgEQZqZmZmpptdAAAAAACiY/EBmZmZm/lPpQK5H4XoQlvRAj8L1KKqOA0GkcD0Kc6f1QGZmZmYm67dAH4XrUSx6BEEAAAAAYH3xQI/C9SiELQhBCtejcF3Q6kDD9ShcGUYHQQrXo3C1NulASOF6FFYi/UDXo3A9cgf/QNejcD1S1vZAPQrXo5jM9UD2KFyPoo36QAAAAACQk9tAKVyPwk2q4ECamZmZWfa+QHsUrkeRsNpA16NwPdKH80C4HoXruYToQFyPwvUAv+1AZmZmZh4iCEHhehSum6j2QHsUrkfh9QNB16NwPSJ+7kCamZmZgUX8QBSuR+F68fpAFK5H4Xo280A9CtejoFf/QFyPwvWE8wJBH4XrUbQm/kD2KFyPBmX4QOF6FK4vBepACtejcGWC8EDNzMzMjAPHQI/C9ShMeO5AcT0K19+7BkEzMzMz30nzQNejcD0yrwFBAAAAAJBP90BI4XoUrqOJQHE9CtfPVQVBKVyPwpWPwUDXo3A9itqlQBSuR+HKx9VAPQrXo9AdCEFI4XoU/obWQFyPwvWwOgdBhetRuPKg+0DXo3A9knb+QHsUrkcRbf5APQrXo+g36EAAAAAAnHsCQRSuR+FCBf5ApHA9Ch/g60DhehSux4y+QHsUrkcjNgJBKVyPwndvAEFxPQrXoZQGQYXrUbhW4P1AMzMzM3OV80C4HoXr0YDLQJqZmZnzVghBFK5H4XrzvUApXI/CWU3yQM3MzMz83d1A16NwPZZFAkEK16NwgZ/2QM3MzMy45QBBZmZmZmaYqEAAAAAAbCkIQQrXo3ClO+JAZmZmZpZt80AfhetREh8IQexRuB4VX/VAFK5H4fJS5ECamZmZx4oEQRSuR+Eiwv5AXI/C9SgkgUA9CtejiHX3QIXrUbi2UPpA9ihcj7IH1ECPwvUo0HAHQWZmZmbC2vxAmpmZmScjB0EK16NwBR/vQLgehevFX/dApHA9CjM8/0BSuB6F9ZwHQaRwPQr/IfZAuB6F67GRx0CPwvUo7HXqQOxRuB5lpexAKVyPwu1s4UCkcD0Kd+jLQOxRuB6F625ACtejcP0R80DXo3A9tmvzQClcj8KVlwdBw/UoXEek+UAfhetRqFj8QIXrUbhm9+lAZmZmZpg0AUGuR+F66PkEQc3MzMzQIv5AexSuR30cCEFI4XoUlFgGQUjhehSuLdZAZmZmZnLr8EDNzMzMPBvvQI/C9SjYbPxAPQrXo7iB7EB7FK5HFacFQVyPwvVQT+FACtejcGsYBEFxPQrXG0sFQQAAAAD89fZAAAAAAPQS/UCPwvUoAo8GQeF6FK63UfJAj8L1KOyd7kBSuB6FFU0HQZqZmZnddPZAPQrXo5Ru9kDsUbgeBc67QDMzMzMz38ZA4XoUrgdM2UBxPQrX9zf1QKRwPQoXZ8VAZmZmZuaetkCkcD0K/+zkQBSuR+E6RPNAAAAAABDg80BxPQrXpeEFQY/C9Shkl+RAexSuR6HK7EDsUbgelRH5QB+F61EYp/5APQrXo8Ac6kCPwvUoQDcIQSlcj8JVw/lAAAAAAKAe50D2KFyPMtQFQXsUrkf9m/FAPQrXo4L1A0GPwvUo+EQHQfYoXI+wLgFBexSuR7MoAEHD9Shcv1fqQOF6FK7rx/1Aj8L1KL64AEF7FK5HNez7QDMzMzOrdu5AexSuR/Hc10DXo3A9Kk7FQOF6FK4XNvZAFK5H4W7K80D2KFyP2uXtQFK4HoVb9/5Arkfhekg9/EBmZmZmbvTiQD0K16MoPfVAuB6F6yfUB0G4HoXrLQcAQaRwPQoznvhA16NwPc5JCEFmZmZm3kjkQOxRuB4B4PxAH4XrUST98ECkcD0K6UMCQQAAAADC5wFBCtejcEk2AEGPwvUo7AjcQD0K16MkkPlAFK5H4Xpk8kDhehSu37MAQVK4HoXP+QBB9ihcjz4i8UA9CtejAFz8QHE9CtcHRPRAj8L1KCQCB0H2KFyPHlIAQUjhehTCnvFASOF6FI5SB0EAAAAAOI3nQFyPwvWkVPNAZmZmZljRA0GPwvUonLu9QM3MzMygs/VAFK5H4SIr70A9CtejYB7zQOxRuB5dgeJAuB6F6wnqBUHD9Shcb+r/QB+F61HSQQhBAAAAAHTc9UDNzMzMzO+iQD0K16M2AwZBexSuRwlNBEEfhetR6C7dQFK4HoXpcAdBw/UoXI+7mkBI4XoU3n8AQYXrUbj2u/RA16NwPcJMAkE9Ctej4Ij1QK5H4Xqc+gNBFK5H4ZZz+EApXI/CxYTfQOxRuB69++9AexSuR4UeB0FxPQrXU1b8QNejcD2sEgFBrkfhesCZAUEAAAAABEYDQc3MzMx0jvFAAAAAADj95UAK16NwD14CQZqZmZnZ2v5AUrgehdsE9kAK16NwEeT9QHsUrkcdO/5AmpmZmVlRxkCF61G4dhD8QGZmZmbgiQZBH4XrUfQ69kBmZmZmevL2QLgehevxcfxAcT0K1zlFB0G4HoXrFWkIQcP1KFxZFQFBw/UoXC84wUApXI/CFY8AQSlcj8JVANhA4XoUrosFAEHD9Shc8RoBQQAAAADeiARBPQrXo9j6BEEfhetRWD3xQM3MzMyky/xA9ihcj4q49ECkcD0K15XtQAAAAABAfsBAPQrXo+ZsA0GkcD0Ka8zyQOxRuB51Q+tAUrgehaGrBUE9CtejMHTmQKRwPQo3ce1AXI/C9ai7B0EfhetRDNj2QArXo3Dd8eBAMzMzMzOZ6kCF61G4ctH7QPYoXI/6wwJBSOF6FD6r0kAUrkfhqnr7QAAAAADYGudA4XoUrk/q4UCF61G4ahr6QDMzMzMdwAdB4XoUrus89kBmZmZmil76QI/C9ShcCgVBFK5H4drMBUGPwvUo3CjfQFK4HoWLetJAmpmZmbf4AUFcj8L1KAuXQBSuR+E6V9hAMzMzM4Pk5kCF61G4Znn/QI/C9Si0tPlAMzMzMy2/AUGuR+F6CFf5QD0K16MQXfFA16NwPfKM6UDsUbgepRkIQQrXo3CtUPRACtejcFuSB0GPwvUohI8HQVyPwvX6OwNBAAAAABib+kCF61G4fgkCQZqZmZkZ4tpAPQrXo+jP4UA9CtejsPveQI/C9SjoiPdAzczMzDQJAUHNzMzM/DH3QFK4HoX30fhApHA9Clft+UCuR+F6XKrnQBSuR+FSjQJBFK5H4Tr0yUB7FK5HsSLWQFyPwvVw//hAMzMzM2OP8EApXI/CpXv2QEjhehT4NgFBzczMzOxx+UBmZmZmWPkHQcP1KFxP0rpAKVyPwp368kAK16NwTej5QAAAAADAy/xACtejcC2IBkE9CtejlFYIQbgeheuxYchAXI/C9Sjh1UBcj8L1cK32QClcj8IvuAFBmpmZmU93AEE9Ctej1K/6QFyPwvVgvwRBFK5H4dq12UApXI/CHeTqQEjhehTuvfBAuB6F6/lY5EB7FK5HgTzIQBSuR+HysPBA9ihcj0Y08kA9Ctej8DbaQAAAAAA2IwNBKVyPwm145kDsUbgeG8ABQYXrUbjmUQNB7FG4Htk48kB7FK5H4bnbQB+F61EMoAFBXI/C9dA890B7FK5HwYXOQPYoXI/sHwJBMzMzM1+F80CkcD0Kuxb5QFK4HoVjp/9A9ihcj4rZ40CF61G4mMMFQVK4HoUTGgBBZmZmZvb0/EDXo3A9SgzLQDMzMzO73ARBrkfhetS0yUBI4XoUhlzzQK5H4Xqoo/1APQrXo0DC1kBmZmZm6jDyQEjhehQuJutAXI/C9fZrAEFI4XoUANsHQeF6FK5vFe1A9ihcj3Lk4EDhehSun1DtQLgehevrjwdBpHA9Cpd950CPwvUorE7zQHE9CtdDg+JACtejcB028kBSuB6Ff0H0QHE9CtcJnQdBH4XrUXJpB0HD9Shcf5L2QGZmZmb88gJBKVyPwvUAwkCamZmZXXj1QK5H4Xqg4wZBrkfhevjvBEEAAAAAAGHaQAAAAABAUPFAFK5H4RrX8UAK16Nw+az1QBSuR+GiwwFBSOF6FE7V1EAfhetRcMrmQAAAAABAwrJAUrgehfsj+UAfhetR+l4FQRSuR+EWHABBUrgehQuvy0AAAAAAYAnOQB+F61Gu8gVBFK5H4drt9kCPwvUoIEr4QBSuR+HiqeZASOF6FD6IAkFmZmZmhgjNQLgehes/8wZBcT0K1/v390AzMzMzOxb6QMP1KFxDXPJAZmZmZoBRAUEpXI/Ctb+7QNejcD3qDMJA4XoUrm1AAkH2KFyPeu8HQQrXo3CvSARB4XoUroc160BxPQrXxxUAQZqZmZl5EctA7FG4HmE19EAUrkfhsgvrQOF6FK4LGvRAcT0K18vsA0EpXI/ChYsAQVK4HoVvH/RA16NwPSbDB0Fcj8L1aAbrQKRwPQpHU9BAMzMzM62QA0EpXI/CD3kFQXsUrkeNH/BAzczMzGCC9kCF61G4CG8AQdejcD3S4+hAKVyPwpX8BEHXo3A9Ikf0QI/C9Sj2/gZBuB6F63EsCEFxPQrXo36QQFK4HoWpQQBBPQrXo54tB0EUrkfhug7fQM3MzMxOMQBB9ihcj3rp6UDD9ShcjwyOQKRwPQpXavFAPQrXo7BE0EBSuB6F40fyQM3MzMyIXvtAzczMzKyk50A9CtejhMoEQbgehesJZ+JAuB6F64GsAEE9CtejGMDnQDMzMzPX6vVAH4XrUWiS5EApXI/C3cQGQc3MzMzcY+RAcT0K18dSCEF7FK5HV7wCQWZmZmZGrtRAFK5H4b7vAEEAAAAAQEbZQDMzMzNTOvBAFK5H4XRqAUHhehSus0j5QOF6FK7T3vBAMzMzM2sK7UC4HoXrvYMAQeF6FK637uJA9ihcj+LkAEEfhetR4Af7QHE9CtcX8fxAhetRuHIU/kApXI/CDWn4QOxRuB6de+xAzczMzFTb6EApXI/CdSj/QB+F61EOtgRBmpmZmQOzB0EK16NwLWvhQLgeheurpwVB4XoUrut9A0EpXI/C974CQeF6FK5/l+lAH4XrUWBX80Bcj8L1eNPfQClcj8IZ5fZAcT0K1196+0AUrkfhulIHQXsUrkeTxgJBH4XrUezZ+UBSuB6FN3j3QEjhehRuiM1AexSuR3GX0EAK16Nw6XgBQRSuR+GOyfZAuB6F61F6w0CuR+F69NzdQMP1KFz9YghB4XoUriX2BUEAAAAAMNL4QHsUrkcx7QRBCtejcNWU+0CkcD0K00gHQXsUrkdP6QZBUrgehWm0AkH2KFyP4sTLQOF6FK43qu9AexSuR9WLA0EUrkfhgN0AQa5H4XrMY+9APQrXoyiT80CPwvUofLz4QClcj8Kpp/ZA16NwPYIb70BI4XoU7gv7QB+F61HYDcVAKVyPwslfBkGPwvUo4D3wQDMzMzMfM/5AMzMzM6EBA0GamZmZFQr0QMP1KFw/uf1ASOF6FFQYBUGuR+F6BnsDQT0K16Mod/pAmpmZmSXh8kAK16Nw/YPUQJqZmZk5W8JArkfhemY8BkGamZmZ2fv6QOF6FK4fKulAFK5H4UpH6EDsUbgecSTwQFyPwvUIJeJAZmZmZhgpCEEzMzMz09HvQNejcD3CFehAuB6F6/m/5EBcj8L1vBMCQTMzMzOz1MJAXI/C9WIfBEE9Ctej+joAQT0K16OEfQBB16NwPYpZsUDNzMzMJloFQR+F61G4D5xAUrgehc8ABkFSuB6FI8ACQTMzMzM9KAdB16NwPZ418EC4HoXrQf3dQArXo3AdVvFAKVyPwk12AUG4HoXrUWaYQDMzMzN7RehAmpmZmWkj3UAUrkfh2qjBQGZmZmYILAhBzczMzM6DAUFI4XoUJN4BQQrXo3AV4fhApHA9CnlzAEHD9ShcX0n5QB+F61Hc/wBBuB6F6wPsBkE9CtejcHu/QIXrUbguXP5AKVyPwvGk+kApXI/C7RL0QHsUrkf5sQBBzczMzOL7AkEfhetRQqYBQexRuB43HgRBPQrXoxCm+kAK16Nw5Qr1QFK4HoWP4/lAw/UoXEGCBEEfhetRyEjgQArXo3DVMP1A9ihcj2YCB0F7FK5HFTAEQQrXo3BdsctAzczMzHDj90DXo3A9+gr9QNejcD0CvehA7FG4HietAkEAAAAAsADTQClcj8JNJPxAzczMzOw82UA9CtejcgYCQYXrUbjydgBBMzMzM3t64UA9Ctej7DnwQHE9Cten/PBAw/UoXOcw+UDsUbgey5sFQZqZmZkp/OlAH4XrUSLeA0EpXI/CtZjkQOxRuB6F+N5AuB6F61Fu2EA9CtejAHX5QGZmZmbGlPRAuB6F62m1AEFSuB6FiVcIQbgehetf6gNB16NwPYqpAEEzMzMzM6vDQNejcD2kMwdBexSuR7F47ECamZmZKcnyQFK4HoU7bupAZmZmZtbf6UBxPQrX98EDQT0K16NqAwVBpHA9CtNg/kBcj8L12GXYQOF6FK6/KvVAKVyPwgGg/kAzMzMzk3HCQK5H4Xoo6QdBXI/C9RS8+UDNzMzMMIP4QI/C9SjcrudA7FG4HnX15kCPwvUoPI/nQMP1KFxrmPRAzczMzBLSAUGuR+F6ZJ71QAAAAAAA6qdAAAAAAJAX5UAUrkfh+jvrQOF6FK7tXQBBPQrXo9I6CEGF61G4TlX8QHE9CtcvFP5AH4XrUZzI9EAUrkfhtgsGQZqZmZkxQQhBKVyPws325EAzMzMzlwb8QGZmZmY26O5A7FG4Ho0v7kAAAAAAYPb4QB+F61EW6AJBZmZmZpgtAUFxPQrXS8nxQHsUrkdV7vRAMzMzMynZA0HsUbgeuSjyQClcj8LpIQVBj8L1KFQ78EAzMzMzs6j2QFK4HoVjxeZAKVyPwuF5/kCF61G4emUEQa5H4XpM+QNBSOF6FAoDBUEK16NwKeoDQSlcj8Ix8/ZACtejcH3jAEGamZmZga7gQMP1KFwr4PdAzczMzKiA8kCPwvUoYLMAQVK4HoWbmPRA9ihcj0KdpUBI4XoUjusDQdejcD2yCwZBzczMzJgN8UBI4XoUbnTTQOF6FK61BAJBcT0K1wPN/kCkcD0K1/jmQD0K16OkiQFBXI/C9QygAkFxPQrXs1sHQeF6FK4nzctAuB6F6y0F80AK16NwHf3rQIXrUbhugtpASOF6FC5I2kBSuB6FC9vZQDMzMzMbXvNAuB6F61FMykDNzMzMXN77QM3MzMwcgABB7FG4HoWPkkDD9ShcpYcGQY/C9SjsTeBAzczMzCwLwkD2KFyPYl/bQHsUrkfJ5ORAhetRuGbV8kAzMzMzX9kBQRSuR+H+HvFASOF6FEYgAEG4HoXrXRT2QFyPwvVk0PtA9ihcj2KJx0BSuB6FM2vvQDMzMzNVUghBhetRuKpz8kApXI/CbTXlQOF6FK49XgZBAAAAAC7ZAUE9CtejaK/jQIXrUbiukdBAuB6F6wGu80DXo3A9WsjSQHE9CtexhgBBFK5H4aqh80BI4XoUDkjRQOxRuB6FjdFA16NwPUIPBkGF61G4ZoDrQBSuR+Hi7vJA9ihcj25hBEEAAAAAmn0GQfYoXI+O2ftAexSuR+vJAkFSuB6FK1CwQB+F61GacwFB4XoUrsPC8kA9Ctej8n8DQexRuB7FuAVB16NwPbJYBEEfhetRCO3lQK5H4Xr0wMRAmpmZmau5BEFSuB6FG1foQArXo3B9IelAuB6F61H+hkCamZmZ/UYGQbgehetF/fxAhetRuJ76ykBmZmZmStz/QDMzMzMTpMtAZmZmZjJZ8ECkcD0K28T2QNejcD0y/wdBrkfhehQC5UBI4XoUEr3/QFyPwvVopcdA9ihcj4rH5EAK16NwTyoIQSlcj8J1fchA4XoUro8o4UBmZmZmrrf8QB+F61HAfu5APQrXoxCi+kDsUbge218BQRSuR+HIlQdB16NwPRpb50CuR+F64CHxQIXrUbgElAVBAAAAAAyX/0DsUbgeVeb3QIXrUbhwgAVB4XoUrtva+0CuR+F6nlMDQXsUrkex6thAcT0K1zsJ7kAUrkfhKhTtQDMzMzPT6vpAPQrXowgpAkFxPQrXYxbAQNejcD3KR8ZAFK5H4YJC6EB7FK5HDZ7wQPYoXI86AgRB4XoUrkeDjUDhehSuXaYGQRSuR+HuJgFBj8L1KGAZBEEpXI/CnfrxQHE9Ctc7sONA7FG4Hqc4BUHD9ShcacYBQexRuB7dWwVBAAAAANYXAEGamZmZIfr6QArXo3CL9AdBw/UoXF/DB0EAAAAAVEn0QOF6FK4nqOlAAAAAAHAW7UBcj8L1pF74QFyPwvU+HQVBcT0K18XNBUFSuB6FC30DQT0K16Oowe1ApHA9CjXFBUEzMzMzzWEHQTMzMzOXzfxAzczMzLQ86EBcj8L16DDLQFyPwvVoJAVBAAAAAALPAEE9CtejqLPzQHE9Cter0/FAuB6F6xly80DXo3A9lEkEQZqZmZklCPlASOF6FJYh8kDXo3A9prz+QDMzMzMTbvRAAAAAABxL+ED2KFyPwqT2QHsUrkcxb9tAexSuRxHM/kBxPQrXjwUHQQrXo3BFi+tAcT0K12et9EDD9ShcL9sHQfYoXI9U1QBBKVyPwmU780B7FK5HWykCQfYoXI+CPOFAFK5H4aoOCEHNzMzMzB/xQOF6FK4D9gdB4XoUrkdXmEAfhetRiGjXQK5H4XqcAAZBKVyPwo0vAkHsUbgezX/jQOF6FK4/PQBBj8L1KBzP6UAzMzMzM0mNQFK4HoXzjwdBFK5H4VpO4kAzMzMzazz7QMP1KFxPJbZAPQrXo6Sg8EB7FK5Hqdz4QAAAAAD02/FAzczMzIQp4kD2KFyPwou+QArXo3BdltZAH4XrUYYnB0Fcj8L1qEHwQPYoXI9C0aZAFK5H4U5o9UCPwvUo0FcIQRSuR+HK2NtArkfhekiv9kBSuB6FTTUIQSlcj8KduuFAcT0K10tg5ECamZmZ2aneQK5H4XoEZO1AAAAAAJBh3EApXI/CRSHcQNejcD2yVQBB16NwPfaKAkFI4XoUgm4EQXE9CtejS95APQrXoygSB0FxPQrXo0qgQMP1KFz7L/FAmpmZmd/lB0FSuB6FW1IEQYXrUbiiiPRAFK5H4crh80CPwvUohFP0QPYoXI82sfxASOF6FEpn80BSuB6F4R8FQRSuR+E6qPhAAAAAAOj5/UBSuB6Fq7fGQGZmZmZ8iwRBzczMzAwuwkApXI/CL7ICQXE9CtcDafJAZmZmZma4AkHD9Shc26wCQXsUrkfhtbVACtejcE+4B0EfhetR/CL3QMP1KFyPE5hAcT0K12Oss0CPwvUoDIbxQI/C9Shs7tZArkfhenJ1AUFxPQrX+7MDQVK4HoUzv/5AexSuRzW08kA9CtejyLgAQXsUrkdPNAFBKVyPwiWE50AzMzMzl7//QBSuR+FGYPZA4XoUrpfA/kBcj8L1lODxQM3MzMwM+9NAH4XrUSDs80CuR+F6dBPBQOF6FK7tywFBcT0K14+i/0AfhetRwjIHQVyPwvWwbfVAXI/C9fBL40A9CtejnjIHQY/C9SikLgJBj8L1KJ6LBkGuR+F6EoMBQQAAAACwh9pAXI/C9QZ3A0E9CtejbDPxQAAAAADQS/dAzczMzI7yBkFmZmZm3pz2QHE9CtenaQJBzczMzBQE9kB7FK5HGc7gQEjhehT+zvRAFK5H4XIM/UDhehSuw0/7QFK4HoUDR/RASOF6FK4zmkCuR+F6ZFbfQKRwPQq3R8pA9ihcj2JI2EApXI/Cxbj8QOxRuB4VJfhAMzMzM+vr+UBxPQrXS6bmQOxRuB7xlgZBrkfheqxv50A9Ctej7PH/QJqZmZmx8+NAuB6F6wH6BEHsUbge8cT4QKRwPQq/J/ZAmpmZmRkBoEAK16NwVZz0QArXo3ChNvNAzczMzAaTBEGuR+F69DbjQIXrUbg+i9tAXI/C9cjZ1UCamZmZ83gAQfYoXI+sdwBBZmZmZub6wEAAAAAAuLjkQBSuR+E6BbdASOF6FEay4UCamZmZzf31QArXo3BbXwJBZmZmZuJX9UAzMzMzG4sHQUjhehTQcQVBzczMzACz8UAK16NwE7sBQY/C9ShEDwZBCtejcHMMBkEAAAAALBL1QPYoXI9mVAJBFK5H4RbP+EAK16NwBdv0QK5H4XouEwhB7FG4Hkkj8UAAAAAAiPb6QClcj8JZXv5AzczMzEzeqEApXI/CHekBQQAAAACAtqBAMzMzM8Pm8EAfhetRZDD8QDMzMzPjdO5AhetRuFJr9kAfhetRmEgGQUjhehSuwsxAhetRuEoB/0AUrkfhOFsAQcP1KFwHvgRBhetRuDqY80AK16Nw2VEHQXE9Cte7vONAH4XrUdj/AkEfhetR6DTzQB+F61EMc/lACtejcFFt90DsUbgedRntQI/C9ShUl+ZA9ihcj+gUB0FmZmZmIkP+QHsUrkexsP9AFK5H4XpS0kAUrkfhkkLlQArXo3A9Xu5ACtejcKGG/0AAAAAAAInPQB+F61GI6tVAuB6F6yUX80DsUbgelVj+QHsUrkeJjPlAexSuR71QBEFxPQrXiS4DQa5H4XrEquBA7FG4HoF4+0AAAAAAGF7/QFyPwvXoGtBACtejcJs7AEFcj8L1LgEIQY/C9SgsIf9A4XoUrtMOAkFmZmZmSO8FQeF6FK5Hd6RACtejcH9cBEFI4XoUZEwAQYXrUbjA/ANBexSuRwPpBUEAAAAAvKj7QMP1KFxvse9Aj8L1KKJBAUGuR+F6VLH4QLgehesXZgZBhetRuB6+skDsUbge+RYAQY/C9SiMuvdAPQrXowQJBEFcj8L1TpUFQUjhehS23vpASOF6FOp2+kBcj8L1oAHnQBSuR+EKc/5AZmZmZhYK6kD2KFyPpiz0QHsUrkeZ8wFBw/UoXNdTAUGamZmZ/Sv+QLgehetZCANBexSuRxFl3EDNzMzMbMb3QJqZmZlxJexAAAAAAGwd8EBSuB6F56nxQD0K16PuJAhB4XoUrhf+70ApXI/CdRTfQOxRuB7PpgZBKVyPwuUy2UApXI/CC9cCQVyPwvUM3QBBw/UoXL8t6UDhehSus2nxQBSuR+FK/OJAFK5H4XoghUDNzMzMvKDxQLgehetxQAVBPQrXo3DMoEAfhetRuLMFQQrXo3BtqeVA9ihcj/6k90AK16NwGyMCQRSuR+GKtOJArkfhelJmAUE9CtejFLECQT0K16MOsQRBzczMzDxJ7EDsUbgeOWkFQSlcj8LFW/pApHA9CncD90CuR+F6jggDQXsUrkdd2ABBzczMzH7tBUG4HoXr11UEQZqZmZnFGvxA4XoUrmdS10BI4XoU1tb5QM3MzMygwvhASOF6FNA/BkEUrkfhigbcQFK4HoXLnuhA4XoUrkd5AkGamZmZOZX7QD0K16NowuFAAAAAAMh46UA9Ctej7PkBQXE9CtdHqfVAj8L1KB5CB0E9CtejimgIQSlcj8IXnQFBrkfheizd/0DhehSuR1jqQHE9CtdVugRBcT0K1x3tAUHsUbgeDaT3QD0K16MgGuxAcT0K1w9D8kDD9Shc8YAHQbgehevp0fFAexSuR4FS3kC4HoXrccfpQNejcD3aytpArkfhetZXAkHD9ShcZ63jQHsUrkfLOwJBexSuR6lb/UDsUbgehbH0QDMzMzNDGANB4XoUrruy+kCPwvUoRpMGQR+F61EQ2uFArkfheug5BEHNzMzMlvoDQXsUrkeZZ+FAPQrXo1z5BkGkcD0K1+i3QNejcD0mFARB16NwPWINBEHNzMzMQBsBQR+F61HEj/1AexSuR5Eq4UApXI/CcS/5QM3MzMykRvJA7FG4Hkla9kDhehSuGVEIQTMzMzPzYNpAZmZmZugGB0FmZmZmphHuQHE9CtfJHAhBw/UoXJE/BkEAAAAAqLjzQI/C9SgU+AJBZmZmZmahqkCF61G4/unSQOF6FK5fae5AexSuR5nu70CuR+F6Bg4BQRSuR+Gaxe1ApHA9Ctd9lUCuR+F69KvVQClcj8LVhsFACtejcGXu/ED2KFyPVsADQVK4HoXrF/ZArkfhenQ3zkA9CtejaM/vQM3MzMz0RQNB4XoUrvvb9EBxPQrX02LqQGZmZmY2FdlAH4XrUSS4BkHhehSudV0EQXE9CteDO9tAuB6F61GItkCkcD0K96vzQM3MzMy41/BArkfhenR22kCPwvUoxlQIQZqZmZmZvrVAPQrXo35XAEHXo3A9XKgCQSlcj8IFaeRAAAAAAFx59kA9Ctej2Jb4QM3MzMzk9uRAw/UoXJc1AkHXo3A9tj76QKRwPQrztwJBexSuRxFT+kBmZmZmDmrnQBSuR+Hy+/9AexSuR+Eu4EC4HoXriRr+QI/C9SiQVAFBzczMzAQi4kBI4XoU6FMIQSlcj8JhswNBrkfhekg48UAAAAAAEp0BQexRuB5ddPdAhetRuPapBkEAAAAAUH7RQK5H4Xr4qvhAH4XrUcwoA0HsUbgeNZ3bQPYoXI8ShfRAUrgehXMLAkGF61G4/ozCQOF6FK67QfVAAAAAAFCx1kC4HoXr0ZnaQBSuR+HOfQJBPQrXo9z++0DXo3A9woD8QI/C9SjcL/ZApHA9CudRAEHXo3A9uvHdQKRwPQofXQdBexSuR4kJ+kDsUbgefdroQI/C9SjIL/xAMzMzM2NR70BI4XoUroPVQMP1KFxXxOJAFK5H4dri5ECPwvUo7mcDQTMzMzPr3uBAj8L1KLzI+EAK16Nw3azCQMP1KFzJiwRBFK5H4YLn6kBxPQrXgxXfQGZmZmb2dfFAZmZmZtbV30AK16NwVRUBQY/C9ShI+PpAAAAAAKAT8kCF61G4/okCQYXrUbhuYAhB9ihcj2LD7EAfhetRfFf5QNejcD266PZA9ihcj0wYA0F7FK5HvTT+QD0K16NAWQhBexSuR8VI9EBSuB6FG+TYQDMzMzMzvsJAcT0K1yMu8UDsUbgepRP1QArXo3DdkQRBZmZmZl4/+0DD9Shcq34BQXE9CtfD+NpAexSuR23kAUEzMzMz99vwQKRwPQq3lupAMzMzM5Ne4EBxPQrXXX0AQYXrUbj6xgBBAAAAAMDixUAzMzMzA2LtQM3MzMws3NxAzczMzN4LB0EpXI/CFbvGQAAAAAA8vvZAKVyPwkXr50CamZmZcY38QEjhehSKugBBAAAAALDN5UD2KFyPNmb5QLgehesZAPtAZmZmZnag4UBmZmZmJlvIQPYoXI+2SvdArkfhem6GAkGF61G4DjbnQIXrUbiiufhAmpmZmWMfAUFSuB6Fi8fGQB+F61ECaAJBexSuR4Em/UCF61G4xs7+QB+F61Hw9/VA9ihcj1IQ3UBxPQrXc3DaQIXrUbj6iPdArkfhetwt5kAK16NwuYn6QHsUrkfpBuNApHA9CiNv/EBSuB6FW5LRQHsUrkdRHuVAzczMzIyT/kBSuB6Fv10HQVK4HoXPLvZAj8L1KIRRAUFxPQrXWyHoQDMzMzPVzQRBPQrXowDp6EAAAAAAdNHzQFK4HoUvMvhArkfheuxR80A9Ctej9PYDQaRwPQqfi/BAj8L1KADo/kBcj8L1LOD1QIXrUbju5gVBMzMzM1EnA0GPwvUoMJEEQfYoXI/QMwBBCtejcDUS40DNzMzMclAFQR+F61G8WfNAFK5H4RySBEHD9ShcLasDQbgehetpA/NAH4XrUXC780CuR+F6RCP9QBSuR+HaxAVBSOF6FG4Y/UDhehSuay70QDMzMzMjv+NAw/UoXJvT+kDNzMzMikcDQRSuR+GasOJAw/UoXM/Y70B7FK5H4QuhQK5H4XrIEgNBw/UoXOdC5kC4HoXrIWbzQDMzMzMjKPlAexSuRx0k8UBI4XoUPJMFQXE9CtfD58RA9ihcjw58AkFI4XoUrmyuQI/C9ShsL9xAMzMzMzmxBUFmZmZmTq4AQbgeheuxeAVBw/UoXBee8kC4HoXrI6QHQT0K16N0rv5A16NwPZJABUHhehSu0e4GQSlcj8Lln/hA7FG4HgUaxUDNzMzMbtwEQXE9CtejKtZA4XoUruft9UC4HoXr82QFQfYoXI+irM5ACtejcEvBBEH2KFyPstbQQOF6FK5jd/NAUrgehY+i9kDhehSul1b4QM3MzMyEyfZA16NwPax4BUEpXI/CBevkQLgehetRIAFBhetRuASUAUEpXI/CAbD7QHsUrkdJivdAzczMzOS2/kCF61G4jgvwQLgeheuBRt5A4XoUrkVRA0F7FK5HXR33QEjhehRu2tBAKVyPwl3B+EDhehSuY7j0QKRwPQrZZgZBpHA9ChOM8kBmZmZmWt4BQc3MzMwsC/9AhetRuB6Pn0ApXI/C7ScIQQrXo3AN2QBBKVyPwkffBEE9CtejaEbrQAAAAACAa7FAhetRuH7v+EAzMzMzP4j7QClcj8L9EOBACtejcKfOA0F7FK5HfXn1QJqZmZlnUgRB4XoUrrfX2ECuR+F6cDEDQXsUrkfPFQhBH4XrUXiy5UC4HoXr3xkGQVyPwvXqagNBuB6F6+n6AkGamZmZgWnlQPYoXI88GQFBUrgehSv450BxPQrXq0rrQGZmZmakhAdBSOF6FCS6AEHsUbgexc/gQIXrUbiSd/pA9ihcj2q9AUEpXI/CGeHzQClcj8ItLOlAzczMzGTH6UAK16Nw4ZL0QFyPwvWcswFBpHA9Clcs8EDhehSu18vhQB+F61GCvQBBXI/C9bSk/EDD9Shc2xryQFyPwvXYc/lAPQrXo3B5pUB7FK5HCesHQaRwPQp3ldVAhetRuH7k/kCPwvUolNLlQEjhehSqc/tAj8L1KLAx8EBSuB6Fa0TQQDMzMzNTnNNAcT0K18fn9kAfhetRuO7/QLgehesPjANBexSuR48wB0H2KFyPQvjCQEjhehTw7gdBrkfheuiw/kA9CtejoIPWQLgeheu91QRBSOF6FFYgBkEfhetRyEzWQFK4HoXT//hAw/UoXO9O/ED2KFyPQgLPQHsUrkepu/xAj8L1KAY3BUHNzMzMDMbzQArXo3CxHgdBmpmZmXm660BxPQrXrxoCQRSuR+HI7gVB4XoUrjHnAEF7FK5Hs/4DQVyPwvW4c+BAMzMzMyO050DhehSuPyL+QFK4HoU7QwVBAAAAAICE0UA9CtejsPz1QHE9CtfxzgBBzczMzPzB70AfhetRUuEDQbgeheuhbuFAcT0K14Ni0kBSuB6FZ8L/QK5H4XoEgAFBw/UoXIeFA0EpXI/C1aHHQMP1KFz/6+lA9ihcj75vAUGuR+F6FEZmQNejcD0iyflAAAAAAJAn2ECF61G4WhT0QMP1KFz9sAVBKVyPwpFb+kDsUbge7fTqQKRwPQpNSwZBexSuR2Ew6UBcj8L1tCz8QLgehevHwAZBSOF6FM6q5UCamZmZFYT0QLgehetJFvRAw/UoXMerBUEK16NwXcLrQM3MzMyUbOdA16NwPWah+UAfhetR+kwAQeF6FK7X+NhAzczMzLh090AzMzMzJ+7zQClcj8KHJARBrkfhen7eAEFxPQrXBzT4QJqZmZkRDO9ApHA9CqeYA0GuR+F62NsDQVK4HoXxdgBBZmZmZhJvAEEK16Nwx2sFQQrXo3ANSAVBSOF6FGQPBUHsUbge9czYQOxRuB7HkAZBCtejcAdLBkFcj8L1zH8HQUjhehS6d/tAw/UoXH+kBUF7FK5HwVjIQIXrUbheo+FArkfhepR54kApXI/CbffgQDMzMzPPAABBzczMzAi0+UCuR+F6rkQCQbgehev3AwFB4XoUrqUqAEGkcD0Kye8FQa5H4XpU2s5A4XoUrhVtAUGPwvUo3CSkQM3MzMwAuvVASOF6FA4V4ED2KFyPUhrjQFyPwvWkUwdBXI/C9dCH/0DNzMzMTNHJQArXo3BpmgNBPQrXo07uBUF7FK5H8aXlQOF6FK5XiNxA4XoUrm9Q5UAAAAAAMH0DQY/C9Sg8ktFAmpmZmetFAUGuR+F6HOj2QOF6FK6Hb+RAXI/C9dTV90DsUbgeNRniQEjhehTW2uJAKVyPwo1w9UAUrkfhFpEGQSlcj8KDjQNBzczMzCgQBEHsUbgelWbRQOxRuB7FagFBCtejcJHF9EBSuB6FEYoFQUjhehT+xv1APQrXozAN/0AK16NwlXH6QJqZmZmx7utAFK5H4R5GA0GuR+F6+Dj1QOxRuB6RTvpA16NwPeIO9EBcj8L1+HPcQMP1KFzfsdBArkfheviF+EBmZmZm5mD0QFyPwvVsv/1ACtejcDmF/0ApXI/CzbjqQFK4HoXbWvxAhetRuIZ8/kAUrkfhNsIGQRSuR+FIZABBUrgehUc69kAAAAAADCXyQK5H4XpU9MJAcT0K14dl/0AK16NwPUS5QPYoXI9SRexAexSuR8VzB0HXo3A9rAsEQY/C9Si8svxAAAAAAFCJ2UCuR+F61O7BQEjhehTmVQRBPQrXo2zPB0Fcj8L1tPH0QI/C9SjIAflApHA9Cn9g8UD2KFyPQlEEQUjhehSGKwJBUrgehfUfAUEAAAAAyHH5QEjhehSqR/FArkfhesQU8ECuR+F61O4EQXsUrkcjewFBKVyPwvXC20DsUbgeNSPzQMP1KFynqQNBZmZmZq6A6kCamZmZ574AQQrXo3DtkdRArkfhepaUAkEAAAAArLP1QEjhehQ2QgdBmpmZmSVJ9EDXo3A9lkMBQexRuB7VE+lAPQrXo/Cn9UAfhetRjH38QKRwPQoX9LtAcT0K1yMB6EB7FK5HdfH+QIXrUbjO7e9AexSuR5/yAEHsUbgeVafhQK5H4XpkLe1A16NwPWqX/kBSuB6FKwT3QPYoXI9C9/hAKVyPwueaAEFI4XoUJuL6QFK4HoWjhfhAUrgehe+hB0EAAAAAAD2dQFK4HoXj6eRAFK5H4WY8BkF7FK5HBYMCQT0K16OW6QFBmpmZmRm6x0AK16Nw0dD8QI/C9Sj8y+hA9ihcjzq2/0A9CtejUFjDQLgeheup3e5AXI/C9e7KAEHNzMzMfMjQQOF6FK47jQFBXI/C9ej64UB7FK5HbeoCQa5H4Xo0Jd9AMzMzM2NTB0HD9ShcMfAFQXsUrkd5ggNBUrgehe/b+0DD9ShcJ8jtQI/C9SiANvBAMzMzM3emAEEAAAAAKi0BQQrXo3DdtcBApHA9Cu8U/ECF61G4sucGQfYoXI9C6q1AFK5H4d4j/UCPwvUofHUHQVyPwvWUdP9AzczMzLJcAkFmZmZm2PgGQa5H4XoUvptArkfheuzF9ECuR+F6lKutQKRwPQpDagJBUrgehZca9kCuR+F6Fk8EQaRwPQqR2QVBCtejcAvjB0HNzMzMpAPqQNejcD1WDgVBUrgehesVx0AAAAAARD30QM3MzMxcMfRAmpmZmYsLBkF7FK5HWwoFQbgeheuxQ/ZAAAAAALSb+kBcj8L1KJ3lQI/C9ShUePxArkfhenwhAkHD9Shc95D0QHsUrkdBRu5Aw/UoXI975kA9CtejKrYEQYXrUbjWFQNBCtejcHlAA0FmZmZm9r/1QEjhehQuE8FAw/UoXO+S/EDD9ShcjQwEQa5H4XrEzwBBexSuR+GqWkCkcD0K1wyYQFyPwvVwIe1ApHA9CpUwBUFmZmZmHsX+QClcj8Idq+5APQrXo/rxAUHsUbgeLfUHQQrXo3AFwuVAzczMzHx50kBmZmZmZq2xQDMzMzODu/ZArkfhejTdwkAAAAAAGksGQTMzMzOzvMlAuB6F6wlG5UDsUbgeacT8QAAAAABEqfxAcT0K1xOq90BI4XoUfrbhQAAAAAAgfvxA16NwPYSEBEFcj8L1+EfZQArXo3CJ5/1AKVyPwjmh+0CPwvUo2ID4QLgehet1T/5AcT0K14OB+0Bcj8L1NmYGQTMzMzPVRAhBzczMzNwFAEHXo3A9cm/8QDMzMzMz9M1ArkfhepRQ+EDhehSukdAEQfYoXI8iu+BArkfhehge+kAUrkfh/g0EQbgeheshs9hAcT0K15tN6UA9CtejxOLzQAAAAAAAKZVAhetRuD5t8UA9CtejytACQeF6FK6PZu9AZmZmZlbf3kA9CtejgBbbQAAAAACS9wNBSOF6FLSqB0EzMzMzzQICQYXrUbgU6gdBFK5H4dbIBUEpXI/C7Q4DQR+F61GYy8VASOF6FF5V5kBSuB6FUSsBQT0K16PwfbJAj8L1KNypxEBcj8L1Pu4FQVyPwvXo6/JACtejcP/KAUGkcD0K13brQLgehes5eQJBmpmZmcvzBUHNzMzMXmQHQeF6FK7DHgVBAAAAALiM7EC4HoXrkWHbQAAAAADGegNB4XoUrod3AkFSuB6FjxUBQT0K16P8u/lAcT0K1zPE60B7FK5HwS0IQQrXo3D50QBBrkfherRW+UBcj8L1ODDeQM3MzMy4M/NA7FG4Htka/kAK16NwN0EFQY/C9SiE7vRAH4XrUSyT/UCuR+F6fI70QK5H4XpEHwZB9ihcj3A9AUHhehSu/UwDQY/C9Sjw5P9ArkfhejSk0EB7FK5HkQ/ZQFK4HoWFmgdBmpmZmdGo/UAzMzMzpdQDQdejcD2MOgFBmpmZmSmmBkEUrkfh8ub8QK5H4Xo0C8BAZmZmZi635kA9CtejEArFQArXo3DVUwhBPQrXo/j99EAUrkfh7rT/QKRwPQrH1u5Aj8L1KPThBEHNzMzMxPzpQJqZmZnT8wVB16NwPSr1+0AzMzMz0fwAQexRuB4liehAZmZmZtqz+0CkcD0K4QACQeF6FK7HXgdB9ihcj1Yl/UC4HoXrqT/gQK5H4Xo42fFA16NwPeaU90CPwvUoHAu7QD0K16OaiAVBMzMzM7Nr70CPwvUoFFj8QB+F61FIKd1Aw/UoXF+l50C4HoXrUQDgQDMzMzNDlPxAMzMzMy2gAEHsUbgetcvaQB+F61HkdAdBuB6F6xXy8EApXI/CDYnsQOxRuB47gAdBw/UoXFWvAUHhehSua2gFQTMzMzMzg3tASOF6FNa18kDsUbgeFSnoQMP1KFzvWMRA7FG4HomY8EBxPQrXDzQBQbgehethBOdAZmZmZhbS/kCPwvUojBXWQEjhehRGrudAj8L1KHRF+UDhehSul839QLgehevx/+9AMzMzM+eJA0H2KFyPPAcDQT0K16OEuwdBCtejcI0f1UAUrkfhvC4DQbgeheuJx+lAH4XrUWi8/UDXo3A9GhLkQArXo3A9tsRA9ihcjzou80AK16NwK9oEQQrXo3Ahp/tASOF6FMb3BEEpXI/CBZLqQArXo3A17P9AexSuR+U7AUFI4XoU7mMGQRSuR+EQNQBB4XoUrhfU10DNzMzM9AIGQTMzMzPXPPtAAAAAAABKn0CPwvUoUCj0QM3MzMzUu/1AXI/C9c6nB0HXo3A9IorvQFK4HoUNDAhBrkfhevJsBUF7FK5HAd3QQKRwPQq3vO1ArkfheuCY+EB7FK5Hx9QHQY/C9ShcbKtAPQrXoyzW80DXo3A9Qmz2QHsUrkdNsvNAcT0K14u3/0DD9ShcaVYBQc3MzMyczQBBexSuR6mK4EDXo3A9hjnzQMP1KFznnfdArkfheqYcBEEzMzMzVREEQT0K16Mu1gNBPQrXo7CWxECF61G4pvfsQNejcD1awAVBuB6F6xNpAUGuR+F6KjQGQZqZmZnRJQNBH4XrUVAm4EBI4XoUHnPoQClcj8LFLvtACtejcA2J+EDNzMzMsL/4QMP1KFw1FgZBhetRuAKs+UAAAAAAABSGQGZmZmYOs/hAj8L1KJyLukDNzMzMevAHQUjhehTG/QRBMzMzM8uqBUHhehSu3xACQTMzMzMjruFASOF6FPCHAUHsUbgeRfbMQJqZmZm95AJBAAAAABA48UA9CtejCEXsQPYoXI/+B/FAexSuRyH19UDsUbgepd71QEjhehSO7/FAXI/C9XbpAEGkcD0KBcMDQTMzMzOTOfVAexSuRzGg5ED2KFyPepf9QMP1KFwnIflAj8L1KDTM70A9CtejICrzQMP1KFwflPlA16NwPSKP90AUrkfhauTiQI/C9SggHgRBZmZmZopt+UCF61G4LrL1QKRwPQovtv9Aw/UoXNXhBUGkcD0KN5fxQM3MzMxMNfJAZmZmZrJF/kAUrkfhEgbjQB+F61F0LvdApHA9Cl+o60AzMzMz48voQBSuR+H63sFAZmZmZoaD1EDsUbge7XvgQNejcD1yAAhBXI/C9Q6HBUGF61G4fJkFQbgehetxuQVB9ihcj7LMA0G4HoXrWSAIQdejcD2CgO1AAAAAAGA58UBSuB6Fc0QIQdejcD1m1v5AAAAAAHCA70BmZmZmoFsDQcP1KFyTlP9AKVyPws/BAEEfhetRvPEEQQAAAAAAkfdAPQrXo6B070AUrkfhZFcDQXsUrkdJP/BAzczMzIBe+kDXo3A9xlD/QAAAAAAAS+JA7FG4Hik2A0EUrkfhiLYHQWZmZmaY+QBBUrgehbP340DhehSur6jjQLgehetpj+ZAMzMzM3OjyUBI4XoUWDkEQbgehesRU7VAcT0K13saAEHNzMzMIkMGQR+F61GEBAJB9ihcjxas9kBSuB6Fb2TwQI/C9SiwBPBAcT0K1yPqAEGPwvUo+N8GQTMzMzMLb+BAhetRuKKQ+EAzMzMzty8IQXE9CtcbmOhAAAAAADCP+kDsUbgebSngQEjhehRuaP5AKVyPwjUntEAzMzMzg4znQClcj8Llj/pA4XoUrkeX1EAAAAAAkD7cQM3MzMxUhu5AexSuRxWrBUHNzMzM0B72QJqZmZnvHQBBzczMzDqYBUH2KFyP0o3cQKRwPQr3wQJBCtejcKnYAkHsUbgeg0oEQc3MzMyMI9VApHA9Cu3gBEFSuB6Fk4D7QEjhehSyjwdBSOF6FI7W/ED2KFyPggzZQD0K16OMmftAcT0K18dU9UC4HoXr3+YBQa5H4Xr0EcBAMzMzM0vZ60DD9Shcs7T2QB+F61E0NgRBCtejcD1/ykA9CtejxDb0QHsUrkdhQf1AmpmZmb2d8UBxPQrXQ6XuQD0K16MaXgZB4XoUrmev+UCPwvUoHPzVQPYoXI8e3P1AhetRuIgxBUFcj8L18pwDQTMzMzN3ZwNBPQrXoxC59kCPwvUoYGrwQK5H4XoEEQVB4XoUrkft/UDXo3A9njECQTMzMzMnsPlAcT0K1/8n80AK16Nwi6IDQXE9CtejcfVA4XoUrm1NBEGuR+F66MIAQVK4HoVDYgRB4XoUrqNiBEFSuB6Fs/MGQXE9CtcZvQdBUrgehZeg/kD2KFyPZMcAQUjhehQ+Jf5ASOF6FK4D40D2KFyP5LUFQQrXo3A9y95A4XoUrsmlAEGamZmZ0d7/QIXrUbhOBvBAzczMzMqYB0HNzMzMfBnnQHE9CtefnPhAMzMzM5Ol+kCkcD0K80H2QOxRuB7/ZQVBUrgehZcc/0CF61G48l/xQIXrUbgKJftA9ihcj+JNAUEAAAAAbL7xQDMzMzMHGQVBPQrXozJMA0Fcj8L1xIcEQdejcD1iz/FAzczMzEyf50CamZmZ6ZfWQFK4HoW3CPBAw/UoXKXVBEF7FK5HsbnaQOxRuB79nAJBcT0K13e6+UBI4XoUvofnQI/C9ShAfvhAPQrXo5QH8EB7FK5HgUTRQPYoXI/qLvtAhetRuHBgAEEK16NwgVTzQMP1KFz3SfRAUrgehZs070A9CtejADH2QDMzMzPDkvJAKVyPwuFd+UBSuB6Ff1wBQYXrUbhoAgJB7FG4HiWmBEH2KFyP1D0BQXE9CteVPgJBUrgehWs69UBSuB6F7ZgFQa5H4XqstONASOF6FM4P2kDhehSu7zbzQLgehesdgQVBj8L1KBwgs0BI4XoUMg38QLgehevBg/ZAzczMzExruEDXo3A9WgHlQHE9CtcD59pAMzMzM2No/UBSuB6FSVoAQSlcj8JPFQBB4XoUrneQ4kCuR+F6BHzbQFK4HoX7cOZAKVyPwsUiB0FxPQrXj88EQTMzMzPXJ/dAPQrXoyivA0FSuB6FyyP8QM3MzMwspu1AMzMzM1eh/UDhehSu29P4QClcj8KdbupAZmZmZgbVxEAK16NwdSHkQFyPwvVo7MRApHA9Cgsm+EBxPQrXkxIIQexRuB4DZgJBSOF6FMJB8kAzMzMzF2HzQMP1KFzvHcFAmpmZmcWeBUHXo3A9isH0QGZmZmYWp/VA16NwPRpv90DhehSuRVwEQfYoXI+ux/BA9ihcj1juAUHD9ShcuycCQfYoXI/SD+VA9ihcj8qv40AUrkfhHtb3QFyPwvWgxe9AAAAAAPhNBEGkcD0KB8P9QLgehesfZAVBmpmZmSFv60DsUbgeSREAQR+F61EYmAJBUrgehYc+BEEzMzMzpZEFQdejcD0Cw/1ASOF6FPow/kAK16NwyTX9QHsUrkeVUPBArkfherAp90DhehSuC6HyQAAAAABgaeNAw/UoXHP9BUFmZmZmZlL0QGZmZmbm1rNAUrgehUUqAEFcj8L1GKD6QClcj8LJPfxAPQrXo8o8AkFmZmZmNvL1QArXo3BNJPRAUrgehesQuUAAAAAAph8HQYXrUbiK1AVBXI/C9cDh5EC4HoXrMTD2QArXo3CxrvNAZmZmZmZ0/UBSuB6FKzjkQNejcD3ea/tAFK5H4QKSAkH2KFyPNLAFQSlcj8I/FwdBCtejcF11A0EzMzMzAUECQVyPwvUm+wJBexSuR8FD2EBmZmZmtiv8QAAAAAAa/gRBZmZmZqbJ/kBmZmZmFpHbQOF6FK4N3ABBw/UoXF8B5UAzMzMzt2n0QEjhehT2BP1AcT0K17ty9kDsUbgejRH3QIXrUbhG+uZAAAAAAPDV5UAfhetRdEwFQR+F61FwReZApHA9Ct8H8kAK16NwK/0HQYXrUbgqr/ZA16NwPTqj3kDhehSuW8r6QIXrUbh+nuFApHA9CpsAB0GamZmZWb8EQVK4HoWP7PBAXI/C9TCm4UBI4XoUMM8AQY/C9SikevFAhetRuN4B8EDXo3A9Rtz4QNejcD1KT+NAPQrXo1wN+0D2KFyPQvCgQFyPwvWYMwdBj8L1KND98kC4HoXrZSr/QClcj8Itb/NAhetRuLKu80BmZmZm0pIDQa5H4XpsxPpAFK5H4Xrzk0DXo3A92hvoQDMzMzMz195Aj8L1KCwU1ECkcD0Ki6b0QNejcD1qx81AexSuR/HX30BSuB6FNQYDQXE9CtejQalAZmZmZiSwBUHNzMzMTGkAQT0K16OMG/tAexSuR8ET5kDNzMzMhGjwQEjhehSexfNArkfheqh0BEEzMzMzdYsDQQAAAAAUNf9AzczMzPAo/kCamZmZaU/kQHsUrkfB1fdAPQrXo/xN9kA9CtejtN33QFK4HoUDSAZBcT0K12NzAUFmZmZmphLFQArXo3DR2f9AcT0K15NQB0FmZmZmPncDQXsUrkepHuxACtejcLW+40BmZmZmbpHrQAAAAAAAfuNAmpmZmfMpAkFI4XoUJh/vQOxRuB6t6wJBw/UoXCf74ED2KFyPYuH2QHsUrkfDPwBBw/UoXL9rBUHhehSuRxFYQFK4HoUrFd5AuB6F60sSCEFmZmZmgqH3QGZmZmZ+MwBBXI/C9dRh+0AUrkfh6o/iQHE9CteXBQRBSOF6FN7W5kAK16NwAycHQVyPwvWYftlAFK5H4XhhB0FmZmZmzGYDQWZmZmamodhAw/UoXC+c3EBcj8L1SI/qQOF6FK4HCcJAhetRuC4r2kC4HoXrcQrHQD0K16PUXP9ApHA9Chfjy0A9CtejeNvmQKRwPQoTtfpAAAAAAAD9rkCuR+F6tNjuQHsUrkf1M/BAKVyPwlXJz0BxPQrXSwoGQfYoXI+yQvpA7FG4Htmk+EBmZmZmZun6QM3MzMzeXwFBSOF6FNxNCEH2KFyPIvj0QI/C9SgSkgFBexSuR+MRAEHhehSuv3D7QM3MzMwEi/FAFK5H4Vp34UBI4XoUylz+QD0K16NUEfNAuB6F68N3AUFI4XoUjnzLQOxRuB6NI+dA7FG4HiGn8UCamZmZPZAGQUjhehTOYedArkfheqDa/0DXo3A91t3xQClcj8KtCvBAKVyPwrV7+UCkcD0KlXQHQRSuR+EaWvBArkfherZgA0G4HoXrNR8HQfYoXI/SbANBMzMzM4PW90AK16NwYQD1QI/C9Shcj8NACtejcA360ED2KFyPnH4BQVK4HoVL7d5ArkfhepTsyEAzMzMzX8/2QJqZmZmRg+RAmpmZmVnbzkCuR+F6BIvrQD0K16NwWLJAZmZmZoZ02EB7FK5Hodj/QPYoXI9OqgBBpHA9CidOCEFI4XoUSmv+QNejcD3WZwBB7FG4HpucAUHhehSuIyH+QK5H4XoQfgFBcT0K16uh/0DNzMzMDPOxQPYoXI/Y6AFBFK5H4TL3A0GkcD0KFyO7QOxRuB5F6cFAPQrXo9ZfCEEfhetRdi8DQT0K16MQf+ZAexSuR2GJq0BI4XoUfj/mQI/C9Sjk2+xAUrgehbMjB0HNzMzMfFrmQHE9CtfDWNVAmpmZmV3cA0GkcD0Kl7vAQKRwPQp/OgBBXI/C9Sg6yUApXI/C/XH/QM3MzMw8QfhAcT0K15sC5EDNzMzMFLbjQD0K16MoIfdAzczMzKyw9UB7FK5HN7cAQa5H4XrIsvpACtejcJ9eCEFxPQrXQVYDQQrXo3ANbPdAexSuRw3u/kAfhetREmoCQQAAAACAJttAj8L1KLyr30Bcj8L1osMAQVK4HoVr7ttA9ihcj7p3+kAAAAAAaOn9QFyPwvWIm8FAexSuRxEO90AK16NwPfL6QFyPwvWkQQFBAAAAAKC6z0CkcD0Kz3P6QJqZmZmh9ARBhetRuEZy8EBI4XoUtlX6QM3MzMwwuAdB9ihcj8KT4ED2KFyPoh4IQUjhehSuw3pAPQrXo5gQ4UDNzMzMRAr0QBSuR+GSpO9AZmZmZkpm9ECuR+F6ZI/xQKRwPQrXAv5APQrXo/CmyUCuR+F6tK/uQIXrUbjOvttAFK5H4Tr420CF61G4miMDQbgeheu9l/5AcT0K18EUAEHXo3A9YlD/QIXrUbhmTvZAXI/C9SwX9EDD9Shc4yjwQJqZmZkpXNdAj8L1KMwv5kCamZmZBcv2QClcj8JVUMxAKVyPwk2SBEGkcD0KZzn5QPYoXI82S/VA7FG4HpMbCEFI4XoUyvX+QArXo3CxBPdAPQrXozDh5kAzMzMzO+XzQFK4HoU/hf9AzczMzJxI6EBSuB6Fh6n1QDMzMzNXPPVAj8L1KNw5rUDsUbge1ZbwQOF6FK6jBQJB4XoUrt8OB0HhehSup+LYQFK4HoX79dFAFK5H4UIcAUEfhetRQqkDQT0K16OwZwZBw/UoXPe1B0EpXI/Cddy+QHsUrkcJHOlAhetRuBacAkFmZmZmBkHrQI/C9SikEeBA7FG4HtGR+EC4HoXr/3EBQQrXo3DNq9lAH4XrUfis7UCPwvUojtoBQQAAAAAAq9tApHA9CnOj+EBmZmZm/gv5QJqZmZmZ9NhACtejcF+RAkHNzMzMUPDwQMP1KFwH1vhAKVyPwgm99UCF61G4voPQQM3MzMwiXgJBUrgehWmuBUEK16NwAXb9QJqZmZlt1fJA9ihcj8oz/0CkcD0KRVQDQXE9CtdbaARBuB6F61EWzkBSuB6FIQwDQexRuB6pqgFBw/UoXK8H1kDXo3A9cPwBQTMzMzPn3fRAFK5H4QDDB0EzMzMzI6/nQOF6FK4zx/hAUrgeha0IBEHsUbgeKW3+QLgehetB1+BAuB6F63U19kApXI/CNaTXQIXrUbjIWAVBKVyPwrfIBEFcj8L1EGr7QAAAAABw5fZAH4XrUVZQAkHsUbgeTen4QK5H4XoUFIxAZmZmZkY590C4HoXrMX3GQEjhehQu09pAKVyPwo0c4kAzMzMzH/IEQa5H4XrMu/NAuB6F6z+qBEEfhetRuMbJQFyPwvXwlOpAMzMzM1ul4kBmZmZmpqLaQKRwPQrjDfBASOF6FHre90AK16NwzTD8QNejcD1S//dA16NwPVo5BkHNzMzMoGH/QHsUrkedkvpAKVyPwnUl0kDD9ShcK+wBQRSuR+F6l/hAj8L1KIw340AUrkfhCL4EQQAAAACYr+RA9ihcj8Il3ECuR+F6JkUGQTMzMzNDP/xAuB6F62FV0EAfhetReMXrQBSuR+HCcutAZmZmZiCcB0E9Ctej8FP0QDMzMzMzLspAMzMzM9GEBkGuR+F6SJL9QAAAAAC+nwJB7FG4HkXxxEDD9ShcX1PsQGZmZmaG8wNBhetRuO4M+UAUrkfh8qzzQJqZmZmTpgVBMzMzMxtc/UCPwvUocAwGQa5H4XpI1v9AH4XrUawKAkEfhetRiD7sQHsUrkfd1gNB16NwPfqb6kB7FK5H/aYEQfYoXI9umPNAUrgehcsXwUDhehSuTw75QDMzMzN/JvdA9ihcj1os9kD2KFyPUrMCQQrXo3DpUPVAexSuR1vfAUGamZmZARTyQHsUrkex1tZAhetRuCKu9kCamZmZgXDmQFyPwvWog/FA4XoUro9I+UB7FK5H6ZHpQGZmZmagqgJB7FG4HsU6sUBSuB6FM0HyQKRwPQrNqAdBrkfhenQq2kBcj8L1qMPfQAAAAAAAwIlAH4XrUSzQ9EAUrkfhTmP0QKRwPQr7MAVBXI/C9eRe80DsUbgeFSDsQOF6FK7/b+tAPQrXo3ByukCF61G46tP4QNejcD2S3/BAFK5H4RIUBUG4HoXrkfvZQFK4HoUrDepAH4XrUXAg70BmZmZmADUHQdejcD3W7vpACtejcHskAkHD9ShcV5T+QK5H4Xos5PhASOF6FHKQBEFmZmZm9pnZQOxRuB5VsfdAmpmZmdkj6kCamZmZmXrBQAAAAABm6QNBexSuR08uAUGF61G43u8EQVK4HoWbaAJBzczMzEDF8kAK16Nwt84EQWZmZmYCeAFBcT0K17My60BmZmZmEsAGQa5H4XrUtNdAuB6F69nK6EBcj8L1PtUCQQrXo3DptvBAcT0K18s59kBSuB6FH270QOF6FK7nWQhBKVyPwlmdAkFcj8L12nYAQexRuB5xgQZBCtejcH8sB0FSuB6F23AFQaRwPQpXiKlApHA9Cjf+5kA9CtejQLzmQKRwPQr/gu5AAAAAAPIqBkGamZmZ4aXvQOF6FK5DI/FAKVyPwvuTA0FxPQrXA4HhQOF6FK7nTvVA7FG4Hi0S90AUrkfhcksAQZqZmZk52fFAcT0K1y/YB0HhehSuV6v9QOF6FK6ZOAVBw/UoXFucBkEUrkfhwpP+QHsUrkdL6QNB9ihcj+4H/kBcj8L14MHjQPYoXI8cCQBBzczMzI78BkEUrkfh1pMBQQrXo3CJ0fVA7FG4Hu9UA0G4HoXrETrzQFyPwvWEg/hA9ihcj2IZ2EBcj8L1WFLjQEjhehSOAANBj8L1KDKLBEGPwvUoQHb1QMP1KFz3VgdB16NwPThXB0HNzMzMoHv/QHsUrkcpQO1AzczMzOTGA0GF61G4/sfSQBSuR+EqdAVBhetRuL6O7UDD9ShcI8kAQRSuR+G2HwdBXI/C9ahDukApXI/CdTPkQFK4HoVLjf5AAAAAAB6KAUFSuB6Fk9gEQfYoXI+sNgNBzczMzGS06EDD9Shc35roQNejcD1w6gNBw/UoXEHhAEGPwvUo2HwAQQAAAAB29gNB4XoUrhco9UD2KFyPPskDQTMzMzPTM9xASOF6FJynBEG4HoXroQH5QDMzMzODsupA7FG4HlXw0UDNzMzMgIQDQTMzMzOhdgRBMzMzM0n0AEHsUbgeAVcIQQrXo3DDIwdBexSuR9H30EDsUbgeCR4BQTMzMzNby+1ApHA9CndY6UAAAAAAWPXmQD0K16OQdOBAKVyPwo0e7UCF61G43C4DQUjhehQKXQdBAAAAALZlCEEpXI/CJYzTQHsUrkfh6t1ASOF6FI7E/EBmZmZmRvjVQNejcD0KX4dAXI/C9WzE8kBxPQrXg1T6QMP1KFzrUvlAFK5H4eLCBUF7FK5HndT+QClcj8JdAQhBzczMzExKt0BxPQrXM2rVQLgehevtAv9ASOF6FFjeA0GPwvUo6NH7QMP1KFwnnvlApHA9Cj+O6UBmZmZm5PcFQdejcD2acvRAmpmZmQ9UBkHXo3A9AloEQXE9CtePhgdBUrgehYsABkFxPQrXY6vnQOF6FK535f5AmpmZmRGt70CuR+F6+O73QFK4HoVD1fZA7FG4HvXT60CuR+F6ZHUGQUjhehSqy/9APQrXo5Cx30AUrkfhRmjyQJqZmZljegRBSOF6FN432EApXI/CrYHtQArXo3ARIPJA7FG4Hm0e80C4HoXrtSf9QB+F61GcSvZAzczMzDyM2EDNzMzMxKoHQVyPwvUYXudA7FG4HsWLsUAzMzMz/7v4QKRwPQrX9eJAhetRuE4w2kApXI/CfWEIQZqZmZldd/BAH4XrUVKnA0Fcj8L1mErUQM3MzMxMCuRA9ihcj8J58EAUrkfhOrr9QArXo3BzNQNBhetRuDLs+kA9CtejKGPlQAAAAACAvsFAhetRuHB3AUHhehSuz4z4QB+F61ECFwFBAAAAALrMBkEK16NwE04AQT0K16N06wJBj8L1KJwB20AK16NwH9EAQYXrUbjuHtlAj8L1KGy9BkEAAAAABFwBQUjhehQwvARBMzMzM7sy5EApXI/CNRfeQArXo3B/7AJBPQrXo8R1A0HhehSuM57yQAAAAADU3vlA9ihcj/rG6ECPwvUoQggCQRSuR+HabgRBSOF6FHI790DhehSuRy6yQBSuR+GK1P9A7FG4HnMtBUEAAAAAnOv2QKRwPQofw+FApHA9Cj9f/0CkcD0Kq9r5QHE9CteDW8dArkfheqwf+EDsUbgeIRfwQJqZmZnlfgJBrkfheswr4kDhehSuH3j2QGZmZmZi4wdBpHA9CtfGuECuR+F6xDr3QBSuR+Hqt9RAw/UoXA8900DsUbge5WcAQUjhehQofQBB7FG4HgdPAEF7FK5HIWX4QPYoXI/qNuRACtejcINzA0GPwvUoDO/RQKRwPQon9/dAw/UoXHOr9EApXI/CHdfhQIXrUbjaT/NA16NwPQpB0EDsUbgeoVYDQVyPwvWI6+dAXI/C9eil90AzMzMz64b3QFK4HoVZ1gFBexSuR1eAAEF7FK5Hu1wDQUjhehSecPFAFK5H4QIv60AUrkfhUFYCQa5H4Xpy3QNBCtejcC271EDNzMzMfEnuQIXrUbiGx+1Aj8L1KDCI+kAzMzMzP7zxQPYoXI/CDMJAMzMzM8OvAkHsUbgeSaDxQIXrUbg6WwhBcT0K17EdA0HXo3A9WkryQLgehesZKftAPQrXo3jd7EAUrkfh1hcCQexRuB5l1fJAmpmZmcl58EApXI/ChfvuQFyPwvXETvlAuB6F67/rA0F7FK5HKbfuQKRwPQpnpOVACtejcCnp90DD9ShcU+b+QDMzMzODoAZBj8L1KOhdBkEfhetRgOL5QEjhehQSfARBhetRuEDpAEEAAAAAQIYGQdejcD0KA9RAKVyPwqVwAEGamZmZcecAQTMzMzNfp/5AKVyPwplB9EBSuB6FvUsDQQrXo3D1S+VAcT0K1x9K/UDhehSuSR0BQXsUrkeNufNAFK5H4XhBAUGPwvUoPMzWQFK4HoUr07NA4XoUrs9Q90C4HoXrqU7zQKRwPQrtYwhBmpmZmbG86UCPwvUo/KDrQK5H4XoUcqpAKVyPwrV8yEBSuB6FU5rvQMP1KFzjXvJAhetRuI5ICEH2KFyPOtnwQKRwPQqPlulA16NwPcz5A0GuR+F6NN8CQSlcj8IrPQVBcT0K12vw7UC4HoXrCYEBQa5H4XooU/5AhetRuCZ9AkFxPQrXsz/UQLgehesxV+VAuB6F6wEQBkHhehSup275QClcj8LlNttAXI/C9WgL60CamZmZY/cHQVK4HoXjVPxAuB6F6y3r9kA9CtejYLTyQIXrUbievLdAw/UoXNvW/UC4HoXrAZfXQFyPwvUUhwBBH4XrUcBM9kCkcD0KU9UBQT0K16MAAgVB9ihcj9R7AEH2KFyPioL0QIXrUbg6Z/ZAzczMzEi5AEFxPQrX9xL6QLgehetRf8RA4XoUrqt/80DNzMzM5rkGQZqZmZmZYfZAzczMzIwG0kDNzMzMLEvAQFyPwvWS6gBBpHA9Ciee4kBmZmZmNin6QKRwPQoHGN1AmpmZmZmXu0BxPQrXQyPVQBSuR+G+uwBBzczMzHIVBUEfhetRMAz6QArXo3AtpfFAH4XrUah930ApXI/CharzQClcj8JlV9BAKVyPwvVNk0DsUbgeDX/oQM3MzMz8cuBAmpmZmYvQBUHhehSup0/wQJqZmZlxZOZAUrgehcss70AfhetRwHj4QJqZmZlpL9NACtejcM3GBUFmZmZm8i/zQFyPwvWogf5AzczMzExZrUBxPQrXmaQCQXE9Ctdv5gZBcT0K19cu8UDsUbgexyMDQSlcj8LVWeFAKVyPwsF2AkF7FK5HaejoQK5H4XpoJftAmpmZmQUC8UA9CtejIODuQHsUrkf58uNAzczMzJBb90DXo3A9opbzQIXrUbjcEwdBzczMzJbCAUH2KFyPsvUHQc3MzMxI4gNBPQrXo1xSBUH2KFyPwiirQBSuR+E65NJAexSuR21C90Bcj8L19E76QDMzMzMD5vxAH4XrUYCg6UAzMzMzTb8FQT0K16NwX+hAXI/C9WB64EC4HoXrOUftQHsUrkdhLdJAw/UoXHNHCEEK16NwxdbrQI/C9SiMFABB4XoUrhtU80AK16Nwhf75QPYoXI9indBAw/UoXCtkAkFcj8L16CX1QBSuR+F+Q/xA7FG4HndVAUHD9ShcGVAGQZqZmZld8AZB16NwPZ5EAEGF61G4IMgAQdejcD2i1fJAMzMzMzlfBkGamZmZmb7ZQOF6FK7tuAJBexSuRxlD8UBxPQrX8zz9QOF6FK4Hs+RAcT0K19Pt4ECkcD0Kowv0QAAAAAD09wRBFK5H4WRIAkEzMzMzW/riQClcj8JlLeFAcT0K14tn5ECuR+F6JPjQQFK4HoUhWAhBuB6F65GG0EDsUbgen8MFQdejcD0SlwJBZmZmZpL1/kBSuB6FM7jjQHsUrkfRxeBApHA9Cu9KCEHD9Shct7LpQOxRuB5j+QVB9ihcj8pB4UBSuB6Fs676QHsUrkdRo+5AmpmZmckmBUHhehSuh4jqQLgeheux2dJA9ihcj8JBxUBI4XoUruTQQOF6FK43RPxAKVyPws3C9kCPwvUoBicCQexRuB5ZXgJB16NwPUr640BmZmZmdtfiQHsUrkfl5wRBUrgehbf+9kDsUbgeZ88BQdejcD1SlwJBMzMzM0df+EDD9Shc//bgQM3MzMxUlv1ACtejcMmn/0AUrkfhKsIBQXsUrkd1iAJB4XoUrgc/6ECuR+F6BAjyQAAAAABQgfxA4XoUrsffz0CamZmZHQr2QKRwPQoBsgNB16NwPV6O/UBSuB6Fs/nwQClcj8J1WK1ASOF6FALx+0A9CtejaJUBQVK4HoWjs+xAj8L1KNzgBUF7FK5HRRb/QEjhehQmJ/VAH4XrUZJ7BkGF61G4vqfCQLgeheuhXutACtejcD15kUAfhetRoOQHQVK4HoX3XgVBpHA9CrNs+0D2KFyPmnblQB+F61GoUfxA9ihcj9RYBEHhehSuP2D4QArXo3C5OwFBmpmZmTd5BUGF61G4wpoFQY/C9SgUO+VAFK5H4TjtAkGamZmZSYAFQTMzMzPb5gJBFK5H4ToLwEBSuB6FHfQBQc3MzMz4cPxAcT0K10Nv3kApXI/C+XMHQXE9CteZyABB4XoUrs3OBkFI4XoUhi/1QFK4HoWbmPFA16NwPUrTxEAfhetRkDf2QArXo3DNEtRAUrgehc8R/kDXo3A9OoMBQT0K16M4fvZAhetRuKbX8kB7FK5HkaMHQa5H4Xq8z+lAAAAAABiH4UB7FK5HUz0CQc3MzMy0leZAuB6F6xUl9UCkcD0Kf3L2QClcj8LFd/9AhetRuNbj5UCkcD0Kx6H0QDMzMzOLsfRAKVyPwmsGAkF7FK5HkR30QD0K16PcmQBBexSuR8GBA0F7FK5HgRXMQJqZmZktJfJAuB6F68ESB0EAAAAAnqcAQdejcD2GKfNAcT0K1//B+0BSuB6Fg6zqQOF6FK6ZaQJBH4XrUV5lA0E9CtejWpgDQY/C9SiYCwZBPQrXo7A60EBSuB6F/4LzQOxRuB7JwwZBAAAAAPBj6UDXo3A9Mp39QGZmZmaKpgFBcT0K1wXSBUHNzMzMRPz2QDMzMzNn5vJApHA9Cp/g7kCamZmZXYb6QHE9CtcTO/dA7FG4Hn2cAEGPwvUoEP73QBSuR+EetvtAzczMzKSl6UBxPQrXz8EHQexRuB7vngJBUrgehbtxAUEUrkfhjD8GQSlcj8I9iABBXI/C9Y5yBUEAAAAAqNbsQM3MzMycBgBBZmZmZp6dAkFSuB6Fi1HOQM3MzMyWwQZBuB6F65GB30A9CtejREP/QB+F61FaJQZBPQrXo3TN+kCuR+F6vDMGQfYoXI9CIfJAexSuRyFZ6EBcj8L1gEv5QPYoXI9mdARB4XoUrg9r5EA9Ctej1NsFQXE9CtcDqPpA9ihcjwplCEGF61G4Emr0QJqZmZn9t/RArkfhengF/EAUrkfhXkj5QClcj8JFwvRAXI/C9UavAkEK16NwDfDiQFyPwvXwxAZBj8L1KHwd3EB7FK5Hyf3lQK5H4XouVwJBAAAAAEA07EAfhetRuMSwQOxRuB6vKQVBj8L1KMAr/UD2KFyP0r39QArXo3CrhQJBpHA9CgdD6kCamZmZoaHuQLgehevxQdFACtejcEsPB0GkcD0Kc5v7QD0K16PcgfRAhetRuAaf/kBmZmZm0HoBQSlcj8LJvPZASOF6FGaQ8kBmZmZmkpYEQfYoXI82ePpA9ihcj0z0BEEAAAAAUNXVQK5H4Xp4qwdBCtejcDNTAUG4HoXr+Wj5QHsUrkeF6PZAcT0K16ODmEBSuB6FQ63tQBSuR+H6e89AKVyPwuV67UBmZmZmVPEGQbgehetf3wdB4XoUroem4kDhehSuWecFQVK4HoWDwfZAUrgehXsL7kCamZmZpan2QLgehesRmdZArkfhevgi8kDXo3A95q74QOF6FK5b/f5AcT0K14uz8ECF61G44vYCQZqZmZmZRalAMzMzM0vUB0GkcD0K66UEQdejcD2ynvBAzczMzLzg9kCPwvUoyg8DQVK4HoUznexAH4XrUQzx+0BmZmZmeuX+QMP1KFzjbftAmpmZmYWuBkEfhetRuN38QM3MzMxcWAZBzczMzJxE20BSuB6F4fsHQY/C9SjsPgdBzczMzEQb4UAUrkfhVjXwQBSuR+H2RfpAZmZmZspW+EBSuB6Fk6n1QDMzMzNNKAVB9ihcjzwGAUFSuB6Fa3OtQArXo3DTTQJBAAAAAMKSAEG4HoXrIffeQK5H4XrqgwJBPQrXo7bQBEFSuB6FMf8HQc3MzMxMxalA4XoUrvfhA0HhehSux0HvQD0K16NApNlAXI/C9aj0/kBSuB6FEwoEQcP1KFw34AVBAAAAALDT0UAUrkfh2n70QLgehesxJ9ZAhetRuJ4Rv0C4HoXrgZIBQQAAAACESgNBj8L1KAROCEFSuB6F72D1QHE9Ctcd0gRBZmZmZnxFA0EUrkfhNsH2QLgehevRj+pAKVyPwluaBEGuR+F6FNCRQHsUrkdnwwZBuB6F68FX3EAUrkfhqk7tQGZmZmZGBwZB7FG4HpMsAEFcj8L1jML6QI/C9SigEPhAPQrXoxSZA0EK16Nwvfu3QFK4HoUrErtAw/UoXE/ZxEAK16NwfV/xQB+F61Ggee5AKVyPwpFPBEGamZmZ8z4AQVyPwvUqjQdBrkfhevxr8UAfhetRYFrzQIXrUbje49xAZmZmZoqm9UCamZmZGXEAQeF6FK5nc/JAMzMzMxOL3UD2KFyPxi37QBSuR+ESvflA16NwPSKs4UC4HoXrnbn2QMP1KFyXRvpA7FG4Hu+kAkFcj8L1VPX6QAAAAADIrOdAhetRuBrS8UAfhetRCCTZQHE9Ctfz2uZA9ihcjwIl2kCamZmZSVECQXsUrkeZW+tAw/UoXG8HAkEAAAAAgD4FQTMzMzMVwwJBMzMzM9dw+kDsUbgeRWTWQIXrUbieEPlAFK5H4WJp60A9CtejdJT1QFK4HoVbNgJB16NwPeh/AUFxPQrXP40EQQAAAAB84fJAFK5H4c699kBSuB6F4+nhQBSuR+F66AFBmpmZmX1N/EDD9Shc12/5QLgehesxV8NAexSuR3FB0ECkcD0KN/0FQZqZmZkXFAJBexSuR9nx4kAAAAAAeLYCQYXrUbj6lPhAw/UoXCs1+0BI4XoUMLYAQWZmZmZO0PlA7FG4Hp2F4UBmZmZmEvHxQKRwPQoj4vpAXI/C9Sia40BI4XoU9N4BQRSuR+FymANB4XoUrmUuBUGamZmZyZT1QHsUrkfrrgZBrkfheiRk+kB7FK5H384DQQAAAAB6kwdBMzMzMxeDBEFcj8L1/u4DQY/C9SgKegNBuB6F641d+EDXo3A9WqfjQK5H4Xp8WPRAzczMzMyf50BSuB6FM0MEQWZmZmZmlcFAhetRuOL3BkFI4XoUCM0GQc3MzMwcfgZBFK5H4To77EDD9Shco6gBQTMzMzNH6QNBzczMzGijAEGPwvUoFKrhQM3MzMyUDvBAexSuR1lBBUEK16NwxbADQbgehesptfpApHA9Clk2B0GF61G4XgHuQKRwPQq38MBAH4XrUYy9/kDNzMzMqnkCQTMzMzNHmPBAXI/C9TRe8UBSuB6F7xT1QLgeheuB9/xAKVyPwjGo+EApXI/C5fQBQaRwPQo9+wJBXI/C9V4ICEE9CtejGNnuQI/C9ShcsPlApHA9CqMaAEGF61G4LpfWQAAAAACitANBFK5H4RYxBkHNzMzMpCb1QAAAAABwPN1AKVyPwhEbAUGuR+F6NCDRQOxRuB6l9OlAH4XrUQqHAUEAAAAAIK3xQBSuR+F6euNAexSuR83s9UApXI/CXakAQSlcj8IlYeFAZmZmZoZz7EBmZmZmLtn4QIXrUbgYmQZBXI/C9XxH/UD2KFyPyM4HQT0K16MEHfVAFK5H4XRDCEE9CtejwJkGQeF6FK7HI61A7FG4HiWL0kBxPQrXGyH9QJqZmZlxlO5APQrXo5QUCEFxPQrXw2kIQdejcD3aBNBA7FG4HmlA80CPwvUo8hsHQYXrUbiCEPNAUrgehYtg00CPwvUokDj5QK5H4XrEWfxAj8L1KFJsAUE9CtejkFvsQPYoXI9cuAZBzczMzBz43ED2KFyP2A8CQa5H4XpMyOJAuB6F6yt+AUGPwvUorK/eQClcj8IZqv1A7FG4Hi3x9UAUrkfhSrPxQGZmZmYmTQZBPQrXo/CBs0DsUbgeTYL+QMP1KFybxQNBexSuRwFI40BI4XoULgLrQOF6FK4d7QZBSOF6FBCGBkG4HoXr8Z39QLgeheuxJMlAZmZmZrAxA0EpXI/CoRb+QEjhehR+ggZBKVyPwmX960AUrkfhXqzwQIXrUbgeGMRArkfherLnBUFcj8L1bEQBQR+F61H8vfZAH4XrUfiauUCPwvUoRNXiQClcj8KF/v9AhetRuM4F/0A9CtejMEHpQHE9CtebieZAzczMzLSNB0HhehSuIxYGQYXrUbguI9NACtejcF3Y5kB7FK5HZ3YFQQAAAAAAMghBZmZmZk4I60B7FK5HaUfnQClcj8LN8e1AKVyPwo1/8UDNzMzMBLP4QK5H4XqGrwFBhetRuNoV/EBI4XoUhNwGQSlcj8KhZwZBcT0K1/Pc20BxPQrXQ93kQAAAAAAYkflAMzMzM3vY70DXo3A9Ggn9QGZmZmY+OvFAXI/C9VgFAUHNzMzMWMsEQfYoXI8ODwBBmpmZmUXjAEEzMzMzM70EQY/C9Sh8FcNAw/UoXAsc8kBcj8L1wIH7QJqZmZkdvQZBcT0K1/8J+EC4HoXr0XSlQGZmZmYmWMVArkfheiBN9kAfhetRIBIBQWZmZmbOpflAPQrXo3afAUFSuB6FSyXTQI/C9Sg8pvNAAAAAAEDXAkEfhetR8NP2QClcj8JnrgJBexSuR9nu90DhehSu1Y8HQa5H4XpUse1AFK5H4fJB9UBSuB6FAwcEQVK4HoWryrFAzczMzExH/UAUrkfhwMsEQT0K16OgDfFAZmZmZl4Y50ApXI/CdTDmQI/C9SjaQQhBUrgehb85/EBI4XoUvrHjQAAAAADU4PlAXI/C9Rh2AEFxPQrXWxzuQHE9Ctfz/gdB16NwPZYf+0CuR+F6NInnQNejcD3GfQBBuB6F63GRzkCkcD0KJ6bgQLgehes1VwVBH4XrURj79EDXo3A9MgToQEjhehTm+vJA9ihcj5rQ4ECamZmZeY31QM3MzMxsOwNBmpmZmVcqBUF7FK5H4TX0QAAAAAB06wZBZmZmZh6NBUFmZmZmJqHrQDMzMzMvtP5AZmZmZsbM+0AfhetRCDPYQPYoXI82XP1AhetRuDJpBUHhehSu9y71QJqZmZkJY/FAKVyPwonP9EDhehSujZgDQZqZmZlpGflA7FG4HjWYAUFxPQrXj3YGQYXrUbjE6QdB7FG4Hinw/kDD9Shcm5cFQeF6FK4PBf5AzczMzIzDwkBxPQrXG6ICQVK4HoXzU/dAXI/C9SRRAUEUrkfhKrbyQM3MzMykielAexSuRwGz3EAK16NwA5wHQXE9CtcLoexAKVyPwiFTB0F7FK5H4SyEQAAAAAA2oAFB9ihcj2KhB0EzMzMzk/L+QPYoXI8KdO5AXI/C9TAUAEGPwvUorD32QI/C9ShAe/BApHA9Cne+x0CPwvUoLMjvQArXo3BVdO5AKVyPwpVi0kAK16NwPR2qQPYoXI8QzgVB16NwPaoJ4EC4HoXrZ3IAQexRuB795vlAj8L1KIQE7EDXo3A9+lfZQEjhehRi8vBAUrgehbt390CkcD0KHyj9QB+F61GkVP1AAAAAAKRgAkEfhetR4GQBQQAAAACACsxAhetRuB6i/0C4HoXrkVTrQB+F61EgDe1AAAAAAEI1BkF7FK5HXQf5QIXrUbi6r/VAZmZmZqaoy0DsUbgejcnrQClcj8LVhAZBrkfhegws90AK16Nw2dbxQGZmZmbWrABB9ihcj2pSAkEUrkfh0IcEQaRwPQq12QFBmpmZmSFd80CF61G42gjzQKRwPQqbbv9AZmZmZnrGB0HsUbgeRdjEQBSuR+GawcRAAAAAAMzZ/UBI4XoUXvnvQArXo3C11gFBSOF6FEYa/kBmZmZm1gL+QB+F61EAMP9AAAAAAPji/EAAAAAAALTQQHE9CtcHGARBKVyPwmORAkHsUbge5dnWQBSuR+F2H/dAAAAAAECQvEDD9Shcn3LkQOxRuB4Vp/dA9ihcjy4A+UCPwvUo2pMFQc3MzMwc/9ZAUrgehUNV4EBSuB6FmzLTQK5H4XpsjvlA16NwPR57AUHsUbgeBT+7QGZmZmZexQJB16NwPeb49EBI4XoULvQGQWZmZmbWvOlA4XoUrpei0ECamZmZQwcAQQrXo3ADEQVBZmZmZros+EAfhetRgDYHQRSuR+H6oqdAPQrXozjw4EDXo3A9igKiQOxRuB7NpPtAKVyPwtniBEEzMzMz40juQArXo3B1B+JA7FG4Hglo+0BxPQrXd0UIQeF6FK5bKghBw/UoXP/k3kA9CtejQDfoQDMzMzOfzwRBzczMzHyy40BSuB6FayWpQNejcD2evfBA9ihcjwJ+3EAK16NwzdTmQEjhehSg4QRBrkfheujW9kCPwvUo1NP1QDMzMzNjugRBzczMzFBT9ECuR+F6LucHQbgehesFrv1ACtejcAF/9kAAAAAANNb+QDMzMzMD7v9ACtejcDdZBEFSuB6FI3zlQBSuR+FCtAZB7FG4Hq/ZBUEfhetRsEcBQaRwPQonZudAFK5H4Wqc+UCamZmZ+bfwQNejcD0K3pNAZmZmZoao3EBxPQrXtXkGQQAAAADYcPdAFK5H4R5S+UBxPQrXG8XmQLgehesxhQBBcT0K1yNVykDsUbgescH/QHE9CtfDhQFBFK5H4ZDtBkEAAAAAlmQEQfYoXI+Gg/NAj8L1KFy7t0C4HoXrsWXlQIXrUbh+X99AcT0K131LAUHhehSuV4r0QNejcD1K7sJAZmZmZiY51EBcj8L1wOj0QM3MzMykSfpAZmZmZjB1AEEfhetR+P6xQNejcD1aFOlArkfhegRj40CkcD0KseEHQSlcj8LRGPVAcT0K1xNq/EApXI/C5zkGQc3MzMx8kvBAexSuR6FMxkCPwvUo5BzwQJqZmZllBfxAcT0K15PM/kCuR+F62n4FQRSuR+GGU/VAXI/C9Swk+kAUrkfhXuLwQIXrUbiUTgJBKVyPwke2AkHXo3A9pgcCQSlcj8KPBwdBzczMzEhV+UD2KFyPNDQBQZqZmZkZh81AAAAAAEDc7kDD9Shcz2jPQAAAAAAAWIBAUrgehekvBkFSuB6F61SSQLgeheu1I/VAXI/C9Zi++kBI4XoU+EoFQXE9CtePJP1AKVyPwuXE1kCamZmZPX3wQD0K16OMmwZBMzMzM5kXAEEUrkfhOi3FQD0K16MANtdAPQrXowS3/EBmZmZmWj4FQUjhehQ2GfxA9ihcj0r2+UD2KFyPui4IQVyPwvWWZgVBMzMzM71kAkFI4XoUvt36QD0K16NSygdB4XoUru9u+0D2KFyPzmsEQeF6FK6dOgZBpHA9Cr8b6EAzMzMzM+uKQLgehetl8/NAXI/C9YAV6EBxPQrXgwvDQFK4HoUzQ/NACtejcN0gy0A9CtejsGXGQGZmZmZS7v9A16NwPZ6H+kA9CtejeJEDQXE9Ctd/JfxAXI/C9bD6AEFI4XoU7gjUQM3MzMxU5OFAKVyPwuF7+UBI4XoUgOABQTMzMzPXVwRBmpmZmf0LBEFI4XoUmDoCQVK4HoWr1vFACtejcB0JzkDhehSuD+rpQM3MzMxMrqhAPQrXowi+/kA9CtejEE3+QEjhehRG4fZAFK5H4b4EA0EfhetRWDfBQHE9CtcvEwRB7FG4HrVv9UD2KFyPCmoGQVyPwvUAKupAH4XrUbh7nkCPwvUoil0FQRSuR+F6bclAFK5H4TLF5EDXo3A9usHuQM3MzMzMgPFASOF6FK6/iUBmZmZm6q8EQZqZmZl/VAJBMzMzM9NP30BmZmZmosvwQMP1KFzPVPJAhetRuN7/+0BSuB6Fi4kBQbgehetx8+hACtejcL0gtUAfhetR5CX5QGZmZmZ+juVA4XoUrvc4AkHhehSuiY8HQc3MzMwsSfJAmpmZmdFh/EDsUbgehevSQJqZmZmZgO9ArkfhemTV4ECF61G4ttzrQB+F61F4i99AZmZmZty0AEFxPQrXw+fwQI/C9SisFANBrkfhelR9s0CamZmZlzcHQT0K16Nwk6tAUrgehSv380DD9ShcLzDjQBSuR+E2jwVBZmZmZsqI+kAzMzMzI8sBQVyPwvXokuRA16NwPVqI0ECuR+F6nHz5QPYoXI9shgdBCtejcE0g7UCkcD0KNx7vQArXo3D5/PFAw/UoXM9bBUG4HoXrUZ6aQFyPwvVs6wNBH4XrUeiL6UD2KFyPAjvpQBSuR+FYvgFB16NwPfI/6UApXI/C/0ACQQAAAACQ+fZAH4XrUQ4IA0EUrkfhYOQAQc3MzMxk3PdA4XoUrkUwBUFcj8L1GPPaQI/C9ShMgNBA4XoUrv8D4kBcj8L1bJn7QAAAAADYuP9A9ihcjxo/AEFxPQrXq/L5QI/C9SjcQOxASOF6FE6qyEBmZmZmFkgIQT0K16N4pPpAzczMzNz11UAUrkfh4tjmQNejcD1KXwNBFK5H4dKyB0G4HoXrKS3hQAAAAAC8KgNBAAAAADqrAEFSuB6FX5D3QPYoXI/a2/ZAZmZmZhp290AUrkfh4hkDQY/C9SiU+uRAexSuR1XK/UCuR+F67H7rQI/C9SjsZAJBPQrXo2SyBUGuR+F6RHTxQHsUrkfNgvlA9ihcjypO50D2KFyPktP3QD0K16OszwZBcT0K19mBAEFcj8L1ZoIAQUjhehSK6AVBcT0K11O26EAfhetRAF7yQD0K16NYx/VAPQrXozgo7kAUrkfhFl/5QDMzMzOXRAhBhetRuJ7IwkBcj8L1CPAGQc3MzMwMpv1ASOF6FJ644UApXI/CBfTTQHE9CtdZ1QZBpHA9CokmAkHNzMzMXKD+QHE9CtcDNNZAH4XrUXDU6kApXI/ChYEEQexRuB5FwrJAAAAAANzM8UCuR+F6hqQGQY/C9Sh4lfVAhetRuASHBkGkcD0K2aoAQYXrUbhew/RA4XoUrtfa9EAzMzMz80X9QOxRuB7n8ABBMzMzM/PizEB7FK5H5RsAQXE9Ctev0AVBKVyPwjXe00CuR+F6oBkFQXsUrkeZYPlAXI/C9UBrBkFxPQrX4y7EQHsUrkfZz/1AH4XrURiH/kAAAAAAGBcBQSlcj8IbXAZBexSuRwnZ7UAAAAAAyJ3pQDMzMzP70uhAcT0K1xvn7UBcj8L1WBz/QHsUrkdxr/BApHA9Cv/i/kCuR+F61LfAQK5H4Xp2CwJBUrgehQMv40DhehSut8v0QBSuR+EcMgdBSOF6FF6J90DhehSu61j0QKRwPQqpsQNBexSuR8XY80ApXI/CnbIFQeF6FK5h8gZB4XoUrpmiBUHhehSu1yLdQEjhehTGlPNArkfheqYaB0GPwvUoMNr0QClcj8LH1wJBFK5H4cKe9ECPwvUoIAXwQHE9CtcLkvtAUrgehRdcAUEfhetR/Cf0QFyPwvXAGf9ACtejcB3Yw0C4HoXrSV7vQNejcD2aNghBKVyPwrld80DXo3A9eozXQLgehesheORAcT0K1w89+kB7FK5HnY8BQYXrUbiCa/lAzczMzAR780ApXI/CfeACQTMzMzNDP+xA9ihcj4qy7kDD9ShcU4z2QNejcD3cqQNBcT0K11tS9kAzMzMzc5L8QM3MzMws5+VAPQrXo3DQ4UBSuB6Fs5/gQHE9CtezSe1A7FG4HoOrAkFcj8L1MFrwQK5H4XpUH9xA16NwPdo66UCkcD0KN3HkQK5H4Xr4cPdAZmZmZqZe+UCPwvUo+Mb1QK5H4Xo82udAUrgehSUaCEHhehSuR7gBQZqZmZm5iulAKVyPwv3A6EAUrkfhGEYDQbgehevVMgZBrkfheiwS6UDD9Shcf8kAQXE9CterPuhAj8L1KGxH60AzMzMzaxYFQVyPwvX0HvZAMzMzM9/y/0AfhetReLa1QPYoXI8erP1AXI/C9Rjl60B7FK5HcfTSQNejcD3OofVAcT0K16P4fUAfhetRbDgFQc3MzMzMdH5AAAAAAAhi4UAK16Nwi2AEQSlcj8JpK/hA4XoUrrd66kAK16Nwgc/5QMP1KFz3k/1AKVyPwuHmAkGF61G4XljSQFK4HoVzoO9ASOF6FE69z0C4HoXrrwAAQRSuR+FCiv9Aw/UoXJco50DhehSuaTsAQTMzMzPDuvRAuB6F61H/60DNzMzMXrkDQRSuR+Ea8P1AcT0K17vV6UApXI/Ck8cEQTMzMzNtaAdBAAAAAMxF8EAAAAAATuwHQY/C9SgE3PBApHA9Cjc8yUC4HoXrxekAQQrXo3AtTNZAMzMzM2Mu7kCPwvUoomMHQQAAAABA2dhAXI/C9ci6/0D2KFyPgkG4QI/C9ShQdABBzczMzLQZ7EAK16NwzbPbQBSuR+HiPulAMzMzM6tC8EBSuB6Fa2elQIXrUbi25vBAuB6F60G13kBSuB6FqVACQYXrUbiONftA16NwPUoD6UCuR+F6pCnqQNejcD0ORgJBrkfheuKSA0F7FK5Hj+ACQY/C9Si8ePlA9ihcj3KOAEHsUbgeNervQLgehesJbutApHA9Cm9T7UC4HoXrkRTpQJqZmZkJ/vxAPQrXowyH/EDD9ShcR/zlQEjhehTKJgdBhetRuK7v60C4HoXr4RjvQPYoXI8qsexAcT0K1+O1y0CamZmZ37YBQUjhehQy6gZBZmZmZpaD2kCPwvUobED7QGZmZmYWm9pA7FG4HrXY60A9CtejwJfYQBSuR+HOu/9ASOF6FMr7/ECuR+F6hKnTQHE9CtcBOAdBZmZmZl6b8EBcj8L1GBL7QAAAAAAGLABBMzMzM/N4u0DsUbgepTXbQIXrUbgCPvVAj8L1KMzE2kCF61G4ZqfmQB+F61EqtgdBj8L1KKp4AkE9Ctej7Nf8QAAAAABm7gBB9ihcj4KTt0BI4XoU9iXkQJqZmZkh2u5AAAAAAICX9kD2KFyPgGADQZqZmZlZMtJAmpmZmWGJ8UCamZmZaRHTQHsUrkeVFvtAKVyPwjVysUCPwvUoqNX5QD0K16O2QQJBw/UoXI/Mr0CkcD0KKTQAQQAAAABo6O1Aj8L1KDxN9kCuR+F6KuEEQTMzMzNTBgNBw/UoXD+92kDhehSuB9MCQc3MzMyI2/ZA16NwPUKd70AUrkfh/jf0QOxRuB4lq9pAzczMzMya+UBcj8L1ongCQUjhehSWavZAhetRuPKX/kAfhetReArNQJqZmZmD8AdBmpmZmVmH10C4HoXrfS3wQEjhehQCffhAj8L1KCx/BEFSuB6FS7vPQGZmZmY6S/lAFK5H4ToAvkDhehSu+z73QFK4HoVnFgJBZmZmZu5d/kDhehSue3IDQRSuR+F6g7pAj8L1KI4VCEHNzMzMPA3VQAAAAADAmOtAuB6F68djA0GPwvUowNv+QKRwPQq/EwJBAAAAALB04EC4HoXr5aj0QOxRuB5npwZBmpmZmRmm7kBSuB6Fo/XiQEjhehTOCftAmpmZmXlo6kDhehSuK6X1QI/C9SiUuAVBrkfhethEBUEK16NwjTD0QClcj8J/YgFBXI/C9WCr7kD2KFyP0r7YQGZmZmY4iwVBAAAAADBV6EAAAAAAqELrQJqZmZl5BQNBUrgehdOZ7UAK16NwpUMFQY/C9SgsyetAmpmZma2z+ECkcD0KHwjyQKRwPQpT+/hArkfheowH60AK16NwpwYAQRSuR+EGgfVAj8L1KCDF9kBSuB6Fp3LyQHE9CtedxAJB7FG4HrX/A0FSuB6FB0L5QPYoXI9yWvdAuB6F63XjAEEUrkfhmnXeQK5H4XoIdARBZmZmZo4a7UDD9Shcfc0DQc3MzMwu/gdBCtejcF1j/UDXo3A9Wn/2QHE9CtfLxQVBPQrXo7bfBEHhehSuB9ryQJqZmZnJlP1ArkfheopQAUFcj8L1AGT5QPYoXI/aXQdBCtejcD2H20ApXI/C/X7tQLgeheuV2/9A9ihcj4KQB0HNzMzM7Mr6QOxRuB6FQPJAMzMzMwM+7kAzMzMzrzPzQM3MzMy8ggRBpHA9CpfDtUCF61G4+vP8QMP1KFxPkL5ASOF6FCah4kC4HoXr7xIGQSlcj8LFkgFBzczMzCwqwUCamZmZXUj5QNejcD0C9wFBFK5H4Zq77EAK16NwvavRQMP1KFyZ1gNBAAAAAApHA0HhehSu28XwQOxRuB7XzAZBmpmZmRlA8EBSuB6F66fvQFyPwvUovblAexSuR9UvBEHD9ShcsY0GQfYoXI+iK8tAhetRuC4F4UAK16NwAxEDQQrXo3BVTupAzczMzHB1+ECF61G4Ho2xQK5H4Xos4/9AzczMzJTt7kCF61G4FPsFQeF6FK6bQvdA4XoUrvcg6kApXI/CWcf6QFyPwvUIefJAMzMzM0+S8UAUrkfhmiXXQB+F61HAe/tAhetRuA577kBcj8L1MgUAQdejcD32gAZBuB6F69FXy0BI4XoUxoYEQXE9CtcDZ+FAhetRuIJR/UApXI/CoSbyQFK4HoXrFqdAzczMzELiAUEfhetRFEMCQc3MzMyc4+lAAAAAAIhn5EDD9ShcF0byQK5H4XqKaABBexSuR9mD8kB7FK5HscrqQIXrUbiOQ+FASOF6FNLR/UD2KFyP+ij9QK5H4Xr4BPRAmpmZmS1x/UAAAAAALHz9QLgehes1dABBMzMzM5ty+EBcj8L1rlMDQYXrUbh6F/FA7FG4HjGl9UCkcD0KSU0HQVyPwvXIqOtAMzMzM+Mc4EBcj8L12sEFQXE9CtcT2thAcT0K13+49EAfhetR9EMDQVK4HoXzmfRAw/UoXAcb/UCPwvUoMCf0QMP1KFzHLvVApHA9CuEXCEHXo3A9ijv0QClcj8K9of9A7FG4HueGAEHNzMzMjJGxQLgehevVkvBAzczMzPg2+0AK16NwP2gAQVK4HoUjbvpAXI/C9cQcCEEAAAAAig8BQeF6FK6/nQBBexSuR6ElCEEK16NwnWDpQLgehevdQPhAj8L1KIjqBEEUrkfhChH9QFyPwvXMEQVBSOF6FI6e+UDNzMzMIGoDQVyPwvXwU/RArkfheuz1/0BSuB6FC9j+QDMzMzMzU9tAhetRuBZh50BxPQrXpwnyQGZmZmaA5ANBUrgehXfM8EBmZmZmOJUBQQrXo3DBdAJBuB6F6xla/UC4HoXr2WbrQK5H4XpQ8v9AUrgehSeaBkFmZmZm7mrhQOF6FK4HFu1APQrXozwUAUEfhetRWLjrQAAAAADmOwNBrkfheooMAEEK16NwgRP2QOF6FK6hHwNBpHA9CkuT9UCF61G4Fo/mQFyPwvUgmQNBuB6F61G7k0DXo3A9+gYHQXE9CtejpMxA4XoUriEmA0EzMzMzY7/dQEjhehTePv5Aj8L1KAyi7UDXo3A9ekbVQFK4HoU99wZBexSuR+XXAkHNzMzMBPDtQClcj8LdK+dAZmZmZu6Q/UBcj8L1XsYAQY/C9SgAPwNBMzMzM40mAkFxPQrXs23jQDMzMzNTKQRBZmZmZlTOAEFSuB6Fu7/4QMP1KFxPxe9A9ihcj05W+kDNzMzMxCT7QEjhehQqPPxAw/UoXFklBEFmZmZmlKYHQR+F61FIi+xAMzMzM5uN6UCamZmZcYvyQBSuR+F6xF5AmpmZmddkBEEK16NwSbT8QClcj8K1/rtA7FG4Hqu+AEGF61G4pm38QK5H4XpUqd9APQrXo5yN+UBSuB6F+5blQEjhehQesdNAcT0K19MQ2kCF61G4Olv6QFyPwvUCUQJBMzMzM/l3B0EK16Nw7SUFQUjhehQep/1AcT0K10uW+UDXo3A9cgjxQArXo3ArxgVBPQrXo0Bl+EBI4XoURjfoQOxRuB65tgZBMzMzM3fs8kDXo3A9EsTqQOF6FK5f7e1AzczMzGpqB0GamZmZAyMDQexRuB41APJAUrgehePU/UCPwvUoUCf+QAAAAADAA8BASOF6FI6Qy0AfhetRID/pQFyPwvWMxANBw/UoXM+D/UA9CtejYMHvQFyPwvUKDQRB4XoUrn9i6UA9Ctej0EnFQGZmZmZepgVBMzMzMyMy70DNzMzMjIkFQY/C9SgY2vNAPQrXo3BXy0DD9Shcj4u2QM3MzMy02ORAKVyPwnkt9kAfhetRAHDqQKRwPQrHfwZB9ihcj7LU00AUrkfhAlD/QPYoXI8ATgZB16NwPQrlr0DhehSum/X4QD0K16MWHQBBMzMzM2v3/kDhehSuqyYGQbgehevt1wdBUrgehRtz3EAUrkfh5hYAQR+F61HANgVBpHA9Cnei2UAzMzMz0UsGQWZmZmY0/wdBH4XrUcxUAUEfhetRMALrQAAAAAAYvO5ArkfhenCr8UBI4XoUIP0GQfYoXI/YSABBAAAAABQ2A0F7FK5Hgbf4QAAAAABoBvlA7FG4HjVZ4kCF61G4CmD0QHsUrkfjVwhBXI/C9Tgr2EAAAAAAULr9QOF6FK4nwPtACtejcPdeAEFcj8L1vlkGQdejcD2YhANBH4XrURg+wEBSuB6FCx/vQHE9CtezH/dASOF6FHbF8EBxPQrXcwTiQD0K16O4TwZBFK5H4dJ27kDhehSup5DyQAAAAADMUvFAuB6F6/Fu8EDD9ShcZ/f6QB+F61HwmfVA4XoUrvvw/UCuR+F6vHbzQB+F61HY2PdAH4XrUQCX+EAfhetRqJH5QPYoXI/S+NVAXI/C9XiY20AK16NwQdr6QPYoXI86TwJBmpmZmZkP5kDNzMzMLisGQQrXo3BR4P5AzczMzFahA0EpXI/CLYX1QHE9CtfbkPVAexSuR+0D9kAK16NwIdnzQArXo3ClTe1A9ihcj86k+EAfhetR+JvIQOF6FK7rZP9A4XoUrhej1kD2KFyPmj7rQI/C9SgIkQJBZmZmZljUA0EfhetR6B/rQKRwPQqLu/pASOF6FJqa8UCkcD0K52rkQD0K16NQEfJACtejcAUl8UApXI/CwcMBQa5H4XpkZP5A9ihcjwKvw0DhehSuOSMEQeF6FK7XQPZAXI/C9TQ9+UAK16NwFUP/QPYoXI/aiOpAexSuRwGXykCPwvUoNFjhQKRwPQoXxuNAZmZmZv5v9kCamZmZXc8FQaRwPQqnct9A7FG4HqWS/ECF61G4EP0DQY/C9Sis3tNAZmZmZmqu9EBcj8L1NG39QPYoXI+MlgJBPQrXo8yeAUEAAAAAEKz3QArXo3AbygRBw/UoXD8u3UB7FK5HB9EHQbgeheth6wZBpHA9CvuA8EAK16Nw8d/5QBSuR+EaX9lA16NwPepl+0CF61G4HjvtQBSuR+GiyuRAFK5H4TqpskDD9ShcsbsFQfYoXI+SYP9AUrgehVue+kD2KFyPwrehQMP1KFzP4epAhetRuIKq8kAzMzMzb23yQB+F61FE3gVBuB6F6/2dB0HNzMzMLEn5QFyPwvVIDvlAexSuR4E760B7FK5HMXIHQVyPwvVCrQFBFK5H4TqQs0DsUbgegzMFQaRwPQqfQvxAw/UoXA8C40BxPQrXaUkFQZqZmZm5VOhAFK5H4ZqY8kD2KFyPzEoAQVK4HoUz7eJA4XoUrluUBUEzMzMz87PJQKRwPQo/i+dAzczMzKZ5AEEUrkfh6HwGQexRuB4V0NJA4XoUrtOn9kDhehSuRyvgQJqZmZlf1wJB4XoUrlGQBkFxPQrX+wIDQQAAAAD0rvVA9ihcj5ymB0EfhetRQHT8QB+F61GmTQRBH4XrUeCg40B7FK5H4VnpQHsUrkcR5/FAZmZmZli/AUEK16Nw2S4BQZqZmZm1mPBA7FG4Ht09AEFmZmZmfjD1QAAAAABoO+dA4XoUrj2CAkFI4XoUPAYEQZqZmZkZJNBAmpmZmRFM8EDsUbgeJcvSQHsUrkeJWflAMzMzMzNrf0AfhetRuAKWQI/C9ShcYbdAmpmZmYFK4kBSuB6FG6/dQKRwPQpXhaNArkfhekQG60ApXI/CVxsCQaRwPQq37OxASOF6FJ7A50DXo3A9uC4BQYXrUbgGTPpAcT0K17UuBkHNzMzM1BfiQIXrUbikOwVBzczMzCw++EBcj8L1oLruQBSuR+H6/upAuB6F66GI50BxPQrXlc4FQY/C9SgcLcBAuB6F65FC4EA9CtejPK7yQLgehesRcuBA7FG4HrOdBEFxPQrXEWgHQR+F61EwuvZAexSuRyFY10Bcj8L1iN/OQB+F61HQc/RAmpmZmSUD9kAAAAAA6OPhQBSuR+FoBgFBXI/C9RI4CEFxPQrXw8AHQexRuB5tfANBw/UoXO+24EBcj8L1tADxQPYoXI/iCfZAuB6F6xFd50CPwvUojOEDQTMzMzNTlgRBcT0K14uM6kD2KFyPSlgAQWZmZmYwDQJBSOF6FJbi/EC4HoXrQR8GQbgeheuR8b5APQrXozBMtkA9CtejkLbrQNejcD0KGbBACtejcNG790AK16Nwnf/IQNejcD0KnOhAUrgehfs85EDNzMzMOqYGQTMzMzMlMQdBSOF6FBjaBEF7FK5HteL0QClcj8JvugBBXI/C9cjU0kBmZmZmiq4EQTMzMzM1HgBBPQrXo/BUrEAfhetRMNjoQAAAAACSNQJBCtejcE1HBkGuR+F6xLAHQRSuR+Ga/MFArkfhet5/BEFcj8L1iA3+QHsUrkdh+65AKVyPwvlp9UBcj8L1aEDoQClcj8IZrwBBSOF6FC6D4UAfhetRCIbZQB+F61GoS+BAAAAAACC4w0BmZmZmcgsHQaRwPQrzefNAexSuRyGlAkGamZmZ2Z+2QKRwPQo3v8lAuB6F6/nkBkHXo3A9Av76QHE9CtdzJu9AcT0K19NQ7kDhehSux2HIQOxRuB6FacVAAAAAAIAbwEA9CtejIBMDQY/C9SjsS9pAhetRuOay9ECkcD0Kh2DTQBSuR+EWSvdAhetRuFxbAEFI4XoUNl76QClcj8ItNfhAAAAAAPAr6EApXI/Crf0HQaRwPQpRAAdBCtejcGXqBEHXo3A9/k3zQD0K16Mwc9RAH4XrUcj64EBcj8L1aNG6QClcj8Lt+OhAzczMzOz25kAfhetRAAfnQLgehetXXgNB7FG4HhX370ApXI/C/RrzQAAAAADER/lAj8L1KJTg9UAfhetRIJ4HQexRuB4FT7RAH4XrUXDL6UBI4XoUvh71QEjhehR+hPhAAAAAANxvBUFmZmZmttTSQOxRuB4VztpAhetRuNp0BkEK16NwPQfmQI/C9SiAC/tAmpmZmRFYBkEfhetRHrkDQdejcD0gWQRB16NwPVpg8UCF61G4Hum0QOF6FK43APVA7FG4Hv0W9UB7FK5HYebeQMP1KFxPOfFAexSuR8HW10ApXI/C7dj9QClcj8KdtQZB7FG4Ht3a8UC4HoXrs+oGQZqZmZllPvtAmpmZmfn5zkBxPQrXm/HtQOxRuB4nlwVBXI/C9QAl+EBmZmZmMoz6QOF6FK4H9cdAAAAAAKzvA0GPwvUoPj8GQTMzMzMrigRBexSuR/VbA0HD9ShcZwr5QD0K16MeUAFBMzMzMzm8A0FxPQrXaXAHQZqZmZkxOP9AuB6F63Gx7UApXI/CSQMAQSlcj8Lh8v9AFK5H4a7Q8UDD9Shc/3bbQFK4HoWRLgFB9ihcj9JXBEHhehSuZzjmQNejcD2qZPtAZmZmZoYi4kA9CtejhMIFQRSuR+Fup/hASOF6FKLD+kBxPQrXMzv4QFK4HoWNfwFBXI/C9aAg7UAUrkfhBAgIQWZmZmaG2PpAMzMzM4sR/0DNzMzMzC+RQDMzMzOD2AFBPQrXozi150DNzMzMuKABQdejcD2E5QdBpHA9Cm/j5UBxPQrXf6r1QClcj8JRsPVAZmZmZhZU7kD2KFyPWPcDQa5H4XqCVgVBj8L1KLy35EBmZmZmei30QDMzMzP5YABBpHA9Cj+F9kDhehSuhx+4QB+F61Foh9xAH4XrUeBo8ECF61G4bqIEQXE9CtdJDAdBhetRuAJj80D2KFyPasj1QIXrUbj6A/VAKVyPwhVIyUCF61G4plMEQc3MzMw83f5AzczMzPDA9UDD9ShcaTsAQfYoXI8mvPZAUrgehRFzBEHNzMzMvDEDQcP1KFxbOvpACtejcIFi8kApXI/CA1UGQTMzMzOzX7dASOF6FDj6A0GF61G4ntL1QB+F61EsmgRBKVyPwgWm90CF61G4vmkAQeF6FK4XtNtACtejcKld+UDNzMzM9ODuQArXo3DVxARBXI/C9Sj6rUAAAAAAHLP2QFyPwvVCXAdBMzMzM5Ob+UCamZmZqW/tQBSuR+GsDgZBPQrXo7zg/kC4HoXr/0wAQXE9CtdDV/VA7FG4HrUgBEHXo3A95mD8QFK4HoUZ2gBB16NwPRrP+EBxPQrXowWfQM3MzMzUNwRBCtejcMWzBUFSuB6FUw7wQJqZmZn5yOhAcT0K14PsA0EUrkfhLkbyQClcj8LF8NZA9ihcjwRkAEEzMzMzSQIDQY/C9Sj2+AFBUrgehdNCAEHhehSuh4rSQFyPwvW8ifhAzczMzEz67EDXo3A9ykj3QMP1KFxfD99A16NwPfpe6UDsUbgeifD/QEjhehT2PwNB16NwPQorjUAfhetROACkQLgehevxNMlAXI/C9aaRBUFI4XoUyh/5QJqZmZlhKeRAXI/C9XAV/UApXI/CKd7+QJqZmZnVXflAAAAAABDK9EBI4XoUzmbIQNejcD1GbQRBw/UoXCO6BkFmZmZmbp/1QDMzMzN3DwVBUrgehQ3YAEGF61G4blTTQNejcD0mVvpAhetRuNr+BEGuR+F6vDDuQGZmZmYW/N5AZmZmZqjyAkEzMzMzL/P/QFyPwvX4Xu5ACtejcM2v10DXo3A94pTvQK5H4XqMg/VAuB6F6/k58EDNzMzMDJPNQPYoXI/OH/lA16NwPVKF50AfhetR2KbGQB+F61EQDQVBw/UoXOl3BkHsUbgepYvUQJqZmZklvvpAzczMzIiK/0AUrkfhpuIBQXsUrke3JQZBw/UoXLOm/UBI4XoUBBQAQQrXo3DFBepAzczMzCiS90AzMzMzZYYGQa5H4Xra1QdBj8L1KFQSBUFI4XoUbu/sQArXo3DNStlAAAAAAABKrUDD9Shc7+H4QHE9CtdTOexAj8L1KLZjAUEfhetRrI4BQY/C9ShciuVAzczMzCLSBkHXo3A97jEFQWZmZmau/edA4XoUrlW+BUGkcD0KZ2fUQHsUrkfpKuRAzczMzABkCEHXo3A9VAgGQa5H4XqIVvVAAAAAAGz98UBxPQrXjQ4FQT0K16NkzPVAmpmZmZX7BUEAAAAAkJXVQDMzMzNPkvJACtejcN1n30DXo3A9KnoDQZqZmZmVSfpApHA9Cvdo4EAzMzMzXTcBQXsUrkdxQPxAw/UoXAMH9UDsUbgepQYCQZqZmZlDqgVBhetRuMhOB0E9CtejPKP0QDMzMzNrqwNBpHA9Cp2mBkHhehSuZybgQAAAAADYb+NAFK5H4XrF2UB7FK5HYcHHQFK4HoUvagRBcT0K12ts6UAUrkfhMnYGQR+F61G4NIJAexSuR1N9AUHD9ShcT5nqQDMzMzNDpf1AuB6F64F180CF61G49gvkQM3MzMzMTuRAKVyPwn1g6kDsUbgeUZHyQJqZmZmJlAZBMzMzM+8r/0B7FK5H4W+TQIXrUbhqovJAFK5H4dS9AUGF61G45jLsQLgehesB9ABBH4XrUcKdAEEK16NwKXYEQVyPwvXkJgVBw/UoXNdU+EBcj8L12DHwQD0K16MMJvFAhetRuBa5+0AfhetRuJaFQI/C9SgsH/hAMzMzM1/m/0DsUbgerWn8QDMzMzMhtgZBXI/C9VBw+ED2KFyPBr8EQR+F61EYLO5Aj8L1KKSK4kCuR+F6dhEHQdejcD3qE/VAuB6F62+oAkEUrkfh4OYBQXsUrkdBNeZAcT0K14WbBEEUrkfhKvTsQEjhehSOuf5AH4XrUYSe8kAK16NwvceuQOxRuB4l5c1AexSuR9ls7EBcj8L1oIThQHE9CteDwdRAXI/C9Xj110AAAAAA4PrWQBSuR+GywPVAFK5H4Xo4iUAAAAAAiK/9QFyPwvWoXLJAmpmZma/DA0EpXI/CWRH2QFK4HoVrzqZAcT0K1+sw+ED2KFyPEusDQXsUrkdVw/FAzczMzGzk8UAfhetRQtQBQVyPwvXKdwRBZmZmZtzSAUFSuB6FVz35QIXrUbjuRPRA9ihcjyJ75kC4HoXr2VEGQQrXo3Ah6wRBXI/C9ThjBkGamZmZn6kCQWZmZmYOsOhA7FG4HtW16kAAAAAA3CHzQEjhehSqw/BAcT0K1316AkEUrkfh6n3TQEjhehTuUtpACtejcLme8kAAAAAAaKj4QEjhehTwUgdBAAAAANSWBUEfhetRqCHmQHE9CtdzTwdBCtejcAlD80DD9Shcx8b9QDMzMzMzxMVAcT0K16uZAUEzMzMzY/3fQM3MzMwEnPNAKVyPwjWvBkGuR+F6+ooDQRSuR+HafOlAj8L1KNwQ30CuR+F6XG/5QKRwPQozhfBAKVyPwrOtB0FSuB6FPy0IQQrXo3A1HuVAPQrXo0D26kBcj8L1SgcAQTMzMzOjDeVAFK5H4fjIBkF7FK5HST7gQArXo3A9WoFArkfhegJtAkF7FK5H6cjxQOF6FK73OeFA4XoUrsdroEAK16NwXS73QAAAAABcL/hAXI/C9UA88kDNzMzMTH38QM3MzMwEB+BAFK5H4bwKAUFI4XoUUjT8QLgehevBdtRAzczMzKSO6UAK16NwKYIDQeF6FK57vgRBj8L1KIzTAUFxPQrXFbECQeF6FK7nde1AH4XrUWr9A0GuR+F6Rh8DQdejcD2+igVBzczMzEwMtUDXo3A9Ssn2QOxRuB6NYfFAUrgehSnKBEFcj8L1JM76QPYoXI82TQRBH4XrUYTw/kCPwvUovKDdQPYoXI/6heJAhetRuF682ED2KFyPikHoQBSuR+HUsARB9ihcjxLh2UB7FK5H01EEQexRuB5zIQZBCtejcA1C1UA9CtejFMnxQEjhehT+7NdAhetRuC4r+EBI4XoUMEQBQfYoXI+GAvNA7FG4HrUa/EDhehSu75QEQc3MzMzM0uJAFK5H4VSbA0H2KFyPQuusQKRwPQo3pfVA7FG4Hj2e5UDsUbgeexoDQVK4HoVnVgZBmpmZmVFfBUHsUbgeWSoCQQrXo3DR+PRA9ihcj7pSCEGkcD0KV1z6QJqZmZnJQf9AKVyPwi2K+UDNzMzMyALxQArXo3DNkeFAhetRuDLL/EC4HoXrSTr3QPYoXI8UeARB16NwPVKe60BSuB6FHwz2QPYoXI9y1PpAKVyPwvXMnEAfhetRsBX5QNejcD2ey/dAzczMzIi4+UAfhetRnPL0QM3MzMyg7/BA4XoUro+ZBUHNzMzMTBfVQMP1KFw9jwJBCtejcFFR+0Bcj8L1FNAHQXsUrkeBK89ACtejcE278UDhehSup1PvQAAAAAAgTddACtejcHHr9EDD9Shc2+cFQQrXo3DBv/ZAhetRuEgtA0HD9Shcj53zQPYoXI8ieNlAUrgehbur3kBcj8L1KEvfQFyPwvX2MwBBCtejcE0U7kBI4XoUDivkQOxRuB5NTexA16NwPdrt5EAfhetRAK0CQWZmZmaaQ/ZA9ihcj0bF/0AzMzMz96r1QBSuR+Fua/lA7FG4HoWF5ECuR+F6DHfyQMP1KFzHOepAZmZmZiaFyUApXI/CD5sCQexRuB4FxqlArkfhel4uCEG4HoXr4V/5QGZmZmY6MPFAKVyPwj3y+EBSuB6Fy6ndQIXrUbjmjgZB7FG4HsdLBEFSuB6Ff5T1QFK4HoUvH/xAcT0K18M3y0BmZmZmZnz0QBSuR+EK8+BAUrgehasXy0AAAAAANgcBQexRuB6lLQFBCtejcJ0y1ECPwvUopFL+QI/C9Si2fANBMzMzM4XhBEG4HoXrQb3YQOF6FK4nr9xAexSuR7nQ4kCkcD0K0Q4DQaRwPQoHRuxAZmZmZkaG3kBmZmZm8JUHQVK4HoXt0ABBmpmZmRn+yUAzMzMz7zcAQT0K16O0if5AmpmZmZk6yEB7FK5HKWjiQGZmZmb6x/lAcT0K1/9tAUH2KFyP4I4EQSlcj8IjdwZBpHA9Cs+r50Bcj8L1KHCuQAAAAACWKABBKVyPwk1Q/0BmZmZmYgL6QIXrUbg2B/lAuB6F671r9EDNzMzM1vQAQexRuB71St1Aw/UoXIsHBEGkcD0KR/IGQRSuR+HaTgNB7FG4Hv0BA0EAAAAALPj0QD0K16NMePRAzczMzDxm5EAK16NwQf/zQLgeheuJAwFBzczMzKD18UDNzMzM0DwEQXsUrkdPWgVBH4XrUWB9/UAfhetRkGPrQNejcD0AYwNBcT0K18+t/kC4HoXrCVn/QFK4HoXTKvpAUrgehTvZ8kApXI/Cwaz/QClcj8Kn5gZBSOF6FJKNBkFxPQrXqz3vQMP1KFz9iQdBUrgehRdM8UDNzMzMvELbQGZmZmYCMAVB4XoUric2wkAfhetROAHaQGZmZmYOxgFB9ihcj4CjAUEK16Nw/QHHQNejcD32gPRAuB6F62Ub/kBSuB6FO/nvQAAAAAAATudAmpmZmWHn7ECPwvUoyPD3QKRwPQqv//VAUrgehat2ykB7FK5HwbH7QIXrUbhGueRAKVyPwpms8EBmZmZmapDzQJqZmZkxc/dAmpmZmaWy80DhehSu3yL7QKRwPQqjSgZBFK5H4Rap+kDD9ShcVXMCQSlcj8LZ7PZAexSuR9m+4UDsUbge6f/3QGZmZmbOvvRAuB6F67GM+kCPwvUojFnVQBSuR+H+rP1AuB6F60mdBUFI4XoUYCUBQbgehespQeFACtejcPeeB0G4HoXrgWvfQGZmZmbms7ZAFK5H4cxCAkHNzMzM/EfiQEjhehRcbQFB4XoUrtf95UAzMzMzCwIFQVK4HoXFAwZBuB6F6xFC4kCamZmZAQDiQIXrUbgUKgBBH4XrUci77UA9CtejSpEBQY/C9SiCBgVBH4XrUbwl9UDsUbgeVwcEQRSuR+H22vBASOF6FKYrAEEAAAAAkOTvQEjhehSG6etA9ihcj6LL4ECF61G4vKgFQeF6FK7LVQFBUrgehaeu80AfhetRpFP+QM3MzMxk0vRArkfheiT340C4HoXrTS76QClcj8KvhARBCtejcDvnAUHNzMzMzLeyQHsUrkc5f/1AhetRuLr2+0C4HoXrh8wCQT0K16Pk1wBB4XoUrvtY9EBmZmZmMhH0QJqZmZl3QQJBAAAAAMQhCEHD9ShcH87xQM3MzMwq4QRBMzMzM8MU20BmZmZmPsv+QHE9Cte3X/lAPQrXo5oFAkHXo3A9MkHuQFK4HoW3n/5AexSuRxGg5ECPwvUo3ErsQFyPwvVcugJBXI/C9fgoB0FmZmZmTDAEQcP1KFz/OdNAj8L1KDRG40CkcD0Km6oBQfYoXI98ygdB9ihcj37d8kDsUbgejaj5QOxRuB5jlAVB4XoUrtPFAkG4HoXrgUvlQHE9Ctd7Z/NAuB6F6wWK9kAUrkfhjpUHQUjhehQS2f5Aw/UoXAd7AEFmZmZm5rvQQD0K16N4ne1AZmZmZrj9BkHsUbge9b7WQAAAAAB4d+9ApHA9Ctf/cUB7FK5HS9cAQTMzMzOfnvFA9ihcjxJX40DhehSuEWsFQXsUrkdN2/VAAAAAAKDSyUAK16NwlR75QOF6FK4hUgRBexSuR1GD2kDNzMzMJBrtQFK4HoWLgtVAXI/C9RyvAkH2KFyPiGwEQRSuR+H6EMlAH4XrUXYeCEHhehSux4KvQFK4HoVTu/5Aw/UoXIuYBUFmZmZmSsD5QArXo3CN5OxAH4XrUbCL+kCkcD0Kc2YFQXsUrkdBo+JAPQrXo/DZ+UCuR+F6kFj3QDMzMzOTosJAH4XrUSYhAkHNzMzMPM/7QClcj8I9GQRBPQrXo9AT+ECkcD0K/0ziQClcj8I1885ArkfhehTws0AzMzMzMz7uQLgehevFwARBCtejcEUkBEHNzMzMUJryQOF6FK7f0fxAMzMzM4c1A0GkcD0KE/QHQdejcD0SrOVAZmZmZhrS8UAK16NwsWn+QOxRuB4FT+VAFK5H4Vpk3kC4HoXrMdnVQM3MzMwSywRBuB6F6+tjA0EUrkfhYpXwQFyPwvX4xgdBSOF6FCB9BUHXo3A9UEUIQfYoXI9clwRB7FG4HkUYu0BxPQrX8eAFQfYoXI/eP/lASOF6FNIDAkFxPQrXh9z/QD0K16OQis9AexSuR+EE/UDsUbgeKYEBQQAAAAA41wBBw/UoXG/g9kBmZmZmWhwFQUjhehQiaPpAFK5H4QKH4UCamZmZSZn5QOxRuB6XDQdBMzMzM/Px20BSuB6FC/8EQdejcD2SWu1ApHA9CgXRBEGamZmZnScHQUjhehTeSOhACtejcJmr/UBSuB6F91nxQPYoXI+adAFBAAAAACB/yUA9CtejqNP1QLgeheuVKPtAmpmZmW01/UAfhetR7oACQRSuR+GaCfJAPQrXozaYBUE9Ctej8Hq7QHsUrkc56/1AXI/C9bi4A0F7FK5HM8kAQa5H4Xq0oAZB7FG4HoE+BkF7FK5HocrkQM3MzMx8LN9ACtejcM0D+UA9CtejFMf6QM3MzMyQ9vlAZmZmZo4E+UAfhetROLPhQK5H4XqcHOBAUrgehZ/RB0EpXI/CzdbrQEjhehTedwNBCtejcBmk+EBcj8L1iHDIQGZmZmZOSfJA7FG4Hr+8AEEfhetRkGbtQDMzMzN73gZB16NwPaRfBkFxPQrXY72/QFyPwvVIM/lApHA9ClOn90DhehSuh1bBQK5H4XpQAgJBCtejcK1N4EDhehSupx/mQFK4HoXTM+FA7FG4Hg017UDD9Shch93wQBSuR+HUggFBH4XrUcDo40AfhetRFEP4QArXo3CLTwBBAAAAAHDH+EAzMzMzXyL9QFyPwvUSeARBzczMzKapAkEpXI/CDTDxQOxRuB6t8O9AZmZmZkZOBkGamZmZKeLzQKRwPQrbmwFBuB6F6+Gh40AfhetRUKDqQB+F61H46t9Aw/UoXP+P+UBSuB6F20baQPYoXI96CwZBH4XrUTC97UDNzMzMJFTnQBSuR+Hqa/pA9ihcj0LFq0CF61G4jjHzQFyPwvVsjfhAzczMzNpeBkHhehSu2WwDQc3MzMyGpgNBH4XrUaj25EAzMzMzs0n2QFK4HoXrnulArkfhekSQ+kAUrkfhEuX9QJqZmZlJWuRAUrgehb0sAkEAAAAAwtEAQXsUrkdvQwdBrkfhesDr+EAfhetRcH7rQPYoXI/yTehAMzMzM3MrsUD2KFyPUsvbQM3MzMwshttAMzMzMzOaqEBcj8L1CLcHQfYoXI/IIQJBXI/C9aRp/ECkcD0K12m6QIXrUbi+BPRApHA9ClcczEDXo3A9Ck99QD0K16O44P1ApHA9CnfWyUCPwvUokMwCQUjhehSWiPtAexSuRw1h/0ApXI/CUcQEQeF6FK7H56VASOF6FPI0BkHD9ShcnyL8QEjhehRCuv9A4XoUrk9k5kCuR+F6XAAAQYXrUbjOquZAj8L1KHwp7EDhehSub7gEQeF6FK6XadlA9ihcj2KZ/kDD9Shc79fUQEjhehQYFgFB16NwPfor50CamZmZOSXrQB+F61FkaAdBSOF6FFal8kBI4XoU9KkEQaRwPQpvtgBBCtejcD3K6kBSuB6FixsDQTMzMzOjtPtApHA9Cs/67kD2KFyPApzKQB+F61F0KgJB9ihcj/4B8EDNzMzMjAm5QK5H4XpYAf9AXI/C9Zb3BEGkcD0Kc4D/QK5H4XoaTQZBexSuR4EfyEDhehSun34AQcP1KFyTJwZBXI/C9dLDBkGamZmZGSTkQK5H4Xq0YvxAcT0K18P4wUDsUbgeZa/zQJqZmZntbQNBCtejcKEd9UB7FK5HIx4IQdejcD1+rPlAH4XrUejs40B7FK5H4ephQD0K16P8t/5AmpmZmQ3nAEHsUbgeHX3lQK5H4XrUVPBAXI/C9XCt8kBSuB6FA7rrQGZmZmZMcQVB9ihcjzqs+UC4HoXrkS3nQB+F61Ewm+9AmpmZmU2v+ECamZmZVzQBQeF6FK7PY+JA9ihcj+YY9UDNzMzMlGvkQPYoXI9iL/9AAAAAAAA+/kCF61G4rpn7QOxRuB7rCQBBcT0K12P32UDNzMzMOtwHQQAAAADMlPpAmpmZmbObAEF7FK5HtT8GQQrXo3CRi/9AH4XrUbCq70AzMzMz6S8CQY/C9Sh4WPFApHA9Cu2fBkHNzMzMCtIAQXE9CtdpNQhBAAAAAMzKA0HsUbgejcf6QHE9CtcbvOFApHA9Cjem3kDhehSuO9r7QDMzMzMd8ANBPQrXozjL6ECkcD0KNw3eQGZmZmZCyPtAPQrXo8gJB0FmZmZm1ir1QClcj8JJsQJBKVyPwkVc00DXo3A9as3HQFK4HoWPOPVAPQrXoxhK4UBmZmZmRDYEQR+F61FYjOdAXI/C9fJYCEF7FK5H2f38QHsUrkc/ggJBmpmZmQ8CBUFmZmZm0mf1QLgeheuRWNVArkfheqQ9/kD2KFyPZjzyQHE9CteTYNBAMzMzMxMi6EApXI/C+f8EQa5H4XpoVwZBmpmZmb0P8kBSuB6FS6bZQAAAAABQRthAMzMzMwmBBEGamZmZ3RsHQc3MzMykW/hArkfhegw6/UC4HoXr/ZQEQUjhehTySPRAPQrXo4zm/0BSuB6FnUQAQexRuB5dXfBAPQrXozg3AUEfhetRYIv+QNejcD2GxPxAKVyPwg1FCEHNzMzMXN8BQa5H4XqEBwBBmpmZmaFKAUEAAAAAqHvvQBSuR+F8VwdBSOF6FE4c4kCF61G4thXsQIXrUbgm4e5A9ihcj/rC5UAUrkfhSIUAQVyPwvWAleBASOF6FOYW7kCPwvUo7qAEQfYoXI+WK/JAhetRuI7XBUEpXI/CbcD4QGZmZmYMEQZBPQrXo6iN9kAAAAAAiK3iQM3MzMz61QFBhetRuOKp8UCPwvUoTI7nQPYoXI+OGgJB4XoUrgcnwECuR+F6tEnkQK5H4XoG7QBBcT0K10NvyEDsUbgeLW7lQAAAAAACiQdBAAAAACB/8kCPwvUoXD/DQK5H4XrMQPxAZmZmZvbz+UBI4XoU4HEGQeF6FK47yQJBw/UoXHtI8EAUrkfh2DgFQY/C9Sh4qAVBw/UoXIui+kAK16NwAVgEQQAAAADImAVBmpmZmdEG+EBcj8L1zOvyQHsUrkcxPP1AcT0K1x+UA0EAAAAAmKUHQXsUrkdxY9tAzczMzCpnAkGuR+F6xBT0QK5H4Xrc2AJBmpmZmaV59EAzMzMzw3LjQI/C9SicRshAAAAAACBV0kDXo3A9arPCQFK4HoU3AgdB9ihcj4KZ70DD9Shc37D0QEjhehQ+CgZB4XoUrm+97UAfhetR2EAFQWZmZmZe9PpArkfheqDnBkFI4XoUQkHwQI/C9Sjc0gVBKVyPwvlH8UBSuB6Fi9bmQI/C9Sj67wNBrkfheghV+UCuR+F68FP6QOxRuB6NEOBAzczMzASuB0H2KFyPyjIBQexRuB7trP5AexSuRwHe00Bcj8L15kUFQfYoXI9KffpA16NwPfJS9EAzMzMzA7/9QPYoXI9gOQBBmpmZmbFu+EAAAAAA/CH9QKRwPQoJsQBBSOF6FD7V1UBSuB6Fq8zDQAAAAABaVQNBXI/C9agW90A9CtejcKeOQDMzMzP3VfdA4XoUrs8B9UCkcD0K40oEQeF6FK6HeLRAcT0K1+FkAkHD9ShcT57/QPYoXI+SQPFAmpmZmVXs+EBcj8L1YM8HQcP1KFy74vZAuB6F68EE8EBxPQrX+4oDQdejcD1aLOhAUrgehWOP9kApXI/C9fe8QHE9CtfDeNhAPQrXowiF/ECPwvUocJYBQbgehes57f5AhetRuBBsBkH2KFyPFF4EQY/C9SjMt9pAZmZmZiq8+EDXo3A9ylLbQArXo3DlufpASOF6FBLh9kBxPQrXb0fyQEjhehQcfAdBzczMzBjv8UAAAAAAGNjtQD0K16NINfZA4XoUrpuO/EAAAAAAbH32QM3MzMy8nOdAMzMzM2sWCEFcj8L1bJUAQR+F61EUpQRB4XoUrlMKBEH2KFyPKmcIQQrXo3DxVfRAuB6F68E640BxPQrXYY0GQexRuB4dae5AFK5H4dAFCEHD9ShcUakBQXsUrke19wdBSOF6FI5F5ECamZmZoVn7QHsUrkdpaOlAzczMzNajBkEfhetRVJHzQBSuR+Em3wRBuB6F6x2vBkGPwvUo9K/7QD0K16NsifBAH4XrUbhGqkCPwvUoapIAQTMzMzOjytVA7FG4Hmmf/0ApXI/CTTLiQIXrUbguTu1Aw/UoXLutAkE9CtejIHjqQMP1KFy/+vtAuB6F68s+BEFI4XoULgLQQFK4HoX93ANBAAAAAIQm+kCkcD0K52vkQD0K16M0ZPhAH4XrUajBBUGF61G47pPVQHsUrkcpJwhBuB6F68HiAEE9Ctej5sEAQZqZmZmZUtVAKVyPwi1F/UDNzMzMLP3XQGZmZmbm8MNAZmZmZppf9ECamZmZQebzQArXo3CN3N9A7FG4Hs155UDhehSuo3z+QAAAAABM4/xAUrgehXuY1UB7FK5HsTbfQKRwPQov0flAPQrXo7B+40BI4XoU7ij/QIXrUbi+GtxApHA9CleMw0DXo3A9iujXQD0K16OsE/hAH4XrUfjMz0BmZmZmepn9QHE9Cter1eRAFK5H4eAhBEEfhetRyjQDQc3MzMw8xwJBZmZmZm6aBEEzMzMzrZAEQVyPwvVu2gRBcT0K1/cL9UBmZmZmjt3tQHE9Ctc9RQBB4XoUroPU8kCuR+F6wPXyQDMzMzMjyOtA7FG4HhXP8UBxPQrXQy3mQJqZmZn7WQNBw/UoXA8t+0AzMzMzOfAAQYXrUbjkQwdB16NwPbpP80DhehSuqesAQfYoXI+2tQdBrkfhesjq+kDNzMzMVOj5QKRwPQpRtQRBhetRuD5d/EAAAAAAAPBWQDMzMzP/7QZBZmZmZqqQ/UBxPQrXAz/eQPYoXI+Cmt1A7FG4HqVHzEAAAAAAWvkHQR+F61EYDtNAH4XrUeyn8UDhehSuc5b3QEjhehQODd5ACtejcAmuA0GuR+F6vE7wQNejcD0aRP5A9ihcj+LrykB7FK5H454EQUjhehTQcwBB16NwPW4+/UCkcD0K/3jpQK5H4XpMeARBexSuRwUwAUF7FK5HwVvTQGZmZmae0PFAj8L1KPiKAUFI4XoU8hMGQa5H4Xqkrf5AAAAAAOi6/kBcj8L1KIvNQAAAAABQ7tVA16NwPW4r9EAK16Nw7RLgQArXo3D90P5AH4XrUaBY+0D2KFyPEhcGQfYoXI8qd/9Aw/UoXHGuBUFmZmZmVE8FQQrXo3AvxgVBexSuR0E++UCkcD0KN9/sQClcj8L1WoVAhetRuPrEAUH2KFyPIoHnQDMzMzPPL/ZAhetRuHg8CEHsUbgeoe35QEjhehSAXwRBKVyPwkVD8kDNzMzMsI78QAAAAAA4/gNBSOF6FNIk8UAfhetRHFT6QK5H4Xp0cPNAw/UoXP3kAEHsUbgeaU8GQVK4HoXByAZBw/UoXJ9CAkGF61G4qoH/QOF6FK6fUudACtejcMMXBUHsUbgehXbvQAAAAAAscQRB9ihcj8oC+EAUrkfhEkjkQAAAAADksPFApHA9ChN1+0BI4XoU7n/vQAAAAABsa/ZAFK5H4bJKB0FmZmZmcmv7QHE9CtdDpfFAcT0K14e79EBxPQrXI/HQQAAAAABsO/RAj8L1KCxU30B7FK5HAWz9QArXo3DF2gVBrkfhenRY90BI4XoUPt36QEjhehSwmwRBAAAAAJz48kBxPQrX81LoQHsUrkcFBvBA7FG4Ho+sBEHNzMzMTHGyQGZmZma2addAw/UoXMlnCEFmZmZm9orjQDMzMzMvz/FApHA9CqnNBEFSuB6F47/sQDMzMzPDeNhAKVyPwnU13UAUrkfh2EoDQcP1KFxPaMtAj8L1KDxS6ECuR+F6lCHcQHsUrkelF/ZA7FG4HhmD8kAUrkfhAlQDQZqZmZn3ggFBcT0K1/eh/EB7FK5Hteb7QHsUrkfhFo9ACtejcL13/kDNzMzMjPHyQI/C9Sgg4PlAPQrXo9Bo4EAUrkfhYGEAQY/C9SgyfwNBrkfheszJ9EBI4XoUMhH9QI/C9ShkB/5AXI/C9RDF/EB7FK5Hi5oDQR+F61FoQwVBH4XrUUSq8ECPwvUo3LzsQDMzMzOve/VAzczMzBpkAkHXo3A9pqL6QAAAAAAAa/lAw/UoXFsE/kDXo3A9ykvVQFK4HoX7j99AXI/C9c4/B0FxPQrXV7IFQWZmZmaaovNAKVyPwrVywkD2KFyPTFcFQcP1KFz/cwVBw/UoXLfU6kB7FK5HR24GQVyPwvXIeuZACtejcNlF80AK16Nw9TcIQVK4HoXhDgdBuB6F6zWqBEHsUbgeY7MBQQrXo3A9QOtAcT0K1wOA6kAfhetRxH0HQexRuB4ZUflArkfhemAU/UDNzMzMzMMHQaRwPQolZwNBZmZmZhQoBEHhehSu1R4HQfYoXI9cSgNBKVyPwvXOrUCamZmZyd8DQVK4HoX32vVApHA9CleT2EDsUbgeycP+QArXo3BNo9NAw/UoXCdy7EDhehSuaQcFQc3MzMyMHt1AXI/C9Tz++0C4HoXrhfcBQa5H4Xq0X81AcT0K19e08kCuR+F6nLP2QOxRuB5FebdAKVyPwldcB0HD9ShcDfoGQbgehevx78ZAAAAAAHa0AEE9CtejwgwEQc3MzMw64AJBMzMzMw1FAkGF61G4blv2QNejcD0WEP9ApHA9Ck+p60CPwvUoTKr0QHsUrkdxGAJBMzMzM/eeB0GamZmZgZDiQK5H4Xp2kwVBpHA9CiWOBUEzMzMzGT4AQexRuB69nvhAj8L1KAzF3UD2KFyPUqvkQD0K16PsmAdBPQrXo9yK+0CamZmZjZrwQClcj8IJMgBB16NwPXp81UBmZmZmhnb4QKRwPQrH7v1AuB6F60WN+EDD9ShcTyu1QHsUrkc9LP5AXI/C9ag3y0AfhetRTEH1QKRwPQqX+7JAFK5H4UqX1ECkcD0KdxvaQDMzMzNr6PVAcT0K16XqBUGF61G4GCUFQTMzMzNrROJAKVyPwkG980DhehSuzxTlQClcj8LxUPFAmpmZmTF/6kAK16NwBXLkQHE9CtdDbs1Aw/UoXJ9X2UDsUbge+SIIQXsUrkcxbPNA9ihcj6J7zkBxPQrXo24AQT0K16O0ggNBH4XrUY7kA0F7FK5HWX0HQaRwPQp/nvZA7FG4HrP5BUHsUbgeAWkGQRSuR+GqE9xAhetRuOpF8kDNzMzMFOj1QMP1KFx3Mu5ASOF6FI4w2EAfhetRtKzzQAAAAADkY/xApHA9CluT/0CkcD0Kz5X/QLgehetBudFAXI/C9YqNBEGuR+F6dHbwQHsUrkchngVBpHA9Covi9kCuR+F6+hEAQa5H4XpScwVBexSuR23m9EDXo3A9MrbvQClcj8JdPAdBKVyPwnWb+EC4HoXrC34EQYXrUbhOsthAexSuRzHp00DsUbgeDbYBQUjhehSq3AVBKVyPwpVMz0DhehSu57/BQBSuR+Ea+NRAw/UoXAXqAUFxPQrXkS4AQQrXo3CLCAFBFK5H4URRAEFxPQrXCwnjQArXo3AZIfxA7FG4Hk3p9kDsUbgeNY3VQOxRuB5hPP5ApHA9CvESBUH2KFyPwtyYQI/C9Sj4Z/ZAKVyPwgHKAkH2KFyPwm/xQEjhehSuAwVBAAAAAFi26kDhehSu8WEGQQAAAABA4etA4XoUrnMnA0HhehSuC8v/QK5H4XpUPctAhetRuJ7f4kDXo3A9ThgBQc3MzMxYSQRBpHA9CnsUAUG4HoXrQXrbQI/C9SgUmOhAmpmZmSEw90AUrkfh/hDxQI/C9Sg+rgVBPQrXo9gDCEEzMzMzU9rvQAAAAABIvQZBzczMzFQ9+0A9Ctej/gQIQSlcj8KZ0fFAMzMzMw19AUHD9ShcJXEDQexRuB4NlupAAAAAACAu30ApXI/CZUjVQOF6FK7nY9VAKVyPwr0f6ECPwvUo5OgCQYXrUbieUgZBzczMzFyP0EDNzMzMWOH2QKRwPQqHGO5AAAAAAIhn90AfhetRQm8EQeF6FK53DgBB9ihcj2aw9kDXo3A9CkD9QOF6FK6nb8JA16NwPTpL0kDD9ShcE40DQc3MzMzcL+pAhetRuKbG4UAK16Nw3QDuQNejcD32wwdB9ihcj5hqAEHD9ShcP3HiQB+F61E4naJAhetRuK4U+kBSuB6F80rjQKRwPQqZ+AdBrkfheqzo/UBmZmZmRkXuQOF6FK6BfgdBMzMzM/NKtEAzMzMzgTMIQUjhehRele5AmpmZmWXV+0BxPQrXr136QK5H4Xpkt+dAcT0K1weP8kDsUbgeQxIGQY/C9SgcgbBAzczMzAqVAEG4HoXrgWcGQXsUrkd9rfVAzczMzJwe70Bcj8L1KFKVQDMzMzMBNgJBcT0K10MS6kBcj8L1YOf3QI/C9Sicw/hAzczMzASN/EDhehSuN6f7QEjhehRMJgZBcT0K10/2BUHXo3A9ohH4QArXo3ARYP1AzczMzKyL+EAAAAAAOCf4QPYoXI/svQdBrkfhemKIAUFI4XoUtGMEQbgeheul/fJAAAAAAGjH80AfhetRSHHkQJqZmZlZE8ZACtejcEM8AkEzMzMzvaoEQVK4HoUDMuJAhetRuN4O00BSuB6Fwyn5QFyPwvXYaQBB9ihcjwo28UCamZmZLXgFQY/C9Shg+flA4XoUrk916UDXo3A9uhbSQGZmZmbmed9ApHA9Co9EBUHXo3A9Vuj4QD0K16Mwv95AXI/C9VAi9EAUrkfhRhP7QJqZmZkVqflApHA9ClfByECamZmZfcT2QAAAAACcvAFBSOF6FG4E50AAAAAAWnkEQaRwPQpnsQZBhetRuEr39EBmZmZmZu+bQFK4HoX7r9ZAH4XrUeDqBkE9CtejyG34QD0K16MokPNAH4XrUZwrAEGkcD0Kp3z3QM3MzMwUMPdAZmZmZlrUBUHD9ShcpYoHQc3MzMyyogVBKVyPwk9iCEEpXI/CGSnwQIXrUbi2IAZBKVyPwuXP2EAzMzMzc3vUQGZmZmYOsPJAZmZmZt76+kBI4XoUvAwEQc3MzMzcq/lApHA9Cp9H60AK16Nw29EFQUjhehQEcgBB4XoUrkeVjkBcj8L12GIGQa5H4XogBwNBCtejcLUd/UD2KFyPxFIAQbgehetT1ARB7FG4HsGv/kBcj8L1iLPSQIXrUbjqNvVAmpmZmflO7EBxPQrXrz/0QGZmZmZWVfNAhetRuJ45tEAfhetRyLvlQMP1KFyfRAdBH4XrUVa1BUHXo3A9ain9QEjhehR2i+hAzczMzIiuAUGamZmZ2f7zQFK4HoUbyuRAAAAAAJhj9UCamZmZTTj0QFyPwvVA8AJBhetRuB61wkCF61G4xMwEQa5H4XqU1K5A9ihcj4ry+EAK16NwnXXyQOxRuB6FjtlAmpmZmbuqAUGkcD0K32LsQAAAAADAGfdApHA9CsuN+kAfhetR/D8CQQAAAACsX/1AZmZmZr6V5UCPwvUonPG3QKRwPQrL9P5AexSuR2Hd2kCamZmZ8ZPkQDMzMzMTe/VAzczMzMz980CF61G4niKlQJqZmZmZ1N1AhetRuNQ8AkEfhetR0On8QAAAAABIiexAFK5H4Yqz3UDsUbgezbfsQNejcD1E9QJBzczMzDzxBkEzMzMzkwPlQLgehevR69lAH4XrUcD8BEEzMzMza2PhQIXrUbjOmdJAj8L1KIRx40AK16NwWX//QLgeheshyftAzczMzLT34EDD9Shcn3nrQKRwPQrPxOZACtejcKl+/kAK16Nwr3YAQcP1KFwv6+FAexSuR0cFBUHhehSug70AQVyPwvVYH+xAAAAAAIDY4UDhehSug1UGQc3MzMy8kORAZmZmZrBZCEEK16NwTT32QDMzMzMzhctA9ihcj9jCBUFSuB6FA/P0QLgeheuxxfpAPQrXo1C7A0FI4XoULu2tQFK4HoVj5gFBw/UoXO+gAUGkcD0KlxDwQLgehesxfwdBmpmZmU2B/UD2KFyPftgBQbgehevhHQJBzczMzLoIBEFmZmZmDPQDQSlcj8KTsgFB16NwPY5t8EAAAAAAUDb5QOF6FK6fHfpASOF6FAq4/EB7FK5HjSoHQWZmZmYKH/BAH4XrUVQW+EC4HoXr9TvyQArXo3AhQwJBrkfhegyB80BSuB6FvfAAQfYoXI884gJBpHA9ChOcBEFI4XoUmtX5QDMzMzNDxedAexSuR58PAkHD9ShcP2/rQJqZmZlR/PNAzczMzCwM8UCkcD0Ks9L8QFK4HoXTbPtAexSuR2FpzEApXI/Cwc3+QAAAAAAA0KtAZmZmZuKy9UAAAAAA0Kf0QClcj8LJG/NAw/UoXMd1/UAAAAAA4KfDQHsUrketBARB9ihcjwqV7UAK16Nwrf32QI/C9ShuaARBH4XrUVAA40CF61G4ykP2QNejcD3e9vRAexSuRzn/60DXo3A9mmcFQc3MzMyUzu5AzczMzOjK+kBI4XoUnmT+QOxRuB5t0etAj8L1KADs/0CuR+F6CF8HQSlcj8Kti/dAPQrXo4Tt/UAzMzMz++/rQOF6FK4n6wdBcT0K14u++UB7FK5HyX3iQLgehevZpulAUrgehelGAUE9CtejALHoQK5H4Xo0gdlAPQrXo7KPAkGamZmZmeGXQI/C9Sg0PP9AzczMzExbpECuR+F6PD7sQMP1KFyZ0wZBj8L1KByttUBI4XoULtHGQArXo3C1G/pAPQrXo4D26UDhehSuT+37QKRwPQpXzqBAMzMzMydmBkEzMzMzb7LyQMP1KFyfcflAAAAAAGCLwUAzMzMzM4DDQGZmZmYGC9NAKVyPwqVS80CPwvUodmYHQeF6FK6nH+1Aj8L1KPz06kBmZmZmCkkEQSlcj8InpQBBj8L1KBwkAkG4HoXrxeD0QHsUrkcZ6upAPQrXoxQWAEFxPQrXr7UCQcP1KFwFIARBUrgehevj00AAAAAAwE7jQDMzMzMz9dJA9ihcj5o+/0BmZmZmNgfUQFyPwvWmgwVBSOF6FFqj+UA9CtejcPPaQOF6FK4Tj/1Aj8L1KByu+EAUrkfhIuX7QIXrUbiOOtZAZmZmZqZgu0CF61G4MtnzQM3MzMwKAgJBrkfhetQhuEDXo3A92v3sQFyPwvWAPgNBCtejcFl68kCF61G44KoAQWZmZmY26fdAhetRuGa14UCF61G4grYGQZqZmZnFgAVBMzMzM1MM9EAAAAAAqosCQTMzMzN9XgFBmpmZmbHZ4UAK16Nwdbv/QJqZmZnJc9VAH4XrUbgc6kA9CtejmrwFQa5H4Xr84ARBexSuR5NoAkG4HoXrcUD0QNejcD0S3etAAAAAAGBX5kA9CtejkJcFQdejcD1isPVAzczMzAyh9UAUrkfhWqXZQIXrUbiu5NxA4XoUrgkJBUEpXI/CpUoDQfYoXI9SQfxA4XoUrv9C7UDNzMzMNKvlQGZmZma2dPNAH4XrUfAl6UCkcD0K363uQJqZmZmhDvZA16NwPXrC40BI4XoUnjTpQClcj8Jd9+9A4XoUrkfdhEBcj8L1qAwFQVK4HoXX5PlApHA9CrOuBUEAAAAABGEHQZqZmZlpXPdAAAAAAIQ2BUEUrkfhFpz7QK5H4Xp2QwJBFK5H4RpN+EBmZmZmVub3QBSuR+F6hFZAzczMzBasA0EpXI/C9cx0QBSuR+HSLvBAKVyPwqn0A0HD9Shc5coEQcP1KFwPzP5AMzMzM6MX6kBSuB6FG0raQIXrUbhWi+lACtejcFmJ/EBSuB6Ff9P+QLgeheu5jO9APQrXowTI9UBmZmZmsl30QB+F61HoRf5AexSuR5mt90CuR+F6UNcBQaRwPQr3CdJAmpmZmRky90ApXI/CfZX9QK5H4Xp8z/JAMzMzMw9LA0EAAAAAAvMBQQAAAAA2ZwFBuB6F61mkBkH2KFyP9gYDQY/C9Sg4rf1A4XoUrvej40CamZmZ+W7yQLgehevz0QZBzczMzFyb/EDNzMzMzPqqQBSuR+Ga3edAcT0K10Mbx0DNzMzMJOADQY/C9SiU1+FAAAAAAAAvu0BxPQrXYybFQFyPwvUAmfNAXI/C9Qiq1UD2KFyP+L4GQY/C9Sgwz/lA16NwPZqy8EAK16NwRTv0QMP1KFwN9QdBAAAAAPzP9kC4HoXre1kCQTMzMzNzt+ZAhetRuBZPCEEfhetRcGzzQLgehevdifxAuB6F6//LAkFI4XoUZgXvQFyPwvXU0v5AMzMzMy8M8kCamZmZ6ZTvQHsUrkeHLANB7FG4Hp11+kBcj8L1tK/1QKRwPQpPZeJAmpmZmX31+UBI4XoUsp/0QGZmZmbWmeBAmpmZmckC1ECuR+F6GCYIQQAAAAD0mvdAZmZmZpZ75kCamZmZXSj4QIXrUbj6pwZBMzMzMyk2CEGPwvUoTCP9QMP1KFxxQwJB16NwPQoUyECkcD0KvzvgQLgehevRhqFA9ihcjyYw9UApXI/CVdHIQDMzMzPjKeRAexSuR2mmBUHsUbgeP0YHQT0K16PoI/xAcT0K15nDBEFSuB6FvxYHQVK4HoXL7QNBXI/C9axU90BI4XoUimDyQArXo3B9ZNRArkfheq7BA0EK16NwVWfoQPYoXI/OMfpA4XoUrucL4EDhehSux+wFQVK4HoXzJPFACtejcP0H80ApXI/CfeDqQMP1KFzX0vhA4XoUrm9g80DhehSuB2W/QFyPwvXwgwVBrkfhejiHB0E9CtejILvrQFyPwvXg7wZBPQrXo4Cv9kCamZmZNxwBQexRuB43BANBCtejcHXGBkEzMzMzM3WpQK5H4XqkDfpAzczMzKakAUH2KFyPwovKQFK4HoVvRvJAj8L1KLCg/kApXI/CYUcCQaRwPQrX8tBAFK5H4cKO6EC4HoXrVRcDQaRwPQqbCfNAuB6F68FT5UBSuB6FKynLQIXrUbhe78hAexSuR5EN6UDXo3A9Qh3/QHsUrkcVuPFASOF6FGIg9EDD9Shcv4jtQNejcD32NQBBZmZmZvKI8UBmZmZmgpn8QArXo3BTTAFBAAAAAKie6kDD9ShcWVsGQR+F61HC4wBBXI/C9cht80AUrkfhlDgDQT0K16PU9wRB7FG4Hn10+UD2KFyPeGgEQVK4HoVvR/FAXI/C9VgL/EB7FK5Heab6QClcj8L1+uxA4XoUrktfCEGamZmZ8ZP9QOxRuB6VudlA16NwPfIY+UDhehSuBzP2QNejcD0COwFBmpmZmQnG+UDhehSuK1gGQcP1KFxDxwdB16NwPTpX1UBI4XoUohrzQClcj8JFAedAcT0K18s54EBI4XoUeub7QFyPwvVA8uJAj8L1KIyz8UAUrkfh4nTlQIXrUbjeovBA16NwPb6n+kCkcD0KF4znQClcj8JNDO5ASOF6FA4V90DsUbgeBUSmQGZmZmbm9ANB9ihcj9al/0CF61G4qkAAQWZmZmZ09QZBZmZmZkpUBUGuR+F6wDbzQD0K16PoMwhBhetRuF786kBmZmZmljbpQI/C9ShcMwhBFK5H4ZLtBEF7FK5HWU7oQDMzMzODz9JA9ihcj1KX30CPwvUo0sUAQRSuR+HKRO9A4XoUruPM8EDD9ShcBzIFQSlcj8IBWP9AMzMzMz9J+EDhehSu+/T1QJqZmZnl+/ZAFK5H4Q71BEEUrkfheg/AQJqZmZlLzQRBzczMzGS75kBmZmZmvLsDQZqZmZm1IfJAuB6F66Gm4EB7FK5HScD6QFK4HoUvCfpA9ihcj1J00kDhehSuPSUHQXsUrkdxKAJBcT0K1/uz+UDNzMzMYn8EQdejcD1K48BACtejcA1r/kAK16NwBWzoQPYoXI/qnv5ACtejcDnO80AK16NwiaHzQD0K16Pw3QFB4XoUrrfU10BI4XoUDpHtQM3MzMzAq/JAj8L1KLB69kDNzMzM6HkGQUjhehSmevdAuB6F6wn690AAAAAAZkcDQY/C9SjcUqtAMzMzM2MX6UBI4XoUbnnoQD0K16NOAwZBpHA9CnfbyUAUrkfhFnQEQbgehevBH+lASOF6FI5g00B7FK5HYbXiQIXrUbhE7QZBuB6F6+EQCEFI4XoUePQDQXE9CtejbIRAFK5H4cIs5kBcj8L1uDDmQK5H4XqC+ABBPQrXoxaDBEFmZmZmRhHZQEjhehSuB8BApHA9CtfMz0DD9Shcj4HLQHE9CtdDdd1AFK5H4WJD40BxPQrX223tQHsUrkfR/9VAKVyPwgNfBUGamZmZVfj7QJqZmZlZ5OdAmpmZmQPUBkGamZmZ3br7QKRwPQr7S/5AMzMzM8Pz50BxPQrXF63zQBSuR+EmWAZB9ihcjxaGA0HhehSut0/3QOF6FK6tLQhBpHA9Ci8s7kApXI/C+Rb1QHE9CtcblwFB4XoUrsv/AkFSuB6FR5MAQdejcD3iRP5AZmZmZlSTB0HhehSu/7kBQa5H4XouHARBrkfheoie8UAfhetR4DL3QJqZmZmZNddAcT0K1+sk/UC4HoXrSfkAQa5H4XpmEwZBH4XrUWKTAUGPwvUohsUAQexRuB7pL/5AuB6F6zNLA0GamZmZjdP5QNejcD0KF4dArkfhenSD70D2KFyP8n/zQD0K16PGSQdBpHA9CldJu0AK16NwLeH0QArXo3DXOwJBmpmZmSMDB0GuR+F6lBijQB+F61G4TNNApHA9CjcTBUHD9Shcv1vgQGZmZmauCvxAPQrXo2LbA0EzMzMzza4DQVK4HoXTEPxAPQrXozBF0kBSuB6Fm7X5QIXrUbj2X+xAj8L1KHaKAEEpXI/CNRTFQBSuR+GmPf5AH4XrUdSJ/0AUrkfhur+6QHE9CtfL4wBBKVyPwplZBEGuR+F6UC36QK5H4XpI2vFAKVyPwvU4yUA9Ctej+KflQEjhehTOi/dA7FG4HmWo7UCuR+F6qPL8QK5H4XoUsvdAPQrXo3DyqkDNzMzMvFziQB+F61GYp/xA4XoUrm+P+EAUrkfhmmLRQMP1KFxnPfZAexSuR12B/UCF61G4Qif6QOxRuB7t6OxArkfheiq1AEE9CtejxKn7QArXo3A3cwNBj8L1KFzq00AAAAAA8lsDQR+F61FIj9ZApHA9CpN8+0ApXI/CFSX9QK5H4XpGUgRBj8L1KADxBEHNzMzMEDkDQYXrUbiedspAZmZmZnT9B0GuR+F6PJz0QBSuR+H6Z9hAKVyPwsdjB0HD9Shcj1inQIXrUbi6UPhACtejcKUY6kBmZmZmphz8QLgehevpeAJB7FG4Hu096UAAAAAAEKT3QHsUrkfxn+BAcT0K16PpnUAUrkfhOhfoQM3MzMxk5wVB9ihcj2I06kDD9Shci/DwQDMzMzPD0wdBexSuR+F+3EBmZmZm7HoEQdejcD3qgPdAH4XrUTzU+ED2KFyPsozkQB+F61GIrfZAXI/C9dil4kA=",
          "dtype": "f8"
         },
         "xaxis": "x",
         "y": {
          "bdata": "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",
          "dtype": "i2"
         },
         "yaxis": "y"
        }
       ],
       "layout": {
        "coloraxis": {
         "colorbar": {
          "title": {
           "text": "Exited"
          }
         },
         "colorscale": [
          [
           0,
           "#0d0887"
          ],
          [
           0.1111111111111111,
           "#46039f"
          ],
          [
           0.2222222222222222,
           "#7201a8"
          ],
          [
           0.3333333333333333,
           "#9c179e"
          ],
          [
           0.4444444444444444,
           "#bd3786"
          ],
          [
           0.5555555555555556,
           "#d8576b"
          ],
          [
           0.6666666666666666,
           "#ed7953"
          ],
          [
           0.7777777777777778,
           "#fb9f3a"
          ],
          [
           0.8888888888888888,
           "#fdca26"
          ],
          [
           1,
           "#f0f921"
          ]
         ]
        },
        "legend": {
         "orientation": "h",
         "tracegroupgap": 0,
         "x": 0,
         "xanchor": "center",
         "y": 0
        },
        "margin": {
         "t": 60
        },
        "template": {
         "data": {
          "bar": [
           {
            "error_x": {
             "color": "#2a3f5f"
            },
            "error_y": {
             "color": "#2a3f5f"
            },
            "marker": {
             "line": {
              "color": "#E5ECF6",
              "width": 0.5
             },
             "pattern": {
              "fillmode": "overlay",
              "size": 10,
              "solidity": 0.2
             }
            },
            "type": "bar"
           }
          ],
          "barpolar": [
           {
            "marker": {
             "line": {
              "color": "#E5ECF6",
              "width": 0.5
             },
             "pattern": {
              "fillmode": "overlay",
              "size": 10,
              "solidity": 0.2
             }
            },
            "type": "barpolar"
           }
          ],
          "carpet": [
           {
            "aaxis": {
             "endlinecolor": "#2a3f5f",
             "gridcolor": "white",
             "linecolor": "white",
             "minorgridcolor": "white",
             "startlinecolor": "#2a3f5f"
            },
            "baxis": {
             "endlinecolor": "#2a3f5f",
             "gridcolor": "white",
             "linecolor": "white",
             "minorgridcolor": "white",
             "startlinecolor": "#2a3f5f"
            },
            "type": "carpet"
           }
          ],
          "choropleth": [
           {
            "colorbar": {
             "outlinewidth": 0,
             "ticks": ""
            },
            "type": "choropleth"
           }
          ],
          "contour": [
           {
            "colorbar": {
             "outlinewidth": 0,
             "ticks": ""
            },
            "colorscale": [
             [
              0,
              "#0d0887"
             ],
             [
              0.1111111111111111,
              "#46039f"
             ],
             [
              0.2222222222222222,
              "#7201a8"
             ],
             [
              0.3333333333333333,
              "#9c179e"
             ],
             [
              0.4444444444444444,
              "#bd3786"
             ],
             [
              0.5555555555555556,
              "#d8576b"
             ],
             [
              0.6666666666666666,
              "#ed7953"
             ],
             [
              0.7777777777777778,
              "#fb9f3a"
             ],
             [
              0.8888888888888888,
              "#fdca26"
             ],
             [
              1,
              "#f0f921"
             ]
            ],
            "type": "contour"
           }
          ],
          "contourcarpet": [
           {
            "colorbar": {
             "outlinewidth": 0,
             "ticks": ""
            },
            "type": "contourcarpet"
           }
          ],
          "heatmap": [
           {
            "colorbar": {
             "outlinewidth": 0,
             "ticks": ""
            },
            "colorscale": [
             [
              0,
              "#0d0887"
             ],
             [
              0.1111111111111111,
              "#46039f"
             ],
             [
              0.2222222222222222,
              "#7201a8"
             ],
             [
              0.3333333333333333,
              "#9c179e"
             ],
             [
              0.4444444444444444,
              "#bd3786"
             ],
             [
              0.5555555555555556,
              "#d8576b"
             ],
             [
              0.6666666666666666,
              "#ed7953"
             ],
             [
              0.7777777777777778,
              "#fb9f3a"
             ],
             [
              0.8888888888888888,
              "#fdca26"
             ],
             [
              1,
              "#f0f921"
             ]
            ],
            "type": "heatmap"
           }
          ],
          "histogram": [
           {
            "marker": {
             "pattern": {
              "fillmode": "overlay",
              "size": 10,
              "solidity": 0.2
             }
            },
            "type": "histogram"
           }
          ],
          "histogram2d": [
           {
            "colorbar": {
             "outlinewidth": 0,
             "ticks": ""
            },
            "colorscale": [
             [
              0,
              "#0d0887"
             ],
             [
              0.1111111111111111,
              "#46039f"
             ],
             [
              0.2222222222222222,
              "#7201a8"
             ],
             [
              0.3333333333333333,
              "#9c179e"
             ],
             [
              0.4444444444444444,
              "#bd3786"
             ],
             [
              0.5555555555555556,
              "#d8576b"
             ],
             [
              0.6666666666666666,
              "#ed7953"
             ],
             [
              0.7777777777777778,
              "#fb9f3a"
             ],
             [
              0.8888888888888888,
              "#fdca26"
             ],
             [
              1,
              "#f0f921"
             ]
            ],
            "type": "histogram2d"
           }
          ],
          "histogram2dcontour": [
           {
            "colorbar": {
             "outlinewidth": 0,
             "ticks": ""
            },
            "colorscale": [
             [
              0,
              "#0d0887"
             ],
             [
              0.1111111111111111,
              "#46039f"
             ],
             [
              0.2222222222222222,
              "#7201a8"
             ],
             [
              0.3333333333333333,
              "#9c179e"
             ],
             [
              0.4444444444444444,
              "#bd3786"
             ],
             [
              0.5555555555555556,
              "#d8576b"
             ],
             [
              0.6666666666666666,
              "#ed7953"
             ],
             [
              0.7777777777777778,
              "#fb9f3a"
             ],
             [
              0.8888888888888888,
              "#fdca26"
             ],
             [
              1,
              "#f0f921"
             ]
            ],
            "type": "histogram2dcontour"
           }
          ],
          "mesh3d": [
           {
            "colorbar": {
             "outlinewidth": 0,
             "ticks": ""
            },
            "type": "mesh3d"
           }
          ],
          "parcoords": [
           {
            "line": {
             "colorbar": {
              "outlinewidth": 0,
              "ticks": ""
             }
            },
            "type": "parcoords"
           }
          ],
          "pie": [
           {
            "automargin": true,
            "type": "pie"
           }
          ],
          "scatter": [
           {
            "fillpattern": {
             "fillmode": "overlay",
             "size": 10,
             "solidity": 0.2
            },
            "type": "scatter"
           }
          ],
          "scatter3d": [
           {
            "line": {
             "colorbar": {
              "outlinewidth": 0,
              "ticks": ""
             }
            },
            "marker": {
             "colorbar": {
              "outlinewidth": 0,
              "ticks": ""
             }
            },
            "type": "scatter3d"
           }
          ],
          "scattercarpet": [
           {
            "marker": {
             "colorbar": {
              "outlinewidth": 0,
              "ticks": ""
             }
            },
            "type": "scattercarpet"
           }
          ],
          "scattergeo": [
           {
            "marker": {
             "colorbar": {
              "outlinewidth": 0,
              "ticks": ""
             }
            },
            "type": "scattergeo"
           }
          ],
          "scattergl": [
           {
            "marker": {
             "colorbar": {
              "outlinewidth": 0,
              "ticks": ""
             }
            },
            "type": "scattergl"
           }
          ],
          "scattermap": [
           {
            "marker": {
             "colorbar": {
              "outlinewidth": 0,
              "ticks": ""
             }
            },
            "type": "scattermap"
           }
          ],
          "scattermapbox": [
           {
            "marker": {
             "colorbar": {
              "outlinewidth": 0,
              "ticks": ""
             }
            },
            "type": "scattermapbox"
           }
          ],
          "scatterpolar": [
           {
            "marker": {
             "colorbar": {
              "outlinewidth": 0,
              "ticks": ""
             }
            },
            "type": "scatterpolar"
           }
          ],
          "scatterpolargl": [
           {
            "marker": {
             "colorbar": {
              "outlinewidth": 0,
              "ticks": ""
             }
            },
            "type": "scatterpolargl"
           }
          ],
          "scatterternary": [
           {
            "marker": {
             "colorbar": {
              "outlinewidth": 0,
              "ticks": ""
             }
            },
            "type": "scatterternary"
           }
          ],
          "surface": [
           {
            "colorbar": {
             "outlinewidth": 0,
             "ticks": ""
            },
            "colorscale": [
             [
              0,
              "#0d0887"
             ],
             [
              0.1111111111111111,
              "#46039f"
             ],
             [
              0.2222222222222222,
              "#7201a8"
             ],
             [
              0.3333333333333333,
              "#9c179e"
             ],
             [
              0.4444444444444444,
              "#bd3786"
             ],
             [
              0.5555555555555556,
              "#d8576b"
             ],
             [
              0.6666666666666666,
              "#ed7953"
             ],
             [
              0.7777777777777778,
              "#fb9f3a"
             ],
             [
              0.8888888888888888,
              "#fdca26"
             ],
             [
              1,
              "#f0f921"
             ]
            ],
            "type": "surface"
           }
          ],
          "table": [
           {
            "cells": {
             "fill": {
              "color": "#EBF0F8"
             },
             "line": {
              "color": "white"
             }
            },
            "header": {
             "fill": {
              "color": "#C8D4E3"
             },
             "line": {
              "color": "white"
             }
            },
            "type": "table"
           }
          ]
         },
         "layout": {
          "annotationdefaults": {
           "arrowcolor": "#2a3f5f",
           "arrowhead": 0,
           "arrowwidth": 1
          },
          "autotypenumbers": "strict",
          "coloraxis": {
           "colorbar": {
            "outlinewidth": 0,
            "ticks": ""
           }
          },
          "colorscale": {
           "diverging": [
            [
             0,
             "#8e0152"
            ],
            [
             0.1,
             "#c51b7d"
            ],
            [
             0.2,
             "#de77ae"
            ],
            [
             0.3,
             "#f1b6da"
            ],
            [
             0.4,
             "#fde0ef"
            ],
            [
             0.5,
             "#f7f7f7"
            ],
            [
             0.6,
             "#e6f5d0"
            ],
            [
             0.7,
             "#b8e186"
            ],
            [
             0.8,
             "#7fbc41"
            ],
            [
             0.9,
             "#4d9221"
            ],
            [
             1,
             "#276419"
            ]
           ],
           "sequential": [
            [
             0,
             "#0d0887"
            ],
            [
             0.1111111111111111,
             "#46039f"
            ],
            [
             0.2222222222222222,
             "#7201a8"
            ],
            [
             0.3333333333333333,
             "#9c179e"
            ],
            [
             0.4444444444444444,
             "#bd3786"
            ],
            [
             0.5555555555555556,
             "#d8576b"
            ],
            [
             0.6666666666666666,
             "#ed7953"
            ],
            [
             0.7777777777777778,
             "#fb9f3a"
            ],
            [
             0.8888888888888888,
             "#fdca26"
            ],
            [
             1,
             "#f0f921"
            ]
           ],
           "sequentialminus": [
            [
             0,
             "#0d0887"
            ],
            [
             0.1111111111111111,
             "#46039f"
            ],
            [
             0.2222222222222222,
             "#7201a8"
            ],
            [
             0.3333333333333333,
             "#9c179e"
            ],
            [
             0.4444444444444444,
             "#bd3786"
            ],
            [
             0.5555555555555556,
             "#d8576b"
            ],
            [
             0.6666666666666666,
             "#ed7953"
            ],
            [
             0.7777777777777778,
             "#fb9f3a"
            ],
            [
             0.8888888888888888,
             "#fdca26"
            ],
            [
             1,
             "#f0f921"
            ]
           ]
          },
          "colorway": [
           "#636efa",
           "#EF553B",
           "#00cc96",
           "#ab63fa",
           "#FFA15A",
           "#19d3f3",
           "#FF6692",
           "#B6E880",
           "#FF97FF",
           "#FECB52"
          ],
          "font": {
           "color": "#2a3f5f"
          },
          "geo": {
           "bgcolor": "white",
           "lakecolor": "white",
           "landcolor": "#E5ECF6",
           "showlakes": true,
           "showland": true,
           "subunitcolor": "white"
          },
          "hoverlabel": {
           "align": "left"
          },
          "hovermode": "closest",
          "mapbox": {
           "style": "light"
          },
          "paper_bgcolor": "white",
          "plot_bgcolor": "#E5ECF6",
          "polar": {
           "angularaxis": {
            "gridcolor": "white",
            "linecolor": "white",
            "ticks": ""
           },
           "bgcolor": "#E5ECF6",
           "radialaxis": {
            "gridcolor": "white",
            "linecolor": "white",
            "ticks": ""
           }
          },
          "scene": {
           "xaxis": {
            "backgroundcolor": "#E5ECF6",
            "gridcolor": "white",
            "gridwidth": 2,
            "linecolor": "white",
            "showbackground": true,
            "ticks": "",
            "zerolinecolor": "white"
           },
           "yaxis": {
            "backgroundcolor": "#E5ECF6",
            "gridcolor": "white",
            "gridwidth": 2,
            "linecolor": "white",
            "showbackground": true,
            "ticks": "",
            "zerolinecolor": "white"
           },
           "zaxis": {
            "backgroundcolor": "#E5ECF6",
            "gridcolor": "white",
            "gridwidth": 2,
            "linecolor": "white",
            "showbackground": true,
            "ticks": "",
            "zerolinecolor": "white"
           }
          },
          "shapedefaults": {
           "line": {
            "color": "#2a3f5f"
           }
          },
          "ternary": {
           "aaxis": {
            "gridcolor": "white",
            "linecolor": "white",
            "ticks": ""
           },
           "baxis": {
            "gridcolor": "white",
            "linecolor": "white",
            "ticks": ""
           },
           "bgcolor": "#E5ECF6",
           "caxis": {
            "gridcolor": "white",
            "linecolor": "white",
            "ticks": ""
           }
          },
          "title": {
           "x": 0.05
          },
          "xaxis": {
           "automargin": true,
           "gridcolor": "white",
           "linecolor": "white",
           "ticks": "",
           "title": {
            "standoff": 15
           },
           "zerolinecolor": "white",
           "zerolinewidth": 2
          },
          "yaxis": {
           "automargin": true,
           "gridcolor": "white",
           "linecolor": "white",
           "ticks": "",
           "title": {
            "standoff": 15
           },
           "zerolinecolor": "white",
           "zerolinewidth": 2
          }
         }
        },
        "title": {
         "text": "Зависимость опыта работы от возраста",
         "x": 0.5
        },
        "xaxis": {
         "anchor": "y",
         "domain": [
          0,
          1
         ],
         "title": {
          "text": "Заработная плата, руб"
         }
        },
        "yaxis": {
         "anchor": "x",
         "domain": [
          0,
          1
         ],
         "title": {
          "text": "Кредитный рейтинг"
         }
        }
       }
      }
     },
     "metadata": {},
     "output_type": "display_data"
    }
   ],
   "source": [
    "# Выбираем нужные признаки\n",
    "tmp_df = churn_df[['CreditScore','EstimatedSalary','Exited']].copy()\n",
    "\n",
    "fig = px.scatter(tmp_df, x = \"EstimatedSalary\", y = \"CreditScore\", color = \"Exited\")  \n",
    "fig.update_layout(\n",
    "    title = \"Зависимость опыта работы от возраста\",\n",
    "    title_x = 0.5,\n",
    "    yaxis_title = \"Кредитный рейтинг\", # Подпись оси y\n",
    "    xaxis_title = \"Заработная плата, руб\", # Подпись оси x\n",
    "    \n",
    "    legend = dict(x = 0, y = 0, xanchor = \"center\", orientation = \"h\"),\n",
    ")\n",
    "\n",
    "fig.show() # Отображаем\n"
   ]
  },
  {
   "cell_type": "markdown",
   "id": "ec1953b5",
   "metadata": {},
   "source": [
    "Из графика видно, что кредитный рейтинг слабо зависит от заработной платы вне зависимости от статуса лояльности клиента"
   ]
  },
  {
   "cell_type": "markdown",
   "id": "8c9bd995",
   "metadata": {},
   "source": [
    "9.6. Кто чаще уходит, мужчины или женщины? Постройте график, который иллюстрирует это."
   ]
  },
  {
   "cell_type": "code",
   "execution_count": 177,
   "id": "32f1e098",
   "metadata": {},
   "outputs": [
    {
     "data": {
      "application/vnd.plotly.v1+json": {
       "config": {
        "plotlyServerURL": "https://plot.ly"
       },
       "data": [
        {
         "hovertemplate": "Статус клиента: =Доля ушедших<br>Gender=%{x}<br>value=%{y}<extra></extra>",
         "legendgroup": "Доля ушедших",
         "marker": {
          "color": "red",
          "pattern": {
           "shape": ""
          }
         },
         "name": "Доля ушедших",
         "orientation": "v",
         "showlegend": true,
         "textposition": "auto",
         "texttemplate": "%{y}",
         "type": "bar",
         "x": [
          "Female",
          "Male"
         ],
         "xaxis": "x",
         "y": {
          "bdata": "GRA=",
          "dtype": "i1"
         },
         "yaxis": "y"
        },
        {
         "hovertemplate": "Статус клиента: =Доля лояльных<br>Gender=%{x}<br>value=%{y}<extra></extra>",
         "legendgroup": "Доля лояльных",
         "marker": {
          "color": "blue",
          "pattern": {
           "shape": ""
          }
         },
         "name": "Доля лояльных",
         "orientation": "v",
         "showlegend": true,
         "textposition": "auto",
         "texttemplate": "%{y}",
         "type": "bar",
         "x": [
          "Female",
          "Male"
         ],
         "xaxis": "x",
         "y": {
          "bdata": "S1Q=",
          "dtype": "i1"
         },
         "yaxis": "y"
        }
       ],
       "layout": {
        "barmode": "stack",
        "height": 400,
        "legend": {
         "orientation": "h",
         "title": {
          "font": {
           "family": "Sitka Small"
          },
          "text": "Статус клиента: "
         },
         "tracegroupgap": 0,
         "x": 0,
         "y": 150
        },
        "template": {
         "data": {
          "bar": [
           {
            "error_x": {
             "color": "#2a3f5f"
            },
            "error_y": {
             "color": "#2a3f5f"
            },
            "marker": {
             "line": {
              "color": "#E5ECF6",
              "width": 0.5
             },
             "pattern": {
              "fillmode": "overlay",
              "size": 10,
              "solidity": 0.2
             }
            },
            "type": "bar"
           }
          ],
          "barpolar": [
           {
            "marker": {
             "line": {
              "color": "#E5ECF6",
              "width": 0.5
             },
             "pattern": {
              "fillmode": "overlay",
              "size": 10,
              "solidity": 0.2
             }
            },
            "type": "barpolar"
           }
          ],
          "carpet": [
           {
            "aaxis": {
             "endlinecolor": "#2a3f5f",
             "gridcolor": "white",
             "linecolor": "white",
             "minorgridcolor": "white",
             "startlinecolor": "#2a3f5f"
            },
            "baxis": {
             "endlinecolor": "#2a3f5f",
             "gridcolor": "white",
             "linecolor": "white",
             "minorgridcolor": "white",
             "startlinecolor": "#2a3f5f"
            },
            "type": "carpet"
           }
          ],
          "choropleth": [
           {
            "colorbar": {
             "outlinewidth": 0,
             "ticks": ""
            },
            "type": "choropleth"
           }
          ],
          "contour": [
           {
            "colorbar": {
             "outlinewidth": 0,
             "ticks": ""
            },
            "colorscale": [
             [
              0,
              "#0d0887"
             ],
             [
              0.1111111111111111,
              "#46039f"
             ],
             [
              0.2222222222222222,
              "#7201a8"
             ],
             [
              0.3333333333333333,
              "#9c179e"
             ],
             [
              0.4444444444444444,
              "#bd3786"
             ],
             [
              0.5555555555555556,
              "#d8576b"
             ],
             [
              0.6666666666666666,
              "#ed7953"
             ],
             [
              0.7777777777777778,
              "#fb9f3a"
             ],
             [
              0.8888888888888888,
              "#fdca26"
             ],
             [
              1,
              "#f0f921"
             ]
            ],
            "type": "contour"
           }
          ],
          "contourcarpet": [
           {
            "colorbar": {
             "outlinewidth": 0,
             "ticks": ""
            },
            "type": "contourcarpet"
           }
          ],
          "heatmap": [
           {
            "colorbar": {
             "outlinewidth": 0,
             "ticks": ""
            },
            "colorscale": [
             [
              0,
              "#0d0887"
             ],
             [
              0.1111111111111111,
              "#46039f"
             ],
             [
              0.2222222222222222,
              "#7201a8"
             ],
             [
              0.3333333333333333,
              "#9c179e"
             ],
             [
              0.4444444444444444,
              "#bd3786"
             ],
             [
              0.5555555555555556,
              "#d8576b"
             ],
             [
              0.6666666666666666,
              "#ed7953"
             ],
             [
              0.7777777777777778,
              "#fb9f3a"
             ],
             [
              0.8888888888888888,
              "#fdca26"
             ],
             [
              1,
              "#f0f921"
             ]
            ],
            "type": "heatmap"
           }
          ],
          "histogram": [
           {
            "marker": {
             "pattern": {
              "fillmode": "overlay",
              "size": 10,
              "solidity": 0.2
             }
            },
            "type": "histogram"
           }
          ],
          "histogram2d": [
           {
            "colorbar": {
             "outlinewidth": 0,
             "ticks": ""
            },
            "colorscale": [
             [
              0,
              "#0d0887"
             ],
             [
              0.1111111111111111,
              "#46039f"
             ],
             [
              0.2222222222222222,
              "#7201a8"
             ],
             [
              0.3333333333333333,
              "#9c179e"
             ],
             [
              0.4444444444444444,
              "#bd3786"
             ],
             [
              0.5555555555555556,
              "#d8576b"
             ],
             [
              0.6666666666666666,
              "#ed7953"
             ],
             [
              0.7777777777777778,
              "#fb9f3a"
             ],
             [
              0.8888888888888888,
              "#fdca26"
             ],
             [
              1,
              "#f0f921"
             ]
            ],
            "type": "histogram2d"
           }
          ],
          "histogram2dcontour": [
           {
            "colorbar": {
             "outlinewidth": 0,
             "ticks": ""
            },
            "colorscale": [
             [
              0,
              "#0d0887"
             ],
             [
              0.1111111111111111,
              "#46039f"
             ],
             [
              0.2222222222222222,
              "#7201a8"
             ],
             [
              0.3333333333333333,
              "#9c179e"
             ],
             [
              0.4444444444444444,
              "#bd3786"
             ],
             [
              0.5555555555555556,
              "#d8576b"
             ],
             [
              0.6666666666666666,
              "#ed7953"
             ],
             [
              0.7777777777777778,
              "#fb9f3a"
             ],
             [
              0.8888888888888888,
              "#fdca26"
             ],
             [
              1,
              "#f0f921"
             ]
            ],
            "type": "histogram2dcontour"
           }
          ],
          "mesh3d": [
           {
            "colorbar": {
             "outlinewidth": 0,
             "ticks": ""
            },
            "type": "mesh3d"
           }
          ],
          "parcoords": [
           {
            "line": {
             "colorbar": {
              "outlinewidth": 0,
              "ticks": ""
             }
            },
            "type": "parcoords"
           }
          ],
          "pie": [
           {
            "automargin": true,
            "type": "pie"
           }
          ],
          "scatter": [
           {
            "fillpattern": {
             "fillmode": "overlay",
             "size": 10,
             "solidity": 0.2
            },
            "type": "scatter"
           }
          ],
          "scatter3d": [
           {
            "line": {
             "colorbar": {
              "outlinewidth": 0,
              "ticks": ""
             }
            },
            "marker": {
             "colorbar": {
              "outlinewidth": 0,
              "ticks": ""
             }
            },
            "type": "scatter3d"
           }
          ],
          "scattercarpet": [
           {
            "marker": {
             "colorbar": {
              "outlinewidth": 0,
              "ticks": ""
             }
            },
            "type": "scattercarpet"
           }
          ],
          "scattergeo": [
           {
            "marker": {
             "colorbar": {
              "outlinewidth": 0,
              "ticks": ""
             }
            },
            "type": "scattergeo"
           }
          ],
          "scattergl": [
           {
            "marker": {
             "colorbar": {
              "outlinewidth": 0,
              "ticks": ""
             }
            },
            "type": "scattergl"
           }
          ],
          "scattermap": [
           {
            "marker": {
             "colorbar": {
              "outlinewidth": 0,
              "ticks": ""
             }
            },
            "type": "scattermap"
           }
          ],
          "scattermapbox": [
           {
            "marker": {
             "colorbar": {
              "outlinewidth": 0,
              "ticks": ""
             }
            },
            "type": "scattermapbox"
           }
          ],
          "scatterpolar": [
           {
            "marker": {
             "colorbar": {
              "outlinewidth": 0,
              "ticks": ""
             }
            },
            "type": "scatterpolar"
           }
          ],
          "scatterpolargl": [
           {
            "marker": {
             "colorbar": {
              "outlinewidth": 0,
              "ticks": ""
             }
            },
            "type": "scatterpolargl"
           }
          ],
          "scatterternary": [
           {
            "marker": {
             "colorbar": {
              "outlinewidth": 0,
              "ticks": ""
             }
            },
            "type": "scatterternary"
           }
          ],
          "surface": [
           {
            "colorbar": {
             "outlinewidth": 0,
             "ticks": ""
            },
            "colorscale": [
             [
              0,
              "#0d0887"
             ],
             [
              0.1111111111111111,
              "#46039f"
             ],
             [
              0.2222222222222222,
              "#7201a8"
             ],
             [
              0.3333333333333333,
              "#9c179e"
             ],
             [
              0.4444444444444444,
              "#bd3786"
             ],
             [
              0.5555555555555556,
              "#d8576b"
             ],
             [
              0.6666666666666666,
              "#ed7953"
             ],
             [
              0.7777777777777778,
              "#fb9f3a"
             ],
             [
              0.8888888888888888,
              "#fdca26"
             ],
             [
              1,
              "#f0f921"
             ]
            ],
            "type": "surface"
           }
          ],
          "table": [
           {
            "cells": {
             "fill": {
              "color": "#EBF0F8"
             },
             "line": {
              "color": "white"
             }
            },
            "header": {
             "fill": {
              "color": "#C8D4E3"
             },
             "line": {
              "color": "white"
             }
            },
            "type": "table"
           }
          ]
         },
         "layout": {
          "annotationdefaults": {
           "arrowcolor": "#2a3f5f",
           "arrowhead": 0,
           "arrowwidth": 1
          },
          "autotypenumbers": "strict",
          "coloraxis": {
           "colorbar": {
            "outlinewidth": 0,
            "ticks": ""
           }
          },
          "colorscale": {
           "diverging": [
            [
             0,
             "#8e0152"
            ],
            [
             0.1,
             "#c51b7d"
            ],
            [
             0.2,
             "#de77ae"
            ],
            [
             0.3,
             "#f1b6da"
            ],
            [
             0.4,
             "#fde0ef"
            ],
            [
             0.5,
             "#f7f7f7"
            ],
            [
             0.6,
             "#e6f5d0"
            ],
            [
             0.7,
             "#b8e186"
            ],
            [
             0.8,
             "#7fbc41"
            ],
            [
             0.9,
             "#4d9221"
            ],
            [
             1,
             "#276419"
            ]
           ],
           "sequential": [
            [
             0,
             "#0d0887"
            ],
            [
             0.1111111111111111,
             "#46039f"
            ],
            [
             0.2222222222222222,
             "#7201a8"
            ],
            [
             0.3333333333333333,
             "#9c179e"
            ],
            [
             0.4444444444444444,
             "#bd3786"
            ],
            [
             0.5555555555555556,
             "#d8576b"
            ],
            [
             0.6666666666666666,
             "#ed7953"
            ],
            [
             0.7777777777777778,
             "#fb9f3a"
            ],
            [
             0.8888888888888888,
             "#fdca26"
            ],
            [
             1,
             "#f0f921"
            ]
           ],
           "sequentialminus": [
            [
             0,
             "#0d0887"
            ],
            [
             0.1111111111111111,
             "#46039f"
            ],
            [
             0.2222222222222222,
             "#7201a8"
            ],
            [
             0.3333333333333333,
             "#9c179e"
            ],
            [
             0.4444444444444444,
             "#bd3786"
            ],
            [
             0.5555555555555556,
             "#d8576b"
            ],
            [
             0.6666666666666666,
             "#ed7953"
            ],
            [
             0.7777777777777778,
             "#fb9f3a"
            ],
            [
             0.8888888888888888,
             "#fdca26"
            ],
            [
             1,
             "#f0f921"
            ]
           ]
          },
          "colorway": [
           "#636efa",
           "#EF553B",
           "#00cc96",
           "#ab63fa",
           "#FFA15A",
           "#19d3f3",
           "#FF6692",
           "#B6E880",
           "#FF97FF",
           "#FECB52"
          ],
          "font": {
           "color": "#2a3f5f"
          },
          "geo": {
           "bgcolor": "white",
           "lakecolor": "white",
           "landcolor": "#E5ECF6",
           "showlakes": true,
           "showland": true,
           "subunitcolor": "white"
          },
          "hoverlabel": {
           "align": "left"
          },
          "hovermode": "closest",
          "mapbox": {
           "style": "light"
          },
          "paper_bgcolor": "white",
          "plot_bgcolor": "#E5ECF6",
          "polar": {
           "angularaxis": {
            "gridcolor": "white",
            "linecolor": "white",
            "ticks": ""
           },
           "bgcolor": "#E5ECF6",
           "radialaxis": {
            "gridcolor": "white",
            "linecolor": "white",
            "ticks": ""
           }
          },
          "scene": {
           "xaxis": {
            "backgroundcolor": "#E5ECF6",
            "gridcolor": "white",
            "gridwidth": 2,
            "linecolor": "white",
            "showbackground": true,
            "ticks": "",
            "zerolinecolor": "white"
           },
           "yaxis": {
            "backgroundcolor": "#E5ECF6",
            "gridcolor": "white",
            "gridwidth": 2,
            "linecolor": "white",
            "showbackground": true,
            "ticks": "",
            "zerolinecolor": "white"
           },
           "zaxis": {
            "backgroundcolor": "#E5ECF6",
            "gridcolor": "white",
            "gridwidth": 2,
            "linecolor": "white",
            "showbackground": true,
            "ticks": "",
            "zerolinecolor": "white"
           }
          },
          "shapedefaults": {
           "line": {
            "color": "#2a3f5f"
           }
          },
          "ternary": {
           "aaxis": {
            "gridcolor": "white",
            "linecolor": "white",
            "ticks": ""
           },
           "baxis": {
            "gridcolor": "white",
            "linecolor": "white",
            "ticks": ""
           },
           "bgcolor": "#E5ECF6",
           "caxis": {
            "gridcolor": "white",
            "linecolor": "white",
            "ticks": ""
           }
          },
          "title": {
           "x": 0.05
          },
          "xaxis": {
           "automargin": true,
           "gridcolor": "white",
           "linecolor": "white",
           "ticks": "",
           "title": {
            "standoff": 15
           },
           "zerolinecolor": "white",
           "zerolinewidth": 2
          },
          "yaxis": {
           "automargin": true,
           "gridcolor": "white",
           "linecolor": "white",
           "ticks": "",
           "title": {
            "standoff": 15
           },
           "zerolinecolor": "white",
           "zerolinewidth": 2
          }
         }
        },
        "title": {
         "text": "Зависимость оттока от наличия пола клиента"
        },
        "width": 500,
        "xaxis": {
         "anchor": "y",
         "domain": [
          0,
          1
         ],
         "title": {
          "text": "Пол"
         }
        },
        "yaxis": {
         "anchor": "x",
         "domain": [
          0,
          1
         ],
         "title": {
          "text": "% от общего количества клиентов"
         }
        }
       }
      }
     },
     "metadata": {},
     "output_type": "display_data"
    }
   ],
   "source": [
    "tmp_df = churn_df[['Exited',\"Gender\"]].copy()\n",
    "\n",
    "# Пычисляем процентные доли по группам\n",
    "df = (churn_df.pivot_table(\n",
    "    index = \"Gender\",\n",
    "    values = \"Exited\",\n",
    "    aggfunc = 'mean'\n",
    ") * 100).round().astype( int )\n",
    "df[\"NotExited\"] = 100 - df[\"Exited\"]\n",
    "df = df.rename( columns = {\"Exited\": \"Доля ушедших\", \"NotExited\": \"Доля лояльных\",  }) # Отразятся в легенде\n",
    "\n",
    "# Готовим графику: имеем распределение по категориям, используем столбчатую диграмму\n",
    "fig = px.bar( \n",
    "    data_frame = df, \n",
    "    x = df.index,   # Ось x - Пол\n",
    "    y = df.columns, # Ось y - Проценты от общего количества в группе\n",
    "    barmode = 'stack', # Вертикальное расположени е групп\n",
    "    title = 'Зависимость оттока от наличия пола клиента',\n",
    "    width = 500,  # Ширина графика\n",
    "    height = 400, # Высота графика\n",
    "    color_discrete_map = { \"Доля ушедших\": \"red\", \"Доля лояльных\": \"blue\" },\n",
    "    text_auto = True,\n",
    "    labels = {'variable': 'Статус клиента: '} # Подпись на легенде\n",
    ")  \n",
    "fig.update_layout(\n",
    "    xaxis_title='Пол',\n",
    "    yaxis_title='% от общего количества клиентов',\n",
    "    legend = dict( orientation = \"h\", x = 0, y = 150, title_font_family = \"Sitka Small\" ) # Легенду расположим сверку слева\n",
    ")\n",
    "fig.show()"
   ]
  },
  {
   "cell_type": "markdown",
   "id": "1e995ea1",
   "metadata": {},
   "source": [
    "Видно, что мужчины уходят реже женщин"
   ]
  },
  {
   "cell_type": "markdown",
   "id": "f34b73a4",
   "metadata": {},
   "source": [
    "9.7. Как отток клиентов зависит от числа приобретённых у банка услуг? Для ответа на этот вопрос постройте многоуровневую столбчатую диаграмму."
   ]
  },
  {
   "cell_type": "code",
   "execution_count": 178,
   "id": "0e62c9fc",
   "metadata": {},
   "outputs": [
    {
     "data": {
      "application/vnd.plotly.v1+json": {
       "config": {
        "plotlyServerURL": "https://plot.ly"
       },
       "data": [
        {
         "alignmentgroup": "True",
         "hovertemplate": "Статус клиента: =Доля лояльных<br>NumOfProducts=%{x}<br>value=%{y}<extra></extra>",
         "legendgroup": "Доля лояльных",
         "marker": {
          "color": "#636efa",
          "pattern": {
           "shape": ""
          }
         },
         "name": "Доля лояльных",
         "offsetgroup": "Доля лояльных",
         "orientation": "v",
         "showlegend": true,
         "textposition": "auto",
         "texttemplate": "%{y}",
         "type": "bar",
         "x": {
          "bdata": "AQIDBA==",
          "dtype": "i1"
         },
         "xaxis": "x",
         "y": {
          "bdata": "SFwRAA==",
          "dtype": "i1"
         },
         "yaxis": "y"
        },
        {
         "alignmentgroup": "True",
         "hovertemplate": "Статус клиента: =Доля ушедших<br>NumOfProducts=%{x}<br>value=%{y}<extra></extra>",
         "legendgroup": "Доля ушедших",
         "marker": {
          "color": "#EF553B",
          "pattern": {
           "shape": ""
          }
         },
         "name": "Доля ушедших",
         "offsetgroup": "Доля ушедших",
         "orientation": "v",
         "showlegend": true,
         "textposition": "auto",
         "texttemplate": "%{y}",
         "type": "bar",
         "x": {
          "bdata": "AQIDBA==",
          "dtype": "i1"
         },
         "xaxis": "x",
         "y": {
          "bdata": "HAhTZA==",
          "dtype": "i1"
         },
         "yaxis": "y"
        }
       ],
       "layout": {
        "barmode": "group",
        "height": 400,
        "legend": {
         "orientation": "h",
         "title": {
          "font": {
           "family": "Sitka Small"
          },
          "text": "Статус клиента: "
         },
         "tracegroupgap": 0,
         "x": 0,
         "y": 150
        },
        "template": {
         "data": {
          "bar": [
           {
            "error_x": {
             "color": "#2a3f5f"
            },
            "error_y": {
             "color": "#2a3f5f"
            },
            "marker": {
             "line": {
              "color": "#E5ECF6",
              "width": 0.5
             },
             "pattern": {
              "fillmode": "overlay",
              "size": 10,
              "solidity": 0.2
             }
            },
            "type": "bar"
           }
          ],
          "barpolar": [
           {
            "marker": {
             "line": {
              "color": "#E5ECF6",
              "width": 0.5
             },
             "pattern": {
              "fillmode": "overlay",
              "size": 10,
              "solidity": 0.2
             }
            },
            "type": "barpolar"
           }
          ],
          "carpet": [
           {
            "aaxis": {
             "endlinecolor": "#2a3f5f",
             "gridcolor": "white",
             "linecolor": "white",
             "minorgridcolor": "white",
             "startlinecolor": "#2a3f5f"
            },
            "baxis": {
             "endlinecolor": "#2a3f5f",
             "gridcolor": "white",
             "linecolor": "white",
             "minorgridcolor": "white",
             "startlinecolor": "#2a3f5f"
            },
            "type": "carpet"
           }
          ],
          "choropleth": [
           {
            "colorbar": {
             "outlinewidth": 0,
             "ticks": ""
            },
            "type": "choropleth"
           }
          ],
          "contour": [
           {
            "colorbar": {
             "outlinewidth": 0,
             "ticks": ""
            },
            "colorscale": [
             [
              0,
              "#0d0887"
             ],
             [
              0.1111111111111111,
              "#46039f"
             ],
             [
              0.2222222222222222,
              "#7201a8"
             ],
             [
              0.3333333333333333,
              "#9c179e"
             ],
             [
              0.4444444444444444,
              "#bd3786"
             ],
             [
              0.5555555555555556,
              "#d8576b"
             ],
             [
              0.6666666666666666,
              "#ed7953"
             ],
             [
              0.7777777777777778,
              "#fb9f3a"
             ],
             [
              0.8888888888888888,
              "#fdca26"
             ],
             [
              1,
              "#f0f921"
             ]
            ],
            "type": "contour"
           }
          ],
          "contourcarpet": [
           {
            "colorbar": {
             "outlinewidth": 0,
             "ticks": ""
            },
            "type": "contourcarpet"
           }
          ],
          "heatmap": [
           {
            "colorbar": {
             "outlinewidth": 0,
             "ticks": ""
            },
            "colorscale": [
             [
              0,
              "#0d0887"
             ],
             [
              0.1111111111111111,
              "#46039f"
             ],
             [
              0.2222222222222222,
              "#7201a8"
             ],
             [
              0.3333333333333333,
              "#9c179e"
             ],
             [
              0.4444444444444444,
              "#bd3786"
             ],
             [
              0.5555555555555556,
              "#d8576b"
             ],
             [
              0.6666666666666666,
              "#ed7953"
             ],
             [
              0.7777777777777778,
              "#fb9f3a"
             ],
             [
              0.8888888888888888,
              "#fdca26"
             ],
             [
              1,
              "#f0f921"
             ]
            ],
            "type": "heatmap"
           }
          ],
          "histogram": [
           {
            "marker": {
             "pattern": {
              "fillmode": "overlay",
              "size": 10,
              "solidity": 0.2
             }
            },
            "type": "histogram"
           }
          ],
          "histogram2d": [
           {
            "colorbar": {
             "outlinewidth": 0,
             "ticks": ""
            },
            "colorscale": [
             [
              0,
              "#0d0887"
             ],
             [
              0.1111111111111111,
              "#46039f"
             ],
             [
              0.2222222222222222,
              "#7201a8"
             ],
             [
              0.3333333333333333,
              "#9c179e"
             ],
             [
              0.4444444444444444,
              "#bd3786"
             ],
             [
              0.5555555555555556,
              "#d8576b"
             ],
             [
              0.6666666666666666,
              "#ed7953"
             ],
             [
              0.7777777777777778,
              "#fb9f3a"
             ],
             [
              0.8888888888888888,
              "#fdca26"
             ],
             [
              1,
              "#f0f921"
             ]
            ],
            "type": "histogram2d"
           }
          ],
          "histogram2dcontour": [
           {
            "colorbar": {
             "outlinewidth": 0,
             "ticks": ""
            },
            "colorscale": [
             [
              0,
              "#0d0887"
             ],
             [
              0.1111111111111111,
              "#46039f"
             ],
             [
              0.2222222222222222,
              "#7201a8"
             ],
             [
              0.3333333333333333,
              "#9c179e"
             ],
             [
              0.4444444444444444,
              "#bd3786"
             ],
             [
              0.5555555555555556,
              "#d8576b"
             ],
             [
              0.6666666666666666,
              "#ed7953"
             ],
             [
              0.7777777777777778,
              "#fb9f3a"
             ],
             [
              0.8888888888888888,
              "#fdca26"
             ],
             [
              1,
              "#f0f921"
             ]
            ],
            "type": "histogram2dcontour"
           }
          ],
          "mesh3d": [
           {
            "colorbar": {
             "outlinewidth": 0,
             "ticks": ""
            },
            "type": "mesh3d"
           }
          ],
          "parcoords": [
           {
            "line": {
             "colorbar": {
              "outlinewidth": 0,
              "ticks": ""
             }
            },
            "type": "parcoords"
           }
          ],
          "pie": [
           {
            "automargin": true,
            "type": "pie"
           }
          ],
          "scatter": [
           {
            "fillpattern": {
             "fillmode": "overlay",
             "size": 10,
             "solidity": 0.2
            },
            "type": "scatter"
           }
          ],
          "scatter3d": [
           {
            "line": {
             "colorbar": {
              "outlinewidth": 0,
              "ticks": ""
             }
            },
            "marker": {
             "colorbar": {
              "outlinewidth": 0,
              "ticks": ""
             }
            },
            "type": "scatter3d"
           }
          ],
          "scattercarpet": [
           {
            "marker": {
             "colorbar": {
              "outlinewidth": 0,
              "ticks": ""
             }
            },
            "type": "scattercarpet"
           }
          ],
          "scattergeo": [
           {
            "marker": {
             "colorbar": {
              "outlinewidth": 0,
              "ticks": ""
             }
            },
            "type": "scattergeo"
           }
          ],
          "scattergl": [
           {
            "marker": {
             "colorbar": {
              "outlinewidth": 0,
              "ticks": ""
             }
            },
            "type": "scattergl"
           }
          ],
          "scattermap": [
           {
            "marker": {
             "colorbar": {
              "outlinewidth": 0,
              "ticks": ""
             }
            },
            "type": "scattermap"
           }
          ],
          "scattermapbox": [
           {
            "marker": {
             "colorbar": {
              "outlinewidth": 0,
              "ticks": ""
             }
            },
            "type": "scattermapbox"
           }
          ],
          "scatterpolar": [
           {
            "marker": {
             "colorbar": {
              "outlinewidth": 0,
              "ticks": ""
             }
            },
            "type": "scatterpolar"
           }
          ],
          "scatterpolargl": [
           {
            "marker": {
             "colorbar": {
              "outlinewidth": 0,
              "ticks": ""
             }
            },
            "type": "scatterpolargl"
           }
          ],
          "scatterternary": [
           {
            "marker": {
             "colorbar": {
              "outlinewidth": 0,
              "ticks": ""
             }
            },
            "type": "scatterternary"
           }
          ],
          "surface": [
           {
            "colorbar": {
             "outlinewidth": 0,
             "ticks": ""
            },
            "colorscale": [
             [
              0,
              "#0d0887"
             ],
             [
              0.1111111111111111,
              "#46039f"
             ],
             [
              0.2222222222222222,
              "#7201a8"
             ],
             [
              0.3333333333333333,
              "#9c179e"
             ],
             [
              0.4444444444444444,
              "#bd3786"
             ],
             [
              0.5555555555555556,
              "#d8576b"
             ],
             [
              0.6666666666666666,
              "#ed7953"
             ],
             [
              0.7777777777777778,
              "#fb9f3a"
             ],
             [
              0.8888888888888888,
              "#fdca26"
             ],
             [
              1,
              "#f0f921"
             ]
            ],
            "type": "surface"
           }
          ],
          "table": [
           {
            "cells": {
             "fill": {
              "color": "#EBF0F8"
             },
             "line": {
              "color": "white"
             }
            },
            "header": {
             "fill": {
              "color": "#C8D4E3"
             },
             "line": {
              "color": "white"
             }
            },
            "type": "table"
           }
          ]
         },
         "layout": {
          "annotationdefaults": {
           "arrowcolor": "#2a3f5f",
           "arrowhead": 0,
           "arrowwidth": 1
          },
          "autotypenumbers": "strict",
          "coloraxis": {
           "colorbar": {
            "outlinewidth": 0,
            "ticks": ""
           }
          },
          "colorscale": {
           "diverging": [
            [
             0,
             "#8e0152"
            ],
            [
             0.1,
             "#c51b7d"
            ],
            [
             0.2,
             "#de77ae"
            ],
            [
             0.3,
             "#f1b6da"
            ],
            [
             0.4,
             "#fde0ef"
            ],
            [
             0.5,
             "#f7f7f7"
            ],
            [
             0.6,
             "#e6f5d0"
            ],
            [
             0.7,
             "#b8e186"
            ],
            [
             0.8,
             "#7fbc41"
            ],
            [
             0.9,
             "#4d9221"
            ],
            [
             1,
             "#276419"
            ]
           ],
           "sequential": [
            [
             0,
             "#0d0887"
            ],
            [
             0.1111111111111111,
             "#46039f"
            ],
            [
             0.2222222222222222,
             "#7201a8"
            ],
            [
             0.3333333333333333,
             "#9c179e"
            ],
            [
             0.4444444444444444,
             "#bd3786"
            ],
            [
             0.5555555555555556,
             "#d8576b"
            ],
            [
             0.6666666666666666,
             "#ed7953"
            ],
            [
             0.7777777777777778,
             "#fb9f3a"
            ],
            [
             0.8888888888888888,
             "#fdca26"
            ],
            [
             1,
             "#f0f921"
            ]
           ],
           "sequentialminus": [
            [
             0,
             "#0d0887"
            ],
            [
             0.1111111111111111,
             "#46039f"
            ],
            [
             0.2222222222222222,
             "#7201a8"
            ],
            [
             0.3333333333333333,
             "#9c179e"
            ],
            [
             0.4444444444444444,
             "#bd3786"
            ],
            [
             0.5555555555555556,
             "#d8576b"
            ],
            [
             0.6666666666666666,
             "#ed7953"
            ],
            [
             0.7777777777777778,
             "#fb9f3a"
            ],
            [
             0.8888888888888888,
             "#fdca26"
            ],
            [
             1,
             "#f0f921"
            ]
           ]
          },
          "colorway": [
           "#636efa",
           "#EF553B",
           "#00cc96",
           "#ab63fa",
           "#FFA15A",
           "#19d3f3",
           "#FF6692",
           "#B6E880",
           "#FF97FF",
           "#FECB52"
          ],
          "font": {
           "color": "#2a3f5f"
          },
          "geo": {
           "bgcolor": "white",
           "lakecolor": "white",
           "landcolor": "#E5ECF6",
           "showlakes": true,
           "showland": true,
           "subunitcolor": "white"
          },
          "hoverlabel": {
           "align": "left"
          },
          "hovermode": "closest",
          "mapbox": {
           "style": "light"
          },
          "paper_bgcolor": "white",
          "plot_bgcolor": "#E5ECF6",
          "polar": {
           "angularaxis": {
            "gridcolor": "white",
            "linecolor": "white",
            "ticks": ""
           },
           "bgcolor": "#E5ECF6",
           "radialaxis": {
            "gridcolor": "white",
            "linecolor": "white",
            "ticks": ""
           }
          },
          "scene": {
           "xaxis": {
            "backgroundcolor": "#E5ECF6",
            "gridcolor": "white",
            "gridwidth": 2,
            "linecolor": "white",
            "showbackground": true,
            "ticks": "",
            "zerolinecolor": "white"
           },
           "yaxis": {
            "backgroundcolor": "#E5ECF6",
            "gridcolor": "white",
            "gridwidth": 2,
            "linecolor": "white",
            "showbackground": true,
            "ticks": "",
            "zerolinecolor": "white"
           },
           "zaxis": {
            "backgroundcolor": "#E5ECF6",
            "gridcolor": "white",
            "gridwidth": 2,
            "linecolor": "white",
            "showbackground": true,
            "ticks": "",
            "zerolinecolor": "white"
           }
          },
          "shapedefaults": {
           "line": {
            "color": "#2a3f5f"
           }
          },
          "ternary": {
           "aaxis": {
            "gridcolor": "white",
            "linecolor": "white",
            "ticks": ""
           },
           "baxis": {
            "gridcolor": "white",
            "linecolor": "white",
            "ticks": ""
           },
           "bgcolor": "#E5ECF6",
           "caxis": {
            "gridcolor": "white",
            "linecolor": "white",
            "ticks": ""
           }
          },
          "title": {
           "x": 0.05
          },
          "xaxis": {
           "automargin": true,
           "gridcolor": "white",
           "linecolor": "white",
           "ticks": "",
           "title": {
            "standoff": 15
           },
           "zerolinecolor": "white",
           "zerolinewidth": 2
          },
          "yaxis": {
           "automargin": true,
           "gridcolor": "white",
           "linecolor": "white",
           "ticks": "",
           "title": {
            "standoff": 15
           },
           "zerolinecolor": "white",
           "zerolinewidth": 2
          }
         }
        },
        "title": {
         "text": "Зависимость оттока клиентов от количества услуг"
        },
        "width": 500,
        "xaxis": {
         "anchor": "y",
         "domain": [
          0,
          1
         ],
         "title": {
          "text": "Количество услуг"
         }
        },
        "yaxis": {
         "anchor": "x",
         "domain": [
          0,
          1
         ],
         "title": {
          "text": "% от общего количества клиентов"
         }
        }
       }
      }
     },
     "metadata": {},
     "output_type": "display_data"
    }
   ],
   "source": [
    "tmp_df = churn_df[[\"NumOfProducts\", 'Exited',\"CustomerId\"]].copy()\n",
    "df = tmp_df.pivot_table(\n",
    "    index = 'NumOfProducts',\n",
    "    columns = 'Exited',\n",
    "    values = 'CustomerId',\n",
    "    fill_value = 0,\n",
    "    aggfunc = 'count'    \n",
    ")\n",
    "\n",
    "df = df.rename( columns = {1: \"Ушедшие\", 0: \"Лояльные\"})\n",
    "df[\"Доля ушедших\"] = (df[\"Ушедшие\"] * 100 / (df[\"Лояльные\"] + df[\"Ушедшие\"])).round().astype( int )\n",
    "df[\"Доля лояльных\"] = 100 - df[\"Доля ушедших\"] \n",
    "\n",
    "# Готовим графику: имеем распределение по группам - годы, используем столбчатую диграмму\n",
    "fig = px.bar( \n",
    "    data_frame = df, \n",
    "    x = df.index, # Ось x - Количество услуг\n",
    "    y = ['Доля лояльных', 'Доля ушедших'],  # Ось y - Процентная доля в группе\n",
    "    barmode ='group', # Группы расположены по горизонтали\n",
    "    title = 'Зависимость оттока клиентов от количества услуг',\n",
    "    labels = {'variable': 'Статус клиента: '}, # Подпись на легенде\n",
    "    width = 500,  # Ширина графика\n",
    "    height = 400, # Высота графика\n",
    "    text_auto = True,\n",
    ")  \n",
    "fig.update_layout(\n",
    "    xaxis_title = 'Количество услуг',\n",
    "    yaxis_title = '% от общего количества клиентов',\n",
    "    legend = dict(orientation = \"h\", x = 0, y = 150, title_font_family = \"Sitka Small\" ) # Легенду расположим сверку слева\n",
    ")\n",
    "fig.show()"
   ]
  },
  {
   "cell_type": "markdown",
   "id": "a77007e9",
   "metadata": {},
   "source": [
    "Минимум оттока клиентов наблюдлается при 2х услугах у клиента. "
   ]
  },
  {
   "cell_type": "markdown",
   "id": "77d78497",
   "metadata": {},
   "source": [
    "9.8. Как влияет наличие статуса активного клиента на отток клиентов? Постройте диаграмму, иллюстрирующую это. Что бы вы предложили банку, чтобы уменьшить отток клиентов среди неактивных?"
   ]
  },
  {
   "cell_type": "code",
   "execution_count": 179,
   "id": "95891088",
   "metadata": {},
   "outputs": [
    {
     "data": {
      "application/vnd.plotly.v1+json": {
       "config": {
        "plotlyServerURL": "https://plot.ly"
       },
       "data": [
        {
         "alignmentgroup": "True",
         "hovertemplate": "Статус клиента: =Доля лояльных<br>IsActiveMember=%{x}<br>value=%{y}<extra></extra>",
         "legendgroup": "Доля лояльных",
         "marker": {
          "color": "#636efa",
          "pattern": {
           "shape": ""
          }
         },
         "name": "Доля лояльных",
         "offsetgroup": "Доля лояльных",
         "orientation": "v",
         "showlegend": true,
         "textposition": "auto",
         "texttemplate": "%{y}",
         "type": "bar",
         "x": {
          "bdata": "AAE=",
          "dtype": "i1"
         },
         "xaxis": "x",
         "y": {
          "bdata": "SVY=",
          "dtype": "i1"
         },
         "yaxis": "y"
        },
        {
         "alignmentgroup": "True",
         "hovertemplate": "Статус клиента: =Доля ушедших<br>IsActiveMember=%{x}<br>value=%{y}<extra></extra>",
         "legendgroup": "Доля ушедших",
         "marker": {
          "color": "#EF553B",
          "pattern": {
           "shape": ""
          }
         },
         "name": "Доля ушедших",
         "offsetgroup": "Доля ушедших",
         "orientation": "v",
         "showlegend": true,
         "textposition": "auto",
         "texttemplate": "%{y}",
         "type": "bar",
         "x": {
          "bdata": "AAE=",
          "dtype": "i1"
         },
         "xaxis": "x",
         "y": {
          "bdata": "Gw4=",
          "dtype": "i1"
         },
         "yaxis": "y"
        }
       ],
       "layout": {
        "barmode": "group",
        "height": 400,
        "legend": {
         "orientation": "h",
         "title": {
          "font": {
           "family": "Sitka Small"
          },
          "text": "Статус клиента: "
         },
         "tracegroupgap": 0,
         "x": 0,
         "y": 150
        },
        "template": {
         "data": {
          "bar": [
           {
            "error_x": {
             "color": "#2a3f5f"
            },
            "error_y": {
             "color": "#2a3f5f"
            },
            "marker": {
             "line": {
              "color": "#E5ECF6",
              "width": 0.5
             },
             "pattern": {
              "fillmode": "overlay",
              "size": 10,
              "solidity": 0.2
             }
            },
            "type": "bar"
           }
          ],
          "barpolar": [
           {
            "marker": {
             "line": {
              "color": "#E5ECF6",
              "width": 0.5
             },
             "pattern": {
              "fillmode": "overlay",
              "size": 10,
              "solidity": 0.2
             }
            },
            "type": "barpolar"
           }
          ],
          "carpet": [
           {
            "aaxis": {
             "endlinecolor": "#2a3f5f",
             "gridcolor": "white",
             "linecolor": "white",
             "minorgridcolor": "white",
             "startlinecolor": "#2a3f5f"
            },
            "baxis": {
             "endlinecolor": "#2a3f5f",
             "gridcolor": "white",
             "linecolor": "white",
             "minorgridcolor": "white",
             "startlinecolor": "#2a3f5f"
            },
            "type": "carpet"
           }
          ],
          "choropleth": [
           {
            "colorbar": {
             "outlinewidth": 0,
             "ticks": ""
            },
            "type": "choropleth"
           }
          ],
          "contour": [
           {
            "colorbar": {
             "outlinewidth": 0,
             "ticks": ""
            },
            "colorscale": [
             [
              0,
              "#0d0887"
             ],
             [
              0.1111111111111111,
              "#46039f"
             ],
             [
              0.2222222222222222,
              "#7201a8"
             ],
             [
              0.3333333333333333,
              "#9c179e"
             ],
             [
              0.4444444444444444,
              "#bd3786"
             ],
             [
              0.5555555555555556,
              "#d8576b"
             ],
             [
              0.6666666666666666,
              "#ed7953"
             ],
             [
              0.7777777777777778,
              "#fb9f3a"
             ],
             [
              0.8888888888888888,
              "#fdca26"
             ],
             [
              1,
              "#f0f921"
             ]
            ],
            "type": "contour"
           }
          ],
          "contourcarpet": [
           {
            "colorbar": {
             "outlinewidth": 0,
             "ticks": ""
            },
            "type": "contourcarpet"
           }
          ],
          "heatmap": [
           {
            "colorbar": {
             "outlinewidth": 0,
             "ticks": ""
            },
            "colorscale": [
             [
              0,
              "#0d0887"
             ],
             [
              0.1111111111111111,
              "#46039f"
             ],
             [
              0.2222222222222222,
              "#7201a8"
             ],
             [
              0.3333333333333333,
              "#9c179e"
             ],
             [
              0.4444444444444444,
              "#bd3786"
             ],
             [
              0.5555555555555556,
              "#d8576b"
             ],
             [
              0.6666666666666666,
              "#ed7953"
             ],
             [
              0.7777777777777778,
              "#fb9f3a"
             ],
             [
              0.8888888888888888,
              "#fdca26"
             ],
             [
              1,
              "#f0f921"
             ]
            ],
            "type": "heatmap"
           }
          ],
          "histogram": [
           {
            "marker": {
             "pattern": {
              "fillmode": "overlay",
              "size": 10,
              "solidity": 0.2
             }
            },
            "type": "histogram"
           }
          ],
          "histogram2d": [
           {
            "colorbar": {
             "outlinewidth": 0,
             "ticks": ""
            },
            "colorscale": [
             [
              0,
              "#0d0887"
             ],
             [
              0.1111111111111111,
              "#46039f"
             ],
             [
              0.2222222222222222,
              "#7201a8"
             ],
             [
              0.3333333333333333,
              "#9c179e"
             ],
             [
              0.4444444444444444,
              "#bd3786"
             ],
             [
              0.5555555555555556,
              "#d8576b"
             ],
             [
              0.6666666666666666,
              "#ed7953"
             ],
             [
              0.7777777777777778,
              "#fb9f3a"
             ],
             [
              0.8888888888888888,
              "#fdca26"
             ],
             [
              1,
              "#f0f921"
             ]
            ],
            "type": "histogram2d"
           }
          ],
          "histogram2dcontour": [
           {
            "colorbar": {
             "outlinewidth": 0,
             "ticks": ""
            },
            "colorscale": [
             [
              0,
              "#0d0887"
             ],
             [
              0.1111111111111111,
              "#46039f"
             ],
             [
              0.2222222222222222,
              "#7201a8"
             ],
             [
              0.3333333333333333,
              "#9c179e"
             ],
             [
              0.4444444444444444,
              "#bd3786"
             ],
             [
              0.5555555555555556,
              "#d8576b"
             ],
             [
              0.6666666666666666,
              "#ed7953"
             ],
             [
              0.7777777777777778,
              "#fb9f3a"
             ],
             [
              0.8888888888888888,
              "#fdca26"
             ],
             [
              1,
              "#f0f921"
             ]
            ],
            "type": "histogram2dcontour"
           }
          ],
          "mesh3d": [
           {
            "colorbar": {
             "outlinewidth": 0,
             "ticks": ""
            },
            "type": "mesh3d"
           }
          ],
          "parcoords": [
           {
            "line": {
             "colorbar": {
              "outlinewidth": 0,
              "ticks": ""
             }
            },
            "type": "parcoords"
           }
          ],
          "pie": [
           {
            "automargin": true,
            "type": "pie"
           }
          ],
          "scatter": [
           {
            "fillpattern": {
             "fillmode": "overlay",
             "size": 10,
             "solidity": 0.2
            },
            "type": "scatter"
           }
          ],
          "scatter3d": [
           {
            "line": {
             "colorbar": {
              "outlinewidth": 0,
              "ticks": ""
             }
            },
            "marker": {
             "colorbar": {
              "outlinewidth": 0,
              "ticks": ""
             }
            },
            "type": "scatter3d"
           }
          ],
          "scattercarpet": [
           {
            "marker": {
             "colorbar": {
              "outlinewidth": 0,
              "ticks": ""
             }
            },
            "type": "scattercarpet"
           }
          ],
          "scattergeo": [
           {
            "marker": {
             "colorbar": {
              "outlinewidth": 0,
              "ticks": ""
             }
            },
            "type": "scattergeo"
           }
          ],
          "scattergl": [
           {
            "marker": {
             "colorbar": {
              "outlinewidth": 0,
              "ticks": ""
             }
            },
            "type": "scattergl"
           }
          ],
          "scattermap": [
           {
            "marker": {
             "colorbar": {
              "outlinewidth": 0,
              "ticks": ""
             }
            },
            "type": "scattermap"
           }
          ],
          "scattermapbox": [
           {
            "marker": {
             "colorbar": {
              "outlinewidth": 0,
              "ticks": ""
             }
            },
            "type": "scattermapbox"
           }
          ],
          "scatterpolar": [
           {
            "marker": {
             "colorbar": {
              "outlinewidth": 0,
              "ticks": ""
             }
            },
            "type": "scatterpolar"
           }
          ],
          "scatterpolargl": [
           {
            "marker": {
             "colorbar": {
              "outlinewidth": 0,
              "ticks": ""
             }
            },
            "type": "scatterpolargl"
           }
          ],
          "scatterternary": [
           {
            "marker": {
             "colorbar": {
              "outlinewidth": 0,
              "ticks": ""
             }
            },
            "type": "scatterternary"
           }
          ],
          "surface": [
           {
            "colorbar": {
             "outlinewidth": 0,
             "ticks": ""
            },
            "colorscale": [
             [
              0,
              "#0d0887"
             ],
             [
              0.1111111111111111,
              "#46039f"
             ],
             [
              0.2222222222222222,
              "#7201a8"
             ],
             [
              0.3333333333333333,
              "#9c179e"
             ],
             [
              0.4444444444444444,
              "#bd3786"
             ],
             [
              0.5555555555555556,
              "#d8576b"
             ],
             [
              0.6666666666666666,
              "#ed7953"
             ],
             [
              0.7777777777777778,
              "#fb9f3a"
             ],
             [
              0.8888888888888888,
              "#fdca26"
             ],
             [
              1,
              "#f0f921"
             ]
            ],
            "type": "surface"
           }
          ],
          "table": [
           {
            "cells": {
             "fill": {
              "color": "#EBF0F8"
             },
             "line": {
              "color": "white"
             }
            },
            "header": {
             "fill": {
              "color": "#C8D4E3"
             },
             "line": {
              "color": "white"
             }
            },
            "type": "table"
           }
          ]
         },
         "layout": {
          "annotationdefaults": {
           "arrowcolor": "#2a3f5f",
           "arrowhead": 0,
           "arrowwidth": 1
          },
          "autotypenumbers": "strict",
          "coloraxis": {
           "colorbar": {
            "outlinewidth": 0,
            "ticks": ""
           }
          },
          "colorscale": {
           "diverging": [
            [
             0,
             "#8e0152"
            ],
            [
             0.1,
             "#c51b7d"
            ],
            [
             0.2,
             "#de77ae"
            ],
            [
             0.3,
             "#f1b6da"
            ],
            [
             0.4,
             "#fde0ef"
            ],
            [
             0.5,
             "#f7f7f7"
            ],
            [
             0.6,
             "#e6f5d0"
            ],
            [
             0.7,
             "#b8e186"
            ],
            [
             0.8,
             "#7fbc41"
            ],
            [
             0.9,
             "#4d9221"
            ],
            [
             1,
             "#276419"
            ]
           ],
           "sequential": [
            [
             0,
             "#0d0887"
            ],
            [
             0.1111111111111111,
             "#46039f"
            ],
            [
             0.2222222222222222,
             "#7201a8"
            ],
            [
             0.3333333333333333,
             "#9c179e"
            ],
            [
             0.4444444444444444,
             "#bd3786"
            ],
            [
             0.5555555555555556,
             "#d8576b"
            ],
            [
             0.6666666666666666,
             "#ed7953"
            ],
            [
             0.7777777777777778,
             "#fb9f3a"
            ],
            [
             0.8888888888888888,
             "#fdca26"
            ],
            [
             1,
             "#f0f921"
            ]
           ],
           "sequentialminus": [
            [
             0,
             "#0d0887"
            ],
            [
             0.1111111111111111,
             "#46039f"
            ],
            [
             0.2222222222222222,
             "#7201a8"
            ],
            [
             0.3333333333333333,
             "#9c179e"
            ],
            [
             0.4444444444444444,
             "#bd3786"
            ],
            [
             0.5555555555555556,
             "#d8576b"
            ],
            [
             0.6666666666666666,
             "#ed7953"
            ],
            [
             0.7777777777777778,
             "#fb9f3a"
            ],
            [
             0.8888888888888888,
             "#fdca26"
            ],
            [
             1,
             "#f0f921"
            ]
           ]
          },
          "colorway": [
           "#636efa",
           "#EF553B",
           "#00cc96",
           "#ab63fa",
           "#FFA15A",
           "#19d3f3",
           "#FF6692",
           "#B6E880",
           "#FF97FF",
           "#FECB52"
          ],
          "font": {
           "color": "#2a3f5f"
          },
          "geo": {
           "bgcolor": "white",
           "lakecolor": "white",
           "landcolor": "#E5ECF6",
           "showlakes": true,
           "showland": true,
           "subunitcolor": "white"
          },
          "hoverlabel": {
           "align": "left"
          },
          "hovermode": "closest",
          "mapbox": {
           "style": "light"
          },
          "paper_bgcolor": "white",
          "plot_bgcolor": "#E5ECF6",
          "polar": {
           "angularaxis": {
            "gridcolor": "white",
            "linecolor": "white",
            "ticks": ""
           },
           "bgcolor": "#E5ECF6",
           "radialaxis": {
            "gridcolor": "white",
            "linecolor": "white",
            "ticks": ""
           }
          },
          "scene": {
           "xaxis": {
            "backgroundcolor": "#E5ECF6",
            "gridcolor": "white",
            "gridwidth": 2,
            "linecolor": "white",
            "showbackground": true,
            "ticks": "",
            "zerolinecolor": "white"
           },
           "yaxis": {
            "backgroundcolor": "#E5ECF6",
            "gridcolor": "white",
            "gridwidth": 2,
            "linecolor": "white",
            "showbackground": true,
            "ticks": "",
            "zerolinecolor": "white"
           },
           "zaxis": {
            "backgroundcolor": "#E5ECF6",
            "gridcolor": "white",
            "gridwidth": 2,
            "linecolor": "white",
            "showbackground": true,
            "ticks": "",
            "zerolinecolor": "white"
           }
          },
          "shapedefaults": {
           "line": {
            "color": "#2a3f5f"
           }
          },
          "ternary": {
           "aaxis": {
            "gridcolor": "white",
            "linecolor": "white",
            "ticks": ""
           },
           "baxis": {
            "gridcolor": "white",
            "linecolor": "white",
            "ticks": ""
           },
           "bgcolor": "#E5ECF6",
           "caxis": {
            "gridcolor": "white",
            "linecolor": "white",
            "ticks": ""
           }
          },
          "title": {
           "x": 0.05
          },
          "xaxis": {
           "automargin": true,
           "gridcolor": "white",
           "linecolor": "white",
           "ticks": "",
           "title": {
            "standoff": 15
           },
           "zerolinecolor": "white",
           "zerolinewidth": 2
          },
          "yaxis": {
           "automargin": true,
           "gridcolor": "white",
           "linecolor": "white",
           "ticks": "",
           "title": {
            "standoff": 15
           },
           "zerolinecolor": "white",
           "zerolinewidth": 2
          }
         }
        },
        "title": {
         "text": "Зависимость оттока от наличия статуса активного клиента"
        },
        "width": 600,
        "xaxis": {
         "anchor": "y",
         "domain": [
          0,
          1
         ],
         "title": {
          "text": "Статус активного клиента"
         }
        },
        "yaxis": {
         "anchor": "x",
         "domain": [
          0,
          1
         ],
         "title": {
          "text": "% от общего количества клиентов"
         }
        }
       }
      }
     },
     "metadata": {},
     "output_type": "display_data"
    }
   ],
   "source": [
    "tmp_df = churn_df[['Exited',\"IsActiveMember\",\"CustomerId\"]].copy()\n",
    "df = tmp_df.pivot_table(\n",
    "    index = 'IsActiveMember',\n",
    "    columns='Exited',\n",
    "    values = 'CustomerId',\n",
    "    fill_value = 0,\n",
    "    aggfunc = 'count'    \n",
    ")\n",
    "df = df.rename( columns = {1: \"Ушедшие\", 0: \"Лояльные\"})\n",
    "# Вычислим процентные доли\n",
    "df[\"Доля ушедших\"] = (df[\"Ушедшие\"] * 100 / (df[\"Лояльные\"] + df[\"Ушедшие\"])).round().astype( int )\n",
    "df[\"Доля лояльных\"] = 100 - df[\"Доля ушедших\"] \n",
    "\n",
    "# Готовим графику: имеем распределение по группам - годы, используем столбчатую диграмму\n",
    "fig = px.bar( \n",
    "    data_frame = df, \n",
    "    x = df.index, # По оси x - Статус активного клиента\n",
    "    y = ['Доля лояльных', 'Доля ушедших'], \n",
    "    #text = ['Доля лояльных', 'Доля ушедших'], #текст на столбцах\n",
    "    barmode ='group',\n",
    "    title = 'Зависимость оттока от наличия статуса активного клиента',\n",
    "    width = 600,  # Ширина графика\n",
    "    height = 400, # Высота графика\n",
    "    text_auto = True, # Подписи величин\n",
    "    labels = {'variable': 'Статус клиента: '}, # Подпись на легенде\n",
    ")  \n",
    "fig.update_layout(\n",
    "    xaxis_title='Статус активного клиента',\n",
    "    yaxis_title='% от общего количества клиентов',\n",
    "    legend = dict(orientation = \"h\", x = 0, y = 150, title_font_family = \"Sitka Small\" ) # Легенду расположим сверку слева\n",
    ")\n",
    "fig.show()"
   ]
  },
  {
   "cell_type": "markdown",
   "id": "d802b7ac",
   "metadata": {},
   "source": [
    "Видно, что наличие статуса активного клиента снижает желание покануть банк"
   ]
  },
  {
   "cell_type": "markdown",
   "id": "8d38003e",
   "metadata": {},
   "source": [
    "9.9. В какой стране доля ушедших клиентов больше? Постройте тепловую картограмму, которая покажет это соотношение на карте мира. Предположите, с чем это может быть связано."
   ]
  },
  {
   "cell_type": "code",
   "execution_count": 180,
   "id": "ff23ea6f",
   "metadata": {},
   "outputs": [
    {
     "data": {
      "application/vnd.plotly.v1+json": {
       "config": {
        "plotlyServerURL": "https://plot.ly"
       },
       "data": [
        {
         "coloraxis": "coloraxis",
         "geo": "geo",
         "hovertemplate": "locations=%{location}<br>Доля ушедших=%{z}<extra></extra>",
         "locationmode": "country names",
         "locations": [
          "Spain",
          "France",
          "Germany"
         ],
         "name": "",
         "type": "choropleth",
         "z": {
          "bdata": "ECAR",
          "dtype": "i1"
         }
        }
       ],
       "layout": {
        "coloraxis": {
         "cmax": 100,
         "cmin": 0,
         "colorbar": {
          "title": {
           "text": "Доля ушедших"
          }
         },
         "colorscale": [
          [
           0,
           "rgb(255,245,240)"
          ],
          [
           0.125,
           "rgb(254,224,210)"
          ],
          [
           0.25,
           "rgb(252,187,161)"
          ],
          [
           0.375,
           "rgb(252,146,114)"
          ],
          [
           0.5,
           "rgb(251,106,74)"
          ],
          [
           0.625,
           "rgb(239,59,44)"
          ],
          [
           0.75,
           "rgb(203,24,29)"
          ],
          [
           0.875,
           "rgb(165,15,21)"
          ],
          [
           1,
           "rgb(103,0,13)"
          ]
         ]
        },
        "geo": {
         "center": {},
         "domain": {
          "x": [
           0,
           1
          ],
          "y": [
           0,
           1
          ]
         },
         "scope": "europe"
        },
        "height": 500,
        "legend": {
         "tracegroupgap": 0
        },
        "template": {
         "data": {
          "bar": [
           {
            "error_x": {
             "color": "#2a3f5f"
            },
            "error_y": {
             "color": "#2a3f5f"
            },
            "marker": {
             "line": {
              "color": "#E5ECF6",
              "width": 0.5
             },
             "pattern": {
              "fillmode": "overlay",
              "size": 10,
              "solidity": 0.2
             }
            },
            "type": "bar"
           }
          ],
          "barpolar": [
           {
            "marker": {
             "line": {
              "color": "#E5ECF6",
              "width": 0.5
             },
             "pattern": {
              "fillmode": "overlay",
              "size": 10,
              "solidity": 0.2
             }
            },
            "type": "barpolar"
           }
          ],
          "carpet": [
           {
            "aaxis": {
             "endlinecolor": "#2a3f5f",
             "gridcolor": "white",
             "linecolor": "white",
             "minorgridcolor": "white",
             "startlinecolor": "#2a3f5f"
            },
            "baxis": {
             "endlinecolor": "#2a3f5f",
             "gridcolor": "white",
             "linecolor": "white",
             "minorgridcolor": "white",
             "startlinecolor": "#2a3f5f"
            },
            "type": "carpet"
           }
          ],
          "choropleth": [
           {
            "colorbar": {
             "outlinewidth": 0,
             "ticks": ""
            },
            "type": "choropleth"
           }
          ],
          "contour": [
           {
            "colorbar": {
             "outlinewidth": 0,
             "ticks": ""
            },
            "colorscale": [
             [
              0,
              "#0d0887"
             ],
             [
              0.1111111111111111,
              "#46039f"
             ],
             [
              0.2222222222222222,
              "#7201a8"
             ],
             [
              0.3333333333333333,
              "#9c179e"
             ],
             [
              0.4444444444444444,
              "#bd3786"
             ],
             [
              0.5555555555555556,
              "#d8576b"
             ],
             [
              0.6666666666666666,
              "#ed7953"
             ],
             [
              0.7777777777777778,
              "#fb9f3a"
             ],
             [
              0.8888888888888888,
              "#fdca26"
             ],
             [
              1,
              "#f0f921"
             ]
            ],
            "type": "contour"
           }
          ],
          "contourcarpet": [
           {
            "colorbar": {
             "outlinewidth": 0,
             "ticks": ""
            },
            "type": "contourcarpet"
           }
          ],
          "heatmap": [
           {
            "colorbar": {
             "outlinewidth": 0,
             "ticks": ""
            },
            "colorscale": [
             [
              0,
              "#0d0887"
             ],
             [
              0.1111111111111111,
              "#46039f"
             ],
             [
              0.2222222222222222,
              "#7201a8"
             ],
             [
              0.3333333333333333,
              "#9c179e"
             ],
             [
              0.4444444444444444,
              "#bd3786"
             ],
             [
              0.5555555555555556,
              "#d8576b"
             ],
             [
              0.6666666666666666,
              "#ed7953"
             ],
             [
              0.7777777777777778,
              "#fb9f3a"
             ],
             [
              0.8888888888888888,
              "#fdca26"
             ],
             [
              1,
              "#f0f921"
             ]
            ],
            "type": "heatmap"
           }
          ],
          "histogram": [
           {
            "marker": {
             "pattern": {
              "fillmode": "overlay",
              "size": 10,
              "solidity": 0.2
             }
            },
            "type": "histogram"
           }
          ],
          "histogram2d": [
           {
            "colorbar": {
             "outlinewidth": 0,
             "ticks": ""
            },
            "colorscale": [
             [
              0,
              "#0d0887"
             ],
             [
              0.1111111111111111,
              "#46039f"
             ],
             [
              0.2222222222222222,
              "#7201a8"
             ],
             [
              0.3333333333333333,
              "#9c179e"
             ],
             [
              0.4444444444444444,
              "#bd3786"
             ],
             [
              0.5555555555555556,
              "#d8576b"
             ],
             [
              0.6666666666666666,
              "#ed7953"
             ],
             [
              0.7777777777777778,
              "#fb9f3a"
             ],
             [
              0.8888888888888888,
              "#fdca26"
             ],
             [
              1,
              "#f0f921"
             ]
            ],
            "type": "histogram2d"
           }
          ],
          "histogram2dcontour": [
           {
            "colorbar": {
             "outlinewidth": 0,
             "ticks": ""
            },
            "colorscale": [
             [
              0,
              "#0d0887"
             ],
             [
              0.1111111111111111,
              "#46039f"
             ],
             [
              0.2222222222222222,
              "#7201a8"
             ],
             [
              0.3333333333333333,
              "#9c179e"
             ],
             [
              0.4444444444444444,
              "#bd3786"
             ],
             [
              0.5555555555555556,
              "#d8576b"
             ],
             [
              0.6666666666666666,
              "#ed7953"
             ],
             [
              0.7777777777777778,
              "#fb9f3a"
             ],
             [
              0.8888888888888888,
              "#fdca26"
             ],
             [
              1,
              "#f0f921"
             ]
            ],
            "type": "histogram2dcontour"
           }
          ],
          "mesh3d": [
           {
            "colorbar": {
             "outlinewidth": 0,
             "ticks": ""
            },
            "type": "mesh3d"
           }
          ],
          "parcoords": [
           {
            "line": {
             "colorbar": {
              "outlinewidth": 0,
              "ticks": ""
             }
            },
            "type": "parcoords"
           }
          ],
          "pie": [
           {
            "automargin": true,
            "type": "pie"
           }
          ],
          "scatter": [
           {
            "fillpattern": {
             "fillmode": "overlay",
             "size": 10,
             "solidity": 0.2
            },
            "type": "scatter"
           }
          ],
          "scatter3d": [
           {
            "line": {
             "colorbar": {
              "outlinewidth": 0,
              "ticks": ""
             }
            },
            "marker": {
             "colorbar": {
              "outlinewidth": 0,
              "ticks": ""
             }
            },
            "type": "scatter3d"
           }
          ],
          "scattercarpet": [
           {
            "marker": {
             "colorbar": {
              "outlinewidth": 0,
              "ticks": ""
             }
            },
            "type": "scattercarpet"
           }
          ],
          "scattergeo": [
           {
            "marker": {
             "colorbar": {
              "outlinewidth": 0,
              "ticks": ""
             }
            },
            "type": "scattergeo"
           }
          ],
          "scattergl": [
           {
            "marker": {
             "colorbar": {
              "outlinewidth": 0,
              "ticks": ""
             }
            },
            "type": "scattergl"
           }
          ],
          "scattermap": [
           {
            "marker": {
             "colorbar": {
              "outlinewidth": 0,
              "ticks": ""
             }
            },
            "type": "scattermap"
           }
          ],
          "scattermapbox": [
           {
            "marker": {
             "colorbar": {
              "outlinewidth": 0,
              "ticks": ""
             }
            },
            "type": "scattermapbox"
           }
          ],
          "scatterpolar": [
           {
            "marker": {
             "colorbar": {
              "outlinewidth": 0,
              "ticks": ""
             }
            },
            "type": "scatterpolar"
           }
          ],
          "scatterpolargl": [
           {
            "marker": {
             "colorbar": {
              "outlinewidth": 0,
              "ticks": ""
             }
            },
            "type": "scatterpolargl"
           }
          ],
          "scatterternary": [
           {
            "marker": {
             "colorbar": {
              "outlinewidth": 0,
              "ticks": ""
             }
            },
            "type": "scatterternary"
           }
          ],
          "surface": [
           {
            "colorbar": {
             "outlinewidth": 0,
             "ticks": ""
            },
            "colorscale": [
             [
              0,
              "#0d0887"
             ],
             [
              0.1111111111111111,
              "#46039f"
             ],
             [
              0.2222222222222222,
              "#7201a8"
             ],
             [
              0.3333333333333333,
              "#9c179e"
             ],
             [
              0.4444444444444444,
              "#bd3786"
             ],
             [
              0.5555555555555556,
              "#d8576b"
             ],
             [
              0.6666666666666666,
              "#ed7953"
             ],
             [
              0.7777777777777778,
              "#fb9f3a"
             ],
             [
              0.8888888888888888,
              "#fdca26"
             ],
             [
              1,
              "#f0f921"
             ]
            ],
            "type": "surface"
           }
          ],
          "table": [
           {
            "cells": {
             "fill": {
              "color": "#EBF0F8"
             },
             "line": {
              "color": "white"
             }
            },
            "header": {
             "fill": {
              "color": "#C8D4E3"
             },
             "line": {
              "color": "white"
             }
            },
            "type": "table"
           }
          ]
         },
         "layout": {
          "annotationdefaults": {
           "arrowcolor": "#2a3f5f",
           "arrowhead": 0,
           "arrowwidth": 1
          },
          "autotypenumbers": "strict",
          "coloraxis": {
           "colorbar": {
            "outlinewidth": 0,
            "ticks": ""
           }
          },
          "colorscale": {
           "diverging": [
            [
             0,
             "#8e0152"
            ],
            [
             0.1,
             "#c51b7d"
            ],
            [
             0.2,
             "#de77ae"
            ],
            [
             0.3,
             "#f1b6da"
            ],
            [
             0.4,
             "#fde0ef"
            ],
            [
             0.5,
             "#f7f7f7"
            ],
            [
             0.6,
             "#e6f5d0"
            ],
            [
             0.7,
             "#b8e186"
            ],
            [
             0.8,
             "#7fbc41"
            ],
            [
             0.9,
             "#4d9221"
            ],
            [
             1,
             "#276419"
            ]
           ],
           "sequential": [
            [
             0,
             "#0d0887"
            ],
            [
             0.1111111111111111,
             "#46039f"
            ],
            [
             0.2222222222222222,
             "#7201a8"
            ],
            [
             0.3333333333333333,
             "#9c179e"
            ],
            [
             0.4444444444444444,
             "#bd3786"
            ],
            [
             0.5555555555555556,
             "#d8576b"
            ],
            [
             0.6666666666666666,
             "#ed7953"
            ],
            [
             0.7777777777777778,
             "#fb9f3a"
            ],
            [
             0.8888888888888888,
             "#fdca26"
            ],
            [
             1,
             "#f0f921"
            ]
           ],
           "sequentialminus": [
            [
             0,
             "#0d0887"
            ],
            [
             0.1111111111111111,
             "#46039f"
            ],
            [
             0.2222222222222222,
             "#7201a8"
            ],
            [
             0.3333333333333333,
             "#9c179e"
            ],
            [
             0.4444444444444444,
             "#bd3786"
            ],
            [
             0.5555555555555556,
             "#d8576b"
            ],
            [
             0.6666666666666666,
             "#ed7953"
            ],
            [
             0.7777777777777778,
             "#fb9f3a"
            ],
            [
             0.8888888888888888,
             "#fdca26"
            ],
            [
             1,
             "#f0f921"
            ]
           ]
          },
          "colorway": [
           "#636efa",
           "#EF553B",
           "#00cc96",
           "#ab63fa",
           "#FFA15A",
           "#19d3f3",
           "#FF6692",
           "#B6E880",
           "#FF97FF",
           "#FECB52"
          ],
          "font": {
           "color": "#2a3f5f"
          },
          "geo": {
           "bgcolor": "white",
           "lakecolor": "white",
           "landcolor": "#E5ECF6",
           "showlakes": true,
           "showland": true,
           "subunitcolor": "white"
          },
          "hoverlabel": {
           "align": "left"
          },
          "hovermode": "closest",
          "mapbox": {
           "style": "light"
          },
          "paper_bgcolor": "white",
          "plot_bgcolor": "#E5ECF6",
          "polar": {
           "angularaxis": {
            "gridcolor": "white",
            "linecolor": "white",
            "ticks": ""
           },
           "bgcolor": "#E5ECF6",
           "radialaxis": {
            "gridcolor": "white",
            "linecolor": "white",
            "ticks": ""
           }
          },
          "scene": {
           "xaxis": {
            "backgroundcolor": "#E5ECF6",
            "gridcolor": "white",
            "gridwidth": 2,
            "linecolor": "white",
            "showbackground": true,
            "ticks": "",
            "zerolinecolor": "white"
           },
           "yaxis": {
            "backgroundcolor": "#E5ECF6",
            "gridcolor": "white",
            "gridwidth": 2,
            "linecolor": "white",
            "showbackground": true,
            "ticks": "",
            "zerolinecolor": "white"
           },
           "zaxis": {
            "backgroundcolor": "#E5ECF6",
            "gridcolor": "white",
            "gridwidth": 2,
            "linecolor": "white",
            "showbackground": true,
            "ticks": "",
            "zerolinecolor": "white"
           }
          },
          "shapedefaults": {
           "line": {
            "color": "#2a3f5f"
           }
          },
          "ternary": {
           "aaxis": {
            "gridcolor": "white",
            "linecolor": "white",
            "ticks": ""
           },
           "baxis": {
            "gridcolor": "white",
            "linecolor": "white",
            "ticks": ""
           },
           "bgcolor": "#E5ECF6",
           "caxis": {
            "gridcolor": "white",
            "linecolor": "white",
            "ticks": ""
           }
          },
          "title": {
           "x": 0.05
          },
          "xaxis": {
           "automargin": true,
           "gridcolor": "white",
           "linecolor": "white",
           "ticks": "",
           "title": {
            "standoff": 15
           },
           "zerolinecolor": "white",
           "zerolinewidth": 2
          },
          "yaxis": {
           "automargin": true,
           "gridcolor": "white",
           "linecolor": "white",
           "ticks": "",
           "title": {
            "standoff": 15
           },
           "zerolinecolor": "white",
           "zerolinewidth": 2
          }
         }
        },
        "title": {
         "text": "Доля ущедших клиентов по странам, %"
        },
        "width": 800
       }
      }
     },
     "metadata": {},
     "output_type": "display_data"
    }
   ],
   "source": [
    "tmp_df = churn_df[['Exited',\"Geography\",\"CustomerId\"]].copy()\n",
    "\n",
    "df = tmp_df.pivot_table(\n",
    "    index = 'Geography',\n",
    "    columns='Exited',\n",
    "    values = 'CustomerId',\n",
    "    fill_value = 0,\n",
    "    aggfunc = 'count'    \n",
    ")\n",
    "df = df.rename( columns = {1: \"Ушедшие\", 0: \"Лояльные\"})\n",
    "# Вычисляем процентиные доли\n",
    "df[\"Доля ушедших\"] = (df[\"Ушедшие\"] * 100 / (df[\"Лояльные\"] + df[\"Ушедшие\"])).round().astype( int )\n",
    "\n",
    "# Готовим графику: имеем распределение по группам - странам, используем тепловую географичесчкую карту\n",
    "fig = px.choropleth( \n",
    "    data_frame = df, \n",
    "    locationmode = \"country names\", # Режим поиска - пос названиям стран\n",
    "    locations = list( set( df.index ) ), # Список стран\n",
    "    scope = 'europe', \n",
    "    color = \"Доля ушедших\", # Поле, управляющее цветом\n",
    "    range_color = [0, 100], # Диапазон цвета \n",
    "    title = 'Доля ущедших клиентов по странам, %', # Заголовок\n",
    "    width = 800, # Ширина\n",
    "    height = 500, # Высота\n",
    "    color_continuous_scale = 'Reds' #палитра цветов       \n",
    ")  \n",
    "fig.show()  # Печатаем"
   ]
  },
  {
   "cell_type": "markdown",
   "id": "ccb3c117",
   "metadata": {},
   "source": [
    "Видим, что это Германия. Возможно, это связано с разделением страны на 2 части, требуется дополнительное исследование этой особенности"
   ]
  },
  {
   "cell_type": "markdown",
   "id": "3626c428",
   "metadata": {},
   "source": [
    "9.10. Переведите числовой признак CreditScore в категориальный. Для этого воспользуйтесь функцией get_credit_score_cat(), которая приведена ниже. Примените её к столбцу CreditScore и создайте новый признак CreditScoreCat — категории кредитного рейтинга."
   ]
  },
  {
   "cell_type": "code",
   "execution_count": 181,
   "id": "85e01c90",
   "metadata": {},
   "outputs": [],
   "source": [
    "def get_credit_score_cat(credit_score):\n",
    "    if credit_score >= 300 and credit_score < 500:\n",
    "        return \"Very_Poor\"\n",
    "    elif credit_score >= 500 and credit_score < 601:\n",
    "        return \"Poor\"\n",
    "    elif credit_score >= 601 and credit_score < 661:\n",
    "        return \"Fair\"\n",
    "    elif credit_score >= 661 and credit_score < 781:\n",
    "        return \"Good\"\n",
    "    elif credit_score >= 781 and credit_score < 851:\n",
    "        return \"Excellent\"\n",
    "    elif credit_score >= 851:\n",
    "        return \"Top\"\n",
    "    elif credit_score < 300:\n",
    "        return \"Deep\""
   ]
  },
  {
   "cell_type": "markdown",
   "id": "372f91c8",
   "metadata": {},
   "source": [
    "Постройте сводную таблицу, строками которой являются категории кредитного рейтинга (CreditScoreCat), а столбцами — количество лет, в течение которых клиент пользуется услугами банка (Tenure). В ячейках сводной таблицы должно находиться среднее по признаку оттока (Exited) — доля ушедших пользователей.\n",
    "\n",
    "На основе полученной сводной таблицы постройте тепловую карту с аннотацией. Найдите на тепловой карте категории клиентов, которые уходят чаще всего."
   ]
  },
  {
   "cell_type": "code",
   "execution_count": 182,
   "id": "f0078b43",
   "metadata": {},
   "outputs": [
    {
     "data": {
      "application/vnd.plotly.v1+json": {
       "config": {
        "plotlyServerURL": "https://plot.ly"
       },
       "data": [
        {
         "coloraxis": "coloraxis",
         "hovertemplate": "Кол-во лет, в течение которых клиент пользуется услугами банка: %{x}<br>Категория кредитного рейтинга клиента: %{y}<br>Доля: %{z}<extra></extra>",
         "name": "0",
         "texttemplate": "%{z}",
         "type": "heatmap",
         "xaxis": "x",
         "y": [
          "Excellent",
          "Fair",
          "Good",
          "Poor",
          "Very_Poor"
         ],
         "yaxis": "y",
         "z": {
          "bdata": "7FG4HoXr0T/hehSuR+HKP+xRuB6F68E/w/UoXI/CxT+kcD0K16PAP3E9CtejcM0/uB6F61G4zj+kcD0K16PAP5qZmZmZmck/SOF6FK5H0T8AAAAAAADQPylcj8L1KMw/KVyPwvUozD/hehSuR+HKPylcj8L1KMw/mpmZmZmZyT/hehSuR+HKP7gehetRuM4/w/UoXI/CxT/hehSuR+HKP1K4HoXrUcg/4XoUrkfhyj+amZmZmZnJP5qZmZmZmck/UrgehetRyD/hehSuR+HKP5qZmZmZmck/4XoUrkfhyj8K16NwPQrHP1K4HoXrUcg/MzMzMzMzwz9SuB6F61HIP5qZmZmZmck/cT0K16NwzT+kcD0K16PQP+F6FK5H4co/4XoUrkfhyj9xPQrXo3DNP5qZmZmZmck/CtejcD0Kxz8zMzMzMzPDP+F6FK5H4co/AAAAAAAA0D/D9Shcj8LFPylcj8L1KNw/AAAAAAAA0D8zMzMzMzPDP4/C9Shcj9I/j8L1KFyP0j8zMzMzMzPDP3E9CtejcM0/4XoUrkfhyj8AAAAAAADQP3E9CtejcM0/H4XrUbge1T8=",
          "dtype": "f8",
          "shape": "5, 11"
         }
        }
       ],
       "layout": {
        "coloraxis": {
         "colorbar": {
          "title": {
           "text": "Доля"
          }
         },
         "colorscale": [
          [
           0,
           "rgb(255,255,229)"
          ],
          [
           0.125,
           "rgb(255,247,188)"
          ],
          [
           0.25,
           "rgb(254,227,145)"
          ],
          [
           0.375,
           "rgb(254,196,79)"
          ],
          [
           0.5,
           "rgb(254,153,41)"
          ],
          [
           0.625,
           "rgb(236,112,20)"
          ],
          [
           0.75,
           "rgb(204,76,2)"
          ],
          [
           0.875,
           "rgb(153,52,4)"
          ],
          [
           1,
           "rgb(102,37,6)"
          ]
         ]
        },
        "height": 600,
        "template": {
         "data": {
          "bar": [
           {
            "error_x": {
             "color": "#2a3f5f"
            },
            "error_y": {
             "color": "#2a3f5f"
            },
            "marker": {
             "line": {
              "color": "#E5ECF6",
              "width": 0.5
             },
             "pattern": {
              "fillmode": "overlay",
              "size": 10,
              "solidity": 0.2
             }
            },
            "type": "bar"
           }
          ],
          "barpolar": [
           {
            "marker": {
             "line": {
              "color": "#E5ECF6",
              "width": 0.5
             },
             "pattern": {
              "fillmode": "overlay",
              "size": 10,
              "solidity": 0.2
             }
            },
            "type": "barpolar"
           }
          ],
          "carpet": [
           {
            "aaxis": {
             "endlinecolor": "#2a3f5f",
             "gridcolor": "white",
             "linecolor": "white",
             "minorgridcolor": "white",
             "startlinecolor": "#2a3f5f"
            },
            "baxis": {
             "endlinecolor": "#2a3f5f",
             "gridcolor": "white",
             "linecolor": "white",
             "minorgridcolor": "white",
             "startlinecolor": "#2a3f5f"
            },
            "type": "carpet"
           }
          ],
          "choropleth": [
           {
            "colorbar": {
             "outlinewidth": 0,
             "ticks": ""
            },
            "type": "choropleth"
           }
          ],
          "contour": [
           {
            "colorbar": {
             "outlinewidth": 0,
             "ticks": ""
            },
            "colorscale": [
             [
              0,
              "#0d0887"
             ],
             [
              0.1111111111111111,
              "#46039f"
             ],
             [
              0.2222222222222222,
              "#7201a8"
             ],
             [
              0.3333333333333333,
              "#9c179e"
             ],
             [
              0.4444444444444444,
              "#bd3786"
             ],
             [
              0.5555555555555556,
              "#d8576b"
             ],
             [
              0.6666666666666666,
              "#ed7953"
             ],
             [
              0.7777777777777778,
              "#fb9f3a"
             ],
             [
              0.8888888888888888,
              "#fdca26"
             ],
             [
              1,
              "#f0f921"
             ]
            ],
            "type": "contour"
           }
          ],
          "contourcarpet": [
           {
            "colorbar": {
             "outlinewidth": 0,
             "ticks": ""
            },
            "type": "contourcarpet"
           }
          ],
          "heatmap": [
           {
            "colorbar": {
             "outlinewidth": 0,
             "ticks": ""
            },
            "colorscale": [
             [
              0,
              "#0d0887"
             ],
             [
              0.1111111111111111,
              "#46039f"
             ],
             [
              0.2222222222222222,
              "#7201a8"
             ],
             [
              0.3333333333333333,
              "#9c179e"
             ],
             [
              0.4444444444444444,
              "#bd3786"
             ],
             [
              0.5555555555555556,
              "#d8576b"
             ],
             [
              0.6666666666666666,
              "#ed7953"
             ],
             [
              0.7777777777777778,
              "#fb9f3a"
             ],
             [
              0.8888888888888888,
              "#fdca26"
             ],
             [
              1,
              "#f0f921"
             ]
            ],
            "type": "heatmap"
           }
          ],
          "histogram": [
           {
            "marker": {
             "pattern": {
              "fillmode": "overlay",
              "size": 10,
              "solidity": 0.2
             }
            },
            "type": "histogram"
           }
          ],
          "histogram2d": [
           {
            "colorbar": {
             "outlinewidth": 0,
             "ticks": ""
            },
            "colorscale": [
             [
              0,
              "#0d0887"
             ],
             [
              0.1111111111111111,
              "#46039f"
             ],
             [
              0.2222222222222222,
              "#7201a8"
             ],
             [
              0.3333333333333333,
              "#9c179e"
             ],
             [
              0.4444444444444444,
              "#bd3786"
             ],
             [
              0.5555555555555556,
              "#d8576b"
             ],
             [
              0.6666666666666666,
              "#ed7953"
             ],
             [
              0.7777777777777778,
              "#fb9f3a"
             ],
             [
              0.8888888888888888,
              "#fdca26"
             ],
             [
              1,
              "#f0f921"
             ]
            ],
            "type": "histogram2d"
           }
          ],
          "histogram2dcontour": [
           {
            "colorbar": {
             "outlinewidth": 0,
             "ticks": ""
            },
            "colorscale": [
             [
              0,
              "#0d0887"
             ],
             [
              0.1111111111111111,
              "#46039f"
             ],
             [
              0.2222222222222222,
              "#7201a8"
             ],
             [
              0.3333333333333333,
              "#9c179e"
             ],
             [
              0.4444444444444444,
              "#bd3786"
             ],
             [
              0.5555555555555556,
              "#d8576b"
             ],
             [
              0.6666666666666666,
              "#ed7953"
             ],
             [
              0.7777777777777778,
              "#fb9f3a"
             ],
             [
              0.8888888888888888,
              "#fdca26"
             ],
             [
              1,
              "#f0f921"
             ]
            ],
            "type": "histogram2dcontour"
           }
          ],
          "mesh3d": [
           {
            "colorbar": {
             "outlinewidth": 0,
             "ticks": ""
            },
            "type": "mesh3d"
           }
          ],
          "parcoords": [
           {
            "line": {
             "colorbar": {
              "outlinewidth": 0,
              "ticks": ""
             }
            },
            "type": "parcoords"
           }
          ],
          "pie": [
           {
            "automargin": true,
            "type": "pie"
           }
          ],
          "scatter": [
           {
            "fillpattern": {
             "fillmode": "overlay",
             "size": 10,
             "solidity": 0.2
            },
            "type": "scatter"
           }
          ],
          "scatter3d": [
           {
            "line": {
             "colorbar": {
              "outlinewidth": 0,
              "ticks": ""
             }
            },
            "marker": {
             "colorbar": {
              "outlinewidth": 0,
              "ticks": ""
             }
            },
            "type": "scatter3d"
           }
          ],
          "scattercarpet": [
           {
            "marker": {
             "colorbar": {
              "outlinewidth": 0,
              "ticks": ""
             }
            },
            "type": "scattercarpet"
           }
          ],
          "scattergeo": [
           {
            "marker": {
             "colorbar": {
              "outlinewidth": 0,
              "ticks": ""
             }
            },
            "type": "scattergeo"
           }
          ],
          "scattergl": [
           {
            "marker": {
             "colorbar": {
              "outlinewidth": 0,
              "ticks": ""
             }
            },
            "type": "scattergl"
           }
          ],
          "scattermap": [
           {
            "marker": {
             "colorbar": {
              "outlinewidth": 0,
              "ticks": ""
             }
            },
            "type": "scattermap"
           }
          ],
          "scattermapbox": [
           {
            "marker": {
             "colorbar": {
              "outlinewidth": 0,
              "ticks": ""
             }
            },
            "type": "scattermapbox"
           }
          ],
          "scatterpolar": [
           {
            "marker": {
             "colorbar": {
              "outlinewidth": 0,
              "ticks": ""
             }
            },
            "type": "scatterpolar"
           }
          ],
          "scatterpolargl": [
           {
            "marker": {
             "colorbar": {
              "outlinewidth": 0,
              "ticks": ""
             }
            },
            "type": "scatterpolargl"
           }
          ],
          "scatterternary": [
           {
            "marker": {
             "colorbar": {
              "outlinewidth": 0,
              "ticks": ""
             }
            },
            "type": "scatterternary"
           }
          ],
          "surface": [
           {
            "colorbar": {
             "outlinewidth": 0,
             "ticks": ""
            },
            "colorscale": [
             [
              0,
              "#0d0887"
             ],
             [
              0.1111111111111111,
              "#46039f"
             ],
             [
              0.2222222222222222,
              "#7201a8"
             ],
             [
              0.3333333333333333,
              "#9c179e"
             ],
             [
              0.4444444444444444,
              "#bd3786"
             ],
             [
              0.5555555555555556,
              "#d8576b"
             ],
             [
              0.6666666666666666,
              "#ed7953"
             ],
             [
              0.7777777777777778,
              "#fb9f3a"
             ],
             [
              0.8888888888888888,
              "#fdca26"
             ],
             [
              1,
              "#f0f921"
             ]
            ],
            "type": "surface"
           }
          ],
          "table": [
           {
            "cells": {
             "fill": {
              "color": "#EBF0F8"
             },
             "line": {
              "color": "white"
             }
            },
            "header": {
             "fill": {
              "color": "#C8D4E3"
             },
             "line": {
              "color": "white"
             }
            },
            "type": "table"
           }
          ]
         },
         "layout": {
          "annotationdefaults": {
           "arrowcolor": "#2a3f5f",
           "arrowhead": 0,
           "arrowwidth": 1
          },
          "autotypenumbers": "strict",
          "coloraxis": {
           "colorbar": {
            "outlinewidth": 0,
            "ticks": ""
           }
          },
          "colorscale": {
           "diverging": [
            [
             0,
             "#8e0152"
            ],
            [
             0.1,
             "#c51b7d"
            ],
            [
             0.2,
             "#de77ae"
            ],
            [
             0.3,
             "#f1b6da"
            ],
            [
             0.4,
             "#fde0ef"
            ],
            [
             0.5,
             "#f7f7f7"
            ],
            [
             0.6,
             "#e6f5d0"
            ],
            [
             0.7,
             "#b8e186"
            ],
            [
             0.8,
             "#7fbc41"
            ],
            [
             0.9,
             "#4d9221"
            ],
            [
             1,
             "#276419"
            ]
           ],
           "sequential": [
            [
             0,
             "#0d0887"
            ],
            [
             0.1111111111111111,
             "#46039f"
            ],
            [
             0.2222222222222222,
             "#7201a8"
            ],
            [
             0.3333333333333333,
             "#9c179e"
            ],
            [
             0.4444444444444444,
             "#bd3786"
            ],
            [
             0.5555555555555556,
             "#d8576b"
            ],
            [
             0.6666666666666666,
             "#ed7953"
            ],
            [
             0.7777777777777778,
             "#fb9f3a"
            ],
            [
             0.8888888888888888,
             "#fdca26"
            ],
            [
             1,
             "#f0f921"
            ]
           ],
           "sequentialminus": [
            [
             0,
             "#0d0887"
            ],
            [
             0.1111111111111111,
             "#46039f"
            ],
            [
             0.2222222222222222,
             "#7201a8"
            ],
            [
             0.3333333333333333,
             "#9c179e"
            ],
            [
             0.4444444444444444,
             "#bd3786"
            ],
            [
             0.5555555555555556,
             "#d8576b"
            ],
            [
             0.6666666666666666,
             "#ed7953"
            ],
            [
             0.7777777777777778,
             "#fb9f3a"
            ],
            [
             0.8888888888888888,
             "#fdca26"
            ],
            [
             1,
             "#f0f921"
            ]
           ]
          },
          "colorway": [
           "#636efa",
           "#EF553B",
           "#00cc96",
           "#ab63fa",
           "#FFA15A",
           "#19d3f3",
           "#FF6692",
           "#B6E880",
           "#FF97FF",
           "#FECB52"
          ],
          "font": {
           "color": "#2a3f5f"
          },
          "geo": {
           "bgcolor": "white",
           "lakecolor": "white",
           "landcolor": "#E5ECF6",
           "showlakes": true,
           "showland": true,
           "subunitcolor": "white"
          },
          "hoverlabel": {
           "align": "left"
          },
          "hovermode": "closest",
          "mapbox": {
           "style": "light"
          },
          "paper_bgcolor": "white",
          "plot_bgcolor": "#E5ECF6",
          "polar": {
           "angularaxis": {
            "gridcolor": "white",
            "linecolor": "white",
            "ticks": ""
           },
           "bgcolor": "#E5ECF6",
           "radialaxis": {
            "gridcolor": "white",
            "linecolor": "white",
            "ticks": ""
           }
          },
          "scene": {
           "xaxis": {
            "backgroundcolor": "#E5ECF6",
            "gridcolor": "white",
            "gridwidth": 2,
            "linecolor": "white",
            "showbackground": true,
            "ticks": "",
            "zerolinecolor": "white"
           },
           "yaxis": {
            "backgroundcolor": "#E5ECF6",
            "gridcolor": "white",
            "gridwidth": 2,
            "linecolor": "white",
            "showbackground": true,
            "ticks": "",
            "zerolinecolor": "white"
           },
           "zaxis": {
            "backgroundcolor": "#E5ECF6",
            "gridcolor": "white",
            "gridwidth": 2,
            "linecolor": "white",
            "showbackground": true,
            "ticks": "",
            "zerolinecolor": "white"
           }
          },
          "shapedefaults": {
           "line": {
            "color": "#2a3f5f"
           }
          },
          "ternary": {
           "aaxis": {
            "gridcolor": "white",
            "linecolor": "white",
            "ticks": ""
           },
           "baxis": {
            "gridcolor": "white",
            "linecolor": "white",
            "ticks": ""
           },
           "bgcolor": "#E5ECF6",
           "caxis": {
            "gridcolor": "white",
            "linecolor": "white",
            "ticks": ""
           }
          },
          "title": {
           "x": 0.05
          },
          "xaxis": {
           "automargin": true,
           "gridcolor": "white",
           "linecolor": "white",
           "ticks": "",
           "title": {
            "standoff": 15
           },
           "zerolinecolor": "white",
           "zerolinewidth": 2
          },
          "yaxis": {
           "automargin": true,
           "gridcolor": "white",
           "linecolor": "white",
           "ticks": "",
           "title": {
            "standoff": 15
           },
           "zerolinecolor": "white",
           "zerolinewidth": 2
          }
         }
        },
        "title": {
         "text": "Зависимость категории кредитного рейтинга клиента от количества лет пользования услугами банка"
        },
        "width": 1000,
        "xaxis": {
         "anchor": "y",
         "domain": [
          0,
          1
         ],
         "title": {
          "text": "Кол-во лет, в течение которых клиент пользуется услугами банка"
         }
        },
        "yaxis": {
         "anchor": "x",
         "autorange": "reversed",
         "domain": [
          0,
          1
         ],
         "title": {
          "text": "Категория кредитного рейтинга клиента"
         }
        }
       }
      }
     },
     "metadata": {},
     "output_type": "display_data"
    }
   ],
   "source": [
    "tmp_df = churn_df.copy()\n",
    "\n",
    "# Создаем категориальный признак\n",
    "tmp_df[\"CreditScoreCat\"] = tmp_df[\"CreditScore\"].apply( lambda x: get_credit_score_cat( x ) ).astype( \"category\" )\n",
    "# Группируем по 2м параметрам\n",
    "df = tmp_df.pivot_table(\n",
    "    index = 'CreditScoreCat',\n",
    "    columns ='Tenure',\n",
    "    values = 'Exited',\n",
    "    fill_value = 0,\n",
    "    aggfunc = 'mean',\n",
    "    observed = True\n",
    ").round(2)\n",
    "\n",
    "# Готовим графику: имеем отображение декартового произведения категорий в число, используем тепловую карту\n",
    "fig = px.imshow( df.values,\n",
    "    title = \"Зависимость категории кредитного рейтинга клиента от количества лет пользования услугами банка\",\n",
    "    aspect = \"auto\",\n",
    "    labels = dict( \n",
    "        x = \"Кол-во лет, в течение которых клиент пользуется услугами банка\", \n",
    "        y = \"Категория кредитного рейтинга клиента\", \n",
    "        color = \"Доля\"\n",
    "    ),\n",
    "    y = df.index.to_list(), # Ось y - Категории\n",
    "    text_auto = True, # Включает отображение значений в ячейках\n",
    "    color_continuous_scale = 'ylorbr', # Цветовая шкала\n",
    "    width = 1000, # Ширина\n",
    "    height = 600  # Высота\n",
    ")\n",
    "fig.show() # Отображаем"
   ]
  }
 ],
 "metadata": {
  "kernelspec": {
   "display_name": "Python 3",
   "language": "python",
   "name": "python3"
  },
  "language_info": {
   "codemirror_mode": {
    "name": "ipython",
    "version": 3
   },
   "file_extension": ".py",
   "mimetype": "text/x-python",
   "name": "python",
   "nbconvert_exporter": "python",
   "pygments_lexer": "ipython3",
   "version": "3.10.11"
  }
 },
 "nbformat": 4,
 "nbformat_minor": 5
}
