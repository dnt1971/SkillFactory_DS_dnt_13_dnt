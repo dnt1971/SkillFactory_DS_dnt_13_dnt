{
 "cells": [
  {
   "cell_type": "code",
   "execution_count": 1,
   "id": "ccc5d1a5",
   "metadata": {},
   "outputs": [
    {
     "name": "stdout",
     "output_type": "stream",
     "text": [
      "pandas 2.3.0, plotly 6.2.0, np 2.2.6\n"
     ]
    }
   ],
   "source": [
    "# Импортируем библиотеки и смотрим версию\n",
    "import pandas as pd\n",
    "import plotly\n",
    "import plotly.express as px\n",
    "import numpy as np\n",
    "print( f\"pandas {pd.__version__}, plotly {plotly.__version__}, np {np.__version__}\" )\n",
    "# pandas 2.3.0, plotly 6.2.0, np 2.2.6"
   ]
  },
  {
   "cell_type": "code",
   "execution_count": 2,
   "id": "ffb67134",
   "metadata": {},
   "outputs": [
    {
     "data": {
      "text/html": [
       "<div>\n",
       "<style scoped>\n",
       "    .dataframe tbody tr th:only-of-type {\n",
       "        vertical-align: middle;\n",
       "    }\n",
       "\n",
       "    .dataframe tbody tr th {\n",
       "        vertical-align: top;\n",
       "    }\n",
       "\n",
       "    .dataframe thead th {\n",
       "        text-align: right;\n",
       "    }\n",
       "</style>\n",
       "<table border=\"1\" class=\"dataframe\">\n",
       "  <thead>\n",
       "    <tr style=\"text-align: right;\">\n",
       "      <th></th>\n",
       "      <th>RowNumber</th>\n",
       "      <th>CustomerId</th>\n",
       "      <th>Surname</th>\n",
       "      <th>CreditScore</th>\n",
       "      <th>Geography</th>\n",
       "      <th>Gender</th>\n",
       "      <th>Age</th>\n",
       "      <th>Tenure</th>\n",
       "      <th>Balance</th>\n",
       "      <th>NumOfProducts</th>\n",
       "      <th>HasCrCard</th>\n",
       "      <th>IsActiveMember</th>\n",
       "      <th>EstimatedSalary</th>\n",
       "      <th>Exited</th>\n",
       "    </tr>\n",
       "  </thead>\n",
       "  <tbody>\n",
       "    <tr>\n",
       "      <th>0</th>\n",
       "      <td>1</td>\n",
       "      <td>15634602</td>\n",
       "      <td>Hargrave</td>\n",
       "      <td>619</td>\n",
       "      <td>France</td>\n",
       "      <td>Female</td>\n",
       "      <td>42</td>\n",
       "      <td>2</td>\n",
       "      <td>0.00</td>\n",
       "      <td>1</td>\n",
       "      <td>1</td>\n",
       "      <td>1</td>\n",
       "      <td>101348.88</td>\n",
       "      <td>1</td>\n",
       "    </tr>\n",
       "    <tr>\n",
       "      <th>1</th>\n",
       "      <td>2</td>\n",
       "      <td>15647311</td>\n",
       "      <td>Hill</td>\n",
       "      <td>608</td>\n",
       "      <td>Spain</td>\n",
       "      <td>Female</td>\n",
       "      <td>41</td>\n",
       "      <td>1</td>\n",
       "      <td>83807.86</td>\n",
       "      <td>1</td>\n",
       "      <td>0</td>\n",
       "      <td>1</td>\n",
       "      <td>112542.58</td>\n",
       "      <td>0</td>\n",
       "    </tr>\n",
       "    <tr>\n",
       "      <th>2</th>\n",
       "      <td>3</td>\n",
       "      <td>15619304</td>\n",
       "      <td>Onio</td>\n",
       "      <td>502</td>\n",
       "      <td>France</td>\n",
       "      <td>Female</td>\n",
       "      <td>42</td>\n",
       "      <td>8</td>\n",
       "      <td>159660.80</td>\n",
       "      <td>3</td>\n",
       "      <td>1</td>\n",
       "      <td>0</td>\n",
       "      <td>113931.57</td>\n",
       "      <td>1</td>\n",
       "    </tr>\n",
       "    <tr>\n",
       "      <th>3</th>\n",
       "      <td>4</td>\n",
       "      <td>15701354</td>\n",
       "      <td>Boni</td>\n",
       "      <td>699</td>\n",
       "      <td>France</td>\n",
       "      <td>Female</td>\n",
       "      <td>39</td>\n",
       "      <td>1</td>\n",
       "      <td>0.00</td>\n",
       "      <td>2</td>\n",
       "      <td>0</td>\n",
       "      <td>0</td>\n",
       "      <td>93826.63</td>\n",
       "      <td>0</td>\n",
       "    </tr>\n",
       "    <tr>\n",
       "      <th>4</th>\n",
       "      <td>5</td>\n",
       "      <td>15737888</td>\n",
       "      <td>Mitchell</td>\n",
       "      <td>850</td>\n",
       "      <td>Spain</td>\n",
       "      <td>Female</td>\n",
       "      <td>43</td>\n",
       "      <td>2</td>\n",
       "      <td>125510.82</td>\n",
       "      <td>1</td>\n",
       "      <td>1</td>\n",
       "      <td>1</td>\n",
       "      <td>79084.10</td>\n",
       "      <td>0</td>\n",
       "    </tr>\n",
       "  </tbody>\n",
       "</table>\n",
       "</div>"
      ],
      "text/plain": [
       "   RowNumber  CustomerId   Surname  CreditScore Geography  Gender  Age  \\\n",
       "0          1    15634602  Hargrave          619    France  Female   42   \n",
       "1          2    15647311      Hill          608     Spain  Female   41   \n",
       "2          3    15619304      Onio          502    France  Female   42   \n",
       "3          4    15701354      Boni          699    France  Female   39   \n",
       "4          5    15737888  Mitchell          850     Spain  Female   43   \n",
       "\n",
       "   Tenure    Balance  NumOfProducts  HasCrCard  IsActiveMember  \\\n",
       "0       2       0.00              1          1               1   \n",
       "1       1   83807.86              1          0               1   \n",
       "2       8  159660.80              3          1               0   \n",
       "3       1       0.00              2          0               0   \n",
       "4       2  125510.82              1          1               1   \n",
       "\n",
       "   EstimatedSalary  Exited  \n",
       "0        101348.88       1  \n",
       "1        112542.58       0  \n",
       "2        113931.57       1  \n",
       "3         93826.63       0  \n",
       "4         79084.10       0  "
      ]
     },
     "execution_count": 2,
     "metadata": {},
     "output_type": "execute_result"
    }
   ],
   "source": [
    "# Читаем перчичный файл\n",
    "churn_data = pd.read_csv('data/churn.csv')\n",
    "churn_data.head()"
   ]
  },
  {
   "cell_type": "code",
   "execution_count": 3,
   "id": "c61276a9",
   "metadata": {},
   "outputs": [
    {
     "name": "stdout",
     "output_type": "stream",
     "text": [
      "<class 'pandas.core.frame.DataFrame'>\n",
      "RangeIndex: 10000 entries, 0 to 9999\n",
      "Data columns (total 13 columns):\n",
      " #   Column           Non-Null Count  Dtype  \n",
      "---  ------           --------------  -----  \n",
      " 0   CustomerId       10000 non-null  int64  \n",
      " 1   Surname          10000 non-null  object \n",
      " 2   CreditScore      10000 non-null  int64  \n",
      " 3   Geography        10000 non-null  object \n",
      " 4   Gender           10000 non-null  object \n",
      " 5   Age              10000 non-null  int64  \n",
      " 6   Tenure           10000 non-null  int64  \n",
      " 7   Balance          10000 non-null  float64\n",
      " 8   NumOfProducts    10000 non-null  int64  \n",
      " 9   HasCrCard        10000 non-null  int64  \n",
      " 10  IsActiveMember   10000 non-null  int64  \n",
      " 11  EstimatedSalary  10000 non-null  float64\n",
      " 12  Exited           10000 non-null  int64  \n",
      "dtypes: float64(2), int64(8), object(3)\n",
      "memory usage: 1015.8+ KB\n"
     ]
    }
   ],
   "source": [
    "# Копируем датафрейм и смотрим структуру\n",
    "churn_df = churn_data.copy()\n",
    "churn_df = churn_df.drop('RowNumber', axis=1)\n",
    "#churn_df.describe()\n",
    "churn_df.info()\n",
    "#churn_df.head()"
   ]
  },
  {
   "cell_type": "markdown",
   "id": "e9f8021b",
   "metadata": {},
   "source": [
    "9.1. Каково соотношение ушедших и лояльных клиентов? Покажите это на графике и дайте комментарий по соотношению."
   ]
  },
  {
   "cell_type": "code",
   "execution_count": null,
   "id": "a514380d",
   "metadata": {},
   "outputs": [
    {
     "data": {
      "application/vnd.plotly.v1+json": {
       "config": {
        "plotlyServerURL": "https://plot.ly"
       },
       "data": [
        {
         "domain": {
          "x": [
           0,
           1
          ],
          "y": [
           0,
           1
          ]
         },
         "hole": 0.7,
         "hovertemplate": "label=%{label}<br>value=%{value}<extra></extra>",
         "labels": [
          "Лояльные",
          "Ушедшие"
         ],
         "legendgroup": "",
         "name": "",
         "showlegend": false,
         "textinfo": "percent+label",
         "textposition": "inside",
         "type": "pie",
         "values": {
          "bdata": "UBQ=",
          "dtype": "i1"
         }
        }
       ],
       "layout": {
        "height": 450,
        "legend": {
         "tracegroupgap": 0
        },
        "template": {
         "data": {
          "bar": [
           {
            "error_x": {
             "color": "#2a3f5f"
            },
            "error_y": {
             "color": "#2a3f5f"
            },
            "marker": {
             "line": {
              "color": "#E5ECF6",
              "width": 0.5
             },
             "pattern": {
              "fillmode": "overlay",
              "size": 10,
              "solidity": 0.2
             }
            },
            "type": "bar"
           }
          ],
          "barpolar": [
           {
            "marker": {
             "line": {
              "color": "#E5ECF6",
              "width": 0.5
             },
             "pattern": {
              "fillmode": "overlay",
              "size": 10,
              "solidity": 0.2
             }
            },
            "type": "barpolar"
           }
          ],
          "carpet": [
           {
            "aaxis": {
             "endlinecolor": "#2a3f5f",
             "gridcolor": "white",
             "linecolor": "white",
             "minorgridcolor": "white",
             "startlinecolor": "#2a3f5f"
            },
            "baxis": {
             "endlinecolor": "#2a3f5f",
             "gridcolor": "white",
             "linecolor": "white",
             "minorgridcolor": "white",
             "startlinecolor": "#2a3f5f"
            },
            "type": "carpet"
           }
          ],
          "choropleth": [
           {
            "colorbar": {
             "outlinewidth": 0,
             "ticks": ""
            },
            "type": "choropleth"
           }
          ],
          "contour": [
           {
            "colorbar": {
             "outlinewidth": 0,
             "ticks": ""
            },
            "colorscale": [
             [
              0,
              "#0d0887"
             ],
             [
              0.1111111111111111,
              "#46039f"
             ],
             [
              0.2222222222222222,
              "#7201a8"
             ],
             [
              0.3333333333333333,
              "#9c179e"
             ],
             [
              0.4444444444444444,
              "#bd3786"
             ],
             [
              0.5555555555555556,
              "#d8576b"
             ],
             [
              0.6666666666666666,
              "#ed7953"
             ],
             [
              0.7777777777777778,
              "#fb9f3a"
             ],
             [
              0.8888888888888888,
              "#fdca26"
             ],
             [
              1,
              "#f0f921"
             ]
            ],
            "type": "contour"
           }
          ],
          "contourcarpet": [
           {
            "colorbar": {
             "outlinewidth": 0,
             "ticks": ""
            },
            "type": "contourcarpet"
           }
          ],
          "heatmap": [
           {
            "colorbar": {
             "outlinewidth": 0,
             "ticks": ""
            },
            "colorscale": [
             [
              0,
              "#0d0887"
             ],
             [
              0.1111111111111111,
              "#46039f"
             ],
             [
              0.2222222222222222,
              "#7201a8"
             ],
             [
              0.3333333333333333,
              "#9c179e"
             ],
             [
              0.4444444444444444,
              "#bd3786"
             ],
             [
              0.5555555555555556,
              "#d8576b"
             ],
             [
              0.6666666666666666,
              "#ed7953"
             ],
             [
              0.7777777777777778,
              "#fb9f3a"
             ],
             [
              0.8888888888888888,
              "#fdca26"
             ],
             [
              1,
              "#f0f921"
             ]
            ],
            "type": "heatmap"
           }
          ],
          "histogram": [
           {
            "marker": {
             "pattern": {
              "fillmode": "overlay",
              "size": 10,
              "solidity": 0.2
             }
            },
            "type": "histogram"
           }
          ],
          "histogram2d": [
           {
            "colorbar": {
             "outlinewidth": 0,
             "ticks": ""
            },
            "colorscale": [
             [
              0,
              "#0d0887"
             ],
             [
              0.1111111111111111,
              "#46039f"
             ],
             [
              0.2222222222222222,
              "#7201a8"
             ],
             [
              0.3333333333333333,
              "#9c179e"
             ],
             [
              0.4444444444444444,
              "#bd3786"
             ],
             [
              0.5555555555555556,
              "#d8576b"
             ],
             [
              0.6666666666666666,
              "#ed7953"
             ],
             [
              0.7777777777777778,
              "#fb9f3a"
             ],
             [
              0.8888888888888888,
              "#fdca26"
             ],
             [
              1,
              "#f0f921"
             ]
            ],
            "type": "histogram2d"
           }
          ],
          "histogram2dcontour": [
           {
            "colorbar": {
             "outlinewidth": 0,
             "ticks": ""
            },
            "colorscale": [
             [
              0,
              "#0d0887"
             ],
             [
              0.1111111111111111,
              "#46039f"
             ],
             [
              0.2222222222222222,
              "#7201a8"
             ],
             [
              0.3333333333333333,
              "#9c179e"
             ],
             [
              0.4444444444444444,
              "#bd3786"
             ],
             [
              0.5555555555555556,
              "#d8576b"
             ],
             [
              0.6666666666666666,
              "#ed7953"
             ],
             [
              0.7777777777777778,
              "#fb9f3a"
             ],
             [
              0.8888888888888888,
              "#fdca26"
             ],
             [
              1,
              "#f0f921"
             ]
            ],
            "type": "histogram2dcontour"
           }
          ],
          "mesh3d": [
           {
            "colorbar": {
             "outlinewidth": 0,
             "ticks": ""
            },
            "type": "mesh3d"
           }
          ],
          "parcoords": [
           {
            "line": {
             "colorbar": {
              "outlinewidth": 0,
              "ticks": ""
             }
            },
            "type": "parcoords"
           }
          ],
          "pie": [
           {
            "automargin": true,
            "type": "pie"
           }
          ],
          "scatter": [
           {
            "fillpattern": {
             "fillmode": "overlay",
             "size": 10,
             "solidity": 0.2
            },
            "type": "scatter"
           }
          ],
          "scatter3d": [
           {
            "line": {
             "colorbar": {
              "outlinewidth": 0,
              "ticks": ""
             }
            },
            "marker": {
             "colorbar": {
              "outlinewidth": 0,
              "ticks": ""
             }
            },
            "type": "scatter3d"
           }
          ],
          "scattercarpet": [
           {
            "marker": {
             "colorbar": {
              "outlinewidth": 0,
              "ticks": ""
             }
            },
            "type": "scattercarpet"
           }
          ],
          "scattergeo": [
           {
            "marker": {
             "colorbar": {
              "outlinewidth": 0,
              "ticks": ""
             }
            },
            "type": "scattergeo"
           }
          ],
          "scattergl": [
           {
            "marker": {
             "colorbar": {
              "outlinewidth": 0,
              "ticks": ""
             }
            },
            "type": "scattergl"
           }
          ],
          "scattermap": [
           {
            "marker": {
             "colorbar": {
              "outlinewidth": 0,
              "ticks": ""
             }
            },
            "type": "scattermap"
           }
          ],
          "scattermapbox": [
           {
            "marker": {
             "colorbar": {
              "outlinewidth": 0,
              "ticks": ""
             }
            },
            "type": "scattermapbox"
           }
          ],
          "scatterpolar": [
           {
            "marker": {
             "colorbar": {
              "outlinewidth": 0,
              "ticks": ""
             }
            },
            "type": "scatterpolar"
           }
          ],
          "scatterpolargl": [
           {
            "marker": {
             "colorbar": {
              "outlinewidth": 0,
              "ticks": ""
             }
            },
            "type": "scatterpolargl"
           }
          ],
          "scatterternary": [
           {
            "marker": {
             "colorbar": {
              "outlinewidth": 0,
              "ticks": ""
             }
            },
            "type": "scatterternary"
           }
          ],
          "surface": [
           {
            "colorbar": {
             "outlinewidth": 0,
             "ticks": ""
            },
            "colorscale": [
             [
              0,
              "#0d0887"
             ],
             [
              0.1111111111111111,
              "#46039f"
             ],
             [
              0.2222222222222222,
              "#7201a8"
             ],
             [
              0.3333333333333333,
              "#9c179e"
             ],
             [
              0.4444444444444444,
              "#bd3786"
             ],
             [
              0.5555555555555556,
              "#d8576b"
             ],
             [
              0.6666666666666666,
              "#ed7953"
             ],
             [
              0.7777777777777778,
              "#fb9f3a"
             ],
             [
              0.8888888888888888,
              "#fdca26"
             ],
             [
              1,
              "#f0f921"
             ]
            ],
            "type": "surface"
           }
          ],
          "table": [
           {
            "cells": {
             "fill": {
              "color": "#EBF0F8"
             },
             "line": {
              "color": "white"
             }
            },
            "header": {
             "fill": {
              "color": "#C8D4E3"
             },
             "line": {
              "color": "white"
             }
            },
            "type": "table"
           }
          ]
         },
         "layout": {
          "annotationdefaults": {
           "arrowcolor": "#2a3f5f",
           "arrowhead": 0,
           "arrowwidth": 1
          },
          "autotypenumbers": "strict",
          "coloraxis": {
           "colorbar": {
            "outlinewidth": 0,
            "ticks": ""
           }
          },
          "colorscale": {
           "diverging": [
            [
             0,
             "#8e0152"
            ],
            [
             0.1,
             "#c51b7d"
            ],
            [
             0.2,
             "#de77ae"
            ],
            [
             0.3,
             "#f1b6da"
            ],
            [
             0.4,
             "#fde0ef"
            ],
            [
             0.5,
             "#f7f7f7"
            ],
            [
             0.6,
             "#e6f5d0"
            ],
            [
             0.7,
             "#b8e186"
            ],
            [
             0.8,
             "#7fbc41"
            ],
            [
             0.9,
             "#4d9221"
            ],
            [
             1,
             "#276419"
            ]
           ],
           "sequential": [
            [
             0,
             "#0d0887"
            ],
            [
             0.1111111111111111,
             "#46039f"
            ],
            [
             0.2222222222222222,
             "#7201a8"
            ],
            [
             0.3333333333333333,
             "#9c179e"
            ],
            [
             0.4444444444444444,
             "#bd3786"
            ],
            [
             0.5555555555555556,
             "#d8576b"
            ],
            [
             0.6666666666666666,
             "#ed7953"
            ],
            [
             0.7777777777777778,
             "#fb9f3a"
            ],
            [
             0.8888888888888888,
             "#fdca26"
            ],
            [
             1,
             "#f0f921"
            ]
           ],
           "sequentialminus": [
            [
             0,
             "#0d0887"
            ],
            [
             0.1111111111111111,
             "#46039f"
            ],
            [
             0.2222222222222222,
             "#7201a8"
            ],
            [
             0.3333333333333333,
             "#9c179e"
            ],
            [
             0.4444444444444444,
             "#bd3786"
            ],
            [
             0.5555555555555556,
             "#d8576b"
            ],
            [
             0.6666666666666666,
             "#ed7953"
            ],
            [
             0.7777777777777778,
             "#fb9f3a"
            ],
            [
             0.8888888888888888,
             "#fdca26"
            ],
            [
             1,
             "#f0f921"
            ]
           ]
          },
          "colorway": [
           "#636efa",
           "#EF553B",
           "#00cc96",
           "#ab63fa",
           "#FFA15A",
           "#19d3f3",
           "#FF6692",
           "#B6E880",
           "#FF97FF",
           "#FECB52"
          ],
          "font": {
           "color": "#2a3f5f"
          },
          "geo": {
           "bgcolor": "white",
           "lakecolor": "white",
           "landcolor": "#E5ECF6",
           "showlakes": true,
           "showland": true,
           "subunitcolor": "white"
          },
          "hoverlabel": {
           "align": "left"
          },
          "hovermode": "closest",
          "mapbox": {
           "style": "light"
          },
          "paper_bgcolor": "white",
          "plot_bgcolor": "#E5ECF6",
          "polar": {
           "angularaxis": {
            "gridcolor": "white",
            "linecolor": "white",
            "ticks": ""
           },
           "bgcolor": "#E5ECF6",
           "radialaxis": {
            "gridcolor": "white",
            "linecolor": "white",
            "ticks": ""
           }
          },
          "scene": {
           "xaxis": {
            "backgroundcolor": "#E5ECF6",
            "gridcolor": "white",
            "gridwidth": 2,
            "linecolor": "white",
            "showbackground": true,
            "ticks": "",
            "zerolinecolor": "white"
           },
           "yaxis": {
            "backgroundcolor": "#E5ECF6",
            "gridcolor": "white",
            "gridwidth": 2,
            "linecolor": "white",
            "showbackground": true,
            "ticks": "",
            "zerolinecolor": "white"
           },
           "zaxis": {
            "backgroundcolor": "#E5ECF6",
            "gridcolor": "white",
            "gridwidth": 2,
            "linecolor": "white",
            "showbackground": true,
            "ticks": "",
            "zerolinecolor": "white"
           }
          },
          "shapedefaults": {
           "line": {
            "color": "#2a3f5f"
           }
          },
          "ternary": {
           "aaxis": {
            "gridcolor": "white",
            "linecolor": "white",
            "ticks": ""
           },
           "baxis": {
            "gridcolor": "white",
            "linecolor": "white",
            "ticks": ""
           },
           "bgcolor": "#E5ECF6",
           "caxis": {
            "gridcolor": "white",
            "linecolor": "white",
            "ticks": ""
           }
          },
          "title": {
           "x": 0.05
          },
          "xaxis": {
           "automargin": true,
           "gridcolor": "white",
           "linecolor": "white",
           "ticks": "",
           "title": {
            "standoff": 15
           },
           "zerolinecolor": "white",
           "zerolinewidth": 2
          },
          "yaxis": {
           "automargin": true,
           "gridcolor": "white",
           "linecolor": "white",
           "ticks": "",
           "title": {
            "standoff": 15
           },
           "zerolinecolor": "white",
           "zerolinewidth": 2
          }
         }
        },
        "title": {
         "text": "Соотношение ушедших и лояльных клиентов"
        },
        "width": 450
       }
      }
     },
     "metadata": {},
     "output_type": "display_data"
    }
   ],
   "source": [
    "tmp_df = churn_df[['Exited']].copy()\n",
    "\n",
    "# Вычислим долю ушедших (в %), округлим до целых\n",
    "df = (tmp_df.mean() * 100).round(0).astype( int )\n",
    "\n",
    "# Готовим графику: имеем статистические данные, используем пончиковую круговую диаграмму\n",
    "fig = px.pie( \n",
    "    values = [100 - df.values[0], df.values[0]], # Процентное соотношение\n",
    "    title = 'Соотношение ушедших и лояльных клиентов', # Заголовок отчета\n",
    "    hole = 0.7,  # Настроим так ширину бублика\n",
    "    names = [\"Лояльные\", \"Ушедшие\" ], # Настроим Подписи\n",
    "    width = 450, # Ширина\n",
    "    height = 450 # Высота\n",
    ")\n",
    "fig.update_traces( textposition = 'inside', textinfo = 'percent+label', showlegend = False )\n",
    "fig.show() # Отображаем"
   ]
  },
  {
   "cell_type": "markdown",
   "id": "4748fdbf",
   "metadata": {},
   "source": [
    "Видим, что лояльных клиентов вчетверо больше, чем успешных, банк успешный"
   ]
  },
  {
   "cell_type": "markdown",
   "id": "17f64015",
   "metadata": {},
   "source": [
    "9.2. Постройте график, показывающий распределение баланса пользователей, у которых на счету больше 2 500 долларов. Опишите распределение и сделайте выводы."
   ]
  },
  {
   "cell_type": "code",
   "execution_count": 4,
   "id": "5adcdb17",
   "metadata": {},
   "outputs": [
    {
     "data": {
      "application/vnd.plotly.v1+json": {
       "config": {
        "plotlyServerURL": "https://plot.ly"
       },
       "data": [
        {
         "bingroup": "x",
         "histfunc": "sum",
         "hovertemplate": "Статус клиента: =Лояльные<br>Balance=%{x}<br>sum of value=%{y}<extra></extra>",
         "legendgroup": "Лояльные",
         "marker": {
          "color": "#636efa",
          "pattern": {
           "shape": ""
          }
         },
         "name": "Лояльные",
         "nbinsx": 30,
         "orientation": "v",
         "showlegend": true,
         "texttemplate": "%{value}",
         "type": "histogram",
         "x": {
          "bdata": "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",
          "dtype": "f8"
         },
         "xaxis": "x",
         "y": {
          "bdata": "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",
          "dtype": "f8"
         },
         "yaxis": "y"
        },
        {
         "bingroup": "x",
         "histfunc": "sum",
         "hovertemplate": "Статус клиента: =Ушедшие<br>Balance=%{x}<br>sum of value=%{y}<extra></extra>",
         "legendgroup": "Ушедшие",
         "marker": {
          "color": "#EF553B",
          "pattern": {
           "shape": ""
          }
         },
         "name": "Ушедшие",
         "nbinsx": 30,
         "orientation": "v",
         "showlegend": true,
         "texttemplate": "%{value}",
         "type": "histogram",
         "x": {
          "bdata": "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",
          "dtype": "f8"
         },
         "xaxis": "x",
         "y": {
          "bdata": "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",
          "dtype": "f8"
         },
         "yaxis": "y"
        }
       ],
       "layout": {
        "bargap": 0.1,
        "barmode": "relative",
        "height": 500,
        "legend": {
         "orientation": "h",
         "title": {
          "font": {
           "family": "Sitka Small"
          },
          "text": "Статус клиента: "
         },
         "tracegroupgap": 0,
         "x": 0,
         "y": 150
        },
        "template": {
         "data": {
          "bar": [
           {
            "error_x": {
             "color": "#2a3f5f"
            },
            "error_y": {
             "color": "#2a3f5f"
            },
            "marker": {
             "line": {
              "color": "#E5ECF6",
              "width": 0.5
             },
             "pattern": {
              "fillmode": "overlay",
              "size": 10,
              "solidity": 0.2
             }
            },
            "type": "bar"
           }
          ],
          "barpolar": [
           {
            "marker": {
             "line": {
              "color": "#E5ECF6",
              "width": 0.5
             },
             "pattern": {
              "fillmode": "overlay",
              "size": 10,
              "solidity": 0.2
             }
            },
            "type": "barpolar"
           }
          ],
          "carpet": [
           {
            "aaxis": {
             "endlinecolor": "#2a3f5f",
             "gridcolor": "white",
             "linecolor": "white",
             "minorgridcolor": "white",
             "startlinecolor": "#2a3f5f"
            },
            "baxis": {
             "endlinecolor": "#2a3f5f",
             "gridcolor": "white",
             "linecolor": "white",
             "minorgridcolor": "white",
             "startlinecolor": "#2a3f5f"
            },
            "type": "carpet"
           }
          ],
          "choropleth": [
           {
            "colorbar": {
             "outlinewidth": 0,
             "ticks": ""
            },
            "type": "choropleth"
           }
          ],
          "contour": [
           {
            "colorbar": {
             "outlinewidth": 0,
             "ticks": ""
            },
            "colorscale": [
             [
              0,
              "#0d0887"
             ],
             [
              0.1111111111111111,
              "#46039f"
             ],
             [
              0.2222222222222222,
              "#7201a8"
             ],
             [
              0.3333333333333333,
              "#9c179e"
             ],
             [
              0.4444444444444444,
              "#bd3786"
             ],
             [
              0.5555555555555556,
              "#d8576b"
             ],
             [
              0.6666666666666666,
              "#ed7953"
             ],
             [
              0.7777777777777778,
              "#fb9f3a"
             ],
             [
              0.8888888888888888,
              "#fdca26"
             ],
             [
              1,
              "#f0f921"
             ]
            ],
            "type": "contour"
           }
          ],
          "contourcarpet": [
           {
            "colorbar": {
             "outlinewidth": 0,
             "ticks": ""
            },
            "type": "contourcarpet"
           }
          ],
          "heatmap": [
           {
            "colorbar": {
             "outlinewidth": 0,
             "ticks": ""
            },
            "colorscale": [
             [
              0,
              "#0d0887"
             ],
             [
              0.1111111111111111,
              "#46039f"
             ],
             [
              0.2222222222222222,
              "#7201a8"
             ],
             [
              0.3333333333333333,
              "#9c179e"
             ],
             [
              0.4444444444444444,
              "#bd3786"
             ],
             [
              0.5555555555555556,
              "#d8576b"
             ],
             [
              0.6666666666666666,
              "#ed7953"
             ],
             [
              0.7777777777777778,
              "#fb9f3a"
             ],
             [
              0.8888888888888888,
              "#fdca26"
             ],
             [
              1,
              "#f0f921"
             ]
            ],
            "type": "heatmap"
           }
          ],
          "histogram": [
           {
            "marker": {
             "pattern": {
              "fillmode": "overlay",
              "size": 10,
              "solidity": 0.2
             }
            },
            "type": "histogram"
           }
          ],
          "histogram2d": [
           {
            "colorbar": {
             "outlinewidth": 0,
             "ticks": ""
            },
            "colorscale": [
             [
              0,
              "#0d0887"
             ],
             [
              0.1111111111111111,
              "#46039f"
             ],
             [
              0.2222222222222222,
              "#7201a8"
             ],
             [
              0.3333333333333333,
              "#9c179e"
             ],
             [
              0.4444444444444444,
              "#bd3786"
             ],
             [
              0.5555555555555556,
              "#d8576b"
             ],
             [
              0.6666666666666666,
              "#ed7953"
             ],
             [
              0.7777777777777778,
              "#fb9f3a"
             ],
             [
              0.8888888888888888,
              "#fdca26"
             ],
             [
              1,
              "#f0f921"
             ]
            ],
            "type": "histogram2d"
           }
          ],
          "histogram2dcontour": [
           {
            "colorbar": {
             "outlinewidth": 0,
             "ticks": ""
            },
            "colorscale": [
             [
              0,
              "#0d0887"
             ],
             [
              0.1111111111111111,
              "#46039f"
             ],
             [
              0.2222222222222222,
              "#7201a8"
             ],
             [
              0.3333333333333333,
              "#9c179e"
             ],
             [
              0.4444444444444444,
              "#bd3786"
             ],
             [
              0.5555555555555556,
              "#d8576b"
             ],
             [
              0.6666666666666666,
              "#ed7953"
             ],
             [
              0.7777777777777778,
              "#fb9f3a"
             ],
             [
              0.8888888888888888,
              "#fdca26"
             ],
             [
              1,
              "#f0f921"
             ]
            ],
            "type": "histogram2dcontour"
           }
          ],
          "mesh3d": [
           {
            "colorbar": {
             "outlinewidth": 0,
             "ticks": ""
            },
            "type": "mesh3d"
           }
          ],
          "parcoords": [
           {
            "line": {
             "colorbar": {
              "outlinewidth": 0,
              "ticks": ""
             }
            },
            "type": "parcoords"
           }
          ],
          "pie": [
           {
            "automargin": true,
            "type": "pie"
           }
          ],
          "scatter": [
           {
            "fillpattern": {
             "fillmode": "overlay",
             "size": 10,
             "solidity": 0.2
            },
            "type": "scatter"
           }
          ],
          "scatter3d": [
           {
            "line": {
             "colorbar": {
              "outlinewidth": 0,
              "ticks": ""
             }
            },
            "marker": {
             "colorbar": {
              "outlinewidth": 0,
              "ticks": ""
             }
            },
            "type": "scatter3d"
           }
          ],
          "scattercarpet": [
           {
            "marker": {
             "colorbar": {
              "outlinewidth": 0,
              "ticks": ""
             }
            },
            "type": "scattercarpet"
           }
          ],
          "scattergeo": [
           {
            "marker": {
             "colorbar": {
              "outlinewidth": 0,
              "ticks": ""
             }
            },
            "type": "scattergeo"
           }
          ],
          "scattergl": [
           {
            "marker": {
             "colorbar": {
              "outlinewidth": 0,
              "ticks": ""
             }
            },
            "type": "scattergl"
           }
          ],
          "scattermap": [
           {
            "marker": {
             "colorbar": {
              "outlinewidth": 0,
              "ticks": ""
             }
            },
            "type": "scattermap"
           }
          ],
          "scattermapbox": [
           {
            "marker": {
             "colorbar": {
              "outlinewidth": 0,
              "ticks": ""
             }
            },
            "type": "scattermapbox"
           }
          ],
          "scatterpolar": [
           {
            "marker": {
             "colorbar": {
              "outlinewidth": 0,
              "ticks": ""
             }
            },
            "type": "scatterpolar"
           }
          ],
          "scatterpolargl": [
           {
            "marker": {
             "colorbar": {
              "outlinewidth": 0,
              "ticks": ""
             }
            },
            "type": "scatterpolargl"
           }
          ],
          "scatterternary": [
           {
            "marker": {
             "colorbar": {
              "outlinewidth": 0,
              "ticks": ""
             }
            },
            "type": "scatterternary"
           }
          ],
          "surface": [
           {
            "colorbar": {
             "outlinewidth": 0,
             "ticks": ""
            },
            "colorscale": [
             [
              0,
              "#0d0887"
             ],
             [
              0.1111111111111111,
              "#46039f"
             ],
             [
              0.2222222222222222,
              "#7201a8"
             ],
             [
              0.3333333333333333,
              "#9c179e"
             ],
             [
              0.4444444444444444,
              "#bd3786"
             ],
             [
              0.5555555555555556,
              "#d8576b"
             ],
             [
              0.6666666666666666,
              "#ed7953"
             ],
             [
              0.7777777777777778,
              "#fb9f3a"
             ],
             [
              0.8888888888888888,
              "#fdca26"
             ],
             [
              1,
              "#f0f921"
             ]
            ],
            "type": "surface"
           }
          ],
          "table": [
           {
            "cells": {
             "fill": {
              "color": "#EBF0F8"
             },
             "line": {
              "color": "white"
             }
            },
            "header": {
             "fill": {
              "color": "#C8D4E3"
             },
             "line": {
              "color": "white"
             }
            },
            "type": "table"
           }
          ]
         },
         "layout": {
          "annotationdefaults": {
           "arrowcolor": "#2a3f5f",
           "arrowhead": 0,
           "arrowwidth": 1
          },
          "autotypenumbers": "strict",
          "coloraxis": {
           "colorbar": {
            "outlinewidth": 0,
            "ticks": ""
           }
          },
          "colorscale": {
           "diverging": [
            [
             0,
             "#8e0152"
            ],
            [
             0.1,
             "#c51b7d"
            ],
            [
             0.2,
             "#de77ae"
            ],
            [
             0.3,
             "#f1b6da"
            ],
            [
             0.4,
             "#fde0ef"
            ],
            [
             0.5,
             "#f7f7f7"
            ],
            [
             0.6,
             "#e6f5d0"
            ],
            [
             0.7,
             "#b8e186"
            ],
            [
             0.8,
             "#7fbc41"
            ],
            [
             0.9,
             "#4d9221"
            ],
            [
             1,
             "#276419"
            ]
           ],
           "sequential": [
            [
             0,
             "#0d0887"
            ],
            [
             0.1111111111111111,
             "#46039f"
            ],
            [
             0.2222222222222222,
             "#7201a8"
            ],
            [
             0.3333333333333333,
             "#9c179e"
            ],
            [
             0.4444444444444444,
             "#bd3786"
            ],
            [
             0.5555555555555556,
             "#d8576b"
            ],
            [
             0.6666666666666666,
             "#ed7953"
            ],
            [
             0.7777777777777778,
             "#fb9f3a"
            ],
            [
             0.8888888888888888,
             "#fdca26"
            ],
            [
             1,
             "#f0f921"
            ]
           ],
           "sequentialminus": [
            [
             0,
             "#0d0887"
            ],
            [
             0.1111111111111111,
             "#46039f"
            ],
            [
             0.2222222222222222,
             "#7201a8"
            ],
            [
             0.3333333333333333,
             "#9c179e"
            ],
            [
             0.4444444444444444,
             "#bd3786"
            ],
            [
             0.5555555555555556,
             "#d8576b"
            ],
            [
             0.6666666666666666,
             "#ed7953"
            ],
            [
             0.7777777777777778,
             "#fb9f3a"
            ],
            [
             0.8888888888888888,
             "#fdca26"
            ],
            [
             1,
             "#f0f921"
            ]
           ]
          },
          "colorway": [
           "#636efa",
           "#EF553B",
           "#00cc96",
           "#ab63fa",
           "#FFA15A",
           "#19d3f3",
           "#FF6692",
           "#B6E880",
           "#FF97FF",
           "#FECB52"
          ],
          "font": {
           "color": "#2a3f5f"
          },
          "geo": {
           "bgcolor": "white",
           "lakecolor": "white",
           "landcolor": "#E5ECF6",
           "showlakes": true,
           "showland": true,
           "subunitcolor": "white"
          },
          "hoverlabel": {
           "align": "left"
          },
          "hovermode": "closest",
          "mapbox": {
           "style": "light"
          },
          "paper_bgcolor": "white",
          "plot_bgcolor": "#E5ECF6",
          "polar": {
           "angularaxis": {
            "gridcolor": "white",
            "linecolor": "white",
            "ticks": ""
           },
           "bgcolor": "#E5ECF6",
           "radialaxis": {
            "gridcolor": "white",
            "linecolor": "white",
            "ticks": ""
           }
          },
          "scene": {
           "xaxis": {
            "backgroundcolor": "#E5ECF6",
            "gridcolor": "white",
            "gridwidth": 2,
            "linecolor": "white",
            "showbackground": true,
            "ticks": "",
            "zerolinecolor": "white"
           },
           "yaxis": {
            "backgroundcolor": "#E5ECF6",
            "gridcolor": "white",
            "gridwidth": 2,
            "linecolor": "white",
            "showbackground": true,
            "ticks": "",
            "zerolinecolor": "white"
           },
           "zaxis": {
            "backgroundcolor": "#E5ECF6",
            "gridcolor": "white",
            "gridwidth": 2,
            "linecolor": "white",
            "showbackground": true,
            "ticks": "",
            "zerolinecolor": "white"
           }
          },
          "shapedefaults": {
           "line": {
            "color": "#2a3f5f"
           }
          },
          "ternary": {
           "aaxis": {
            "gridcolor": "white",
            "linecolor": "white",
            "ticks": ""
           },
           "baxis": {
            "gridcolor": "white",
            "linecolor": "white",
            "ticks": ""
           },
           "bgcolor": "#E5ECF6",
           "caxis": {
            "gridcolor": "white",
            "linecolor": "white",
            "ticks": ""
           }
          },
          "title": {
           "x": 0.05
          },
          "xaxis": {
           "automargin": true,
           "gridcolor": "white",
           "linecolor": "white",
           "ticks": "",
           "title": {
            "standoff": 15
           },
           "zerolinecolor": "white",
           "zerolinewidth": 2
          },
          "yaxis": {
           "automargin": true,
           "gridcolor": "white",
           "linecolor": "white",
           "ticks": "",
           "title": {
            "standoff": 15
           },
           "zerolinecolor": "white",
           "zerolinewidth": 2
          }
         }
        },
        "title": {
         "text": "Распределение по балансам"
        },
        "width": 1000,
        "xaxis": {
         "anchor": "y",
         "domain": [
          0,
          1
         ],
         "title": {
          "text": "Баланс клиента, $"
         }
        },
        "yaxis": {
         "anchor": "x",
         "domain": [
          0,
          1
         ],
         "title": {
          "text": "Количество"
         }
        }
       }
      }
     },
     "metadata": {},
     "output_type": "display_data"
    }
   ],
   "source": [
    "# Выбираем подмножество данных согласно условиям\n",
    "tmp_df = churn_df[churn_df[\"Balance\"] > 2500][[\"Balance\", 'Exited','CustomerId']].copy()\n",
    "\n",
    "# Группируем и подписываем данные\n",
    "# Отобразим данные не в долях (%), а в натуральных единицах (повысим инфрормативность графика)\n",
    "df = tmp_df.pivot_table(\n",
    "    index = 'Balance',\n",
    "    columns = 'Exited',\n",
    "    values = 'CustomerId',\n",
    "    aggfunc = 'count',\n",
    "    \n",
    ")\n",
    "df = df.rename( columns = {1: \"Ушедшие\", 0: \"Лояльные\"}) # Переименуем признаки в наборе данных\n",
    "\n",
    "# Готовим графику: имеем распределение первичных данных, используем гистограммы\n",
    "fig = px.histogram(\n",
    "    data_frame = df,  \n",
    "    x = df.index,   # По оси x отпечатаются балансы \n",
    "    y = df.columns, # По оси y отпечатаются признаки \"Лояльные\" и \"Ушедшие\"\n",
    "    nbins = 30, # Число интервалов \n",
    "    text_auto = True, # Отображать надписи на колонках гистограммы\n",
    "    title = 'Распределение по балансам', # Заголовок отчета\n",
    "    width = 1000,  # Ширина графика\n",
    "    height = 500, # Высота графика\n",
    "    labels = {'Exited': 'Статус клиента: '} # Подпись на легенде\n",
    ")\n",
    "fig.update_layout(\n",
    "    bargap = 0.1, # Ширина вертикальной разделительной полосы\n",
    "    xaxis_title = \"Баланс клиента, $\", # Подпись оси x\n",
    "    yaxis_title = \"Количество\", # Подпись оси y\n",
    "    legend = dict( orientation = \"h\", x = 0, y = 150, title_font_family = \"Sitka Small\" ) # Сместим легенду воева вверх\n",
    ")\n",
    "fig.show() # Отображаем"
   ]
  },
  {
   "cell_type": "markdown",
   "id": "5bf321ac",
   "metadata": {},
   "source": [
    "Из графика видим, что максимальное количество клиентов (как лояльных, так и ушедших) находится в диапазоне 90-150 тыс долларов. Пик в диапазоне 120-130 тыс $.\n"
   ]
  },
  {
   "cell_type": "markdown",
   "id": "cc6b8bf4",
   "metadata": {},
   "source": [
    "9.3. Посмотрите на распределение баланса клиента в разрезе признака оттока. Как различаются суммы на накопительном счёте ушедших и лояльных клиентов? Подумайте и напишите, с чем это может быть связано, что может не устраивать ушедших клиентов в банке."
   ]
  },
  {
   "cell_type": "code",
   "execution_count": 5,
   "id": "6283f535",
   "metadata": {},
   "outputs": [
    {
     "data": {
      "application/vnd.plotly.v1+json": {
       "config": {
        "plotlyServerURL": "https://plot.ly"
       },
       "data": [
        {
         "bingroup": "x",
         "histfunc": "sum",
         "hovertemplate": "Статус клиента: =Лояльные<br>Balance=%{x}<br>sum of value=%{y}<extra></extra>",
         "legendgroup": "Лояльные",
         "marker": {
          "color": "#636efa",
          "pattern": {
           "shape": ""
          }
         },
         "name": "Лояльные",
         "nbinsx": 50,
         "orientation": "v",
         "showlegend": true,
         "texttemplate": "%{value}",
         "type": "histogram",
         "x": {
          "bdata": "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",
          "dtype": "f8"
         },
         "xaxis": "x",
         "y": {
          "bdata": "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",
          "dtype": "f8"
         },
         "yaxis": "y"
        },
        {
         "bingroup": "x",
         "histfunc": "sum",
         "hovertemplate": "Статус клиента: =Ушедшие<br>Balance=%{x}<br>sum of value=%{y}<extra></extra>",
         "legendgroup": "Ушедшие",
         "marker": {
          "color": "#EF553B",
          "pattern": {
           "shape": ""
          }
         },
         "name": "Ушедшие",
         "nbinsx": 50,
         "orientation": "v",
         "showlegend": true,
         "texttemplate": "%{value}",
         "type": "histogram",
         "x": {
          "bdata": "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",
          "dtype": "f8"
         },
         "xaxis": "x",
         "y": {
          "bdata": "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",
          "dtype": "f8"
         },
         "yaxis": "y"
        }
       ],
       "layout": {
        "bargap": 0.1,
        "barmode": "relative",
        "height": 500,
        "legend": {
         "orientation": "h",
         "title": {
          "font": {
           "family": "Sitka Small"
          },
          "text": "Статус клиента: "
         },
         "tracegroupgap": 0,
         "x": 0,
         "y": 150
        },
        "template": {
         "data": {
          "bar": [
           {
            "error_x": {
             "color": "#2a3f5f"
            },
            "error_y": {
             "color": "#2a3f5f"
            },
            "marker": {
             "line": {
              "color": "#E5ECF6",
              "width": 0.5
             },
             "pattern": {
              "fillmode": "overlay",
              "size": 10,
              "solidity": 0.2
             }
            },
            "type": "bar"
           }
          ],
          "barpolar": [
           {
            "marker": {
             "line": {
              "color": "#E5ECF6",
              "width": 0.5
             },
             "pattern": {
              "fillmode": "overlay",
              "size": 10,
              "solidity": 0.2
             }
            },
            "type": "barpolar"
           }
          ],
          "carpet": [
           {
            "aaxis": {
             "endlinecolor": "#2a3f5f",
             "gridcolor": "white",
             "linecolor": "white",
             "minorgridcolor": "white",
             "startlinecolor": "#2a3f5f"
            },
            "baxis": {
             "endlinecolor": "#2a3f5f",
             "gridcolor": "white",
             "linecolor": "white",
             "minorgridcolor": "white",
             "startlinecolor": "#2a3f5f"
            },
            "type": "carpet"
           }
          ],
          "choropleth": [
           {
            "colorbar": {
             "outlinewidth": 0,
             "ticks": ""
            },
            "type": "choropleth"
           }
          ],
          "contour": [
           {
            "colorbar": {
             "outlinewidth": 0,
             "ticks": ""
            },
            "colorscale": [
             [
              0,
              "#0d0887"
             ],
             [
              0.1111111111111111,
              "#46039f"
             ],
             [
              0.2222222222222222,
              "#7201a8"
             ],
             [
              0.3333333333333333,
              "#9c179e"
             ],
             [
              0.4444444444444444,
              "#bd3786"
             ],
             [
              0.5555555555555556,
              "#d8576b"
             ],
             [
              0.6666666666666666,
              "#ed7953"
             ],
             [
              0.7777777777777778,
              "#fb9f3a"
             ],
             [
              0.8888888888888888,
              "#fdca26"
             ],
             [
              1,
              "#f0f921"
             ]
            ],
            "type": "contour"
           }
          ],
          "contourcarpet": [
           {
            "colorbar": {
             "outlinewidth": 0,
             "ticks": ""
            },
            "type": "contourcarpet"
           }
          ],
          "heatmap": [
           {
            "colorbar": {
             "outlinewidth": 0,
             "ticks": ""
            },
            "colorscale": [
             [
              0,
              "#0d0887"
             ],
             [
              0.1111111111111111,
              "#46039f"
             ],
             [
              0.2222222222222222,
              "#7201a8"
             ],
             [
              0.3333333333333333,
              "#9c179e"
             ],
             [
              0.4444444444444444,
              "#bd3786"
             ],
             [
              0.5555555555555556,
              "#d8576b"
             ],
             [
              0.6666666666666666,
              "#ed7953"
             ],
             [
              0.7777777777777778,
              "#fb9f3a"
             ],
             [
              0.8888888888888888,
              "#fdca26"
             ],
             [
              1,
              "#f0f921"
             ]
            ],
            "type": "heatmap"
           }
          ],
          "histogram": [
           {
            "marker": {
             "pattern": {
              "fillmode": "overlay",
              "size": 10,
              "solidity": 0.2
             }
            },
            "type": "histogram"
           }
          ],
          "histogram2d": [
           {
            "colorbar": {
             "outlinewidth": 0,
             "ticks": ""
            },
            "colorscale": [
             [
              0,
              "#0d0887"
             ],
             [
              0.1111111111111111,
              "#46039f"
             ],
             [
              0.2222222222222222,
              "#7201a8"
             ],
             [
              0.3333333333333333,
              "#9c179e"
             ],
             [
              0.4444444444444444,
              "#bd3786"
             ],
             [
              0.5555555555555556,
              "#d8576b"
             ],
             [
              0.6666666666666666,
              "#ed7953"
             ],
             [
              0.7777777777777778,
              "#fb9f3a"
             ],
             [
              0.8888888888888888,
              "#fdca26"
             ],
             [
              1,
              "#f0f921"
             ]
            ],
            "type": "histogram2d"
           }
          ],
          "histogram2dcontour": [
           {
            "colorbar": {
             "outlinewidth": 0,
             "ticks": ""
            },
            "colorscale": [
             [
              0,
              "#0d0887"
             ],
             [
              0.1111111111111111,
              "#46039f"
             ],
             [
              0.2222222222222222,
              "#7201a8"
             ],
             [
              0.3333333333333333,
              "#9c179e"
             ],
             [
              0.4444444444444444,
              "#bd3786"
             ],
             [
              0.5555555555555556,
              "#d8576b"
             ],
             [
              0.6666666666666666,
              "#ed7953"
             ],
             [
              0.7777777777777778,
              "#fb9f3a"
             ],
             [
              0.8888888888888888,
              "#fdca26"
             ],
             [
              1,
              "#f0f921"
             ]
            ],
            "type": "histogram2dcontour"
           }
          ],
          "mesh3d": [
           {
            "colorbar": {
             "outlinewidth": 0,
             "ticks": ""
            },
            "type": "mesh3d"
           }
          ],
          "parcoords": [
           {
            "line": {
             "colorbar": {
              "outlinewidth": 0,
              "ticks": ""
             }
            },
            "type": "parcoords"
           }
          ],
          "pie": [
           {
            "automargin": true,
            "type": "pie"
           }
          ],
          "scatter": [
           {
            "fillpattern": {
             "fillmode": "overlay",
             "size": 10,
             "solidity": 0.2
            },
            "type": "scatter"
           }
          ],
          "scatter3d": [
           {
            "line": {
             "colorbar": {
              "outlinewidth": 0,
              "ticks": ""
             }
            },
            "marker": {
             "colorbar": {
              "outlinewidth": 0,
              "ticks": ""
             }
            },
            "type": "scatter3d"
           }
          ],
          "scattercarpet": [
           {
            "marker": {
             "colorbar": {
              "outlinewidth": 0,
              "ticks": ""
             }
            },
            "type": "scattercarpet"
           }
          ],
          "scattergeo": [
           {
            "marker": {
             "colorbar": {
              "outlinewidth": 0,
              "ticks": ""
             }
            },
            "type": "scattergeo"
           }
          ],
          "scattergl": [
           {
            "marker": {
             "colorbar": {
              "outlinewidth": 0,
              "ticks": ""
             }
            },
            "type": "scattergl"
           }
          ],
          "scattermap": [
           {
            "marker": {
             "colorbar": {
              "outlinewidth": 0,
              "ticks": ""
             }
            },
            "type": "scattermap"
           }
          ],
          "scattermapbox": [
           {
            "marker": {
             "colorbar": {
              "outlinewidth": 0,
              "ticks": ""
             }
            },
            "type": "scattermapbox"
           }
          ],
          "scatterpolar": [
           {
            "marker": {
             "colorbar": {
              "outlinewidth": 0,
              "ticks": ""
             }
            },
            "type": "scatterpolar"
           }
          ],
          "scatterpolargl": [
           {
            "marker": {
             "colorbar": {
              "outlinewidth": 0,
              "ticks": ""
             }
            },
            "type": "scatterpolargl"
           }
          ],
          "scatterternary": [
           {
            "marker": {
             "colorbar": {
              "outlinewidth": 0,
              "ticks": ""
             }
            },
            "type": "scatterternary"
           }
          ],
          "surface": [
           {
            "colorbar": {
             "outlinewidth": 0,
             "ticks": ""
            },
            "colorscale": [
             [
              0,
              "#0d0887"
             ],
             [
              0.1111111111111111,
              "#46039f"
             ],
             [
              0.2222222222222222,
              "#7201a8"
             ],
             [
              0.3333333333333333,
              "#9c179e"
             ],
             [
              0.4444444444444444,
              "#bd3786"
             ],
             [
              0.5555555555555556,
              "#d8576b"
             ],
             [
              0.6666666666666666,
              "#ed7953"
             ],
             [
              0.7777777777777778,
              "#fb9f3a"
             ],
             [
              0.8888888888888888,
              "#fdca26"
             ],
             [
              1,
              "#f0f921"
             ]
            ],
            "type": "surface"
           }
          ],
          "table": [
           {
            "cells": {
             "fill": {
              "color": "#EBF0F8"
             },
             "line": {
              "color": "white"
             }
            },
            "header": {
             "fill": {
              "color": "#C8D4E3"
             },
             "line": {
              "color": "white"
             }
            },
            "type": "table"
           }
          ]
         },
         "layout": {
          "annotationdefaults": {
           "arrowcolor": "#2a3f5f",
           "arrowhead": 0,
           "arrowwidth": 1
          },
          "autotypenumbers": "strict",
          "coloraxis": {
           "colorbar": {
            "outlinewidth": 0,
            "ticks": ""
           }
          },
          "colorscale": {
           "diverging": [
            [
             0,
             "#8e0152"
            ],
            [
             0.1,
             "#c51b7d"
            ],
            [
             0.2,
             "#de77ae"
            ],
            [
             0.3,
             "#f1b6da"
            ],
            [
             0.4,
             "#fde0ef"
            ],
            [
             0.5,
             "#f7f7f7"
            ],
            [
             0.6,
             "#e6f5d0"
            ],
            [
             0.7,
             "#b8e186"
            ],
            [
             0.8,
             "#7fbc41"
            ],
            [
             0.9,
             "#4d9221"
            ],
            [
             1,
             "#276419"
            ]
           ],
           "sequential": [
            [
             0,
             "#0d0887"
            ],
            [
             0.1111111111111111,
             "#46039f"
            ],
            [
             0.2222222222222222,
             "#7201a8"
            ],
            [
             0.3333333333333333,
             "#9c179e"
            ],
            [
             0.4444444444444444,
             "#bd3786"
            ],
            [
             0.5555555555555556,
             "#d8576b"
            ],
            [
             0.6666666666666666,
             "#ed7953"
            ],
            [
             0.7777777777777778,
             "#fb9f3a"
            ],
            [
             0.8888888888888888,
             "#fdca26"
            ],
            [
             1,
             "#f0f921"
            ]
           ],
           "sequentialminus": [
            [
             0,
             "#0d0887"
            ],
            [
             0.1111111111111111,
             "#46039f"
            ],
            [
             0.2222222222222222,
             "#7201a8"
            ],
            [
             0.3333333333333333,
             "#9c179e"
            ],
            [
             0.4444444444444444,
             "#bd3786"
            ],
            [
             0.5555555555555556,
             "#d8576b"
            ],
            [
             0.6666666666666666,
             "#ed7953"
            ],
            [
             0.7777777777777778,
             "#fb9f3a"
            ],
            [
             0.8888888888888888,
             "#fdca26"
            ],
            [
             1,
             "#f0f921"
            ]
           ]
          },
          "colorway": [
           "#636efa",
           "#EF553B",
           "#00cc96",
           "#ab63fa",
           "#FFA15A",
           "#19d3f3",
           "#FF6692",
           "#B6E880",
           "#FF97FF",
           "#FECB52"
          ],
          "font": {
           "color": "#2a3f5f"
          },
          "geo": {
           "bgcolor": "white",
           "lakecolor": "white",
           "landcolor": "#E5ECF6",
           "showlakes": true,
           "showland": true,
           "subunitcolor": "white"
          },
          "hoverlabel": {
           "align": "left"
          },
          "hovermode": "closest",
          "mapbox": {
           "style": "light"
          },
          "paper_bgcolor": "white",
          "plot_bgcolor": "#E5ECF6",
          "polar": {
           "angularaxis": {
            "gridcolor": "white",
            "linecolor": "white",
            "ticks": ""
           },
           "bgcolor": "#E5ECF6",
           "radialaxis": {
            "gridcolor": "white",
            "linecolor": "white",
            "ticks": ""
           }
          },
          "scene": {
           "xaxis": {
            "backgroundcolor": "#E5ECF6",
            "gridcolor": "white",
            "gridwidth": 2,
            "linecolor": "white",
            "showbackground": true,
            "ticks": "",
            "zerolinecolor": "white"
           },
           "yaxis": {
            "backgroundcolor": "#E5ECF6",
            "gridcolor": "white",
            "gridwidth": 2,
            "linecolor": "white",
            "showbackground": true,
            "ticks": "",
            "zerolinecolor": "white"
           },
           "zaxis": {
            "backgroundcolor": "#E5ECF6",
            "gridcolor": "white",
            "gridwidth": 2,
            "linecolor": "white",
            "showbackground": true,
            "ticks": "",
            "zerolinecolor": "white"
           }
          },
          "shapedefaults": {
           "line": {
            "color": "#2a3f5f"
           }
          },
          "ternary": {
           "aaxis": {
            "gridcolor": "white",
            "linecolor": "white",
            "ticks": ""
           },
           "baxis": {
            "gridcolor": "white",
            "linecolor": "white",
            "ticks": ""
           },
           "bgcolor": "#E5ECF6",
           "caxis": {
            "gridcolor": "white",
            "linecolor": "white",
            "ticks": ""
           }
          },
          "title": {
           "x": 0.05
          },
          "xaxis": {
           "automargin": true,
           "gridcolor": "white",
           "linecolor": "white",
           "ticks": "",
           "title": {
            "standoff": 15
           },
           "zerolinecolor": "white",
           "zerolinewidth": 2
          },
          "yaxis": {
           "automargin": true,
           "gridcolor": "white",
           "linecolor": "white",
           "ticks": "",
           "title": {
            "standoff": 15
           },
           "zerolinecolor": "white",
           "zerolinewidth": 2
          }
         }
        },
        "title": {
         "text": "Распределение по балансам"
        },
        "width": 1000,
        "xaxis": {
         "anchor": "y",
         "domain": [
          0,
          1
         ],
         "title": {
          "text": "Баланс клиента, $"
         }
        },
        "yaxis": {
         "anchor": "x",
         "domain": [
          0,
          1
         ],
         "title": {
          "text": "Количество"
         }
        }
       }
      }
     },
     "metadata": {},
     "output_type": "display_data"
    }
   ],
   "source": [
    "# Выбираем нужные признаки\n",
    "tmp_df = churn_df[[\"Balance\", 'Exited','CustomerId']].copy()\n",
    "\n",
    "# Группируем и подписываем данные\n",
    "# Долю оттока к общему количеству выводить не будем, дадим вместо этого общее количество.\n",
    "df = tmp_df.pivot_table(\n",
    "    index = 'Balance',\n",
    "    columns = 'Exited',\n",
    "    values = 'CustomerId',\n",
    "    aggfunc = 'count'\n",
    ")\n",
    "df = df.rename( columns = {1: \"Ушедшие\", 0: \"Лояльные\"})\n",
    "\n",
    "# Готовим графику: имеем распределение первичных данных, используем гистограммы\n",
    "fig = px.histogram(\n",
    "    data_frame = df,\n",
    "    x = df.index,   # По оси x отпечатаются балансы клиентов\n",
    "    y = df.columns, # По оси y отпечатается количество лояльных и ушедших клиентов\n",
    "    nbins = 50, # Число интервалов \n",
    "    text_auto = True, # Отображать надписи на колонках гистограммы\n",
    "    title = 'Распределение по балансам', #заголовок\n",
    "    width = 1000, # Ширина графика\n",
    "    height = 500, # Высота графика\n",
    "    labels = {'Exited': 'Статус клиента: '} # Подпись на легенде\n",
    ")\n",
    "fig.update_layout(\n",
    "    bargap = 0.1, # Ширина вертикальной разделительной вертикальной полосы\n",
    "    xaxis_title = \"Баланс клиента, $\", # Подпись оси x\n",
    "    yaxis_title = \"Количество\", # Подпись оси y\n",
    "    legend = dict( orientation = \"h\", x = 0, y = 150, title_font_family = \"Sitka Small\" ) # Сместим легенду воева вверх\n",
    ")\n",
    "fig.show() # Отображаем"
   ]
  },
  {
   "cell_type": "markdown",
   "id": "d5abf27c",
   "metadata": {},
   "source": [
    "Из графика видим, что \n",
    "1) Максимальное количество клиентов (как лояльных, так и ушедших) находится в диапазоне 90-150 тыс долларов.\n",
    "2) Доля ушедших в диапазоне с балансом 90-150 тыс немного выше, чем вне диапазона\n",
    "3) Пик в начале графика - это новые клиенты, которые решили попрововать открыть счет в банке, положили некую тестовую сумму. Большинство из них осталось и часть ушла.\n",
    "4) По краям графика колебания оконо нулевой отметки. Возможно это разовые операции, клиенты не собирались долгосрочно открывать счет"
   ]
  },
  {
   "cell_type": "markdown",
   "id": "7f41f074",
   "metadata": {},
   "source": [
    "9.4. Посмотрите на распределение возраста в разрезе признака оттока. В какой группе больше потенциальных выбросов? На какую возрастную категорию клиентов стоит обратить внимание банку?"
   ]
  },
  {
   "cell_type": "code",
   "execution_count": null,
   "id": "9a3529fc",
   "metadata": {},
   "outputs": [
    {
     "data": {
      "application/vnd.plotly.v1+json": {
       "config": {
        "plotlyServerURL": "https://plot.ly"
       },
       "data": [
        {
         "hovertemplate": "Age=%{x}<br>Отток=%{marker.color}<extra></extra>",
         "legendgroup": "",
         "marker": {
          "color": {
           "bdata": "CQQFBg4GCwQHBggIBwgICgcMDA0NERUTGB4cJigsMDM1Nz82PTtHMyswNCgoLSAsFA4gCRYaBQgGAAAAAAAAAAAAMgAAAA==",
           "dtype": "i1"
          },
          "coloraxis": "coloraxis",
          "pattern": {
           "shape": ""
          }
         },
         "name": "",
         "orientation": "v",
         "showlegend": false,
         "text": {
          "bdata": "AAAAAAAAIkAAAAAAAAAQQAAAAAAAABRAAAAAAAAAGEAAAAAAAAAsQAAAAAAAABhAAAAAAAAAJkAAAAAAAAAQQAAAAAAAABxAAAAAAAAAGEAAAAAAAAAgQAAAAAAAACBAAAAAAAAAHEAAAAAAAAAgQAAAAAAAACBAAAAAAAAAJEAAAAAAAAAcQAAAAAAAAChAAAAAAAAAKEAAAAAAAAAqQAAAAAAAACpAAAAAAAAAMUAAAAAAAAA1QAAAAAAAADNAAAAAAAAAOEAAAAAAAAA+QAAAAAAAADxAAAAAAAAAQ0AAAAAAAABEQAAAAAAAAEZAAAAAAAAASEAAAAAAAIBJQAAAAAAAgEpAAAAAAACAS0AAAAAAAIBPQAAAAAAAAEtAAAAAAACATkAAAAAAAIBNQAAAAAAAwFFAAAAAAACASUAAAAAAAIBFQAAAAAAAAEhAAAAAAAAASkAAAAAAAABEQAAAAAAAAERAAAAAAACARkAAAAAAAABAQAAAAAAAAEZAAAAAAAAANEAAAAAAAAAsQAAAAAAAAEBAAAAAAAAAIkAAAAAAAAA2QAAAAAAAADpAAAAAAAAAFEAAAAAAAAAgQAAAAAAAABhAAAAAAAAAAAAAAAAAAAAAAAAAAAAAAAAAAAAAAAAAAAAAAAAAAAAAAAAAAAAAAAAAAAAAAAAAAAAAAAAAAAAAAAAAAAAAAAAAAAAAAAAASUAAAAAAAAAAAAAAAAAAAAAAAAAAAAAAAAA=",
          "dtype": "f8"
         },
         "textposition": "auto",
         "type": "bar",
         "x": {
          "bdata": "EhMUFRYXGBkaGxwdHh8gISIjJCUmJygpKissLS4vMDEyMzQ1Njc4OTo7PD0+P0BBQkNERUZHSElKS0xNTk9QUVJTVFVYXA==",
          "dtype": "i1"
         },
         "xaxis": "x",
         "y": {
          "bdata": "CQQFBg4GCwQHBggIBwgICgcMDA0NERUTGB4cJigsMDM1Nz82PTtHMyswNCgoLSAsFA4gCRYaBQgGAAAAAAAAAAAAMgAAAA==",
          "dtype": "i1"
         },
         "yaxis": "y"
        }
       ],
       "layout": {
        "bargap": 0.1,
        "barmode": "relative",
        "coloraxis": {
         "colorbar": {
          "title": {
           "text": "Отток"
          }
         },
         "colorscale": [
          [
           0,
           "#0d0887"
          ],
          [
           0.1111111111111111,
           "#46039f"
          ],
          [
           0.2222222222222222,
           "#7201a8"
          ],
          [
           0.3333333333333333,
           "#9c179e"
          ],
          [
           0.4444444444444444,
           "#bd3786"
          ],
          [
           0.5555555555555556,
           "#d8576b"
          ],
          [
           0.6666666666666666,
           "#ed7953"
          ],
          [
           0.7777777777777778,
           "#fb9f3a"
          ],
          [
           0.8888888888888888,
           "#fdca26"
          ],
          [
           1,
           "#f0f921"
          ]
         ]
        },
        "height": 500,
        "legend": {
         "tracegroupgap": 0
        },
        "template": {
         "data": {
          "bar": [
           {
            "error_x": {
             "color": "#2a3f5f"
            },
            "error_y": {
             "color": "#2a3f5f"
            },
            "marker": {
             "line": {
              "color": "#E5ECF6",
              "width": 0.5
             },
             "pattern": {
              "fillmode": "overlay",
              "size": 10,
              "solidity": 0.2
             }
            },
            "type": "bar"
           }
          ],
          "barpolar": [
           {
            "marker": {
             "line": {
              "color": "#E5ECF6",
              "width": 0.5
             },
             "pattern": {
              "fillmode": "overlay",
              "size": 10,
              "solidity": 0.2
             }
            },
            "type": "barpolar"
           }
          ],
          "carpet": [
           {
            "aaxis": {
             "endlinecolor": "#2a3f5f",
             "gridcolor": "white",
             "linecolor": "white",
             "minorgridcolor": "white",
             "startlinecolor": "#2a3f5f"
            },
            "baxis": {
             "endlinecolor": "#2a3f5f",
             "gridcolor": "white",
             "linecolor": "white",
             "minorgridcolor": "white",
             "startlinecolor": "#2a3f5f"
            },
            "type": "carpet"
           }
          ],
          "choropleth": [
           {
            "colorbar": {
             "outlinewidth": 0,
             "ticks": ""
            },
            "type": "choropleth"
           }
          ],
          "contour": [
           {
            "colorbar": {
             "outlinewidth": 0,
             "ticks": ""
            },
            "colorscale": [
             [
              0,
              "#0d0887"
             ],
             [
              0.1111111111111111,
              "#46039f"
             ],
             [
              0.2222222222222222,
              "#7201a8"
             ],
             [
              0.3333333333333333,
              "#9c179e"
             ],
             [
              0.4444444444444444,
              "#bd3786"
             ],
             [
              0.5555555555555556,
              "#d8576b"
             ],
             [
              0.6666666666666666,
              "#ed7953"
             ],
             [
              0.7777777777777778,
              "#fb9f3a"
             ],
             [
              0.8888888888888888,
              "#fdca26"
             ],
             [
              1,
              "#f0f921"
             ]
            ],
            "type": "contour"
           }
          ],
          "contourcarpet": [
           {
            "colorbar": {
             "outlinewidth": 0,
             "ticks": ""
            },
            "type": "contourcarpet"
           }
          ],
          "heatmap": [
           {
            "colorbar": {
             "outlinewidth": 0,
             "ticks": ""
            },
            "colorscale": [
             [
              0,
              "#0d0887"
             ],
             [
              0.1111111111111111,
              "#46039f"
             ],
             [
              0.2222222222222222,
              "#7201a8"
             ],
             [
              0.3333333333333333,
              "#9c179e"
             ],
             [
              0.4444444444444444,
              "#bd3786"
             ],
             [
              0.5555555555555556,
              "#d8576b"
             ],
             [
              0.6666666666666666,
              "#ed7953"
             ],
             [
              0.7777777777777778,
              "#fb9f3a"
             ],
             [
              0.8888888888888888,
              "#fdca26"
             ],
             [
              1,
              "#f0f921"
             ]
            ],
            "type": "heatmap"
           }
          ],
          "histogram": [
           {
            "marker": {
             "pattern": {
              "fillmode": "overlay",
              "size": 10,
              "solidity": 0.2
             }
            },
            "type": "histogram"
           }
          ],
          "histogram2d": [
           {
            "colorbar": {
             "outlinewidth": 0,
             "ticks": ""
            },
            "colorscale": [
             [
              0,
              "#0d0887"
             ],
             [
              0.1111111111111111,
              "#46039f"
             ],
             [
              0.2222222222222222,
              "#7201a8"
             ],
             [
              0.3333333333333333,
              "#9c179e"
             ],
             [
              0.4444444444444444,
              "#bd3786"
             ],
             [
              0.5555555555555556,
              "#d8576b"
             ],
             [
              0.6666666666666666,
              "#ed7953"
             ],
             [
              0.7777777777777778,
              "#fb9f3a"
             ],
             [
              0.8888888888888888,
              "#fdca26"
             ],
             [
              1,
              "#f0f921"
             ]
            ],
            "type": "histogram2d"
           }
          ],
          "histogram2dcontour": [
           {
            "colorbar": {
             "outlinewidth": 0,
             "ticks": ""
            },
            "colorscale": [
             [
              0,
              "#0d0887"
             ],
             [
              0.1111111111111111,
              "#46039f"
             ],
             [
              0.2222222222222222,
              "#7201a8"
             ],
             [
              0.3333333333333333,
              "#9c179e"
             ],
             [
              0.4444444444444444,
              "#bd3786"
             ],
             [
              0.5555555555555556,
              "#d8576b"
             ],
             [
              0.6666666666666666,
              "#ed7953"
             ],
             [
              0.7777777777777778,
              "#fb9f3a"
             ],
             [
              0.8888888888888888,
              "#fdca26"
             ],
             [
              1,
              "#f0f921"
             ]
            ],
            "type": "histogram2dcontour"
           }
          ],
          "mesh3d": [
           {
            "colorbar": {
             "outlinewidth": 0,
             "ticks": ""
            },
            "type": "mesh3d"
           }
          ],
          "parcoords": [
           {
            "line": {
             "colorbar": {
              "outlinewidth": 0,
              "ticks": ""
             }
            },
            "type": "parcoords"
           }
          ],
          "pie": [
           {
            "automargin": true,
            "type": "pie"
           }
          ],
          "scatter": [
           {
            "fillpattern": {
             "fillmode": "overlay",
             "size": 10,
             "solidity": 0.2
            },
            "type": "scatter"
           }
          ],
          "scatter3d": [
           {
            "line": {
             "colorbar": {
              "outlinewidth": 0,
              "ticks": ""
             }
            },
            "marker": {
             "colorbar": {
              "outlinewidth": 0,
              "ticks": ""
             }
            },
            "type": "scatter3d"
           }
          ],
          "scattercarpet": [
           {
            "marker": {
             "colorbar": {
              "outlinewidth": 0,
              "ticks": ""
             }
            },
            "type": "scattercarpet"
           }
          ],
          "scattergeo": [
           {
            "marker": {
             "colorbar": {
              "outlinewidth": 0,
              "ticks": ""
             }
            },
            "type": "scattergeo"
           }
          ],
          "scattergl": [
           {
            "marker": {
             "colorbar": {
              "outlinewidth": 0,
              "ticks": ""
             }
            },
            "type": "scattergl"
           }
          ],
          "scattermap": [
           {
            "marker": {
             "colorbar": {
              "outlinewidth": 0,
              "ticks": ""
             }
            },
            "type": "scattermap"
           }
          ],
          "scattermapbox": [
           {
            "marker": {
             "colorbar": {
              "outlinewidth": 0,
              "ticks": ""
             }
            },
            "type": "scattermapbox"
           }
          ],
          "scatterpolar": [
           {
            "marker": {
             "colorbar": {
              "outlinewidth": 0,
              "ticks": ""
             }
            },
            "type": "scatterpolar"
           }
          ],
          "scatterpolargl": [
           {
            "marker": {
             "colorbar": {
              "outlinewidth": 0,
              "ticks": ""
             }
            },
            "type": "scatterpolargl"
           }
          ],
          "scatterternary": [
           {
            "marker": {
             "colorbar": {
              "outlinewidth": 0,
              "ticks": ""
             }
            },
            "type": "scatterternary"
           }
          ],
          "surface": [
           {
            "colorbar": {
             "outlinewidth": 0,
             "ticks": ""
            },
            "colorscale": [
             [
              0,
              "#0d0887"
             ],
             [
              0.1111111111111111,
              "#46039f"
             ],
             [
              0.2222222222222222,
              "#7201a8"
             ],
             [
              0.3333333333333333,
              "#9c179e"
             ],
             [
              0.4444444444444444,
              "#bd3786"
             ],
             [
              0.5555555555555556,
              "#d8576b"
             ],
             [
              0.6666666666666666,
              "#ed7953"
             ],
             [
              0.7777777777777778,
              "#fb9f3a"
             ],
             [
              0.8888888888888888,
              "#fdca26"
             ],
             [
              1,
              "#f0f921"
             ]
            ],
            "type": "surface"
           }
          ],
          "table": [
           {
            "cells": {
             "fill": {
              "color": "#EBF0F8"
             },
             "line": {
              "color": "white"
             }
            },
            "header": {
             "fill": {
              "color": "#C8D4E3"
             },
             "line": {
              "color": "white"
             }
            },
            "type": "table"
           }
          ]
         },
         "layout": {
          "annotationdefaults": {
           "arrowcolor": "#2a3f5f",
           "arrowhead": 0,
           "arrowwidth": 1
          },
          "autotypenumbers": "strict",
          "coloraxis": {
           "colorbar": {
            "outlinewidth": 0,
            "ticks": ""
           }
          },
          "colorscale": {
           "diverging": [
            [
             0,
             "#8e0152"
            ],
            [
             0.1,
             "#c51b7d"
            ],
            [
             0.2,
             "#de77ae"
            ],
            [
             0.3,
             "#f1b6da"
            ],
            [
             0.4,
             "#fde0ef"
            ],
            [
             0.5,
             "#f7f7f7"
            ],
            [
             0.6,
             "#e6f5d0"
            ],
            [
             0.7,
             "#b8e186"
            ],
            [
             0.8,
             "#7fbc41"
            ],
            [
             0.9,
             "#4d9221"
            ],
            [
             1,
             "#276419"
            ]
           ],
           "sequential": [
            [
             0,
             "#0d0887"
            ],
            [
             0.1111111111111111,
             "#46039f"
            ],
            [
             0.2222222222222222,
             "#7201a8"
            ],
            [
             0.3333333333333333,
             "#9c179e"
            ],
            [
             0.4444444444444444,
             "#bd3786"
            ],
            [
             0.5555555555555556,
             "#d8576b"
            ],
            [
             0.6666666666666666,
             "#ed7953"
            ],
            [
             0.7777777777777778,
             "#fb9f3a"
            ],
            [
             0.8888888888888888,
             "#fdca26"
            ],
            [
             1,
             "#f0f921"
            ]
           ],
           "sequentialminus": [
            [
             0,
             "#0d0887"
            ],
            [
             0.1111111111111111,
             "#46039f"
            ],
            [
             0.2222222222222222,
             "#7201a8"
            ],
            [
             0.3333333333333333,
             "#9c179e"
            ],
            [
             0.4444444444444444,
             "#bd3786"
            ],
            [
             0.5555555555555556,
             "#d8576b"
            ],
            [
             0.6666666666666666,
             "#ed7953"
            ],
            [
             0.7777777777777778,
             "#fb9f3a"
            ],
            [
             0.8888888888888888,
             "#fdca26"
            ],
            [
             1,
             "#f0f921"
            ]
           ]
          },
          "colorway": [
           "#636efa",
           "#EF553B",
           "#00cc96",
           "#ab63fa",
           "#FFA15A",
           "#19d3f3",
           "#FF6692",
           "#B6E880",
           "#FF97FF",
           "#FECB52"
          ],
          "font": {
           "color": "#2a3f5f"
          },
          "geo": {
           "bgcolor": "white",
           "lakecolor": "white",
           "landcolor": "#E5ECF6",
           "showlakes": true,
           "showland": true,
           "subunitcolor": "white"
          },
          "hoverlabel": {
           "align": "left"
          },
          "hovermode": "closest",
          "mapbox": {
           "style": "light"
          },
          "paper_bgcolor": "white",
          "plot_bgcolor": "#E5ECF6",
          "polar": {
           "angularaxis": {
            "gridcolor": "white",
            "linecolor": "white",
            "ticks": ""
           },
           "bgcolor": "#E5ECF6",
           "radialaxis": {
            "gridcolor": "white",
            "linecolor": "white",
            "ticks": ""
           }
          },
          "scene": {
           "xaxis": {
            "backgroundcolor": "#E5ECF6",
            "gridcolor": "white",
            "gridwidth": 2,
            "linecolor": "white",
            "showbackground": true,
            "ticks": "",
            "zerolinecolor": "white"
           },
           "yaxis": {
            "backgroundcolor": "#E5ECF6",
            "gridcolor": "white",
            "gridwidth": 2,
            "linecolor": "white",
            "showbackground": true,
            "ticks": "",
            "zerolinecolor": "white"
           },
           "zaxis": {
            "backgroundcolor": "#E5ECF6",
            "gridcolor": "white",
            "gridwidth": 2,
            "linecolor": "white",
            "showbackground": true,
            "ticks": "",
            "zerolinecolor": "white"
           }
          },
          "shapedefaults": {
           "line": {
            "color": "#2a3f5f"
           }
          },
          "ternary": {
           "aaxis": {
            "gridcolor": "white",
            "linecolor": "white",
            "ticks": ""
           },
           "baxis": {
            "gridcolor": "white",
            "linecolor": "white",
            "ticks": ""
           },
           "bgcolor": "#E5ECF6",
           "caxis": {
            "gridcolor": "white",
            "linecolor": "white",
            "ticks": ""
           }
          },
          "title": {
           "x": 0.05
          },
          "xaxis": {
           "automargin": true,
           "gridcolor": "white",
           "linecolor": "white",
           "ticks": "",
           "title": {
            "standoff": 15
           },
           "zerolinecolor": "white",
           "zerolinewidth": 2
          },
          "yaxis": {
           "automargin": true,
           "gridcolor": "white",
           "linecolor": "white",
           "ticks": "",
           "title": {
            "standoff": 15
           },
           "zerolinecolor": "white",
           "zerolinewidth": 2
          }
         }
        },
        "title": {
         "text": "Распределение оттока клиентов по годам"
        },
        "width": 2000,
        "xaxis": {
         "anchor": "y",
         "domain": [
          0,
          1
         ],
         "title": {
          "text": "Возраст, лет"
         }
        },
        "yaxis": {
         "anchor": "x",
         "domain": [
          0,
          1
         ],
         "title": {
          "text": "Доля, %"
         }
        }
       }
      }
     },
     "metadata": {},
     "output_type": "display_data"
    }
   ],
   "source": [
    "# Выбираем нужные признаки\n",
    "tmp_df = churn_df[['Age','Exited','CustomerId']].copy()\n",
    "\n",
    "# Группируем и подписываем данные\n",
    "df = tmp_df.groupby( 'Age', as_index = False )['Exited'].mean().round(2) \n",
    "df[\"Отток\"] = (df[\"Exited\"] * 100).astype( int )\n",
    "\n",
    "# Готовим графику: имеем распределение по группам - годы, используем столбчатую диграмму\n",
    "fig = px.bar(\n",
    "    data_frame = df,\n",
    "    \n",
    "    x = \"Age\",   # По оси x отпечатаются возрасты клинета \n",
    "    y = \"Отток\", #\"Exited\", #\"Отток\", # По оси y отпечатается количество лояльных и ушедших клиентов\n",
    "    #text_auto = True, # Отображать надписи на колонках гистограммы\n",
    "    title = 'Распределение оттока клиентов по годам', #заголовок\n",
    "    width = 2000,    # Ширина графика\n",
    "    height = 500,    # Высота графика\n",
    "    text = \"Отток\",  # Печатаем величину оттока\n",
    "    color = \"Отток\", # Раскрасим по величине оттока\n",
    ")\n",
    "fig.update_layout(\n",
    "    bargap = 0.1, # Ширина вертикальной разделительной вертикальной полосы\n",
    "    xaxis_title = \"Возраст, лет\", # Подпись оси x\n",
    "    yaxis_title = \"Доля, %\", # Подпись оси y\n",
    ")\n",
    "fig.show() # Отображаем"
   ]
  },
  {
   "cell_type": "markdown",
   "id": "99ebf957",
   "metadata": {},
   "source": [
    "Из графика видим, что\n",
    "1) До 35 лет доля отток клиентов минимальный (по отношению к притоку), затем он плавно растет\n",
    "2) К 50 годам сравнивается с притоком и начинает его превосходить. Следует обратить внимание на эту группу\n",
    "3) с 60 годов отток спадает быстрее, чем приток\n",
    "4) В 84 года аномалия на графике: единственный год, в котором наблюдался отток с 74 года"
   ]
  },
  {
   "cell_type": "markdown",
   "id": "b2b2d4b6",
   "metadata": {},
   "source": [
    "9.5. Постройте график, который показывает взаимосвязь кредитного рейтинга клиента и его предполагаемой зарплаты. Добавьте расцветку по признаку оттока клиентов. Какова взаимосвязь между признаками? Если не видите явной взаимосвязи, укажите это."
   ]
  },
  {
   "cell_type": "code",
   "execution_count": null,
   "id": "e5d21057",
   "metadata": {},
   "outputs": [
    {
     "data": {
      "application/vnd.plotly.v1+json": {
       "config": {
        "plotlyServerURL": "https://plot.ly"
       },
       "data": [
        {
         "hovertemplate": "Статус клиента: =Приток<br>EstimatedSalary_5000=%{x}<br>value=%{y}<extra></extra>",
         "legendgroup": "Приток",
         "line": {
          "color": "#636efa",
          "dash": "solid"
         },
         "marker": {
          "symbol": "circle"
         },
         "mode": "lines+markers",
         "name": "Приток",
         "orientation": "v",
         "showlegend": true,
         "type": "scatter",
         "x": {
          "bdata": "AAECAwQFBgcICQoLDA0ODxAREhMUFRYXGBkaGxwdHh8gISIjJCUmJyg=",
          "dtype": "i1"
         },
         "xaxis": "x",
         "y": {
          "bdata": "F1100UXDhEB/0FGBL+aDQAAAAAAAGoRAxSVDsI4+hEAFL6fg5V6EQIEKqIAKYIRAZHUZ9kqHhEBkTsDz6XmEQPy8TbrLyIRAcWtvrP6YhEBk893wowqEQEId1EEdAIRACd2L0L14hEDY19fX152EQFN/Sv0pfYRAEgUmnZpbhEDiQs1JIFaEQMQdcUfcWYRAE6d+zy1FhEDWxtB0BwuEQNMUvyRCUoRAhafCU+F5hEAXG1xscBmEQD4G52NwtoRA6JY49XtihEA1J4G4UP+DQAAAAABAJ4RASQEJP7kwhEAiZnPpUKuEQAVO4AROfIRACaWNd1RzhEA83ZofFlWEQHsUrkfh7YNAiTcj3oxghEAyNN3BfluEQMuO51RSmIRAzczMzMyyhEDDqE6Tg6yEQOyV/pztiIRAsRM7sZNehEDcR3AfwamEQA==",
          "dtype": "f8"
         },
         "yaxis": "y"
        },
        {
         "hovertemplate": "Статус клиента: =Отток<br>EstimatedSalary_5000=%{x}<br>value=%{y}<extra></extra>",
         "legendgroup": "Отток",
         "line": {
          "color": "#EF553B",
          "dash": "solid"
         },
         "marker": {
          "symbol": "circle"
         },
         "mode": "lines+markers",
         "name": "Отток",
         "orientation": "v",
         "showlegend": true,
         "type": "scatter",
         "x": {
          "bdata": "AAECAwQFBgcICQoLDA0ODxAREhMUFRYXGBkaGxwdHh8gISIjJCUmJyg=",
          "dtype": "i1"
         },
         "xaxis": "x",
         "y": {
          "bdata": "6k1vetP7g0BmZmZmZoKEQMhCFrKQ6YNAvzy2ImjohEBGF1100auEQAXjrexzWIVA1r5h7Rv2hEDRWB8a6+uEQDMzMzMziYNAFsTkCmIShEAfGutDY0WEQHE9CtejJIRAdNFFF11MhECamZmZmemDQAUxuYKYvIRAYid2YifGg0Ce53me53GDQPKUIE8JMoRAJ3ZiJ3Y6hEA9CtejcJGEQOpNb3rT94NAnN70pjf1g0BKkKcEeXqDQKG9hPYSooNA0uZ9iktWhEAG52NwPv6DQE/sxE7s2INAIQtZyEImhEDuI7iP4P6DQAAAAAAAwINAISZXEJPDg0AnGG9ln1uEQHFH3BF3dIRAsdzTCMsdhEAfhetRuNaDQO/u7u7u0oNAqBGWexoVhEB4eHh4eNiEQB1ItMLmKIRADdIgDdIAhECrqqqqqseCQA==",
          "dtype": "f8"
         },
         "yaxis": "y"
        },
        {
         "hovertemplate": "Статус клиента: =Итог<br>EstimatedSalary_5000=%{x}<br>value=%{y}<extra></extra>",
         "legendgroup": "Итог",
         "line": {
          "color": "#00cc96",
          "dash": "solid"
         },
         "marker": {
          "symbol": "circle"
         },
         "mode": "lines+markers",
         "name": "Итог",
         "orientation": "v",
         "showlegend": true,
         "type": "scatter",
         "x": {
          "bdata": "AAECAwQFBgcICQoLDA0ODxAREhMUFRYXGBkaGxwdHh8gISIjJCUmJyg=",
          "dtype": "i1"
         },
         "xaxis": "x",
         "y": {
          "bdata": "jQsyLsighEA371NcMgaEQAwCK4cWEYRADUqFifdnhEAAAAAAAG2EQIQQQgghlYRADSd1Xx6hhEAOeUPekI+EQNFFF110kYRAIiIiIqJ+hEBBEARBEBaEQHIjN3IjB4RAllqplVpvhED5rBtMkXeEQKHhpO7LiYRAIBAIBAI9hEBGF1100TGEQNwUo4a/UYRAsNWzQ+BChEAAAAAASCWEQPLx8fHxQYRAA9spQ61ihECTIVhHm/WDQE3mXYvRfIRAMj0MnIVfhEALI0T2Jf+DQMUlQ7COFoRANXncWcIuhEAAAAAAAISEQPbWhmnuVoRAGYJ1tHlRhEAqa8qaslaEQGn0iAqyBYRAjoHV3t9QhEAAAAAAkEGEQCryWTeYaoRAlTVlTVmPhEAhC1nIQraEQH7f933fbYRAfLii9cVPhED1pje96VWEQA==",
          "dtype": "f8"
         },
         "yaxis": "y"
        }
       ],
       "layout": {
        "height": 600,
        "legend": {
         "orientation": "h",
         "title": {
          "font": {
           "family": "Sitka Small"
          },
          "text": "Статус клиента: "
         },
         "tracegroupgap": 0,
         "x": 0,
         "y": 150
        },
        "template": {
         "data": {
          "bar": [
           {
            "error_x": {
             "color": "#2a3f5f"
            },
            "error_y": {
             "color": "#2a3f5f"
            },
            "marker": {
             "line": {
              "color": "#E5ECF6",
              "width": 0.5
             },
             "pattern": {
              "fillmode": "overlay",
              "size": 10,
              "solidity": 0.2
             }
            },
            "type": "bar"
           }
          ],
          "barpolar": [
           {
            "marker": {
             "line": {
              "color": "#E5ECF6",
              "width": 0.5
             },
             "pattern": {
              "fillmode": "overlay",
              "size": 10,
              "solidity": 0.2
             }
            },
            "type": "barpolar"
           }
          ],
          "carpet": [
           {
            "aaxis": {
             "endlinecolor": "#2a3f5f",
             "gridcolor": "white",
             "linecolor": "white",
             "minorgridcolor": "white",
             "startlinecolor": "#2a3f5f"
            },
            "baxis": {
             "endlinecolor": "#2a3f5f",
             "gridcolor": "white",
             "linecolor": "white",
             "minorgridcolor": "white",
             "startlinecolor": "#2a3f5f"
            },
            "type": "carpet"
           }
          ],
          "choropleth": [
           {
            "colorbar": {
             "outlinewidth": 0,
             "ticks": ""
            },
            "type": "choropleth"
           }
          ],
          "contour": [
           {
            "colorbar": {
             "outlinewidth": 0,
             "ticks": ""
            },
            "colorscale": [
             [
              0,
              "#0d0887"
             ],
             [
              0.1111111111111111,
              "#46039f"
             ],
             [
              0.2222222222222222,
              "#7201a8"
             ],
             [
              0.3333333333333333,
              "#9c179e"
             ],
             [
              0.4444444444444444,
              "#bd3786"
             ],
             [
              0.5555555555555556,
              "#d8576b"
             ],
             [
              0.6666666666666666,
              "#ed7953"
             ],
             [
              0.7777777777777778,
              "#fb9f3a"
             ],
             [
              0.8888888888888888,
              "#fdca26"
             ],
             [
              1,
              "#f0f921"
             ]
            ],
            "type": "contour"
           }
          ],
          "contourcarpet": [
           {
            "colorbar": {
             "outlinewidth": 0,
             "ticks": ""
            },
            "type": "contourcarpet"
           }
          ],
          "heatmap": [
           {
            "colorbar": {
             "outlinewidth": 0,
             "ticks": ""
            },
            "colorscale": [
             [
              0,
              "#0d0887"
             ],
             [
              0.1111111111111111,
              "#46039f"
             ],
             [
              0.2222222222222222,
              "#7201a8"
             ],
             [
              0.3333333333333333,
              "#9c179e"
             ],
             [
              0.4444444444444444,
              "#bd3786"
             ],
             [
              0.5555555555555556,
              "#d8576b"
             ],
             [
              0.6666666666666666,
              "#ed7953"
             ],
             [
              0.7777777777777778,
              "#fb9f3a"
             ],
             [
              0.8888888888888888,
              "#fdca26"
             ],
             [
              1,
              "#f0f921"
             ]
            ],
            "type": "heatmap"
           }
          ],
          "histogram": [
           {
            "marker": {
             "pattern": {
              "fillmode": "overlay",
              "size": 10,
              "solidity": 0.2
             }
            },
            "type": "histogram"
           }
          ],
          "histogram2d": [
           {
            "colorbar": {
             "outlinewidth": 0,
             "ticks": ""
            },
            "colorscale": [
             [
              0,
              "#0d0887"
             ],
             [
              0.1111111111111111,
              "#46039f"
             ],
             [
              0.2222222222222222,
              "#7201a8"
             ],
             [
              0.3333333333333333,
              "#9c179e"
             ],
             [
              0.4444444444444444,
              "#bd3786"
             ],
             [
              0.5555555555555556,
              "#d8576b"
             ],
             [
              0.6666666666666666,
              "#ed7953"
             ],
             [
              0.7777777777777778,
              "#fb9f3a"
             ],
             [
              0.8888888888888888,
              "#fdca26"
             ],
             [
              1,
              "#f0f921"
             ]
            ],
            "type": "histogram2d"
           }
          ],
          "histogram2dcontour": [
           {
            "colorbar": {
             "outlinewidth": 0,
             "ticks": ""
            },
            "colorscale": [
             [
              0,
              "#0d0887"
             ],
             [
              0.1111111111111111,
              "#46039f"
             ],
             [
              0.2222222222222222,
              "#7201a8"
             ],
             [
              0.3333333333333333,
              "#9c179e"
             ],
             [
              0.4444444444444444,
              "#bd3786"
             ],
             [
              0.5555555555555556,
              "#d8576b"
             ],
             [
              0.6666666666666666,
              "#ed7953"
             ],
             [
              0.7777777777777778,
              "#fb9f3a"
             ],
             [
              0.8888888888888888,
              "#fdca26"
             ],
             [
              1,
              "#f0f921"
             ]
            ],
            "type": "histogram2dcontour"
           }
          ],
          "mesh3d": [
           {
            "colorbar": {
             "outlinewidth": 0,
             "ticks": ""
            },
            "type": "mesh3d"
           }
          ],
          "parcoords": [
           {
            "line": {
             "colorbar": {
              "outlinewidth": 0,
              "ticks": ""
             }
            },
            "type": "parcoords"
           }
          ],
          "pie": [
           {
            "automargin": true,
            "type": "pie"
           }
          ],
          "scatter": [
           {
            "fillpattern": {
             "fillmode": "overlay",
             "size": 10,
             "solidity": 0.2
            },
            "type": "scatter"
           }
          ],
          "scatter3d": [
           {
            "line": {
             "colorbar": {
              "outlinewidth": 0,
              "ticks": ""
             }
            },
            "marker": {
             "colorbar": {
              "outlinewidth": 0,
              "ticks": ""
             }
            },
            "type": "scatter3d"
           }
          ],
          "scattercarpet": [
           {
            "marker": {
             "colorbar": {
              "outlinewidth": 0,
              "ticks": ""
             }
            },
            "type": "scattercarpet"
           }
          ],
          "scattergeo": [
           {
            "marker": {
             "colorbar": {
              "outlinewidth": 0,
              "ticks": ""
             }
            },
            "type": "scattergeo"
           }
          ],
          "scattergl": [
           {
            "marker": {
             "colorbar": {
              "outlinewidth": 0,
              "ticks": ""
             }
            },
            "type": "scattergl"
           }
          ],
          "scattermap": [
           {
            "marker": {
             "colorbar": {
              "outlinewidth": 0,
              "ticks": ""
             }
            },
            "type": "scattermap"
           }
          ],
          "scattermapbox": [
           {
            "marker": {
             "colorbar": {
              "outlinewidth": 0,
              "ticks": ""
             }
            },
            "type": "scattermapbox"
           }
          ],
          "scatterpolar": [
           {
            "marker": {
             "colorbar": {
              "outlinewidth": 0,
              "ticks": ""
             }
            },
            "type": "scatterpolar"
           }
          ],
          "scatterpolargl": [
           {
            "marker": {
             "colorbar": {
              "outlinewidth": 0,
              "ticks": ""
             }
            },
            "type": "scatterpolargl"
           }
          ],
          "scatterternary": [
           {
            "marker": {
             "colorbar": {
              "outlinewidth": 0,
              "ticks": ""
             }
            },
            "type": "scatterternary"
           }
          ],
          "surface": [
           {
            "colorbar": {
             "outlinewidth": 0,
             "ticks": ""
            },
            "colorscale": [
             [
              0,
              "#0d0887"
             ],
             [
              0.1111111111111111,
              "#46039f"
             ],
             [
              0.2222222222222222,
              "#7201a8"
             ],
             [
              0.3333333333333333,
              "#9c179e"
             ],
             [
              0.4444444444444444,
              "#bd3786"
             ],
             [
              0.5555555555555556,
              "#d8576b"
             ],
             [
              0.6666666666666666,
              "#ed7953"
             ],
             [
              0.7777777777777778,
              "#fb9f3a"
             ],
             [
              0.8888888888888888,
              "#fdca26"
             ],
             [
              1,
              "#f0f921"
             ]
            ],
            "type": "surface"
           }
          ],
          "table": [
           {
            "cells": {
             "fill": {
              "color": "#EBF0F8"
             },
             "line": {
              "color": "white"
             }
            },
            "header": {
             "fill": {
              "color": "#C8D4E3"
             },
             "line": {
              "color": "white"
             }
            },
            "type": "table"
           }
          ]
         },
         "layout": {
          "annotationdefaults": {
           "arrowcolor": "#2a3f5f",
           "arrowhead": 0,
           "arrowwidth": 1
          },
          "autotypenumbers": "strict",
          "coloraxis": {
           "colorbar": {
            "outlinewidth": 0,
            "ticks": ""
           }
          },
          "colorscale": {
           "diverging": [
            [
             0,
             "#8e0152"
            ],
            [
             0.1,
             "#c51b7d"
            ],
            [
             0.2,
             "#de77ae"
            ],
            [
             0.3,
             "#f1b6da"
            ],
            [
             0.4,
             "#fde0ef"
            ],
            [
             0.5,
             "#f7f7f7"
            ],
            [
             0.6,
             "#e6f5d0"
            ],
            [
             0.7,
             "#b8e186"
            ],
            [
             0.8,
             "#7fbc41"
            ],
            [
             0.9,
             "#4d9221"
            ],
            [
             1,
             "#276419"
            ]
           ],
           "sequential": [
            [
             0,
             "#0d0887"
            ],
            [
             0.1111111111111111,
             "#46039f"
            ],
            [
             0.2222222222222222,
             "#7201a8"
            ],
            [
             0.3333333333333333,
             "#9c179e"
            ],
            [
             0.4444444444444444,
             "#bd3786"
            ],
            [
             0.5555555555555556,
             "#d8576b"
            ],
            [
             0.6666666666666666,
             "#ed7953"
            ],
            [
             0.7777777777777778,
             "#fb9f3a"
            ],
            [
             0.8888888888888888,
             "#fdca26"
            ],
            [
             1,
             "#f0f921"
            ]
           ],
           "sequentialminus": [
            [
             0,
             "#0d0887"
            ],
            [
             0.1111111111111111,
             "#46039f"
            ],
            [
             0.2222222222222222,
             "#7201a8"
            ],
            [
             0.3333333333333333,
             "#9c179e"
            ],
            [
             0.4444444444444444,
             "#bd3786"
            ],
            [
             0.5555555555555556,
             "#d8576b"
            ],
            [
             0.6666666666666666,
             "#ed7953"
            ],
            [
             0.7777777777777778,
             "#fb9f3a"
            ],
            [
             0.8888888888888888,
             "#fdca26"
            ],
            [
             1,
             "#f0f921"
            ]
           ]
          },
          "colorway": [
           "#636efa",
           "#EF553B",
           "#00cc96",
           "#ab63fa",
           "#FFA15A",
           "#19d3f3",
           "#FF6692",
           "#B6E880",
           "#FF97FF",
           "#FECB52"
          ],
          "font": {
           "color": "#2a3f5f"
          },
          "geo": {
           "bgcolor": "white",
           "lakecolor": "white",
           "landcolor": "#E5ECF6",
           "showlakes": true,
           "showland": true,
           "subunitcolor": "white"
          },
          "hoverlabel": {
           "align": "left"
          },
          "hovermode": "closest",
          "mapbox": {
           "style": "light"
          },
          "paper_bgcolor": "white",
          "plot_bgcolor": "#E5ECF6",
          "polar": {
           "angularaxis": {
            "gridcolor": "white",
            "linecolor": "white",
            "ticks": ""
           },
           "bgcolor": "#E5ECF6",
           "radialaxis": {
            "gridcolor": "white",
            "linecolor": "white",
            "ticks": ""
           }
          },
          "scene": {
           "xaxis": {
            "backgroundcolor": "#E5ECF6",
            "gridcolor": "white",
            "gridwidth": 2,
            "linecolor": "white",
            "showbackground": true,
            "ticks": "",
            "zerolinecolor": "white"
           },
           "yaxis": {
            "backgroundcolor": "#E5ECF6",
            "gridcolor": "white",
            "gridwidth": 2,
            "linecolor": "white",
            "showbackground": true,
            "ticks": "",
            "zerolinecolor": "white"
           },
           "zaxis": {
            "backgroundcolor": "#E5ECF6",
            "gridcolor": "white",
            "gridwidth": 2,
            "linecolor": "white",
            "showbackground": true,
            "ticks": "",
            "zerolinecolor": "white"
           }
          },
          "shapedefaults": {
           "line": {
            "color": "#2a3f5f"
           }
          },
          "ternary": {
           "aaxis": {
            "gridcolor": "white",
            "linecolor": "white",
            "ticks": ""
           },
           "baxis": {
            "gridcolor": "white",
            "linecolor": "white",
            "ticks": ""
           },
           "bgcolor": "#E5ECF6",
           "caxis": {
            "gridcolor": "white",
            "linecolor": "white",
            "ticks": ""
           }
          },
          "title": {
           "x": 0.05
          },
          "xaxis": {
           "automargin": true,
           "gridcolor": "white",
           "linecolor": "white",
           "ticks": "",
           "title": {
            "standoff": 15
           },
           "zerolinecolor": "white",
           "zerolinewidth": 2
          },
          "yaxis": {
           "automargin": true,
           "gridcolor": "white",
           "linecolor": "white",
           "ticks": "",
           "title": {
            "standoff": 15
           },
           "zerolinecolor": "white",
           "zerolinewidth": 2
          }
         }
        },
        "title": {
         "text": "Зависимость кредитного рейтинга от заработной платы"
        },
        "width": 800,
        "xaxis": {
         "anchor": "y",
         "domain": [
          0,
          1
         ],
         "title": {
          "text": "Заработная плата, x10 тыс руб"
         }
        },
        "yaxis": {
         "anchor": "x",
         "domain": [
          0,
          1
         ],
         "title": {
          "text": "Кредитный рейтинг"
         }
        }
       }
      }
     },
     "metadata": {},
     "output_type": "display_data"
    }
   ],
   "source": [
    "# Выбираем нужные признаки\n",
    "tmp_df = churn_df[['CreditScore','EstimatedSalary','Exited','CustomerId']].copy()\n",
    "# Разбиваем на группы \n",
    "tmp_df[\"EstimatedSalary_5000\"] = round( tmp_df[\"EstimatedSalary\"] / 5000 ).astype(\"int\")\n",
    "\n",
    "# Готовим графику: имеем распределение первичных данных по группам, используем столбчатую диграмму\n",
    "# Находим среднее по рейтингу каждой группы и в зависимости от статуса\n",
    "df = tmp_df.pivot_table(\n",
    "    index = \"EstimatedSalary_5000\",\n",
    "    columns = \"Exited\",\n",
    "    values = \"CreditScore\",\n",
    "    aggfunc = \"mean\"\n",
    ")\n",
    "# Находим среднее по рейтингу каждой группы и без привязки к статусу\n",
    "df_itog = tmp_df.groupby( \"EstimatedSalary_5000\" )[\"CreditScore\"].mean()\n",
    "# Склеиваем наборы данных\n",
    "df = df.merge( df_itog, how = \"inner\", left_on = \"EstimatedSalary_5000\", right_on = \"EstimatedSalary_5000\" )\n",
    "# Переименовываем \n",
    "df = df.rename( columns = { 0: \"Приток\", 1: \"Отток\", \"CreditScore\": \"Итог\" }) \n",
    "\n",
    "# Готовим графику: имеем распределение рейтинга по группам заработной платы, используем линейный график\n",
    "fig = px.line(\n",
    "    data_frame = df,\n",
    "    x = df.index,   # Ось x - Заработная плата\n",
    "    y = df.columns, # Ось y - Кредитный рейтинг\n",
    "    title = 'Зависимость кредитного рейтинга от заработной платы', #заголовок\n",
    "    width = 800,  # Ширина графика\n",
    "    height = 600, # Высота графика\n",
    "    markers = True,  # Границы отрезков отметим\n",
    "    labels = {'variable': 'Статус клиента: '} # Подпись на легенде\n",
    ")\n",
    "fig.update_layout(\n",
    "    yaxis_title = \"Кредитный рейтинг\", # Подпись оси y\n",
    "    xaxis_title = \"Заработная плата, x10 тыс руб\", # Подпись оси x\n",
    "    legend = dict( orientation = \"h\", x = 0, y = 150, title_font_family = \"Sitka Small\" ) # Сместим легенду воева вверх\n",
    ")\n",
    "fig.show() # Отображаем"
   ]
  },
  {
   "cell_type": "markdown",
   "id": "ec1953b5",
   "metadata": {},
   "source": [
    "Из графика видно, что кредитный рейтинг слабо зависит от заработной платы вне зависимости от статуса лояльности клиента"
   ]
  },
  {
   "cell_type": "markdown",
   "id": "8c9bd995",
   "metadata": {},
   "source": [
    "9.6. Кто чаще уходит, мужчины или женщины? Постройте график, который иллюстрирует это."
   ]
  },
  {
   "cell_type": "code",
   "execution_count": null,
   "id": "32f1e098",
   "metadata": {},
   "outputs": [
    {
     "data": {
      "application/vnd.plotly.v1+json": {
       "config": {
        "plotlyServerURL": "https://plot.ly"
       },
       "data": [
        {
         "hovertemplate": "Статус клиента: =Доля ушедших<br>Gender=%{x}<br>value=%{y}<extra></extra>",
         "legendgroup": "Доля ушедших",
         "marker": {
          "color": "red",
          "pattern": {
           "shape": ""
          }
         },
         "name": "Доля ушедших",
         "orientation": "v",
         "showlegend": true,
         "textposition": "auto",
         "texttemplate": "%{y}",
         "type": "bar",
         "x": [
          "Female",
          "Male"
         ],
         "xaxis": "x",
         "y": {
          "bdata": "GRA=",
          "dtype": "i1"
         },
         "yaxis": "y"
        },
        {
         "hovertemplate": "Статус клиента: =Доля лояльных<br>Gender=%{x}<br>value=%{y}<extra></extra>",
         "legendgroup": "Доля лояльных",
         "marker": {
          "color": "blue",
          "pattern": {
           "shape": ""
          }
         },
         "name": "Доля лояльных",
         "orientation": "v",
         "showlegend": true,
         "textposition": "auto",
         "texttemplate": "%{y}",
         "type": "bar",
         "x": [
          "Female",
          "Male"
         ],
         "xaxis": "x",
         "y": {
          "bdata": "S1Q=",
          "dtype": "i1"
         },
         "yaxis": "y"
        }
       ],
       "layout": {
        "barmode": "stack",
        "height": 400,
        "legend": {
         "orientation": "h",
         "title": {
          "font": {
           "family": "Sitka Small"
          },
          "text": "Статус клиента: "
         },
         "tracegroupgap": 0,
         "x": 0,
         "y": 150
        },
        "template": {
         "data": {
          "bar": [
           {
            "error_x": {
             "color": "#2a3f5f"
            },
            "error_y": {
             "color": "#2a3f5f"
            },
            "marker": {
             "line": {
              "color": "#E5ECF6",
              "width": 0.5
             },
             "pattern": {
              "fillmode": "overlay",
              "size": 10,
              "solidity": 0.2
             }
            },
            "type": "bar"
           }
          ],
          "barpolar": [
           {
            "marker": {
             "line": {
              "color": "#E5ECF6",
              "width": 0.5
             },
             "pattern": {
              "fillmode": "overlay",
              "size": 10,
              "solidity": 0.2
             }
            },
            "type": "barpolar"
           }
          ],
          "carpet": [
           {
            "aaxis": {
             "endlinecolor": "#2a3f5f",
             "gridcolor": "white",
             "linecolor": "white",
             "minorgridcolor": "white",
             "startlinecolor": "#2a3f5f"
            },
            "baxis": {
             "endlinecolor": "#2a3f5f",
             "gridcolor": "white",
             "linecolor": "white",
             "minorgridcolor": "white",
             "startlinecolor": "#2a3f5f"
            },
            "type": "carpet"
           }
          ],
          "choropleth": [
           {
            "colorbar": {
             "outlinewidth": 0,
             "ticks": ""
            },
            "type": "choropleth"
           }
          ],
          "contour": [
           {
            "colorbar": {
             "outlinewidth": 0,
             "ticks": ""
            },
            "colorscale": [
             [
              0,
              "#0d0887"
             ],
             [
              0.1111111111111111,
              "#46039f"
             ],
             [
              0.2222222222222222,
              "#7201a8"
             ],
             [
              0.3333333333333333,
              "#9c179e"
             ],
             [
              0.4444444444444444,
              "#bd3786"
             ],
             [
              0.5555555555555556,
              "#d8576b"
             ],
             [
              0.6666666666666666,
              "#ed7953"
             ],
             [
              0.7777777777777778,
              "#fb9f3a"
             ],
             [
              0.8888888888888888,
              "#fdca26"
             ],
             [
              1,
              "#f0f921"
             ]
            ],
            "type": "contour"
           }
          ],
          "contourcarpet": [
           {
            "colorbar": {
             "outlinewidth": 0,
             "ticks": ""
            },
            "type": "contourcarpet"
           }
          ],
          "heatmap": [
           {
            "colorbar": {
             "outlinewidth": 0,
             "ticks": ""
            },
            "colorscale": [
             [
              0,
              "#0d0887"
             ],
             [
              0.1111111111111111,
              "#46039f"
             ],
             [
              0.2222222222222222,
              "#7201a8"
             ],
             [
              0.3333333333333333,
              "#9c179e"
             ],
             [
              0.4444444444444444,
              "#bd3786"
             ],
             [
              0.5555555555555556,
              "#d8576b"
             ],
             [
              0.6666666666666666,
              "#ed7953"
             ],
             [
              0.7777777777777778,
              "#fb9f3a"
             ],
             [
              0.8888888888888888,
              "#fdca26"
             ],
             [
              1,
              "#f0f921"
             ]
            ],
            "type": "heatmap"
           }
          ],
          "histogram": [
           {
            "marker": {
             "pattern": {
              "fillmode": "overlay",
              "size": 10,
              "solidity": 0.2
             }
            },
            "type": "histogram"
           }
          ],
          "histogram2d": [
           {
            "colorbar": {
             "outlinewidth": 0,
             "ticks": ""
            },
            "colorscale": [
             [
              0,
              "#0d0887"
             ],
             [
              0.1111111111111111,
              "#46039f"
             ],
             [
              0.2222222222222222,
              "#7201a8"
             ],
             [
              0.3333333333333333,
              "#9c179e"
             ],
             [
              0.4444444444444444,
              "#bd3786"
             ],
             [
              0.5555555555555556,
              "#d8576b"
             ],
             [
              0.6666666666666666,
              "#ed7953"
             ],
             [
              0.7777777777777778,
              "#fb9f3a"
             ],
             [
              0.8888888888888888,
              "#fdca26"
             ],
             [
              1,
              "#f0f921"
             ]
            ],
            "type": "histogram2d"
           }
          ],
          "histogram2dcontour": [
           {
            "colorbar": {
             "outlinewidth": 0,
             "ticks": ""
            },
            "colorscale": [
             [
              0,
              "#0d0887"
             ],
             [
              0.1111111111111111,
              "#46039f"
             ],
             [
              0.2222222222222222,
              "#7201a8"
             ],
             [
              0.3333333333333333,
              "#9c179e"
             ],
             [
              0.4444444444444444,
              "#bd3786"
             ],
             [
              0.5555555555555556,
              "#d8576b"
             ],
             [
              0.6666666666666666,
              "#ed7953"
             ],
             [
              0.7777777777777778,
              "#fb9f3a"
             ],
             [
              0.8888888888888888,
              "#fdca26"
             ],
             [
              1,
              "#f0f921"
             ]
            ],
            "type": "histogram2dcontour"
           }
          ],
          "mesh3d": [
           {
            "colorbar": {
             "outlinewidth": 0,
             "ticks": ""
            },
            "type": "mesh3d"
           }
          ],
          "parcoords": [
           {
            "line": {
             "colorbar": {
              "outlinewidth": 0,
              "ticks": ""
             }
            },
            "type": "parcoords"
           }
          ],
          "pie": [
           {
            "automargin": true,
            "type": "pie"
           }
          ],
          "scatter": [
           {
            "fillpattern": {
             "fillmode": "overlay",
             "size": 10,
             "solidity": 0.2
            },
            "type": "scatter"
           }
          ],
          "scatter3d": [
           {
            "line": {
             "colorbar": {
              "outlinewidth": 0,
              "ticks": ""
             }
            },
            "marker": {
             "colorbar": {
              "outlinewidth": 0,
              "ticks": ""
             }
            },
            "type": "scatter3d"
           }
          ],
          "scattercarpet": [
           {
            "marker": {
             "colorbar": {
              "outlinewidth": 0,
              "ticks": ""
             }
            },
            "type": "scattercarpet"
           }
          ],
          "scattergeo": [
           {
            "marker": {
             "colorbar": {
              "outlinewidth": 0,
              "ticks": ""
             }
            },
            "type": "scattergeo"
           }
          ],
          "scattergl": [
           {
            "marker": {
             "colorbar": {
              "outlinewidth": 0,
              "ticks": ""
             }
            },
            "type": "scattergl"
           }
          ],
          "scattermap": [
           {
            "marker": {
             "colorbar": {
              "outlinewidth": 0,
              "ticks": ""
             }
            },
            "type": "scattermap"
           }
          ],
          "scattermapbox": [
           {
            "marker": {
             "colorbar": {
              "outlinewidth": 0,
              "ticks": ""
             }
            },
            "type": "scattermapbox"
           }
          ],
          "scatterpolar": [
           {
            "marker": {
             "colorbar": {
              "outlinewidth": 0,
              "ticks": ""
             }
            },
            "type": "scatterpolar"
           }
          ],
          "scatterpolargl": [
           {
            "marker": {
             "colorbar": {
              "outlinewidth": 0,
              "ticks": ""
             }
            },
            "type": "scatterpolargl"
           }
          ],
          "scatterternary": [
           {
            "marker": {
             "colorbar": {
              "outlinewidth": 0,
              "ticks": ""
             }
            },
            "type": "scatterternary"
           }
          ],
          "surface": [
           {
            "colorbar": {
             "outlinewidth": 0,
             "ticks": ""
            },
            "colorscale": [
             [
              0,
              "#0d0887"
             ],
             [
              0.1111111111111111,
              "#46039f"
             ],
             [
              0.2222222222222222,
              "#7201a8"
             ],
             [
              0.3333333333333333,
              "#9c179e"
             ],
             [
              0.4444444444444444,
              "#bd3786"
             ],
             [
              0.5555555555555556,
              "#d8576b"
             ],
             [
              0.6666666666666666,
              "#ed7953"
             ],
             [
              0.7777777777777778,
              "#fb9f3a"
             ],
             [
              0.8888888888888888,
              "#fdca26"
             ],
             [
              1,
              "#f0f921"
             ]
            ],
            "type": "surface"
           }
          ],
          "table": [
           {
            "cells": {
             "fill": {
              "color": "#EBF0F8"
             },
             "line": {
              "color": "white"
             }
            },
            "header": {
             "fill": {
              "color": "#C8D4E3"
             },
             "line": {
              "color": "white"
             }
            },
            "type": "table"
           }
          ]
         },
         "layout": {
          "annotationdefaults": {
           "arrowcolor": "#2a3f5f",
           "arrowhead": 0,
           "arrowwidth": 1
          },
          "autotypenumbers": "strict",
          "coloraxis": {
           "colorbar": {
            "outlinewidth": 0,
            "ticks": ""
           }
          },
          "colorscale": {
           "diverging": [
            [
             0,
             "#8e0152"
            ],
            [
             0.1,
             "#c51b7d"
            ],
            [
             0.2,
             "#de77ae"
            ],
            [
             0.3,
             "#f1b6da"
            ],
            [
             0.4,
             "#fde0ef"
            ],
            [
             0.5,
             "#f7f7f7"
            ],
            [
             0.6,
             "#e6f5d0"
            ],
            [
             0.7,
             "#b8e186"
            ],
            [
             0.8,
             "#7fbc41"
            ],
            [
             0.9,
             "#4d9221"
            ],
            [
             1,
             "#276419"
            ]
           ],
           "sequential": [
            [
             0,
             "#0d0887"
            ],
            [
             0.1111111111111111,
             "#46039f"
            ],
            [
             0.2222222222222222,
             "#7201a8"
            ],
            [
             0.3333333333333333,
             "#9c179e"
            ],
            [
             0.4444444444444444,
             "#bd3786"
            ],
            [
             0.5555555555555556,
             "#d8576b"
            ],
            [
             0.6666666666666666,
             "#ed7953"
            ],
            [
             0.7777777777777778,
             "#fb9f3a"
            ],
            [
             0.8888888888888888,
             "#fdca26"
            ],
            [
             1,
             "#f0f921"
            ]
           ],
           "sequentialminus": [
            [
             0,
             "#0d0887"
            ],
            [
             0.1111111111111111,
             "#46039f"
            ],
            [
             0.2222222222222222,
             "#7201a8"
            ],
            [
             0.3333333333333333,
             "#9c179e"
            ],
            [
             0.4444444444444444,
             "#bd3786"
            ],
            [
             0.5555555555555556,
             "#d8576b"
            ],
            [
             0.6666666666666666,
             "#ed7953"
            ],
            [
             0.7777777777777778,
             "#fb9f3a"
            ],
            [
             0.8888888888888888,
             "#fdca26"
            ],
            [
             1,
             "#f0f921"
            ]
           ]
          },
          "colorway": [
           "#636efa",
           "#EF553B",
           "#00cc96",
           "#ab63fa",
           "#FFA15A",
           "#19d3f3",
           "#FF6692",
           "#B6E880",
           "#FF97FF",
           "#FECB52"
          ],
          "font": {
           "color": "#2a3f5f"
          },
          "geo": {
           "bgcolor": "white",
           "lakecolor": "white",
           "landcolor": "#E5ECF6",
           "showlakes": true,
           "showland": true,
           "subunitcolor": "white"
          },
          "hoverlabel": {
           "align": "left"
          },
          "hovermode": "closest",
          "mapbox": {
           "style": "light"
          },
          "paper_bgcolor": "white",
          "plot_bgcolor": "#E5ECF6",
          "polar": {
           "angularaxis": {
            "gridcolor": "white",
            "linecolor": "white",
            "ticks": ""
           },
           "bgcolor": "#E5ECF6",
           "radialaxis": {
            "gridcolor": "white",
            "linecolor": "white",
            "ticks": ""
           }
          },
          "scene": {
           "xaxis": {
            "backgroundcolor": "#E5ECF6",
            "gridcolor": "white",
            "gridwidth": 2,
            "linecolor": "white",
            "showbackground": true,
            "ticks": "",
            "zerolinecolor": "white"
           },
           "yaxis": {
            "backgroundcolor": "#E5ECF6",
            "gridcolor": "white",
            "gridwidth": 2,
            "linecolor": "white",
            "showbackground": true,
            "ticks": "",
            "zerolinecolor": "white"
           },
           "zaxis": {
            "backgroundcolor": "#E5ECF6",
            "gridcolor": "white",
            "gridwidth": 2,
            "linecolor": "white",
            "showbackground": true,
            "ticks": "",
            "zerolinecolor": "white"
           }
          },
          "shapedefaults": {
           "line": {
            "color": "#2a3f5f"
           }
          },
          "ternary": {
           "aaxis": {
            "gridcolor": "white",
            "linecolor": "white",
            "ticks": ""
           },
           "baxis": {
            "gridcolor": "white",
            "linecolor": "white",
            "ticks": ""
           },
           "bgcolor": "#E5ECF6",
           "caxis": {
            "gridcolor": "white",
            "linecolor": "white",
            "ticks": ""
           }
          },
          "title": {
           "x": 0.05
          },
          "xaxis": {
           "automargin": true,
           "gridcolor": "white",
           "linecolor": "white",
           "ticks": "",
           "title": {
            "standoff": 15
           },
           "zerolinecolor": "white",
           "zerolinewidth": 2
          },
          "yaxis": {
           "automargin": true,
           "gridcolor": "white",
           "linecolor": "white",
           "ticks": "",
           "title": {
            "standoff": 15
           },
           "zerolinecolor": "white",
           "zerolinewidth": 2
          }
         }
        },
        "title": {
         "text": "Зависимость оттока от наличия пола клиента"
        },
        "width": 500,
        "xaxis": {
         "anchor": "y",
         "domain": [
          0,
          1
         ],
         "title": {
          "text": "Пол"
         }
        },
        "yaxis": {
         "anchor": "x",
         "domain": [
          0,
          1
         ],
         "title": {
          "text": "% от общего количества клиентов"
         }
        }
       }
      }
     },
     "metadata": {},
     "output_type": "display_data"
    }
   ],
   "source": [
    "tmp_df = churn_df[['Exited',\"Gender\"]].copy()\n",
    "\n",
    "# Пычисляем процентные доли по группам\n",
    "df = (churn_df.pivot_table(\n",
    "    index = \"Gender\",\n",
    "    values = \"Exited\",\n",
    "    aggfunc = 'mean'\n",
    ") * 100).round().astype( int )\n",
    "df[\"NotExited\"] = 100 - df[\"Exited\"]\n",
    "df = df.rename( columns = {\"Exited\": \"Доля ушедших\", \"NotExited\": \"Доля лояльных\",  }) # Отразятся в легенде\n",
    "\n",
    "# Готовим графику: имеем распределение по категориям, используем столбчатую диграмму\n",
    "fig = px.bar( \n",
    "    data_frame = df, \n",
    "    x = df.index,   # Ось x - Пол\n",
    "    y = df.columns, # Ось y - Проценты от общего количества в группе\n",
    "    barmode = 'stack', # Вертикальное расположени е групп\n",
    "    title = 'Зависимость оттока от наличия пола клиента',\n",
    "    width = 500,  # Ширина графика\n",
    "    height = 400, # Высота графика\n",
    "    color_discrete_map = { \"Доля ушедших\": \"red\", \"Доля лояльных\": \"blue\" },\n",
    "    text_auto = True,\n",
    "    labels = {'variable': 'Статус клиента: '} # Подпись на легенде\n",
    ")  \n",
    "fig.update_layout(\n",
    "    xaxis_title='Пол',\n",
    "    yaxis_title='% от общего количества клиентов',\n",
    "    legend = dict( orientation = \"h\", x = 0, y = 150, title_font_family = \"Sitka Small\" ) # Легенду расположим сверку слева\n",
    ")\n",
    "fig.show()"
   ]
  },
  {
   "cell_type": "markdown",
   "id": "1e995ea1",
   "metadata": {},
   "source": [
    "Видно, что мужчины уходят реже женщин"
   ]
  },
  {
   "cell_type": "markdown",
   "id": "f34b73a4",
   "metadata": {},
   "source": [
    "9.7. Как отток клиентов зависит от числа приобретённых у банка услуг? Для ответа на этот вопрос постройте многоуровневую столбчатую диаграмму."
   ]
  },
  {
   "cell_type": "code",
   "execution_count": null,
   "id": "0e62c9fc",
   "metadata": {},
   "outputs": [
    {
     "data": {
      "application/vnd.plotly.v1+json": {
       "config": {
        "plotlyServerURL": "https://plot.ly"
       },
       "data": [
        {
         "alignmentgroup": "True",
         "hovertemplate": "Статус клиента: =Доля лояльных<br>NumOfProducts=%{x}<br>value=%{y}<extra></extra>",
         "legendgroup": "Доля лояльных",
         "marker": {
          "color": "#636efa",
          "pattern": {
           "shape": ""
          }
         },
         "name": "Доля лояльных",
         "offsetgroup": "Доля лояльных",
         "orientation": "v",
         "showlegend": true,
         "textposition": "auto",
         "texttemplate": "%{y}",
         "type": "bar",
         "x": {
          "bdata": "AQIDBA==",
          "dtype": "i1"
         },
         "xaxis": "x",
         "y": {
          "bdata": "SFwRAA==",
          "dtype": "i1"
         },
         "yaxis": "y"
        },
        {
         "alignmentgroup": "True",
         "hovertemplate": "Статус клиента: =Доля ушедших<br>NumOfProducts=%{x}<br>value=%{y}<extra></extra>",
         "legendgroup": "Доля ушедших",
         "marker": {
          "color": "#EF553B",
          "pattern": {
           "shape": ""
          }
         },
         "name": "Доля ушедших",
         "offsetgroup": "Доля ушедших",
         "orientation": "v",
         "showlegend": true,
         "textposition": "auto",
         "texttemplate": "%{y}",
         "type": "bar",
         "x": {
          "bdata": "AQIDBA==",
          "dtype": "i1"
         },
         "xaxis": "x",
         "y": {
          "bdata": "HAhTZA==",
          "dtype": "i1"
         },
         "yaxis": "y"
        }
       ],
       "layout": {
        "barmode": "group",
        "height": 400,
        "legend": {
         "orientation": "h",
         "title": {
          "font": {
           "family": "Sitka Small"
          },
          "text": "Статус клиента: "
         },
         "tracegroupgap": 0,
         "x": 0,
         "y": 150
        },
        "template": {
         "data": {
          "bar": [
           {
            "error_x": {
             "color": "#2a3f5f"
            },
            "error_y": {
             "color": "#2a3f5f"
            },
            "marker": {
             "line": {
              "color": "#E5ECF6",
              "width": 0.5
             },
             "pattern": {
              "fillmode": "overlay",
              "size": 10,
              "solidity": 0.2
             }
            },
            "type": "bar"
           }
          ],
          "barpolar": [
           {
            "marker": {
             "line": {
              "color": "#E5ECF6",
              "width": 0.5
             },
             "pattern": {
              "fillmode": "overlay",
              "size": 10,
              "solidity": 0.2
             }
            },
            "type": "barpolar"
           }
          ],
          "carpet": [
           {
            "aaxis": {
             "endlinecolor": "#2a3f5f",
             "gridcolor": "white",
             "linecolor": "white",
             "minorgridcolor": "white",
             "startlinecolor": "#2a3f5f"
            },
            "baxis": {
             "endlinecolor": "#2a3f5f",
             "gridcolor": "white",
             "linecolor": "white",
             "minorgridcolor": "white",
             "startlinecolor": "#2a3f5f"
            },
            "type": "carpet"
           }
          ],
          "choropleth": [
           {
            "colorbar": {
             "outlinewidth": 0,
             "ticks": ""
            },
            "type": "choropleth"
           }
          ],
          "contour": [
           {
            "colorbar": {
             "outlinewidth": 0,
             "ticks": ""
            },
            "colorscale": [
             [
              0,
              "#0d0887"
             ],
             [
              0.1111111111111111,
              "#46039f"
             ],
             [
              0.2222222222222222,
              "#7201a8"
             ],
             [
              0.3333333333333333,
              "#9c179e"
             ],
             [
              0.4444444444444444,
              "#bd3786"
             ],
             [
              0.5555555555555556,
              "#d8576b"
             ],
             [
              0.6666666666666666,
              "#ed7953"
             ],
             [
              0.7777777777777778,
              "#fb9f3a"
             ],
             [
              0.8888888888888888,
              "#fdca26"
             ],
             [
              1,
              "#f0f921"
             ]
            ],
            "type": "contour"
           }
          ],
          "contourcarpet": [
           {
            "colorbar": {
             "outlinewidth": 0,
             "ticks": ""
            },
            "type": "contourcarpet"
           }
          ],
          "heatmap": [
           {
            "colorbar": {
             "outlinewidth": 0,
             "ticks": ""
            },
            "colorscale": [
             [
              0,
              "#0d0887"
             ],
             [
              0.1111111111111111,
              "#46039f"
             ],
             [
              0.2222222222222222,
              "#7201a8"
             ],
             [
              0.3333333333333333,
              "#9c179e"
             ],
             [
              0.4444444444444444,
              "#bd3786"
             ],
             [
              0.5555555555555556,
              "#d8576b"
             ],
             [
              0.6666666666666666,
              "#ed7953"
             ],
             [
              0.7777777777777778,
              "#fb9f3a"
             ],
             [
              0.8888888888888888,
              "#fdca26"
             ],
             [
              1,
              "#f0f921"
             ]
            ],
            "type": "heatmap"
           }
          ],
          "histogram": [
           {
            "marker": {
             "pattern": {
              "fillmode": "overlay",
              "size": 10,
              "solidity": 0.2
             }
            },
            "type": "histogram"
           }
          ],
          "histogram2d": [
           {
            "colorbar": {
             "outlinewidth": 0,
             "ticks": ""
            },
            "colorscale": [
             [
              0,
              "#0d0887"
             ],
             [
              0.1111111111111111,
              "#46039f"
             ],
             [
              0.2222222222222222,
              "#7201a8"
             ],
             [
              0.3333333333333333,
              "#9c179e"
             ],
             [
              0.4444444444444444,
              "#bd3786"
             ],
             [
              0.5555555555555556,
              "#d8576b"
             ],
             [
              0.6666666666666666,
              "#ed7953"
             ],
             [
              0.7777777777777778,
              "#fb9f3a"
             ],
             [
              0.8888888888888888,
              "#fdca26"
             ],
             [
              1,
              "#f0f921"
             ]
            ],
            "type": "histogram2d"
           }
          ],
          "histogram2dcontour": [
           {
            "colorbar": {
             "outlinewidth": 0,
             "ticks": ""
            },
            "colorscale": [
             [
              0,
              "#0d0887"
             ],
             [
              0.1111111111111111,
              "#46039f"
             ],
             [
              0.2222222222222222,
              "#7201a8"
             ],
             [
              0.3333333333333333,
              "#9c179e"
             ],
             [
              0.4444444444444444,
              "#bd3786"
             ],
             [
              0.5555555555555556,
              "#d8576b"
             ],
             [
              0.6666666666666666,
              "#ed7953"
             ],
             [
              0.7777777777777778,
              "#fb9f3a"
             ],
             [
              0.8888888888888888,
              "#fdca26"
             ],
             [
              1,
              "#f0f921"
             ]
            ],
            "type": "histogram2dcontour"
           }
          ],
          "mesh3d": [
           {
            "colorbar": {
             "outlinewidth": 0,
             "ticks": ""
            },
            "type": "mesh3d"
           }
          ],
          "parcoords": [
           {
            "line": {
             "colorbar": {
              "outlinewidth": 0,
              "ticks": ""
             }
            },
            "type": "parcoords"
           }
          ],
          "pie": [
           {
            "automargin": true,
            "type": "pie"
           }
          ],
          "scatter": [
           {
            "fillpattern": {
             "fillmode": "overlay",
             "size": 10,
             "solidity": 0.2
            },
            "type": "scatter"
           }
          ],
          "scatter3d": [
           {
            "line": {
             "colorbar": {
              "outlinewidth": 0,
              "ticks": ""
             }
            },
            "marker": {
             "colorbar": {
              "outlinewidth": 0,
              "ticks": ""
             }
            },
            "type": "scatter3d"
           }
          ],
          "scattercarpet": [
           {
            "marker": {
             "colorbar": {
              "outlinewidth": 0,
              "ticks": ""
             }
            },
            "type": "scattercarpet"
           }
          ],
          "scattergeo": [
           {
            "marker": {
             "colorbar": {
              "outlinewidth": 0,
              "ticks": ""
             }
            },
            "type": "scattergeo"
           }
          ],
          "scattergl": [
           {
            "marker": {
             "colorbar": {
              "outlinewidth": 0,
              "ticks": ""
             }
            },
            "type": "scattergl"
           }
          ],
          "scattermap": [
           {
            "marker": {
             "colorbar": {
              "outlinewidth": 0,
              "ticks": ""
             }
            },
            "type": "scattermap"
           }
          ],
          "scattermapbox": [
           {
            "marker": {
             "colorbar": {
              "outlinewidth": 0,
              "ticks": ""
             }
            },
            "type": "scattermapbox"
           }
          ],
          "scatterpolar": [
           {
            "marker": {
             "colorbar": {
              "outlinewidth": 0,
              "ticks": ""
             }
            },
            "type": "scatterpolar"
           }
          ],
          "scatterpolargl": [
           {
            "marker": {
             "colorbar": {
              "outlinewidth": 0,
              "ticks": ""
             }
            },
            "type": "scatterpolargl"
           }
          ],
          "scatterternary": [
           {
            "marker": {
             "colorbar": {
              "outlinewidth": 0,
              "ticks": ""
             }
            },
            "type": "scatterternary"
           }
          ],
          "surface": [
           {
            "colorbar": {
             "outlinewidth": 0,
             "ticks": ""
            },
            "colorscale": [
             [
              0,
              "#0d0887"
             ],
             [
              0.1111111111111111,
              "#46039f"
             ],
             [
              0.2222222222222222,
              "#7201a8"
             ],
             [
              0.3333333333333333,
              "#9c179e"
             ],
             [
              0.4444444444444444,
              "#bd3786"
             ],
             [
              0.5555555555555556,
              "#d8576b"
             ],
             [
              0.6666666666666666,
              "#ed7953"
             ],
             [
              0.7777777777777778,
              "#fb9f3a"
             ],
             [
              0.8888888888888888,
              "#fdca26"
             ],
             [
              1,
              "#f0f921"
             ]
            ],
            "type": "surface"
           }
          ],
          "table": [
           {
            "cells": {
             "fill": {
              "color": "#EBF0F8"
             },
             "line": {
              "color": "white"
             }
            },
            "header": {
             "fill": {
              "color": "#C8D4E3"
             },
             "line": {
              "color": "white"
             }
            },
            "type": "table"
           }
          ]
         },
         "layout": {
          "annotationdefaults": {
           "arrowcolor": "#2a3f5f",
           "arrowhead": 0,
           "arrowwidth": 1
          },
          "autotypenumbers": "strict",
          "coloraxis": {
           "colorbar": {
            "outlinewidth": 0,
            "ticks": ""
           }
          },
          "colorscale": {
           "diverging": [
            [
             0,
             "#8e0152"
            ],
            [
             0.1,
             "#c51b7d"
            ],
            [
             0.2,
             "#de77ae"
            ],
            [
             0.3,
             "#f1b6da"
            ],
            [
             0.4,
             "#fde0ef"
            ],
            [
             0.5,
             "#f7f7f7"
            ],
            [
             0.6,
             "#e6f5d0"
            ],
            [
             0.7,
             "#b8e186"
            ],
            [
             0.8,
             "#7fbc41"
            ],
            [
             0.9,
             "#4d9221"
            ],
            [
             1,
             "#276419"
            ]
           ],
           "sequential": [
            [
             0,
             "#0d0887"
            ],
            [
             0.1111111111111111,
             "#46039f"
            ],
            [
             0.2222222222222222,
             "#7201a8"
            ],
            [
             0.3333333333333333,
             "#9c179e"
            ],
            [
             0.4444444444444444,
             "#bd3786"
            ],
            [
             0.5555555555555556,
             "#d8576b"
            ],
            [
             0.6666666666666666,
             "#ed7953"
            ],
            [
             0.7777777777777778,
             "#fb9f3a"
            ],
            [
             0.8888888888888888,
             "#fdca26"
            ],
            [
             1,
             "#f0f921"
            ]
           ],
           "sequentialminus": [
            [
             0,
             "#0d0887"
            ],
            [
             0.1111111111111111,
             "#46039f"
            ],
            [
             0.2222222222222222,
             "#7201a8"
            ],
            [
             0.3333333333333333,
             "#9c179e"
            ],
            [
             0.4444444444444444,
             "#bd3786"
            ],
            [
             0.5555555555555556,
             "#d8576b"
            ],
            [
             0.6666666666666666,
             "#ed7953"
            ],
            [
             0.7777777777777778,
             "#fb9f3a"
            ],
            [
             0.8888888888888888,
             "#fdca26"
            ],
            [
             1,
             "#f0f921"
            ]
           ]
          },
          "colorway": [
           "#636efa",
           "#EF553B",
           "#00cc96",
           "#ab63fa",
           "#FFA15A",
           "#19d3f3",
           "#FF6692",
           "#B6E880",
           "#FF97FF",
           "#FECB52"
          ],
          "font": {
           "color": "#2a3f5f"
          },
          "geo": {
           "bgcolor": "white",
           "lakecolor": "white",
           "landcolor": "#E5ECF6",
           "showlakes": true,
           "showland": true,
           "subunitcolor": "white"
          },
          "hoverlabel": {
           "align": "left"
          },
          "hovermode": "closest",
          "mapbox": {
           "style": "light"
          },
          "paper_bgcolor": "white",
          "plot_bgcolor": "#E5ECF6",
          "polar": {
           "angularaxis": {
            "gridcolor": "white",
            "linecolor": "white",
            "ticks": ""
           },
           "bgcolor": "#E5ECF6",
           "radialaxis": {
            "gridcolor": "white",
            "linecolor": "white",
            "ticks": ""
           }
          },
          "scene": {
           "xaxis": {
            "backgroundcolor": "#E5ECF6",
            "gridcolor": "white",
            "gridwidth": 2,
            "linecolor": "white",
            "showbackground": true,
            "ticks": "",
            "zerolinecolor": "white"
           },
           "yaxis": {
            "backgroundcolor": "#E5ECF6",
            "gridcolor": "white",
            "gridwidth": 2,
            "linecolor": "white",
            "showbackground": true,
            "ticks": "",
            "zerolinecolor": "white"
           },
           "zaxis": {
            "backgroundcolor": "#E5ECF6",
            "gridcolor": "white",
            "gridwidth": 2,
            "linecolor": "white",
            "showbackground": true,
            "ticks": "",
            "zerolinecolor": "white"
           }
          },
          "shapedefaults": {
           "line": {
            "color": "#2a3f5f"
           }
          },
          "ternary": {
           "aaxis": {
            "gridcolor": "white",
            "linecolor": "white",
            "ticks": ""
           },
           "baxis": {
            "gridcolor": "white",
            "linecolor": "white",
            "ticks": ""
           },
           "bgcolor": "#E5ECF6",
           "caxis": {
            "gridcolor": "white",
            "linecolor": "white",
            "ticks": ""
           }
          },
          "title": {
           "x": 0.05
          },
          "xaxis": {
           "automargin": true,
           "gridcolor": "white",
           "linecolor": "white",
           "ticks": "",
           "title": {
            "standoff": 15
           },
           "zerolinecolor": "white",
           "zerolinewidth": 2
          },
          "yaxis": {
           "automargin": true,
           "gridcolor": "white",
           "linecolor": "white",
           "ticks": "",
           "title": {
            "standoff": 15
           },
           "zerolinecolor": "white",
           "zerolinewidth": 2
          }
         }
        },
        "title": {
         "text": "Зависимость оттока клиентов от количества услуг"
        },
        "width": 500,
        "xaxis": {
         "anchor": "y",
         "domain": [
          0,
          1
         ],
         "title": {
          "text": "Количество услуг"
         }
        },
        "yaxis": {
         "anchor": "x",
         "domain": [
          0,
          1
         ],
         "title": {
          "text": "% от общего количества клиентов"
         }
        }
       }
      }
     },
     "metadata": {},
     "output_type": "display_data"
    }
   ],
   "source": [
    "tmp_df = churn_df[[\"NumOfProducts\", 'Exited',\"CustomerId\"]].copy()\n",
    "df = tmp_df.pivot_table(\n",
    "    index = 'NumOfProducts',\n",
    "    columns = 'Exited',\n",
    "    values = 'CustomerId',\n",
    "    fill_value = 0,\n",
    "    aggfunc = 'count'    \n",
    ")\n",
    "\n",
    "df = df.rename( columns = {1: \"Ушедшие\", 0: \"Лояльные\"})\n",
    "df[\"Доля ушедших\"] = (df[\"Ушедшие\"] * 100 / (df[\"Лояльные\"] + df[\"Ушедшие\"])).round().astype( int )\n",
    "df[\"Доля лояльных\"] = 100 - df[\"Доля ушедших\"] \n",
    "\n",
    "# Готовим графику: имеем распределение по группам - годы, используем столбчатую диграмму\n",
    "fig = px.bar( \n",
    "    data_frame = df, \n",
    "    x = df.index, # Ось x - Количество услуг\n",
    "    y = ['Доля лояльных', 'Доля ушедших'],  # Ось y - Процентная доля в группе\n",
    "    barmode ='group', # Группы расположены по горизонтали\n",
    "    title = 'Зависимость оттока клиентов от количества услуг',\n",
    "    labels = {'variable': 'Статус клиента: '}, # Подпись на легенде\n",
    "    width = 500,  # Ширина графика\n",
    "    height = 400, # Высота графика\n",
    "    text_auto = True,\n",
    ")  \n",
    "fig.update_layout(\n",
    "    xaxis_title = 'Количество услуг',\n",
    "    yaxis_title = '% от общего количества клиентов',\n",
    "    legend = dict(orientation = \"h\", x = 0, y = 150, title_font_family = \"Sitka Small\" ) # Легенду расположим сверку слева\n",
    ")\n",
    "fig.show()"
   ]
  },
  {
   "cell_type": "markdown",
   "id": "a77007e9",
   "metadata": {},
   "source": [
    "Минимум оттока клиентов наблюдлается при 2х услугах у клиента. "
   ]
  },
  {
   "cell_type": "markdown",
   "id": "77d78497",
   "metadata": {},
   "source": [
    "9.8. Как влияет наличие статуса активного клиента на отток клиентов? Постройте диаграмму, иллюстрирующую это. Что бы вы предложили банку, чтобы уменьшить отток клиентов среди неактивных?"
   ]
  },
  {
   "cell_type": "code",
   "execution_count": null,
   "id": "95891088",
   "metadata": {},
   "outputs": [
    {
     "data": {
      "application/vnd.plotly.v1+json": {
       "config": {
        "plotlyServerURL": "https://plot.ly"
       },
       "data": [
        {
         "alignmentgroup": "True",
         "hovertemplate": "Статус клиента: =Доля лояльных<br>IsActiveMember=%{x}<br>value=%{y}<extra></extra>",
         "legendgroup": "Доля лояльных",
         "marker": {
          "color": "#636efa",
          "pattern": {
           "shape": ""
          }
         },
         "name": "Доля лояльных",
         "offsetgroup": "Доля лояльных",
         "orientation": "v",
         "showlegend": true,
         "textposition": "auto",
         "texttemplate": "%{y}",
         "type": "bar",
         "x": {
          "bdata": "AAE=",
          "dtype": "i1"
         },
         "xaxis": "x",
         "y": {
          "bdata": "SVY=",
          "dtype": "i1"
         },
         "yaxis": "y"
        },
        {
         "alignmentgroup": "True",
         "hovertemplate": "Статус клиента: =Доля ушедших<br>IsActiveMember=%{x}<br>value=%{y}<extra></extra>",
         "legendgroup": "Доля ушедших",
         "marker": {
          "color": "#EF553B",
          "pattern": {
           "shape": ""
          }
         },
         "name": "Доля ушедших",
         "offsetgroup": "Доля ушедших",
         "orientation": "v",
         "showlegend": true,
         "textposition": "auto",
         "texttemplate": "%{y}",
         "type": "bar",
         "x": {
          "bdata": "AAE=",
          "dtype": "i1"
         },
         "xaxis": "x",
         "y": {
          "bdata": "Gw4=",
          "dtype": "i1"
         },
         "yaxis": "y"
        }
       ],
       "layout": {
        "barmode": "group",
        "height": 400,
        "legend": {
         "orientation": "h",
         "title": {
          "font": {
           "family": "Sitka Small"
          },
          "text": "Статус клиента: "
         },
         "tracegroupgap": 0,
         "x": 0,
         "y": 150
        },
        "template": {
         "data": {
          "bar": [
           {
            "error_x": {
             "color": "#2a3f5f"
            },
            "error_y": {
             "color": "#2a3f5f"
            },
            "marker": {
             "line": {
              "color": "#E5ECF6",
              "width": 0.5
             },
             "pattern": {
              "fillmode": "overlay",
              "size": 10,
              "solidity": 0.2
             }
            },
            "type": "bar"
           }
          ],
          "barpolar": [
           {
            "marker": {
             "line": {
              "color": "#E5ECF6",
              "width": 0.5
             },
             "pattern": {
              "fillmode": "overlay",
              "size": 10,
              "solidity": 0.2
             }
            },
            "type": "barpolar"
           }
          ],
          "carpet": [
           {
            "aaxis": {
             "endlinecolor": "#2a3f5f",
             "gridcolor": "white",
             "linecolor": "white",
             "minorgridcolor": "white",
             "startlinecolor": "#2a3f5f"
            },
            "baxis": {
             "endlinecolor": "#2a3f5f",
             "gridcolor": "white",
             "linecolor": "white",
             "minorgridcolor": "white",
             "startlinecolor": "#2a3f5f"
            },
            "type": "carpet"
           }
          ],
          "choropleth": [
           {
            "colorbar": {
             "outlinewidth": 0,
             "ticks": ""
            },
            "type": "choropleth"
           }
          ],
          "contour": [
           {
            "colorbar": {
             "outlinewidth": 0,
             "ticks": ""
            },
            "colorscale": [
             [
              0,
              "#0d0887"
             ],
             [
              0.1111111111111111,
              "#46039f"
             ],
             [
              0.2222222222222222,
              "#7201a8"
             ],
             [
              0.3333333333333333,
              "#9c179e"
             ],
             [
              0.4444444444444444,
              "#bd3786"
             ],
             [
              0.5555555555555556,
              "#d8576b"
             ],
             [
              0.6666666666666666,
              "#ed7953"
             ],
             [
              0.7777777777777778,
              "#fb9f3a"
             ],
             [
              0.8888888888888888,
              "#fdca26"
             ],
             [
              1,
              "#f0f921"
             ]
            ],
            "type": "contour"
           }
          ],
          "contourcarpet": [
           {
            "colorbar": {
             "outlinewidth": 0,
             "ticks": ""
            },
            "type": "contourcarpet"
           }
          ],
          "heatmap": [
           {
            "colorbar": {
             "outlinewidth": 0,
             "ticks": ""
            },
            "colorscale": [
             [
              0,
              "#0d0887"
             ],
             [
              0.1111111111111111,
              "#46039f"
             ],
             [
              0.2222222222222222,
              "#7201a8"
             ],
             [
              0.3333333333333333,
              "#9c179e"
             ],
             [
              0.4444444444444444,
              "#bd3786"
             ],
             [
              0.5555555555555556,
              "#d8576b"
             ],
             [
              0.6666666666666666,
              "#ed7953"
             ],
             [
              0.7777777777777778,
              "#fb9f3a"
             ],
             [
              0.8888888888888888,
              "#fdca26"
             ],
             [
              1,
              "#f0f921"
             ]
            ],
            "type": "heatmap"
           }
          ],
          "histogram": [
           {
            "marker": {
             "pattern": {
              "fillmode": "overlay",
              "size": 10,
              "solidity": 0.2
             }
            },
            "type": "histogram"
           }
          ],
          "histogram2d": [
           {
            "colorbar": {
             "outlinewidth": 0,
             "ticks": ""
            },
            "colorscale": [
             [
              0,
              "#0d0887"
             ],
             [
              0.1111111111111111,
              "#46039f"
             ],
             [
              0.2222222222222222,
              "#7201a8"
             ],
             [
              0.3333333333333333,
              "#9c179e"
             ],
             [
              0.4444444444444444,
              "#bd3786"
             ],
             [
              0.5555555555555556,
              "#d8576b"
             ],
             [
              0.6666666666666666,
              "#ed7953"
             ],
             [
              0.7777777777777778,
              "#fb9f3a"
             ],
             [
              0.8888888888888888,
              "#fdca26"
             ],
             [
              1,
              "#f0f921"
             ]
            ],
            "type": "histogram2d"
           }
          ],
          "histogram2dcontour": [
           {
            "colorbar": {
             "outlinewidth": 0,
             "ticks": ""
            },
            "colorscale": [
             [
              0,
              "#0d0887"
             ],
             [
              0.1111111111111111,
              "#46039f"
             ],
             [
              0.2222222222222222,
              "#7201a8"
             ],
             [
              0.3333333333333333,
              "#9c179e"
             ],
             [
              0.4444444444444444,
              "#bd3786"
             ],
             [
              0.5555555555555556,
              "#d8576b"
             ],
             [
              0.6666666666666666,
              "#ed7953"
             ],
             [
              0.7777777777777778,
              "#fb9f3a"
             ],
             [
              0.8888888888888888,
              "#fdca26"
             ],
             [
              1,
              "#f0f921"
             ]
            ],
            "type": "histogram2dcontour"
           }
          ],
          "mesh3d": [
           {
            "colorbar": {
             "outlinewidth": 0,
             "ticks": ""
            },
            "type": "mesh3d"
           }
          ],
          "parcoords": [
           {
            "line": {
             "colorbar": {
              "outlinewidth": 0,
              "ticks": ""
             }
            },
            "type": "parcoords"
           }
          ],
          "pie": [
           {
            "automargin": true,
            "type": "pie"
           }
          ],
          "scatter": [
           {
            "fillpattern": {
             "fillmode": "overlay",
             "size": 10,
             "solidity": 0.2
            },
            "type": "scatter"
           }
          ],
          "scatter3d": [
           {
            "line": {
             "colorbar": {
              "outlinewidth": 0,
              "ticks": ""
             }
            },
            "marker": {
             "colorbar": {
              "outlinewidth": 0,
              "ticks": ""
             }
            },
            "type": "scatter3d"
           }
          ],
          "scattercarpet": [
           {
            "marker": {
             "colorbar": {
              "outlinewidth": 0,
              "ticks": ""
             }
            },
            "type": "scattercarpet"
           }
          ],
          "scattergeo": [
           {
            "marker": {
             "colorbar": {
              "outlinewidth": 0,
              "ticks": ""
             }
            },
            "type": "scattergeo"
           }
          ],
          "scattergl": [
           {
            "marker": {
             "colorbar": {
              "outlinewidth": 0,
              "ticks": ""
             }
            },
            "type": "scattergl"
           }
          ],
          "scattermap": [
           {
            "marker": {
             "colorbar": {
              "outlinewidth": 0,
              "ticks": ""
             }
            },
            "type": "scattermap"
           }
          ],
          "scattermapbox": [
           {
            "marker": {
             "colorbar": {
              "outlinewidth": 0,
              "ticks": ""
             }
            },
            "type": "scattermapbox"
           }
          ],
          "scatterpolar": [
           {
            "marker": {
             "colorbar": {
              "outlinewidth": 0,
              "ticks": ""
             }
            },
            "type": "scatterpolar"
           }
          ],
          "scatterpolargl": [
           {
            "marker": {
             "colorbar": {
              "outlinewidth": 0,
              "ticks": ""
             }
            },
            "type": "scatterpolargl"
           }
          ],
          "scatterternary": [
           {
            "marker": {
             "colorbar": {
              "outlinewidth": 0,
              "ticks": ""
             }
            },
            "type": "scatterternary"
           }
          ],
          "surface": [
           {
            "colorbar": {
             "outlinewidth": 0,
             "ticks": ""
            },
            "colorscale": [
             [
              0,
              "#0d0887"
             ],
             [
              0.1111111111111111,
              "#46039f"
             ],
             [
              0.2222222222222222,
              "#7201a8"
             ],
             [
              0.3333333333333333,
              "#9c179e"
             ],
             [
              0.4444444444444444,
              "#bd3786"
             ],
             [
              0.5555555555555556,
              "#d8576b"
             ],
             [
              0.6666666666666666,
              "#ed7953"
             ],
             [
              0.7777777777777778,
              "#fb9f3a"
             ],
             [
              0.8888888888888888,
              "#fdca26"
             ],
             [
              1,
              "#f0f921"
             ]
            ],
            "type": "surface"
           }
          ],
          "table": [
           {
            "cells": {
             "fill": {
              "color": "#EBF0F8"
             },
             "line": {
              "color": "white"
             }
            },
            "header": {
             "fill": {
              "color": "#C8D4E3"
             },
             "line": {
              "color": "white"
             }
            },
            "type": "table"
           }
          ]
         },
         "layout": {
          "annotationdefaults": {
           "arrowcolor": "#2a3f5f",
           "arrowhead": 0,
           "arrowwidth": 1
          },
          "autotypenumbers": "strict",
          "coloraxis": {
           "colorbar": {
            "outlinewidth": 0,
            "ticks": ""
           }
          },
          "colorscale": {
           "diverging": [
            [
             0,
             "#8e0152"
            ],
            [
             0.1,
             "#c51b7d"
            ],
            [
             0.2,
             "#de77ae"
            ],
            [
             0.3,
             "#f1b6da"
            ],
            [
             0.4,
             "#fde0ef"
            ],
            [
             0.5,
             "#f7f7f7"
            ],
            [
             0.6,
             "#e6f5d0"
            ],
            [
             0.7,
             "#b8e186"
            ],
            [
             0.8,
             "#7fbc41"
            ],
            [
             0.9,
             "#4d9221"
            ],
            [
             1,
             "#276419"
            ]
           ],
           "sequential": [
            [
             0,
             "#0d0887"
            ],
            [
             0.1111111111111111,
             "#46039f"
            ],
            [
             0.2222222222222222,
             "#7201a8"
            ],
            [
             0.3333333333333333,
             "#9c179e"
            ],
            [
             0.4444444444444444,
             "#bd3786"
            ],
            [
             0.5555555555555556,
             "#d8576b"
            ],
            [
             0.6666666666666666,
             "#ed7953"
            ],
            [
             0.7777777777777778,
             "#fb9f3a"
            ],
            [
             0.8888888888888888,
             "#fdca26"
            ],
            [
             1,
             "#f0f921"
            ]
           ],
           "sequentialminus": [
            [
             0,
             "#0d0887"
            ],
            [
             0.1111111111111111,
             "#46039f"
            ],
            [
             0.2222222222222222,
             "#7201a8"
            ],
            [
             0.3333333333333333,
             "#9c179e"
            ],
            [
             0.4444444444444444,
             "#bd3786"
            ],
            [
             0.5555555555555556,
             "#d8576b"
            ],
            [
             0.6666666666666666,
             "#ed7953"
            ],
            [
             0.7777777777777778,
             "#fb9f3a"
            ],
            [
             0.8888888888888888,
             "#fdca26"
            ],
            [
             1,
             "#f0f921"
            ]
           ]
          },
          "colorway": [
           "#636efa",
           "#EF553B",
           "#00cc96",
           "#ab63fa",
           "#FFA15A",
           "#19d3f3",
           "#FF6692",
           "#B6E880",
           "#FF97FF",
           "#FECB52"
          ],
          "font": {
           "color": "#2a3f5f"
          },
          "geo": {
           "bgcolor": "white",
           "lakecolor": "white",
           "landcolor": "#E5ECF6",
           "showlakes": true,
           "showland": true,
           "subunitcolor": "white"
          },
          "hoverlabel": {
           "align": "left"
          },
          "hovermode": "closest",
          "mapbox": {
           "style": "light"
          },
          "paper_bgcolor": "white",
          "plot_bgcolor": "#E5ECF6",
          "polar": {
           "angularaxis": {
            "gridcolor": "white",
            "linecolor": "white",
            "ticks": ""
           },
           "bgcolor": "#E5ECF6",
           "radialaxis": {
            "gridcolor": "white",
            "linecolor": "white",
            "ticks": ""
           }
          },
          "scene": {
           "xaxis": {
            "backgroundcolor": "#E5ECF6",
            "gridcolor": "white",
            "gridwidth": 2,
            "linecolor": "white",
            "showbackground": true,
            "ticks": "",
            "zerolinecolor": "white"
           },
           "yaxis": {
            "backgroundcolor": "#E5ECF6",
            "gridcolor": "white",
            "gridwidth": 2,
            "linecolor": "white",
            "showbackground": true,
            "ticks": "",
            "zerolinecolor": "white"
           },
           "zaxis": {
            "backgroundcolor": "#E5ECF6",
            "gridcolor": "white",
            "gridwidth": 2,
            "linecolor": "white",
            "showbackground": true,
            "ticks": "",
            "zerolinecolor": "white"
           }
          },
          "shapedefaults": {
           "line": {
            "color": "#2a3f5f"
           }
          },
          "ternary": {
           "aaxis": {
            "gridcolor": "white",
            "linecolor": "white",
            "ticks": ""
           },
           "baxis": {
            "gridcolor": "white",
            "linecolor": "white",
            "ticks": ""
           },
           "bgcolor": "#E5ECF6",
           "caxis": {
            "gridcolor": "white",
            "linecolor": "white",
            "ticks": ""
           }
          },
          "title": {
           "x": 0.05
          },
          "xaxis": {
           "automargin": true,
           "gridcolor": "white",
           "linecolor": "white",
           "ticks": "",
           "title": {
            "standoff": 15
           },
           "zerolinecolor": "white",
           "zerolinewidth": 2
          },
          "yaxis": {
           "automargin": true,
           "gridcolor": "white",
           "linecolor": "white",
           "ticks": "",
           "title": {
            "standoff": 15
           },
           "zerolinecolor": "white",
           "zerolinewidth": 2
          }
         }
        },
        "title": {
         "text": "Зависимость оттока от наличия статуса активного клиента"
        },
        "width": 600,
        "xaxis": {
         "anchor": "y",
         "domain": [
          0,
          1
         ],
         "title": {
          "text": "Статус активного клиента"
         }
        },
        "yaxis": {
         "anchor": "x",
         "domain": [
          0,
          1
         ],
         "title": {
          "text": "% от общего количества клиентов"
         }
        }
       }
      }
     },
     "metadata": {},
     "output_type": "display_data"
    }
   ],
   "source": [
    "tmp_df = churn_df[['Exited',\"IsActiveMember\",\"CustomerId\"]].copy()\n",
    "df = tmp_df.pivot_table(\n",
    "    index = 'IsActiveMember',\n",
    "    columns='Exited',\n",
    "    values = 'CustomerId',\n",
    "    fill_value = 0,\n",
    "    aggfunc = 'count'    \n",
    ")\n",
    "df = df.rename( columns = {1: \"Ушедшие\", 0: \"Лояльные\"})\n",
    "# Вычислим процентные доли\n",
    "df[\"Доля ушедших\"] = (df[\"Ушедшие\"] * 100 / (df[\"Лояльные\"] + df[\"Ушедшие\"])).round().astype( int )\n",
    "df[\"Доля лояльных\"] = 100 - df[\"Доля ушедших\"] \n",
    "\n",
    "# Готовим графику: имеем распределение по группам - годы, используем столбчатую диграмму\n",
    "fig = px.bar( \n",
    "    data_frame = df, \n",
    "    x = df.index, # По оси x - Статус активного клиента\n",
    "    y = ['Доля лояльных', 'Доля ушедших'], \n",
    "    #text = ['Доля лояльных', 'Доля ушедших'], #текст на столбцах\n",
    "    barmode ='group',\n",
    "    title = 'Зависимость оттока от наличия статуса активного клиента',\n",
    "    width = 600,  # Ширина графика\n",
    "    height = 400, # Высота графика\n",
    "    text_auto = True, # Подписи величин\n",
    "    labels = {'variable': 'Статус клиента: '}, # Подпись на легенде\n",
    ")  \n",
    "fig.update_layout(\n",
    "    xaxis_title='Статус активного клиента',\n",
    "    yaxis_title='% от общего количества клиентов',\n",
    "    legend = dict(orientation = \"h\", x = 0, y = 150, title_font_family = \"Sitka Small\" ) # Легенду расположим сверку слева\n",
    ")\n",
    "fig.show()"
   ]
  },
  {
   "cell_type": "markdown",
   "id": "d802b7ac",
   "metadata": {},
   "source": [
    "Видно, что наличие статуса активного клиента снижает желание покануть банк"
   ]
  },
  {
   "cell_type": "markdown",
   "id": "8d38003e",
   "metadata": {},
   "source": [
    "9.9. В какой стране доля ушедших клиентов больше? Постройте тепловую картограмму, которая покажет это соотношение на карте мира. Предположите, с чем это может быть связано."
   ]
  },
  {
   "cell_type": "code",
   "execution_count": null,
   "id": "ff23ea6f",
   "metadata": {},
   "outputs": [
    {
     "data": {
      "application/vnd.plotly.v1+json": {
       "config": {
        "plotlyServerURL": "https://plot.ly"
       },
       "data": [
        {
         "coloraxis": "coloraxis",
         "geo": "geo",
         "hovertemplate": "locations=%{location}<br>Доля ушедших=%{z}<extra></extra>",
         "locationmode": "country names",
         "locations": [
          "Spain",
          "Germany",
          "France"
         ],
         "name": "",
         "type": "choropleth",
         "z": {
          "bdata": "ECAR",
          "dtype": "i1"
         }
        }
       ],
       "layout": {
        "coloraxis": {
         "cmax": 100,
         "cmin": 0,
         "colorbar": {
          "title": {
           "text": "Доля ушедших"
          }
         },
         "colorscale": [
          [
           0,
           "rgb(255,245,240)"
          ],
          [
           0.125,
           "rgb(254,224,210)"
          ],
          [
           0.25,
           "rgb(252,187,161)"
          ],
          [
           0.375,
           "rgb(252,146,114)"
          ],
          [
           0.5,
           "rgb(251,106,74)"
          ],
          [
           0.625,
           "rgb(239,59,44)"
          ],
          [
           0.75,
           "rgb(203,24,29)"
          ],
          [
           0.875,
           "rgb(165,15,21)"
          ],
          [
           1,
           "rgb(103,0,13)"
          ]
         ]
        },
        "geo": {
         "center": {},
         "domain": {
          "x": [
           0,
           1
          ],
          "y": [
           0,
           1
          ]
         },
         "scope": "europe"
        },
        "height": 500,
        "legend": {
         "tracegroupgap": 0
        },
        "template": {
         "data": {
          "bar": [
           {
            "error_x": {
             "color": "#2a3f5f"
            },
            "error_y": {
             "color": "#2a3f5f"
            },
            "marker": {
             "line": {
              "color": "#E5ECF6",
              "width": 0.5
             },
             "pattern": {
              "fillmode": "overlay",
              "size": 10,
              "solidity": 0.2
             }
            },
            "type": "bar"
           }
          ],
          "barpolar": [
           {
            "marker": {
             "line": {
              "color": "#E5ECF6",
              "width": 0.5
             },
             "pattern": {
              "fillmode": "overlay",
              "size": 10,
              "solidity": 0.2
             }
            },
            "type": "barpolar"
           }
          ],
          "carpet": [
           {
            "aaxis": {
             "endlinecolor": "#2a3f5f",
             "gridcolor": "white",
             "linecolor": "white",
             "minorgridcolor": "white",
             "startlinecolor": "#2a3f5f"
            },
            "baxis": {
             "endlinecolor": "#2a3f5f",
             "gridcolor": "white",
             "linecolor": "white",
             "minorgridcolor": "white",
             "startlinecolor": "#2a3f5f"
            },
            "type": "carpet"
           }
          ],
          "choropleth": [
           {
            "colorbar": {
             "outlinewidth": 0,
             "ticks": ""
            },
            "type": "choropleth"
           }
          ],
          "contour": [
           {
            "colorbar": {
             "outlinewidth": 0,
             "ticks": ""
            },
            "colorscale": [
             [
              0,
              "#0d0887"
             ],
             [
              0.1111111111111111,
              "#46039f"
             ],
             [
              0.2222222222222222,
              "#7201a8"
             ],
             [
              0.3333333333333333,
              "#9c179e"
             ],
             [
              0.4444444444444444,
              "#bd3786"
             ],
             [
              0.5555555555555556,
              "#d8576b"
             ],
             [
              0.6666666666666666,
              "#ed7953"
             ],
             [
              0.7777777777777778,
              "#fb9f3a"
             ],
             [
              0.8888888888888888,
              "#fdca26"
             ],
             [
              1,
              "#f0f921"
             ]
            ],
            "type": "contour"
           }
          ],
          "contourcarpet": [
           {
            "colorbar": {
             "outlinewidth": 0,
             "ticks": ""
            },
            "type": "contourcarpet"
           }
          ],
          "heatmap": [
           {
            "colorbar": {
             "outlinewidth": 0,
             "ticks": ""
            },
            "colorscale": [
             [
              0,
              "#0d0887"
             ],
             [
              0.1111111111111111,
              "#46039f"
             ],
             [
              0.2222222222222222,
              "#7201a8"
             ],
             [
              0.3333333333333333,
              "#9c179e"
             ],
             [
              0.4444444444444444,
              "#bd3786"
             ],
             [
              0.5555555555555556,
              "#d8576b"
             ],
             [
              0.6666666666666666,
              "#ed7953"
             ],
             [
              0.7777777777777778,
              "#fb9f3a"
             ],
             [
              0.8888888888888888,
              "#fdca26"
             ],
             [
              1,
              "#f0f921"
             ]
            ],
            "type": "heatmap"
           }
          ],
          "histogram": [
           {
            "marker": {
             "pattern": {
              "fillmode": "overlay",
              "size": 10,
              "solidity": 0.2
             }
            },
            "type": "histogram"
           }
          ],
          "histogram2d": [
           {
            "colorbar": {
             "outlinewidth": 0,
             "ticks": ""
            },
            "colorscale": [
             [
              0,
              "#0d0887"
             ],
             [
              0.1111111111111111,
              "#46039f"
             ],
             [
              0.2222222222222222,
              "#7201a8"
             ],
             [
              0.3333333333333333,
              "#9c179e"
             ],
             [
              0.4444444444444444,
              "#bd3786"
             ],
             [
              0.5555555555555556,
              "#d8576b"
             ],
             [
              0.6666666666666666,
              "#ed7953"
             ],
             [
              0.7777777777777778,
              "#fb9f3a"
             ],
             [
              0.8888888888888888,
              "#fdca26"
             ],
             [
              1,
              "#f0f921"
             ]
            ],
            "type": "histogram2d"
           }
          ],
          "histogram2dcontour": [
           {
            "colorbar": {
             "outlinewidth": 0,
             "ticks": ""
            },
            "colorscale": [
             [
              0,
              "#0d0887"
             ],
             [
              0.1111111111111111,
              "#46039f"
             ],
             [
              0.2222222222222222,
              "#7201a8"
             ],
             [
              0.3333333333333333,
              "#9c179e"
             ],
             [
              0.4444444444444444,
              "#bd3786"
             ],
             [
              0.5555555555555556,
              "#d8576b"
             ],
             [
              0.6666666666666666,
              "#ed7953"
             ],
             [
              0.7777777777777778,
              "#fb9f3a"
             ],
             [
              0.8888888888888888,
              "#fdca26"
             ],
             [
              1,
              "#f0f921"
             ]
            ],
            "type": "histogram2dcontour"
           }
          ],
          "mesh3d": [
           {
            "colorbar": {
             "outlinewidth": 0,
             "ticks": ""
            },
            "type": "mesh3d"
           }
          ],
          "parcoords": [
           {
            "line": {
             "colorbar": {
              "outlinewidth": 0,
              "ticks": ""
             }
            },
            "type": "parcoords"
           }
          ],
          "pie": [
           {
            "automargin": true,
            "type": "pie"
           }
          ],
          "scatter": [
           {
            "fillpattern": {
             "fillmode": "overlay",
             "size": 10,
             "solidity": 0.2
            },
            "type": "scatter"
           }
          ],
          "scatter3d": [
           {
            "line": {
             "colorbar": {
              "outlinewidth": 0,
              "ticks": ""
             }
            },
            "marker": {
             "colorbar": {
              "outlinewidth": 0,
              "ticks": ""
             }
            },
            "type": "scatter3d"
           }
          ],
          "scattercarpet": [
           {
            "marker": {
             "colorbar": {
              "outlinewidth": 0,
              "ticks": ""
             }
            },
            "type": "scattercarpet"
           }
          ],
          "scattergeo": [
           {
            "marker": {
             "colorbar": {
              "outlinewidth": 0,
              "ticks": ""
             }
            },
            "type": "scattergeo"
           }
          ],
          "scattergl": [
           {
            "marker": {
             "colorbar": {
              "outlinewidth": 0,
              "ticks": ""
             }
            },
            "type": "scattergl"
           }
          ],
          "scattermap": [
           {
            "marker": {
             "colorbar": {
              "outlinewidth": 0,
              "ticks": ""
             }
            },
            "type": "scattermap"
           }
          ],
          "scattermapbox": [
           {
            "marker": {
             "colorbar": {
              "outlinewidth": 0,
              "ticks": ""
             }
            },
            "type": "scattermapbox"
           }
          ],
          "scatterpolar": [
           {
            "marker": {
             "colorbar": {
              "outlinewidth": 0,
              "ticks": ""
             }
            },
            "type": "scatterpolar"
           }
          ],
          "scatterpolargl": [
           {
            "marker": {
             "colorbar": {
              "outlinewidth": 0,
              "ticks": ""
             }
            },
            "type": "scatterpolargl"
           }
          ],
          "scatterternary": [
           {
            "marker": {
             "colorbar": {
              "outlinewidth": 0,
              "ticks": ""
             }
            },
            "type": "scatterternary"
           }
          ],
          "surface": [
           {
            "colorbar": {
             "outlinewidth": 0,
             "ticks": ""
            },
            "colorscale": [
             [
              0,
              "#0d0887"
             ],
             [
              0.1111111111111111,
              "#46039f"
             ],
             [
              0.2222222222222222,
              "#7201a8"
             ],
             [
              0.3333333333333333,
              "#9c179e"
             ],
             [
              0.4444444444444444,
              "#bd3786"
             ],
             [
              0.5555555555555556,
              "#d8576b"
             ],
             [
              0.6666666666666666,
              "#ed7953"
             ],
             [
              0.7777777777777778,
              "#fb9f3a"
             ],
             [
              0.8888888888888888,
              "#fdca26"
             ],
             [
              1,
              "#f0f921"
             ]
            ],
            "type": "surface"
           }
          ],
          "table": [
           {
            "cells": {
             "fill": {
              "color": "#EBF0F8"
             },
             "line": {
              "color": "white"
             }
            },
            "header": {
             "fill": {
              "color": "#C8D4E3"
             },
             "line": {
              "color": "white"
             }
            },
            "type": "table"
           }
          ]
         },
         "layout": {
          "annotationdefaults": {
           "arrowcolor": "#2a3f5f",
           "arrowhead": 0,
           "arrowwidth": 1
          },
          "autotypenumbers": "strict",
          "coloraxis": {
           "colorbar": {
            "outlinewidth": 0,
            "ticks": ""
           }
          },
          "colorscale": {
           "diverging": [
            [
             0,
             "#8e0152"
            ],
            [
             0.1,
             "#c51b7d"
            ],
            [
             0.2,
             "#de77ae"
            ],
            [
             0.3,
             "#f1b6da"
            ],
            [
             0.4,
             "#fde0ef"
            ],
            [
             0.5,
             "#f7f7f7"
            ],
            [
             0.6,
             "#e6f5d0"
            ],
            [
             0.7,
             "#b8e186"
            ],
            [
             0.8,
             "#7fbc41"
            ],
            [
             0.9,
             "#4d9221"
            ],
            [
             1,
             "#276419"
            ]
           ],
           "sequential": [
            [
             0,
             "#0d0887"
            ],
            [
             0.1111111111111111,
             "#46039f"
            ],
            [
             0.2222222222222222,
             "#7201a8"
            ],
            [
             0.3333333333333333,
             "#9c179e"
            ],
            [
             0.4444444444444444,
             "#bd3786"
            ],
            [
             0.5555555555555556,
             "#d8576b"
            ],
            [
             0.6666666666666666,
             "#ed7953"
            ],
            [
             0.7777777777777778,
             "#fb9f3a"
            ],
            [
             0.8888888888888888,
             "#fdca26"
            ],
            [
             1,
             "#f0f921"
            ]
           ],
           "sequentialminus": [
            [
             0,
             "#0d0887"
            ],
            [
             0.1111111111111111,
             "#46039f"
            ],
            [
             0.2222222222222222,
             "#7201a8"
            ],
            [
             0.3333333333333333,
             "#9c179e"
            ],
            [
             0.4444444444444444,
             "#bd3786"
            ],
            [
             0.5555555555555556,
             "#d8576b"
            ],
            [
             0.6666666666666666,
             "#ed7953"
            ],
            [
             0.7777777777777778,
             "#fb9f3a"
            ],
            [
             0.8888888888888888,
             "#fdca26"
            ],
            [
             1,
             "#f0f921"
            ]
           ]
          },
          "colorway": [
           "#636efa",
           "#EF553B",
           "#00cc96",
           "#ab63fa",
           "#FFA15A",
           "#19d3f3",
           "#FF6692",
           "#B6E880",
           "#FF97FF",
           "#FECB52"
          ],
          "font": {
           "color": "#2a3f5f"
          },
          "geo": {
           "bgcolor": "white",
           "lakecolor": "white",
           "landcolor": "#E5ECF6",
           "showlakes": true,
           "showland": true,
           "subunitcolor": "white"
          },
          "hoverlabel": {
           "align": "left"
          },
          "hovermode": "closest",
          "mapbox": {
           "style": "light"
          },
          "paper_bgcolor": "white",
          "plot_bgcolor": "#E5ECF6",
          "polar": {
           "angularaxis": {
            "gridcolor": "white",
            "linecolor": "white",
            "ticks": ""
           },
           "bgcolor": "#E5ECF6",
           "radialaxis": {
            "gridcolor": "white",
            "linecolor": "white",
            "ticks": ""
           }
          },
          "scene": {
           "xaxis": {
            "backgroundcolor": "#E5ECF6",
            "gridcolor": "white",
            "gridwidth": 2,
            "linecolor": "white",
            "showbackground": true,
            "ticks": "",
            "zerolinecolor": "white"
           },
           "yaxis": {
            "backgroundcolor": "#E5ECF6",
            "gridcolor": "white",
            "gridwidth": 2,
            "linecolor": "white",
            "showbackground": true,
            "ticks": "",
            "zerolinecolor": "white"
           },
           "zaxis": {
            "backgroundcolor": "#E5ECF6",
            "gridcolor": "white",
            "gridwidth": 2,
            "linecolor": "white",
            "showbackground": true,
            "ticks": "",
            "zerolinecolor": "white"
           }
          },
          "shapedefaults": {
           "line": {
            "color": "#2a3f5f"
           }
          },
          "ternary": {
           "aaxis": {
            "gridcolor": "white",
            "linecolor": "white",
            "ticks": ""
           },
           "baxis": {
            "gridcolor": "white",
            "linecolor": "white",
            "ticks": ""
           },
           "bgcolor": "#E5ECF6",
           "caxis": {
            "gridcolor": "white",
            "linecolor": "white",
            "ticks": ""
           }
          },
          "title": {
           "x": 0.05
          },
          "xaxis": {
           "automargin": true,
           "gridcolor": "white",
           "linecolor": "white",
           "ticks": "",
           "title": {
            "standoff": 15
           },
           "zerolinecolor": "white",
           "zerolinewidth": 2
          },
          "yaxis": {
           "automargin": true,
           "gridcolor": "white",
           "linecolor": "white",
           "ticks": "",
           "title": {
            "standoff": 15
           },
           "zerolinecolor": "white",
           "zerolinewidth": 2
          }
         }
        },
        "title": {
         "text": "Доля ущедших клиентов по странам, %"
        },
        "width": 800
       }
      }
     },
     "metadata": {},
     "output_type": "display_data"
    }
   ],
   "source": [
    "tmp_df = churn_df[['Exited',\"Geography\",\"CustomerId\"]].copy()\n",
    "\n",
    "df = tmp_df.pivot_table(\n",
    "    index = 'Geography',\n",
    "    columns='Exited',\n",
    "    values = 'CustomerId',\n",
    "    fill_value = 0,\n",
    "    aggfunc = 'count'    \n",
    ")\n",
    "df = df.rename( columns = {1: \"Ушедшие\", 0: \"Лояльные\"})\n",
    "# Вычисляем процентиные доли\n",
    "df[\"Доля ушедших\"] = (df[\"Ушедшие\"] * 100 / (df[\"Лояльные\"] + df[\"Ушедшие\"])).round().astype( int )\n",
    "\n",
    "# Готовим графику: имеем распределение по группам - странам, используем тепловую географичесчкую карту\n",
    "fig = px.choropleth( \n",
    "    data_frame = df, \n",
    "    locationmode = \"country names\", # Режим поиска - пос названиям стран\n",
    "    locations = list( set( df.index ) ), # Список стран\n",
    "    scope = 'europe', \n",
    "    color = \"Доля ушедших\", # Поле, управляющее цветом\n",
    "    range_color = [0, 100], # Диапазон цвета \n",
    "    title = 'Доля ущедших клиентов по странам, %', # Заголовок\n",
    "    width = 800, # Ширина\n",
    "    height = 500, # Высота\n",
    "    color_continuous_scale = 'Reds' #палитра цветов       \n",
    ")  \n",
    "fig.show()  # Печатаем"
   ]
  },
  {
   "cell_type": "markdown",
   "id": "ccb3c117",
   "metadata": {},
   "source": [
    "Видим, что это Германия. Возможно, это связано с разделением страны на 2 части, требуется дополнительное исследование этой особенности"
   ]
  },
  {
   "cell_type": "markdown",
   "id": "3626c428",
   "metadata": {},
   "source": [
    "9.10. Переведите числовой признак CreditScore в категориальный. Для этого воспользуйтесь функцией get_credit_score_cat(), которая приведена ниже. Примените её к столбцу CreditScore и создайте новый признак CreditScoreCat — категории кредитного рейтинга."
   ]
  },
  {
   "cell_type": "code",
   "execution_count": 98,
   "id": "85e01c90",
   "metadata": {},
   "outputs": [],
   "source": [
    "def get_credit_score_cat(credit_score):\n",
    "    if credit_score >= 300 and credit_score < 500:\n",
    "        return \"Very_Poor\"\n",
    "    elif credit_score >= 500 and credit_score < 601:\n",
    "        return \"Poor\"\n",
    "    elif credit_score >= 601 and credit_score < 661:\n",
    "        return \"Fair\"\n",
    "    elif credit_score >= 661 and credit_score < 781:\n",
    "        return \"Good\"\n",
    "    elif credit_score >= 781 and credit_score < 851:\n",
    "        return \"Excellent\"\n",
    "    elif credit_score >= 851:\n",
    "        return \"Top\"\n",
    "    elif credit_score < 300:\n",
    "        return \"Deep\""
   ]
  },
  {
   "cell_type": "markdown",
   "id": "372f91c8",
   "metadata": {},
   "source": [
    "Постройте сводную таблицу, строками которой являются категории кредитного рейтинга (CreditScoreCat), а столбцами — количество лет, в течение которых клиент пользуется услугами банка (Tenure). В ячейках сводной таблицы должно находиться среднее по признаку оттока (Exited) — доля ушедших пользователей.\n",
    "\n",
    "На основе полученной сводной таблицы постройте тепловую карту с аннотацией. Найдите на тепловой карте категории клиентов, которые уходят чаще всего."
   ]
  },
  {
   "cell_type": "code",
   "execution_count": null,
   "id": "f0078b43",
   "metadata": {},
   "outputs": [
    {
     "data": {
      "application/vnd.plotly.v1+json": {
       "config": {
        "plotlyServerURL": "https://plot.ly"
       },
       "data": [
        {
         "coloraxis": "coloraxis",
         "hovertemplate": "Кол-во лет, в течение которых клиент пользуется услугами банка: %{x}<br>Категория кредитного рейтинга клиента: %{y}<br>Доля: %{z}<extra></extra>",
         "name": "0",
         "texttemplate": "%{z}",
         "type": "heatmap",
         "xaxis": "x",
         "y": [
          "Excellent",
          "Fair",
          "Good",
          "Poor",
          "Very_Poor"
         ],
         "yaxis": "y",
         "z": {
          "bdata": "7FG4HoXr0T/hehSuR+HKP+xRuB6F68E/w/UoXI/CxT+kcD0K16PAP3E9CtejcM0/uB6F61G4zj+kcD0K16PAP5qZmZmZmck/SOF6FK5H0T8AAAAAAADQPylcj8L1KMw/KVyPwvUozD/hehSuR+HKPylcj8L1KMw/mpmZmZmZyT/hehSuR+HKP7gehetRuM4/w/UoXI/CxT/hehSuR+HKP1K4HoXrUcg/4XoUrkfhyj+amZmZmZnJP5qZmZmZmck/UrgehetRyD/hehSuR+HKP5qZmZmZmck/4XoUrkfhyj8K16NwPQrHP1K4HoXrUcg/MzMzMzMzwz9SuB6F61HIP5qZmZmZmck/cT0K16NwzT+kcD0K16PQP+F6FK5H4co/4XoUrkfhyj9xPQrXo3DNP5qZmZmZmck/CtejcD0Kxz8zMzMzMzPDP+F6FK5H4co/AAAAAAAA0D/D9Shcj8LFPylcj8L1KNw/AAAAAAAA0D8zMzMzMzPDP4/C9Shcj9I/j8L1KFyP0j8zMzMzMzPDP3E9CtejcM0/4XoUrkfhyj8AAAAAAADQP3E9CtejcM0/H4XrUbge1T8=",
          "dtype": "f8",
          "shape": "5, 11"
         }
        }
       ],
       "layout": {
        "coloraxis": {
         "colorbar": {
          "title": {
           "text": "Доля"
          }
         },
         "colorscale": [
          [
           0,
           "rgb(255,255,229)"
          ],
          [
           0.125,
           "rgb(255,247,188)"
          ],
          [
           0.25,
           "rgb(254,227,145)"
          ],
          [
           0.375,
           "rgb(254,196,79)"
          ],
          [
           0.5,
           "rgb(254,153,41)"
          ],
          [
           0.625,
           "rgb(236,112,20)"
          ],
          [
           0.75,
           "rgb(204,76,2)"
          ],
          [
           0.875,
           "rgb(153,52,4)"
          ],
          [
           1,
           "rgb(102,37,6)"
          ]
         ]
        },
        "height": 600,
        "template": {
         "data": {
          "bar": [
           {
            "error_x": {
             "color": "#2a3f5f"
            },
            "error_y": {
             "color": "#2a3f5f"
            },
            "marker": {
             "line": {
              "color": "#E5ECF6",
              "width": 0.5
             },
             "pattern": {
              "fillmode": "overlay",
              "size": 10,
              "solidity": 0.2
             }
            },
            "type": "bar"
           }
          ],
          "barpolar": [
           {
            "marker": {
             "line": {
              "color": "#E5ECF6",
              "width": 0.5
             },
             "pattern": {
              "fillmode": "overlay",
              "size": 10,
              "solidity": 0.2
             }
            },
            "type": "barpolar"
           }
          ],
          "carpet": [
           {
            "aaxis": {
             "endlinecolor": "#2a3f5f",
             "gridcolor": "white",
             "linecolor": "white",
             "minorgridcolor": "white",
             "startlinecolor": "#2a3f5f"
            },
            "baxis": {
             "endlinecolor": "#2a3f5f",
             "gridcolor": "white",
             "linecolor": "white",
             "minorgridcolor": "white",
             "startlinecolor": "#2a3f5f"
            },
            "type": "carpet"
           }
          ],
          "choropleth": [
           {
            "colorbar": {
             "outlinewidth": 0,
             "ticks": ""
            },
            "type": "choropleth"
           }
          ],
          "contour": [
           {
            "colorbar": {
             "outlinewidth": 0,
             "ticks": ""
            },
            "colorscale": [
             [
              0,
              "#0d0887"
             ],
             [
              0.1111111111111111,
              "#46039f"
             ],
             [
              0.2222222222222222,
              "#7201a8"
             ],
             [
              0.3333333333333333,
              "#9c179e"
             ],
             [
              0.4444444444444444,
              "#bd3786"
             ],
             [
              0.5555555555555556,
              "#d8576b"
             ],
             [
              0.6666666666666666,
              "#ed7953"
             ],
             [
              0.7777777777777778,
              "#fb9f3a"
             ],
             [
              0.8888888888888888,
              "#fdca26"
             ],
             [
              1,
              "#f0f921"
             ]
            ],
            "type": "contour"
           }
          ],
          "contourcarpet": [
           {
            "colorbar": {
             "outlinewidth": 0,
             "ticks": ""
            },
            "type": "contourcarpet"
           }
          ],
          "heatmap": [
           {
            "colorbar": {
             "outlinewidth": 0,
             "ticks": ""
            },
            "colorscale": [
             [
              0,
              "#0d0887"
             ],
             [
              0.1111111111111111,
              "#46039f"
             ],
             [
              0.2222222222222222,
              "#7201a8"
             ],
             [
              0.3333333333333333,
              "#9c179e"
             ],
             [
              0.4444444444444444,
              "#bd3786"
             ],
             [
              0.5555555555555556,
              "#d8576b"
             ],
             [
              0.6666666666666666,
              "#ed7953"
             ],
             [
              0.7777777777777778,
              "#fb9f3a"
             ],
             [
              0.8888888888888888,
              "#fdca26"
             ],
             [
              1,
              "#f0f921"
             ]
            ],
            "type": "heatmap"
           }
          ],
          "histogram": [
           {
            "marker": {
             "pattern": {
              "fillmode": "overlay",
              "size": 10,
              "solidity": 0.2
             }
            },
            "type": "histogram"
           }
          ],
          "histogram2d": [
           {
            "colorbar": {
             "outlinewidth": 0,
             "ticks": ""
            },
            "colorscale": [
             [
              0,
              "#0d0887"
             ],
             [
              0.1111111111111111,
              "#46039f"
             ],
             [
              0.2222222222222222,
              "#7201a8"
             ],
             [
              0.3333333333333333,
              "#9c179e"
             ],
             [
              0.4444444444444444,
              "#bd3786"
             ],
             [
              0.5555555555555556,
              "#d8576b"
             ],
             [
              0.6666666666666666,
              "#ed7953"
             ],
             [
              0.7777777777777778,
              "#fb9f3a"
             ],
             [
              0.8888888888888888,
              "#fdca26"
             ],
             [
              1,
              "#f0f921"
             ]
            ],
            "type": "histogram2d"
           }
          ],
          "histogram2dcontour": [
           {
            "colorbar": {
             "outlinewidth": 0,
             "ticks": ""
            },
            "colorscale": [
             [
              0,
              "#0d0887"
             ],
             [
              0.1111111111111111,
              "#46039f"
             ],
             [
              0.2222222222222222,
              "#7201a8"
             ],
             [
              0.3333333333333333,
              "#9c179e"
             ],
             [
              0.4444444444444444,
              "#bd3786"
             ],
             [
              0.5555555555555556,
              "#d8576b"
             ],
             [
              0.6666666666666666,
              "#ed7953"
             ],
             [
              0.7777777777777778,
              "#fb9f3a"
             ],
             [
              0.8888888888888888,
              "#fdca26"
             ],
             [
              1,
              "#f0f921"
             ]
            ],
            "type": "histogram2dcontour"
           }
          ],
          "mesh3d": [
           {
            "colorbar": {
             "outlinewidth": 0,
             "ticks": ""
            },
            "type": "mesh3d"
           }
          ],
          "parcoords": [
           {
            "line": {
             "colorbar": {
              "outlinewidth": 0,
              "ticks": ""
             }
            },
            "type": "parcoords"
           }
          ],
          "pie": [
           {
            "automargin": true,
            "type": "pie"
           }
          ],
          "scatter": [
           {
            "fillpattern": {
             "fillmode": "overlay",
             "size": 10,
             "solidity": 0.2
            },
            "type": "scatter"
           }
          ],
          "scatter3d": [
           {
            "line": {
             "colorbar": {
              "outlinewidth": 0,
              "ticks": ""
             }
            },
            "marker": {
             "colorbar": {
              "outlinewidth": 0,
              "ticks": ""
             }
            },
            "type": "scatter3d"
           }
          ],
          "scattercarpet": [
           {
            "marker": {
             "colorbar": {
              "outlinewidth": 0,
              "ticks": ""
             }
            },
            "type": "scattercarpet"
           }
          ],
          "scattergeo": [
           {
            "marker": {
             "colorbar": {
              "outlinewidth": 0,
              "ticks": ""
             }
            },
            "type": "scattergeo"
           }
          ],
          "scattergl": [
           {
            "marker": {
             "colorbar": {
              "outlinewidth": 0,
              "ticks": ""
             }
            },
            "type": "scattergl"
           }
          ],
          "scattermap": [
           {
            "marker": {
             "colorbar": {
              "outlinewidth": 0,
              "ticks": ""
             }
            },
            "type": "scattermap"
           }
          ],
          "scattermapbox": [
           {
            "marker": {
             "colorbar": {
              "outlinewidth": 0,
              "ticks": ""
             }
            },
            "type": "scattermapbox"
           }
          ],
          "scatterpolar": [
           {
            "marker": {
             "colorbar": {
              "outlinewidth": 0,
              "ticks": ""
             }
            },
            "type": "scatterpolar"
           }
          ],
          "scatterpolargl": [
           {
            "marker": {
             "colorbar": {
              "outlinewidth": 0,
              "ticks": ""
             }
            },
            "type": "scatterpolargl"
           }
          ],
          "scatterternary": [
           {
            "marker": {
             "colorbar": {
              "outlinewidth": 0,
              "ticks": ""
             }
            },
            "type": "scatterternary"
           }
          ],
          "surface": [
           {
            "colorbar": {
             "outlinewidth": 0,
             "ticks": ""
            },
            "colorscale": [
             [
              0,
              "#0d0887"
             ],
             [
              0.1111111111111111,
              "#46039f"
             ],
             [
              0.2222222222222222,
              "#7201a8"
             ],
             [
              0.3333333333333333,
              "#9c179e"
             ],
             [
              0.4444444444444444,
              "#bd3786"
             ],
             [
              0.5555555555555556,
              "#d8576b"
             ],
             [
              0.6666666666666666,
              "#ed7953"
             ],
             [
              0.7777777777777778,
              "#fb9f3a"
             ],
             [
              0.8888888888888888,
              "#fdca26"
             ],
             [
              1,
              "#f0f921"
             ]
            ],
            "type": "surface"
           }
          ],
          "table": [
           {
            "cells": {
             "fill": {
              "color": "#EBF0F8"
             },
             "line": {
              "color": "white"
             }
            },
            "header": {
             "fill": {
              "color": "#C8D4E3"
             },
             "line": {
              "color": "white"
             }
            },
            "type": "table"
           }
          ]
         },
         "layout": {
          "annotationdefaults": {
           "arrowcolor": "#2a3f5f",
           "arrowhead": 0,
           "arrowwidth": 1
          },
          "autotypenumbers": "strict",
          "coloraxis": {
           "colorbar": {
            "outlinewidth": 0,
            "ticks": ""
           }
          },
          "colorscale": {
           "diverging": [
            [
             0,
             "#8e0152"
            ],
            [
             0.1,
             "#c51b7d"
            ],
            [
             0.2,
             "#de77ae"
            ],
            [
             0.3,
             "#f1b6da"
            ],
            [
             0.4,
             "#fde0ef"
            ],
            [
             0.5,
             "#f7f7f7"
            ],
            [
             0.6,
             "#e6f5d0"
            ],
            [
             0.7,
             "#b8e186"
            ],
            [
             0.8,
             "#7fbc41"
            ],
            [
             0.9,
             "#4d9221"
            ],
            [
             1,
             "#276419"
            ]
           ],
           "sequential": [
            [
             0,
             "#0d0887"
            ],
            [
             0.1111111111111111,
             "#46039f"
            ],
            [
             0.2222222222222222,
             "#7201a8"
            ],
            [
             0.3333333333333333,
             "#9c179e"
            ],
            [
             0.4444444444444444,
             "#bd3786"
            ],
            [
             0.5555555555555556,
             "#d8576b"
            ],
            [
             0.6666666666666666,
             "#ed7953"
            ],
            [
             0.7777777777777778,
             "#fb9f3a"
            ],
            [
             0.8888888888888888,
             "#fdca26"
            ],
            [
             1,
             "#f0f921"
            ]
           ],
           "sequentialminus": [
            [
             0,
             "#0d0887"
            ],
            [
             0.1111111111111111,
             "#46039f"
            ],
            [
             0.2222222222222222,
             "#7201a8"
            ],
            [
             0.3333333333333333,
             "#9c179e"
            ],
            [
             0.4444444444444444,
             "#bd3786"
            ],
            [
             0.5555555555555556,
             "#d8576b"
            ],
            [
             0.6666666666666666,
             "#ed7953"
            ],
            [
             0.7777777777777778,
             "#fb9f3a"
            ],
            [
             0.8888888888888888,
             "#fdca26"
            ],
            [
             1,
             "#f0f921"
            ]
           ]
          },
          "colorway": [
           "#636efa",
           "#EF553B",
           "#00cc96",
           "#ab63fa",
           "#FFA15A",
           "#19d3f3",
           "#FF6692",
           "#B6E880",
           "#FF97FF",
           "#FECB52"
          ],
          "font": {
           "color": "#2a3f5f"
          },
          "geo": {
           "bgcolor": "white",
           "lakecolor": "white",
           "landcolor": "#E5ECF6",
           "showlakes": true,
           "showland": true,
           "subunitcolor": "white"
          },
          "hoverlabel": {
           "align": "left"
          },
          "hovermode": "closest",
          "mapbox": {
           "style": "light"
          },
          "paper_bgcolor": "white",
          "plot_bgcolor": "#E5ECF6",
          "polar": {
           "angularaxis": {
            "gridcolor": "white",
            "linecolor": "white",
            "ticks": ""
           },
           "bgcolor": "#E5ECF6",
           "radialaxis": {
            "gridcolor": "white",
            "linecolor": "white",
            "ticks": ""
           }
          },
          "scene": {
           "xaxis": {
            "backgroundcolor": "#E5ECF6",
            "gridcolor": "white",
            "gridwidth": 2,
            "linecolor": "white",
            "showbackground": true,
            "ticks": "",
            "zerolinecolor": "white"
           },
           "yaxis": {
            "backgroundcolor": "#E5ECF6",
            "gridcolor": "white",
            "gridwidth": 2,
            "linecolor": "white",
            "showbackground": true,
            "ticks": "",
            "zerolinecolor": "white"
           },
           "zaxis": {
            "backgroundcolor": "#E5ECF6",
            "gridcolor": "white",
            "gridwidth": 2,
            "linecolor": "white",
            "showbackground": true,
            "ticks": "",
            "zerolinecolor": "white"
           }
          },
          "shapedefaults": {
           "line": {
            "color": "#2a3f5f"
           }
          },
          "ternary": {
           "aaxis": {
            "gridcolor": "white",
            "linecolor": "white",
            "ticks": ""
           },
           "baxis": {
            "gridcolor": "white",
            "linecolor": "white",
            "ticks": ""
           },
           "bgcolor": "#E5ECF6",
           "caxis": {
            "gridcolor": "white",
            "linecolor": "white",
            "ticks": ""
           }
          },
          "title": {
           "x": 0.05
          },
          "xaxis": {
           "automargin": true,
           "gridcolor": "white",
           "linecolor": "white",
           "ticks": "",
           "title": {
            "standoff": 15
           },
           "zerolinecolor": "white",
           "zerolinewidth": 2
          },
          "yaxis": {
           "automargin": true,
           "gridcolor": "white",
           "linecolor": "white",
           "ticks": "",
           "title": {
            "standoff": 15
           },
           "zerolinecolor": "white",
           "zerolinewidth": 2
          }
         }
        },
        "title": {
         "text": "Зависимость категории кредитного рейтинга клиента от количества лет пользования услугами банка"
        },
        "width": 1000,
        "xaxis": {
         "anchor": "y",
         "domain": [
          0,
          1
         ],
         "title": {
          "text": "Кол-во лет, в течение которых клиент пользуется услугами банка"
         }
        },
        "yaxis": {
         "anchor": "x",
         "autorange": "reversed",
         "domain": [
          0,
          1
         ],
         "title": {
          "text": "Категория кредитного рейтинга клиента"
         }
        }
       }
      }
     },
     "metadata": {},
     "output_type": "display_data"
    }
   ],
   "source": [
    "tmp_df = churn_df.copy()\n",
    "\n",
    "# Создаем категориальный признак\n",
    "tmp_df[\"CreditScoreCat\"] = tmp_df[\"CreditScore\"].apply( lambda x: get_credit_score_cat( x ) ).astype( \"category\" )\n",
    "# Группируем по 2м параметрам\n",
    "df = tmp_df.pivot_table(\n",
    "    index = 'CreditScoreCat',\n",
    "    columns ='Tenure',\n",
    "    values = 'Exited',\n",
    "    fill_value = 0,\n",
    "    aggfunc = 'mean',\n",
    "    observed = True\n",
    ").round(2)\n",
    "\n",
    "# Готовим графику: имеем отображение декартового произведения категорий в число, используем тепловую карту\n",
    "fig = px.imshow( df.values,\n",
    "    title = \"Зависимость категории кредитного рейтинга клиента от количества лет пользования услугами банка\",\n",
    "    aspect = \"auto\",\n",
    "    labels = dict( \n",
    "        x = \"Кол-во лет, в течение которых клиент пользуется услугами банка\", \n",
    "        y = \"Категория кредитного рейтинга клиента\", \n",
    "        color = \"Доля\"\n",
    "    ),\n",
    "    y = df.index.to_list(), # Ось y - Категории\n",
    "    text_auto = True, # Включает отображение значений в ячейках\n",
    "    color_continuous_scale = 'ylorbr', # Цветовая шкала\n",
    "    width = 1000, # Ширина\n",
    "    height = 600  # Высота\n",
    ")\n",
    "fig.show() # Отображаем"
   ]
  }
 ],
 "metadata": {
  "kernelspec": {
   "display_name": "Python 3",
   "language": "python",
   "name": "python3"
  },
  "language_info": {
   "codemirror_mode": {
    "name": "ipython",
    "version": 3
   },
   "file_extension": ".py",
   "mimetype": "text/x-python",
   "name": "python",
   "nbconvert_exporter": "python",
   "pygments_lexer": "ipython3",
   "version": "3.10.11"
  }
 },
 "nbformat": 4,
 "nbformat_minor": 5
}
