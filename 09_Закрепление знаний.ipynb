{
 "cells": [
  {
   "cell_type": "code",
   "execution_count": 3,
   "id": "ccc5d1a5",
   "metadata": {},
   "outputs": [
    {
     "name": "stdout",
     "output_type": "stream",
     "text": [
      "pandas 2.3.0, plotly 6.2.0, np 2.2.6\n"
     ]
    }
   ],
   "source": [
    "# Импортируем библиотеки и смотрим версию\n",
    "import pandas as pd\n",
    "import plotly\n",
    "import plotly.express as px\n",
    "import numpy as np\n",
    "print( f\"pandas {pd.__version__}, plotly {plotly.__version__}, np {np.__version__}\" )\n",
    "# pandas 2.3.0, plotly 6.2.0, np 2.2.6"
   ]
  },
  {
   "cell_type": "code",
   "execution_count": 4,
   "id": "ffb67134",
   "metadata": {},
   "outputs": [
    {
     "data": {
      "text/html": [
       "<div>\n",
       "<style scoped>\n",
       "    .dataframe tbody tr th:only-of-type {\n",
       "        vertical-align: middle;\n",
       "    }\n",
       "\n",
       "    .dataframe tbody tr th {\n",
       "        vertical-align: top;\n",
       "    }\n",
       "\n",
       "    .dataframe thead th {\n",
       "        text-align: right;\n",
       "    }\n",
       "</style>\n",
       "<table border=\"1\" class=\"dataframe\">\n",
       "  <thead>\n",
       "    <tr style=\"text-align: right;\">\n",
       "      <th></th>\n",
       "      <th>RowNumber</th>\n",
       "      <th>CustomerId</th>\n",
       "      <th>Surname</th>\n",
       "      <th>CreditScore</th>\n",
       "      <th>Geography</th>\n",
       "      <th>Gender</th>\n",
       "      <th>Age</th>\n",
       "      <th>Tenure</th>\n",
       "      <th>Balance</th>\n",
       "      <th>NumOfProducts</th>\n",
       "      <th>HasCrCard</th>\n",
       "      <th>IsActiveMember</th>\n",
       "      <th>EstimatedSalary</th>\n",
       "      <th>Exited</th>\n",
       "    </tr>\n",
       "  </thead>\n",
       "  <tbody>\n",
       "    <tr>\n",
       "      <th>0</th>\n",
       "      <td>1</td>\n",
       "      <td>15634602</td>\n",
       "      <td>Hargrave</td>\n",
       "      <td>619</td>\n",
       "      <td>France</td>\n",
       "      <td>Female</td>\n",
       "      <td>42</td>\n",
       "      <td>2</td>\n",
       "      <td>0.00</td>\n",
       "      <td>1</td>\n",
       "      <td>1</td>\n",
       "      <td>1</td>\n",
       "      <td>101348.88</td>\n",
       "      <td>1</td>\n",
       "    </tr>\n",
       "    <tr>\n",
       "      <th>1</th>\n",
       "      <td>2</td>\n",
       "      <td>15647311</td>\n",
       "      <td>Hill</td>\n",
       "      <td>608</td>\n",
       "      <td>Spain</td>\n",
       "      <td>Female</td>\n",
       "      <td>41</td>\n",
       "      <td>1</td>\n",
       "      <td>83807.86</td>\n",
       "      <td>1</td>\n",
       "      <td>0</td>\n",
       "      <td>1</td>\n",
       "      <td>112542.58</td>\n",
       "      <td>0</td>\n",
       "    </tr>\n",
       "    <tr>\n",
       "      <th>2</th>\n",
       "      <td>3</td>\n",
       "      <td>15619304</td>\n",
       "      <td>Onio</td>\n",
       "      <td>502</td>\n",
       "      <td>France</td>\n",
       "      <td>Female</td>\n",
       "      <td>42</td>\n",
       "      <td>8</td>\n",
       "      <td>159660.80</td>\n",
       "      <td>3</td>\n",
       "      <td>1</td>\n",
       "      <td>0</td>\n",
       "      <td>113931.57</td>\n",
       "      <td>1</td>\n",
       "    </tr>\n",
       "    <tr>\n",
       "      <th>3</th>\n",
       "      <td>4</td>\n",
       "      <td>15701354</td>\n",
       "      <td>Boni</td>\n",
       "      <td>699</td>\n",
       "      <td>France</td>\n",
       "      <td>Female</td>\n",
       "      <td>39</td>\n",
       "      <td>1</td>\n",
       "      <td>0.00</td>\n",
       "      <td>2</td>\n",
       "      <td>0</td>\n",
       "      <td>0</td>\n",
       "      <td>93826.63</td>\n",
       "      <td>0</td>\n",
       "    </tr>\n",
       "    <tr>\n",
       "      <th>4</th>\n",
       "      <td>5</td>\n",
       "      <td>15737888</td>\n",
       "      <td>Mitchell</td>\n",
       "      <td>850</td>\n",
       "      <td>Spain</td>\n",
       "      <td>Female</td>\n",
       "      <td>43</td>\n",
       "      <td>2</td>\n",
       "      <td>125510.82</td>\n",
       "      <td>1</td>\n",
       "      <td>1</td>\n",
       "      <td>1</td>\n",
       "      <td>79084.10</td>\n",
       "      <td>0</td>\n",
       "    </tr>\n",
       "  </tbody>\n",
       "</table>\n",
       "</div>"
      ],
      "text/plain": [
       "   RowNumber  CustomerId   Surname  CreditScore Geography  Gender  Age  \\\n",
       "0          1    15634602  Hargrave          619    France  Female   42   \n",
       "1          2    15647311      Hill          608     Spain  Female   41   \n",
       "2          3    15619304      Onio          502    France  Female   42   \n",
       "3          4    15701354      Boni          699    France  Female   39   \n",
       "4          5    15737888  Mitchell          850     Spain  Female   43   \n",
       "\n",
       "   Tenure    Balance  NumOfProducts  HasCrCard  IsActiveMember  \\\n",
       "0       2       0.00              1          1               1   \n",
       "1       1   83807.86              1          0               1   \n",
       "2       8  159660.80              3          1               0   \n",
       "3       1       0.00              2          0               0   \n",
       "4       2  125510.82              1          1               1   \n",
       "\n",
       "   EstimatedSalary  Exited  \n",
       "0        101348.88       1  \n",
       "1        112542.58       0  \n",
       "2        113931.57       1  \n",
       "3         93826.63       0  \n",
       "4         79084.10       0  "
      ]
     },
     "execution_count": 4,
     "metadata": {},
     "output_type": "execute_result"
    }
   ],
   "source": [
    "# Читаем перчичный файл\n",
    "churn_data = pd.read_csv('data/churn.csv')\n",
    "churn_data.head()"
   ]
  },
  {
   "cell_type": "code",
   "execution_count": 6,
   "id": "c61276a9",
   "metadata": {},
   "outputs": [
    {
     "name": "stdout",
     "output_type": "stream",
     "text": [
      "<class 'pandas.core.frame.DataFrame'>\n",
      "RangeIndex: 10000 entries, 0 to 9999\n",
      "Data columns (total 13 columns):\n",
      " #   Column           Non-Null Count  Dtype  \n",
      "---  ------           --------------  -----  \n",
      " 0   CustomerId       10000 non-null  int64  \n",
      " 1   Surname          10000 non-null  object \n",
      " 2   CreditScore      10000 non-null  int64  \n",
      " 3   Geography        10000 non-null  object \n",
      " 4   Gender           10000 non-null  object \n",
      " 5   Age              10000 non-null  int64  \n",
      " 6   Tenure           10000 non-null  int64  \n",
      " 7   Balance          10000 non-null  float64\n",
      " 8   NumOfProducts    10000 non-null  int64  \n",
      " 9   HasCrCard        10000 non-null  int64  \n",
      " 10  IsActiveMember   10000 non-null  int64  \n",
      " 11  EstimatedSalary  10000 non-null  float64\n",
      " 12  Exited           10000 non-null  int64  \n",
      "dtypes: float64(2), int64(8), object(3)\n",
      "memory usage: 1015.8+ KB\n"
     ]
    }
   ],
   "source": [
    "# Копируем датафрейм и смотрим структуру\n",
    "churn_df = churn_data.copy()\n",
    "churn_df = churn_df.drop('RowNumber', axis = 1)\n",
    "#churn_df.describe()\n",
    "churn_df.info()\n",
    "#churn_df.head()"
   ]
  },
  {
   "cell_type": "markdown",
   "id": "e9f8021b",
   "metadata": {},
   "source": [
    "9.1. Каково соотношение ушедших и лояльных клиентов? Покажите это на графике и дайте комментарий по соотношению."
   ]
  },
  {
   "cell_type": "code",
   "execution_count": 7,
   "id": "a514380d",
   "metadata": {},
   "outputs": [
    {
     "data": {
      "application/vnd.plotly.v1+json": {
       "config": {
        "plotlyServerURL": "https://plot.ly"
       },
       "data": [
        {
         "domain": {
          "x": [
           0,
           1
          ],
          "y": [
           0,
           1
          ]
         },
         "hole": 0.7,
         "hovertemplate": "label=%{label}<br>value=%{value}<extra></extra>",
         "labels": [
          "Лояльные",
          "Ушедшие"
         ],
         "legendgroup": "",
         "name": "",
         "showlegend": false,
         "textinfo": "percent+label",
         "textposition": "inside",
         "type": "pie",
         "values": {
          "bdata": "UBQ=",
          "dtype": "i1"
         }
        }
       ],
       "layout": {
        "height": 450,
        "legend": {
         "tracegroupgap": 0
        },
        "template": {
         "data": {
          "bar": [
           {
            "error_x": {
             "color": "#2a3f5f"
            },
            "error_y": {
             "color": "#2a3f5f"
            },
            "marker": {
             "line": {
              "color": "#E5ECF6",
              "width": 0.5
             },
             "pattern": {
              "fillmode": "overlay",
              "size": 10,
              "solidity": 0.2
             }
            },
            "type": "bar"
           }
          ],
          "barpolar": [
           {
            "marker": {
             "line": {
              "color": "#E5ECF6",
              "width": 0.5
             },
             "pattern": {
              "fillmode": "overlay",
              "size": 10,
              "solidity": 0.2
             }
            },
            "type": "barpolar"
           }
          ],
          "carpet": [
           {
            "aaxis": {
             "endlinecolor": "#2a3f5f",
             "gridcolor": "white",
             "linecolor": "white",
             "minorgridcolor": "white",
             "startlinecolor": "#2a3f5f"
            },
            "baxis": {
             "endlinecolor": "#2a3f5f",
             "gridcolor": "white",
             "linecolor": "white",
             "minorgridcolor": "white",
             "startlinecolor": "#2a3f5f"
            },
            "type": "carpet"
           }
          ],
          "choropleth": [
           {
            "colorbar": {
             "outlinewidth": 0,
             "ticks": ""
            },
            "type": "choropleth"
           }
          ],
          "contour": [
           {
            "colorbar": {
             "outlinewidth": 0,
             "ticks": ""
            },
            "colorscale": [
             [
              0,
              "#0d0887"
             ],
             [
              0.1111111111111111,
              "#46039f"
             ],
             [
              0.2222222222222222,
              "#7201a8"
             ],
             [
              0.3333333333333333,
              "#9c179e"
             ],
             [
              0.4444444444444444,
              "#bd3786"
             ],
             [
              0.5555555555555556,
              "#d8576b"
             ],
             [
              0.6666666666666666,
              "#ed7953"
             ],
             [
              0.7777777777777778,
              "#fb9f3a"
             ],
             [
              0.8888888888888888,
              "#fdca26"
             ],
             [
              1,
              "#f0f921"
             ]
            ],
            "type": "contour"
           }
          ],
          "contourcarpet": [
           {
            "colorbar": {
             "outlinewidth": 0,
             "ticks": ""
            },
            "type": "contourcarpet"
           }
          ],
          "heatmap": [
           {
            "colorbar": {
             "outlinewidth": 0,
             "ticks": ""
            },
            "colorscale": [
             [
              0,
              "#0d0887"
             ],
             [
              0.1111111111111111,
              "#46039f"
             ],
             [
              0.2222222222222222,
              "#7201a8"
             ],
             [
              0.3333333333333333,
              "#9c179e"
             ],
             [
              0.4444444444444444,
              "#bd3786"
             ],
             [
              0.5555555555555556,
              "#d8576b"
             ],
             [
              0.6666666666666666,
              "#ed7953"
             ],
             [
              0.7777777777777778,
              "#fb9f3a"
             ],
             [
              0.8888888888888888,
              "#fdca26"
             ],
             [
              1,
              "#f0f921"
             ]
            ],
            "type": "heatmap"
           }
          ],
          "histogram": [
           {
            "marker": {
             "pattern": {
              "fillmode": "overlay",
              "size": 10,
              "solidity": 0.2
             }
            },
            "type": "histogram"
           }
          ],
          "histogram2d": [
           {
            "colorbar": {
             "outlinewidth": 0,
             "ticks": ""
            },
            "colorscale": [
             [
              0,
              "#0d0887"
             ],
             [
              0.1111111111111111,
              "#46039f"
             ],
             [
              0.2222222222222222,
              "#7201a8"
             ],
             [
              0.3333333333333333,
              "#9c179e"
             ],
             [
              0.4444444444444444,
              "#bd3786"
             ],
             [
              0.5555555555555556,
              "#d8576b"
             ],
             [
              0.6666666666666666,
              "#ed7953"
             ],
             [
              0.7777777777777778,
              "#fb9f3a"
             ],
             [
              0.8888888888888888,
              "#fdca26"
             ],
             [
              1,
              "#f0f921"
             ]
            ],
            "type": "histogram2d"
           }
          ],
          "histogram2dcontour": [
           {
            "colorbar": {
             "outlinewidth": 0,
             "ticks": ""
            },
            "colorscale": [
             [
              0,
              "#0d0887"
             ],
             [
              0.1111111111111111,
              "#46039f"
             ],
             [
              0.2222222222222222,
              "#7201a8"
             ],
             [
              0.3333333333333333,
              "#9c179e"
             ],
             [
              0.4444444444444444,
              "#bd3786"
             ],
             [
              0.5555555555555556,
              "#d8576b"
             ],
             [
              0.6666666666666666,
              "#ed7953"
             ],
             [
              0.7777777777777778,
              "#fb9f3a"
             ],
             [
              0.8888888888888888,
              "#fdca26"
             ],
             [
              1,
              "#f0f921"
             ]
            ],
            "type": "histogram2dcontour"
           }
          ],
          "mesh3d": [
           {
            "colorbar": {
             "outlinewidth": 0,
             "ticks": ""
            },
            "type": "mesh3d"
           }
          ],
          "parcoords": [
           {
            "line": {
             "colorbar": {
              "outlinewidth": 0,
              "ticks": ""
             }
            },
            "type": "parcoords"
           }
          ],
          "pie": [
           {
            "automargin": true,
            "type": "pie"
           }
          ],
          "scatter": [
           {
            "fillpattern": {
             "fillmode": "overlay",
             "size": 10,
             "solidity": 0.2
            },
            "type": "scatter"
           }
          ],
          "scatter3d": [
           {
            "line": {
             "colorbar": {
              "outlinewidth": 0,
              "ticks": ""
             }
            },
            "marker": {
             "colorbar": {
              "outlinewidth": 0,
              "ticks": ""
             }
            },
            "type": "scatter3d"
           }
          ],
          "scattercarpet": [
           {
            "marker": {
             "colorbar": {
              "outlinewidth": 0,
              "ticks": ""
             }
            },
            "type": "scattercarpet"
           }
          ],
          "scattergeo": [
           {
            "marker": {
             "colorbar": {
              "outlinewidth": 0,
              "ticks": ""
             }
            },
            "type": "scattergeo"
           }
          ],
          "scattergl": [
           {
            "marker": {
             "colorbar": {
              "outlinewidth": 0,
              "ticks": ""
             }
            },
            "type": "scattergl"
           }
          ],
          "scattermap": [
           {
            "marker": {
             "colorbar": {
              "outlinewidth": 0,
              "ticks": ""
             }
            },
            "type": "scattermap"
           }
          ],
          "scattermapbox": [
           {
            "marker": {
             "colorbar": {
              "outlinewidth": 0,
              "ticks": ""
             }
            },
            "type": "scattermapbox"
           }
          ],
          "scatterpolar": [
           {
            "marker": {
             "colorbar": {
              "outlinewidth": 0,
              "ticks": ""
             }
            },
            "type": "scatterpolar"
           }
          ],
          "scatterpolargl": [
           {
            "marker": {
             "colorbar": {
              "outlinewidth": 0,
              "ticks": ""
             }
            },
            "type": "scatterpolargl"
           }
          ],
          "scatterternary": [
           {
            "marker": {
             "colorbar": {
              "outlinewidth": 0,
              "ticks": ""
             }
            },
            "type": "scatterternary"
           }
          ],
          "surface": [
           {
            "colorbar": {
             "outlinewidth": 0,
             "ticks": ""
            },
            "colorscale": [
             [
              0,
              "#0d0887"
             ],
             [
              0.1111111111111111,
              "#46039f"
             ],
             [
              0.2222222222222222,
              "#7201a8"
             ],
             [
              0.3333333333333333,
              "#9c179e"
             ],
             [
              0.4444444444444444,
              "#bd3786"
             ],
             [
              0.5555555555555556,
              "#d8576b"
             ],
             [
              0.6666666666666666,
              "#ed7953"
             ],
             [
              0.7777777777777778,
              "#fb9f3a"
             ],
             [
              0.8888888888888888,
              "#fdca26"
             ],
             [
              1,
              "#f0f921"
             ]
            ],
            "type": "surface"
           }
          ],
          "table": [
           {
            "cells": {
             "fill": {
              "color": "#EBF0F8"
             },
             "line": {
              "color": "white"
             }
            },
            "header": {
             "fill": {
              "color": "#C8D4E3"
             },
             "line": {
              "color": "white"
             }
            },
            "type": "table"
           }
          ]
         },
         "layout": {
          "annotationdefaults": {
           "arrowcolor": "#2a3f5f",
           "arrowhead": 0,
           "arrowwidth": 1
          },
          "autotypenumbers": "strict",
          "coloraxis": {
           "colorbar": {
            "outlinewidth": 0,
            "ticks": ""
           }
          },
          "colorscale": {
           "diverging": [
            [
             0,
             "#8e0152"
            ],
            [
             0.1,
             "#c51b7d"
            ],
            [
             0.2,
             "#de77ae"
            ],
            [
             0.3,
             "#f1b6da"
            ],
            [
             0.4,
             "#fde0ef"
            ],
            [
             0.5,
             "#f7f7f7"
            ],
            [
             0.6,
             "#e6f5d0"
            ],
            [
             0.7,
             "#b8e186"
            ],
            [
             0.8,
             "#7fbc41"
            ],
            [
             0.9,
             "#4d9221"
            ],
            [
             1,
             "#276419"
            ]
           ],
           "sequential": [
            [
             0,
             "#0d0887"
            ],
            [
             0.1111111111111111,
             "#46039f"
            ],
            [
             0.2222222222222222,
             "#7201a8"
            ],
            [
             0.3333333333333333,
             "#9c179e"
            ],
            [
             0.4444444444444444,
             "#bd3786"
            ],
            [
             0.5555555555555556,
             "#d8576b"
            ],
            [
             0.6666666666666666,
             "#ed7953"
            ],
            [
             0.7777777777777778,
             "#fb9f3a"
            ],
            [
             0.8888888888888888,
             "#fdca26"
            ],
            [
             1,
             "#f0f921"
            ]
           ],
           "sequentialminus": [
            [
             0,
             "#0d0887"
            ],
            [
             0.1111111111111111,
             "#46039f"
            ],
            [
             0.2222222222222222,
             "#7201a8"
            ],
            [
             0.3333333333333333,
             "#9c179e"
            ],
            [
             0.4444444444444444,
             "#bd3786"
            ],
            [
             0.5555555555555556,
             "#d8576b"
            ],
            [
             0.6666666666666666,
             "#ed7953"
            ],
            [
             0.7777777777777778,
             "#fb9f3a"
            ],
            [
             0.8888888888888888,
             "#fdca26"
            ],
            [
             1,
             "#f0f921"
            ]
           ]
          },
          "colorway": [
           "#636efa",
           "#EF553B",
           "#00cc96",
           "#ab63fa",
           "#FFA15A",
           "#19d3f3",
           "#FF6692",
           "#B6E880",
           "#FF97FF",
           "#FECB52"
          ],
          "font": {
           "color": "#2a3f5f"
          },
          "geo": {
           "bgcolor": "white",
           "lakecolor": "white",
           "landcolor": "#E5ECF6",
           "showlakes": true,
           "showland": true,
           "subunitcolor": "white"
          },
          "hoverlabel": {
           "align": "left"
          },
          "hovermode": "closest",
          "mapbox": {
           "style": "light"
          },
          "paper_bgcolor": "white",
          "plot_bgcolor": "#E5ECF6",
          "polar": {
           "angularaxis": {
            "gridcolor": "white",
            "linecolor": "white",
            "ticks": ""
           },
           "bgcolor": "#E5ECF6",
           "radialaxis": {
            "gridcolor": "white",
            "linecolor": "white",
            "ticks": ""
           }
          },
          "scene": {
           "xaxis": {
            "backgroundcolor": "#E5ECF6",
            "gridcolor": "white",
            "gridwidth": 2,
            "linecolor": "white",
            "showbackground": true,
            "ticks": "",
            "zerolinecolor": "white"
           },
           "yaxis": {
            "backgroundcolor": "#E5ECF6",
            "gridcolor": "white",
            "gridwidth": 2,
            "linecolor": "white",
            "showbackground": true,
            "ticks": "",
            "zerolinecolor": "white"
           },
           "zaxis": {
            "backgroundcolor": "#E5ECF6",
            "gridcolor": "white",
            "gridwidth": 2,
            "linecolor": "white",
            "showbackground": true,
            "ticks": "",
            "zerolinecolor": "white"
           }
          },
          "shapedefaults": {
           "line": {
            "color": "#2a3f5f"
           }
          },
          "ternary": {
           "aaxis": {
            "gridcolor": "white",
            "linecolor": "white",
            "ticks": ""
           },
           "baxis": {
            "gridcolor": "white",
            "linecolor": "white",
            "ticks": ""
           },
           "bgcolor": "#E5ECF6",
           "caxis": {
            "gridcolor": "white",
            "linecolor": "white",
            "ticks": ""
           }
          },
          "title": {
           "x": 0.05
          },
          "xaxis": {
           "automargin": true,
           "gridcolor": "white",
           "linecolor": "white",
           "ticks": "",
           "title": {
            "standoff": 15
           },
           "zerolinecolor": "white",
           "zerolinewidth": 2
          },
          "yaxis": {
           "automargin": true,
           "gridcolor": "white",
           "linecolor": "white",
           "ticks": "",
           "title": {
            "standoff": 15
           },
           "zerolinecolor": "white",
           "zerolinewidth": 2
          }
         }
        },
        "title": {
         "text": "Соотношение ушедших и лояльных клиентов"
        },
        "width": 450
       }
      }
     },
     "metadata": {},
     "output_type": "display_data"
    }
   ],
   "source": [
    "tmp_df = churn_df[['Exited']].copy()\n",
    "\n",
    "# Вычислим долю ушедших (в %), округлим до целых\n",
    "df = (tmp_df.mean() * 100).round(0).astype( int )\n",
    "\n",
    "# Готовим графику: имеем статистические данные, используем пончиковую круговую диаграмму\n",
    "fig = px.pie( \n",
    "    values = [100 - df.values[0], df.values[0]], # Процентное соотношение\n",
    "    title = 'Соотношение ушедших и лояльных клиентов', # Заголовок отчета\n",
    "    hole = 0.7,  # Настроим так ширину бублика\n",
    "    names = [\"Лояльные\", \"Ушедшие\" ], # Настроим Подписи\n",
    "    width = 450, # Ширина\n",
    "    height = 450 # Высота\n",
    ")\n",
    "fig.update_traces( textposition = 'inside', textinfo = 'percent+label', showlegend = False )\n",
    "fig.show() # Отображаем"
   ]
  },
  {
   "cell_type": "markdown",
   "id": "4748fdbf",
   "metadata": {},
   "source": [
    "Видим, что лояльных клиентов вчетверо больше, чем успешных, банк успешный"
   ]
  },
  {
   "cell_type": "markdown",
   "id": "17f64015",
   "metadata": {},
   "source": [
    "9.2. Постройте график, показывающий распределение баланса пользователей, у которых на счету больше 2 500 долларов. Опишите распределение и сделайте выводы."
   ]
  },
  {
   "cell_type": "code",
   "execution_count": 13,
   "id": "4c144239",
   "metadata": {},
   "outputs": [
    {
     "data": {
      "application/vnd.plotly.v1+json": {
       "config": {
        "plotlyServerURL": "https://plot.ly"
       },
       "data": [
        {
         "alignmentgroup": "True",
         "hovertemplate": "Balance=%{x}<extra></extra>",
         "legendgroup": "",
         "marker": {
          "color": "#636efa"
         },
         "name": "",
         "notched": false,
         "offsetgroup": "",
         "orientation": "h",
         "quartilemethod": "exclusive",
         "showlegend": false,
         "type": "box",
         "x": {
          "bdata": "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",
          "dtype": "f8"
         },
         "x0": " ",
         "xaxis": "x",
         "y0": " ",
         "yaxis": "y"
        }
       ],
       "layout": {
        "bargap": 0.1,
        "boxmode": "group",
        "height": 400,
        "legend": {
         "orientation": "h",
         "title": {
          "font": {
           "family": "Sitka Small"
          }
         },
         "tracegroupgap": 0,
         "x": 0,
         "y": 150
        },
        "template": {
         "data": {
          "bar": [
           {
            "error_x": {
             "color": "#2a3f5f"
            },
            "error_y": {
             "color": "#2a3f5f"
            },
            "marker": {
             "line": {
              "color": "#E5ECF6",
              "width": 0.5
             },
             "pattern": {
              "fillmode": "overlay",
              "size": 10,
              "solidity": 0.2
             }
            },
            "type": "bar"
           }
          ],
          "barpolar": [
           {
            "marker": {
             "line": {
              "color": "#E5ECF6",
              "width": 0.5
             },
             "pattern": {
              "fillmode": "overlay",
              "size": 10,
              "solidity": 0.2
             }
            },
            "type": "barpolar"
           }
          ],
          "carpet": [
           {
            "aaxis": {
             "endlinecolor": "#2a3f5f",
             "gridcolor": "white",
             "linecolor": "white",
             "minorgridcolor": "white",
             "startlinecolor": "#2a3f5f"
            },
            "baxis": {
             "endlinecolor": "#2a3f5f",
             "gridcolor": "white",
             "linecolor": "white",
             "minorgridcolor": "white",
             "startlinecolor": "#2a3f5f"
            },
            "type": "carpet"
           }
          ],
          "choropleth": [
           {
            "colorbar": {
             "outlinewidth": 0,
             "ticks": ""
            },
            "type": "choropleth"
           }
          ],
          "contour": [
           {
            "colorbar": {
             "outlinewidth": 0,
             "ticks": ""
            },
            "colorscale": [
             [
              0,
              "#0d0887"
             ],
             [
              0.1111111111111111,
              "#46039f"
             ],
             [
              0.2222222222222222,
              "#7201a8"
             ],
             [
              0.3333333333333333,
              "#9c179e"
             ],
             [
              0.4444444444444444,
              "#bd3786"
             ],
             [
              0.5555555555555556,
              "#d8576b"
             ],
             [
              0.6666666666666666,
              "#ed7953"
             ],
             [
              0.7777777777777778,
              "#fb9f3a"
             ],
             [
              0.8888888888888888,
              "#fdca26"
             ],
             [
              1,
              "#f0f921"
             ]
            ],
            "type": "contour"
           }
          ],
          "contourcarpet": [
           {
            "colorbar": {
             "outlinewidth": 0,
             "ticks": ""
            },
            "type": "contourcarpet"
           }
          ],
          "heatmap": [
           {
            "colorbar": {
             "outlinewidth": 0,
             "ticks": ""
            },
            "colorscale": [
             [
              0,
              "#0d0887"
             ],
             [
              0.1111111111111111,
              "#46039f"
             ],
             [
              0.2222222222222222,
              "#7201a8"
             ],
             [
              0.3333333333333333,
              "#9c179e"
             ],
             [
              0.4444444444444444,
              "#bd3786"
             ],
             [
              0.5555555555555556,
              "#d8576b"
             ],
             [
              0.6666666666666666,
              "#ed7953"
             ],
             [
              0.7777777777777778,
              "#fb9f3a"
             ],
             [
              0.8888888888888888,
              "#fdca26"
             ],
             [
              1,
              "#f0f921"
             ]
            ],
            "type": "heatmap"
           }
          ],
          "histogram": [
           {
            "marker": {
             "pattern": {
              "fillmode": "overlay",
              "size": 10,
              "solidity": 0.2
             }
            },
            "type": "histogram"
           }
          ],
          "histogram2d": [
           {
            "colorbar": {
             "outlinewidth": 0,
             "ticks": ""
            },
            "colorscale": [
             [
              0,
              "#0d0887"
             ],
             [
              0.1111111111111111,
              "#46039f"
             ],
             [
              0.2222222222222222,
              "#7201a8"
             ],
             [
              0.3333333333333333,
              "#9c179e"
             ],
             [
              0.4444444444444444,
              "#bd3786"
             ],
             [
              0.5555555555555556,
              "#d8576b"
             ],
             [
              0.6666666666666666,
              "#ed7953"
             ],
             [
              0.7777777777777778,
              "#fb9f3a"
             ],
             [
              0.8888888888888888,
              "#fdca26"
             ],
             [
              1,
              "#f0f921"
             ]
            ],
            "type": "histogram2d"
           }
          ],
          "histogram2dcontour": [
           {
            "colorbar": {
             "outlinewidth": 0,
             "ticks": ""
            },
            "colorscale": [
             [
              0,
              "#0d0887"
             ],
             [
              0.1111111111111111,
              "#46039f"
             ],
             [
              0.2222222222222222,
              "#7201a8"
             ],
             [
              0.3333333333333333,
              "#9c179e"
             ],
             [
              0.4444444444444444,
              "#bd3786"
             ],
             [
              0.5555555555555556,
              "#d8576b"
             ],
             [
              0.6666666666666666,
              "#ed7953"
             ],
             [
              0.7777777777777778,
              "#fb9f3a"
             ],
             [
              0.8888888888888888,
              "#fdca26"
             ],
             [
              1,
              "#f0f921"
             ]
            ],
            "type": "histogram2dcontour"
           }
          ],
          "mesh3d": [
           {
            "colorbar": {
             "outlinewidth": 0,
             "ticks": ""
            },
            "type": "mesh3d"
           }
          ],
          "parcoords": [
           {
            "line": {
             "colorbar": {
              "outlinewidth": 0,
              "ticks": ""
             }
            },
            "type": "parcoords"
           }
          ],
          "pie": [
           {
            "automargin": true,
            "type": "pie"
           }
          ],
          "scatter": [
           {
            "fillpattern": {
             "fillmode": "overlay",
             "size": 10,
             "solidity": 0.2
            },
            "type": "scatter"
           }
          ],
          "scatter3d": [
           {
            "line": {
             "colorbar": {
              "outlinewidth": 0,
              "ticks": ""
             }
            },
            "marker": {
             "colorbar": {
              "outlinewidth": 0,
              "ticks": ""
             }
            },
            "type": "scatter3d"
           }
          ],
          "scattercarpet": [
           {
            "marker": {
             "colorbar": {
              "outlinewidth": 0,
              "ticks": ""
             }
            },
            "type": "scattercarpet"
           }
          ],
          "scattergeo": [
           {
            "marker": {
             "colorbar": {
              "outlinewidth": 0,
              "ticks": ""
             }
            },
            "type": "scattergeo"
           }
          ],
          "scattergl": [
           {
            "marker": {
             "colorbar": {
              "outlinewidth": 0,
              "ticks": ""
             }
            },
            "type": "scattergl"
           }
          ],
          "scattermap": [
           {
            "marker": {
             "colorbar": {
              "outlinewidth": 0,
              "ticks": ""
             }
            },
            "type": "scattermap"
           }
          ],
          "scattermapbox": [
           {
            "marker": {
             "colorbar": {
              "outlinewidth": 0,
              "ticks": ""
             }
            },
            "type": "scattermapbox"
           }
          ],
          "scatterpolar": [
           {
            "marker": {
             "colorbar": {
              "outlinewidth": 0,
              "ticks": ""
             }
            },
            "type": "scatterpolar"
           }
          ],
          "scatterpolargl": [
           {
            "marker": {
             "colorbar": {
              "outlinewidth": 0,
              "ticks": ""
             }
            },
            "type": "scatterpolargl"
           }
          ],
          "scatterternary": [
           {
            "marker": {
             "colorbar": {
              "outlinewidth": 0,
              "ticks": ""
             }
            },
            "type": "scatterternary"
           }
          ],
          "surface": [
           {
            "colorbar": {
             "outlinewidth": 0,
             "ticks": ""
            },
            "colorscale": [
             [
              0,
              "#0d0887"
             ],
             [
              0.1111111111111111,
              "#46039f"
             ],
             [
              0.2222222222222222,
              "#7201a8"
             ],
             [
              0.3333333333333333,
              "#9c179e"
             ],
             [
              0.4444444444444444,
              "#bd3786"
             ],
             [
              0.5555555555555556,
              "#d8576b"
             ],
             [
              0.6666666666666666,
              "#ed7953"
             ],
             [
              0.7777777777777778,
              "#fb9f3a"
             ],
             [
              0.8888888888888888,
              "#fdca26"
             ],
             [
              1,
              "#f0f921"
             ]
            ],
            "type": "surface"
           }
          ],
          "table": [
           {
            "cells": {
             "fill": {
              "color": "#EBF0F8"
             },
             "line": {
              "color": "white"
             }
            },
            "header": {
             "fill": {
              "color": "#C8D4E3"
             },
             "line": {
              "color": "white"
             }
            },
            "type": "table"
           }
          ]
         },
         "layout": {
          "annotationdefaults": {
           "arrowcolor": "#2a3f5f",
           "arrowhead": 0,
           "arrowwidth": 1
          },
          "autotypenumbers": "strict",
          "coloraxis": {
           "colorbar": {
            "outlinewidth": 0,
            "ticks": ""
           }
          },
          "colorscale": {
           "diverging": [
            [
             0,
             "#8e0152"
            ],
            [
             0.1,
             "#c51b7d"
            ],
            [
             0.2,
             "#de77ae"
            ],
            [
             0.3,
             "#f1b6da"
            ],
            [
             0.4,
             "#fde0ef"
            ],
            [
             0.5,
             "#f7f7f7"
            ],
            [
             0.6,
             "#e6f5d0"
            ],
            [
             0.7,
             "#b8e186"
            ],
            [
             0.8,
             "#7fbc41"
            ],
            [
             0.9,
             "#4d9221"
            ],
            [
             1,
             "#276419"
            ]
           ],
           "sequential": [
            [
             0,
             "#0d0887"
            ],
            [
             0.1111111111111111,
             "#46039f"
            ],
            [
             0.2222222222222222,
             "#7201a8"
            ],
            [
             0.3333333333333333,
             "#9c179e"
            ],
            [
             0.4444444444444444,
             "#bd3786"
            ],
            [
             0.5555555555555556,
             "#d8576b"
            ],
            [
             0.6666666666666666,
             "#ed7953"
            ],
            [
             0.7777777777777778,
             "#fb9f3a"
            ],
            [
             0.8888888888888888,
             "#fdca26"
            ],
            [
             1,
             "#f0f921"
            ]
           ],
           "sequentialminus": [
            [
             0,
             "#0d0887"
            ],
            [
             0.1111111111111111,
             "#46039f"
            ],
            [
             0.2222222222222222,
             "#7201a8"
            ],
            [
             0.3333333333333333,
             "#9c179e"
            ],
            [
             0.4444444444444444,
             "#bd3786"
            ],
            [
             0.5555555555555556,
             "#d8576b"
            ],
            [
             0.6666666666666666,
             "#ed7953"
            ],
            [
             0.7777777777777778,
             "#fb9f3a"
            ],
            [
             0.8888888888888888,
             "#fdca26"
            ],
            [
             1,
             "#f0f921"
            ]
           ]
          },
          "colorway": [
           "#636efa",
           "#EF553B",
           "#00cc96",
           "#ab63fa",
           "#FFA15A",
           "#19d3f3",
           "#FF6692",
           "#B6E880",
           "#FF97FF",
           "#FECB52"
          ],
          "font": {
           "color": "#2a3f5f"
          },
          "geo": {
           "bgcolor": "white",
           "lakecolor": "white",
           "landcolor": "#E5ECF6",
           "showlakes": true,
           "showland": true,
           "subunitcolor": "white"
          },
          "hoverlabel": {
           "align": "left"
          },
          "hovermode": "closest",
          "mapbox": {
           "style": "light"
          },
          "paper_bgcolor": "white",
          "plot_bgcolor": "#E5ECF6",
          "polar": {
           "angularaxis": {
            "gridcolor": "white",
            "linecolor": "white",
            "ticks": ""
           },
           "bgcolor": "#E5ECF6",
           "radialaxis": {
            "gridcolor": "white",
            "linecolor": "white",
            "ticks": ""
           }
          },
          "scene": {
           "xaxis": {
            "backgroundcolor": "#E5ECF6",
            "gridcolor": "white",
            "gridwidth": 2,
            "linecolor": "white",
            "showbackground": true,
            "ticks": "",
            "zerolinecolor": "white"
           },
           "yaxis": {
            "backgroundcolor": "#E5ECF6",
            "gridcolor": "white",
            "gridwidth": 2,
            "linecolor": "white",
            "showbackground": true,
            "ticks": "",
            "zerolinecolor": "white"
           },
           "zaxis": {
            "backgroundcolor": "#E5ECF6",
            "gridcolor": "white",
            "gridwidth": 2,
            "linecolor": "white",
            "showbackground": true,
            "ticks": "",
            "zerolinecolor": "white"
           }
          },
          "shapedefaults": {
           "line": {
            "color": "#2a3f5f"
           }
          },
          "ternary": {
           "aaxis": {
            "gridcolor": "white",
            "linecolor": "white",
            "ticks": ""
           },
           "baxis": {
            "gridcolor": "white",
            "linecolor": "white",
            "ticks": ""
           },
           "bgcolor": "#E5ECF6",
           "caxis": {
            "gridcolor": "white",
            "linecolor": "white",
            "ticks": ""
           }
          },
          "title": {
           "x": 0.05
          },
          "xaxis": {
           "automargin": true,
           "gridcolor": "white",
           "linecolor": "white",
           "ticks": "",
           "title": {
            "standoff": 15
           },
           "zerolinecolor": "white",
           "zerolinewidth": 2
          },
          "yaxis": {
           "automargin": true,
           "gridcolor": "white",
           "linecolor": "white",
           "ticks": "",
           "title": {
            "standoff": 15
           },
           "zerolinecolor": "white",
           "zerolinewidth": 2
          }
         }
        },
        "title": {
         "text": "Распределение по балансам клиентов с балансом > 2500"
        },
        "width": 600,
        "xaxis": {
         "anchor": "y",
         "domain": [
          0,
          1
         ],
         "title": {
          "text": "Баланс клиента, $"
         }
        },
        "yaxis": {
         "anchor": "x",
         "domain": [
          0,
          1
         ],
         "title": {
          "text": "Вск клиенты"
         }
        }
       }
      }
     },
     "metadata": {},
     "output_type": "display_data"
    }
   ],
   "source": [
    "# Выбираем подмножество данных согласно условиям\n",
    "tmp_df = churn_df[churn_df[\"Balance\"] > 2500][[\"Balance\"]].copy()\n",
    "\n",
    "# Готовим графику: имеем распределение первичных данных, используем коробчатую диаграмму\n",
    "fig = px.box(\n",
    "    data_frame = tmp_df,  \n",
    "    x = \"Balance\", # По оси x отпечатаются балансы \n",
    "    title = 'Распределение по балансам клиентов с балансом > 2500', # Заголовок отчета\n",
    "    width = 600,  # Ширина графика\n",
    "    height = 400, # Высота графика\n",
    ")\n",
    "fig.update_layout(\n",
    "    bargap = 0.1, # Ширина вертикальной разделительной полосы\n",
    "    xaxis_title = \"Баланс клиента, $\", # Подпись оси x\n",
    "    yaxis_title = \"Вск клиенты\", # Подпись оси y\n",
    "    legend = dict( orientation = \"h\", x = 0, y = 150, title_font_family = \"Sitka Small\" ) # Сместим легенду слева вверху\n",
    ")\n",
    "fig.update_traces( quartilemethod = \"exclusive\") # Форма диаграммы\n",
    "fig.show() # Отображаем"
   ]
  },
  {
   "cell_type": "markdown",
   "id": "5bf321ac",
   "metadata": {},
   "source": [
    "Из графика видим, клиенты распределены от 41 до 199 тыс $. Медианный баланс 120 тыс $, максимальное распределение клиентов в отрезке от 100 (25% квантиль) до 140 (75% квантиль) тыс $. Выбросы слева и справа примерно одинаковой ширины\n"
   ]
  },
  {
   "cell_type": "markdown",
   "id": "cc6b8bf4",
   "metadata": {},
   "source": [
    "9.3. Посмотрите на распределение баланса клиента в разрезе признака оттока. Как различаются суммы на накопительном счёте ушедших и лояльных клиентов? Подумайте и напишите, с чем это может быть связано, что может не устраивать ушедших клиентов в банке."
   ]
  },
  {
   "cell_type": "code",
   "execution_count": 14,
   "id": "6283f535",
   "metadata": {},
   "outputs": [
    {
     "data": {
      "application/vnd.plotly.v1+json": {
       "config": {
        "plotlyServerURL": "https://plot.ly"
       },
       "data": [
        {
         "bingroup": "x",
         "histfunc": "sum",
         "hovertemplate": "Статус клиента: =Лояльные<br>Balance=%{x}<br>sum of value=%{y}<extra></extra>",
         "legendgroup": "Лояльные",
         "marker": {
          "color": "#636efa",
          "pattern": {
           "shape": ""
          }
         },
         "name": "Лояльные",
         "nbinsx": 50,
         "orientation": "v",
         "showlegend": true,
         "texttemplate": "%{value}",
         "type": "histogram",
         "x": {
          "bdata": "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",
          "dtype": "f8"
         },
         "xaxis": "x",
         "y": {
          "bdata": "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",
          "dtype": "f8"
         },
         "yaxis": "y"
        },
        {
         "bingroup": "x",
         "histfunc": "sum",
         "hovertemplate": "Статус клиента: =Ушедшие<br>Balance=%{x}<br>sum of value=%{y}<extra></extra>",
         "legendgroup": "Ушедшие",
         "marker": {
          "color": "#EF553B",
          "pattern": {
           "shape": ""
          }
         },
         "name": "Ушедшие",
         "nbinsx": 50,
         "orientation": "v",
         "showlegend": true,
         "texttemplate": "%{value}",
         "type": "histogram",
         "x": {
          "bdata": "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",
          "dtype": "f8"
         },
         "xaxis": "x",
         "y": {
          "bdata": "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",
          "dtype": "f8"
         },
         "yaxis": "y"
        }
       ],
       "layout": {
        "bargap": 0.1,
        "barmode": "relative",
        "height": 500,
        "legend": {
         "orientation": "h",
         "title": {
          "font": {
           "family": "Sitka Small"
          },
          "text": "Статус клиента: "
         },
         "tracegroupgap": 0,
         "x": 0,
         "y": 150
        },
        "template": {
         "data": {
          "bar": [
           {
            "error_x": {
             "color": "#2a3f5f"
            },
            "error_y": {
             "color": "#2a3f5f"
            },
            "marker": {
             "line": {
              "color": "#E5ECF6",
              "width": 0.5
             },
             "pattern": {
              "fillmode": "overlay",
              "size": 10,
              "solidity": 0.2
             }
            },
            "type": "bar"
           }
          ],
          "barpolar": [
           {
            "marker": {
             "line": {
              "color": "#E5ECF6",
              "width": 0.5
             },
             "pattern": {
              "fillmode": "overlay",
              "size": 10,
              "solidity": 0.2
             }
            },
            "type": "barpolar"
           }
          ],
          "carpet": [
           {
            "aaxis": {
             "endlinecolor": "#2a3f5f",
             "gridcolor": "white",
             "linecolor": "white",
             "minorgridcolor": "white",
             "startlinecolor": "#2a3f5f"
            },
            "baxis": {
             "endlinecolor": "#2a3f5f",
             "gridcolor": "white",
             "linecolor": "white",
             "minorgridcolor": "white",
             "startlinecolor": "#2a3f5f"
            },
            "type": "carpet"
           }
          ],
          "choropleth": [
           {
            "colorbar": {
             "outlinewidth": 0,
             "ticks": ""
            },
            "type": "choropleth"
           }
          ],
          "contour": [
           {
            "colorbar": {
             "outlinewidth": 0,
             "ticks": ""
            },
            "colorscale": [
             [
              0,
              "#0d0887"
             ],
             [
              0.1111111111111111,
              "#46039f"
             ],
             [
              0.2222222222222222,
              "#7201a8"
             ],
             [
              0.3333333333333333,
              "#9c179e"
             ],
             [
              0.4444444444444444,
              "#bd3786"
             ],
             [
              0.5555555555555556,
              "#d8576b"
             ],
             [
              0.6666666666666666,
              "#ed7953"
             ],
             [
              0.7777777777777778,
              "#fb9f3a"
             ],
             [
              0.8888888888888888,
              "#fdca26"
             ],
             [
              1,
              "#f0f921"
             ]
            ],
            "type": "contour"
           }
          ],
          "contourcarpet": [
           {
            "colorbar": {
             "outlinewidth": 0,
             "ticks": ""
            },
            "type": "contourcarpet"
           }
          ],
          "heatmap": [
           {
            "colorbar": {
             "outlinewidth": 0,
             "ticks": ""
            },
            "colorscale": [
             [
              0,
              "#0d0887"
             ],
             [
              0.1111111111111111,
              "#46039f"
             ],
             [
              0.2222222222222222,
              "#7201a8"
             ],
             [
              0.3333333333333333,
              "#9c179e"
             ],
             [
              0.4444444444444444,
              "#bd3786"
             ],
             [
              0.5555555555555556,
              "#d8576b"
             ],
             [
              0.6666666666666666,
              "#ed7953"
             ],
             [
              0.7777777777777778,
              "#fb9f3a"
             ],
             [
              0.8888888888888888,
              "#fdca26"
             ],
             [
              1,
              "#f0f921"
             ]
            ],
            "type": "heatmap"
           }
          ],
          "histogram": [
           {
            "marker": {
             "pattern": {
              "fillmode": "overlay",
              "size": 10,
              "solidity": 0.2
             }
            },
            "type": "histogram"
           }
          ],
          "histogram2d": [
           {
            "colorbar": {
             "outlinewidth": 0,
             "ticks": ""
            },
            "colorscale": [
             [
              0,
              "#0d0887"
             ],
             [
              0.1111111111111111,
              "#46039f"
             ],
             [
              0.2222222222222222,
              "#7201a8"
             ],
             [
              0.3333333333333333,
              "#9c179e"
             ],
             [
              0.4444444444444444,
              "#bd3786"
             ],
             [
              0.5555555555555556,
              "#d8576b"
             ],
             [
              0.6666666666666666,
              "#ed7953"
             ],
             [
              0.7777777777777778,
              "#fb9f3a"
             ],
             [
              0.8888888888888888,
              "#fdca26"
             ],
             [
              1,
              "#f0f921"
             ]
            ],
            "type": "histogram2d"
           }
          ],
          "histogram2dcontour": [
           {
            "colorbar": {
             "outlinewidth": 0,
             "ticks": ""
            },
            "colorscale": [
             [
              0,
              "#0d0887"
             ],
             [
              0.1111111111111111,
              "#46039f"
             ],
             [
              0.2222222222222222,
              "#7201a8"
             ],
             [
              0.3333333333333333,
              "#9c179e"
             ],
             [
              0.4444444444444444,
              "#bd3786"
             ],
             [
              0.5555555555555556,
              "#d8576b"
             ],
             [
              0.6666666666666666,
              "#ed7953"
             ],
             [
              0.7777777777777778,
              "#fb9f3a"
             ],
             [
              0.8888888888888888,
              "#fdca26"
             ],
             [
              1,
              "#f0f921"
             ]
            ],
            "type": "histogram2dcontour"
           }
          ],
          "mesh3d": [
           {
            "colorbar": {
             "outlinewidth": 0,
             "ticks": ""
            },
            "type": "mesh3d"
           }
          ],
          "parcoords": [
           {
            "line": {
             "colorbar": {
              "outlinewidth": 0,
              "ticks": ""
             }
            },
            "type": "parcoords"
           }
          ],
          "pie": [
           {
            "automargin": true,
            "type": "pie"
           }
          ],
          "scatter": [
           {
            "fillpattern": {
             "fillmode": "overlay",
             "size": 10,
             "solidity": 0.2
            },
            "type": "scatter"
           }
          ],
          "scatter3d": [
           {
            "line": {
             "colorbar": {
              "outlinewidth": 0,
              "ticks": ""
             }
            },
            "marker": {
             "colorbar": {
              "outlinewidth": 0,
              "ticks": ""
             }
            },
            "type": "scatter3d"
           }
          ],
          "scattercarpet": [
           {
            "marker": {
             "colorbar": {
              "outlinewidth": 0,
              "ticks": ""
             }
            },
            "type": "scattercarpet"
           }
          ],
          "scattergeo": [
           {
            "marker": {
             "colorbar": {
              "outlinewidth": 0,
              "ticks": ""
             }
            },
            "type": "scattergeo"
           }
          ],
          "scattergl": [
           {
            "marker": {
             "colorbar": {
              "outlinewidth": 0,
              "ticks": ""
             }
            },
            "type": "scattergl"
           }
          ],
          "scattermap": [
           {
            "marker": {
             "colorbar": {
              "outlinewidth": 0,
              "ticks": ""
             }
            },
            "type": "scattermap"
           }
          ],
          "scattermapbox": [
           {
            "marker": {
             "colorbar": {
              "outlinewidth": 0,
              "ticks": ""
             }
            },
            "type": "scattermapbox"
           }
          ],
          "scatterpolar": [
           {
            "marker": {
             "colorbar": {
              "outlinewidth": 0,
              "ticks": ""
             }
            },
            "type": "scatterpolar"
           }
          ],
          "scatterpolargl": [
           {
            "marker": {
             "colorbar": {
              "outlinewidth": 0,
              "ticks": ""
             }
            },
            "type": "scatterpolargl"
           }
          ],
          "scatterternary": [
           {
            "marker": {
             "colorbar": {
              "outlinewidth": 0,
              "ticks": ""
             }
            },
            "type": "scatterternary"
           }
          ],
          "surface": [
           {
            "colorbar": {
             "outlinewidth": 0,
             "ticks": ""
            },
            "colorscale": [
             [
              0,
              "#0d0887"
             ],
             [
              0.1111111111111111,
              "#46039f"
             ],
             [
              0.2222222222222222,
              "#7201a8"
             ],
             [
              0.3333333333333333,
              "#9c179e"
             ],
             [
              0.4444444444444444,
              "#bd3786"
             ],
             [
              0.5555555555555556,
              "#d8576b"
             ],
             [
              0.6666666666666666,
              "#ed7953"
             ],
             [
              0.7777777777777778,
              "#fb9f3a"
             ],
             [
              0.8888888888888888,
              "#fdca26"
             ],
             [
              1,
              "#f0f921"
             ]
            ],
            "type": "surface"
           }
          ],
          "table": [
           {
            "cells": {
             "fill": {
              "color": "#EBF0F8"
             },
             "line": {
              "color": "white"
             }
            },
            "header": {
             "fill": {
              "color": "#C8D4E3"
             },
             "line": {
              "color": "white"
             }
            },
            "type": "table"
           }
          ]
         },
         "layout": {
          "annotationdefaults": {
           "arrowcolor": "#2a3f5f",
           "arrowhead": 0,
           "arrowwidth": 1
          },
          "autotypenumbers": "strict",
          "coloraxis": {
           "colorbar": {
            "outlinewidth": 0,
            "ticks": ""
           }
          },
          "colorscale": {
           "diverging": [
            [
             0,
             "#8e0152"
            ],
            [
             0.1,
             "#c51b7d"
            ],
            [
             0.2,
             "#de77ae"
            ],
            [
             0.3,
             "#f1b6da"
            ],
            [
             0.4,
             "#fde0ef"
            ],
            [
             0.5,
             "#f7f7f7"
            ],
            [
             0.6,
             "#e6f5d0"
            ],
            [
             0.7,
             "#b8e186"
            ],
            [
             0.8,
             "#7fbc41"
            ],
            [
             0.9,
             "#4d9221"
            ],
            [
             1,
             "#276419"
            ]
           ],
           "sequential": [
            [
             0,
             "#0d0887"
            ],
            [
             0.1111111111111111,
             "#46039f"
            ],
            [
             0.2222222222222222,
             "#7201a8"
            ],
            [
             0.3333333333333333,
             "#9c179e"
            ],
            [
             0.4444444444444444,
             "#bd3786"
            ],
            [
             0.5555555555555556,
             "#d8576b"
            ],
            [
             0.6666666666666666,
             "#ed7953"
            ],
            [
             0.7777777777777778,
             "#fb9f3a"
            ],
            [
             0.8888888888888888,
             "#fdca26"
            ],
            [
             1,
             "#f0f921"
            ]
           ],
           "sequentialminus": [
            [
             0,
             "#0d0887"
            ],
            [
             0.1111111111111111,
             "#46039f"
            ],
            [
             0.2222222222222222,
             "#7201a8"
            ],
            [
             0.3333333333333333,
             "#9c179e"
            ],
            [
             0.4444444444444444,
             "#bd3786"
            ],
            [
             0.5555555555555556,
             "#d8576b"
            ],
            [
             0.6666666666666666,
             "#ed7953"
            ],
            [
             0.7777777777777778,
             "#fb9f3a"
            ],
            [
             0.8888888888888888,
             "#fdca26"
            ],
            [
             1,
             "#f0f921"
            ]
           ]
          },
          "colorway": [
           "#636efa",
           "#EF553B",
           "#00cc96",
           "#ab63fa",
           "#FFA15A",
           "#19d3f3",
           "#FF6692",
           "#B6E880",
           "#FF97FF",
           "#FECB52"
          ],
          "font": {
           "color": "#2a3f5f"
          },
          "geo": {
           "bgcolor": "white",
           "lakecolor": "white",
           "landcolor": "#E5ECF6",
           "showlakes": true,
           "showland": true,
           "subunitcolor": "white"
          },
          "hoverlabel": {
           "align": "left"
          },
          "hovermode": "closest",
          "mapbox": {
           "style": "light"
          },
          "paper_bgcolor": "white",
          "plot_bgcolor": "#E5ECF6",
          "polar": {
           "angularaxis": {
            "gridcolor": "white",
            "linecolor": "white",
            "ticks": ""
           },
           "bgcolor": "#E5ECF6",
           "radialaxis": {
            "gridcolor": "white",
            "linecolor": "white",
            "ticks": ""
           }
          },
          "scene": {
           "xaxis": {
            "backgroundcolor": "#E5ECF6",
            "gridcolor": "white",
            "gridwidth": 2,
            "linecolor": "white",
            "showbackground": true,
            "ticks": "",
            "zerolinecolor": "white"
           },
           "yaxis": {
            "backgroundcolor": "#E5ECF6",
            "gridcolor": "white",
            "gridwidth": 2,
            "linecolor": "white",
            "showbackground": true,
            "ticks": "",
            "zerolinecolor": "white"
           },
           "zaxis": {
            "backgroundcolor": "#E5ECF6",
            "gridcolor": "white",
            "gridwidth": 2,
            "linecolor": "white",
            "showbackground": true,
            "ticks": "",
            "zerolinecolor": "white"
           }
          },
          "shapedefaults": {
           "line": {
            "color": "#2a3f5f"
           }
          },
          "ternary": {
           "aaxis": {
            "gridcolor": "white",
            "linecolor": "white",
            "ticks": ""
           },
           "baxis": {
            "gridcolor": "white",
            "linecolor": "white",
            "ticks": ""
           },
           "bgcolor": "#E5ECF6",
           "caxis": {
            "gridcolor": "white",
            "linecolor": "white",
            "ticks": ""
           }
          },
          "title": {
           "x": 0.05
          },
          "xaxis": {
           "automargin": true,
           "gridcolor": "white",
           "linecolor": "white",
           "ticks": "",
           "title": {
            "standoff": 15
           },
           "zerolinecolor": "white",
           "zerolinewidth": 2
          },
          "yaxis": {
           "automargin": true,
           "gridcolor": "white",
           "linecolor": "white",
           "ticks": "",
           "title": {
            "standoff": 15
           },
           "zerolinecolor": "white",
           "zerolinewidth": 2
          }
         }
        },
        "title": {
         "text": "Распределение по балансам"
        },
        "width": 1000,
        "xaxis": {
         "anchor": "y",
         "domain": [
          0,
          1
         ],
         "title": {
          "text": "Баланс клиента, $"
         }
        },
        "yaxis": {
         "anchor": "x",
         "domain": [
          0,
          1
         ],
         "title": {
          "text": "Количество"
         }
        }
       }
      }
     },
     "metadata": {},
     "output_type": "display_data"
    }
   ],
   "source": [
    "# Выбираем нужные признаки\n",
    "tmp_df = churn_df[[\"Balance\", 'Exited','CustomerId']].copy()\n",
    "\n",
    "# Группируем и подписываем данные\n",
    "# Долю оттока к общему количеству выводить не будем, дадим вместо этого общее количество.\n",
    "df = tmp_df.pivot_table(\n",
    "    index = 'Balance',\n",
    "    columns = 'Exited',\n",
    "    values = 'CustomerId',\n",
    "    aggfunc = 'count'\n",
    ")\n",
    "df = df.rename( columns = {1: \"Ушедшие\", 0: \"Лояльные\"})\n",
    "\n",
    "# Готовим графику: имеем распределение первичных данных, используем гистограммы\n",
    "fig = px.histogram(\n",
    "    data_frame = df,\n",
    "    x = df.index,   # По оси x отпечатаются балансы клиентов\n",
    "    y = df.columns, # По оси y отпечатается количество лояльных и ушедших клиентов\n",
    "    nbins = 50, # Число интервалов \n",
    "    text_auto = True, # Отображать надписи на колонках гистограммы\n",
    "    title = 'Распределение по балансам', #заголовок\n",
    "    width = 1000, # Ширина графика\n",
    "    height = 500, # Высота графика\n",
    "    labels = {'Exited': 'Статус клиента: '} # Подпись на легенде\n",
    ")\n",
    "fig.update_layout(\n",
    "    bargap = 0.1, # Ширина вертикальной разделительной вертикальной полосы\n",
    "    xaxis_title = \"Баланс клиента, $\", # Подпись оси x\n",
    "    yaxis_title = \"Количество\", # Подпись оси y\n",
    "    legend = dict( orientation = \"h\", x = 0, y = 150, title_font_family = \"Sitka Small\" ) # Сместим легенду воева вверх\n",
    ")\n",
    "fig.show() # Отображаем"
   ]
  },
  {
   "cell_type": "markdown",
   "id": "d5abf27c",
   "metadata": {},
   "source": [
    "Из графика видим, что \n",
    "1) Максимальное количество клиентов (как лояльных, так и ушедших) находится в диапазоне 90-150 тыс долларов.\n",
    "2) Доля ушедших в диапазоне с балансом 90-150 тыс немного выше, чем вне диапазона\n",
    "3) Пик в начале графика - это новые клиенты, которые решили попрововать открыть счет в банке, положили некую тестовую сумму. Большинство из них осталось и часть ушла.\n",
    "4) По краям графика колебания оконо нулевой отметки. Возможно это разовые операции, клиенты не собирались долгосрочно открывать счет"
   ]
  },
  {
   "cell_type": "markdown",
   "id": "7f41f074",
   "metadata": {},
   "source": [
    "9.4. Посмотрите на распределение возраста в разрезе признака оттока. В какой группе больше потенциальных выбросов? На какую возрастную категорию клиентов стоит обратить внимание банку?"
   ]
  },
  {
   "cell_type": "code",
   "execution_count": 175,
   "id": "9a3529fc",
   "metadata": {},
   "outputs": [
    {
     "data": {
      "application/vnd.plotly.v1+json": {
       "config": {
        "plotlyServerURL": "https://plot.ly"
       },
       "data": [
        {
         "hovertemplate": "Age=%{x}<br>Отток=%{marker.color}<extra></extra>",
         "legendgroup": "",
         "marker": {
          "color": {
           "bdata": "CQQFBg4GCwQHBggIBwgICgcMDA0NERUTGB4cJigsMDM1Nz82PTtHMyswNCgoLSAsFA4gCRYaBQgGAAAAAAAAAAAAMgAAAA==",
           "dtype": "i1"
          },
          "coloraxis": "coloraxis",
          "pattern": {
           "shape": ""
          }
         },
         "name": "",
         "orientation": "v",
         "showlegend": false,
         "text": {
          "bdata": "AAAAAAAAIkAAAAAAAAAQQAAAAAAAABRAAAAAAAAAGEAAAAAAAAAsQAAAAAAAABhAAAAAAAAAJkAAAAAAAAAQQAAAAAAAABxAAAAAAAAAGEAAAAAAAAAgQAAAAAAAACBAAAAAAAAAHEAAAAAAAAAgQAAAAAAAACBAAAAAAAAAJEAAAAAAAAAcQAAAAAAAAChAAAAAAAAAKEAAAAAAAAAqQAAAAAAAACpAAAAAAAAAMUAAAAAAAAA1QAAAAAAAADNAAAAAAAAAOEAAAAAAAAA+QAAAAAAAADxAAAAAAAAAQ0AAAAAAAABEQAAAAAAAAEZAAAAAAAAASEAAAAAAAIBJQAAAAAAAgEpAAAAAAACAS0AAAAAAAIBPQAAAAAAAAEtAAAAAAACATkAAAAAAAIBNQAAAAAAAwFFAAAAAAACASUAAAAAAAIBFQAAAAAAAAEhAAAAAAAAASkAAAAAAAABEQAAAAAAAAERAAAAAAACARkAAAAAAAABAQAAAAAAAAEZAAAAAAAAANEAAAAAAAAAsQAAAAAAAAEBAAAAAAAAAIkAAAAAAAAA2QAAAAAAAADpAAAAAAAAAFEAAAAAAAAAgQAAAAAAAABhAAAAAAAAAAAAAAAAAAAAAAAAAAAAAAAAAAAAAAAAAAAAAAAAAAAAAAAAAAAAAAAAAAAAAAAAAAAAAAAAAAAAAAAAAAAAAAAAAAAAAAAAASUAAAAAAAAAAAAAAAAAAAAAAAAAAAAAAAAA=",
          "dtype": "f8"
         },
         "textposition": "auto",
         "type": "bar",
         "x": {
          "bdata": "EhMUFRYXGBkaGxwdHh8gISIjJCUmJygpKissLS4vMDEyMzQ1Njc4OTo7PD0+P0BBQkNERUZHSElKS0xNTk9QUVJTVFVYXA==",
          "dtype": "i1"
         },
         "xaxis": "x",
         "y": {
          "bdata": "CQQFBg4GCwQHBggIBwgICgcMDA0NERUTGB4cJigsMDM1Nz82PTtHMyswNCgoLSAsFA4gCRYaBQgGAAAAAAAAAAAAMgAAAA==",
          "dtype": "i1"
         },
         "yaxis": "y"
        }
       ],
       "layout": {
        "bargap": 0.1,
        "barmode": "relative",
        "coloraxis": {
         "colorbar": {
          "title": {
           "text": "Отток"
          }
         },
         "colorscale": [
          [
           0,
           "#0d0887"
          ],
          [
           0.1111111111111111,
           "#46039f"
          ],
          [
           0.2222222222222222,
           "#7201a8"
          ],
          [
           0.3333333333333333,
           "#9c179e"
          ],
          [
           0.4444444444444444,
           "#bd3786"
          ],
          [
           0.5555555555555556,
           "#d8576b"
          ],
          [
           0.6666666666666666,
           "#ed7953"
          ],
          [
           0.7777777777777778,
           "#fb9f3a"
          ],
          [
           0.8888888888888888,
           "#fdca26"
          ],
          [
           1,
           "#f0f921"
          ]
         ]
        },
        "height": 500,
        "legend": {
         "tracegroupgap": 0
        },
        "template": {
         "data": {
          "bar": [
           {
            "error_x": {
             "color": "#2a3f5f"
            },
            "error_y": {
             "color": "#2a3f5f"
            },
            "marker": {
             "line": {
              "color": "#E5ECF6",
              "width": 0.5
             },
             "pattern": {
              "fillmode": "overlay",
              "size": 10,
              "solidity": 0.2
             }
            },
            "type": "bar"
           }
          ],
          "barpolar": [
           {
            "marker": {
             "line": {
              "color": "#E5ECF6",
              "width": 0.5
             },
             "pattern": {
              "fillmode": "overlay",
              "size": 10,
              "solidity": 0.2
             }
            },
            "type": "barpolar"
           }
          ],
          "carpet": [
           {
            "aaxis": {
             "endlinecolor": "#2a3f5f",
             "gridcolor": "white",
             "linecolor": "white",
             "minorgridcolor": "white",
             "startlinecolor": "#2a3f5f"
            },
            "baxis": {
             "endlinecolor": "#2a3f5f",
             "gridcolor": "white",
             "linecolor": "white",
             "minorgridcolor": "white",
             "startlinecolor": "#2a3f5f"
            },
            "type": "carpet"
           }
          ],
          "choropleth": [
           {
            "colorbar": {
             "outlinewidth": 0,
             "ticks": ""
            },
            "type": "choropleth"
           }
          ],
          "contour": [
           {
            "colorbar": {
             "outlinewidth": 0,
             "ticks": ""
            },
            "colorscale": [
             [
              0,
              "#0d0887"
             ],
             [
              0.1111111111111111,
              "#46039f"
             ],
             [
              0.2222222222222222,
              "#7201a8"
             ],
             [
              0.3333333333333333,
              "#9c179e"
             ],
             [
              0.4444444444444444,
              "#bd3786"
             ],
             [
              0.5555555555555556,
              "#d8576b"
             ],
             [
              0.6666666666666666,
              "#ed7953"
             ],
             [
              0.7777777777777778,
              "#fb9f3a"
             ],
             [
              0.8888888888888888,
              "#fdca26"
             ],
             [
              1,
              "#f0f921"
             ]
            ],
            "type": "contour"
           }
          ],
          "contourcarpet": [
           {
            "colorbar": {
             "outlinewidth": 0,
             "ticks": ""
            },
            "type": "contourcarpet"
           }
          ],
          "heatmap": [
           {
            "colorbar": {
             "outlinewidth": 0,
             "ticks": ""
            },
            "colorscale": [
             [
              0,
              "#0d0887"
             ],
             [
              0.1111111111111111,
              "#46039f"
             ],
             [
              0.2222222222222222,
              "#7201a8"
             ],
             [
              0.3333333333333333,
              "#9c179e"
             ],
             [
              0.4444444444444444,
              "#bd3786"
             ],
             [
              0.5555555555555556,
              "#d8576b"
             ],
             [
              0.6666666666666666,
              "#ed7953"
             ],
             [
              0.7777777777777778,
              "#fb9f3a"
             ],
             [
              0.8888888888888888,
              "#fdca26"
             ],
             [
              1,
              "#f0f921"
             ]
            ],
            "type": "heatmap"
           }
          ],
          "histogram": [
           {
            "marker": {
             "pattern": {
              "fillmode": "overlay",
              "size": 10,
              "solidity": 0.2
             }
            },
            "type": "histogram"
           }
          ],
          "histogram2d": [
           {
            "colorbar": {
             "outlinewidth": 0,
             "ticks": ""
            },
            "colorscale": [
             [
              0,
              "#0d0887"
             ],
             [
              0.1111111111111111,
              "#46039f"
             ],
             [
              0.2222222222222222,
              "#7201a8"
             ],
             [
              0.3333333333333333,
              "#9c179e"
             ],
             [
              0.4444444444444444,
              "#bd3786"
             ],
             [
              0.5555555555555556,
              "#d8576b"
             ],
             [
              0.6666666666666666,
              "#ed7953"
             ],
             [
              0.7777777777777778,
              "#fb9f3a"
             ],
             [
              0.8888888888888888,
              "#fdca26"
             ],
             [
              1,
              "#f0f921"
             ]
            ],
            "type": "histogram2d"
           }
          ],
          "histogram2dcontour": [
           {
            "colorbar": {
             "outlinewidth": 0,
             "ticks": ""
            },
            "colorscale": [
             [
              0,
              "#0d0887"
             ],
             [
              0.1111111111111111,
              "#46039f"
             ],
             [
              0.2222222222222222,
              "#7201a8"
             ],
             [
              0.3333333333333333,
              "#9c179e"
             ],
             [
              0.4444444444444444,
              "#bd3786"
             ],
             [
              0.5555555555555556,
              "#d8576b"
             ],
             [
              0.6666666666666666,
              "#ed7953"
             ],
             [
              0.7777777777777778,
              "#fb9f3a"
             ],
             [
              0.8888888888888888,
              "#fdca26"
             ],
             [
              1,
              "#f0f921"
             ]
            ],
            "type": "histogram2dcontour"
           }
          ],
          "mesh3d": [
           {
            "colorbar": {
             "outlinewidth": 0,
             "ticks": ""
            },
            "type": "mesh3d"
           }
          ],
          "parcoords": [
           {
            "line": {
             "colorbar": {
              "outlinewidth": 0,
              "ticks": ""
             }
            },
            "type": "parcoords"
           }
          ],
          "pie": [
           {
            "automargin": true,
            "type": "pie"
           }
          ],
          "scatter": [
           {
            "fillpattern": {
             "fillmode": "overlay",
             "size": 10,
             "solidity": 0.2
            },
            "type": "scatter"
           }
          ],
          "scatter3d": [
           {
            "line": {
             "colorbar": {
              "outlinewidth": 0,
              "ticks": ""
             }
            },
            "marker": {
             "colorbar": {
              "outlinewidth": 0,
              "ticks": ""
             }
            },
            "type": "scatter3d"
           }
          ],
          "scattercarpet": [
           {
            "marker": {
             "colorbar": {
              "outlinewidth": 0,
              "ticks": ""
             }
            },
            "type": "scattercarpet"
           }
          ],
          "scattergeo": [
           {
            "marker": {
             "colorbar": {
              "outlinewidth": 0,
              "ticks": ""
             }
            },
            "type": "scattergeo"
           }
          ],
          "scattergl": [
           {
            "marker": {
             "colorbar": {
              "outlinewidth": 0,
              "ticks": ""
             }
            },
            "type": "scattergl"
           }
          ],
          "scattermap": [
           {
            "marker": {
             "colorbar": {
              "outlinewidth": 0,
              "ticks": ""
             }
            },
            "type": "scattermap"
           }
          ],
          "scattermapbox": [
           {
            "marker": {
             "colorbar": {
              "outlinewidth": 0,
              "ticks": ""
             }
            },
            "type": "scattermapbox"
           }
          ],
          "scatterpolar": [
           {
            "marker": {
             "colorbar": {
              "outlinewidth": 0,
              "ticks": ""
             }
            },
            "type": "scatterpolar"
           }
          ],
          "scatterpolargl": [
           {
            "marker": {
             "colorbar": {
              "outlinewidth": 0,
              "ticks": ""
             }
            },
            "type": "scatterpolargl"
           }
          ],
          "scatterternary": [
           {
            "marker": {
             "colorbar": {
              "outlinewidth": 0,
              "ticks": ""
             }
            },
            "type": "scatterternary"
           }
          ],
          "surface": [
           {
            "colorbar": {
             "outlinewidth": 0,
             "ticks": ""
            },
            "colorscale": [
             [
              0,
              "#0d0887"
             ],
             [
              0.1111111111111111,
              "#46039f"
             ],
             [
              0.2222222222222222,
              "#7201a8"
             ],
             [
              0.3333333333333333,
              "#9c179e"
             ],
             [
              0.4444444444444444,
              "#bd3786"
             ],
             [
              0.5555555555555556,
              "#d8576b"
             ],
             [
              0.6666666666666666,
              "#ed7953"
             ],
             [
              0.7777777777777778,
              "#fb9f3a"
             ],
             [
              0.8888888888888888,
              "#fdca26"
             ],
             [
              1,
              "#f0f921"
             ]
            ],
            "type": "surface"
           }
          ],
          "table": [
           {
            "cells": {
             "fill": {
              "color": "#EBF0F8"
             },
             "line": {
              "color": "white"
             }
            },
            "header": {
             "fill": {
              "color": "#C8D4E3"
             },
             "line": {
              "color": "white"
             }
            },
            "type": "table"
           }
          ]
         },
         "layout": {
          "annotationdefaults": {
           "arrowcolor": "#2a3f5f",
           "arrowhead": 0,
           "arrowwidth": 1
          },
          "autotypenumbers": "strict",
          "coloraxis": {
           "colorbar": {
            "outlinewidth": 0,
            "ticks": ""
           }
          },
          "colorscale": {
           "diverging": [
            [
             0,
             "#8e0152"
            ],
            [
             0.1,
             "#c51b7d"
            ],
            [
             0.2,
             "#de77ae"
            ],
            [
             0.3,
             "#f1b6da"
            ],
            [
             0.4,
             "#fde0ef"
            ],
            [
             0.5,
             "#f7f7f7"
            ],
            [
             0.6,
             "#e6f5d0"
            ],
            [
             0.7,
             "#b8e186"
            ],
            [
             0.8,
             "#7fbc41"
            ],
            [
             0.9,
             "#4d9221"
            ],
            [
             1,
             "#276419"
            ]
           ],
           "sequential": [
            [
             0,
             "#0d0887"
            ],
            [
             0.1111111111111111,
             "#46039f"
            ],
            [
             0.2222222222222222,
             "#7201a8"
            ],
            [
             0.3333333333333333,
             "#9c179e"
            ],
            [
             0.4444444444444444,
             "#bd3786"
            ],
            [
             0.5555555555555556,
             "#d8576b"
            ],
            [
             0.6666666666666666,
             "#ed7953"
            ],
            [
             0.7777777777777778,
             "#fb9f3a"
            ],
            [
             0.8888888888888888,
             "#fdca26"
            ],
            [
             1,
             "#f0f921"
            ]
           ],
           "sequentialminus": [
            [
             0,
             "#0d0887"
            ],
            [
             0.1111111111111111,
             "#46039f"
            ],
            [
             0.2222222222222222,
             "#7201a8"
            ],
            [
             0.3333333333333333,
             "#9c179e"
            ],
            [
             0.4444444444444444,
             "#bd3786"
            ],
            [
             0.5555555555555556,
             "#d8576b"
            ],
            [
             0.6666666666666666,
             "#ed7953"
            ],
            [
             0.7777777777777778,
             "#fb9f3a"
            ],
            [
             0.8888888888888888,
             "#fdca26"
            ],
            [
             1,
             "#f0f921"
            ]
           ]
          },
          "colorway": [
           "#636efa",
           "#EF553B",
           "#00cc96",
           "#ab63fa",
           "#FFA15A",
           "#19d3f3",
           "#FF6692",
           "#B6E880",
           "#FF97FF",
           "#FECB52"
          ],
          "font": {
           "color": "#2a3f5f"
          },
          "geo": {
           "bgcolor": "white",
           "lakecolor": "white",
           "landcolor": "#E5ECF6",
           "showlakes": true,
           "showland": true,
           "subunitcolor": "white"
          },
          "hoverlabel": {
           "align": "left"
          },
          "hovermode": "closest",
          "mapbox": {
           "style": "light"
          },
          "paper_bgcolor": "white",
          "plot_bgcolor": "#E5ECF6",
          "polar": {
           "angularaxis": {
            "gridcolor": "white",
            "linecolor": "white",
            "ticks": ""
           },
           "bgcolor": "#E5ECF6",
           "radialaxis": {
            "gridcolor": "white",
            "linecolor": "white",
            "ticks": ""
           }
          },
          "scene": {
           "xaxis": {
            "backgroundcolor": "#E5ECF6",
            "gridcolor": "white",
            "gridwidth": 2,
            "linecolor": "white",
            "showbackground": true,
            "ticks": "",
            "zerolinecolor": "white"
           },
           "yaxis": {
            "backgroundcolor": "#E5ECF6",
            "gridcolor": "white",
            "gridwidth": 2,
            "linecolor": "white",
            "showbackground": true,
            "ticks": "",
            "zerolinecolor": "white"
           },
           "zaxis": {
            "backgroundcolor": "#E5ECF6",
            "gridcolor": "white",
            "gridwidth": 2,
            "linecolor": "white",
            "showbackground": true,
            "ticks": "",
            "zerolinecolor": "white"
           }
          },
          "shapedefaults": {
           "line": {
            "color": "#2a3f5f"
           }
          },
          "ternary": {
           "aaxis": {
            "gridcolor": "white",
            "linecolor": "white",
            "ticks": ""
           },
           "baxis": {
            "gridcolor": "white",
            "linecolor": "white",
            "ticks": ""
           },
           "bgcolor": "#E5ECF6",
           "caxis": {
            "gridcolor": "white",
            "linecolor": "white",
            "ticks": ""
           }
          },
          "title": {
           "x": 0.05
          },
          "xaxis": {
           "automargin": true,
           "gridcolor": "white",
           "linecolor": "white",
           "ticks": "",
           "title": {
            "standoff": 15
           },
           "zerolinecolor": "white",
           "zerolinewidth": 2
          },
          "yaxis": {
           "automargin": true,
           "gridcolor": "white",
           "linecolor": "white",
           "ticks": "",
           "title": {
            "standoff": 15
           },
           "zerolinecolor": "white",
           "zerolinewidth": 2
          }
         }
        },
        "title": {
         "text": "Распределение оттока клиентов по годам"
        },
        "width": 2000,
        "xaxis": {
         "anchor": "y",
         "domain": [
          0,
          1
         ],
         "title": {
          "text": "Возраст, лет"
         }
        },
        "yaxis": {
         "anchor": "x",
         "domain": [
          0,
          1
         ],
         "title": {
          "text": "Доля, %"
         }
        }
       }
      }
     },
     "metadata": {},
     "output_type": "display_data"
    }
   ],
   "source": [
    "# Выбираем нужные признаки\n",
    "tmp_df = churn_df[['Age','Exited','CustomerId']].copy()\n",
    "\n",
    "# Группируем и подписываем данные\n",
    "df = tmp_df.groupby( 'Age', as_index = False )['Exited'].mean().round(2) \n",
    "df[\"Отток\"] = (df[\"Exited\"] * 100).astype( int )\n",
    "\n",
    "# Готовим графику: имеем распределение по группам - годы, используем столбчатую диграмму\n",
    "fig = px.bar(\n",
    "    data_frame = df,\n",
    "    \n",
    "    x = \"Age\",   # По оси x отпечатаются возрасты клинета \n",
    "    y = \"Отток\", #\"Exited\", #\"Отток\", # По оси y отпечатается количество лояльных и ушедших клиентов\n",
    "    #text_auto = True, # Отображать надписи на колонках гистограммы\n",
    "    title = 'Распределение оттока клиентов по годам', #заголовок\n",
    "    width = 2000,    # Ширина графика\n",
    "    height = 500,    # Высота графика\n",
    "    text = \"Отток\",  # Печатаем величину оттока\n",
    "    color = \"Отток\", # Раскрасим по величине оттока\n",
    ")\n",
    "fig.update_layout(\n",
    "    bargap = 0.1, # Ширина вертикальной разделительной вертикальной полосы\n",
    "    xaxis_title = \"Возраст, лет\", # Подпись оси x\n",
    "    yaxis_title = \"Доля, %\", # Подпись оси y\n",
    ")\n",
    "fig.show() # Отображаем"
   ]
  },
  {
   "cell_type": "markdown",
   "id": "99ebf957",
   "metadata": {},
   "source": [
    "Из графика видим, что\n",
    "1) До 35 лет доля отток клиентов минимальный (по отношению к притоку), затем он плавно растет\n",
    "2) К 50 годам сравнивается с притоком и начинает его превосходить. Следует обратить внимание на эту группу\n",
    "3) с 60 годов отток спадает быстрее, чем приток\n",
    "4) В 84 года аномалия на графике: единственный год, в котором наблюдался отток с 74 года"
   ]
  },
  {
   "cell_type": "markdown",
   "id": "b2b2d4b6",
   "metadata": {},
   "source": [
    "9.5. Постройте график, который показывает взаимосвязь кредитного рейтинга клиента и его предполагаемой зарплаты. Добавьте расцветку по признаку оттока клиентов. Какова взаимосвязь между признаками? Если не видите явной взаимосвязи, укажите это."
   ]
  },
  {
   "cell_type": "code",
   "execution_count": 176,
   "id": "e5d21057",
   "metadata": {},
   "outputs": [
    {
     "data": {
      "application/vnd.plotly.v1+json": {
       "config": {
        "plotlyServerURL": "https://plot.ly"
       },
       "data": [
        {
         "hovertemplate": "Статус клиента: =Приток<br>EstimatedSalary_5000=%{x}<br>value=%{y}<extra></extra>",
         "legendgroup": "Приток",
         "line": {
          "color": "#636efa",
          "dash": "solid"
         },
         "marker": {
          "symbol": "circle"
         },
         "mode": "lines+markers",
         "name": "Приток",
         "orientation": "v",
         "showlegend": true,
         "type": "scatter",
         "x": {
          "bdata": "AAECAwQFBgcICQoLDA0ODxAREhMUFRYXGBkaGxwdHh8gISIjJCUmJyg=",
          "dtype": "i1"
         },
         "xaxis": "x",
         "y": {
          "bdata": "F1100UXDhEB/0FGBL+aDQAAAAAAAGoRAxSVDsI4+hEAFL6fg5V6EQIEKqIAKYIRAZHUZ9kqHhEBkTsDz6XmEQPy8TbrLyIRAcWtvrP6YhEBk893wowqEQEId1EEdAIRACd2L0L14hEDY19fX152EQFN/Sv0pfYRAEgUmnZpbhEDiQs1JIFaEQMQdcUfcWYRAE6d+zy1FhEDWxtB0BwuEQNMUvyRCUoRAhafCU+F5hEAXG1xscBmEQD4G52NwtoRA6JY49XtihEA1J4G4UP+DQAAAAABAJ4RASQEJP7kwhEAiZnPpUKuEQAVO4AROfIRACaWNd1RzhEA83ZofFlWEQHsUrkfh7YNAiTcj3oxghEAyNN3BfluEQMuO51RSmIRAzczMzMyyhEDDqE6Tg6yEQOyV/pztiIRAsRM7sZNehEDcR3AfwamEQA==",
          "dtype": "f8"
         },
         "yaxis": "y"
        },
        {
         "hovertemplate": "Статус клиента: =Отток<br>EstimatedSalary_5000=%{x}<br>value=%{y}<extra></extra>",
         "legendgroup": "Отток",
         "line": {
          "color": "#EF553B",
          "dash": "solid"
         },
         "marker": {
          "symbol": "circle"
         },
         "mode": "lines+markers",
         "name": "Отток",
         "orientation": "v",
         "showlegend": true,
         "type": "scatter",
         "x": {
          "bdata": "AAECAwQFBgcICQoLDA0ODxAREhMUFRYXGBkaGxwdHh8gISIjJCUmJyg=",
          "dtype": "i1"
         },
         "xaxis": "x",
         "y": {
          "bdata": "6k1vetP7g0BmZmZmZoKEQMhCFrKQ6YNAvzy2ImjohEBGF1100auEQAXjrexzWIVA1r5h7Rv2hEDRWB8a6+uEQDMzMzMziYNAFsTkCmIShEAfGutDY0WEQHE9CtejJIRAdNFFF11MhECamZmZmemDQAUxuYKYvIRAYid2YifGg0Ce53me53GDQPKUIE8JMoRAJ3ZiJ3Y6hEA9CtejcJGEQOpNb3rT94NAnN70pjf1g0BKkKcEeXqDQKG9hPYSooNA0uZ9iktWhEAG52NwPv6DQE/sxE7s2INAIQtZyEImhEDuI7iP4P6DQAAAAAAAwINAISZXEJPDg0AnGG9ln1uEQHFH3BF3dIRAsdzTCMsdhEAfhetRuNaDQO/u7u7u0oNAqBGWexoVhEB4eHh4eNiEQB1ItMLmKIRADdIgDdIAhECrqqqqqseCQA==",
          "dtype": "f8"
         },
         "yaxis": "y"
        },
        {
         "hovertemplate": "Статус клиента: =Итог<br>EstimatedSalary_5000=%{x}<br>value=%{y}<extra></extra>",
         "legendgroup": "Итог",
         "line": {
          "color": "#00cc96",
          "dash": "solid"
         },
         "marker": {
          "symbol": "circle"
         },
         "mode": "lines+markers",
         "name": "Итог",
         "orientation": "v",
         "showlegend": true,
         "type": "scatter",
         "x": {
          "bdata": "AAECAwQFBgcICQoLDA0ODxAREhMUFRYXGBkaGxwdHh8gISIjJCUmJyg=",
          "dtype": "i1"
         },
         "xaxis": "x",
         "y": {
          "bdata": "jQsyLsighEA371NcMgaEQAwCK4cWEYRADUqFifdnhEAAAAAAAG2EQIQQQgghlYRADSd1Xx6hhEAOeUPekI+EQNFFF110kYRAIiIiIqJ+hEBBEARBEBaEQHIjN3IjB4RAllqplVpvhED5rBtMkXeEQKHhpO7LiYRAIBAIBAI9hEBGF1100TGEQNwUo4a/UYRAsNWzQ+BChEAAAAAASCWEQPLx8fHxQYRAA9spQ61ihECTIVhHm/WDQE3mXYvRfIRAMj0MnIVfhEALI0T2Jf+DQMUlQ7COFoRANXncWcIuhEAAAAAAAISEQPbWhmnuVoRAGYJ1tHlRhEAqa8qaslaEQGn0iAqyBYRAjoHV3t9QhEAAAAAAkEGEQCryWTeYaoRAlTVlTVmPhEAhC1nIQraEQH7f933fbYRAfLii9cVPhED1pje96VWEQA==",
          "dtype": "f8"
         },
         "yaxis": "y"
        }
       ],
       "layout": {
        "height": 600,
        "legend": {
         "orientation": "h",
         "title": {
          "font": {
           "family": "Sitka Small"
          },
          "text": "Статус клиента: "
         },
         "tracegroupgap": 0,
         "x": 0,
         "y": 150
        },
        "template": {
         "data": {
          "bar": [
           {
            "error_x": {
             "color": "#2a3f5f"
            },
            "error_y": {
             "color": "#2a3f5f"
            },
            "marker": {
             "line": {
              "color": "#E5ECF6",
              "width": 0.5
             },
             "pattern": {
              "fillmode": "overlay",
              "size": 10,
              "solidity": 0.2
             }
            },
            "type": "bar"
           }
          ],
          "barpolar": [
           {
            "marker": {
             "line": {
              "color": "#E5ECF6",
              "width": 0.5
             },
             "pattern": {
              "fillmode": "overlay",
              "size": 10,
              "solidity": 0.2
             }
            },
            "type": "barpolar"
           }
          ],
          "carpet": [
           {
            "aaxis": {
             "endlinecolor": "#2a3f5f",
             "gridcolor": "white",
             "linecolor": "white",
             "minorgridcolor": "white",
             "startlinecolor": "#2a3f5f"
            },
            "baxis": {
             "endlinecolor": "#2a3f5f",
             "gridcolor": "white",
             "linecolor": "white",
             "minorgridcolor": "white",
             "startlinecolor": "#2a3f5f"
            },
            "type": "carpet"
           }
          ],
          "choropleth": [
           {
            "colorbar": {
             "outlinewidth": 0,
             "ticks": ""
            },
            "type": "choropleth"
           }
          ],
          "contour": [
           {
            "colorbar": {
             "outlinewidth": 0,
             "ticks": ""
            },
            "colorscale": [
             [
              0,
              "#0d0887"
             ],
             [
              0.1111111111111111,
              "#46039f"
             ],
             [
              0.2222222222222222,
              "#7201a8"
             ],
             [
              0.3333333333333333,
              "#9c179e"
             ],
             [
              0.4444444444444444,
              "#bd3786"
             ],
             [
              0.5555555555555556,
              "#d8576b"
             ],
             [
              0.6666666666666666,
              "#ed7953"
             ],
             [
              0.7777777777777778,
              "#fb9f3a"
             ],
             [
              0.8888888888888888,
              "#fdca26"
             ],
             [
              1,
              "#f0f921"
             ]
            ],
            "type": "contour"
           }
          ],
          "contourcarpet": [
           {
            "colorbar": {
             "outlinewidth": 0,
             "ticks": ""
            },
            "type": "contourcarpet"
           }
          ],
          "heatmap": [
           {
            "colorbar": {
             "outlinewidth": 0,
             "ticks": ""
            },
            "colorscale": [
             [
              0,
              "#0d0887"
             ],
             [
              0.1111111111111111,
              "#46039f"
             ],
             [
              0.2222222222222222,
              "#7201a8"
             ],
             [
              0.3333333333333333,
              "#9c179e"
             ],
             [
              0.4444444444444444,
              "#bd3786"
             ],
             [
              0.5555555555555556,
              "#d8576b"
             ],
             [
              0.6666666666666666,
              "#ed7953"
             ],
             [
              0.7777777777777778,
              "#fb9f3a"
             ],
             [
              0.8888888888888888,
              "#fdca26"
             ],
             [
              1,
              "#f0f921"
             ]
            ],
            "type": "heatmap"
           }
          ],
          "histogram": [
           {
            "marker": {
             "pattern": {
              "fillmode": "overlay",
              "size": 10,
              "solidity": 0.2
             }
            },
            "type": "histogram"
           }
          ],
          "histogram2d": [
           {
            "colorbar": {
             "outlinewidth": 0,
             "ticks": ""
            },
            "colorscale": [
             [
              0,
              "#0d0887"
             ],
             [
              0.1111111111111111,
              "#46039f"
             ],
             [
              0.2222222222222222,
              "#7201a8"
             ],
             [
              0.3333333333333333,
              "#9c179e"
             ],
             [
              0.4444444444444444,
              "#bd3786"
             ],
             [
              0.5555555555555556,
              "#d8576b"
             ],
             [
              0.6666666666666666,
              "#ed7953"
             ],
             [
              0.7777777777777778,
              "#fb9f3a"
             ],
             [
              0.8888888888888888,
              "#fdca26"
             ],
             [
              1,
              "#f0f921"
             ]
            ],
            "type": "histogram2d"
           }
          ],
          "histogram2dcontour": [
           {
            "colorbar": {
             "outlinewidth": 0,
             "ticks": ""
            },
            "colorscale": [
             [
              0,
              "#0d0887"
             ],
             [
              0.1111111111111111,
              "#46039f"
             ],
             [
              0.2222222222222222,
              "#7201a8"
             ],
             [
              0.3333333333333333,
              "#9c179e"
             ],
             [
              0.4444444444444444,
              "#bd3786"
             ],
             [
              0.5555555555555556,
              "#d8576b"
             ],
             [
              0.6666666666666666,
              "#ed7953"
             ],
             [
              0.7777777777777778,
              "#fb9f3a"
             ],
             [
              0.8888888888888888,
              "#fdca26"
             ],
             [
              1,
              "#f0f921"
             ]
            ],
            "type": "histogram2dcontour"
           }
          ],
          "mesh3d": [
           {
            "colorbar": {
             "outlinewidth": 0,
             "ticks": ""
            },
            "type": "mesh3d"
           }
          ],
          "parcoords": [
           {
            "line": {
             "colorbar": {
              "outlinewidth": 0,
              "ticks": ""
             }
            },
            "type": "parcoords"
           }
          ],
          "pie": [
           {
            "automargin": true,
            "type": "pie"
           }
          ],
          "scatter": [
           {
            "fillpattern": {
             "fillmode": "overlay",
             "size": 10,
             "solidity": 0.2
            },
            "type": "scatter"
           }
          ],
          "scatter3d": [
           {
            "line": {
             "colorbar": {
              "outlinewidth": 0,
              "ticks": ""
             }
            },
            "marker": {
             "colorbar": {
              "outlinewidth": 0,
              "ticks": ""
             }
            },
            "type": "scatter3d"
           }
          ],
          "scattercarpet": [
           {
            "marker": {
             "colorbar": {
              "outlinewidth": 0,
              "ticks": ""
             }
            },
            "type": "scattercarpet"
           }
          ],
          "scattergeo": [
           {
            "marker": {
             "colorbar": {
              "outlinewidth": 0,
              "ticks": ""
             }
            },
            "type": "scattergeo"
           }
          ],
          "scattergl": [
           {
            "marker": {
             "colorbar": {
              "outlinewidth": 0,
              "ticks": ""
             }
            },
            "type": "scattergl"
           }
          ],
          "scattermap": [
           {
            "marker": {
             "colorbar": {
              "outlinewidth": 0,
              "ticks": ""
             }
            },
            "type": "scattermap"
           }
          ],
          "scattermapbox": [
           {
            "marker": {
             "colorbar": {
              "outlinewidth": 0,
              "ticks": ""
             }
            },
            "type": "scattermapbox"
           }
          ],
          "scatterpolar": [
           {
            "marker": {
             "colorbar": {
              "outlinewidth": 0,
              "ticks": ""
             }
            },
            "type": "scatterpolar"
           }
          ],
          "scatterpolargl": [
           {
            "marker": {
             "colorbar": {
              "outlinewidth": 0,
              "ticks": ""
             }
            },
            "type": "scatterpolargl"
           }
          ],
          "scatterternary": [
           {
            "marker": {
             "colorbar": {
              "outlinewidth": 0,
              "ticks": ""
             }
            },
            "type": "scatterternary"
           }
          ],
          "surface": [
           {
            "colorbar": {
             "outlinewidth": 0,
             "ticks": ""
            },
            "colorscale": [
             [
              0,
              "#0d0887"
             ],
             [
              0.1111111111111111,
              "#46039f"
             ],
             [
              0.2222222222222222,
              "#7201a8"
             ],
             [
              0.3333333333333333,
              "#9c179e"
             ],
             [
              0.4444444444444444,
              "#bd3786"
             ],
             [
              0.5555555555555556,
              "#d8576b"
             ],
             [
              0.6666666666666666,
              "#ed7953"
             ],
             [
              0.7777777777777778,
              "#fb9f3a"
             ],
             [
              0.8888888888888888,
              "#fdca26"
             ],
             [
              1,
              "#f0f921"
             ]
            ],
            "type": "surface"
           }
          ],
          "table": [
           {
            "cells": {
             "fill": {
              "color": "#EBF0F8"
             },
             "line": {
              "color": "white"
             }
            },
            "header": {
             "fill": {
              "color": "#C8D4E3"
             },
             "line": {
              "color": "white"
             }
            },
            "type": "table"
           }
          ]
         },
         "layout": {
          "annotationdefaults": {
           "arrowcolor": "#2a3f5f",
           "arrowhead": 0,
           "arrowwidth": 1
          },
          "autotypenumbers": "strict",
          "coloraxis": {
           "colorbar": {
            "outlinewidth": 0,
            "ticks": ""
           }
          },
          "colorscale": {
           "diverging": [
            [
             0,
             "#8e0152"
            ],
            [
             0.1,
             "#c51b7d"
            ],
            [
             0.2,
             "#de77ae"
            ],
            [
             0.3,
             "#f1b6da"
            ],
            [
             0.4,
             "#fde0ef"
            ],
            [
             0.5,
             "#f7f7f7"
            ],
            [
             0.6,
             "#e6f5d0"
            ],
            [
             0.7,
             "#b8e186"
            ],
            [
             0.8,
             "#7fbc41"
            ],
            [
             0.9,
             "#4d9221"
            ],
            [
             1,
             "#276419"
            ]
           ],
           "sequential": [
            [
             0,
             "#0d0887"
            ],
            [
             0.1111111111111111,
             "#46039f"
            ],
            [
             0.2222222222222222,
             "#7201a8"
            ],
            [
             0.3333333333333333,
             "#9c179e"
            ],
            [
             0.4444444444444444,
             "#bd3786"
            ],
            [
             0.5555555555555556,
             "#d8576b"
            ],
            [
             0.6666666666666666,
             "#ed7953"
            ],
            [
             0.7777777777777778,
             "#fb9f3a"
            ],
            [
             0.8888888888888888,
             "#fdca26"
            ],
            [
             1,
             "#f0f921"
            ]
           ],
           "sequentialminus": [
            [
             0,
             "#0d0887"
            ],
            [
             0.1111111111111111,
             "#46039f"
            ],
            [
             0.2222222222222222,
             "#7201a8"
            ],
            [
             0.3333333333333333,
             "#9c179e"
            ],
            [
             0.4444444444444444,
             "#bd3786"
            ],
            [
             0.5555555555555556,
             "#d8576b"
            ],
            [
             0.6666666666666666,
             "#ed7953"
            ],
            [
             0.7777777777777778,
             "#fb9f3a"
            ],
            [
             0.8888888888888888,
             "#fdca26"
            ],
            [
             1,
             "#f0f921"
            ]
           ]
          },
          "colorway": [
           "#636efa",
           "#EF553B",
           "#00cc96",
           "#ab63fa",
           "#FFA15A",
           "#19d3f3",
           "#FF6692",
           "#B6E880",
           "#FF97FF",
           "#FECB52"
          ],
          "font": {
           "color": "#2a3f5f"
          },
          "geo": {
           "bgcolor": "white",
           "lakecolor": "white",
           "landcolor": "#E5ECF6",
           "showlakes": true,
           "showland": true,
           "subunitcolor": "white"
          },
          "hoverlabel": {
           "align": "left"
          },
          "hovermode": "closest",
          "mapbox": {
           "style": "light"
          },
          "paper_bgcolor": "white",
          "plot_bgcolor": "#E5ECF6",
          "polar": {
           "angularaxis": {
            "gridcolor": "white",
            "linecolor": "white",
            "ticks": ""
           },
           "bgcolor": "#E5ECF6",
           "radialaxis": {
            "gridcolor": "white",
            "linecolor": "white",
            "ticks": ""
           }
          },
          "scene": {
           "xaxis": {
            "backgroundcolor": "#E5ECF6",
            "gridcolor": "white",
            "gridwidth": 2,
            "linecolor": "white",
            "showbackground": true,
            "ticks": "",
            "zerolinecolor": "white"
           },
           "yaxis": {
            "backgroundcolor": "#E5ECF6",
            "gridcolor": "white",
            "gridwidth": 2,
            "linecolor": "white",
            "showbackground": true,
            "ticks": "",
            "zerolinecolor": "white"
           },
           "zaxis": {
            "backgroundcolor": "#E5ECF6",
            "gridcolor": "white",
            "gridwidth": 2,
            "linecolor": "white",
            "showbackground": true,
            "ticks": "",
            "zerolinecolor": "white"
           }
          },
          "shapedefaults": {
           "line": {
            "color": "#2a3f5f"
           }
          },
          "ternary": {
           "aaxis": {
            "gridcolor": "white",
            "linecolor": "white",
            "ticks": ""
           },
           "baxis": {
            "gridcolor": "white",
            "linecolor": "white",
            "ticks": ""
           },
           "bgcolor": "#E5ECF6",
           "caxis": {
            "gridcolor": "white",
            "linecolor": "white",
            "ticks": ""
           }
          },
          "title": {
           "x": 0.05
          },
          "xaxis": {
           "automargin": true,
           "gridcolor": "white",
           "linecolor": "white",
           "ticks": "",
           "title": {
            "standoff": 15
           },
           "zerolinecolor": "white",
           "zerolinewidth": 2
          },
          "yaxis": {
           "automargin": true,
           "gridcolor": "white",
           "linecolor": "white",
           "ticks": "",
           "title": {
            "standoff": 15
           },
           "zerolinecolor": "white",
           "zerolinewidth": 2
          }
         }
        },
        "title": {
         "text": "Зависимость кредитного рейтинга от заработной платы"
        },
        "width": 800,
        "xaxis": {
         "anchor": "y",
         "domain": [
          0,
          1
         ],
         "title": {
          "text": "Заработная плата, x10 тыс руб"
         }
        },
        "yaxis": {
         "anchor": "x",
         "domain": [
          0,
          1
         ],
         "title": {
          "text": "Кредитный рейтинг"
         }
        }
       }
      }
     },
     "metadata": {},
     "output_type": "display_data"
    }
   ],
   "source": [
    "# Выбираем нужные признаки\n",
    "tmp_df = churn_df[['CreditScore','EstimatedSalary','Exited','CustomerId']].copy()\n",
    "# Разбиваем на группы \n",
    "tmp_df[\"EstimatedSalary_5000\"] = round( tmp_df[\"EstimatedSalary\"] / 5000 ).astype(\"int\")\n",
    "\n",
    "# Готовим графику: имеем распределение первичных данных по группам, используем столбчатую диграмму\n",
    "# Находим среднее по рейтингу каждой группы и в зависимости от статуса\n",
    "df = tmp_df.pivot_table(\n",
    "    index = \"EstimatedSalary_5000\",\n",
    "    columns = \"Exited\",\n",
    "    values = \"CreditScore\",\n",
    "    aggfunc = \"mean\"\n",
    ")\n",
    "# Находим среднее по рейтингу каждой группы и без привязки к статусу\n",
    "df_itog = tmp_df.groupby( \"EstimatedSalary_5000\" )[\"CreditScore\"].mean()\n",
    "# Склеиваем наборы данных\n",
    "df = df.merge( df_itog, how = \"inner\", left_on = \"EstimatedSalary_5000\", right_on = \"EstimatedSalary_5000\" )\n",
    "# Переименовываем \n",
    "df = df.rename( columns = { 0: \"Приток\", 1: \"Отток\", \"CreditScore\": \"Итог\" }) \n",
    "\n",
    "# Готовим графику: имеем распределение рейтинга по группам заработной платы, используем линейный график\n",
    "fig = px.line(\n",
    "    data_frame = df,\n",
    "    x = df.index,   # Ось x - Заработная плата\n",
    "    y = df.columns, # Ось y - Кредитный рейтинг\n",
    "    title = 'Зависимость кредитного рейтинга от заработной платы', #заголовок\n",
    "    width = 800,  # Ширина графика\n",
    "    height = 600, # Высота графика\n",
    "    markers = True,  # Границы отрезков отметим\n",
    "    labels = {'variable': 'Статус клиента: '} # Подпись на легенде\n",
    ")\n",
    "fig.update_layout(\n",
    "    yaxis_title = \"Кредитный рейтинг\", # Подпись оси y\n",
    "    xaxis_title = \"Заработная плата, x10 тыс руб\", # Подпись оси x\n",
    "    legend = dict( orientation = \"h\", x = 0, y = 150, title_font_family = \"Sitka Small\" ) # Сместим легенду воева вверх\n",
    ")\n",
    "fig.show() # Отображаем"
   ]
  },
  {
   "cell_type": "markdown",
   "id": "ec1953b5",
   "metadata": {},
   "source": [
    "Из графика видно, что кредитный рейтинг слабо зависит от заработной платы вне зависимости от статуса лояльности клиента"
   ]
  },
  {
   "cell_type": "markdown",
   "id": "8c9bd995",
   "metadata": {},
   "source": [
    "9.6. Кто чаще уходит, мужчины или женщины? Постройте график, который иллюстрирует это."
   ]
  },
  {
   "cell_type": "code",
   "execution_count": 177,
   "id": "32f1e098",
   "metadata": {},
   "outputs": [
    {
     "data": {
      "application/vnd.plotly.v1+json": {
       "config": {
        "plotlyServerURL": "https://plot.ly"
       },
       "data": [
        {
         "hovertemplate": "Статус клиента: =Доля ушедших<br>Gender=%{x}<br>value=%{y}<extra></extra>",
         "legendgroup": "Доля ушедших",
         "marker": {
          "color": "red",
          "pattern": {
           "shape": ""
          }
         },
         "name": "Доля ушедших",
         "orientation": "v",
         "showlegend": true,
         "textposition": "auto",
         "texttemplate": "%{y}",
         "type": "bar",
         "x": [
          "Female",
          "Male"
         ],
         "xaxis": "x",
         "y": {
          "bdata": "GRA=",
          "dtype": "i1"
         },
         "yaxis": "y"
        },
        {
         "hovertemplate": "Статус клиента: =Доля лояльных<br>Gender=%{x}<br>value=%{y}<extra></extra>",
         "legendgroup": "Доля лояльных",
         "marker": {
          "color": "blue",
          "pattern": {
           "shape": ""
          }
         },
         "name": "Доля лояльных",
         "orientation": "v",
         "showlegend": true,
         "textposition": "auto",
         "texttemplate": "%{y}",
         "type": "bar",
         "x": [
          "Female",
          "Male"
         ],
         "xaxis": "x",
         "y": {
          "bdata": "S1Q=",
          "dtype": "i1"
         },
         "yaxis": "y"
        }
       ],
       "layout": {
        "barmode": "stack",
        "height": 400,
        "legend": {
         "orientation": "h",
         "title": {
          "font": {
           "family": "Sitka Small"
          },
          "text": "Статус клиента: "
         },
         "tracegroupgap": 0,
         "x": 0,
         "y": 150
        },
        "template": {
         "data": {
          "bar": [
           {
            "error_x": {
             "color": "#2a3f5f"
            },
            "error_y": {
             "color": "#2a3f5f"
            },
            "marker": {
             "line": {
              "color": "#E5ECF6",
              "width": 0.5
             },
             "pattern": {
              "fillmode": "overlay",
              "size": 10,
              "solidity": 0.2
             }
            },
            "type": "bar"
           }
          ],
          "barpolar": [
           {
            "marker": {
             "line": {
              "color": "#E5ECF6",
              "width": 0.5
             },
             "pattern": {
              "fillmode": "overlay",
              "size": 10,
              "solidity": 0.2
             }
            },
            "type": "barpolar"
           }
          ],
          "carpet": [
           {
            "aaxis": {
             "endlinecolor": "#2a3f5f",
             "gridcolor": "white",
             "linecolor": "white",
             "minorgridcolor": "white",
             "startlinecolor": "#2a3f5f"
            },
            "baxis": {
             "endlinecolor": "#2a3f5f",
             "gridcolor": "white",
             "linecolor": "white",
             "minorgridcolor": "white",
             "startlinecolor": "#2a3f5f"
            },
            "type": "carpet"
           }
          ],
          "choropleth": [
           {
            "colorbar": {
             "outlinewidth": 0,
             "ticks": ""
            },
            "type": "choropleth"
           }
          ],
          "contour": [
           {
            "colorbar": {
             "outlinewidth": 0,
             "ticks": ""
            },
            "colorscale": [
             [
              0,
              "#0d0887"
             ],
             [
              0.1111111111111111,
              "#46039f"
             ],
             [
              0.2222222222222222,
              "#7201a8"
             ],
             [
              0.3333333333333333,
              "#9c179e"
             ],
             [
              0.4444444444444444,
              "#bd3786"
             ],
             [
              0.5555555555555556,
              "#d8576b"
             ],
             [
              0.6666666666666666,
              "#ed7953"
             ],
             [
              0.7777777777777778,
              "#fb9f3a"
             ],
             [
              0.8888888888888888,
              "#fdca26"
             ],
             [
              1,
              "#f0f921"
             ]
            ],
            "type": "contour"
           }
          ],
          "contourcarpet": [
           {
            "colorbar": {
             "outlinewidth": 0,
             "ticks": ""
            },
            "type": "contourcarpet"
           }
          ],
          "heatmap": [
           {
            "colorbar": {
             "outlinewidth": 0,
             "ticks": ""
            },
            "colorscale": [
             [
              0,
              "#0d0887"
             ],
             [
              0.1111111111111111,
              "#46039f"
             ],
             [
              0.2222222222222222,
              "#7201a8"
             ],
             [
              0.3333333333333333,
              "#9c179e"
             ],
             [
              0.4444444444444444,
              "#bd3786"
             ],
             [
              0.5555555555555556,
              "#d8576b"
             ],
             [
              0.6666666666666666,
              "#ed7953"
             ],
             [
              0.7777777777777778,
              "#fb9f3a"
             ],
             [
              0.8888888888888888,
              "#fdca26"
             ],
             [
              1,
              "#f0f921"
             ]
            ],
            "type": "heatmap"
           }
          ],
          "histogram": [
           {
            "marker": {
             "pattern": {
              "fillmode": "overlay",
              "size": 10,
              "solidity": 0.2
             }
            },
            "type": "histogram"
           }
          ],
          "histogram2d": [
           {
            "colorbar": {
             "outlinewidth": 0,
             "ticks": ""
            },
            "colorscale": [
             [
              0,
              "#0d0887"
             ],
             [
              0.1111111111111111,
              "#46039f"
             ],
             [
              0.2222222222222222,
              "#7201a8"
             ],
             [
              0.3333333333333333,
              "#9c179e"
             ],
             [
              0.4444444444444444,
              "#bd3786"
             ],
             [
              0.5555555555555556,
              "#d8576b"
             ],
             [
              0.6666666666666666,
              "#ed7953"
             ],
             [
              0.7777777777777778,
              "#fb9f3a"
             ],
             [
              0.8888888888888888,
              "#fdca26"
             ],
             [
              1,
              "#f0f921"
             ]
            ],
            "type": "histogram2d"
           }
          ],
          "histogram2dcontour": [
           {
            "colorbar": {
             "outlinewidth": 0,
             "ticks": ""
            },
            "colorscale": [
             [
              0,
              "#0d0887"
             ],
             [
              0.1111111111111111,
              "#46039f"
             ],
             [
              0.2222222222222222,
              "#7201a8"
             ],
             [
              0.3333333333333333,
              "#9c179e"
             ],
             [
              0.4444444444444444,
              "#bd3786"
             ],
             [
              0.5555555555555556,
              "#d8576b"
             ],
             [
              0.6666666666666666,
              "#ed7953"
             ],
             [
              0.7777777777777778,
              "#fb9f3a"
             ],
             [
              0.8888888888888888,
              "#fdca26"
             ],
             [
              1,
              "#f0f921"
             ]
            ],
            "type": "histogram2dcontour"
           }
          ],
          "mesh3d": [
           {
            "colorbar": {
             "outlinewidth": 0,
             "ticks": ""
            },
            "type": "mesh3d"
           }
          ],
          "parcoords": [
           {
            "line": {
             "colorbar": {
              "outlinewidth": 0,
              "ticks": ""
             }
            },
            "type": "parcoords"
           }
          ],
          "pie": [
           {
            "automargin": true,
            "type": "pie"
           }
          ],
          "scatter": [
           {
            "fillpattern": {
             "fillmode": "overlay",
             "size": 10,
             "solidity": 0.2
            },
            "type": "scatter"
           }
          ],
          "scatter3d": [
           {
            "line": {
             "colorbar": {
              "outlinewidth": 0,
              "ticks": ""
             }
            },
            "marker": {
             "colorbar": {
              "outlinewidth": 0,
              "ticks": ""
             }
            },
            "type": "scatter3d"
           }
          ],
          "scattercarpet": [
           {
            "marker": {
             "colorbar": {
              "outlinewidth": 0,
              "ticks": ""
             }
            },
            "type": "scattercarpet"
           }
          ],
          "scattergeo": [
           {
            "marker": {
             "colorbar": {
              "outlinewidth": 0,
              "ticks": ""
             }
            },
            "type": "scattergeo"
           }
          ],
          "scattergl": [
           {
            "marker": {
             "colorbar": {
              "outlinewidth": 0,
              "ticks": ""
             }
            },
            "type": "scattergl"
           }
          ],
          "scattermap": [
           {
            "marker": {
             "colorbar": {
              "outlinewidth": 0,
              "ticks": ""
             }
            },
            "type": "scattermap"
           }
          ],
          "scattermapbox": [
           {
            "marker": {
             "colorbar": {
              "outlinewidth": 0,
              "ticks": ""
             }
            },
            "type": "scattermapbox"
           }
          ],
          "scatterpolar": [
           {
            "marker": {
             "colorbar": {
              "outlinewidth": 0,
              "ticks": ""
             }
            },
            "type": "scatterpolar"
           }
          ],
          "scatterpolargl": [
           {
            "marker": {
             "colorbar": {
              "outlinewidth": 0,
              "ticks": ""
             }
            },
            "type": "scatterpolargl"
           }
          ],
          "scatterternary": [
           {
            "marker": {
             "colorbar": {
              "outlinewidth": 0,
              "ticks": ""
             }
            },
            "type": "scatterternary"
           }
          ],
          "surface": [
           {
            "colorbar": {
             "outlinewidth": 0,
             "ticks": ""
            },
            "colorscale": [
             [
              0,
              "#0d0887"
             ],
             [
              0.1111111111111111,
              "#46039f"
             ],
             [
              0.2222222222222222,
              "#7201a8"
             ],
             [
              0.3333333333333333,
              "#9c179e"
             ],
             [
              0.4444444444444444,
              "#bd3786"
             ],
             [
              0.5555555555555556,
              "#d8576b"
             ],
             [
              0.6666666666666666,
              "#ed7953"
             ],
             [
              0.7777777777777778,
              "#fb9f3a"
             ],
             [
              0.8888888888888888,
              "#fdca26"
             ],
             [
              1,
              "#f0f921"
             ]
            ],
            "type": "surface"
           }
          ],
          "table": [
           {
            "cells": {
             "fill": {
              "color": "#EBF0F8"
             },
             "line": {
              "color": "white"
             }
            },
            "header": {
             "fill": {
              "color": "#C8D4E3"
             },
             "line": {
              "color": "white"
             }
            },
            "type": "table"
           }
          ]
         },
         "layout": {
          "annotationdefaults": {
           "arrowcolor": "#2a3f5f",
           "arrowhead": 0,
           "arrowwidth": 1
          },
          "autotypenumbers": "strict",
          "coloraxis": {
           "colorbar": {
            "outlinewidth": 0,
            "ticks": ""
           }
          },
          "colorscale": {
           "diverging": [
            [
             0,
             "#8e0152"
            ],
            [
             0.1,
             "#c51b7d"
            ],
            [
             0.2,
             "#de77ae"
            ],
            [
             0.3,
             "#f1b6da"
            ],
            [
             0.4,
             "#fde0ef"
            ],
            [
             0.5,
             "#f7f7f7"
            ],
            [
             0.6,
             "#e6f5d0"
            ],
            [
             0.7,
             "#b8e186"
            ],
            [
             0.8,
             "#7fbc41"
            ],
            [
             0.9,
             "#4d9221"
            ],
            [
             1,
             "#276419"
            ]
           ],
           "sequential": [
            [
             0,
             "#0d0887"
            ],
            [
             0.1111111111111111,
             "#46039f"
            ],
            [
             0.2222222222222222,
             "#7201a8"
            ],
            [
             0.3333333333333333,
             "#9c179e"
            ],
            [
             0.4444444444444444,
             "#bd3786"
            ],
            [
             0.5555555555555556,
             "#d8576b"
            ],
            [
             0.6666666666666666,
             "#ed7953"
            ],
            [
             0.7777777777777778,
             "#fb9f3a"
            ],
            [
             0.8888888888888888,
             "#fdca26"
            ],
            [
             1,
             "#f0f921"
            ]
           ],
           "sequentialminus": [
            [
             0,
             "#0d0887"
            ],
            [
             0.1111111111111111,
             "#46039f"
            ],
            [
             0.2222222222222222,
             "#7201a8"
            ],
            [
             0.3333333333333333,
             "#9c179e"
            ],
            [
             0.4444444444444444,
             "#bd3786"
            ],
            [
             0.5555555555555556,
             "#d8576b"
            ],
            [
             0.6666666666666666,
             "#ed7953"
            ],
            [
             0.7777777777777778,
             "#fb9f3a"
            ],
            [
             0.8888888888888888,
             "#fdca26"
            ],
            [
             1,
             "#f0f921"
            ]
           ]
          },
          "colorway": [
           "#636efa",
           "#EF553B",
           "#00cc96",
           "#ab63fa",
           "#FFA15A",
           "#19d3f3",
           "#FF6692",
           "#B6E880",
           "#FF97FF",
           "#FECB52"
          ],
          "font": {
           "color": "#2a3f5f"
          },
          "geo": {
           "bgcolor": "white",
           "lakecolor": "white",
           "landcolor": "#E5ECF6",
           "showlakes": true,
           "showland": true,
           "subunitcolor": "white"
          },
          "hoverlabel": {
           "align": "left"
          },
          "hovermode": "closest",
          "mapbox": {
           "style": "light"
          },
          "paper_bgcolor": "white",
          "plot_bgcolor": "#E5ECF6",
          "polar": {
           "angularaxis": {
            "gridcolor": "white",
            "linecolor": "white",
            "ticks": ""
           },
           "bgcolor": "#E5ECF6",
           "radialaxis": {
            "gridcolor": "white",
            "linecolor": "white",
            "ticks": ""
           }
          },
          "scene": {
           "xaxis": {
            "backgroundcolor": "#E5ECF6",
            "gridcolor": "white",
            "gridwidth": 2,
            "linecolor": "white",
            "showbackground": true,
            "ticks": "",
            "zerolinecolor": "white"
           },
           "yaxis": {
            "backgroundcolor": "#E5ECF6",
            "gridcolor": "white",
            "gridwidth": 2,
            "linecolor": "white",
            "showbackground": true,
            "ticks": "",
            "zerolinecolor": "white"
           },
           "zaxis": {
            "backgroundcolor": "#E5ECF6",
            "gridcolor": "white",
            "gridwidth": 2,
            "linecolor": "white",
            "showbackground": true,
            "ticks": "",
            "zerolinecolor": "white"
           }
          },
          "shapedefaults": {
           "line": {
            "color": "#2a3f5f"
           }
          },
          "ternary": {
           "aaxis": {
            "gridcolor": "white",
            "linecolor": "white",
            "ticks": ""
           },
           "baxis": {
            "gridcolor": "white",
            "linecolor": "white",
            "ticks": ""
           },
           "bgcolor": "#E5ECF6",
           "caxis": {
            "gridcolor": "white",
            "linecolor": "white",
            "ticks": ""
           }
          },
          "title": {
           "x": 0.05
          },
          "xaxis": {
           "automargin": true,
           "gridcolor": "white",
           "linecolor": "white",
           "ticks": "",
           "title": {
            "standoff": 15
           },
           "zerolinecolor": "white",
           "zerolinewidth": 2
          },
          "yaxis": {
           "automargin": true,
           "gridcolor": "white",
           "linecolor": "white",
           "ticks": "",
           "title": {
            "standoff": 15
           },
           "zerolinecolor": "white",
           "zerolinewidth": 2
          }
         }
        },
        "title": {
         "text": "Зависимость оттока от наличия пола клиента"
        },
        "width": 500,
        "xaxis": {
         "anchor": "y",
         "domain": [
          0,
          1
         ],
         "title": {
          "text": "Пол"
         }
        },
        "yaxis": {
         "anchor": "x",
         "domain": [
          0,
          1
         ],
         "title": {
          "text": "% от общего количества клиентов"
         }
        }
       }
      }
     },
     "metadata": {},
     "output_type": "display_data"
    }
   ],
   "source": [
    "tmp_df = churn_df[['Exited',\"Gender\"]].copy()\n",
    "\n",
    "# Пычисляем процентные доли по группам\n",
    "df = (churn_df.pivot_table(\n",
    "    index = \"Gender\",\n",
    "    values = \"Exited\",\n",
    "    aggfunc = 'mean'\n",
    ") * 100).round().astype( int )\n",
    "df[\"NotExited\"] = 100 - df[\"Exited\"]\n",
    "df = df.rename( columns = {\"Exited\": \"Доля ушедших\", \"NotExited\": \"Доля лояльных\",  }) # Отразятся в легенде\n",
    "\n",
    "# Готовим графику: имеем распределение по категориям, используем столбчатую диграмму\n",
    "fig = px.bar( \n",
    "    data_frame = df, \n",
    "    x = df.index,   # Ось x - Пол\n",
    "    y = df.columns, # Ось y - Проценты от общего количества в группе\n",
    "    barmode = 'stack', # Вертикальное расположени е групп\n",
    "    title = 'Зависимость оттока от наличия пола клиента',\n",
    "    width = 500,  # Ширина графика\n",
    "    height = 400, # Высота графика\n",
    "    color_discrete_map = { \"Доля ушедших\": \"red\", \"Доля лояльных\": \"blue\" },\n",
    "    text_auto = True,\n",
    "    labels = {'variable': 'Статус клиента: '} # Подпись на легенде\n",
    ")  \n",
    "fig.update_layout(\n",
    "    xaxis_title='Пол',\n",
    "    yaxis_title='% от общего количества клиентов',\n",
    "    legend = dict( orientation = \"h\", x = 0, y = 150, title_font_family = \"Sitka Small\" ) # Легенду расположим сверку слева\n",
    ")\n",
    "fig.show()"
   ]
  },
  {
   "cell_type": "markdown",
   "id": "1e995ea1",
   "metadata": {},
   "source": [
    "Видно, что мужчины уходят реже женщин"
   ]
  },
  {
   "cell_type": "markdown",
   "id": "f34b73a4",
   "metadata": {},
   "source": [
    "9.7. Как отток клиентов зависит от числа приобретённых у банка услуг? Для ответа на этот вопрос постройте многоуровневую столбчатую диаграмму."
   ]
  },
  {
   "cell_type": "code",
   "execution_count": 178,
   "id": "0e62c9fc",
   "metadata": {},
   "outputs": [
    {
     "data": {
      "application/vnd.plotly.v1+json": {
       "config": {
        "plotlyServerURL": "https://plot.ly"
       },
       "data": [
        {
         "alignmentgroup": "True",
         "hovertemplate": "Статус клиента: =Доля лояльных<br>NumOfProducts=%{x}<br>value=%{y}<extra></extra>",
         "legendgroup": "Доля лояльных",
         "marker": {
          "color": "#636efa",
          "pattern": {
           "shape": ""
          }
         },
         "name": "Доля лояльных",
         "offsetgroup": "Доля лояльных",
         "orientation": "v",
         "showlegend": true,
         "textposition": "auto",
         "texttemplate": "%{y}",
         "type": "bar",
         "x": {
          "bdata": "AQIDBA==",
          "dtype": "i1"
         },
         "xaxis": "x",
         "y": {
          "bdata": "SFwRAA==",
          "dtype": "i1"
         },
         "yaxis": "y"
        },
        {
         "alignmentgroup": "True",
         "hovertemplate": "Статус клиента: =Доля ушедших<br>NumOfProducts=%{x}<br>value=%{y}<extra></extra>",
         "legendgroup": "Доля ушедших",
         "marker": {
          "color": "#EF553B",
          "pattern": {
           "shape": ""
          }
         },
         "name": "Доля ушедших",
         "offsetgroup": "Доля ушедших",
         "orientation": "v",
         "showlegend": true,
         "textposition": "auto",
         "texttemplate": "%{y}",
         "type": "bar",
         "x": {
          "bdata": "AQIDBA==",
          "dtype": "i1"
         },
         "xaxis": "x",
         "y": {
          "bdata": "HAhTZA==",
          "dtype": "i1"
         },
         "yaxis": "y"
        }
       ],
       "layout": {
        "barmode": "group",
        "height": 400,
        "legend": {
         "orientation": "h",
         "title": {
          "font": {
           "family": "Sitka Small"
          },
          "text": "Статус клиента: "
         },
         "tracegroupgap": 0,
         "x": 0,
         "y": 150
        },
        "template": {
         "data": {
          "bar": [
           {
            "error_x": {
             "color": "#2a3f5f"
            },
            "error_y": {
             "color": "#2a3f5f"
            },
            "marker": {
             "line": {
              "color": "#E5ECF6",
              "width": 0.5
             },
             "pattern": {
              "fillmode": "overlay",
              "size": 10,
              "solidity": 0.2
             }
            },
            "type": "bar"
           }
          ],
          "barpolar": [
           {
            "marker": {
             "line": {
              "color": "#E5ECF6",
              "width": 0.5
             },
             "pattern": {
              "fillmode": "overlay",
              "size": 10,
              "solidity": 0.2
             }
            },
            "type": "barpolar"
           }
          ],
          "carpet": [
           {
            "aaxis": {
             "endlinecolor": "#2a3f5f",
             "gridcolor": "white",
             "linecolor": "white",
             "minorgridcolor": "white",
             "startlinecolor": "#2a3f5f"
            },
            "baxis": {
             "endlinecolor": "#2a3f5f",
             "gridcolor": "white",
             "linecolor": "white",
             "minorgridcolor": "white",
             "startlinecolor": "#2a3f5f"
            },
            "type": "carpet"
           }
          ],
          "choropleth": [
           {
            "colorbar": {
             "outlinewidth": 0,
             "ticks": ""
            },
            "type": "choropleth"
           }
          ],
          "contour": [
           {
            "colorbar": {
             "outlinewidth": 0,
             "ticks": ""
            },
            "colorscale": [
             [
              0,
              "#0d0887"
             ],
             [
              0.1111111111111111,
              "#46039f"
             ],
             [
              0.2222222222222222,
              "#7201a8"
             ],
             [
              0.3333333333333333,
              "#9c179e"
             ],
             [
              0.4444444444444444,
              "#bd3786"
             ],
             [
              0.5555555555555556,
              "#d8576b"
             ],
             [
              0.6666666666666666,
              "#ed7953"
             ],
             [
              0.7777777777777778,
              "#fb9f3a"
             ],
             [
              0.8888888888888888,
              "#fdca26"
             ],
             [
              1,
              "#f0f921"
             ]
            ],
            "type": "contour"
           }
          ],
          "contourcarpet": [
           {
            "colorbar": {
             "outlinewidth": 0,
             "ticks": ""
            },
            "type": "contourcarpet"
           }
          ],
          "heatmap": [
           {
            "colorbar": {
             "outlinewidth": 0,
             "ticks": ""
            },
            "colorscale": [
             [
              0,
              "#0d0887"
             ],
             [
              0.1111111111111111,
              "#46039f"
             ],
             [
              0.2222222222222222,
              "#7201a8"
             ],
             [
              0.3333333333333333,
              "#9c179e"
             ],
             [
              0.4444444444444444,
              "#bd3786"
             ],
             [
              0.5555555555555556,
              "#d8576b"
             ],
             [
              0.6666666666666666,
              "#ed7953"
             ],
             [
              0.7777777777777778,
              "#fb9f3a"
             ],
             [
              0.8888888888888888,
              "#fdca26"
             ],
             [
              1,
              "#f0f921"
             ]
            ],
            "type": "heatmap"
           }
          ],
          "histogram": [
           {
            "marker": {
             "pattern": {
              "fillmode": "overlay",
              "size": 10,
              "solidity": 0.2
             }
            },
            "type": "histogram"
           }
          ],
          "histogram2d": [
           {
            "colorbar": {
             "outlinewidth": 0,
             "ticks": ""
            },
            "colorscale": [
             [
              0,
              "#0d0887"
             ],
             [
              0.1111111111111111,
              "#46039f"
             ],
             [
              0.2222222222222222,
              "#7201a8"
             ],
             [
              0.3333333333333333,
              "#9c179e"
             ],
             [
              0.4444444444444444,
              "#bd3786"
             ],
             [
              0.5555555555555556,
              "#d8576b"
             ],
             [
              0.6666666666666666,
              "#ed7953"
             ],
             [
              0.7777777777777778,
              "#fb9f3a"
             ],
             [
              0.8888888888888888,
              "#fdca26"
             ],
             [
              1,
              "#f0f921"
             ]
            ],
            "type": "histogram2d"
           }
          ],
          "histogram2dcontour": [
           {
            "colorbar": {
             "outlinewidth": 0,
             "ticks": ""
            },
            "colorscale": [
             [
              0,
              "#0d0887"
             ],
             [
              0.1111111111111111,
              "#46039f"
             ],
             [
              0.2222222222222222,
              "#7201a8"
             ],
             [
              0.3333333333333333,
              "#9c179e"
             ],
             [
              0.4444444444444444,
              "#bd3786"
             ],
             [
              0.5555555555555556,
              "#d8576b"
             ],
             [
              0.6666666666666666,
              "#ed7953"
             ],
             [
              0.7777777777777778,
              "#fb9f3a"
             ],
             [
              0.8888888888888888,
              "#fdca26"
             ],
             [
              1,
              "#f0f921"
             ]
            ],
            "type": "histogram2dcontour"
           }
          ],
          "mesh3d": [
           {
            "colorbar": {
             "outlinewidth": 0,
             "ticks": ""
            },
            "type": "mesh3d"
           }
          ],
          "parcoords": [
           {
            "line": {
             "colorbar": {
              "outlinewidth": 0,
              "ticks": ""
             }
            },
            "type": "parcoords"
           }
          ],
          "pie": [
           {
            "automargin": true,
            "type": "pie"
           }
          ],
          "scatter": [
           {
            "fillpattern": {
             "fillmode": "overlay",
             "size": 10,
             "solidity": 0.2
            },
            "type": "scatter"
           }
          ],
          "scatter3d": [
           {
            "line": {
             "colorbar": {
              "outlinewidth": 0,
              "ticks": ""
             }
            },
            "marker": {
             "colorbar": {
              "outlinewidth": 0,
              "ticks": ""
             }
            },
            "type": "scatter3d"
           }
          ],
          "scattercarpet": [
           {
            "marker": {
             "colorbar": {
              "outlinewidth": 0,
              "ticks": ""
             }
            },
            "type": "scattercarpet"
           }
          ],
          "scattergeo": [
           {
            "marker": {
             "colorbar": {
              "outlinewidth": 0,
              "ticks": ""
             }
            },
            "type": "scattergeo"
           }
          ],
          "scattergl": [
           {
            "marker": {
             "colorbar": {
              "outlinewidth": 0,
              "ticks": ""
             }
            },
            "type": "scattergl"
           }
          ],
          "scattermap": [
           {
            "marker": {
             "colorbar": {
              "outlinewidth": 0,
              "ticks": ""
             }
            },
            "type": "scattermap"
           }
          ],
          "scattermapbox": [
           {
            "marker": {
             "colorbar": {
              "outlinewidth": 0,
              "ticks": ""
             }
            },
            "type": "scattermapbox"
           }
          ],
          "scatterpolar": [
           {
            "marker": {
             "colorbar": {
              "outlinewidth": 0,
              "ticks": ""
             }
            },
            "type": "scatterpolar"
           }
          ],
          "scatterpolargl": [
           {
            "marker": {
             "colorbar": {
              "outlinewidth": 0,
              "ticks": ""
             }
            },
            "type": "scatterpolargl"
           }
          ],
          "scatterternary": [
           {
            "marker": {
             "colorbar": {
              "outlinewidth": 0,
              "ticks": ""
             }
            },
            "type": "scatterternary"
           }
          ],
          "surface": [
           {
            "colorbar": {
             "outlinewidth": 0,
             "ticks": ""
            },
            "colorscale": [
             [
              0,
              "#0d0887"
             ],
             [
              0.1111111111111111,
              "#46039f"
             ],
             [
              0.2222222222222222,
              "#7201a8"
             ],
             [
              0.3333333333333333,
              "#9c179e"
             ],
             [
              0.4444444444444444,
              "#bd3786"
             ],
             [
              0.5555555555555556,
              "#d8576b"
             ],
             [
              0.6666666666666666,
              "#ed7953"
             ],
             [
              0.7777777777777778,
              "#fb9f3a"
             ],
             [
              0.8888888888888888,
              "#fdca26"
             ],
             [
              1,
              "#f0f921"
             ]
            ],
            "type": "surface"
           }
          ],
          "table": [
           {
            "cells": {
             "fill": {
              "color": "#EBF0F8"
             },
             "line": {
              "color": "white"
             }
            },
            "header": {
             "fill": {
              "color": "#C8D4E3"
             },
             "line": {
              "color": "white"
             }
            },
            "type": "table"
           }
          ]
         },
         "layout": {
          "annotationdefaults": {
           "arrowcolor": "#2a3f5f",
           "arrowhead": 0,
           "arrowwidth": 1
          },
          "autotypenumbers": "strict",
          "coloraxis": {
           "colorbar": {
            "outlinewidth": 0,
            "ticks": ""
           }
          },
          "colorscale": {
           "diverging": [
            [
             0,
             "#8e0152"
            ],
            [
             0.1,
             "#c51b7d"
            ],
            [
             0.2,
             "#de77ae"
            ],
            [
             0.3,
             "#f1b6da"
            ],
            [
             0.4,
             "#fde0ef"
            ],
            [
             0.5,
             "#f7f7f7"
            ],
            [
             0.6,
             "#e6f5d0"
            ],
            [
             0.7,
             "#b8e186"
            ],
            [
             0.8,
             "#7fbc41"
            ],
            [
             0.9,
             "#4d9221"
            ],
            [
             1,
             "#276419"
            ]
           ],
           "sequential": [
            [
             0,
             "#0d0887"
            ],
            [
             0.1111111111111111,
             "#46039f"
            ],
            [
             0.2222222222222222,
             "#7201a8"
            ],
            [
             0.3333333333333333,
             "#9c179e"
            ],
            [
             0.4444444444444444,
             "#bd3786"
            ],
            [
             0.5555555555555556,
             "#d8576b"
            ],
            [
             0.6666666666666666,
             "#ed7953"
            ],
            [
             0.7777777777777778,
             "#fb9f3a"
            ],
            [
             0.8888888888888888,
             "#fdca26"
            ],
            [
             1,
             "#f0f921"
            ]
           ],
           "sequentialminus": [
            [
             0,
             "#0d0887"
            ],
            [
             0.1111111111111111,
             "#46039f"
            ],
            [
             0.2222222222222222,
             "#7201a8"
            ],
            [
             0.3333333333333333,
             "#9c179e"
            ],
            [
             0.4444444444444444,
             "#bd3786"
            ],
            [
             0.5555555555555556,
             "#d8576b"
            ],
            [
             0.6666666666666666,
             "#ed7953"
            ],
            [
             0.7777777777777778,
             "#fb9f3a"
            ],
            [
             0.8888888888888888,
             "#fdca26"
            ],
            [
             1,
             "#f0f921"
            ]
           ]
          },
          "colorway": [
           "#636efa",
           "#EF553B",
           "#00cc96",
           "#ab63fa",
           "#FFA15A",
           "#19d3f3",
           "#FF6692",
           "#B6E880",
           "#FF97FF",
           "#FECB52"
          ],
          "font": {
           "color": "#2a3f5f"
          },
          "geo": {
           "bgcolor": "white",
           "lakecolor": "white",
           "landcolor": "#E5ECF6",
           "showlakes": true,
           "showland": true,
           "subunitcolor": "white"
          },
          "hoverlabel": {
           "align": "left"
          },
          "hovermode": "closest",
          "mapbox": {
           "style": "light"
          },
          "paper_bgcolor": "white",
          "plot_bgcolor": "#E5ECF6",
          "polar": {
           "angularaxis": {
            "gridcolor": "white",
            "linecolor": "white",
            "ticks": ""
           },
           "bgcolor": "#E5ECF6",
           "radialaxis": {
            "gridcolor": "white",
            "linecolor": "white",
            "ticks": ""
           }
          },
          "scene": {
           "xaxis": {
            "backgroundcolor": "#E5ECF6",
            "gridcolor": "white",
            "gridwidth": 2,
            "linecolor": "white",
            "showbackground": true,
            "ticks": "",
            "zerolinecolor": "white"
           },
           "yaxis": {
            "backgroundcolor": "#E5ECF6",
            "gridcolor": "white",
            "gridwidth": 2,
            "linecolor": "white",
            "showbackground": true,
            "ticks": "",
            "zerolinecolor": "white"
           },
           "zaxis": {
            "backgroundcolor": "#E5ECF6",
            "gridcolor": "white",
            "gridwidth": 2,
            "linecolor": "white",
            "showbackground": true,
            "ticks": "",
            "zerolinecolor": "white"
           }
          },
          "shapedefaults": {
           "line": {
            "color": "#2a3f5f"
           }
          },
          "ternary": {
           "aaxis": {
            "gridcolor": "white",
            "linecolor": "white",
            "ticks": ""
           },
           "baxis": {
            "gridcolor": "white",
            "linecolor": "white",
            "ticks": ""
           },
           "bgcolor": "#E5ECF6",
           "caxis": {
            "gridcolor": "white",
            "linecolor": "white",
            "ticks": ""
           }
          },
          "title": {
           "x": 0.05
          },
          "xaxis": {
           "automargin": true,
           "gridcolor": "white",
           "linecolor": "white",
           "ticks": "",
           "title": {
            "standoff": 15
           },
           "zerolinecolor": "white",
           "zerolinewidth": 2
          },
          "yaxis": {
           "automargin": true,
           "gridcolor": "white",
           "linecolor": "white",
           "ticks": "",
           "title": {
            "standoff": 15
           },
           "zerolinecolor": "white",
           "zerolinewidth": 2
          }
         }
        },
        "title": {
         "text": "Зависимость оттока клиентов от количества услуг"
        },
        "width": 500,
        "xaxis": {
         "anchor": "y",
         "domain": [
          0,
          1
         ],
         "title": {
          "text": "Количество услуг"
         }
        },
        "yaxis": {
         "anchor": "x",
         "domain": [
          0,
          1
         ],
         "title": {
          "text": "% от общего количества клиентов"
         }
        }
       }
      }
     },
     "metadata": {},
     "output_type": "display_data"
    }
   ],
   "source": [
    "tmp_df = churn_df[[\"NumOfProducts\", 'Exited',\"CustomerId\"]].copy()\n",
    "df = tmp_df.pivot_table(\n",
    "    index = 'NumOfProducts',\n",
    "    columns = 'Exited',\n",
    "    values = 'CustomerId',\n",
    "    fill_value = 0,\n",
    "    aggfunc = 'count'    \n",
    ")\n",
    "\n",
    "df = df.rename( columns = {1: \"Ушедшие\", 0: \"Лояльные\"})\n",
    "df[\"Доля ушедших\"] = (df[\"Ушедшие\"] * 100 / (df[\"Лояльные\"] + df[\"Ушедшие\"])).round().astype( int )\n",
    "df[\"Доля лояльных\"] = 100 - df[\"Доля ушедших\"] \n",
    "\n",
    "# Готовим графику: имеем распределение по группам - годы, используем столбчатую диграмму\n",
    "fig = px.bar( \n",
    "    data_frame = df, \n",
    "    x = df.index, # Ось x - Количество услуг\n",
    "    y = ['Доля лояльных', 'Доля ушедших'],  # Ось y - Процентная доля в группе\n",
    "    barmode ='group', # Группы расположены по горизонтали\n",
    "    title = 'Зависимость оттока клиентов от количества услуг',\n",
    "    labels = {'variable': 'Статус клиента: '}, # Подпись на легенде\n",
    "    width = 500,  # Ширина графика\n",
    "    height = 400, # Высота графика\n",
    "    text_auto = True,\n",
    ")  \n",
    "fig.update_layout(\n",
    "    xaxis_title = 'Количество услуг',\n",
    "    yaxis_title = '% от общего количества клиентов',\n",
    "    legend = dict(orientation = \"h\", x = 0, y = 150, title_font_family = \"Sitka Small\" ) # Легенду расположим сверку слева\n",
    ")\n",
    "fig.show()"
   ]
  },
  {
   "cell_type": "markdown",
   "id": "a77007e9",
   "metadata": {},
   "source": [
    "Минимум оттока клиентов наблюдлается при 2х услугах у клиента. "
   ]
  },
  {
   "cell_type": "markdown",
   "id": "77d78497",
   "metadata": {},
   "source": [
    "9.8. Как влияет наличие статуса активного клиента на отток клиентов? Постройте диаграмму, иллюстрирующую это. Что бы вы предложили банку, чтобы уменьшить отток клиентов среди неактивных?"
   ]
  },
  {
   "cell_type": "code",
   "execution_count": 179,
   "id": "95891088",
   "metadata": {},
   "outputs": [
    {
     "data": {
      "application/vnd.plotly.v1+json": {
       "config": {
        "plotlyServerURL": "https://plot.ly"
       },
       "data": [
        {
         "alignmentgroup": "True",
         "hovertemplate": "Статус клиента: =Доля лояльных<br>IsActiveMember=%{x}<br>value=%{y}<extra></extra>",
         "legendgroup": "Доля лояльных",
         "marker": {
          "color": "#636efa",
          "pattern": {
           "shape": ""
          }
         },
         "name": "Доля лояльных",
         "offsetgroup": "Доля лояльных",
         "orientation": "v",
         "showlegend": true,
         "textposition": "auto",
         "texttemplate": "%{y}",
         "type": "bar",
         "x": {
          "bdata": "AAE=",
          "dtype": "i1"
         },
         "xaxis": "x",
         "y": {
          "bdata": "SVY=",
          "dtype": "i1"
         },
         "yaxis": "y"
        },
        {
         "alignmentgroup": "True",
         "hovertemplate": "Статус клиента: =Доля ушедших<br>IsActiveMember=%{x}<br>value=%{y}<extra></extra>",
         "legendgroup": "Доля ушедших",
         "marker": {
          "color": "#EF553B",
          "pattern": {
           "shape": ""
          }
         },
         "name": "Доля ушедших",
         "offsetgroup": "Доля ушедших",
         "orientation": "v",
         "showlegend": true,
         "textposition": "auto",
         "texttemplate": "%{y}",
         "type": "bar",
         "x": {
          "bdata": "AAE=",
          "dtype": "i1"
         },
         "xaxis": "x",
         "y": {
          "bdata": "Gw4=",
          "dtype": "i1"
         },
         "yaxis": "y"
        }
       ],
       "layout": {
        "barmode": "group",
        "height": 400,
        "legend": {
         "orientation": "h",
         "title": {
          "font": {
           "family": "Sitka Small"
          },
          "text": "Статус клиента: "
         },
         "tracegroupgap": 0,
         "x": 0,
         "y": 150
        },
        "template": {
         "data": {
          "bar": [
           {
            "error_x": {
             "color": "#2a3f5f"
            },
            "error_y": {
             "color": "#2a3f5f"
            },
            "marker": {
             "line": {
              "color": "#E5ECF6",
              "width": 0.5
             },
             "pattern": {
              "fillmode": "overlay",
              "size": 10,
              "solidity": 0.2
             }
            },
            "type": "bar"
           }
          ],
          "barpolar": [
           {
            "marker": {
             "line": {
              "color": "#E5ECF6",
              "width": 0.5
             },
             "pattern": {
              "fillmode": "overlay",
              "size": 10,
              "solidity": 0.2
             }
            },
            "type": "barpolar"
           }
          ],
          "carpet": [
           {
            "aaxis": {
             "endlinecolor": "#2a3f5f",
             "gridcolor": "white",
             "linecolor": "white",
             "minorgridcolor": "white",
             "startlinecolor": "#2a3f5f"
            },
            "baxis": {
             "endlinecolor": "#2a3f5f",
             "gridcolor": "white",
             "linecolor": "white",
             "minorgridcolor": "white",
             "startlinecolor": "#2a3f5f"
            },
            "type": "carpet"
           }
          ],
          "choropleth": [
           {
            "colorbar": {
             "outlinewidth": 0,
             "ticks": ""
            },
            "type": "choropleth"
           }
          ],
          "contour": [
           {
            "colorbar": {
             "outlinewidth": 0,
             "ticks": ""
            },
            "colorscale": [
             [
              0,
              "#0d0887"
             ],
             [
              0.1111111111111111,
              "#46039f"
             ],
             [
              0.2222222222222222,
              "#7201a8"
             ],
             [
              0.3333333333333333,
              "#9c179e"
             ],
             [
              0.4444444444444444,
              "#bd3786"
             ],
             [
              0.5555555555555556,
              "#d8576b"
             ],
             [
              0.6666666666666666,
              "#ed7953"
             ],
             [
              0.7777777777777778,
              "#fb9f3a"
             ],
             [
              0.8888888888888888,
              "#fdca26"
             ],
             [
              1,
              "#f0f921"
             ]
            ],
            "type": "contour"
           }
          ],
          "contourcarpet": [
           {
            "colorbar": {
             "outlinewidth": 0,
             "ticks": ""
            },
            "type": "contourcarpet"
           }
          ],
          "heatmap": [
           {
            "colorbar": {
             "outlinewidth": 0,
             "ticks": ""
            },
            "colorscale": [
             [
              0,
              "#0d0887"
             ],
             [
              0.1111111111111111,
              "#46039f"
             ],
             [
              0.2222222222222222,
              "#7201a8"
             ],
             [
              0.3333333333333333,
              "#9c179e"
             ],
             [
              0.4444444444444444,
              "#bd3786"
             ],
             [
              0.5555555555555556,
              "#d8576b"
             ],
             [
              0.6666666666666666,
              "#ed7953"
             ],
             [
              0.7777777777777778,
              "#fb9f3a"
             ],
             [
              0.8888888888888888,
              "#fdca26"
             ],
             [
              1,
              "#f0f921"
             ]
            ],
            "type": "heatmap"
           }
          ],
          "histogram": [
           {
            "marker": {
             "pattern": {
              "fillmode": "overlay",
              "size": 10,
              "solidity": 0.2
             }
            },
            "type": "histogram"
           }
          ],
          "histogram2d": [
           {
            "colorbar": {
             "outlinewidth": 0,
             "ticks": ""
            },
            "colorscale": [
             [
              0,
              "#0d0887"
             ],
             [
              0.1111111111111111,
              "#46039f"
             ],
             [
              0.2222222222222222,
              "#7201a8"
             ],
             [
              0.3333333333333333,
              "#9c179e"
             ],
             [
              0.4444444444444444,
              "#bd3786"
             ],
             [
              0.5555555555555556,
              "#d8576b"
             ],
             [
              0.6666666666666666,
              "#ed7953"
             ],
             [
              0.7777777777777778,
              "#fb9f3a"
             ],
             [
              0.8888888888888888,
              "#fdca26"
             ],
             [
              1,
              "#f0f921"
             ]
            ],
            "type": "histogram2d"
           }
          ],
          "histogram2dcontour": [
           {
            "colorbar": {
             "outlinewidth": 0,
             "ticks": ""
            },
            "colorscale": [
             [
              0,
              "#0d0887"
             ],
             [
              0.1111111111111111,
              "#46039f"
             ],
             [
              0.2222222222222222,
              "#7201a8"
             ],
             [
              0.3333333333333333,
              "#9c179e"
             ],
             [
              0.4444444444444444,
              "#bd3786"
             ],
             [
              0.5555555555555556,
              "#d8576b"
             ],
             [
              0.6666666666666666,
              "#ed7953"
             ],
             [
              0.7777777777777778,
              "#fb9f3a"
             ],
             [
              0.8888888888888888,
              "#fdca26"
             ],
             [
              1,
              "#f0f921"
             ]
            ],
            "type": "histogram2dcontour"
           }
          ],
          "mesh3d": [
           {
            "colorbar": {
             "outlinewidth": 0,
             "ticks": ""
            },
            "type": "mesh3d"
           }
          ],
          "parcoords": [
           {
            "line": {
             "colorbar": {
              "outlinewidth": 0,
              "ticks": ""
             }
            },
            "type": "parcoords"
           }
          ],
          "pie": [
           {
            "automargin": true,
            "type": "pie"
           }
          ],
          "scatter": [
           {
            "fillpattern": {
             "fillmode": "overlay",
             "size": 10,
             "solidity": 0.2
            },
            "type": "scatter"
           }
          ],
          "scatter3d": [
           {
            "line": {
             "colorbar": {
              "outlinewidth": 0,
              "ticks": ""
             }
            },
            "marker": {
             "colorbar": {
              "outlinewidth": 0,
              "ticks": ""
             }
            },
            "type": "scatter3d"
           }
          ],
          "scattercarpet": [
           {
            "marker": {
             "colorbar": {
              "outlinewidth": 0,
              "ticks": ""
             }
            },
            "type": "scattercarpet"
           }
          ],
          "scattergeo": [
           {
            "marker": {
             "colorbar": {
              "outlinewidth": 0,
              "ticks": ""
             }
            },
            "type": "scattergeo"
           }
          ],
          "scattergl": [
           {
            "marker": {
             "colorbar": {
              "outlinewidth": 0,
              "ticks": ""
             }
            },
            "type": "scattergl"
           }
          ],
          "scattermap": [
           {
            "marker": {
             "colorbar": {
              "outlinewidth": 0,
              "ticks": ""
             }
            },
            "type": "scattermap"
           }
          ],
          "scattermapbox": [
           {
            "marker": {
             "colorbar": {
              "outlinewidth": 0,
              "ticks": ""
             }
            },
            "type": "scattermapbox"
           }
          ],
          "scatterpolar": [
           {
            "marker": {
             "colorbar": {
              "outlinewidth": 0,
              "ticks": ""
             }
            },
            "type": "scatterpolar"
           }
          ],
          "scatterpolargl": [
           {
            "marker": {
             "colorbar": {
              "outlinewidth": 0,
              "ticks": ""
             }
            },
            "type": "scatterpolargl"
           }
          ],
          "scatterternary": [
           {
            "marker": {
             "colorbar": {
              "outlinewidth": 0,
              "ticks": ""
             }
            },
            "type": "scatterternary"
           }
          ],
          "surface": [
           {
            "colorbar": {
             "outlinewidth": 0,
             "ticks": ""
            },
            "colorscale": [
             [
              0,
              "#0d0887"
             ],
             [
              0.1111111111111111,
              "#46039f"
             ],
             [
              0.2222222222222222,
              "#7201a8"
             ],
             [
              0.3333333333333333,
              "#9c179e"
             ],
             [
              0.4444444444444444,
              "#bd3786"
             ],
             [
              0.5555555555555556,
              "#d8576b"
             ],
             [
              0.6666666666666666,
              "#ed7953"
             ],
             [
              0.7777777777777778,
              "#fb9f3a"
             ],
             [
              0.8888888888888888,
              "#fdca26"
             ],
             [
              1,
              "#f0f921"
             ]
            ],
            "type": "surface"
           }
          ],
          "table": [
           {
            "cells": {
             "fill": {
              "color": "#EBF0F8"
             },
             "line": {
              "color": "white"
             }
            },
            "header": {
             "fill": {
              "color": "#C8D4E3"
             },
             "line": {
              "color": "white"
             }
            },
            "type": "table"
           }
          ]
         },
         "layout": {
          "annotationdefaults": {
           "arrowcolor": "#2a3f5f",
           "arrowhead": 0,
           "arrowwidth": 1
          },
          "autotypenumbers": "strict",
          "coloraxis": {
           "colorbar": {
            "outlinewidth": 0,
            "ticks": ""
           }
          },
          "colorscale": {
           "diverging": [
            [
             0,
             "#8e0152"
            ],
            [
             0.1,
             "#c51b7d"
            ],
            [
             0.2,
             "#de77ae"
            ],
            [
             0.3,
             "#f1b6da"
            ],
            [
             0.4,
             "#fde0ef"
            ],
            [
             0.5,
             "#f7f7f7"
            ],
            [
             0.6,
             "#e6f5d0"
            ],
            [
             0.7,
             "#b8e186"
            ],
            [
             0.8,
             "#7fbc41"
            ],
            [
             0.9,
             "#4d9221"
            ],
            [
             1,
             "#276419"
            ]
           ],
           "sequential": [
            [
             0,
             "#0d0887"
            ],
            [
             0.1111111111111111,
             "#46039f"
            ],
            [
             0.2222222222222222,
             "#7201a8"
            ],
            [
             0.3333333333333333,
             "#9c179e"
            ],
            [
             0.4444444444444444,
             "#bd3786"
            ],
            [
             0.5555555555555556,
             "#d8576b"
            ],
            [
             0.6666666666666666,
             "#ed7953"
            ],
            [
             0.7777777777777778,
             "#fb9f3a"
            ],
            [
             0.8888888888888888,
             "#fdca26"
            ],
            [
             1,
             "#f0f921"
            ]
           ],
           "sequentialminus": [
            [
             0,
             "#0d0887"
            ],
            [
             0.1111111111111111,
             "#46039f"
            ],
            [
             0.2222222222222222,
             "#7201a8"
            ],
            [
             0.3333333333333333,
             "#9c179e"
            ],
            [
             0.4444444444444444,
             "#bd3786"
            ],
            [
             0.5555555555555556,
             "#d8576b"
            ],
            [
             0.6666666666666666,
             "#ed7953"
            ],
            [
             0.7777777777777778,
             "#fb9f3a"
            ],
            [
             0.8888888888888888,
             "#fdca26"
            ],
            [
             1,
             "#f0f921"
            ]
           ]
          },
          "colorway": [
           "#636efa",
           "#EF553B",
           "#00cc96",
           "#ab63fa",
           "#FFA15A",
           "#19d3f3",
           "#FF6692",
           "#B6E880",
           "#FF97FF",
           "#FECB52"
          ],
          "font": {
           "color": "#2a3f5f"
          },
          "geo": {
           "bgcolor": "white",
           "lakecolor": "white",
           "landcolor": "#E5ECF6",
           "showlakes": true,
           "showland": true,
           "subunitcolor": "white"
          },
          "hoverlabel": {
           "align": "left"
          },
          "hovermode": "closest",
          "mapbox": {
           "style": "light"
          },
          "paper_bgcolor": "white",
          "plot_bgcolor": "#E5ECF6",
          "polar": {
           "angularaxis": {
            "gridcolor": "white",
            "linecolor": "white",
            "ticks": ""
           },
           "bgcolor": "#E5ECF6",
           "radialaxis": {
            "gridcolor": "white",
            "linecolor": "white",
            "ticks": ""
           }
          },
          "scene": {
           "xaxis": {
            "backgroundcolor": "#E5ECF6",
            "gridcolor": "white",
            "gridwidth": 2,
            "linecolor": "white",
            "showbackground": true,
            "ticks": "",
            "zerolinecolor": "white"
           },
           "yaxis": {
            "backgroundcolor": "#E5ECF6",
            "gridcolor": "white",
            "gridwidth": 2,
            "linecolor": "white",
            "showbackground": true,
            "ticks": "",
            "zerolinecolor": "white"
           },
           "zaxis": {
            "backgroundcolor": "#E5ECF6",
            "gridcolor": "white",
            "gridwidth": 2,
            "linecolor": "white",
            "showbackground": true,
            "ticks": "",
            "zerolinecolor": "white"
           }
          },
          "shapedefaults": {
           "line": {
            "color": "#2a3f5f"
           }
          },
          "ternary": {
           "aaxis": {
            "gridcolor": "white",
            "linecolor": "white",
            "ticks": ""
           },
           "baxis": {
            "gridcolor": "white",
            "linecolor": "white",
            "ticks": ""
           },
           "bgcolor": "#E5ECF6",
           "caxis": {
            "gridcolor": "white",
            "linecolor": "white",
            "ticks": ""
           }
          },
          "title": {
           "x": 0.05
          },
          "xaxis": {
           "automargin": true,
           "gridcolor": "white",
           "linecolor": "white",
           "ticks": "",
           "title": {
            "standoff": 15
           },
           "zerolinecolor": "white",
           "zerolinewidth": 2
          },
          "yaxis": {
           "automargin": true,
           "gridcolor": "white",
           "linecolor": "white",
           "ticks": "",
           "title": {
            "standoff": 15
           },
           "zerolinecolor": "white",
           "zerolinewidth": 2
          }
         }
        },
        "title": {
         "text": "Зависимость оттока от наличия статуса активного клиента"
        },
        "width": 600,
        "xaxis": {
         "anchor": "y",
         "domain": [
          0,
          1
         ],
         "title": {
          "text": "Статус активного клиента"
         }
        },
        "yaxis": {
         "anchor": "x",
         "domain": [
          0,
          1
         ],
         "title": {
          "text": "% от общего количества клиентов"
         }
        }
       }
      }
     },
     "metadata": {},
     "output_type": "display_data"
    }
   ],
   "source": [
    "tmp_df = churn_df[['Exited',\"IsActiveMember\",\"CustomerId\"]].copy()\n",
    "df = tmp_df.pivot_table(\n",
    "    index = 'IsActiveMember',\n",
    "    columns='Exited',\n",
    "    values = 'CustomerId',\n",
    "    fill_value = 0,\n",
    "    aggfunc = 'count'    \n",
    ")\n",
    "df = df.rename( columns = {1: \"Ушедшие\", 0: \"Лояльные\"})\n",
    "# Вычислим процентные доли\n",
    "df[\"Доля ушедших\"] = (df[\"Ушедшие\"] * 100 / (df[\"Лояльные\"] + df[\"Ушедшие\"])).round().astype( int )\n",
    "df[\"Доля лояльных\"] = 100 - df[\"Доля ушедших\"] \n",
    "\n",
    "# Готовим графику: имеем распределение по группам - годы, используем столбчатую диграмму\n",
    "fig = px.bar( \n",
    "    data_frame = df, \n",
    "    x = df.index, # По оси x - Статус активного клиента\n",
    "    y = ['Доля лояльных', 'Доля ушедших'], \n",
    "    #text = ['Доля лояльных', 'Доля ушедших'], #текст на столбцах\n",
    "    barmode ='group',\n",
    "    title = 'Зависимость оттока от наличия статуса активного клиента',\n",
    "    width = 600,  # Ширина графика\n",
    "    height = 400, # Высота графика\n",
    "    text_auto = True, # Подписи величин\n",
    "    labels = {'variable': 'Статус клиента: '}, # Подпись на легенде\n",
    ")  \n",
    "fig.update_layout(\n",
    "    xaxis_title='Статус активного клиента',\n",
    "    yaxis_title='% от общего количества клиентов',\n",
    "    legend = dict(orientation = \"h\", x = 0, y = 150, title_font_family = \"Sitka Small\" ) # Легенду расположим сверку слева\n",
    ")\n",
    "fig.show()"
   ]
  },
  {
   "cell_type": "markdown",
   "id": "d802b7ac",
   "metadata": {},
   "source": [
    "Видно, что наличие статуса активного клиента снижает желание покануть банк"
   ]
  },
  {
   "cell_type": "markdown",
   "id": "8d38003e",
   "metadata": {},
   "source": [
    "9.9. В какой стране доля ушедших клиентов больше? Постройте тепловую картограмму, которая покажет это соотношение на карте мира. Предположите, с чем это может быть связано."
   ]
  },
  {
   "cell_type": "code",
   "execution_count": 180,
   "id": "ff23ea6f",
   "metadata": {},
   "outputs": [
    {
     "data": {
      "application/vnd.plotly.v1+json": {
       "config": {
        "plotlyServerURL": "https://plot.ly"
       },
       "data": [
        {
         "coloraxis": "coloraxis",
         "geo": "geo",
         "hovertemplate": "locations=%{location}<br>Доля ушедших=%{z}<extra></extra>",
         "locationmode": "country names",
         "locations": [
          "Spain",
          "France",
          "Germany"
         ],
         "name": "",
         "type": "choropleth",
         "z": {
          "bdata": "ECAR",
          "dtype": "i1"
         }
        }
       ],
       "layout": {
        "coloraxis": {
         "cmax": 100,
         "cmin": 0,
         "colorbar": {
          "title": {
           "text": "Доля ушедших"
          }
         },
         "colorscale": [
          [
           0,
           "rgb(255,245,240)"
          ],
          [
           0.125,
           "rgb(254,224,210)"
          ],
          [
           0.25,
           "rgb(252,187,161)"
          ],
          [
           0.375,
           "rgb(252,146,114)"
          ],
          [
           0.5,
           "rgb(251,106,74)"
          ],
          [
           0.625,
           "rgb(239,59,44)"
          ],
          [
           0.75,
           "rgb(203,24,29)"
          ],
          [
           0.875,
           "rgb(165,15,21)"
          ],
          [
           1,
           "rgb(103,0,13)"
          ]
         ]
        },
        "geo": {
         "center": {},
         "domain": {
          "x": [
           0,
           1
          ],
          "y": [
           0,
           1
          ]
         },
         "scope": "europe"
        },
        "height": 500,
        "legend": {
         "tracegroupgap": 0
        },
        "template": {
         "data": {
          "bar": [
           {
            "error_x": {
             "color": "#2a3f5f"
            },
            "error_y": {
             "color": "#2a3f5f"
            },
            "marker": {
             "line": {
              "color": "#E5ECF6",
              "width": 0.5
             },
             "pattern": {
              "fillmode": "overlay",
              "size": 10,
              "solidity": 0.2
             }
            },
            "type": "bar"
           }
          ],
          "barpolar": [
           {
            "marker": {
             "line": {
              "color": "#E5ECF6",
              "width": 0.5
             },
             "pattern": {
              "fillmode": "overlay",
              "size": 10,
              "solidity": 0.2
             }
            },
            "type": "barpolar"
           }
          ],
          "carpet": [
           {
            "aaxis": {
             "endlinecolor": "#2a3f5f",
             "gridcolor": "white",
             "linecolor": "white",
             "minorgridcolor": "white",
             "startlinecolor": "#2a3f5f"
            },
            "baxis": {
             "endlinecolor": "#2a3f5f",
             "gridcolor": "white",
             "linecolor": "white",
             "minorgridcolor": "white",
             "startlinecolor": "#2a3f5f"
            },
            "type": "carpet"
           }
          ],
          "choropleth": [
           {
            "colorbar": {
             "outlinewidth": 0,
             "ticks": ""
            },
            "type": "choropleth"
           }
          ],
          "contour": [
           {
            "colorbar": {
             "outlinewidth": 0,
             "ticks": ""
            },
            "colorscale": [
             [
              0,
              "#0d0887"
             ],
             [
              0.1111111111111111,
              "#46039f"
             ],
             [
              0.2222222222222222,
              "#7201a8"
             ],
             [
              0.3333333333333333,
              "#9c179e"
             ],
             [
              0.4444444444444444,
              "#bd3786"
             ],
             [
              0.5555555555555556,
              "#d8576b"
             ],
             [
              0.6666666666666666,
              "#ed7953"
             ],
             [
              0.7777777777777778,
              "#fb9f3a"
             ],
             [
              0.8888888888888888,
              "#fdca26"
             ],
             [
              1,
              "#f0f921"
             ]
            ],
            "type": "contour"
           }
          ],
          "contourcarpet": [
           {
            "colorbar": {
             "outlinewidth": 0,
             "ticks": ""
            },
            "type": "contourcarpet"
           }
          ],
          "heatmap": [
           {
            "colorbar": {
             "outlinewidth": 0,
             "ticks": ""
            },
            "colorscale": [
             [
              0,
              "#0d0887"
             ],
             [
              0.1111111111111111,
              "#46039f"
             ],
             [
              0.2222222222222222,
              "#7201a8"
             ],
             [
              0.3333333333333333,
              "#9c179e"
             ],
             [
              0.4444444444444444,
              "#bd3786"
             ],
             [
              0.5555555555555556,
              "#d8576b"
             ],
             [
              0.6666666666666666,
              "#ed7953"
             ],
             [
              0.7777777777777778,
              "#fb9f3a"
             ],
             [
              0.8888888888888888,
              "#fdca26"
             ],
             [
              1,
              "#f0f921"
             ]
            ],
            "type": "heatmap"
           }
          ],
          "histogram": [
           {
            "marker": {
             "pattern": {
              "fillmode": "overlay",
              "size": 10,
              "solidity": 0.2
             }
            },
            "type": "histogram"
           }
          ],
          "histogram2d": [
           {
            "colorbar": {
             "outlinewidth": 0,
             "ticks": ""
            },
            "colorscale": [
             [
              0,
              "#0d0887"
             ],
             [
              0.1111111111111111,
              "#46039f"
             ],
             [
              0.2222222222222222,
              "#7201a8"
             ],
             [
              0.3333333333333333,
              "#9c179e"
             ],
             [
              0.4444444444444444,
              "#bd3786"
             ],
             [
              0.5555555555555556,
              "#d8576b"
             ],
             [
              0.6666666666666666,
              "#ed7953"
             ],
             [
              0.7777777777777778,
              "#fb9f3a"
             ],
             [
              0.8888888888888888,
              "#fdca26"
             ],
             [
              1,
              "#f0f921"
             ]
            ],
            "type": "histogram2d"
           }
          ],
          "histogram2dcontour": [
           {
            "colorbar": {
             "outlinewidth": 0,
             "ticks": ""
            },
            "colorscale": [
             [
              0,
              "#0d0887"
             ],
             [
              0.1111111111111111,
              "#46039f"
             ],
             [
              0.2222222222222222,
              "#7201a8"
             ],
             [
              0.3333333333333333,
              "#9c179e"
             ],
             [
              0.4444444444444444,
              "#bd3786"
             ],
             [
              0.5555555555555556,
              "#d8576b"
             ],
             [
              0.6666666666666666,
              "#ed7953"
             ],
             [
              0.7777777777777778,
              "#fb9f3a"
             ],
             [
              0.8888888888888888,
              "#fdca26"
             ],
             [
              1,
              "#f0f921"
             ]
            ],
            "type": "histogram2dcontour"
           }
          ],
          "mesh3d": [
           {
            "colorbar": {
             "outlinewidth": 0,
             "ticks": ""
            },
            "type": "mesh3d"
           }
          ],
          "parcoords": [
           {
            "line": {
             "colorbar": {
              "outlinewidth": 0,
              "ticks": ""
             }
            },
            "type": "parcoords"
           }
          ],
          "pie": [
           {
            "automargin": true,
            "type": "pie"
           }
          ],
          "scatter": [
           {
            "fillpattern": {
             "fillmode": "overlay",
             "size": 10,
             "solidity": 0.2
            },
            "type": "scatter"
           }
          ],
          "scatter3d": [
           {
            "line": {
             "colorbar": {
              "outlinewidth": 0,
              "ticks": ""
             }
            },
            "marker": {
             "colorbar": {
              "outlinewidth": 0,
              "ticks": ""
             }
            },
            "type": "scatter3d"
           }
          ],
          "scattercarpet": [
           {
            "marker": {
             "colorbar": {
              "outlinewidth": 0,
              "ticks": ""
             }
            },
            "type": "scattercarpet"
           }
          ],
          "scattergeo": [
           {
            "marker": {
             "colorbar": {
              "outlinewidth": 0,
              "ticks": ""
             }
            },
            "type": "scattergeo"
           }
          ],
          "scattergl": [
           {
            "marker": {
             "colorbar": {
              "outlinewidth": 0,
              "ticks": ""
             }
            },
            "type": "scattergl"
           }
          ],
          "scattermap": [
           {
            "marker": {
             "colorbar": {
              "outlinewidth": 0,
              "ticks": ""
             }
            },
            "type": "scattermap"
           }
          ],
          "scattermapbox": [
           {
            "marker": {
             "colorbar": {
              "outlinewidth": 0,
              "ticks": ""
             }
            },
            "type": "scattermapbox"
           }
          ],
          "scatterpolar": [
           {
            "marker": {
             "colorbar": {
              "outlinewidth": 0,
              "ticks": ""
             }
            },
            "type": "scatterpolar"
           }
          ],
          "scatterpolargl": [
           {
            "marker": {
             "colorbar": {
              "outlinewidth": 0,
              "ticks": ""
             }
            },
            "type": "scatterpolargl"
           }
          ],
          "scatterternary": [
           {
            "marker": {
             "colorbar": {
              "outlinewidth": 0,
              "ticks": ""
             }
            },
            "type": "scatterternary"
           }
          ],
          "surface": [
           {
            "colorbar": {
             "outlinewidth": 0,
             "ticks": ""
            },
            "colorscale": [
             [
              0,
              "#0d0887"
             ],
             [
              0.1111111111111111,
              "#46039f"
             ],
             [
              0.2222222222222222,
              "#7201a8"
             ],
             [
              0.3333333333333333,
              "#9c179e"
             ],
             [
              0.4444444444444444,
              "#bd3786"
             ],
             [
              0.5555555555555556,
              "#d8576b"
             ],
             [
              0.6666666666666666,
              "#ed7953"
             ],
             [
              0.7777777777777778,
              "#fb9f3a"
             ],
             [
              0.8888888888888888,
              "#fdca26"
             ],
             [
              1,
              "#f0f921"
             ]
            ],
            "type": "surface"
           }
          ],
          "table": [
           {
            "cells": {
             "fill": {
              "color": "#EBF0F8"
             },
             "line": {
              "color": "white"
             }
            },
            "header": {
             "fill": {
              "color": "#C8D4E3"
             },
             "line": {
              "color": "white"
             }
            },
            "type": "table"
           }
          ]
         },
         "layout": {
          "annotationdefaults": {
           "arrowcolor": "#2a3f5f",
           "arrowhead": 0,
           "arrowwidth": 1
          },
          "autotypenumbers": "strict",
          "coloraxis": {
           "colorbar": {
            "outlinewidth": 0,
            "ticks": ""
           }
          },
          "colorscale": {
           "diverging": [
            [
             0,
             "#8e0152"
            ],
            [
             0.1,
             "#c51b7d"
            ],
            [
             0.2,
             "#de77ae"
            ],
            [
             0.3,
             "#f1b6da"
            ],
            [
             0.4,
             "#fde0ef"
            ],
            [
             0.5,
             "#f7f7f7"
            ],
            [
             0.6,
             "#e6f5d0"
            ],
            [
             0.7,
             "#b8e186"
            ],
            [
             0.8,
             "#7fbc41"
            ],
            [
             0.9,
             "#4d9221"
            ],
            [
             1,
             "#276419"
            ]
           ],
           "sequential": [
            [
             0,
             "#0d0887"
            ],
            [
             0.1111111111111111,
             "#46039f"
            ],
            [
             0.2222222222222222,
             "#7201a8"
            ],
            [
             0.3333333333333333,
             "#9c179e"
            ],
            [
             0.4444444444444444,
             "#bd3786"
            ],
            [
             0.5555555555555556,
             "#d8576b"
            ],
            [
             0.6666666666666666,
             "#ed7953"
            ],
            [
             0.7777777777777778,
             "#fb9f3a"
            ],
            [
             0.8888888888888888,
             "#fdca26"
            ],
            [
             1,
             "#f0f921"
            ]
           ],
           "sequentialminus": [
            [
             0,
             "#0d0887"
            ],
            [
             0.1111111111111111,
             "#46039f"
            ],
            [
             0.2222222222222222,
             "#7201a8"
            ],
            [
             0.3333333333333333,
             "#9c179e"
            ],
            [
             0.4444444444444444,
             "#bd3786"
            ],
            [
             0.5555555555555556,
             "#d8576b"
            ],
            [
             0.6666666666666666,
             "#ed7953"
            ],
            [
             0.7777777777777778,
             "#fb9f3a"
            ],
            [
             0.8888888888888888,
             "#fdca26"
            ],
            [
             1,
             "#f0f921"
            ]
           ]
          },
          "colorway": [
           "#636efa",
           "#EF553B",
           "#00cc96",
           "#ab63fa",
           "#FFA15A",
           "#19d3f3",
           "#FF6692",
           "#B6E880",
           "#FF97FF",
           "#FECB52"
          ],
          "font": {
           "color": "#2a3f5f"
          },
          "geo": {
           "bgcolor": "white",
           "lakecolor": "white",
           "landcolor": "#E5ECF6",
           "showlakes": true,
           "showland": true,
           "subunitcolor": "white"
          },
          "hoverlabel": {
           "align": "left"
          },
          "hovermode": "closest",
          "mapbox": {
           "style": "light"
          },
          "paper_bgcolor": "white",
          "plot_bgcolor": "#E5ECF6",
          "polar": {
           "angularaxis": {
            "gridcolor": "white",
            "linecolor": "white",
            "ticks": ""
           },
           "bgcolor": "#E5ECF6",
           "radialaxis": {
            "gridcolor": "white",
            "linecolor": "white",
            "ticks": ""
           }
          },
          "scene": {
           "xaxis": {
            "backgroundcolor": "#E5ECF6",
            "gridcolor": "white",
            "gridwidth": 2,
            "linecolor": "white",
            "showbackground": true,
            "ticks": "",
            "zerolinecolor": "white"
           },
           "yaxis": {
            "backgroundcolor": "#E5ECF6",
            "gridcolor": "white",
            "gridwidth": 2,
            "linecolor": "white",
            "showbackground": true,
            "ticks": "",
            "zerolinecolor": "white"
           },
           "zaxis": {
            "backgroundcolor": "#E5ECF6",
            "gridcolor": "white",
            "gridwidth": 2,
            "linecolor": "white",
            "showbackground": true,
            "ticks": "",
            "zerolinecolor": "white"
           }
          },
          "shapedefaults": {
           "line": {
            "color": "#2a3f5f"
           }
          },
          "ternary": {
           "aaxis": {
            "gridcolor": "white",
            "linecolor": "white",
            "ticks": ""
           },
           "baxis": {
            "gridcolor": "white",
            "linecolor": "white",
            "ticks": ""
           },
           "bgcolor": "#E5ECF6",
           "caxis": {
            "gridcolor": "white",
            "linecolor": "white",
            "ticks": ""
           }
          },
          "title": {
           "x": 0.05
          },
          "xaxis": {
           "automargin": true,
           "gridcolor": "white",
           "linecolor": "white",
           "ticks": "",
           "title": {
            "standoff": 15
           },
           "zerolinecolor": "white",
           "zerolinewidth": 2
          },
          "yaxis": {
           "automargin": true,
           "gridcolor": "white",
           "linecolor": "white",
           "ticks": "",
           "title": {
            "standoff": 15
           },
           "zerolinecolor": "white",
           "zerolinewidth": 2
          }
         }
        },
        "title": {
         "text": "Доля ущедших клиентов по странам, %"
        },
        "width": 800
       }
      }
     },
     "metadata": {},
     "output_type": "display_data"
    }
   ],
   "source": [
    "tmp_df = churn_df[['Exited',\"Geography\",\"CustomerId\"]].copy()\n",
    "\n",
    "df = tmp_df.pivot_table(\n",
    "    index = 'Geography',\n",
    "    columns='Exited',\n",
    "    values = 'CustomerId',\n",
    "    fill_value = 0,\n",
    "    aggfunc = 'count'    \n",
    ")\n",
    "df = df.rename( columns = {1: \"Ушедшие\", 0: \"Лояльные\"})\n",
    "# Вычисляем процентиные доли\n",
    "df[\"Доля ушедших\"] = (df[\"Ушедшие\"] * 100 / (df[\"Лояльные\"] + df[\"Ушедшие\"])).round().astype( int )\n",
    "\n",
    "# Готовим графику: имеем распределение по группам - странам, используем тепловую географичесчкую карту\n",
    "fig = px.choropleth( \n",
    "    data_frame = df, \n",
    "    locationmode = \"country names\", # Режим поиска - пос названиям стран\n",
    "    locations = list( set( df.index ) ), # Список стран\n",
    "    scope = 'europe', \n",
    "    color = \"Доля ушедших\", # Поле, управляющее цветом\n",
    "    range_color = [0, 100], # Диапазон цвета \n",
    "    title = 'Доля ущедших клиентов по странам, %', # Заголовок\n",
    "    width = 800, # Ширина\n",
    "    height = 500, # Высота\n",
    "    color_continuous_scale = 'Reds' #палитра цветов       \n",
    ")  \n",
    "fig.show()  # Печатаем"
   ]
  },
  {
   "cell_type": "markdown",
   "id": "ccb3c117",
   "metadata": {},
   "source": [
    "Видим, что это Германия. Возможно, это связано с разделением страны на 2 части, требуется дополнительное исследование этой особенности"
   ]
  },
  {
   "cell_type": "markdown",
   "id": "3626c428",
   "metadata": {},
   "source": [
    "9.10. Переведите числовой признак CreditScore в категориальный. Для этого воспользуйтесь функцией get_credit_score_cat(), которая приведена ниже. Примените её к столбцу CreditScore и создайте новый признак CreditScoreCat — категории кредитного рейтинга."
   ]
  },
  {
   "cell_type": "code",
   "execution_count": 181,
   "id": "85e01c90",
   "metadata": {},
   "outputs": [],
   "source": [
    "def get_credit_score_cat(credit_score):\n",
    "    if credit_score >= 300 and credit_score < 500:\n",
    "        return \"Very_Poor\"\n",
    "    elif credit_score >= 500 and credit_score < 601:\n",
    "        return \"Poor\"\n",
    "    elif credit_score >= 601 and credit_score < 661:\n",
    "        return \"Fair\"\n",
    "    elif credit_score >= 661 and credit_score < 781:\n",
    "        return \"Good\"\n",
    "    elif credit_score >= 781 and credit_score < 851:\n",
    "        return \"Excellent\"\n",
    "    elif credit_score >= 851:\n",
    "        return \"Top\"\n",
    "    elif credit_score < 300:\n",
    "        return \"Deep\""
   ]
  },
  {
   "cell_type": "markdown",
   "id": "372f91c8",
   "metadata": {},
   "source": [
    "Постройте сводную таблицу, строками которой являются категории кредитного рейтинга (CreditScoreCat), а столбцами — количество лет, в течение которых клиент пользуется услугами банка (Tenure). В ячейках сводной таблицы должно находиться среднее по признаку оттока (Exited) — доля ушедших пользователей.\n",
    "\n",
    "На основе полученной сводной таблицы постройте тепловую карту с аннотацией. Найдите на тепловой карте категории клиентов, которые уходят чаще всего."
   ]
  },
  {
   "cell_type": "code",
   "execution_count": 182,
   "id": "f0078b43",
   "metadata": {},
   "outputs": [
    {
     "data": {
      "application/vnd.plotly.v1+json": {
       "config": {
        "plotlyServerURL": "https://plot.ly"
       },
       "data": [
        {
         "coloraxis": "coloraxis",
         "hovertemplate": "Кол-во лет, в течение которых клиент пользуется услугами банка: %{x}<br>Категория кредитного рейтинга клиента: %{y}<br>Доля: %{z}<extra></extra>",
         "name": "0",
         "texttemplate": "%{z}",
         "type": "heatmap",
         "xaxis": "x",
         "y": [
          "Excellent",
          "Fair",
          "Good",
          "Poor",
          "Very_Poor"
         ],
         "yaxis": "y",
         "z": {
          "bdata": "7FG4HoXr0T/hehSuR+HKP+xRuB6F68E/w/UoXI/CxT+kcD0K16PAP3E9CtejcM0/uB6F61G4zj+kcD0K16PAP5qZmZmZmck/SOF6FK5H0T8AAAAAAADQPylcj8L1KMw/KVyPwvUozD/hehSuR+HKPylcj8L1KMw/mpmZmZmZyT/hehSuR+HKP7gehetRuM4/w/UoXI/CxT/hehSuR+HKP1K4HoXrUcg/4XoUrkfhyj+amZmZmZnJP5qZmZmZmck/UrgehetRyD/hehSuR+HKP5qZmZmZmck/4XoUrkfhyj8K16NwPQrHP1K4HoXrUcg/MzMzMzMzwz9SuB6F61HIP5qZmZmZmck/cT0K16NwzT+kcD0K16PQP+F6FK5H4co/4XoUrkfhyj9xPQrXo3DNP5qZmZmZmck/CtejcD0Kxz8zMzMzMzPDP+F6FK5H4co/AAAAAAAA0D/D9Shcj8LFPylcj8L1KNw/AAAAAAAA0D8zMzMzMzPDP4/C9Shcj9I/j8L1KFyP0j8zMzMzMzPDP3E9CtejcM0/4XoUrkfhyj8AAAAAAADQP3E9CtejcM0/H4XrUbge1T8=",
          "dtype": "f8",
          "shape": "5, 11"
         }
        }
       ],
       "layout": {
        "coloraxis": {
         "colorbar": {
          "title": {
           "text": "Доля"
          }
         },
         "colorscale": [
          [
           0,
           "rgb(255,255,229)"
          ],
          [
           0.125,
           "rgb(255,247,188)"
          ],
          [
           0.25,
           "rgb(254,227,145)"
          ],
          [
           0.375,
           "rgb(254,196,79)"
          ],
          [
           0.5,
           "rgb(254,153,41)"
          ],
          [
           0.625,
           "rgb(236,112,20)"
          ],
          [
           0.75,
           "rgb(204,76,2)"
          ],
          [
           0.875,
           "rgb(153,52,4)"
          ],
          [
           1,
           "rgb(102,37,6)"
          ]
         ]
        },
        "height": 600,
        "template": {
         "data": {
          "bar": [
           {
            "error_x": {
             "color": "#2a3f5f"
            },
            "error_y": {
             "color": "#2a3f5f"
            },
            "marker": {
             "line": {
              "color": "#E5ECF6",
              "width": 0.5
             },
             "pattern": {
              "fillmode": "overlay",
              "size": 10,
              "solidity": 0.2
             }
            },
            "type": "bar"
           }
          ],
          "barpolar": [
           {
            "marker": {
             "line": {
              "color": "#E5ECF6",
              "width": 0.5
             },
             "pattern": {
              "fillmode": "overlay",
              "size": 10,
              "solidity": 0.2
             }
            },
            "type": "barpolar"
           }
          ],
          "carpet": [
           {
            "aaxis": {
             "endlinecolor": "#2a3f5f",
             "gridcolor": "white",
             "linecolor": "white",
             "minorgridcolor": "white",
             "startlinecolor": "#2a3f5f"
            },
            "baxis": {
             "endlinecolor": "#2a3f5f",
             "gridcolor": "white",
             "linecolor": "white",
             "minorgridcolor": "white",
             "startlinecolor": "#2a3f5f"
            },
            "type": "carpet"
           }
          ],
          "choropleth": [
           {
            "colorbar": {
             "outlinewidth": 0,
             "ticks": ""
            },
            "type": "choropleth"
           }
          ],
          "contour": [
           {
            "colorbar": {
             "outlinewidth": 0,
             "ticks": ""
            },
            "colorscale": [
             [
              0,
              "#0d0887"
             ],
             [
              0.1111111111111111,
              "#46039f"
             ],
             [
              0.2222222222222222,
              "#7201a8"
             ],
             [
              0.3333333333333333,
              "#9c179e"
             ],
             [
              0.4444444444444444,
              "#bd3786"
             ],
             [
              0.5555555555555556,
              "#d8576b"
             ],
             [
              0.6666666666666666,
              "#ed7953"
             ],
             [
              0.7777777777777778,
              "#fb9f3a"
             ],
             [
              0.8888888888888888,
              "#fdca26"
             ],
             [
              1,
              "#f0f921"
             ]
            ],
            "type": "contour"
           }
          ],
          "contourcarpet": [
           {
            "colorbar": {
             "outlinewidth": 0,
             "ticks": ""
            },
            "type": "contourcarpet"
           }
          ],
          "heatmap": [
           {
            "colorbar": {
             "outlinewidth": 0,
             "ticks": ""
            },
            "colorscale": [
             [
              0,
              "#0d0887"
             ],
             [
              0.1111111111111111,
              "#46039f"
             ],
             [
              0.2222222222222222,
              "#7201a8"
             ],
             [
              0.3333333333333333,
              "#9c179e"
             ],
             [
              0.4444444444444444,
              "#bd3786"
             ],
             [
              0.5555555555555556,
              "#d8576b"
             ],
             [
              0.6666666666666666,
              "#ed7953"
             ],
             [
              0.7777777777777778,
              "#fb9f3a"
             ],
             [
              0.8888888888888888,
              "#fdca26"
             ],
             [
              1,
              "#f0f921"
             ]
            ],
            "type": "heatmap"
           }
          ],
          "histogram": [
           {
            "marker": {
             "pattern": {
              "fillmode": "overlay",
              "size": 10,
              "solidity": 0.2
             }
            },
            "type": "histogram"
           }
          ],
          "histogram2d": [
           {
            "colorbar": {
             "outlinewidth": 0,
             "ticks": ""
            },
            "colorscale": [
             [
              0,
              "#0d0887"
             ],
             [
              0.1111111111111111,
              "#46039f"
             ],
             [
              0.2222222222222222,
              "#7201a8"
             ],
             [
              0.3333333333333333,
              "#9c179e"
             ],
             [
              0.4444444444444444,
              "#bd3786"
             ],
             [
              0.5555555555555556,
              "#d8576b"
             ],
             [
              0.6666666666666666,
              "#ed7953"
             ],
             [
              0.7777777777777778,
              "#fb9f3a"
             ],
             [
              0.8888888888888888,
              "#fdca26"
             ],
             [
              1,
              "#f0f921"
             ]
            ],
            "type": "histogram2d"
           }
          ],
          "histogram2dcontour": [
           {
            "colorbar": {
             "outlinewidth": 0,
             "ticks": ""
            },
            "colorscale": [
             [
              0,
              "#0d0887"
             ],
             [
              0.1111111111111111,
              "#46039f"
             ],
             [
              0.2222222222222222,
              "#7201a8"
             ],
             [
              0.3333333333333333,
              "#9c179e"
             ],
             [
              0.4444444444444444,
              "#bd3786"
             ],
             [
              0.5555555555555556,
              "#d8576b"
             ],
             [
              0.6666666666666666,
              "#ed7953"
             ],
             [
              0.7777777777777778,
              "#fb9f3a"
             ],
             [
              0.8888888888888888,
              "#fdca26"
             ],
             [
              1,
              "#f0f921"
             ]
            ],
            "type": "histogram2dcontour"
           }
          ],
          "mesh3d": [
           {
            "colorbar": {
             "outlinewidth": 0,
             "ticks": ""
            },
            "type": "mesh3d"
           }
          ],
          "parcoords": [
           {
            "line": {
             "colorbar": {
              "outlinewidth": 0,
              "ticks": ""
             }
            },
            "type": "parcoords"
           }
          ],
          "pie": [
           {
            "automargin": true,
            "type": "pie"
           }
          ],
          "scatter": [
           {
            "fillpattern": {
             "fillmode": "overlay",
             "size": 10,
             "solidity": 0.2
            },
            "type": "scatter"
           }
          ],
          "scatter3d": [
           {
            "line": {
             "colorbar": {
              "outlinewidth": 0,
              "ticks": ""
             }
            },
            "marker": {
             "colorbar": {
              "outlinewidth": 0,
              "ticks": ""
             }
            },
            "type": "scatter3d"
           }
          ],
          "scattercarpet": [
           {
            "marker": {
             "colorbar": {
              "outlinewidth": 0,
              "ticks": ""
             }
            },
            "type": "scattercarpet"
           }
          ],
          "scattergeo": [
           {
            "marker": {
             "colorbar": {
              "outlinewidth": 0,
              "ticks": ""
             }
            },
            "type": "scattergeo"
           }
          ],
          "scattergl": [
           {
            "marker": {
             "colorbar": {
              "outlinewidth": 0,
              "ticks": ""
             }
            },
            "type": "scattergl"
           }
          ],
          "scattermap": [
           {
            "marker": {
             "colorbar": {
              "outlinewidth": 0,
              "ticks": ""
             }
            },
            "type": "scattermap"
           }
          ],
          "scattermapbox": [
           {
            "marker": {
             "colorbar": {
              "outlinewidth": 0,
              "ticks": ""
             }
            },
            "type": "scattermapbox"
           }
          ],
          "scatterpolar": [
           {
            "marker": {
             "colorbar": {
              "outlinewidth": 0,
              "ticks": ""
             }
            },
            "type": "scatterpolar"
           }
          ],
          "scatterpolargl": [
           {
            "marker": {
             "colorbar": {
              "outlinewidth": 0,
              "ticks": ""
             }
            },
            "type": "scatterpolargl"
           }
          ],
          "scatterternary": [
           {
            "marker": {
             "colorbar": {
              "outlinewidth": 0,
              "ticks": ""
             }
            },
            "type": "scatterternary"
           }
          ],
          "surface": [
           {
            "colorbar": {
             "outlinewidth": 0,
             "ticks": ""
            },
            "colorscale": [
             [
              0,
              "#0d0887"
             ],
             [
              0.1111111111111111,
              "#46039f"
             ],
             [
              0.2222222222222222,
              "#7201a8"
             ],
             [
              0.3333333333333333,
              "#9c179e"
             ],
             [
              0.4444444444444444,
              "#bd3786"
             ],
             [
              0.5555555555555556,
              "#d8576b"
             ],
             [
              0.6666666666666666,
              "#ed7953"
             ],
             [
              0.7777777777777778,
              "#fb9f3a"
             ],
             [
              0.8888888888888888,
              "#fdca26"
             ],
             [
              1,
              "#f0f921"
             ]
            ],
            "type": "surface"
           }
          ],
          "table": [
           {
            "cells": {
             "fill": {
              "color": "#EBF0F8"
             },
             "line": {
              "color": "white"
             }
            },
            "header": {
             "fill": {
              "color": "#C8D4E3"
             },
             "line": {
              "color": "white"
             }
            },
            "type": "table"
           }
          ]
         },
         "layout": {
          "annotationdefaults": {
           "arrowcolor": "#2a3f5f",
           "arrowhead": 0,
           "arrowwidth": 1
          },
          "autotypenumbers": "strict",
          "coloraxis": {
           "colorbar": {
            "outlinewidth": 0,
            "ticks": ""
           }
          },
          "colorscale": {
           "diverging": [
            [
             0,
             "#8e0152"
            ],
            [
             0.1,
             "#c51b7d"
            ],
            [
             0.2,
             "#de77ae"
            ],
            [
             0.3,
             "#f1b6da"
            ],
            [
             0.4,
             "#fde0ef"
            ],
            [
             0.5,
             "#f7f7f7"
            ],
            [
             0.6,
             "#e6f5d0"
            ],
            [
             0.7,
             "#b8e186"
            ],
            [
             0.8,
             "#7fbc41"
            ],
            [
             0.9,
             "#4d9221"
            ],
            [
             1,
             "#276419"
            ]
           ],
           "sequential": [
            [
             0,
             "#0d0887"
            ],
            [
             0.1111111111111111,
             "#46039f"
            ],
            [
             0.2222222222222222,
             "#7201a8"
            ],
            [
             0.3333333333333333,
             "#9c179e"
            ],
            [
             0.4444444444444444,
             "#bd3786"
            ],
            [
             0.5555555555555556,
             "#d8576b"
            ],
            [
             0.6666666666666666,
             "#ed7953"
            ],
            [
             0.7777777777777778,
             "#fb9f3a"
            ],
            [
             0.8888888888888888,
             "#fdca26"
            ],
            [
             1,
             "#f0f921"
            ]
           ],
           "sequentialminus": [
            [
             0,
             "#0d0887"
            ],
            [
             0.1111111111111111,
             "#46039f"
            ],
            [
             0.2222222222222222,
             "#7201a8"
            ],
            [
             0.3333333333333333,
             "#9c179e"
            ],
            [
             0.4444444444444444,
             "#bd3786"
            ],
            [
             0.5555555555555556,
             "#d8576b"
            ],
            [
             0.6666666666666666,
             "#ed7953"
            ],
            [
             0.7777777777777778,
             "#fb9f3a"
            ],
            [
             0.8888888888888888,
             "#fdca26"
            ],
            [
             1,
             "#f0f921"
            ]
           ]
          },
          "colorway": [
           "#636efa",
           "#EF553B",
           "#00cc96",
           "#ab63fa",
           "#FFA15A",
           "#19d3f3",
           "#FF6692",
           "#B6E880",
           "#FF97FF",
           "#FECB52"
          ],
          "font": {
           "color": "#2a3f5f"
          },
          "geo": {
           "bgcolor": "white",
           "lakecolor": "white",
           "landcolor": "#E5ECF6",
           "showlakes": true,
           "showland": true,
           "subunitcolor": "white"
          },
          "hoverlabel": {
           "align": "left"
          },
          "hovermode": "closest",
          "mapbox": {
           "style": "light"
          },
          "paper_bgcolor": "white",
          "plot_bgcolor": "#E5ECF6",
          "polar": {
           "angularaxis": {
            "gridcolor": "white",
            "linecolor": "white",
            "ticks": ""
           },
           "bgcolor": "#E5ECF6",
           "radialaxis": {
            "gridcolor": "white",
            "linecolor": "white",
            "ticks": ""
           }
          },
          "scene": {
           "xaxis": {
            "backgroundcolor": "#E5ECF6",
            "gridcolor": "white",
            "gridwidth": 2,
            "linecolor": "white",
            "showbackground": true,
            "ticks": "",
            "zerolinecolor": "white"
           },
           "yaxis": {
            "backgroundcolor": "#E5ECF6",
            "gridcolor": "white",
            "gridwidth": 2,
            "linecolor": "white",
            "showbackground": true,
            "ticks": "",
            "zerolinecolor": "white"
           },
           "zaxis": {
            "backgroundcolor": "#E5ECF6",
            "gridcolor": "white",
            "gridwidth": 2,
            "linecolor": "white",
            "showbackground": true,
            "ticks": "",
            "zerolinecolor": "white"
           }
          },
          "shapedefaults": {
           "line": {
            "color": "#2a3f5f"
           }
          },
          "ternary": {
           "aaxis": {
            "gridcolor": "white",
            "linecolor": "white",
            "ticks": ""
           },
           "baxis": {
            "gridcolor": "white",
            "linecolor": "white",
            "ticks": ""
           },
           "bgcolor": "#E5ECF6",
           "caxis": {
            "gridcolor": "white",
            "linecolor": "white",
            "ticks": ""
           }
          },
          "title": {
           "x": 0.05
          },
          "xaxis": {
           "automargin": true,
           "gridcolor": "white",
           "linecolor": "white",
           "ticks": "",
           "title": {
            "standoff": 15
           },
           "zerolinecolor": "white",
           "zerolinewidth": 2
          },
          "yaxis": {
           "automargin": true,
           "gridcolor": "white",
           "linecolor": "white",
           "ticks": "",
           "title": {
            "standoff": 15
           },
           "zerolinecolor": "white",
           "zerolinewidth": 2
          }
         }
        },
        "title": {
         "text": "Зависимость категории кредитного рейтинга клиента от количества лет пользования услугами банка"
        },
        "width": 1000,
        "xaxis": {
         "anchor": "y",
         "domain": [
          0,
          1
         ],
         "title": {
          "text": "Кол-во лет, в течение которых клиент пользуется услугами банка"
         }
        },
        "yaxis": {
         "anchor": "x",
         "autorange": "reversed",
         "domain": [
          0,
          1
         ],
         "title": {
          "text": "Категория кредитного рейтинга клиента"
         }
        }
       }
      }
     },
     "metadata": {},
     "output_type": "display_data"
    }
   ],
   "source": [
    "tmp_df = churn_df.copy()\n",
    "\n",
    "# Создаем категориальный признак\n",
    "tmp_df[\"CreditScoreCat\"] = tmp_df[\"CreditScore\"].apply( lambda x: get_credit_score_cat( x ) ).astype( \"category\" )\n",
    "# Группируем по 2м параметрам\n",
    "df = tmp_df.pivot_table(\n",
    "    index = 'CreditScoreCat',\n",
    "    columns ='Tenure',\n",
    "    values = 'Exited',\n",
    "    fill_value = 0,\n",
    "    aggfunc = 'mean',\n",
    "    observed = True\n",
    ").round(2)\n",
    "\n",
    "# Готовим графику: имеем отображение декартового произведения категорий в число, используем тепловую карту\n",
    "fig = px.imshow( df.values,\n",
    "    title = \"Зависимость категории кредитного рейтинга клиента от количества лет пользования услугами банка\",\n",
    "    aspect = \"auto\",\n",
    "    labels = dict( \n",
    "        x = \"Кол-во лет, в течение которых клиент пользуется услугами банка\", \n",
    "        y = \"Категория кредитного рейтинга клиента\", \n",
    "        color = \"Доля\"\n",
    "    ),\n",
    "    y = df.index.to_list(), # Ось y - Категории\n",
    "    text_auto = True, # Включает отображение значений в ячейках\n",
    "    color_continuous_scale = 'ylorbr', # Цветовая шкала\n",
    "    width = 1000, # Ширина\n",
    "    height = 600  # Высота\n",
    ")\n",
    "fig.show() # Отображаем"
   ]
  }
 ],
 "metadata": {
  "kernelspec": {
   "display_name": "Python 3",
   "language": "python",
   "name": "python3"
  },
  "language_info": {
   "codemirror_mode": {
    "name": "ipython",
    "version": 3
   },
   "file_extension": ".py",
   "mimetype": "text/x-python",
   "name": "python",
   "nbconvert_exporter": "python",
   "pygments_lexer": "ipython3",
   "version": "3.10.11"
  }
 },
 "nbformat": 4,
 "nbformat_minor": 5
}
